{
 "cells": [
  {
   "cell_type": "code",
   "execution_count": 35,
   "metadata": {
    "collapsed": false
   },
   "outputs": [],
   "source": [
    "# coding:utf-8\n",
    "import pymysql.cursors\n",
    "import pandas as pd\n",
    "\n",
    "# Global variables\n",
    "mysql_host = '172.21.1.151'\n",
    "mysql_port = 3306\n",
    "mysql_user = 'xli'\n",
    "mysql_password = '123456'\n",
    "mysql_db = 'kdwtemp2'\n",
    "mysql_charset = 'utf8mb4'\n",
    "\n",
    "def connect_Mysql(tname):\n",
    "    mysqlConnection = pymysql.connect(host=mysql_host,\n",
    "                                      port=mysql_port,\n",
    "                                      user=mysql_user,\n",
    "                                      password=mysql_password,\n",
    "                                      db=mysql_db,\n",
    "                                      charset=mysql_charset)\n",
    "                                      #cursorclass=pymysql.cursors.DictCursor)\n",
    "    try:\n",
    "        #with mysqlConnection.cursor() as cur:\n",
    "        sql = 'SELECT * FROM ' + tname + ' LIMIT 10'\n",
    "        df = pd.read_sql(sql,mysqlConnection)\n",
    "        return df\n",
    "    except:\n",
    "        mysqlConnection.close()\n"
   ]
  },
  {
   "cell_type": "code",
   "execution_count": 38,
   "metadata": {
    "collapsed": false
   },
   "outputs": [
    {
     "name": "stdout",
     "output_type": "stream",
     "text": [
      "     SongID             SongName LanguageType         songsterName SongType  \\\n",
      "0  00000002              ヒマワリと星屑           日语                东京女子流     流行歌曲   \n",
      "1  00000003               シンジテミル           日语                MAY N     流行歌曲   \n",
      "2  00000004                ジャンピン           日语                 KARA     流行歌曲   \n",
      "3  00000005              いつだって君に           日语                 东方神起     流行歌曲   \n",
      "4  00000006  Why Is It Like This           韩语                 FOXY     流行歌曲   \n",
      "5  00000007        We R Who We R           英语                KESHA     流行歌曲   \n",
      "6  00000008  The Sky's The Limit           英语         JASON DERULO     流行歌曲   \n",
      "7  00000009            The Girls           英语        CALVIN HARRIS     流行歌曲   \n",
      "8  00000010      Take A Load Off           英语  STONE TEMPLE PILOTS     流行歌曲   \n",
      "9  00000011     Somebody To Love           英语   Justin biebe,Usher     流行歌曲   \n",
      "\n",
      "   SongTypeID1  SongTypeID2  SongTypeID3  SongTypeID4  PlayNum  IsGrand  \\\n",
      "0            1           -1           -1           -1      967        1   \n",
      "1            1           -1           -1           -1      210        1   \n",
      "2            1           -1           -1           -1      290        1   \n",
      "3            1           -1           -1           -1      656        1   \n",
      "4            1           -1           -1           -1      201        1   \n",
      "5            1           -1           -1           -1     1912        1   \n",
      "6            1           -1           -1           -1     3479        1   \n",
      "7            1           -1           -1           -1     1958        1   \n",
      "8            1           -1           -1           -1     2429        1   \n",
      "9            1           -1           -1           -1     3467        1   \n",
      "\n",
      "   IsMShow      LastUpdateTime  IsSpecial  AppPlayNum MediaType SongVersion  \\\n",
      "0        0 2012-11-26 11:02:59          0        7361    ﻿MUSIC         演唱会   \n",
      "1        0 2012-11-26 11:02:59          0        4882     MUSIC         MTV   \n",
      "2        0 2012-11-26 11:02:59          0        3589     MUSIC         MTV   \n",
      "3        0 2012-11-26 11:02:59          0        2789     MUSIC         MTV   \n",
      "4        0 2012-11-26 11:02:59          0        2159     MUSIC         MTV   \n",
      "5        0 2012-11-26 11:02:59          0        2543     MUSIC          高清   \n",
      "6        0 2012-11-26 11:02:59          0        1251     MUSIC         MTV   \n",
      "7        0 2012-11-26 11:02:59          0        1192     MUSIC         MTV   \n",
      "8        0 2012-11-26 11:02:59          0         887     MUSIC         演唱会   \n",
      "9        0 2012-11-26 11:02:59          0        1385     MUSIC          高清   \n",
      "\n",
      "  TotalQuality  \n",
      "0            好  \n",
      "1            好  \n",
      "2            好  \n",
      "3            好  \n",
      "4            中  \n",
      "5            好  \n",
      "6            好  \n",
      "7            好  \n",
      "8            好  \n",
      "9            好  \n"
     ]
    }
   ],
   "source": [
    "connect_Mysql('kdw_tbl_song')"
   ]
  },
  {
   "cell_type": "code",
   "execution_count": null,
   "metadata": {
    "collapsed": true
   },
   "outputs": [],
   "source": []
  }
 ],
 "metadata": {
  "kernelspec": {
   "display_name": "Python 2",
   "language": "python",
   "name": "python2"
  },
  "language_info": {
   "codemirror_mode": {
    "name": "ipython",
    "version": 2
   },
   "file_extension": ".py",
   "mimetype": "text/x-python",
   "name": "python",
   "nbconvert_exporter": "python",
   "pygments_lexer": "ipython2",
   "version": "2.7.11"
  }
 },
 "nbformat": 4,
 "nbformat_minor": 0
}
