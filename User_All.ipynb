{
 "cells": [
  {
   "cell_type": "code",
   "execution_count": 1,
   "metadata": {
    "collapsed": true
   },
   "outputs": [],
   "source": [
    "# coding:utf-8\n",
    "\"\"\"\n",
    "本篇为user_all(),从数据库中读取所有暂存的中间表，连接所有分表，得到用户基础信息的宽表\n",
    "\"\"\"\n",
    "import pandas as pd\n",
    "import numpy as np\n",
    "from impala.dbapi import connect\n",
    "from impala.util import as_pandas\n",
    "import cPickle\n",
    "import re\n",
    "import datetime as dt\n",
    "import pymysql.cursors\n",
    "\n",
    "# Global variables\n",
    "mysql_host = '172.21.1.151'\n",
    "mysql_port = 3306\n",
    "mysql_user = 'xli'\n",
    "mysql_password = '123456'\n",
    "mysql_db = 'kdwtemp2'\n",
    "mysql_charset = 'utf8mb4'"
   ]
  },
  {
   "cell_type": "code",
   "execution_count": 19,
   "metadata": {
    "collapsed": true
   },
   "outputs": [],
   "source": [
    "#     # 1. 读取user_info结果表\n",
    "#     sql = 'SELECT * FROM ljl_user_info'\n",
    "#     user_info = pd.read_sql(sql,conn)\n",
    "    \n",
    "#     # 2. 读取get_coupon\n",
    "#     sql = 'SELECT * FROM ljl_get_coupon'\n",
    "#     get_coupon = pd.read_sql(sql,conn)\n",
    "#     df = pd.merge(get_coupon,user_info,how='left',left_on='customerid',right_on='customerid')\n",
    "    \n",
    "#     conn.close()\n",
    "#     return df\n",
    "\n",
    "#     # 3.读取use_coupon\n",
    "#     sql = 'SELECT * FROM ljl_use_coupon'\n",
    "#     use_coupon = pd.read_sql(sql,conn)\n",
    "    \n",
    "#     # 4. 读取destine\n",
    "#     sql = 'SELECT * FROM ljl_destine'\n",
    "#     destine = pd.read_sql(sql,conn)\n",
    "    \n",
    "#     # 5. 读取tag_age_from_song\n",
    "#     sql = 'SELECT * FROM ljl_tag_age_from_song'\n",
    "#     tag_age_from_song = pd.read_sql(sql,conn)\n",
    "    \n",
    "#     # 6. 读取shop\n",
    "#     sql = 'SELECT * FROM ljl_shop'\n",
    "#     shop = pd.read_sql(sql,conn)\n",
    "    "
   ]
  },
  {
   "cell_type": "markdown",
   "metadata": {},
   "source": [
    "# 1. 读取user_info结果表"
   ]
  },
  {
   "cell_type": "code",
   "execution_count": 2,
   "metadata": {
    "collapsed": true
   },
   "outputs": [],
   "source": [
    "#def user_all():\n",
    "# 连接数据库以读取中间表\n",
    "conn = pymysql.connect(host=mysql_host,\n",
    "                                  port=mysql_port,\n",
    "                                  user=mysql_user,\n",
    "                                  password=mysql_password,\n",
    "                                  db=mysql_db,\n",
    "                                  charset=mysql_charset)\n",
    "#     cur = conn.cursor()\n",
    "#     sql = \"\"\"CREATE TABLE ljl_all_user as（SELECT ljl_user_info.*,ljl_get_coupon.coupon_get_cnt,ljl_get_coupon.coupon_get_sum,ljl_get_coupon.source_company_id,\n",
    "#     ljl_get_coupon.source_company_cnt,ljl_get_coupon.get_coupon_type_cnt,ljl_get_coupon.get_com_roomnum,ljl_get_coupon.get_com_regioncode,\n",
    "#     ljl_get_coupon.get_com_managetype,ljl_get_coupon.get_com_vodsystemtype,ljl_get_coupon.get_coupon_crosscom\n",
    "#             FROM ljl_user_info LEFT OUTER JOIN ljl_get_coupon\n",
    "#             on ljl_user_info.customerid=ljl_get_coupon.customerid）\"\"\"\n",
    "#     cur.execute(sql)\n",
    "#     cur.close()\n",
    "# 1. 读取user_info结果表\n",
    "sql = 'SELECT * FROM ljl_user_info'\n",
    "user_info = pd.read_sql(sql,conn)\n",
    "\n",
    "#     # 2. 读取get_coupon\n",
    "#     sql = 'SELECT * FROM ljl_get_coupon'\n",
    "#     get_coupon = pd.read_sql(sql,conn)\n",
    "#     df = pd.merge(get_coupon,user_info,how='left',left_on='customerid',right_on='customerid')\n",
    "# conn.close()\n",
    "# return user_info"
   ]
  },
  {
   "cell_type": "code",
   "execution_count": 3,
   "metadata": {
    "collapsed": false
   },
   "outputs": [
    {
     "name": "stdout",
     "output_type": "stream",
     "text": [
      "<class 'pandas.core.frame.DataFrame'>\n",
      "Int64Index: 475776 entries, 0 to 475775\n",
      "Data columns (total 20 columns):\n",
      "customerid                      475776 non-null object\n",
      "registertime                    368275 non-null object\n",
      "customer_status                 368275 non-null object\n",
      "openid                          195848 non-null object\n",
      "wechat_sex                      81738 non-null object\n",
      "wechat_city                     81738 non-null object\n",
      "wechat_province                 81738 non-null object\n",
      "wechat_country                  81738 non-null object\n",
      "kmid                            107657 non-null object\n",
      "member_birthday                 15559 non-null float64\n",
      "km_sex                          15559 non-null float64\n",
      "accountcash                     15559 non-null object\n",
      "accountbalance                  15559 non-null object\n",
      "integralbalance                 15559 non-null object\n",
      "consumetotal                    15559 non-null object\n",
      "consumetimes                    15559 non-null object\n",
      "member_age_cut                  15559 non-null object\n",
      "lastconsume_diff_create_day     15559 non-null float64\n",
      "lastconsume_diff_create_hour    15559 non-null float64\n",
      "lastconsume_diff_now            15559 non-null float64\n",
      "dtypes: float64(5), object(15)\n",
      "memory usage: 76.2+ MB\n"
     ]
    }
   ],
   "source": [
    "user_info.info()"
   ]
  },
  {
   "cell_type": "markdown",
   "metadata": {},
   "source": [
    "# 2. 和get_coupon merge"
   ]
  },
  {
   "cell_type": "code",
   "execution_count": 4,
   "metadata": {
    "collapsed": false
   },
   "outputs": [],
   "source": [
    "# 2. 读取get_coupon\n",
    "sql = 'SELECT * FROM ljl_get_coupon'\n",
    "get_coupon = pd.read_sql(sql,conn)"
   ]
  },
  {
   "cell_type": "code",
   "execution_count": 5,
   "metadata": {
    "collapsed": false
   },
   "outputs": [
    {
     "name": "stdout",
     "output_type": "stream",
     "text": [
      "<class 'pandas.core.frame.DataFrame'>\n",
      "Int64Index: 145904 entries, 0 to 145903\n",
      "Data columns (total 11 columns):\n",
      "customerid               145083 non-null object\n",
      "coupon_get_cnt           145083 non-null float64\n",
      "coupon_get_sum           145083 non-null float64\n",
      "source_company_id        145904 non-null object\n",
      "source_company_cnt       145083 non-null float64\n",
      "get_coupon_type_cnt      145083 non-null float64\n",
      "get_com_roomnum          102154 non-null object\n",
      "get_com_regioncode       102154 non-null object\n",
      "get_com_managetype       102154 non-null object\n",
      "get_com_vodsystemtype    102154 non-null object\n",
      "get_coupon_crosscom      145904 non-null int64\n",
      "dtypes: float64(4), int64(1), object(6)\n",
      "memory usage: 13.4+ MB\n"
     ]
    }
   ],
   "source": [
    "get_coupon.info()"
   ]
  },
  {
   "cell_type": "code",
   "execution_count": 52,
   "metadata": {
    "collapsed": false
   },
   "outputs": [
    {
     "data": {
      "text/plain": [
       "145083"
      ]
     },
     "execution_count": 52,
     "metadata": {},
     "output_type": "execute_result"
    }
   ],
   "source": [
    "len(pd.value_counts(get_coupon['customerid']))"
   ]
  },
  {
   "cell_type": "markdown",
   "metadata": {},
   "source": [
    "### 去除customerid为空的行"
   ]
  },
  {
   "cell_type": "code",
   "execution_count": 56,
   "metadata": {
    "collapsed": false
   },
   "outputs": [],
   "source": [
    "get_coupon = get_coupon[get_coupon['customerid'].notnull()]"
   ]
  },
  {
   "cell_type": "code",
   "execution_count": 57,
   "metadata": {
    "collapsed": false
   },
   "outputs": [
    {
     "name": "stdout",
     "output_type": "stream",
     "text": [
      "<class 'pandas.core.frame.DataFrame'>\n",
      "Int64Index: 145083 entries, 0 to 145082\n",
      "Data columns (total 11 columns):\n",
      "customerid               145083 non-null object\n",
      "coupon_get_cnt           145083 non-null float64\n",
      "coupon_get_sum           145083 non-null float64\n",
      "source_company_id        145083 non-null object\n",
      "source_company_cnt       145083 non-null float64\n",
      "get_coupon_type_cnt      145083 non-null float64\n",
      "get_com_roomnum          101333 non-null object\n",
      "get_com_regioncode       101333 non-null object\n",
      "get_com_managetype       101333 non-null object\n",
      "get_com_vodsystemtype    101333 non-null object\n",
      "get_coupon_crosscom      145083 non-null int64\n",
      "dtypes: float64(4), int64(1), object(6)\n",
      "memory usage: 13.3+ MB\n"
     ]
    }
   ],
   "source": [
    "get_coupon.info()"
   ]
  },
  {
   "cell_type": "code",
   "execution_count": 58,
   "metadata": {
    "collapsed": false
   },
   "outputs": [],
   "source": [
    "df = pd.merge(user_info,get_coupon,how='outer',left_on='customerid',right_on='customerid')"
   ]
  },
  {
   "cell_type": "code",
   "execution_count": 59,
   "metadata": {
    "collapsed": false
   },
   "outputs": [
    {
     "name": "stdout",
     "output_type": "stream",
     "text": [
      "<class 'pandas.core.frame.DataFrame'>\n",
      "Int64Index: 490276 entries, 0 to 490275\n",
      "Data columns (total 30 columns):\n",
      "customerid                      490276 non-null object\n",
      "registertime                    368275 non-null object\n",
      "customer_status                 368275 non-null object\n",
      "openid                          195848 non-null object\n",
      "wechat_sex                      81738 non-null object\n",
      "wechat_city                     81738 non-null object\n",
      "wechat_province                 81738 non-null object\n",
      "wechat_country                  81738 non-null object\n",
      "kmid                            107657 non-null object\n",
      "member_birthday                 15559 non-null float64\n",
      "km_sex                          15559 non-null float64\n",
      "accountcash                     15559 non-null object\n",
      "accountbalance                  15559 non-null object\n",
      "integralbalance                 15559 non-null object\n",
      "consumetotal                    15559 non-null object\n",
      "consumetimes                    15559 non-null object\n",
      "member_age_cut                  15559 non-null object\n",
      "lastconsume_diff_create_day     15559 non-null float64\n",
      "lastconsume_diff_create_hour    15559 non-null float64\n",
      "lastconsume_diff_now            15559 non-null float64\n",
      "coupon_get_cnt                  145083 non-null float64\n",
      "coupon_get_sum                  145083 non-null float64\n",
      "source_company_id               145083 non-null object\n",
      "source_company_cnt              145083 non-null float64\n",
      "get_coupon_type_cnt             145083 non-null float64\n",
      "get_com_roomnum                 101333 non-null object\n",
      "get_com_regioncode              101333 non-null object\n",
      "get_com_managetype              101333 non-null object\n",
      "get_com_vodsystemtype           101333 non-null object\n",
      "get_coupon_crosscom             145083 non-null float64\n",
      "dtypes: float64(10), object(20)\n",
      "memory usage: 116.0+ MB\n"
     ]
    }
   ],
   "source": [
    "df.info()"
   ]
  },
  {
   "cell_type": "code",
   "execution_count": 60,
   "metadata": {
    "collapsed": false
   },
   "outputs": [
    {
     "data": {
      "text/plain": [
       "490276"
      ]
     },
     "execution_count": 60,
     "metadata": {},
     "output_type": "execute_result"
    }
   ],
   "source": [
    "len(pd.value_counts(df['customerid']))"
   ]
  },
  {
   "cell_type": "code",
   "execution_count": 61,
   "metadata": {
    "collapsed": false
   },
   "outputs": [
    {
     "data": {
      "text/plain": [
       "107657"
      ]
     },
     "execution_count": 61,
     "metadata": {},
     "output_type": "execute_result"
    }
   ],
   "source": [
    "len(pd.value_counts(df['kmid']))"
   ]
  },
  {
   "cell_type": "code",
   "execution_count": 62,
   "metadata": {
    "collapsed": false
   },
   "outputs": [
    {
     "data": {
      "text/plain": [
       "195848"
      ]
     },
     "execution_count": 62,
     "metadata": {},
     "output_type": "execute_result"
    }
   ],
   "source": [
    "len(pd.value_counts(df['openid']))"
   ]
  },
  {
   "cell_type": "code",
   "execution_count": 63,
   "metadata": {
    "collapsed": false
   },
   "outputs": [
    {
     "data": {
      "text/plain": [
       "(490276, 30)"
      ]
     },
     "execution_count": 63,
     "metadata": {},
     "output_type": "execute_result"
    }
   ],
   "source": [
    "df.shape"
   ]
  },
  {
   "cell_type": "markdown",
   "metadata": {},
   "source": [
    "# 3. 和use_coupon表连"
   ]
  },
  {
   "cell_type": "code",
   "execution_count": 64,
   "metadata": {
    "collapsed": false
   },
   "outputs": [],
   "source": [
    "sql = 'SELECT * FROM ljl_use_coupon'\n",
    "use_coupon = pd.read_sql(sql,conn)"
   ]
  },
  {
   "cell_type": "code",
   "execution_count": 65,
   "metadata": {
    "collapsed": false
   },
   "outputs": [
    {
     "name": "stdout",
     "output_type": "stream",
     "text": [
      "<class 'pandas.core.frame.DataFrame'>\n",
      "Int64Index: 37383 entries, 0 to 37382\n",
      "Data columns (total 6 columns):\n",
      "customerid              37383 non-null object\n",
      "use_coupon_sum          37383 non-null float64\n",
      "use_coupon_order_sum    37383 non-null float64\n",
      "use_coupon_type_cnt     37383 non-null int64\n",
      "use_company_id          37383 non-null object\n",
      "use_company_cnt         37383 non-null int64\n",
      "dtypes: float64(2), int64(2), object(2)\n",
      "memory usage: 2.0+ MB\n"
     ]
    }
   ],
   "source": [
    "use_coupon.info()"
   ]
  },
  {
   "cell_type": "code",
   "execution_count": 66,
   "metadata": {
    "collapsed": false
   },
   "outputs": [
    {
     "data": {
      "text/plain": [
       "37383"
      ]
     },
     "execution_count": 66,
     "metadata": {},
     "output_type": "execute_result"
    }
   ],
   "source": [
    "len(pd.value_counts(use_coupon['customerid']))"
   ]
  },
  {
   "cell_type": "code",
   "execution_count": 67,
   "metadata": {
    "collapsed": true
   },
   "outputs": [],
   "source": [
    "df1 = pd.merge(df,use_coupon,how='outer',left_on='customerid',right_on='customerid')"
   ]
  },
  {
   "cell_type": "code",
   "execution_count": 68,
   "metadata": {
    "collapsed": false
   },
   "outputs": [
    {
     "data": {
      "text/plain": [
       "(490627, 35)"
      ]
     },
     "execution_count": 68,
     "metadata": {},
     "output_type": "execute_result"
    }
   ],
   "source": [
    "df1.shape"
   ]
  },
  {
   "cell_type": "code",
   "execution_count": 69,
   "metadata": {
    "collapsed": false
   },
   "outputs": [
    {
     "name": "stdout",
     "output_type": "stream",
     "text": [
      "<class 'pandas.core.frame.DataFrame'>\n",
      "Int64Index: 490627 entries, 0 to 490626\n",
      "Data columns (total 35 columns):\n",
      "customerid                      490627 non-null object\n",
      "registertime                    368275 non-null object\n",
      "customer_status                 368275 non-null object\n",
      "openid                          195848 non-null object\n",
      "wechat_sex                      81738 non-null object\n",
      "wechat_city                     81738 non-null object\n",
      "wechat_province                 81738 non-null object\n",
      "wechat_country                  81738 non-null object\n",
      "kmid                            107657 non-null object\n",
      "member_birthday                 15559 non-null float64\n",
      "km_sex                          15559 non-null float64\n",
      "accountcash                     15559 non-null object\n",
      "accountbalance                  15559 non-null object\n",
      "integralbalance                 15559 non-null object\n",
      "consumetotal                    15559 non-null object\n",
      "consumetimes                    15559 non-null object\n",
      "member_age_cut                  15559 non-null object\n",
      "lastconsume_diff_create_day     15559 non-null float64\n",
      "lastconsume_diff_create_hour    15559 non-null float64\n",
      "lastconsume_diff_now            15559 non-null float64\n",
      "coupon_get_cnt                  145083 non-null float64\n",
      "coupon_get_sum                  145083 non-null float64\n",
      "source_company_id               145083 non-null object\n",
      "source_company_cnt              145083 non-null float64\n",
      "get_coupon_type_cnt             145083 non-null float64\n",
      "get_com_roomnum                 101333 non-null object\n",
      "get_com_regioncode              101333 non-null object\n",
      "get_com_managetype              101333 non-null object\n",
      "get_com_vodsystemtype           101333 non-null object\n",
      "get_coupon_crosscom             145083 non-null float64\n",
      "use_coupon_sum                  37383 non-null float64\n",
      "use_coupon_order_sum            37383 non-null float64\n",
      "use_coupon_type_cnt             37383 non-null float64\n",
      "use_company_id                  37383 non-null object\n",
      "use_company_cnt                 37383 non-null float64\n",
      "dtypes: float64(14), object(21)\n",
      "memory usage: 134.8+ MB\n"
     ]
    }
   ],
   "source": [
    "df1.info()"
   ]
  },
  {
   "cell_type": "code",
   "execution_count": 70,
   "metadata": {
    "collapsed": false
   },
   "outputs": [
    {
     "data": {
      "text/plain": [
       "490627"
      ]
     },
     "execution_count": 70,
     "metadata": {},
     "output_type": "execute_result"
    }
   ],
   "source": [
    "len(pd.value_counts(df1['customerid']))"
   ]
  },
  {
   "cell_type": "markdown",
   "metadata": {},
   "source": [
    "# 4. 和destine表连"
   ]
  },
  {
   "cell_type": "code",
   "execution_count": 21,
   "metadata": {
    "collapsed": true
   },
   "outputs": [],
   "source": [
    "sql = 'SELECT * FROM ljl_destine'\n",
    "destine = pd.read_sql(sql,conn)"
   ]
  },
  {
   "cell_type": "code",
   "execution_count": 22,
   "metadata": {
    "collapsed": false
   },
   "outputs": [
    {
     "name": "stdout",
     "output_type": "stream",
     "text": [
      "<class 'pandas.core.frame.DataFrame'>\n",
      "Int64Index: 1174 entries, 0 to 1173\n",
      "Data columns (total 43 columns):\n",
      "customerid                          1174 non-null object\n",
      "des_cnt                             1174 non-null int64\n",
      "des_charge_sum                      1174 non-null float64\n",
      "des_procharge_sum                   1174 non-null float64\n",
      "des_reduce_sum                      1174 non-null float64\n",
      "des_realcharge_sum                  1174 non-null float64\n",
      "des_workday_cnt                     1174 non-null int64\n",
      "des_weekend_cnt                     1174 non-null int64\n",
      "des_work_realchargesum              1174 non-null float64\n",
      "des_weekend_realchargesum           1174 non-null float64\n",
      "des_charge_mean                     1174 non-null float64\n",
      "des_realcharge_mean                 1174 non-null float64\n",
      "des_guestnumber_mean                1174 non-null float64\n",
      "des_guestnumber_max                 1174 non-null float64\n",
      "des_guestnumber_min                 1174 non-null float64\n",
      "des_charge_max                      1174 non-null float64\n",
      "des_charge_min                      1174 non-null float64\n",
      "des_realcharge_max                  1174 non-null float64\n",
      "des_realcharge_min                  1174 non-null float64\n",
      "use_time_sum                        1174 non-null int64\n",
      "des_beforedawn_cnt                  1174 non-null int64\n",
      "des_morning_cnt                     1174 non-null int64\n",
      "des_afternoon_cnt                   1174 non-null int64\n",
      "des_night_cnt                       1174 non-null int64\n",
      "des_use_beforedawn_cnt              1174 non-null int64\n",
      "des_use_morning_cnt                 1174 non-null int64\n",
      "des_use_afternoon_cnt               1174 non-null int64\n",
      "des_use_night_cnt                   1174 non-null int64\n",
      "des_use_beforedawn_realchargesum    1174 non-null float64\n",
      "des_use_morning_realchargesum       1174 non-null float64\n",
      "des_use_afternoon_realchargesum     1174 non-null float64\n",
      "des_use_night_realchargesum         1174 non-null float64\n",
      "des_use_reg                         1174 non-null float64\n",
      "des_companyid                       1174 non-null object\n",
      "des_company_cnt                     1174 non-null int64\n",
      "des_com_roomnum                     240 non-null object\n",
      "des_com_managetype                  240 non-null object\n",
      "des_com_vodsystemtype               240 non-null object\n",
      "des_com_regioncode                  240 non-null object\n",
      "des_large_cnt                       1174 non-null int64\n",
      "des_medium_cnt                      1174 non-null int64\n",
      "des_small_cnt                       1174 non-null int64\n",
      "des_reduce_cnt                      1174 non-null int64\n",
      "dtypes: float64(20), int64(17), object(6)\n",
      "memory usage: 403.6+ KB\n"
     ]
    }
   ],
   "source": [
    "destine.info()"
   ]
  },
  {
   "cell_type": "code",
   "execution_count": 71,
   "metadata": {
    "collapsed": true
   },
   "outputs": [],
   "source": [
    "df2 = pd.merge(df1,destine,how='outer',left_on='customerid',right_on='customerid')"
   ]
  },
  {
   "cell_type": "code",
   "execution_count": 72,
   "metadata": {
    "collapsed": false
   },
   "outputs": [
    {
     "name": "stdout",
     "output_type": "stream",
     "text": [
      "<class 'pandas.core.frame.DataFrame'>\n",
      "Int64Index: 490896 entries, 0 to 490895\n",
      "Data columns (total 77 columns):\n",
      "customerid                          490896 non-null object\n",
      "registertime                        368275 non-null object\n",
      "customer_status                     368275 non-null object\n",
      "openid                              195848 non-null object\n",
      "wechat_sex                          81738 non-null object\n",
      "wechat_city                         81738 non-null object\n",
      "wechat_province                     81738 non-null object\n",
      "wechat_country                      81738 non-null object\n",
      "kmid                                107657 non-null object\n",
      "member_birthday                     15559 non-null float64\n",
      "km_sex                              15559 non-null float64\n",
      "accountcash                         15559 non-null object\n",
      "accountbalance                      15559 non-null object\n",
      "integralbalance                     15559 non-null object\n",
      "consumetotal                        15559 non-null object\n",
      "consumetimes                        15559 non-null object\n",
      "member_age_cut                      15559 non-null object\n",
      "lastconsume_diff_create_day         15559 non-null float64\n",
      "lastconsume_diff_create_hour        15559 non-null float64\n",
      "lastconsume_diff_now                15559 non-null float64\n",
      "coupon_get_cnt                      145083 non-null float64\n",
      "coupon_get_sum                      145083 non-null float64\n",
      "source_company_id                   145083 non-null object\n",
      "source_company_cnt                  145083 non-null float64\n",
      "get_coupon_type_cnt                 145083 non-null float64\n",
      "get_com_roomnum                     101333 non-null object\n",
      "get_com_regioncode                  101333 non-null object\n",
      "get_com_managetype                  101333 non-null object\n",
      "get_com_vodsystemtype               101333 non-null object\n",
      "get_coupon_crosscom                 145083 non-null float64\n",
      "use_coupon_sum                      37383 non-null float64\n",
      "use_coupon_order_sum                37383 non-null float64\n",
      "use_coupon_type_cnt                 37383 non-null float64\n",
      "use_company_id                      37383 non-null object\n",
      "use_company_cnt                     37383 non-null float64\n",
      "des_cnt                             1174 non-null float64\n",
      "des_charge_sum                      1174 non-null float64\n",
      "des_procharge_sum                   1174 non-null float64\n",
      "des_reduce_sum                      1174 non-null float64\n",
      "des_realcharge_sum                  1174 non-null float64\n",
      "des_workday_cnt                     1174 non-null float64\n",
      "des_weekend_cnt                     1174 non-null float64\n",
      "des_work_realchargesum              1174 non-null float64\n",
      "des_weekend_realchargesum           1174 non-null float64\n",
      "des_charge_mean                     1174 non-null float64\n",
      "des_realcharge_mean                 1174 non-null float64\n",
      "des_guestnumber_mean                1174 non-null float64\n",
      "des_guestnumber_max                 1174 non-null float64\n",
      "des_guestnumber_min                 1174 non-null float64\n",
      "des_charge_max                      1174 non-null float64\n",
      "des_charge_min                      1174 non-null float64\n",
      "des_realcharge_max                  1174 non-null float64\n",
      "des_realcharge_min                  1174 non-null float64\n",
      "use_time_sum                        1174 non-null float64\n",
      "des_beforedawn_cnt                  1174 non-null float64\n",
      "des_morning_cnt                     1174 non-null float64\n",
      "des_afternoon_cnt                   1174 non-null float64\n",
      "des_night_cnt                       1174 non-null float64\n",
      "des_use_beforedawn_cnt              1174 non-null float64\n",
      "des_use_morning_cnt                 1174 non-null float64\n",
      "des_use_afternoon_cnt               1174 non-null float64\n",
      "des_use_night_cnt                   1174 non-null float64\n",
      "des_use_beforedawn_realchargesum    1174 non-null float64\n",
      "des_use_morning_realchargesum       1174 non-null float64\n",
      "des_use_afternoon_realchargesum     1174 non-null float64\n",
      "des_use_night_realchargesum         1174 non-null float64\n",
      "des_use_reg                         1174 non-null float64\n",
      "des_companyid                       1174 non-null object\n",
      "des_company_cnt                     1174 non-null float64\n",
      "des_com_roomnum                     240 non-null object\n",
      "des_com_managetype                  240 non-null object\n",
      "des_com_vodsystemtype               240 non-null object\n",
      "des_com_regioncode                  240 non-null object\n",
      "des_large_cnt                       1174 non-null float64\n",
      "des_medium_cnt                      1174 non-null float64\n",
      "des_small_cnt                       1174 non-null float64\n",
      "des_reduce_cnt                      1174 non-null float64\n",
      "dtypes: float64(51), object(26)\n",
      "memory usage: 292.1+ MB\n"
     ]
    }
   ],
   "source": [
    "df2.info()"
   ]
  },
  {
   "cell_type": "code",
   "execution_count": 73,
   "metadata": {
    "collapsed": false
   },
   "outputs": [
    {
     "data": {
      "text/plain": [
       "490896"
      ]
     },
     "execution_count": 73,
     "metadata": {},
     "output_type": "execute_result"
    }
   ],
   "source": [
    "len(pd.value_counts(df2['customerid']))"
   ]
  },
  {
   "cell_type": "markdown",
   "metadata": {},
   "source": [
    "# 5. 和tag_age_from_song表连"
   ]
  },
  {
   "cell_type": "code",
   "execution_count": 26,
   "metadata": {
    "collapsed": true
   },
   "outputs": [],
   "source": [
    "sql = 'SELECT * FROM ljl_tag_age_from_song'\n",
    "tag_age_song = pd.read_sql(sql,conn)"
   ]
  },
  {
   "cell_type": "code",
   "execution_count": 27,
   "metadata": {
    "collapsed": false
   },
   "outputs": [
    {
     "name": "stdout",
     "output_type": "stream",
     "text": [
      "<class 'pandas.core.frame.DataFrame'>\n",
      "Int64Index: 6734 entries, 0 to 6733\n",
      "Data columns (total 6 columns):\n",
      "customerid       6734 non-null object\n",
      "songid           6734 non-null object\n",
      "song_play_cnt    6734 non-null int64\n",
      "year             2300 non-null float64\n",
      "age_year         2300 non-null float64\n",
      "age_lan          6619 non-null float64\n",
      "dtypes: float64(3), int64(1), object(2)\n",
      "memory usage: 368.3+ KB\n"
     ]
    }
   ],
   "source": [
    "tag_age_song.info()"
   ]
  },
  {
   "cell_type": "code",
   "execution_count": 76,
   "metadata": {
    "collapsed": true
   },
   "outputs": [],
   "source": [
    "df3 = pd.merge(df2,tag_age_song,how='outer',left_on='customerid',right_on='customerid')"
   ]
  },
  {
   "cell_type": "code",
   "execution_count": 77,
   "metadata": {
    "collapsed": false
   },
   "outputs": [
    {
     "name": "stdout",
     "output_type": "stream",
     "text": [
      "<class 'pandas.core.frame.DataFrame'>\n",
      "Int64Index: 497586 entries, 0 to 497585\n",
      "Data columns (total 82 columns):\n",
      "customerid                          497586 non-null object\n",
      "registertime                        368275 non-null object\n",
      "customer_status                     368275 non-null object\n",
      "openid                              195848 non-null object\n",
      "wechat_sex                          81738 non-null object\n",
      "wechat_city                         81738 non-null object\n",
      "wechat_province                     81738 non-null object\n",
      "wechat_country                      81738 non-null object\n",
      "kmid                                107657 non-null object\n",
      "member_birthday                     15559 non-null float64\n",
      "km_sex                              15559 non-null float64\n",
      "accountcash                         15559 non-null object\n",
      "accountbalance                      15559 non-null object\n",
      "integralbalance                     15559 non-null object\n",
      "consumetotal                        15559 non-null object\n",
      "consumetimes                        15559 non-null object\n",
      "member_age_cut                      15559 non-null object\n",
      "lastconsume_diff_create_day         15559 non-null float64\n",
      "lastconsume_diff_create_hour        15559 non-null float64\n",
      "lastconsume_diff_now                15559 non-null float64\n",
      "coupon_get_cnt                      145083 non-null float64\n",
      "coupon_get_sum                      145083 non-null float64\n",
      "source_company_id                   145083 non-null object\n",
      "source_company_cnt                  145083 non-null float64\n",
      "get_coupon_type_cnt                 145083 non-null float64\n",
      "get_com_roomnum                     101333 non-null object\n",
      "get_com_regioncode                  101333 non-null object\n",
      "get_com_managetype                  101333 non-null object\n",
      "get_com_vodsystemtype               101333 non-null object\n",
      "get_coupon_crosscom                 145083 non-null float64\n",
      "use_coupon_sum                      37383 non-null float64\n",
      "use_coupon_order_sum                37383 non-null float64\n",
      "use_coupon_type_cnt                 37383 non-null float64\n",
      "use_company_id                      37383 non-null object\n",
      "use_company_cnt                     37383 non-null float64\n",
      "des_cnt                             1174 non-null float64\n",
      "des_charge_sum                      1174 non-null float64\n",
      "des_procharge_sum                   1174 non-null float64\n",
      "des_reduce_sum                      1174 non-null float64\n",
      "des_realcharge_sum                  1174 non-null float64\n",
      "des_workday_cnt                     1174 non-null float64\n",
      "des_weekend_cnt                     1174 non-null float64\n",
      "des_work_realchargesum              1174 non-null float64\n",
      "des_weekend_realchargesum           1174 non-null float64\n",
      "des_charge_mean                     1174 non-null float64\n",
      "des_realcharge_mean                 1174 non-null float64\n",
      "des_guestnumber_mean                1174 non-null float64\n",
      "des_guestnumber_max                 1174 non-null float64\n",
      "des_guestnumber_min                 1174 non-null float64\n",
      "des_charge_max                      1174 non-null float64\n",
      "des_charge_min                      1174 non-null float64\n",
      "des_realcharge_max                  1174 non-null float64\n",
      "des_realcharge_min                  1174 non-null float64\n",
      "use_time_sum                        1174 non-null float64\n",
      "des_beforedawn_cnt                  1174 non-null float64\n",
      "des_morning_cnt                     1174 non-null float64\n",
      "des_afternoon_cnt                   1174 non-null float64\n",
      "des_night_cnt                       1174 non-null float64\n",
      "des_use_beforedawn_cnt              1174 non-null float64\n",
      "des_use_morning_cnt                 1174 non-null float64\n",
      "des_use_afternoon_cnt               1174 non-null float64\n",
      "des_use_night_cnt                   1174 non-null float64\n",
      "des_use_beforedawn_realchargesum    1174 non-null float64\n",
      "des_use_morning_realchargesum       1174 non-null float64\n",
      "des_use_afternoon_realchargesum     1174 non-null float64\n",
      "des_use_night_realchargesum         1174 non-null float64\n",
      "des_use_reg                         1174 non-null float64\n",
      "des_companyid                       1174 non-null object\n",
      "des_company_cnt                     1174 non-null float64\n",
      "des_com_roomnum                     240 non-null object\n",
      "des_com_managetype                  240 non-null object\n",
      "des_com_vodsystemtype               240 non-null object\n",
      "des_com_regioncode                  240 non-null object\n",
      "des_large_cnt                       1174 non-null float64\n",
      "des_medium_cnt                      1174 non-null float64\n",
      "des_small_cnt                       1174 non-null float64\n",
      "des_reduce_cnt                      1174 non-null float64\n",
      "songid                              6734 non-null object\n",
      "song_play_cnt                       6734 non-null float64\n",
      "year                                2300 non-null float64\n",
      "age_year                            2300 non-null float64\n",
      "age_lan                             6619 non-null float64\n",
      "dtypes: float64(55), object(27)\n",
      "memory usage: 315.1+ MB\n"
     ]
    }
   ],
   "source": [
    "df3.info()"
   ]
  },
  {
   "cell_type": "code",
   "execution_count": 78,
   "metadata": {
    "collapsed": false
   },
   "outputs": [
    {
     "data": {
      "text/plain": [
       "497586"
      ]
     },
     "execution_count": 78,
     "metadata": {},
     "output_type": "execute_result"
    }
   ],
   "source": [
    "len(pd.value_counts(df3['customerid']))"
   ]
  },
  {
   "cell_type": "code",
   "execution_count": 79,
   "metadata": {
    "collapsed": false
   },
   "outputs": [
    {
     "data": {
      "text/plain": [
       "195848"
      ]
     },
     "execution_count": 79,
     "metadata": {},
     "output_type": "execute_result"
    }
   ],
   "source": [
    "len(pd.value_counts(df3['openid']))"
   ]
  },
  {
   "cell_type": "markdown",
   "metadata": {
    "collapsed": true
   },
   "source": [
    "# 6.和shop表连 (用openid)"
   ]
  },
  {
   "cell_type": "code",
   "execution_count": 30,
   "metadata": {
    "collapsed": true
   },
   "outputs": [],
   "source": [
    "# 6. 读取shop\n",
    "sql = 'SELECT * FROM ljl_shop'\n",
    "shop = pd.read_sql(sql,conn)"
   ]
  },
  {
   "cell_type": "code",
   "execution_count": 31,
   "metadata": {
    "collapsed": false
   },
   "outputs": [
    {
     "name": "stdout",
     "output_type": "stream",
     "text": [
      "<class 'pandas.core.frame.DataFrame'>\n",
      "Int64Index: 49978 entries, 0 to 49977\n",
      "Data columns (total 32 columns):\n",
      "openid                    49978 non-null object\n",
      "shop_real_sum             49978 non-null float64\n",
      "shop_original_sum         49978 non-null float64\n",
      "shop_wine_cnt             49978 non-null float64\n",
      "shop_cigarette_cnt        49978 non-null float64\n",
      "shop_cnt                  49978 non-null float64\n",
      "shop_before_dawn_cnt      49978 non-null float64\n",
      "shop_morning_cnt          49978 non-null float64\n",
      "shop_afternoon_cnt        49978 non-null float64\n",
      "shop_night_cnt            49978 non-null float64\n",
      "shop_weekday_cnt          49978 non-null float64\n",
      "shop_weekend_cnt          49978 non-null float64\n",
      "shop_before_dawn_sum      49978 non-null float64\n",
      "shop_morning_sum          49978 non-null float64\n",
      "shop_afternoon_sum        49978 non-null float64\n",
      "shop_night_sum            49978 non-null float64\n",
      "shop_weekday_sum          49978 non-null float64\n",
      "shop_weekend_sum          49978 non-null float64\n",
      "shop_real_sum_avg         49978 non-null float64\n",
      "shop_original_sum_avg     49978 non-null float64\n",
      "shop_real_sum_max         49978 non-null float64\n",
      "shop_original_sum_max     49978 non-null float64\n",
      "shop_real_sum_min         49978 non-null float64\n",
      "shop_original_sum_min     49978 non-null float64\n",
      "shop_companyid            49978 non-null object\n",
      "shop_com_cnt              49978 non-null int64\n",
      "shop_order_cnt            49978 non-null int64\n",
      "shop_cross_com            49978 non-null int64\n",
      "shop_com_roomnum          49962 non-null object\n",
      "shop_com_regioncode       49962 non-null object\n",
      "shop_com_managetype       49962 non-null object\n",
      "shop_com_vodsystemtype    49962 non-null object\n",
      "dtypes: float64(23), int64(3), object(6)\n",
      "memory usage: 12.6+ MB\n"
     ]
    }
   ],
   "source": [
    "shop.info()"
   ]
  },
  {
   "cell_type": "code",
   "execution_count": 80,
   "metadata": {
    "collapsed": true
   },
   "outputs": [],
   "source": [
    "total = pd.merge(df3,shop,how='outer',left_on='openid',right_on='openid')"
   ]
  },
  {
   "cell_type": "code",
   "execution_count": 81,
   "metadata": {
    "collapsed": false
   },
   "outputs": [
    {
     "name": "stdout",
     "output_type": "stream",
     "text": [
      "<class 'pandas.core.frame.DataFrame'>\n",
      "Int64Index: 503879 entries, 0 to 503878\n",
      "Columns: 113 entries, customerid to shop_com_vodsystemtype\n",
      "dtypes: float64(81), object(32)\n",
      "memory usage: 438.2+ MB\n"
     ]
    }
   ],
   "source": [
    "total.info()"
   ]
  },
  {
   "cell_type": "code",
   "execution_count": 82,
   "metadata": {
    "collapsed": false
   },
   "outputs": [
    {
     "name": "stdout",
     "output_type": "stream",
     "text": [
      "(u'customerid', 497586)\n",
      "(u'registertime', 368275)\n",
      "(u'customer_status', 368275)\n",
      "(u'openid', 202141)\n",
      "(u'wechat_sex', 81738)\n",
      "(u'wechat_city', 81738)\n",
      "(u'wechat_province', 81738)\n",
      "(u'wechat_country', 81738)\n",
      "(u'kmid', 107657)\n",
      "(u'member_birthday', 15559)\n",
      "(u'km_sex', 15559)\n",
      "(u'accountcash', 15559)\n",
      "(u'accountbalance', 15559)\n",
      "(u'integralbalance', 15559)\n",
      "(u'consumetotal', 15559)\n",
      "(u'consumetimes', 15559)\n",
      "(u'member_age_cut', 15559)\n",
      "(u'lastconsume_diff_create_day', 15559)\n",
      "(u'lastconsume_diff_create_hour', 15559)\n",
      "(u'lastconsume_diff_now', 15559)\n",
      "(u'coupon_get_cnt', 145083)\n",
      "(u'coupon_get_sum', 145083)\n",
      "(u'source_company_id', 145083)\n",
      "(u'source_company_cnt', 145083)\n",
      "(u'get_coupon_type_cnt', 145083)\n",
      "(u'get_com_roomnum', 101333)\n",
      "(u'get_com_regioncode', 101333)\n",
      "(u'get_com_managetype', 101333)\n",
      "(u'get_com_vodsystemtype', 101333)\n",
      "(u'get_coupon_crosscom', 145083)\n",
      "(u'use_coupon_sum', 37383)\n",
      "(u'use_coupon_order_sum', 37383)\n",
      "(u'use_coupon_type_cnt', 37383)\n",
      "(u'use_company_id', 37383)\n",
      "(u'use_company_cnt', 37383)\n",
      "(u'des_cnt', 1174)\n",
      "(u'des_charge_sum', 1174)\n",
      "(u'des_procharge_sum', 1174)\n",
      "(u'des_reduce_sum', 1174)\n",
      "(u'des_realcharge_sum', 1174)\n",
      "(u'des_workday_cnt', 1174)\n",
      "(u'des_weekend_cnt', 1174)\n",
      "(u'des_work_realchargesum', 1174)\n",
      "(u'des_weekend_realchargesum', 1174)\n",
      "(u'des_charge_mean', 1174)\n",
      "(u'des_realcharge_mean', 1174)\n",
      "(u'des_guestnumber_mean', 1174)\n",
      "(u'des_guestnumber_max', 1174)\n",
      "(u'des_guestnumber_min', 1174)\n",
      "(u'des_charge_max', 1174)\n",
      "(u'des_charge_min', 1174)\n",
      "(u'des_realcharge_max', 1174)\n",
      "(u'des_realcharge_min', 1174)\n",
      "(u'use_time_sum', 1174)\n",
      "(u'des_beforedawn_cnt', 1174)\n",
      "(u'des_morning_cnt', 1174)\n",
      "(u'des_afternoon_cnt', 1174)\n",
      "(u'des_night_cnt', 1174)\n",
      "(u'des_use_beforedawn_cnt', 1174)\n",
      "(u'des_use_morning_cnt', 1174)\n",
      "(u'des_use_afternoon_cnt', 1174)\n",
      "(u'des_use_night_cnt', 1174)\n",
      "(u'des_use_beforedawn_realchargesum', 1174)\n",
      "(u'des_use_morning_realchargesum', 1174)\n",
      "(u'des_use_afternoon_realchargesum', 1174)\n",
      "(u'des_use_night_realchargesum', 1174)\n",
      "(u'des_use_reg', 1174)\n",
      "(u'des_companyid', 1174)\n",
      "(u'des_company_cnt', 1174)\n",
      "(u'des_com_roomnum', 240)\n",
      "(u'des_com_managetype', 240)\n",
      "(u'des_com_vodsystemtype', 240)\n",
      "(u'des_com_regioncode', 240)\n",
      "(u'des_large_cnt', 1174)\n",
      "(u'des_medium_cnt', 1174)\n",
      "(u'des_small_cnt', 1174)\n",
      "(u'des_reduce_cnt', 1174)\n",
      "(u'songid', 6734)\n",
      "(u'song_play_cnt', 6734)\n",
      "(u'year', 2300)\n",
      "(u'age_year', 2300)\n",
      "(u'age_lan', 6619)\n",
      "(u'shop_real_sum', 49978)\n",
      "(u'shop_original_sum', 49978)\n",
      "(u'shop_wine_cnt', 49978)\n",
      "(u'shop_cigarette_cnt', 49978)\n",
      "(u'shop_cnt', 49978)\n",
      "(u'shop_before_dawn_cnt', 49978)\n",
      "(u'shop_morning_cnt', 49978)\n",
      "(u'shop_afternoon_cnt', 49978)\n",
      "(u'shop_night_cnt', 49978)\n",
      "(u'shop_weekday_cnt', 49978)\n",
      "(u'shop_weekend_cnt', 49978)\n",
      "(u'shop_before_dawn_sum', 49978)\n",
      "(u'shop_morning_sum', 49978)\n",
      "(u'shop_afternoon_sum', 49978)\n",
      "(u'shop_night_sum', 49978)\n",
      "(u'shop_weekday_sum', 49978)\n",
      "(u'shop_weekend_sum', 49978)\n",
      "(u'shop_real_sum_avg', 49978)\n",
      "(u'shop_original_sum_avg', 49978)\n",
      "(u'shop_real_sum_max', 49978)\n",
      "(u'shop_original_sum_max', 49978)\n",
      "(u'shop_real_sum_min', 49978)\n",
      "(u'shop_original_sum_min', 49978)\n",
      "(u'shop_companyid', 49978)\n",
      "(u'shop_com_cnt', 49978)\n",
      "(u'shop_order_cnt', 49978)\n",
      "(u'shop_cross_com', 49978)\n",
      "(u'shop_com_roomnum', 49962)\n",
      "(u'shop_com_regioncode', 49962)\n",
      "(u'shop_com_managetype', 49962)\n",
      "(u'shop_com_vodsystemtype', 49962)\n"
     ]
    }
   ],
   "source": [
    "for col in total.columns.values:\n",
    "    print(col, total[col].notnull().sum())"
   ]
  },
  {
   "cell_type": "code",
   "execution_count": 83,
   "metadata": {
    "collapsed": false
   },
   "outputs": [
    {
     "data": {
      "text/plain": [
       "202141"
      ]
     },
     "execution_count": 83,
     "metadata": {},
     "output_type": "execute_result"
    }
   ],
   "source": [
    "len(pd.value_counts(total['openid']))"
   ]
  },
  {
   "cell_type": "code",
   "execution_count": 84,
   "metadata": {
    "collapsed": false
   },
   "outputs": [
    {
     "data": {
      "text/plain": [
       "497586"
      ]
     },
     "execution_count": 84,
     "metadata": {},
     "output_type": "execute_result"
    }
   ],
   "source": [
    "len(pd.value_counts(total['customerid']))"
   ]
  },
  {
   "cell_type": "code",
   "execution_count": 85,
   "metadata": {
    "collapsed": false
   },
   "outputs": [
    {
     "data": {
      "text/plain": [
       "107657"
      ]
     },
     "execution_count": 85,
     "metadata": {},
     "output_type": "execute_result"
    }
   ],
   "source": [
    "len(pd.value_counts(total['kmid']))"
   ]
  },
  {
   "cell_type": "code",
   "execution_count": 86,
   "metadata": {
    "collapsed": false
   },
   "outputs": [
    {
     "name": "stderr",
     "output_type": "stream",
     "text": [
      "D:\\Users\\Jialing Liao\\AppData\\Local\\Continuum\\Anaconda2\\lib\\site-packages\\ipykernel\\__main__.py:1: SettingWithCopyWarning: \n",
      "A value is trying to be set on a copy of a slice from a DataFrame\n",
      "\n",
      "See the caveats in the documentation: http://pandas.pydata.org/pandas-docs/stable/indexing.html#indexing-view-versus-copy\n",
      "  if __name__ == '__main__':\n"
     ]
    }
   ],
   "source": [
    "total['customerid'][total['customerid'].isnull()] = total['openid']"
   ]
  },
  {
   "cell_type": "code",
   "execution_count": 90,
   "metadata": {
    "collapsed": false,
    "scrolled": true
   },
   "outputs": [
    {
     "name": "stdout",
     "output_type": "stream",
     "text": [
      "(u'customerid', 503879)\n",
      "(u'registertime', 368275)\n",
      "(u'customer_status', 368275)\n",
      "(u'openid', 202141)\n",
      "(u'wechat_sex', 81738)\n",
      "(u'wechat_city', 81738)\n",
      "(u'wechat_province', 81738)\n",
      "(u'wechat_country', 81738)\n",
      "(u'kmid', 107657)\n",
      "(u'member_birthday', 15559)\n",
      "(u'km_sex', 15559)\n",
      "(u'accountcash', 15559)\n",
      "(u'accountbalance', 15559)\n",
      "(u'integralbalance', 15559)\n",
      "(u'consumetotal', 15559)\n",
      "(u'consumetimes', 15559)\n",
      "(u'member_age_cut', 15559)\n",
      "(u'lastconsume_diff_create_day', 15559)\n",
      "(u'lastconsume_diff_create_hour', 15559)\n",
      "(u'lastconsume_diff_now', 15559)\n",
      "(u'coupon_get_cnt', 145083)\n",
      "(u'coupon_get_sum', 145083)\n",
      "(u'source_company_id', 145083)\n",
      "(u'source_company_cnt', 145083)\n",
      "(u'get_coupon_type_cnt', 145083)\n",
      "(u'get_com_roomnum', 101333)\n",
      "(u'get_com_regioncode', 101333)\n",
      "(u'get_com_managetype', 101333)\n",
      "(u'get_com_vodsystemtype', 101333)\n",
      "(u'get_coupon_crosscom', 145083)\n",
      "(u'use_coupon_sum', 37383)\n",
      "(u'use_coupon_order_sum', 37383)\n",
      "(u'use_coupon_type_cnt', 37383)\n",
      "(u'use_company_id', 37383)\n",
      "(u'use_company_cnt', 37383)\n",
      "(u'des_cnt', 1174)\n",
      "(u'des_charge_sum', 1174)\n",
      "(u'des_procharge_sum', 1174)\n",
      "(u'des_reduce_sum', 1174)\n",
      "(u'des_realcharge_sum', 1174)\n",
      "(u'des_workday_cnt', 1174)\n",
      "(u'des_weekend_cnt', 1174)\n",
      "(u'des_work_realchargesum', 1174)\n",
      "(u'des_weekend_realchargesum', 1174)\n",
      "(u'des_charge_mean', 1174)\n",
      "(u'des_realcharge_mean', 1174)\n",
      "(u'des_guestnumber_mean', 1174)\n",
      "(u'des_guestnumber_max', 1174)\n",
      "(u'des_guestnumber_min', 1174)\n",
      "(u'des_charge_max', 1174)\n",
      "(u'des_charge_min', 1174)\n",
      "(u'des_realcharge_max', 1174)\n",
      "(u'des_realcharge_min', 1174)\n",
      "(u'use_time_sum', 1174)\n",
      "(u'des_beforedawn_cnt', 1174)\n",
      "(u'des_morning_cnt', 1174)\n",
      "(u'des_afternoon_cnt', 1174)\n",
      "(u'des_night_cnt', 1174)\n",
      "(u'des_use_beforedawn_cnt', 1174)\n",
      "(u'des_use_morning_cnt', 1174)\n",
      "(u'des_use_afternoon_cnt', 1174)\n",
      "(u'des_use_night_cnt', 1174)\n",
      "(u'des_use_beforedawn_realchargesum', 1174)\n",
      "(u'des_use_morning_realchargesum', 1174)\n",
      "(u'des_use_afternoon_realchargesum', 1174)\n",
      "(u'des_use_night_realchargesum', 1174)\n",
      "(u'des_use_reg', 1174)\n",
      "(u'des_companyid', 1174)\n",
      "(u'des_company_cnt', 1174)\n",
      "(u'des_com_roomnum', 240)\n",
      "(u'des_com_managetype', 240)\n",
      "(u'des_com_vodsystemtype', 240)\n",
      "(u'des_com_regioncode', 240)\n",
      "(u'des_large_cnt', 1174)\n",
      "(u'des_medium_cnt', 1174)\n",
      "(u'des_small_cnt', 1174)\n",
      "(u'des_reduce_cnt', 1174)\n",
      "(u'songid', 6734)\n",
      "(u'song_play_cnt', 6734)\n",
      "(u'year', 2300)\n",
      "(u'age_year', 2300)\n",
      "(u'age_lan', 6619)\n",
      "(u'shop_real_sum', 49978)\n",
      "(u'shop_original_sum', 49978)\n",
      "(u'shop_wine_cnt', 49978)\n",
      "(u'shop_cigarette_cnt', 49978)\n",
      "(u'shop_cnt', 49978)\n",
      "(u'shop_before_dawn_cnt', 49978)\n",
      "(u'shop_morning_cnt', 49978)\n",
      "(u'shop_afternoon_cnt', 49978)\n",
      "(u'shop_night_cnt', 49978)\n",
      "(u'shop_weekday_cnt', 49978)\n",
      "(u'shop_weekend_cnt', 49978)\n",
      "(u'shop_before_dawn_sum', 49978)\n",
      "(u'shop_morning_sum', 49978)\n",
      "(u'shop_afternoon_sum', 49978)\n",
      "(u'shop_night_sum', 49978)\n",
      "(u'shop_weekday_sum', 49978)\n",
      "(u'shop_weekend_sum', 49978)\n",
      "(u'shop_real_sum_avg', 49978)\n",
      "(u'shop_original_sum_avg', 49978)\n",
      "(u'shop_real_sum_max', 49978)\n",
      "(u'shop_original_sum_max', 49978)\n",
      "(u'shop_real_sum_min', 49978)\n",
      "(u'shop_original_sum_min', 49978)\n",
      "(u'shop_companyid', 49978)\n",
      "(u'shop_com_cnt', 49978)\n",
      "(u'shop_order_cnt', 49978)\n",
      "(u'shop_cross_com', 49978)\n",
      "(u'shop_com_roomnum', 49962)\n",
      "(u'shop_com_regioncode', 49962)\n",
      "(u'shop_com_managetype', 49962)\n",
      "(u'shop_com_vodsystemtype', 49962)\n"
     ]
    }
   ],
   "source": [
    "for col in total.columns.values:\n",
    "    print(col, total[col].notnull().sum())"
   ]
  },
  {
   "cell_type": "code",
   "execution_count": 91,
   "metadata": {
    "collapsed": false
   },
   "outputs": [
    {
     "data": {
      "text/plain": [
       "(503879, 113)"
      ]
     },
     "execution_count": 91,
     "metadata": {},
     "output_type": "execute_result"
    }
   ],
   "source": [
    "total.shape"
   ]
  },
  {
   "cell_type": "code",
   "execution_count": 103,
   "metadata": {
    "collapsed": false
   },
   "outputs": [],
   "source": [
    "import sys\n",
    "reload(sys)\n",
    "sys.setdefaultencoding('utf8')\n",
    "\n",
    "total.to_csv('G:/user_all.csv')"
   ]
  },
  {
   "cell_type": "code",
   "execution_count": null,
   "metadata": {
    "collapsed": true
   },
   "outputs": [],
   "source": []
  }
 ],
 "metadata": {
  "kernelspec": {
   "display_name": "Python 2",
   "language": "python",
   "name": "python2"
  },
  "language_info": {
   "codemirror_mode": {
    "name": "ipython",
    "version": 2
   },
   "file_extension": ".py",
   "mimetype": "text/x-python",
   "name": "python",
   "nbconvert_exporter": "python",
   "pygments_lexer": "ipython2",
   "version": "2.7.13"
  }
 },
 "nbformat": 4,
 "nbformat_minor": 0
}
