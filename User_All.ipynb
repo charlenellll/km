{
 "cells": [
  {
   "cell_type": "code",
   "execution_count": null,
   "metadata": {
    "collapsed": true
   },
   "outputs": [],
   "source": [
    "# coding:utf-8\n",
    "\"\"\"\n",
    "本篇为user_all(),从数据库中读取所有暂存的中间表，连接所有分表，得到用户基础信息的宽表\n",
    "\"\"\"\n",
    "import pandas as pd\n",
    "import numpy as np\n",
    "from impala.dbapi import connect\n",
    "from impala.util import as_pandas\n",
    "import cPickle\n",
    "import re\n",
    "import datetime as dt\n",
    "import pymysql.cursors\n",
    "\n",
    "# Global variables\n",
    "mysql_host = '172.21.1.151'\n",
    "mysql_port = 3306\n",
    "mysql_user = 'xli'\n",
    "mysql_password = '123456'\n",
    "mysql_db = 'kdwtemp2'\n",
    "mysql_charset = 'utf8mb4'\n",
    "\n",
    "def user_all():\n",
    "    # 连接数据库以读取中间表\n",
    "    conn = pymysql.connect(host=mysql_host,\n",
    "                                      port=mysql_port,\n",
    "                                      user=mysql_user,\n",
    "                                      password=mysql_password,\n",
    "                                      db=mysql_db,\n",
    "                                      charset=mysql_charset)\n",
    "    # 1. 读取user_info结果表\n",
    "    sql = 'SELECT * FROM ljl_user_info'\n",
    "    user_info = pd.read_sql(sql,conn)\n",
    "    \n",
    "    # 2. 读取get_coupon\n",
    "    sql = 'SELECT * FROM ljl_get_coupon'\n",
    "    get_coupon = pd.read_sql(sql,conn)\n",
    "    df = pd.merge(get_coupon,user_info,how='left',left_on='customerid',right_on='customerid')\n",
    "    \n",
    "    conn.close()\n",
    "    return df"
   ]
  },
  {
   "cell_type": "code",
   "execution_count": null,
   "metadata": {
    "collapsed": true
   },
   "outputs": [],
   "source": [
    "#     # 3.读取use_coupon\n",
    "#     sql = 'SELECT * FROM ljl_use_coupon'\n",
    "#     use_coupon = pd.read_sql(sql,conn)\n",
    "    \n",
    "#     # 4. 读取destine\n",
    "#     sql = 'SELECT * FROM ljl_destine'\n",
    "#     destine = pd.read_sql(sql,conn)\n",
    "    \n",
    "#     # 5. 读取tag_age_from_song\n",
    "#     sql = 'SELECT * FROM ljl_tag_age_from_song'\n",
    "#     tag_age_from_song = pd.read_sql(sql,conn)\n",
    "    \n",
    "#     # 6. 读取shop\n",
    "#     sql = 'SELECT * FROM ljl_shop'\n",
    "#     shop = pd.read_sql(sql,conn)\n",
    "    "
   ]
  },
  {
   "cell_type": "code",
   "execution_count": null,
   "metadata": {
    "collapsed": true
   },
   "outputs": [],
   "source": [
    "df = user_all()"
   ]
  },
  {
   "cell_type": "code",
   "execution_count": null,
   "metadata": {
    "collapsed": false
   },
   "outputs": [],
   "source": [
    "pd.value_counts(df['customerid'])"
   ]
  },
  {
   "cell_type": "code",
   "execution_count": null,
   "metadata": {
    "collapsed": false
   },
   "outputs": [],
   "source": [
    "pd.value_counts(df['kmid'])"
   ]
  },
  {
   "cell_type": "code",
   "execution_count": null,
   "metadata": {
    "collapsed": false
   },
   "outputs": [],
   "source": [
    "pd.value_counts(df['openid'])"
   ]
  },
  {
   "cell_type": "code",
   "execution_count": null,
   "metadata": {
    "collapsed": false
   },
   "outputs": [],
   "source": [
    "df.shape"
   ]
  },
  {
   "cell_type": "code",
   "execution_count": 10,
   "metadata": {
    "collapsed": false
   },
   "outputs": [
    {
     "data": {
      "text/plain": [
       "Index([u'customerid', u'coupon_get_cnt', u'coupon_get_sum',\n",
       "       u'source_company_id', u'source_company_cnt', u'get_coupon_type_cnt',\n",
       "       u'get_com_roomnum', u'get_com_regioncode', u'get_com_managetype',\n",
       "       u'get_com_vodsystemtype', u'get_coupon_crosscom', u'registertime',\n",
       "       u'customer_status', u'openid', u'wechat_sex', u'wechat_city',\n",
       "       u'wechat_province', u'wechat_country', u'kmid', u'member_birthday',\n",
       "       u'km_sex', u'accountcash', u'accountbalance', u'integralbalance',\n",
       "       u'consumetotal', u'consumetimes', u'member_age_cut',\n",
       "       u'lastconsume_diff_create_day', u'lastconsume_diff_create_hour',\n",
       "       u'lastconsume_diff_now'],\n",
       "      dtype='object')"
      ]
     },
     "execution_count": 10,
     "metadata": {},
     "output_type": "execute_result"
    }
   ],
   "source": [
    "df.columns"
   ]
  },
  {
   "cell_type": "code",
   "execution_count": 11,
   "metadata": {
    "collapsed": false
   },
   "outputs": [
    {
     "data": {
      "text/html": [
       "<div>\n",
       "<table border=\"1\" class=\"dataframe\">\n",
       "  <thead>\n",
       "    <tr style=\"text-align: right;\">\n",
       "      <th></th>\n",
       "      <th>customerid</th>\n",
       "      <th>coupon_get_cnt</th>\n",
       "      <th>coupon_get_sum</th>\n",
       "      <th>source_company_id</th>\n",
       "      <th>source_company_cnt</th>\n",
       "      <th>get_coupon_type_cnt</th>\n",
       "      <th>get_com_roomnum</th>\n",
       "      <th>get_com_regioncode</th>\n",
       "      <th>get_com_managetype</th>\n",
       "      <th>get_com_vodsystemtype</th>\n",
       "      <th>...</th>\n",
       "      <th>km_sex</th>\n",
       "      <th>accountcash</th>\n",
       "      <th>accountbalance</th>\n",
       "      <th>integralbalance</th>\n",
       "      <th>consumetotal</th>\n",
       "      <th>consumetimes</th>\n",
       "      <th>member_age_cut</th>\n",
       "      <th>lastconsume_diff_create_day</th>\n",
       "      <th>lastconsume_diff_create_hour</th>\n",
       "      <th>lastconsume_diff_now</th>\n",
       "    </tr>\n",
       "  </thead>\n",
       "  <tbody>\n",
       "    <tr>\n",
       "      <th>0</th>\n",
       "      <td>1003913</td>\n",
       "      <td>12</td>\n",
       "      <td>215</td>\n",
       "      <td>4617</td>\n",
       "      <td>9</td>\n",
       "      <td>4</td>\n",
       "      <td>63</td>\n",
       "      <td>500000</td>\n",
       "      <td>1</td>\n",
       "      <td>0</td>\n",
       "      <td>...</td>\n",
       "      <td>NaN</td>\n",
       "      <td>NaN</td>\n",
       "      <td>NaN</td>\n",
       "      <td>NaN</td>\n",
       "      <td>NaN</td>\n",
       "      <td>NaN</td>\n",
       "      <td>NaN</td>\n",
       "      <td>NaN</td>\n",
       "      <td>NaN</td>\n",
       "      <td>NaN</td>\n",
       "    </tr>\n",
       "    <tr>\n",
       "      <th>1</th>\n",
       "      <td>1536143</td>\n",
       "      <td>1</td>\n",
       "      <td>5</td>\n",
       "      <td>4617</td>\n",
       "      <td>1</td>\n",
       "      <td>1</td>\n",
       "      <td>63</td>\n",
       "      <td>500000</td>\n",
       "      <td>1</td>\n",
       "      <td>0</td>\n",
       "      <td>...</td>\n",
       "      <td>NaN</td>\n",
       "      <td>NaN</td>\n",
       "      <td>NaN</td>\n",
       "      <td>NaN</td>\n",
       "      <td>NaN</td>\n",
       "      <td>NaN</td>\n",
       "      <td>NaN</td>\n",
       "      <td>NaN</td>\n",
       "      <td>NaN</td>\n",
       "      <td>NaN</td>\n",
       "    </tr>\n",
       "    <tr>\n",
       "      <th>2</th>\n",
       "      <td>3303677</td>\n",
       "      <td>2</td>\n",
       "      <td>20</td>\n",
       "      <td>4617</td>\n",
       "      <td>2</td>\n",
       "      <td>2</td>\n",
       "      <td>63</td>\n",
       "      <td>500000</td>\n",
       "      <td>1</td>\n",
       "      <td>0</td>\n",
       "      <td>...</td>\n",
       "      <td>NaN</td>\n",
       "      <td>NaN</td>\n",
       "      <td>NaN</td>\n",
       "      <td>NaN</td>\n",
       "      <td>NaN</td>\n",
       "      <td>NaN</td>\n",
       "      <td>NaN</td>\n",
       "      <td>NaN</td>\n",
       "      <td>NaN</td>\n",
       "      <td>NaN</td>\n",
       "    </tr>\n",
       "    <tr>\n",
       "      <th>3</th>\n",
       "      <td>3931247</td>\n",
       "      <td>4</td>\n",
       "      <td>35</td>\n",
       "      <td>4617</td>\n",
       "      <td>4</td>\n",
       "      <td>4</td>\n",
       "      <td>63</td>\n",
       "      <td>500000</td>\n",
       "      <td>1</td>\n",
       "      <td>0</td>\n",
       "      <td>...</td>\n",
       "      <td>NaN</td>\n",
       "      <td>NaN</td>\n",
       "      <td>NaN</td>\n",
       "      <td>NaN</td>\n",
       "      <td>NaN</td>\n",
       "      <td>NaN</td>\n",
       "      <td>NaN</td>\n",
       "      <td>NaN</td>\n",
       "      <td>NaN</td>\n",
       "      <td>NaN</td>\n",
       "    </tr>\n",
       "    <tr>\n",
       "      <th>4</th>\n",
       "      <td>3937144</td>\n",
       "      <td>1</td>\n",
       "      <td>20</td>\n",
       "      <td>4617</td>\n",
       "      <td>1</td>\n",
       "      <td>1</td>\n",
       "      <td>63</td>\n",
       "      <td>500000</td>\n",
       "      <td>1</td>\n",
       "      <td>0</td>\n",
       "      <td>...</td>\n",
       "      <td>NaN</td>\n",
       "      <td>NaN</td>\n",
       "      <td>NaN</td>\n",
       "      <td>NaN</td>\n",
       "      <td>NaN</td>\n",
       "      <td>NaN</td>\n",
       "      <td>NaN</td>\n",
       "      <td>NaN</td>\n",
       "      <td>NaN</td>\n",
       "      <td>NaN</td>\n",
       "    </tr>\n",
       "  </tbody>\n",
       "</table>\n",
       "<p>5 rows × 30 columns</p>\n",
       "</div>"
      ],
      "text/plain": [
       "  customerid  coupon_get_cnt  coupon_get_sum source_company_id  \\\n",
       "0    1003913              12             215              4617   \n",
       "1    1536143               1               5              4617   \n",
       "2    3303677               2              20              4617   \n",
       "3    3931247               4              35              4617   \n",
       "4    3937144               1              20              4617   \n",
       "\n",
       "   source_company_cnt  get_coupon_type_cnt get_com_roomnum get_com_regioncode  \\\n",
       "0                   9                    4              63             500000   \n",
       "1                   1                    1              63             500000   \n",
       "2                   2                    2              63             500000   \n",
       "3                   4                    4              63             500000   \n",
       "4                   1                    1              63             500000   \n",
       "\n",
       "  get_com_managetype get_com_vodsystemtype          ...           km_sex  \\\n",
       "0                  1                     0          ...              NaN   \n",
       "1                  1                     0          ...              NaN   \n",
       "2                  1                     0          ...              NaN   \n",
       "3                  1                     0          ...              NaN   \n",
       "4                  1                     0          ...              NaN   \n",
       "\n",
       "  accountcash accountbalance integralbalance consumetotal consumetimes  \\\n",
       "0         NaN            NaN             NaN          NaN          NaN   \n",
       "1         NaN            NaN             NaN          NaN          NaN   \n",
       "2         NaN            NaN             NaN          NaN          NaN   \n",
       "3         NaN            NaN             NaN          NaN          NaN   \n",
       "4         NaN            NaN             NaN          NaN          NaN   \n",
       "\n",
       "  member_age_cut lastconsume_diff_create_day lastconsume_diff_create_hour  \\\n",
       "0            NaN                         NaN                          NaN   \n",
       "1            NaN                         NaN                          NaN   \n",
       "2            NaN                         NaN                          NaN   \n",
       "3            NaN                         NaN                          NaN   \n",
       "4            NaN                         NaN                          NaN   \n",
       "\n",
       "   lastconsume_diff_now  \n",
       "0                   NaN  \n",
       "1                   NaN  \n",
       "2                   NaN  \n",
       "3                   NaN  \n",
       "4                   NaN  \n",
       "\n",
       "[5 rows x 30 columns]"
      ]
     },
     "execution_count": 11,
     "metadata": {},
     "output_type": "execute_result"
    }
   ],
   "source": [
    "df.head()"
   ]
  },
  {
   "cell_type": "code",
   "execution_count": 12,
   "metadata": {
    "collapsed": false
   },
   "outputs": [
    {
     "name": "stdout",
     "output_type": "stream",
     "text": [
      "<class 'pandas.core.frame.DataFrame'>\n",
      "Int64Index: 146041 entries, 0 to 146040\n",
      "Data columns (total 30 columns):\n",
      "customerid                      145220 non-null object\n",
      "coupon_get_cnt                  145220 non-null float64\n",
      "coupon_get_sum                  145220 non-null float64\n",
      "source_company_id               146041 non-null object\n",
      "source_company_cnt              145220 non-null float64\n",
      "get_coupon_type_cnt             145220 non-null float64\n",
      "get_com_roomnum                 102268 non-null object\n",
      "get_com_regioncode              102268 non-null object\n",
      "get_com_managetype              102268 non-null object\n",
      "get_com_vodsystemtype           102268 non-null object\n",
      "get_coupon_crosscom             146041 non-null int64\n",
      "registertime                    129769 non-null object\n",
      "customer_status                 129769 non-null object\n",
      "openid                          74296 non-null object\n",
      "wechat_sex                      65695 non-null object\n",
      "wechat_city                     65695 non-null object\n",
      "wechat_province                 65695 non-null object\n",
      "wechat_country                  65695 non-null object\n",
      "kmid                            1038 non-null object\n",
      "member_birthday                 62 non-null float64\n",
      "km_sex                          62 non-null float64\n",
      "accountcash                     62 non-null object\n",
      "accountbalance                  62 non-null object\n",
      "integralbalance                 62 non-null object\n",
      "consumetotal                    62 non-null object\n",
      "consumetimes                    62 non-null object\n",
      "member_age_cut                  62 non-null object\n",
      "lastconsume_diff_create_day     62 non-null float64\n",
      "lastconsume_diff_create_hour    62 non-null float64\n",
      "lastconsume_diff_now            62 non-null float64\n",
      "dtypes: float64(9), int64(1), object(20)\n",
      "memory usage: 34.5+ MB\n"
     ]
    }
   ],
   "source": [
    "df.info()"
   ]
  },
  {
   "cell_type": "code",
   "execution_count": 13,
   "metadata": {
    "collapsed": true
   },
   "outputs": [],
   "source": [
    "df.drop_duplicates('customerid',inplace=True)"
   ]
  },
  {
   "cell_type": "code",
   "execution_count": 14,
   "metadata": {
    "collapsed": false
   },
   "outputs": [
    {
     "name": "stdout",
     "output_type": "stream",
     "text": [
      "<class 'pandas.core.frame.DataFrame'>\n",
      "Int64Index: 145084 entries, 0 to 145220\n",
      "Data columns (total 30 columns):\n",
      "customerid                      145083 non-null object\n",
      "coupon_get_cnt                  145083 non-null float64\n",
      "coupon_get_sum                  145083 non-null float64\n",
      "source_company_id               145084 non-null object\n",
      "source_company_cnt              145083 non-null float64\n",
      "get_coupon_type_cnt             145083 non-null float64\n",
      "get_com_roomnum                 101334 non-null object\n",
      "get_com_regioncode              101334 non-null object\n",
      "get_com_managetype              101334 non-null object\n",
      "get_com_vodsystemtype           101334 non-null object\n",
      "get_coupon_crosscom             145084 non-null int64\n",
      "registertime                    129769 non-null object\n",
      "customer_status                 129769 non-null object\n",
      "openid                          74159 non-null object\n",
      "wechat_sex                      65695 non-null object\n",
      "wechat_city                     65695 non-null object\n",
      "wechat_province                 65695 non-null object\n",
      "wechat_country                  65695 non-null object\n",
      "kmid                            901 non-null object\n",
      "member_birthday                 5 non-null float64\n",
      "km_sex                          5 non-null float64\n",
      "accountcash                     5 non-null object\n",
      "accountbalance                  5 non-null object\n",
      "integralbalance                 5 non-null object\n",
      "consumetotal                    5 non-null object\n",
      "consumetimes                    5 non-null object\n",
      "member_age_cut                  5 non-null object\n",
      "lastconsume_diff_create_day     5 non-null float64\n",
      "lastconsume_diff_create_hour    5 non-null float64\n",
      "lastconsume_diff_now            5 non-null float64\n",
      "dtypes: float64(9), int64(1), object(20)\n",
      "memory usage: 34.3+ MB\n"
     ]
    }
   ],
   "source": [
    "df.info()"
   ]
  },
  {
   "cell_type": "code",
   "execution_count": null,
   "metadata": {
    "collapsed": true
   },
   "outputs": [],
   "source": []
  },
  {
   "cell_type": "code",
   "execution_count": null,
   "metadata": {
    "collapsed": true
   },
   "outputs": [],
   "source": []
  },
  {
   "cell_type": "code",
   "execution_count": null,
   "metadata": {
    "collapsed": true
   },
   "outputs": [],
   "source": []
  },
  {
   "cell_type": "code",
   "execution_count": null,
   "metadata": {
    "collapsed": true
   },
   "outputs": [],
   "source": []
  },
  {
   "cell_type": "code",
   "execution_count": null,
   "metadata": {
    "collapsed": true
   },
   "outputs": [],
   "source": []
  }
 ],
 "metadata": {
  "kernelspec": {
   "display_name": "Python 2",
   "language": "python",
   "name": "python2"
  },
  "language_info": {
   "codemirror_mode": {
    "name": "ipython",
    "version": 2
   },
   "file_extension": ".py",
   "mimetype": "text/x-python",
   "name": "python",
   "nbconvert_exporter": "python",
   "pygments_lexer": "ipython2",
   "version": "2.7.11"
  }
 },
 "nbformat": 4,
 "nbformat_minor": 0
}
