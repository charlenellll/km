{
 "cells": [
  {
   "cell_type": "code",
   "execution_count": 1,
   "metadata": {
    "collapsed": false
   },
   "outputs": [],
   "source": [
    "# coding:utf-8\n",
    "\"\"\"\n",
    "本篇为单独调试shop()函数的调试记录，后期将加入UserMainData\n",
    "\"\"\"\n",
    "import pandas as pd\n",
    "import numpy as np\n",
    "from impala.dbapi import connect\n",
    "from impala.util import as_pandas\n",
    "import cPickle\n",
    "import re\n",
    "import datetime as dt\n",
    "import pymysql.cursors\n",
    "\n",
    "# Global variables\n",
    "mysql_host = '172.21.1.151'\n",
    "mysql_port = 3306\n",
    "mysql_user = 'xli'\n",
    "mysql_password = '123456'\n",
    "mysql_db = 'kdwtemp2'\n",
    "mysql_charset = 'utf8mb4'\n",
    "\n",
    "def easy_print(terms,tname, records=10): #逐条描述前五条记录，方便仔细查看表中值的特征\n",
    "    conn = connect(host='172.21.1.120', port=21050, user='udms', database='kmi_month') \n",
    "    cur = conn.cursor()     \n",
    "    \n",
    "    sql = 'SELECT ' + terms + ' FROM ' + tname + ' LIMIT 5' \n",
    "    cur.execute(sql)\n",
    "    read_in = as_pandas(cur)    \n",
    "    cur.close()\n",
    "    conn.close()\n",
    "    \n",
    "    #print in a format\n",
    "    columns = read_in.columns.values\n",
    "    values = read_in.values\n",
    "    records = []\n",
    "    for v in values:\n",
    "        records.append(zip(columns, v))\n",
    "    \n",
    "    for ix,r in enumerate(records):\n",
    "        print('----------第%s条记录--------' % (ix+1))\n",
    "        for k, v in r:\n",
    "            print('%s: %s' % (k, v))\n",
    "            \n",
    "def full_print(terms,tname): #打出全表所选列，以方便进行统计查看规律，决定处理方法\n",
    "    conn = connect(host='172.21.1.120', port=21050, user='udms', database='kmi_month') \n",
    "    cur = conn.cursor()     \n",
    "    \n",
    "    sql = 'SELECT ' + terms + ' FROM ' + tname\n",
    "    cur.execute(sql)\n",
    "    df = as_pandas(cur)\n",
    "    print df\n",
    "    cur.close()\n",
    "    conn.close()\n",
    "\n",
    "def is_wine(data):\n",
    "    pattern = re.compile(r\"酒\")\n",
    "    if re.search(pattern,data):\n",
    "        return 1\n",
    "    else:\n",
    "        return 0\n",
    "    \n",
    "def is_cigarette(data):\n",
    "    pattern = re.compile(r\"烟\")\n",
    "    if re.search(pattern,data):\n",
    "        return 1\n",
    "    else:\n",
    "        return 0\n",
    "    \n",
    "def convert_time(data):\n",
    "    data = pd.to_datetime(data, format='%Y-%m-%d %H:%M:%S')\n",
    "    return data\n",
    "\n",
    "def shop_before_dawn(data):\n",
    "    if data.hour < 6:\n",
    "        return 1\n",
    "    else:\n",
    "        return 0\n",
    "    \n",
    "def shop_morning(data):\n",
    "    if data.hour >=6 and data.hour < 12:\n",
    "        return 1\n",
    "    else:\n",
    "        return 0\n",
    "def shop_afternoon(data):\n",
    "    if data.hour >= 12 and data.hour < 18:\n",
    "        return 1\n",
    "    else:\n",
    "        return 0\n",
    "    \n",
    "def shop_night(data):\n",
    "    if data.hour >= 18:\n",
    "        return 1\n",
    "    else:\n",
    "        return 0\n",
    "\n",
    "def convert_weekday(data):\n",
    "    return data.weekday()\n",
    "    \n",
    "def shop():\n",
    "    conn = connect(host='172.21.1.120', port=21050, user='udms', database='kmi_month') \n",
    "    cur = conn.cursor()\n",
    "    \n",
    "    # 1. 合并商品id和商品类别信息\n",
    "    sql = 'SELECT materialsortid,materialid,companyid FROM wj_tbl_shopmaterial'\n",
    "    cur.execute(sql)\n",
    "    df = as_pandas(cur)\n",
    "    sql = 'SELECT materialsortid,materialsortname,companyid FROM wj_tbl_shopmaterialsort'\n",
    "    cur.execute(sql)\n",
    "    df2 = as_pandas(cur)\n",
    "    material = pd.merge(df,df2,how='inner',left_on=['materialsortid','companyid'],right_on=['materialsortid','companyid'])\n",
    "    material.drop('materialsortid',axis=1,inplace=True)\n",
    "    \n",
    "    # 2. 订单消费总额和类别判断\n",
    "    sql = 'SELECT onlineorderid,materialid,companyid,ordernumber,sellprice,originalprice FROM wj_tbl_onlineorderdetail'\n",
    "    cur.execute(sql)\n",
    "    df = as_pandas(cur)\n",
    "    df['sellprice'] = map(int,df['sellprice'])\n",
    "    df['originalprice'] = map(int,df['originalprice'])\n",
    "    df['ordernumber'] = map(int,df['ordernumber'])\n",
    "    df['shop_real_sum'] = df['ordernumber']*df['sellprice']\n",
    "    df['shop_original_sum'] = df['ordernumber']*df['originalprice']\n",
    "    # 去除未消费的记录\n",
    "    df = df[df['shop_original_sum'] > 0]   \n",
    "    # 判断消费类型\n",
    "    shop_material = pd.merge(df,material,how='left',left_on=['materialid','companyid'],right_on=['materialid','companyid'])\n",
    "    shop_material['materialsortname'].fillna('null',inplace=True)\n",
    "    shop_material['shop_wine'] = [is_wine(i) for i in shop_material['materialsortname']]\n",
    "    shop_material['shop_cigarette'] = [is_cigarette(i) for i in shop_material['materialsortname']] \n",
    "    # 排序和去重，对每个用户取购买烟酒特价最大值\n",
    "    shop_material.sort_values(by=['onlineorderid','shop_wine','shop_cigarette'],ascending=[1,0,0],inplace=True)\n",
    "    shop_material.drop_duplicates(subset='onlineorderid',inplace=True)\n",
    "    \n",
    "    # 3. 消费静态数据全维度分析统计\n",
    "    sql = 'SELECT openid,onlineorderid,orderdatetime,status FROM wj_tbl_onlineorder'\n",
    "    cur.execute(sql)\n",
    "    df = as_pandas(cur)\n",
    "    # 只保留已消费订单\n",
    "    df = df[df['status']=='3']\n",
    "    # 对单条记录统计用户消费时段\n",
    "    df['shop_cnt'] = 1\n",
    "    df['orderdatetime'] = map(convert_time, df['orderdatetime'])\n",
    "    df['shop_before_dawn'] = map(shop_before_dawn,df['orderdatetime'])\n",
    "    df['shop_morning'] = map(shop_morning,df['orderdatetime'])\n",
    "    df['shop_afternoon'] = map(shop_afternoon,df['orderdatetime'])\n",
    "    df['shop_night'] = map(shop_night,df['orderdatetime'])\n",
    "    df['weekday'] = map(convert_weekday,df['orderdatetime'])\n",
    "    df['shop_weekday'] = map(int,df['weekday'].isin({0,1,2,3,4})) # 0是周一，6是周日\n",
    "    df['shop_weekend'] = map(int,df['weekday'].isin({5,6}))\n",
    "    df.drop('weekday',axis=1,inplace=True)\n",
    "    df = pd.merge(shop_material,df,how='outer',left_on='onlineorderid',right_on='onlineorderid')\n",
    "    df['shop_before_dawn_sum'] = df['shop_before_dawn']*df['shop_original_sum']\n",
    "    df['shop_morning_sum'] = df['shop_morning']*df['shop_original_sum']\n",
    "    df['shop_afternoon_sum'] = df['shop_afternoon']*df['shop_original_sum']\n",
    "    df['shop_night_sum'] = df['shop_night']*df['shop_original_sum']\n",
    "    df['shop_weekday_sum'] = df['shop_weekday']*df['shop_original_sum']\n",
    "    df['shop_weekend_sum'] = df['shop_weekend']*df['shop_original_sum']\n",
    "    \n",
    "    # 统计用户总消费数据\n",
    "    df1 = df.groupby('openid',as_index=False).sum()\n",
    "    drop_columns = ['ordernumber','sellprice','originalprice']\n",
    "    df1 = df1[df1['shop_real_sum']<=df1['shop_original_sum']]\n",
    "    df1['shop_real_sum_avg'] = df1['shop_real_sum']/df1['shop_cnt']\n",
    "    df1['shop_original_sum_avg'] = df1['shop_original_sum']/df1['shop_cnt']\n",
    "    df1.drop(drop_columns,axis=1,inplace=True)\n",
    "    df1.columns = ['openid', 'shop_real_sum', 'shop_original_sum','shop_wine_cnt', 'shop_cigarette_cnt','shop_cnt', 'shop_before_dawn_cnt',\n",
    "       'shop_morning_cnt', 'shop_afternoon_cnt', 'shop_night_cnt', 'shop_weekday_cnt',\n",
    "       'shop_weekend_cnt', 'shop_before_dawn_sum', 'shop_morning_sum',\n",
    "       'shop_afternoon_sum', 'shop_night_sum', 'shop_weekday_sum',\n",
    "       'shop_weekend_sum', 'shop_real_sum_avg', 'shop_original_sum_avg']\n",
    "    # 统计用户消费最大最小平均值\n",
    "    # 最大值\n",
    "    df2 = df.sort_values(['openid','shop_real_sum','shop_original_sum'],ascending=[1,0,0])\n",
    "    df2.drop_duplicates('openid',inplace=True)\n",
    "    drop_columns = ['onlineorderid', 'materialid', 'companyid', 'ordernumber',\n",
    "                   'sellprice', 'originalprice', \n",
    "                   'materialsortname', 'shop_wine', 'shop_cigarette', \n",
    "                   'orderdatetime', 'status', 'shop_cnt', 'shop_before_dawn', 'shop_morning',\n",
    "                   'shop_afternoon', 'shop_night', 'shop_weekday', 'shop_weekend',\n",
    "                   'shop_before_dawn_sum', 'shop_morning_sum', 'shop_afternoon_sum',\n",
    "                   'shop_night_sum', 'shop_weekday_sum', 'shop_weekend_sum']\n",
    "    df2.drop(drop_columns,axis=1,inplace=True)\n",
    "    df2.columns = ['shop_real_sum_max','shop_original_sum_max','openid']\n",
    "    # 最小值\n",
    "    df3 = df.sort_values(['openid','shop_real_sum','shop_original_sum'],ascending=[1,1,1])\n",
    "    df3.drop_duplicates('openid',inplace=True)\n",
    "    drop_columns = ['onlineorderid', 'materialid', 'companyid', 'ordernumber',\n",
    "                   'sellprice', 'originalprice', \n",
    "                   'materialsortname', 'shop_wine', 'shop_cigarette', \n",
    "                   'orderdatetime', 'status', 'shop_cnt', 'shop_before_dawn', 'shop_morning',\n",
    "                   'shop_afternoon', 'shop_night', 'shop_weekday', 'shop_weekend',\n",
    "                   'shop_before_dawn_sum', 'shop_morning_sum', 'shop_afternoon_sum',\n",
    "                   'shop_night_sum', 'shop_weekday_sum', 'shop_weekend_sum']\n",
    "    df3.drop(drop_columns,axis=1,inplace=True)\n",
    "    df3.columns = ['shop_real_sum_min','shop_original_sum_min','openid']\n",
    "    \n",
    "    df = pd.merge(df2,df3,how='outer',left_on='openid',right_on='openid')\n",
    "    df = pd.merge(df1,df,how='left',left_on='openid',right_on='openid')\n",
    "    order_stat = df\n",
    "    \n",
    "    # 4. 用户消费最多的一家商家记录\n",
    "    sql = 'SELECT openid,companyid as shop_companyid FROM wj_tbl_onlineorder'\n",
    "    cur.execute(sql)\n",
    "    df = as_pandas(cur)\n",
    "    df['cnt'] = 1\n",
    "    df = df.groupby(['openid','shop_companyid'],as_index=False).count()\n",
    "    df.columns = ['openid','shop_companyid','shop_com_cnt']\n",
    "    df.sort_values(['openid','shop_com_cnt'],ascending=[1,0],inplace=True)\n",
    "    df.drop_duplicates(subset='openid',inplace=True)\n",
    "    shop_com = df\n",
    "    \n",
    "    # 5. 对用户在线消费单数计数\n",
    "    sql = 'SELECT openid,onlineorderid FROM wj_tbl_onlineorder'\n",
    "    cur.execute(sql)\n",
    "    df = as_pandas(cur)   \n",
    "    df = df.groupby('openid',as_index=False).count()\n",
    "    df.columns = ['openid','shop_order_cnt']\n",
    "    order_cnt = df\n",
    "    \n",
    "    # 6. 合并用户静态消费和其消费最多商户记录\n",
    "    order_com = pd.merge(order_stat,shop_com,how='inner',left_on='openid',right_on='openid')\n",
    "    df = pd.merge(order_com,order_cnt,how='inner',left_on='openid',right_on='openid')\n",
    "    df['shop_cross_com'] = map(int,df['shop_order_cnt'] > df['shop_com_cnt'])\n",
    "    merged = df\n",
    "    \n",
    "    # 7. 和商家数据整合在一起\n",
    "    sql = \"\"\"SELECT companyid as shop_companyid,roomnum as shop_com_roomnum,regioncode as shop_com_regioncode,\n",
    "    managetype as shop_com_managetype,vodsystemtype as shop_com_vodsystemtype FROM kdw_tbl_companybase\"\"\"\n",
    "    cur.execute(sql)\n",
    "    company = as_pandas(cur)    \n",
    "    df = pd.merge(merged,company,how='left',left_on='shop_companyid',right_on='shop_companyid')\n",
    "    \n",
    "    cur.close()\n",
    "    conn.close()\n",
    "    # 将中间结果暂存于Mysqldb中\n",
    "    conn = pymysql.connect(host=mysql_host,\n",
    "                                      port=mysql_port,\n",
    "                                      user=mysql_user,\n",
    "                                      password=mysql_password,\n",
    "                                      db=mysql_db,\n",
    "                                      charset=mysql_charset)\n",
    "    \n",
    "    df.to_sql(name=\"ljl_shop\", con=conn, flavor='mysql', if_exists='replace', index=False)\n",
    "    conn.close()"
   ]
  },
  {
   "cell_type": "code",
   "execution_count": 2,
   "metadata": {
    "collapsed": false
   },
   "outputs": [
    {
     "name": "stderr",
     "output_type": "stream",
     "text": [
      "D:\\Users\\Lenovo\\Anaconda2\\lib\\site-packages\\pandas\\core\\generic.py:1003: FutureWarning: The 'mysql' flavor with DBAPI connection is deprecated and will be removed in future versions. MySQL will be further supported with SQLAlchemy connectables.\n",
      "  dtype=dtype)\n"
     ]
    }
   ],
   "source": [
    "shop()"
   ]
  },
  {
   "cell_type": "markdown",
   "metadata": {},
   "source": [
    "## 1. 合并商品id和商品类别信息"
   ]
  },
  {
   "cell_type": "code",
   "execution_count": 30,
   "metadata": {
    "collapsed": false
   },
   "outputs": [],
   "source": [
    "df = shop()"
   ]
  },
  {
   "cell_type": "code",
   "execution_count": 31,
   "metadata": {
    "collapsed": false
   },
   "outputs": [
    {
     "data": {
      "text/html": [
       "<div>\n",
       "<table border=\"1\" class=\"dataframe\">\n",
       "  <thead>\n",
       "    <tr style=\"text-align: right;\">\n",
       "      <th></th>\n",
       "      <th>materialid</th>\n",
       "      <th>companyid</th>\n",
       "      <th>materialsortname</th>\n",
       "    </tr>\n",
       "  </thead>\n",
       "  <tbody>\n",
       "    <tr>\n",
       "      <th>0</th>\n",
       "      <td>31</td>\n",
       "      <td>1137</td>\n",
       "      <td>食品</td>\n",
       "    </tr>\n",
       "    <tr>\n",
       "      <th>1</th>\n",
       "      <td>60</td>\n",
       "      <td>1137</td>\n",
       "      <td>食品</td>\n",
       "    </tr>\n",
       "    <tr>\n",
       "      <th>2</th>\n",
       "      <td>296</td>\n",
       "      <td>1137</td>\n",
       "      <td>食品</td>\n",
       "    </tr>\n",
       "    <tr>\n",
       "      <th>3</th>\n",
       "      <td>309</td>\n",
       "      <td>1137</td>\n",
       "      <td>食品</td>\n",
       "    </tr>\n",
       "    <tr>\n",
       "      <th>4</th>\n",
       "      <td>416</td>\n",
       "      <td>1137</td>\n",
       "      <td>食品</td>\n",
       "    </tr>\n",
       "  </tbody>\n",
       "</table>\n",
       "</div>"
      ],
      "text/plain": [
       "  materialid companyid materialsortname\n",
       "0         31      1137               食品\n",
       "1         60      1137               食品\n",
       "2        296      1137               食品\n",
       "3        309      1137               食品\n",
       "4        416      1137               食品"
      ]
     },
     "execution_count": 31,
     "metadata": {},
     "output_type": "execute_result"
    }
   ],
   "source": [
    "df.head()"
   ]
  },
  {
   "cell_type": "code",
   "execution_count": 28,
   "metadata": {
    "collapsed": false
   },
   "outputs": [
    {
     "data": {
      "text/plain": [
       "(1799, 3)"
      ]
     },
     "execution_count": 28,
     "metadata": {},
     "output_type": "execute_result"
    }
   ],
   "source": [
    "df.shape"
   ]
  },
  {
   "cell_type": "markdown",
   "metadata": {
    "collapsed": true
   },
   "source": [
    "## 2. 订单消费总额和类别判断"
   ]
  },
  {
   "cell_type": "markdown",
   "metadata": {},
   "source": [
    "### 原始读出数据"
   ]
  },
  {
   "cell_type": "code",
   "execution_count": 37,
   "metadata": {
    "collapsed": false
   },
   "outputs": [
    {
     "data": {
      "text/html": [
       "<div>\n",
       "<table border=\"1\" class=\"dataframe\">\n",
       "  <thead>\n",
       "    <tr style=\"text-align: right;\">\n",
       "      <th></th>\n",
       "      <th>onlineorderid</th>\n",
       "      <th>materialid</th>\n",
       "      <th>companyid</th>\n",
       "      <th>ordernumber</th>\n",
       "      <th>sellprice</th>\n",
       "      <th>originalprice</th>\n",
       "    </tr>\n",
       "  </thead>\n",
       "  <tbody>\n",
       "    <tr>\n",
       "      <th>0</th>\n",
       "      <td>162174</td>\n",
       "      <td>580</td>\n",
       "      <td>4067</td>\n",
       "      <td>1</td>\n",
       "      <td>12.00</td>\n",
       "      <td>12.00</td>\n",
       "    </tr>\n",
       "    <tr>\n",
       "      <th>1</th>\n",
       "      <td>162175</td>\n",
       "      <td>774</td>\n",
       "      <td>8005</td>\n",
       "      <td>1</td>\n",
       "      <td>58.00</td>\n",
       "      <td>58.00</td>\n",
       "    </tr>\n",
       "    <tr>\n",
       "      <th>2</th>\n",
       "      <td>162175</td>\n",
       "      <td>289</td>\n",
       "      <td>8005</td>\n",
       "      <td>1</td>\n",
       "      <td>0.00</td>\n",
       "      <td>0.00</td>\n",
       "    </tr>\n",
       "    <tr>\n",
       "      <th>3</th>\n",
       "      <td>162175</td>\n",
       "      <td>697</td>\n",
       "      <td>8005</td>\n",
       "      <td>1</td>\n",
       "      <td>0.00</td>\n",
       "      <td>0.00</td>\n",
       "    </tr>\n",
       "    <tr>\n",
       "      <th>4</th>\n",
       "      <td>162176</td>\n",
       "      <td>308</td>\n",
       "      <td>180</td>\n",
       "      <td>1</td>\n",
       "      <td>16.00</td>\n",
       "      <td>16.00</td>\n",
       "    </tr>\n",
       "  </tbody>\n",
       "</table>\n",
       "</div>"
      ],
      "text/plain": [
       "  onlineorderid materialid companyid ordernumber sellprice originalprice\n",
       "0        162174        580      4067           1     12.00         12.00\n",
       "1        162175        774      8005           1     58.00         58.00\n",
       "2        162175        289      8005           1      0.00          0.00\n",
       "3        162175        697      8005           1      0.00          0.00\n",
       "4        162176        308       180           1     16.00         16.00"
      ]
     },
     "execution_count": 37,
     "metadata": {},
     "output_type": "execute_result"
    }
   ],
   "source": [
    "df.head()"
   ]
  },
  {
   "cell_type": "markdown",
   "metadata": {},
   "source": [
    "### 清理未消费数据前"
   ]
  },
  {
   "cell_type": "code",
   "execution_count": 85,
   "metadata": {
    "collapsed": false
   },
   "outputs": [
    {
     "data": {
      "text/html": [
       "<div>\n",
       "<table border=\"1\" class=\"dataframe\">\n",
       "  <thead>\n",
       "    <tr style=\"text-align: right;\">\n",
       "      <th></th>\n",
       "      <th>onlineorderid</th>\n",
       "      <th>materialid</th>\n",
       "      <th>companyid</th>\n",
       "      <th>ordernumber</th>\n",
       "      <th>sellprice</th>\n",
       "      <th>originalprice</th>\n",
       "      <th>real_sum</th>\n",
       "      <th>original_sum</th>\n",
       "    </tr>\n",
       "  </thead>\n",
       "  <tbody>\n",
       "    <tr>\n",
       "      <th>0</th>\n",
       "      <td>162174</td>\n",
       "      <td>580</td>\n",
       "      <td>4067</td>\n",
       "      <td>1</td>\n",
       "      <td>12</td>\n",
       "      <td>12</td>\n",
       "      <td>12</td>\n",
       "      <td>12</td>\n",
       "    </tr>\n",
       "    <tr>\n",
       "      <th>1</th>\n",
       "      <td>162175</td>\n",
       "      <td>774</td>\n",
       "      <td>8005</td>\n",
       "      <td>1</td>\n",
       "      <td>58</td>\n",
       "      <td>58</td>\n",
       "      <td>58</td>\n",
       "      <td>58</td>\n",
       "    </tr>\n",
       "    <tr>\n",
       "      <th>2</th>\n",
       "      <td>162175</td>\n",
       "      <td>289</td>\n",
       "      <td>8005</td>\n",
       "      <td>1</td>\n",
       "      <td>0</td>\n",
       "      <td>0</td>\n",
       "      <td>0</td>\n",
       "      <td>0</td>\n",
       "    </tr>\n",
       "    <tr>\n",
       "      <th>3</th>\n",
       "      <td>162175</td>\n",
       "      <td>697</td>\n",
       "      <td>8005</td>\n",
       "      <td>1</td>\n",
       "      <td>0</td>\n",
       "      <td>0</td>\n",
       "      <td>0</td>\n",
       "      <td>0</td>\n",
       "    </tr>\n",
       "    <tr>\n",
       "      <th>4</th>\n",
       "      <td>162176</td>\n",
       "      <td>308</td>\n",
       "      <td>180</td>\n",
       "      <td>1</td>\n",
       "      <td>16</td>\n",
       "      <td>16</td>\n",
       "      <td>16</td>\n",
       "      <td>16</td>\n",
       "    </tr>\n",
       "  </tbody>\n",
       "</table>\n",
       "</div>"
      ],
      "text/plain": [
       "  onlineorderid materialid companyid  ordernumber  sellprice  originalprice  \\\n",
       "0        162174        580      4067            1         12             12   \n",
       "1        162175        774      8005            1         58             58   \n",
       "2        162175        289      8005            1          0              0   \n",
       "3        162175        697      8005            1          0              0   \n",
       "4        162176        308       180            1         16             16   \n",
       "\n",
       "   real_sum  original_sum  \n",
       "0        12            12  \n",
       "1        58            58  \n",
       "2         0             0  \n",
       "3         0             0  \n",
       "4        16            16  "
      ]
     },
     "execution_count": 85,
     "metadata": {},
     "output_type": "execute_result"
    }
   ],
   "source": [
    "df.head()"
   ]
  },
  {
   "cell_type": "markdown",
   "metadata": {},
   "source": [
    "### ordernumber类型问题导致刚开始计算总额出错，转为int就好了"
   ]
  },
  {
   "cell_type": "code",
   "execution_count": 77,
   "metadata": {
    "collapsed": false
   },
   "outputs": [
    {
     "name": "stdout",
     "output_type": "stream",
     "text": [
      "<class 'pandas.core.frame.DataFrame'>\n",
      "Int64Index: 191543 entries, 0 to 191542\n",
      "Data columns (total 6 columns):\n",
      "onlineorderid    191543 non-null object\n",
      "materialid       191543 non-null object\n",
      "companyid        191543 non-null object\n",
      "ordernumber      191543 non-null object\n",
      "sellprice        191543 non-null int64\n",
      "originalprice    191543 non-null int64\n",
      "dtypes: int64(2), object(4)\n",
      "memory usage: 10.2+ MB\n"
     ]
    }
   ],
   "source": [
    "df.info()"
   ]
  },
  {
   "cell_type": "code",
   "execution_count": 86,
   "metadata": {
    "collapsed": false
   },
   "outputs": [
    {
     "data": {
      "text/plain": [
       "(191543, 8)"
      ]
     },
     "execution_count": 86,
     "metadata": {},
     "output_type": "execute_result"
    }
   ],
   "source": [
    "df.shape"
   ]
  },
  {
   "cell_type": "markdown",
   "metadata": {},
   "source": [
    "### 清除未消费记录后"
   ]
  },
  {
   "cell_type": "code",
   "execution_count": 91,
   "metadata": {
    "collapsed": false
   },
   "outputs": [
    {
     "data": {
      "text/html": [
       "<div>\n",
       "<table border=\"1\" class=\"dataframe\">\n",
       "  <thead>\n",
       "    <tr style=\"text-align: right;\">\n",
       "      <th></th>\n",
       "      <th>onlineorderid</th>\n",
       "      <th>materialid</th>\n",
       "      <th>companyid</th>\n",
       "      <th>ordernumber</th>\n",
       "      <th>sellprice</th>\n",
       "      <th>originalprice</th>\n",
       "      <th>real_sum</th>\n",
       "      <th>original_sum</th>\n",
       "    </tr>\n",
       "  </thead>\n",
       "  <tbody>\n",
       "    <tr>\n",
       "      <th>0</th>\n",
       "      <td>162174</td>\n",
       "      <td>580</td>\n",
       "      <td>4067</td>\n",
       "      <td>1</td>\n",
       "      <td>12</td>\n",
       "      <td>12</td>\n",
       "      <td>12</td>\n",
       "      <td>12</td>\n",
       "    </tr>\n",
       "    <tr>\n",
       "      <th>1</th>\n",
       "      <td>162175</td>\n",
       "      <td>774</td>\n",
       "      <td>8005</td>\n",
       "      <td>1</td>\n",
       "      <td>58</td>\n",
       "      <td>58</td>\n",
       "      <td>58</td>\n",
       "      <td>58</td>\n",
       "    </tr>\n",
       "    <tr>\n",
       "      <th>4</th>\n",
       "      <td>162176</td>\n",
       "      <td>308</td>\n",
       "      <td>180</td>\n",
       "      <td>1</td>\n",
       "      <td>16</td>\n",
       "      <td>16</td>\n",
       "      <td>16</td>\n",
       "      <td>16</td>\n",
       "    </tr>\n",
       "    <tr>\n",
       "      <th>5</th>\n",
       "      <td>162177</td>\n",
       "      <td>289</td>\n",
       "      <td>4938</td>\n",
       "      <td>1</td>\n",
       "      <td>16</td>\n",
       "      <td>16</td>\n",
       "      <td>16</td>\n",
       "      <td>16</td>\n",
       "    </tr>\n",
       "    <tr>\n",
       "      <th>6</th>\n",
       "      <td>162178</td>\n",
       "      <td>1622</td>\n",
       "      <td>1118</td>\n",
       "      <td>1</td>\n",
       "      <td>10</td>\n",
       "      <td>10</td>\n",
       "      <td>10</td>\n",
       "      <td>10</td>\n",
       "    </tr>\n",
       "  </tbody>\n",
       "</table>\n",
       "</div>"
      ],
      "text/plain": [
       "  onlineorderid materialid companyid  ordernumber  sellprice  originalprice  \\\n",
       "0        162174        580      4067            1         12             12   \n",
       "1        162175        774      8005            1         58             58   \n",
       "4        162176        308       180            1         16             16   \n",
       "5        162177        289      4938            1         16             16   \n",
       "6        162178       1622      1118            1         10             10   \n",
       "\n",
       "   real_sum  original_sum  \n",
       "0        12            12  \n",
       "1        58            58  \n",
       "4        16            16  \n",
       "5        16            16  \n",
       "6        10            10  "
      ]
     },
     "execution_count": 91,
     "metadata": {},
     "output_type": "execute_result"
    }
   ],
   "source": [
    "df.head()"
   ]
  },
  {
   "cell_type": "code",
   "execution_count": 92,
   "metadata": {
    "collapsed": false
   },
   "outputs": [
    {
     "data": {
      "text/plain": [
       "(153729, 8)"
      ]
     },
     "execution_count": 92,
     "metadata": {},
     "output_type": "execute_result"
    }
   ],
   "source": [
    "df.shape"
   ]
  },
  {
   "cell_type": "markdown",
   "metadata": {},
   "source": [
    "### shop_sum"
   ]
  },
  {
   "cell_type": "code",
   "execution_count": 191,
   "metadata": {
    "collapsed": false
   },
   "outputs": [
    {
     "data": {
      "text/html": [
       "<div>\n",
       "<table border=\"1\" class=\"dataframe\">\n",
       "  <thead>\n",
       "    <tr style=\"text-align: right;\">\n",
       "      <th></th>\n",
       "      <th>onlineorderid</th>\n",
       "      <th>shop_real_sum</th>\n",
       "      <th>shop_original_sum</th>\n",
       "    </tr>\n",
       "  </thead>\n",
       "  <tbody>\n",
       "    <tr>\n",
       "      <th>0</th>\n",
       "      <td>162174</td>\n",
       "      <td>12</td>\n",
       "      <td>12</td>\n",
       "    </tr>\n",
       "    <tr>\n",
       "      <th>1</th>\n",
       "      <td>162175</td>\n",
       "      <td>58</td>\n",
       "      <td>58</td>\n",
       "    </tr>\n",
       "    <tr>\n",
       "      <th>2</th>\n",
       "      <td>162176</td>\n",
       "      <td>16</td>\n",
       "      <td>16</td>\n",
       "    </tr>\n",
       "    <tr>\n",
       "      <th>3</th>\n",
       "      <td>162177</td>\n",
       "      <td>16</td>\n",
       "      <td>16</td>\n",
       "    </tr>\n",
       "    <tr>\n",
       "      <th>4</th>\n",
       "      <td>162178</td>\n",
       "      <td>10</td>\n",
       "      <td>10</td>\n",
       "    </tr>\n",
       "  </tbody>\n",
       "</table>\n",
       "</div>"
      ],
      "text/plain": [
       "  onlineorderid  shop_real_sum  shop_original_sum\n",
       "0        162174             12                 12\n",
       "1        162175             58                 58\n",
       "2        162176             16                 16\n",
       "3        162177             16                 16\n",
       "4        162178             10                 10"
      ]
     },
     "execution_count": 191,
     "metadata": {},
     "output_type": "execute_result"
    }
   ],
   "source": [
    "df.head()"
   ]
  },
  {
   "cell_type": "code",
   "execution_count": 192,
   "metadata": {
    "collapsed": false
   },
   "outputs": [
    {
     "data": {
      "text/plain": [
       "(100216, 3)"
      ]
     },
     "execution_count": 192,
     "metadata": {},
     "output_type": "execute_result"
    }
   ],
   "source": [
    "df.shape"
   ]
  },
  {
   "cell_type": "markdown",
   "metadata": {},
   "source": [
    "### shop_material"
   ]
  },
  {
   "cell_type": "code",
   "execution_count": 205,
   "metadata": {
    "collapsed": false,
    "scrolled": true
   },
   "outputs": [
    {
     "data": {
      "text/html": [
       "<div>\n",
       "<table border=\"1\" class=\"dataframe\">\n",
       "  <thead>\n",
       "    <tr style=\"text-align: right;\">\n",
       "      <th></th>\n",
       "      <th>onlineorderid</th>\n",
       "      <th>materialid</th>\n",
       "      <th>companyid</th>\n",
       "      <th>ordernumber</th>\n",
       "      <th>sellprice</th>\n",
       "      <th>originalprice</th>\n",
       "      <th>shop_real_sum</th>\n",
       "      <th>shop_original_sum</th>\n",
       "      <th>materialsortname</th>\n",
       "      <th>shop_wine</th>\n",
       "      <th>shop_cigarette</th>\n",
       "    </tr>\n",
       "  </thead>\n",
       "  <tbody>\n",
       "    <tr>\n",
       "      <th>0</th>\n",
       "      <td>162174</td>\n",
       "      <td>580</td>\n",
       "      <td>4067</td>\n",
       "      <td>1</td>\n",
       "      <td>12</td>\n",
       "      <td>12</td>\n",
       "      <td>12</td>\n",
       "      <td>12</td>\n",
       "      <td>null</td>\n",
       "      <td>0</td>\n",
       "      <td>0</td>\n",
       "    </tr>\n",
       "    <tr>\n",
       "      <th>1</th>\n",
       "      <td>162175</td>\n",
       "      <td>774</td>\n",
       "      <td>8005</td>\n",
       "      <td>1</td>\n",
       "      <td>58</td>\n",
       "      <td>58</td>\n",
       "      <td>58</td>\n",
       "      <td>58</td>\n",
       "      <td>null</td>\n",
       "      <td>0</td>\n",
       "      <td>0</td>\n",
       "    </tr>\n",
       "    <tr>\n",
       "      <th>2</th>\n",
       "      <td>162176</td>\n",
       "      <td>308</td>\n",
       "      <td>180</td>\n",
       "      <td>1</td>\n",
       "      <td>16</td>\n",
       "      <td>16</td>\n",
       "      <td>16</td>\n",
       "      <td>16</td>\n",
       "      <td>null</td>\n",
       "      <td>0</td>\n",
       "      <td>0</td>\n",
       "    </tr>\n",
       "    <tr>\n",
       "      <th>3</th>\n",
       "      <td>162177</td>\n",
       "      <td>289</td>\n",
       "      <td>4938</td>\n",
       "      <td>1</td>\n",
       "      <td>16</td>\n",
       "      <td>16</td>\n",
       "      <td>16</td>\n",
       "      <td>16</td>\n",
       "      <td>null</td>\n",
       "      <td>0</td>\n",
       "      <td>0</td>\n",
       "    </tr>\n",
       "    <tr>\n",
       "      <th>4</th>\n",
       "      <td>162178</td>\n",
       "      <td>1622</td>\n",
       "      <td>1118</td>\n",
       "      <td>1</td>\n",
       "      <td>10</td>\n",
       "      <td>10</td>\n",
       "      <td>10</td>\n",
       "      <td>10</td>\n",
       "      <td>null</td>\n",
       "      <td>0</td>\n",
       "      <td>0</td>\n",
       "    </tr>\n",
       "  </tbody>\n",
       "</table>\n",
       "</div>"
      ],
      "text/plain": [
       "  onlineorderid materialid companyid  ordernumber  sellprice  originalprice  \\\n",
       "0        162174        580      4067            1         12             12   \n",
       "1        162175        774      8005            1         58             58   \n",
       "2        162176        308       180            1         16             16   \n",
       "3        162177        289      4938            1         16             16   \n",
       "4        162178       1622      1118            1         10             10   \n",
       "\n",
       "   shop_real_sum  shop_original_sum materialsortname  shop_wine  \\\n",
       "0             12                 12             null          0   \n",
       "1             58                 58             null          0   \n",
       "2             16                 16             null          0   \n",
       "3             16                 16             null          0   \n",
       "4             10                 10             null          0   \n",
       "\n",
       "   shop_cigarette  \n",
       "0               0  \n",
       "1               0  \n",
       "2               0  \n",
       "3               0  \n",
       "4               0  "
      ]
     },
     "execution_count": 205,
     "metadata": {},
     "output_type": "execute_result"
    }
   ],
   "source": [
    "df.head()"
   ]
  },
  {
   "cell_type": "code",
   "execution_count": 206,
   "metadata": {
    "collapsed": false
   },
   "outputs": [
    {
     "data": {
      "text/plain": [
       "False    100216\n",
       "Name: onlineorderid, dtype: int64"
      ]
     },
     "execution_count": 206,
     "metadata": {},
     "output_type": "execute_result"
    }
   ],
   "source": [
    "pd.value_counts(df['onlineorderid'].isnull())"
   ]
  },
  {
   "cell_type": "code",
   "execution_count": 207,
   "metadata": {
    "collapsed": false
   },
   "outputs": [
    {
     "data": {
      "text/plain": [
       "(100216, 11)"
      ]
     },
     "execution_count": 207,
     "metadata": {},
     "output_type": "execute_result"
    }
   ],
   "source": [
    "df.shape"
   ]
  },
  {
   "cell_type": "markdown",
   "metadata": {},
   "source": [
    "## 对每个onlineorderid的消费求总和"
   ]
  },
  {
   "cell_type": "markdown",
   "metadata": {},
   "source": [
    "### 根据onlineorderid求和后"
   ]
  },
  {
   "cell_type": "code",
   "execution_count": 103,
   "metadata": {
    "collapsed": false
   },
   "outputs": [
    {
     "data": {
      "text/html": [
       "<div>\n",
       "<table border=\"1\" class=\"dataframe\">\n",
       "  <thead>\n",
       "    <tr style=\"text-align: right;\">\n",
       "      <th></th>\n",
       "      <th>onlineorderid</th>\n",
       "      <th>ordernumber</th>\n",
       "      <th>sellprice</th>\n",
       "      <th>originalprice</th>\n",
       "      <th>real_sum</th>\n",
       "      <th>original_sum</th>\n",
       "    </tr>\n",
       "  </thead>\n",
       "  <tbody>\n",
       "    <tr>\n",
       "      <th>0</th>\n",
       "      <td>162174</td>\n",
       "      <td>1</td>\n",
       "      <td>12</td>\n",
       "      <td>12</td>\n",
       "      <td>12</td>\n",
       "      <td>12</td>\n",
       "    </tr>\n",
       "    <tr>\n",
       "      <th>1</th>\n",
       "      <td>162175</td>\n",
       "      <td>1</td>\n",
       "      <td>58</td>\n",
       "      <td>58</td>\n",
       "      <td>58</td>\n",
       "      <td>58</td>\n",
       "    </tr>\n",
       "    <tr>\n",
       "      <th>2</th>\n",
       "      <td>162176</td>\n",
       "      <td>1</td>\n",
       "      <td>16</td>\n",
       "      <td>16</td>\n",
       "      <td>16</td>\n",
       "      <td>16</td>\n",
       "    </tr>\n",
       "    <tr>\n",
       "      <th>3</th>\n",
       "      <td>162177</td>\n",
       "      <td>1</td>\n",
       "      <td>16</td>\n",
       "      <td>16</td>\n",
       "      <td>16</td>\n",
       "      <td>16</td>\n",
       "    </tr>\n",
       "    <tr>\n",
       "      <th>4</th>\n",
       "      <td>162178</td>\n",
       "      <td>1</td>\n",
       "      <td>10</td>\n",
       "      <td>10</td>\n",
       "      <td>10</td>\n",
       "      <td>10</td>\n",
       "    </tr>\n",
       "  </tbody>\n",
       "</table>\n",
       "</div>"
      ],
      "text/plain": [
       "  onlineorderid  ordernumber  sellprice  originalprice  real_sum  original_sum\n",
       "0        162174            1         12             12        12            12\n",
       "1        162175            1         58             58        58            58\n",
       "2        162176            1         16             16        16            16\n",
       "3        162177            1         16             16        16            16\n",
       "4        162178            1         10             10        10            10"
      ]
     },
     "execution_count": 103,
     "metadata": {},
     "output_type": "execute_result"
    }
   ],
   "source": [
    "df.head()"
   ]
  },
  {
   "cell_type": "code",
   "execution_count": 104,
   "metadata": {
    "collapsed": false
   },
   "outputs": [
    {
     "data": {
      "text/plain": [
       "(100216, 6)"
      ]
     },
     "execution_count": 104,
     "metadata": {},
     "output_type": "execute_result"
    }
   ],
   "source": [
    "df.shape"
   ]
  },
  {
   "cell_type": "markdown",
   "metadata": {},
   "source": [
    "### 没变化，故此步无用，弃之"
   ]
  },
  {
   "cell_type": "markdown",
   "metadata": {},
   "source": [
    "## 判断消费类型"
   ]
  },
  {
   "cell_type": "markdown",
   "metadata": {},
   "source": [
    "### 判断用户是否购买了烟酒"
   ]
  },
  {
   "cell_type": "code",
   "execution_count": 6,
   "metadata": {
    "collapsed": false
   },
   "outputs": [
    {
     "data": {
      "text/plain": [
       "0    155207\n",
       "1       258\n",
       "Name: shop_wine, dtype: int64"
      ]
     },
     "execution_count": 6,
     "metadata": {},
     "output_type": "execute_result"
    }
   ],
   "source": [
    "pd.value_counts(df['shop_wine'])"
   ]
  },
  {
   "cell_type": "code",
   "execution_count": 7,
   "metadata": {
    "collapsed": false
   },
   "outputs": [
    {
     "data": {
      "text/plain": [
       "0    155459\n",
       "1         6\n",
       "Name: shop_cigarette, dtype: int64"
      ]
     },
     "execution_count": 7,
     "metadata": {},
     "output_type": "execute_result"
    }
   ],
   "source": [
    "pd.value_counts(df['shop_cigarette'])"
   ]
  },
  {
   "cell_type": "markdown",
   "metadata": {},
   "source": [
    "### 判断用户是否参加抢购活动：此统计不可行"
   ]
  },
  {
   "cell_type": "code",
   "execution_count": null,
   "metadata": {
    "collapsed": true
   },
   "outputs": [],
   "source": [
    "def is_discount(data):\n",
    "    pattern1 = re.compile(r\"特价\")\n",
    "    pattern2 = re.compile(r\"抢购\")\n",
    "    pattern3 = re.compile(r\"秒杀\")\n",
    "    pattern4 = re.compile(r\"限购\")\n",
    "    if re.search(pattern1,data) or re.search(pattern2,data) or re.search(pattern3,data) or re.search(pattern4,data):\n",
    "        return 1\n",
    "    else:\n",
    "        return 0\n",
    "shop_material['shop_discount'] = [is_discount(i) for i in shop_material['materialsortname']]"
   ]
  },
  {
   "cell_type": "code",
   "execution_count": 20,
   "metadata": {
    "collapsed": false
   },
   "outputs": [
    {
     "data": {
      "text/plain": [
       "0    155465\n",
       "Name: shop_discount, dtype: int64"
      ]
     },
     "execution_count": 20,
     "metadata": {},
     "output_type": "execute_result"
    }
   ],
   "source": [
    "pd.value_counts(df['shop_discount'])"
   ]
  },
  {
   "cell_type": "markdown",
   "metadata": {},
   "source": [
    "### 排序和去重，对每个用户取购买烟酒行为取最大值"
   ]
  },
  {
   "cell_type": "code",
   "execution_count": 30,
   "metadata": {
    "collapsed": false
   },
   "outputs": [
    {
     "data": {
      "text/html": [
       "<div>\n",
       "<table border=\"1\" class=\"dataframe\">\n",
       "  <thead>\n",
       "    <tr style=\"text-align: right;\">\n",
       "      <th></th>\n",
       "      <th>onlineorderid</th>\n",
       "      <th>materialid</th>\n",
       "      <th>companyid</th>\n",
       "      <th>ordernumber</th>\n",
       "      <th>sellprice</th>\n",
       "      <th>originalprice</th>\n",
       "      <th>shop_real_sum</th>\n",
       "      <th>shop_original_sum</th>\n",
       "      <th>materialsortname</th>\n",
       "      <th>shop_wine</th>\n",
       "      <th>shop_cigarette</th>\n",
       "    </tr>\n",
       "  </thead>\n",
       "  <tbody>\n",
       "    <tr>\n",
       "      <th>0</th>\n",
       "      <td>162174</td>\n",
       "      <td>580</td>\n",
       "      <td>4067</td>\n",
       "      <td>1</td>\n",
       "      <td>12</td>\n",
       "      <td>12</td>\n",
       "      <td>12</td>\n",
       "      <td>12</td>\n",
       "      <td>null</td>\n",
       "      <td>0</td>\n",
       "      <td>0</td>\n",
       "    </tr>\n",
       "    <tr>\n",
       "      <th>17</th>\n",
       "      <td>162175</td>\n",
       "      <td>774</td>\n",
       "      <td>8005</td>\n",
       "      <td>1</td>\n",
       "      <td>58</td>\n",
       "      <td>58</td>\n",
       "      <td>58</td>\n",
       "      <td>58</td>\n",
       "      <td>null</td>\n",
       "      <td>0</td>\n",
       "      <td>0</td>\n",
       "    </tr>\n",
       "    <tr>\n",
       "      <th>123</th>\n",
       "      <td>162176</td>\n",
       "      <td>308</td>\n",
       "      <td>180</td>\n",
       "      <td>1</td>\n",
       "      <td>16</td>\n",
       "      <td>16</td>\n",
       "      <td>16</td>\n",
       "      <td>16</td>\n",
       "      <td>null</td>\n",
       "      <td>0</td>\n",
       "      <td>0</td>\n",
       "    </tr>\n",
       "    <tr>\n",
       "      <th>159</th>\n",
       "      <td>162177</td>\n",
       "      <td>289</td>\n",
       "      <td>4938</td>\n",
       "      <td>1</td>\n",
       "      <td>16</td>\n",
       "      <td>16</td>\n",
       "      <td>16</td>\n",
       "      <td>16</td>\n",
       "      <td>null</td>\n",
       "      <td>0</td>\n",
       "      <td>0</td>\n",
       "    </tr>\n",
       "    <tr>\n",
       "      <th>277</th>\n",
       "      <td>162178</td>\n",
       "      <td>1622</td>\n",
       "      <td>1118</td>\n",
       "      <td>1</td>\n",
       "      <td>10</td>\n",
       "      <td>10</td>\n",
       "      <td>10</td>\n",
       "      <td>10</td>\n",
       "      <td>null</td>\n",
       "      <td>0</td>\n",
       "      <td>0</td>\n",
       "    </tr>\n",
       "  </tbody>\n",
       "</table>\n",
       "</div>"
      ],
      "text/plain": [
       "    onlineorderid materialid companyid  ordernumber  sellprice  originalprice  \\\n",
       "0          162174        580      4067            1         12             12   \n",
       "17         162175        774      8005            1         58             58   \n",
       "123        162176        308       180            1         16             16   \n",
       "159        162177        289      4938            1         16             16   \n",
       "277        162178       1622      1118            1         10             10   \n",
       "\n",
       "     shop_real_sum  shop_original_sum materialsortname  shop_wine  \\\n",
       "0               12                 12             null          0   \n",
       "17              58                 58             null          0   \n",
       "123             16                 16             null          0   \n",
       "159             16                 16             null          0   \n",
       "277             10                 10             null          0   \n",
       "\n",
       "     shop_cigarette  \n",
       "0                 0  \n",
       "17                0  \n",
       "123               0  \n",
       "159               0  \n",
       "277               0  "
      ]
     },
     "execution_count": 30,
     "metadata": {},
     "output_type": "execute_result"
    }
   ],
   "source": [
    "df.head()"
   ]
  },
  {
   "cell_type": "code",
   "execution_count": 31,
   "metadata": {
    "collapsed": false,
    "scrolled": true
   },
   "outputs": [
    {
     "data": {
      "text/plain": [
       "(100217, 11)"
      ]
     },
     "execution_count": 31,
     "metadata": {},
     "output_type": "execute_result"
    }
   ],
   "source": [
    "df.shape"
   ]
  },
  {
   "cell_type": "markdown",
   "metadata": {},
   "source": [
    "## 3. 消费静态数据全维度分析统计"
   ]
  },
  {
   "cell_type": "markdown",
   "metadata": {},
   "source": [
    "### df"
   ]
  },
  {
   "cell_type": "code",
   "execution_count": 3,
   "metadata": {
    "collapsed": false
   },
   "outputs": [
    {
     "name": "stdout",
     "output_type": "stream",
     "text": [
      "<class 'pandas.core.frame.DataFrame'>\n",
      "Int64Index: 100293 entries, 0 to 100292\n",
      "Data columns (total 27 columns):\n",
      "onlineorderid           100293 non-null object\n",
      "materialid              100216 non-null object\n",
      "companyid               100216 non-null object\n",
      "ordernumber             100216 non-null float64\n",
      "sellprice               100216 non-null float64\n",
      "originalprice           100216 non-null float64\n",
      "shop_real_sum           100216 non-null float64\n",
      "shop_original_sum       100216 non-null float64\n",
      "materialsortname        100216 non-null object\n",
      "shop_wine               100216 non-null float64\n",
      "shop_cigarette          100216 non-null float64\n",
      "openid                  78445 non-null object\n",
      "orderdatetime           78445 non-null datetime64[ns]\n",
      "status                  78445 non-null object\n",
      "shop_cnt                78445 non-null float64\n",
      "shop_before_dawn        78445 non-null float64\n",
      "shop_morning            78445 non-null float64\n",
      "shop_afternoon          78445 non-null float64\n",
      "shop_night              78445 non-null float64\n",
      "shop_weekday            78445 non-null float64\n",
      "shop_weekend            78445 non-null float64\n",
      "shop_before_dawn_sum    78368 non-null float64\n",
      "shop_morning_sum        78368 non-null float64\n",
      "shop_afternoon_sum      78368 non-null float64\n",
      "shop_night_sum          78368 non-null float64\n",
      "shop_weekday_sum        78368 non-null float64\n",
      "shop_weekend_sum        78368 non-null float64\n",
      "dtypes: datetime64[ns](1), float64(20), object(6)\n",
      "memory usage: 21.4+ MB\n"
     ]
    }
   ],
   "source": [
    "df.info()"
   ]
  },
  {
   "cell_type": "code",
   "execution_count": 4,
   "metadata": {
    "collapsed": false,
    "scrolled": false
   },
   "outputs": [
    {
     "data": {
      "text/plain": [
       "(100293, 27)"
      ]
     },
     "execution_count": 4,
     "metadata": {},
     "output_type": "execute_result"
    }
   ],
   "source": [
    "df.shape"
   ]
  },
  {
   "cell_type": "code",
   "execution_count": 5,
   "metadata": {
    "collapsed": false,
    "scrolled": false
   },
   "outputs": [
    {
     "data": {
      "text/html": [
       "<div>\n",
       "<table border=\"1\" class=\"dataframe\">\n",
       "  <thead>\n",
       "    <tr style=\"text-align: right;\">\n",
       "      <th></th>\n",
       "      <th>onlineorderid</th>\n",
       "      <th>materialid</th>\n",
       "      <th>companyid</th>\n",
       "      <th>ordernumber</th>\n",
       "      <th>sellprice</th>\n",
       "      <th>originalprice</th>\n",
       "      <th>shop_real_sum</th>\n",
       "      <th>shop_original_sum</th>\n",
       "      <th>materialsortname</th>\n",
       "      <th>shop_wine</th>\n",
       "      <th>...</th>\n",
       "      <th>shop_afternoon</th>\n",
       "      <th>shop_night</th>\n",
       "      <th>shop_weekday</th>\n",
       "      <th>shop_weekend</th>\n",
       "      <th>shop_before_dawn_sum</th>\n",
       "      <th>shop_morning_sum</th>\n",
       "      <th>shop_afternoon_sum</th>\n",
       "      <th>shop_night_sum</th>\n",
       "      <th>shop_weekday_sum</th>\n",
       "      <th>shop_weekend_sum</th>\n",
       "    </tr>\n",
       "  </thead>\n",
       "  <tbody>\n",
       "    <tr>\n",
       "      <th>0</th>\n",
       "      <td>162174</td>\n",
       "      <td>580</td>\n",
       "      <td>4067</td>\n",
       "      <td>1</td>\n",
       "      <td>12</td>\n",
       "      <td>12</td>\n",
       "      <td>12</td>\n",
       "      <td>12</td>\n",
       "      <td>null</td>\n",
       "      <td>0</td>\n",
       "      <td>...</td>\n",
       "      <td>NaN</td>\n",
       "      <td>NaN</td>\n",
       "      <td>NaN</td>\n",
       "      <td>NaN</td>\n",
       "      <td>NaN</td>\n",
       "      <td>NaN</td>\n",
       "      <td>NaN</td>\n",
       "      <td>NaN</td>\n",
       "      <td>NaN</td>\n",
       "      <td>NaN</td>\n",
       "    </tr>\n",
       "    <tr>\n",
       "      <th>1</th>\n",
       "      <td>162175</td>\n",
       "      <td>774</td>\n",
       "      <td>8005</td>\n",
       "      <td>1</td>\n",
       "      <td>58</td>\n",
       "      <td>58</td>\n",
       "      <td>58</td>\n",
       "      <td>58</td>\n",
       "      <td>null</td>\n",
       "      <td>0</td>\n",
       "      <td>...</td>\n",
       "      <td>NaN</td>\n",
       "      <td>NaN</td>\n",
       "      <td>NaN</td>\n",
       "      <td>NaN</td>\n",
       "      <td>NaN</td>\n",
       "      <td>NaN</td>\n",
       "      <td>NaN</td>\n",
       "      <td>NaN</td>\n",
       "      <td>NaN</td>\n",
       "      <td>NaN</td>\n",
       "    </tr>\n",
       "    <tr>\n",
       "      <th>2</th>\n",
       "      <td>162176</td>\n",
       "      <td>308</td>\n",
       "      <td>180</td>\n",
       "      <td>1</td>\n",
       "      <td>16</td>\n",
       "      <td>16</td>\n",
       "      <td>16</td>\n",
       "      <td>16</td>\n",
       "      <td>null</td>\n",
       "      <td>0</td>\n",
       "      <td>...</td>\n",
       "      <td>NaN</td>\n",
       "      <td>NaN</td>\n",
       "      <td>NaN</td>\n",
       "      <td>NaN</td>\n",
       "      <td>NaN</td>\n",
       "      <td>NaN</td>\n",
       "      <td>NaN</td>\n",
       "      <td>NaN</td>\n",
       "      <td>NaN</td>\n",
       "      <td>NaN</td>\n",
       "    </tr>\n",
       "    <tr>\n",
       "      <th>3</th>\n",
       "      <td>162177</td>\n",
       "      <td>289</td>\n",
       "      <td>4938</td>\n",
       "      <td>1</td>\n",
       "      <td>16</td>\n",
       "      <td>16</td>\n",
       "      <td>16</td>\n",
       "      <td>16</td>\n",
       "      <td>null</td>\n",
       "      <td>0</td>\n",
       "      <td>...</td>\n",
       "      <td>NaN</td>\n",
       "      <td>NaN</td>\n",
       "      <td>NaN</td>\n",
       "      <td>NaN</td>\n",
       "      <td>NaN</td>\n",
       "      <td>NaN</td>\n",
       "      <td>NaN</td>\n",
       "      <td>NaN</td>\n",
       "      <td>NaN</td>\n",
       "      <td>NaN</td>\n",
       "    </tr>\n",
       "    <tr>\n",
       "      <th>4</th>\n",
       "      <td>162178</td>\n",
       "      <td>1622</td>\n",
       "      <td>1118</td>\n",
       "      <td>1</td>\n",
       "      <td>10</td>\n",
       "      <td>10</td>\n",
       "      <td>10</td>\n",
       "      <td>10</td>\n",
       "      <td>null</td>\n",
       "      <td>0</td>\n",
       "      <td>...</td>\n",
       "      <td>NaN</td>\n",
       "      <td>NaN</td>\n",
       "      <td>NaN</td>\n",
       "      <td>NaN</td>\n",
       "      <td>NaN</td>\n",
       "      <td>NaN</td>\n",
       "      <td>NaN</td>\n",
       "      <td>NaN</td>\n",
       "      <td>NaN</td>\n",
       "      <td>NaN</td>\n",
       "    </tr>\n",
       "  </tbody>\n",
       "</table>\n",
       "<p>5 rows × 27 columns</p>\n",
       "</div>"
      ],
      "text/plain": [
       "  onlineorderid materialid companyid  ordernumber  sellprice  originalprice  \\\n",
       "0        162174        580      4067            1         12             12   \n",
       "1        162175        774      8005            1         58             58   \n",
       "2        162176        308       180            1         16             16   \n",
       "3        162177        289      4938            1         16             16   \n",
       "4        162178       1622      1118            1         10             10   \n",
       "\n",
       "   shop_real_sum  shop_original_sum materialsortname  shop_wine  \\\n",
       "0             12                 12             null          0   \n",
       "1             58                 58             null          0   \n",
       "2             16                 16             null          0   \n",
       "3             16                 16             null          0   \n",
       "4             10                 10             null          0   \n",
       "\n",
       "         ...         shop_afternoon shop_night shop_weekday shop_weekend  \\\n",
       "0        ...                    NaN        NaN          NaN          NaN   \n",
       "1        ...                    NaN        NaN          NaN          NaN   \n",
       "2        ...                    NaN        NaN          NaN          NaN   \n",
       "3        ...                    NaN        NaN          NaN          NaN   \n",
       "4        ...                    NaN        NaN          NaN          NaN   \n",
       "\n",
       "   shop_before_dawn_sum  shop_morning_sum  shop_afternoon_sum  shop_night_sum  \\\n",
       "0                   NaN               NaN                 NaN             NaN   \n",
       "1                   NaN               NaN                 NaN             NaN   \n",
       "2                   NaN               NaN                 NaN             NaN   \n",
       "3                   NaN               NaN                 NaN             NaN   \n",
       "4                   NaN               NaN                 NaN             NaN   \n",
       "\n",
       "   shop_weekday_sum  shop_weekend_sum  \n",
       "0               NaN               NaN  \n",
       "1               NaN               NaN  \n",
       "2               NaN               NaN  \n",
       "3               NaN               NaN  \n",
       "4               NaN               NaN  \n",
       "\n",
       "[5 rows x 27 columns]"
      ]
     },
     "execution_count": 5,
     "metadata": {},
     "output_type": "execute_result"
    }
   ],
   "source": [
    "df.head()"
   ]
  },
  {
   "cell_type": "markdown",
   "metadata": {},
   "source": [
    "### df1"
   ]
  },
  {
   "cell_type": "code",
   "execution_count": 8,
   "metadata": {
    "collapsed": false,
    "scrolled": true
   },
   "outputs": [
    {
     "data": {
      "text/html": [
       "<div>\n",
       "<table border=\"1\" class=\"dataframe\">\n",
       "  <thead>\n",
       "    <tr style=\"text-align: right;\">\n",
       "      <th></th>\n",
       "      <th>openid</th>\n",
       "      <th>shop_real_sum</th>\n",
       "      <th>shop_original_sum</th>\n",
       "      <th>shop_wine_cnt</th>\n",
       "      <th>shop_cigarette_cnt</th>\n",
       "      <th>shop_cnt</th>\n",
       "      <th>shop_before_dawn_cnt</th>\n",
       "      <th>shop_morning_cnt</th>\n",
       "      <th>shop_afternoon_cnt</th>\n",
       "      <th>shop_night_cnt</th>\n",
       "      <th>shop_weekday_cnt</th>\n",
       "      <th>shop_weekend_cnt</th>\n",
       "      <th>shop_before_dawn_sum</th>\n",
       "      <th>shop_morning_sum</th>\n",
       "      <th>shop_afternoon_sum</th>\n",
       "      <th>shop_night_sum</th>\n",
       "      <th>shop_weekday_sum</th>\n",
       "      <th>shop_weekend_sum</th>\n",
       "      <th>shop_real_sum_avg</th>\n",
       "      <th>shop_original_sum_avg</th>\n",
       "    </tr>\n",
       "  </thead>\n",
       "  <tbody>\n",
       "    <tr>\n",
       "      <th>0</th>\n",
       "      <td>1108</td>\n",
       "      <td>87</td>\n",
       "      <td>88</td>\n",
       "      <td>0</td>\n",
       "      <td>0</td>\n",
       "      <td>1</td>\n",
       "      <td>0</td>\n",
       "      <td>0</td>\n",
       "      <td>1</td>\n",
       "      <td>0</td>\n",
       "      <td>1</td>\n",
       "      <td>0</td>\n",
       "      <td>0</td>\n",
       "      <td>0</td>\n",
       "      <td>88</td>\n",
       "      <td>0</td>\n",
       "      <td>88</td>\n",
       "      <td>0</td>\n",
       "      <td>87.000000</td>\n",
       "      <td>88.00</td>\n",
       "    </tr>\n",
       "    <tr>\n",
       "      <th>1</th>\n",
       "      <td>5407216</td>\n",
       "      <td>2</td>\n",
       "      <td>96</td>\n",
       "      <td>0</td>\n",
       "      <td>0</td>\n",
       "      <td>3</td>\n",
       "      <td>0</td>\n",
       "      <td>0</td>\n",
       "      <td>3</td>\n",
       "      <td>0</td>\n",
       "      <td>3</td>\n",
       "      <td>0</td>\n",
       "      <td>0</td>\n",
       "      <td>0</td>\n",
       "      <td>96</td>\n",
       "      <td>0</td>\n",
       "      <td>96</td>\n",
       "      <td>0</td>\n",
       "      <td>0.666667</td>\n",
       "      <td>32.00</td>\n",
       "    </tr>\n",
       "    <tr>\n",
       "      <th>2</th>\n",
       "      <td>oHEmguBistfB1lRrOGlpjn9C-6o4</td>\n",
       "      <td>12</td>\n",
       "      <td>17</td>\n",
       "      <td>0</td>\n",
       "      <td>0</td>\n",
       "      <td>4</td>\n",
       "      <td>0</td>\n",
       "      <td>0</td>\n",
       "      <td>3</td>\n",
       "      <td>1</td>\n",
       "      <td>4</td>\n",
       "      <td>0</td>\n",
       "      <td>0</td>\n",
       "      <td>0</td>\n",
       "      <td>16</td>\n",
       "      <td>1</td>\n",
       "      <td>17</td>\n",
       "      <td>0</td>\n",
       "      <td>3.000000</td>\n",
       "      <td>4.25</td>\n",
       "    </tr>\n",
       "    <tr>\n",
       "      <th>3</th>\n",
       "      <td>oHEmguPAr3oNWit-3gebzEMkzfNQ</td>\n",
       "      <td>1</td>\n",
       "      <td>1</td>\n",
       "      <td>0</td>\n",
       "      <td>0</td>\n",
       "      <td>1</td>\n",
       "      <td>0</td>\n",
       "      <td>0</td>\n",
       "      <td>0</td>\n",
       "      <td>1</td>\n",
       "      <td>1</td>\n",
       "      <td>0</td>\n",
       "      <td>0</td>\n",
       "      <td>0</td>\n",
       "      <td>0</td>\n",
       "      <td>1</td>\n",
       "      <td>1</td>\n",
       "      <td>0</td>\n",
       "      <td>1.000000</td>\n",
       "      <td>1.00</td>\n",
       "    </tr>\n",
       "    <tr>\n",
       "      <th>4</th>\n",
       "      <td>otCz6vg-0gaJ1WXOCR2O0MDu4Q9Q</td>\n",
       "      <td>35</td>\n",
       "      <td>35</td>\n",
       "      <td>0</td>\n",
       "      <td>0</td>\n",
       "      <td>1</td>\n",
       "      <td>1</td>\n",
       "      <td>0</td>\n",
       "      <td>0</td>\n",
       "      <td>0</td>\n",
       "      <td>1</td>\n",
       "      <td>0</td>\n",
       "      <td>35</td>\n",
       "      <td>0</td>\n",
       "      <td>0</td>\n",
       "      <td>0</td>\n",
       "      <td>35</td>\n",
       "      <td>0</td>\n",
       "      <td>35.000000</td>\n",
       "      <td>35.00</td>\n",
       "    </tr>\n",
       "  </tbody>\n",
       "</table>\n",
       "</div>"
      ],
      "text/plain": [
       "                         openid  shop_real_sum  shop_original_sum  \\\n",
       "0                          1108             87                 88   \n",
       "1                       5407216              2                 96   \n",
       "2  oHEmguBistfB1lRrOGlpjn9C-6o4             12                 17   \n",
       "3  oHEmguPAr3oNWit-3gebzEMkzfNQ              1                  1   \n",
       "4  otCz6vg-0gaJ1WXOCR2O0MDu4Q9Q             35                 35   \n",
       "\n",
       "   shop_wine_cnt  shop_cigarette_cnt  shop_cnt  shop_before_dawn_cnt  \\\n",
       "0              0                   0         1                     0   \n",
       "1              0                   0         3                     0   \n",
       "2              0                   0         4                     0   \n",
       "3              0                   0         1                     0   \n",
       "4              0                   0         1                     1   \n",
       "\n",
       "   shop_morning_cnt  shop_afternoon_cnt  shop_night_cnt  shop_weekday_cnt  \\\n",
       "0                 0                   1               0                 1   \n",
       "1                 0                   3               0                 3   \n",
       "2                 0                   3               1                 4   \n",
       "3                 0                   0               1                 1   \n",
       "4                 0                   0               0                 1   \n",
       "\n",
       "   shop_weekend_cnt  shop_before_dawn_sum  shop_morning_sum  \\\n",
       "0                 0                     0                 0   \n",
       "1                 0                     0                 0   \n",
       "2                 0                     0                 0   \n",
       "3                 0                     0                 0   \n",
       "4                 0                    35                 0   \n",
       "\n",
       "   shop_afternoon_sum  shop_night_sum  shop_weekday_sum  shop_weekend_sum  \\\n",
       "0                  88               0                88                 0   \n",
       "1                  96               0                96                 0   \n",
       "2                  16               1                17                 0   \n",
       "3                   0               1                 1                 0   \n",
       "4                   0               0                35                 0   \n",
       "\n",
       "   shop_real_sum_avg  shop_original_sum_avg  \n",
       "0          87.000000                  88.00  \n",
       "1           0.666667                  32.00  \n",
       "2           3.000000                   4.25  \n",
       "3           1.000000                   1.00  \n",
       "4          35.000000                  35.00  "
      ]
     },
     "execution_count": 8,
     "metadata": {},
     "output_type": "execute_result"
    }
   ],
   "source": [
    "df.head()"
   ]
  },
  {
   "cell_type": "code",
   "execution_count": 10,
   "metadata": {
    "collapsed": false
   },
   "outputs": [
    {
     "data": {
      "text/plain": [
       "(49978, 20)"
      ]
     },
     "execution_count": 10,
     "metadata": {},
     "output_type": "execute_result"
    }
   ],
   "source": [
    "df.shape"
   ]
  },
  {
   "cell_type": "code",
   "execution_count": 11,
   "metadata": {
    "collapsed": false
   },
   "outputs": [
    {
     "data": {
      "text/plain": [
       "Index([u'openid', u'shop_real_sum', u'shop_original_sum', u'shop_wine_cnt',\n",
       "       u'shop_cigarette_cnt', u'shop_cnt', u'shop_before_dawn_cnt',\n",
       "       u'shop_morning_cnt', u'shop_afternoon_cnt', u'shop_night_cnt',\n",
       "       u'shop_weekday_cnt', u'shop_weekend_cnt', u'shop_before_dawn_sum',\n",
       "       u'shop_morning_sum', u'shop_afternoon_sum', u'shop_night_sum',\n",
       "       u'shop_weekday_sum', u'shop_weekend_sum', u'shop_real_sum_avg',\n",
       "       u'shop_original_sum_avg'],\n",
       "      dtype='object')"
      ]
     },
     "execution_count": 11,
     "metadata": {},
     "output_type": "execute_result"
    }
   ],
   "source": [
    "df.columns"
   ]
  },
  {
   "cell_type": "markdown",
   "metadata": {},
   "source": [
    "### df2 最大值"
   ]
  },
  {
   "cell_type": "code",
   "execution_count": 19,
   "metadata": {
    "collapsed": false
   },
   "outputs": [
    {
     "data": {
      "text/html": [
       "<div>\n",
       "<table border=\"1\" class=\"dataframe\">\n",
       "  <thead>\n",
       "    <tr style=\"text-align: right;\">\n",
       "      <th></th>\n",
       "      <th>shop_real_sum_max</th>\n",
       "      <th>shop_original_sum_max</th>\n",
       "      <th>openid</th>\n",
       "    </tr>\n",
       "  </thead>\n",
       "  <tbody>\n",
       "    <tr>\n",
       "      <th>79403</th>\n",
       "      <td>87</td>\n",
       "      <td>88</td>\n",
       "      <td>1108</td>\n",
       "    </tr>\n",
       "    <tr>\n",
       "      <th>29906</th>\n",
       "      <td>2</td>\n",
       "      <td>32</td>\n",
       "      <td>5407216</td>\n",
       "    </tr>\n",
       "    <tr>\n",
       "      <th>50976</th>\n",
       "      <td>9</td>\n",
       "      <td>10</td>\n",
       "      <td>oHEmguBistfB1lRrOGlpjn9C-6o4</td>\n",
       "    </tr>\n",
       "    <tr>\n",
       "      <th>55038</th>\n",
       "      <td>1</td>\n",
       "      <td>1</td>\n",
       "      <td>oHEmguPAr3oNWit-3gebzEMkzfNQ</td>\n",
       "    </tr>\n",
       "    <tr>\n",
       "      <th>22212</th>\n",
       "      <td>35</td>\n",
       "      <td>35</td>\n",
       "      <td>otCz6vg-0gaJ1WXOCR2O0MDu4Q9Q</td>\n",
       "    </tr>\n",
       "  </tbody>\n",
       "</table>\n",
       "</div>"
      ],
      "text/plain": [
       "       shop_real_sum_max  shop_original_sum_max                        openid\n",
       "79403                 87                     88                          1108\n",
       "29906                  2                     32                       5407216\n",
       "50976                  9                     10  oHEmguBistfB1lRrOGlpjn9C-6o4\n",
       "55038                  1                      1  oHEmguPAr3oNWit-3gebzEMkzfNQ\n",
       "22212                 35                     35  otCz6vg-0gaJ1WXOCR2O0MDu4Q9Q"
      ]
     },
     "execution_count": 19,
     "metadata": {},
     "output_type": "execute_result"
    }
   ],
   "source": [
    "df.head()"
   ]
  },
  {
   "cell_type": "code",
   "execution_count": 20,
   "metadata": {
    "collapsed": false
   },
   "outputs": [
    {
     "data": {
      "text/plain": [
       "(49989, 3)"
      ]
     },
     "execution_count": 20,
     "metadata": {},
     "output_type": "execute_result"
    }
   ],
   "source": [
    "df.shape"
   ]
  },
  {
   "cell_type": "code",
   "execution_count": 21,
   "metadata": {
    "collapsed": false
   },
   "outputs": [
    {
     "data": {
      "text/plain": [
       "Index([u'shop_real_sum_max', u'shop_original_sum_max', u'openid'], dtype='object')"
      ]
     },
     "execution_count": 21,
     "metadata": {},
     "output_type": "execute_result"
    }
   ],
   "source": [
    "df.columns"
   ]
  },
  {
   "cell_type": "markdown",
   "metadata": {},
   "source": [
    "### df3 最小值"
   ]
  },
  {
   "cell_type": "code",
   "execution_count": 25,
   "metadata": {
    "collapsed": false
   },
   "outputs": [
    {
     "data": {
      "text/html": [
       "<div>\n",
       "<table border=\"1\" class=\"dataframe\">\n",
       "  <thead>\n",
       "    <tr style=\"text-align: right;\">\n",
       "      <th></th>\n",
       "      <th>shop_real_sum_min</th>\n",
       "      <th>shop_original_sum_min</th>\n",
       "      <th>openid</th>\n",
       "    </tr>\n",
       "  </thead>\n",
       "  <tbody>\n",
       "    <tr>\n",
       "      <th>79403</th>\n",
       "      <td>87</td>\n",
       "      <td>88</td>\n",
       "      <td>1108</td>\n",
       "    </tr>\n",
       "    <tr>\n",
       "      <th>29886</th>\n",
       "      <td>0</td>\n",
       "      <td>32</td>\n",
       "      <td>5407216</td>\n",
       "    </tr>\n",
       "    <tr>\n",
       "      <th>55130</th>\n",
       "      <td>1</td>\n",
       "      <td>1</td>\n",
       "      <td>oHEmguBistfB1lRrOGlpjn9C-6o4</td>\n",
       "    </tr>\n",
       "    <tr>\n",
       "      <th>55038</th>\n",
       "      <td>1</td>\n",
       "      <td>1</td>\n",
       "      <td>oHEmguPAr3oNWit-3gebzEMkzfNQ</td>\n",
       "    </tr>\n",
       "    <tr>\n",
       "      <th>22212</th>\n",
       "      <td>35</td>\n",
       "      <td>35</td>\n",
       "      <td>otCz6vg-0gaJ1WXOCR2O0MDu4Q9Q</td>\n",
       "    </tr>\n",
       "  </tbody>\n",
       "</table>\n",
       "</div>"
      ],
      "text/plain": [
       "       shop_real_sum_min  shop_original_sum_min                        openid\n",
       "79403                 87                     88                          1108\n",
       "29886                  0                     32                       5407216\n",
       "55130                  1                      1  oHEmguBistfB1lRrOGlpjn9C-6o4\n",
       "55038                  1                      1  oHEmguPAr3oNWit-3gebzEMkzfNQ\n",
       "22212                 35                     35  otCz6vg-0gaJ1WXOCR2O0MDu4Q9Q"
      ]
     },
     "execution_count": 25,
     "metadata": {},
     "output_type": "execute_result"
    }
   ],
   "source": [
    "df.head()"
   ]
  },
  {
   "cell_type": "code",
   "execution_count": 27,
   "metadata": {
    "collapsed": false
   },
   "outputs": [
    {
     "data": {
      "text/plain": [
       "(49989, 3)"
      ]
     },
     "execution_count": 27,
     "metadata": {},
     "output_type": "execute_result"
    }
   ],
   "source": [
    "df.shape"
   ]
  },
  {
   "cell_type": "markdown",
   "metadata": {},
   "source": [
    "### 合并df2 df3"
   ]
  },
  {
   "cell_type": "code",
   "execution_count": 35,
   "metadata": {
    "collapsed": false
   },
   "outputs": [
    {
     "data": {
      "text/html": [
       "<div>\n",
       "<table border=\"1\" class=\"dataframe\">\n",
       "  <thead>\n",
       "    <tr style=\"text-align: right;\">\n",
       "      <th></th>\n",
       "      <th>shop_real_sum_max</th>\n",
       "      <th>shop_original_sum_max</th>\n",
       "      <th>openid</th>\n",
       "      <th>shop_real_sum_min</th>\n",
       "      <th>shop_original_sum_min</th>\n",
       "    </tr>\n",
       "  </thead>\n",
       "  <tbody>\n",
       "    <tr>\n",
       "      <th>0</th>\n",
       "      <td>87</td>\n",
       "      <td>88</td>\n",
       "      <td>1108</td>\n",
       "      <td>87</td>\n",
       "      <td>88</td>\n",
       "    </tr>\n",
       "    <tr>\n",
       "      <th>1</th>\n",
       "      <td>2</td>\n",
       "      <td>32</td>\n",
       "      <td>5407216</td>\n",
       "      <td>0</td>\n",
       "      <td>32</td>\n",
       "    </tr>\n",
       "    <tr>\n",
       "      <th>2</th>\n",
       "      <td>9</td>\n",
       "      <td>10</td>\n",
       "      <td>oHEmguBistfB1lRrOGlpjn9C-6o4</td>\n",
       "      <td>1</td>\n",
       "      <td>1</td>\n",
       "    </tr>\n",
       "    <tr>\n",
       "      <th>3</th>\n",
       "      <td>1</td>\n",
       "      <td>1</td>\n",
       "      <td>oHEmguPAr3oNWit-3gebzEMkzfNQ</td>\n",
       "      <td>1</td>\n",
       "      <td>1</td>\n",
       "    </tr>\n",
       "    <tr>\n",
       "      <th>4</th>\n",
       "      <td>35</td>\n",
       "      <td>35</td>\n",
       "      <td>otCz6vg-0gaJ1WXOCR2O0MDu4Q9Q</td>\n",
       "      <td>35</td>\n",
       "      <td>35</td>\n",
       "    </tr>\n",
       "  </tbody>\n",
       "</table>\n",
       "</div>"
      ],
      "text/plain": [
       "   shop_real_sum_max  shop_original_sum_max                        openid  \\\n",
       "0                 87                     88                          1108   \n",
       "1                  2                     32                       5407216   \n",
       "2                  9                     10  oHEmguBistfB1lRrOGlpjn9C-6o4   \n",
       "3                  1                      1  oHEmguPAr3oNWit-3gebzEMkzfNQ   \n",
       "4                 35                     35  otCz6vg-0gaJ1WXOCR2O0MDu4Q9Q   \n",
       "\n",
       "   shop_real_sum_min  shop_original_sum_min  \n",
       "0                 87                     88  \n",
       "1                  0                     32  \n",
       "2                  1                      1  \n",
       "3                  1                      1  \n",
       "4                 35                     35  "
      ]
     },
     "execution_count": 35,
     "metadata": {},
     "output_type": "execute_result"
    }
   ],
   "source": [
    "df.head()"
   ]
  },
  {
   "cell_type": "code",
   "execution_count": 36,
   "metadata": {
    "collapsed": false
   },
   "outputs": [
    {
     "data": {
      "text/plain": [
       "(49989, 5)"
      ]
     },
     "execution_count": 36,
     "metadata": {},
     "output_type": "execute_result"
    }
   ],
   "source": [
    "df.shape"
   ]
  },
  {
   "cell_type": "markdown",
   "metadata": {},
   "source": [
    "### 和df1合并 得到用户消费数据统计最终表"
   ]
  },
  {
   "cell_type": "code",
   "execution_count": 40,
   "metadata": {
    "collapsed": false
   },
   "outputs": [
    {
     "data": {
      "text/html": [
       "<div>\n",
       "<table border=\"1\" class=\"dataframe\">\n",
       "  <thead>\n",
       "    <tr style=\"text-align: right;\">\n",
       "      <th></th>\n",
       "      <th>openid</th>\n",
       "      <th>shop_real_sum</th>\n",
       "      <th>shop_original_sum</th>\n",
       "      <th>shop_wine_cnt</th>\n",
       "      <th>shop_cigarette_cnt</th>\n",
       "      <th>shop_cnt</th>\n",
       "      <th>shop_before_dawn_cnt</th>\n",
       "      <th>shop_morning_cnt</th>\n",
       "      <th>shop_afternoon_cnt</th>\n",
       "      <th>shop_night_cnt</th>\n",
       "      <th>...</th>\n",
       "      <th>shop_afternoon_sum</th>\n",
       "      <th>shop_night_sum</th>\n",
       "      <th>shop_weekday_sum</th>\n",
       "      <th>shop_weekend_sum</th>\n",
       "      <th>shop_real_sum_avg</th>\n",
       "      <th>shop_original_sum_avg</th>\n",
       "      <th>shop_real_sum_max</th>\n",
       "      <th>shop_original_sum_max</th>\n",
       "      <th>shop_real_sum_min</th>\n",
       "      <th>shop_original_sum_min</th>\n",
       "    </tr>\n",
       "  </thead>\n",
       "  <tbody>\n",
       "    <tr>\n",
       "      <th>0</th>\n",
       "      <td>1108</td>\n",
       "      <td>87</td>\n",
       "      <td>88</td>\n",
       "      <td>0</td>\n",
       "      <td>0</td>\n",
       "      <td>1</td>\n",
       "      <td>0</td>\n",
       "      <td>0</td>\n",
       "      <td>1</td>\n",
       "      <td>0</td>\n",
       "      <td>...</td>\n",
       "      <td>88</td>\n",
       "      <td>0</td>\n",
       "      <td>88</td>\n",
       "      <td>0</td>\n",
       "      <td>87.000000</td>\n",
       "      <td>88.00</td>\n",
       "      <td>87</td>\n",
       "      <td>88</td>\n",
       "      <td>87</td>\n",
       "      <td>88</td>\n",
       "    </tr>\n",
       "    <tr>\n",
       "      <th>1</th>\n",
       "      <td>5407216</td>\n",
       "      <td>2</td>\n",
       "      <td>96</td>\n",
       "      <td>0</td>\n",
       "      <td>0</td>\n",
       "      <td>3</td>\n",
       "      <td>0</td>\n",
       "      <td>0</td>\n",
       "      <td>3</td>\n",
       "      <td>0</td>\n",
       "      <td>...</td>\n",
       "      <td>96</td>\n",
       "      <td>0</td>\n",
       "      <td>96</td>\n",
       "      <td>0</td>\n",
       "      <td>0.666667</td>\n",
       "      <td>32.00</td>\n",
       "      <td>2</td>\n",
       "      <td>32</td>\n",
       "      <td>0</td>\n",
       "      <td>32</td>\n",
       "    </tr>\n",
       "    <tr>\n",
       "      <th>2</th>\n",
       "      <td>oHEmguBistfB1lRrOGlpjn9C-6o4</td>\n",
       "      <td>12</td>\n",
       "      <td>17</td>\n",
       "      <td>0</td>\n",
       "      <td>0</td>\n",
       "      <td>4</td>\n",
       "      <td>0</td>\n",
       "      <td>0</td>\n",
       "      <td>3</td>\n",
       "      <td>1</td>\n",
       "      <td>...</td>\n",
       "      <td>16</td>\n",
       "      <td>1</td>\n",
       "      <td>17</td>\n",
       "      <td>0</td>\n",
       "      <td>3.000000</td>\n",
       "      <td>4.25</td>\n",
       "      <td>9</td>\n",
       "      <td>10</td>\n",
       "      <td>1</td>\n",
       "      <td>1</td>\n",
       "    </tr>\n",
       "    <tr>\n",
       "      <th>3</th>\n",
       "      <td>oHEmguPAr3oNWit-3gebzEMkzfNQ</td>\n",
       "      <td>1</td>\n",
       "      <td>1</td>\n",
       "      <td>0</td>\n",
       "      <td>0</td>\n",
       "      <td>1</td>\n",
       "      <td>0</td>\n",
       "      <td>0</td>\n",
       "      <td>0</td>\n",
       "      <td>1</td>\n",
       "      <td>...</td>\n",
       "      <td>0</td>\n",
       "      <td>1</td>\n",
       "      <td>1</td>\n",
       "      <td>0</td>\n",
       "      <td>1.000000</td>\n",
       "      <td>1.00</td>\n",
       "      <td>1</td>\n",
       "      <td>1</td>\n",
       "      <td>1</td>\n",
       "      <td>1</td>\n",
       "    </tr>\n",
       "    <tr>\n",
       "      <th>4</th>\n",
       "      <td>otCz6vg-0gaJ1WXOCR2O0MDu4Q9Q</td>\n",
       "      <td>35</td>\n",
       "      <td>35</td>\n",
       "      <td>0</td>\n",
       "      <td>0</td>\n",
       "      <td>1</td>\n",
       "      <td>1</td>\n",
       "      <td>0</td>\n",
       "      <td>0</td>\n",
       "      <td>0</td>\n",
       "      <td>...</td>\n",
       "      <td>0</td>\n",
       "      <td>0</td>\n",
       "      <td>35</td>\n",
       "      <td>0</td>\n",
       "      <td>35.000000</td>\n",
       "      <td>35.00</td>\n",
       "      <td>35</td>\n",
       "      <td>35</td>\n",
       "      <td>35</td>\n",
       "      <td>35</td>\n",
       "    </tr>\n",
       "  </tbody>\n",
       "</table>\n",
       "<p>5 rows × 24 columns</p>\n",
       "</div>"
      ],
      "text/plain": [
       "                         openid  shop_real_sum  shop_original_sum  \\\n",
       "0                          1108             87                 88   \n",
       "1                       5407216              2                 96   \n",
       "2  oHEmguBistfB1lRrOGlpjn9C-6o4             12                 17   \n",
       "3  oHEmguPAr3oNWit-3gebzEMkzfNQ              1                  1   \n",
       "4  otCz6vg-0gaJ1WXOCR2O0MDu4Q9Q             35                 35   \n",
       "\n",
       "   shop_wine_cnt  shop_cigarette_cnt  shop_cnt  shop_before_dawn_cnt  \\\n",
       "0              0                   0         1                     0   \n",
       "1              0                   0         3                     0   \n",
       "2              0                   0         4                     0   \n",
       "3              0                   0         1                     0   \n",
       "4              0                   0         1                     1   \n",
       "\n",
       "   shop_morning_cnt  shop_afternoon_cnt  shop_night_cnt  \\\n",
       "0                 0                   1               0   \n",
       "1                 0                   3               0   \n",
       "2                 0                   3               1   \n",
       "3                 0                   0               1   \n",
       "4                 0                   0               0   \n",
       "\n",
       "           ...            shop_afternoon_sum  shop_night_sum  \\\n",
       "0          ...                            88               0   \n",
       "1          ...                            96               0   \n",
       "2          ...                            16               1   \n",
       "3          ...                             0               1   \n",
       "4          ...                             0               0   \n",
       "\n",
       "   shop_weekday_sum  shop_weekend_sum  shop_real_sum_avg  \\\n",
       "0                88                 0          87.000000   \n",
       "1                96                 0           0.666667   \n",
       "2                17                 0           3.000000   \n",
       "3                 1                 0           1.000000   \n",
       "4                35                 0          35.000000   \n",
       "\n",
       "   shop_original_sum_avg  shop_real_sum_max  shop_original_sum_max  \\\n",
       "0                  88.00                 87                     88   \n",
       "1                  32.00                  2                     32   \n",
       "2                   4.25                  9                     10   \n",
       "3                   1.00                  1                      1   \n",
       "4                  35.00                 35                     35   \n",
       "\n",
       "   shop_real_sum_min  shop_original_sum_min  \n",
       "0                 87                     88  \n",
       "1                  0                     32  \n",
       "2                  1                      1  \n",
       "3                  1                      1  \n",
       "4                 35                     35  \n",
       "\n",
       "[5 rows x 24 columns]"
      ]
     },
     "execution_count": 40,
     "metadata": {},
     "output_type": "execute_result"
    }
   ],
   "source": [
    "df.head()"
   ]
  },
  {
   "cell_type": "code",
   "execution_count": 41,
   "metadata": {
    "collapsed": false
   },
   "outputs": [
    {
     "data": {
      "text/plain": [
       "(49978, 24)"
      ]
     },
     "execution_count": 41,
     "metadata": {},
     "output_type": "execute_result"
    }
   ],
   "source": [
    "df.shape"
   ]
  },
  {
   "cell_type": "markdown",
   "metadata": {},
   "source": [
    "## 4. 用户消费最多的一家商家记录"
   ]
  },
  {
   "cell_type": "code",
   "execution_count": 44,
   "metadata": {
    "collapsed": false
   },
   "outputs": [
    {
     "data": {
      "text/html": [
       "<div>\n",
       "<table border=\"1\" class=\"dataframe\">\n",
       "  <thead>\n",
       "    <tr style=\"text-align: right;\">\n",
       "      <th></th>\n",
       "      <th>openid</th>\n",
       "      <th>shop_companyid</th>\n",
       "      <th>shop_com_cnt</th>\n",
       "    </tr>\n",
       "  </thead>\n",
       "  <tbody>\n",
       "    <tr>\n",
       "      <th>6</th>\n",
       "      <td>-1</td>\n",
       "      <td>4812</td>\n",
       "      <td>6</td>\n",
       "    </tr>\n",
       "    <tr>\n",
       "      <th>16</th>\n",
       "      <td>104173</td>\n",
       "      <td>742</td>\n",
       "      <td>1</td>\n",
       "    </tr>\n",
       "    <tr>\n",
       "      <th>17</th>\n",
       "      <td>1108</td>\n",
       "      <td>180</td>\n",
       "      <td>4</td>\n",
       "    </tr>\n",
       "    <tr>\n",
       "      <th>18</th>\n",
       "      <td>2433209</td>\n",
       "      <td>3753</td>\n",
       "      <td>2</td>\n",
       "    </tr>\n",
       "    <tr>\n",
       "      <th>19</th>\n",
       "      <td>276608</td>\n",
       "      <td>742</td>\n",
       "      <td>1</td>\n",
       "    </tr>\n",
       "  </tbody>\n",
       "</table>\n",
       "</div>"
      ],
      "text/plain": [
       "     openid shop_companyid  shop_com_cnt\n",
       "6        -1           4812             6\n",
       "16   104173            742             1\n",
       "17     1108            180             4\n",
       "18  2433209           3753             2\n",
       "19   276608            742             1"
      ]
     },
     "execution_count": 44,
     "metadata": {},
     "output_type": "execute_result"
    }
   ],
   "source": [
    "df.head()"
   ]
  },
  {
   "cell_type": "code",
   "execution_count": 45,
   "metadata": {
    "collapsed": false
   },
   "outputs": [
    {
     "data": {
      "text/plain": [
       "(56461, 3)"
      ]
     },
     "execution_count": 45,
     "metadata": {},
     "output_type": "execute_result"
    }
   ],
   "source": [
    "df.shape"
   ]
  },
  {
   "cell_type": "markdown",
   "metadata": {},
   "source": [
    "## 5. 对用户在线消费单数计数"
   ]
  },
  {
   "cell_type": "code",
   "execution_count": 48,
   "metadata": {
    "collapsed": false
   },
   "outputs": [
    {
     "data": {
      "text/html": [
       "<div>\n",
       "<table border=\"1\" class=\"dataframe\">\n",
       "  <thead>\n",
       "    <tr style=\"text-align: right;\">\n",
       "      <th></th>\n",
       "      <th>openid</th>\n",
       "      <th>shop_order_cnt</th>\n",
       "    </tr>\n",
       "  </thead>\n",
       "  <tbody>\n",
       "    <tr>\n",
       "      <th>0</th>\n",
       "      <td>-1</td>\n",
       "      <td>26</td>\n",
       "    </tr>\n",
       "    <tr>\n",
       "      <th>1</th>\n",
       "      <td>104173</td>\n",
       "      <td>1</td>\n",
       "    </tr>\n",
       "    <tr>\n",
       "      <th>2</th>\n",
       "      <td>1108</td>\n",
       "      <td>4</td>\n",
       "    </tr>\n",
       "    <tr>\n",
       "      <th>3</th>\n",
       "      <td>2433209</td>\n",
       "      <td>2</td>\n",
       "    </tr>\n",
       "    <tr>\n",
       "      <th>4</th>\n",
       "      <td>276608</td>\n",
       "      <td>1</td>\n",
       "    </tr>\n",
       "  </tbody>\n",
       "</table>\n",
       "</div>"
      ],
      "text/plain": [
       "    openid  shop_order_cnt\n",
       "0       -1              26\n",
       "1   104173               1\n",
       "2     1108               4\n",
       "3  2433209               2\n",
       "4   276608               1"
      ]
     },
     "execution_count": 48,
     "metadata": {},
     "output_type": "execute_result"
    }
   ],
   "source": [
    "df.head()"
   ]
  },
  {
   "cell_type": "code",
   "execution_count": 49,
   "metadata": {
    "collapsed": false
   },
   "outputs": [
    {
     "data": {
      "text/plain": [
       "(56461, 2)"
      ]
     },
     "execution_count": 49,
     "metadata": {},
     "output_type": "execute_result"
    }
   ],
   "source": [
    "df.shape"
   ]
  },
  {
   "cell_type": "markdown",
   "metadata": {},
   "source": [
    "## 6. 连接三张表并得到在不同商家消费的用户数"
   ]
  },
  {
   "cell_type": "code",
   "execution_count": 52,
   "metadata": {
    "collapsed": false
   },
   "outputs": [
    {
     "data": {
      "text/html": [
       "<div>\n",
       "<table border=\"1\" class=\"dataframe\">\n",
       "  <thead>\n",
       "    <tr style=\"text-align: right;\">\n",
       "      <th></th>\n",
       "      <th>openid</th>\n",
       "      <th>shop_real_sum</th>\n",
       "      <th>shop_original_sum</th>\n",
       "      <th>shop_wine_cnt</th>\n",
       "      <th>shop_cigarette_cnt</th>\n",
       "      <th>shop_cnt</th>\n",
       "      <th>shop_before_dawn_cnt</th>\n",
       "      <th>shop_morning_cnt</th>\n",
       "      <th>shop_afternoon_cnt</th>\n",
       "      <th>shop_night_cnt</th>\n",
       "      <th>...</th>\n",
       "      <th>shop_real_sum_avg</th>\n",
       "      <th>shop_original_sum_avg</th>\n",
       "      <th>shop_real_sum_max</th>\n",
       "      <th>shop_original_sum_max</th>\n",
       "      <th>shop_real_sum_min</th>\n",
       "      <th>shop_original_sum_min</th>\n",
       "      <th>shop_companyid</th>\n",
       "      <th>shop_com_cnt</th>\n",
       "      <th>shop_order_cnt</th>\n",
       "      <th>shop_cross_com</th>\n",
       "    </tr>\n",
       "  </thead>\n",
       "  <tbody>\n",
       "    <tr>\n",
       "      <th>0</th>\n",
       "      <td>1108</td>\n",
       "      <td>87</td>\n",
       "      <td>88</td>\n",
       "      <td>0</td>\n",
       "      <td>0</td>\n",
       "      <td>1</td>\n",
       "      <td>0</td>\n",
       "      <td>0</td>\n",
       "      <td>1</td>\n",
       "      <td>0</td>\n",
       "      <td>...</td>\n",
       "      <td>87.000000</td>\n",
       "      <td>88.00</td>\n",
       "      <td>87</td>\n",
       "      <td>88</td>\n",
       "      <td>87</td>\n",
       "      <td>88</td>\n",
       "      <td>180</td>\n",
       "      <td>4</td>\n",
       "      <td>4</td>\n",
       "      <td>0</td>\n",
       "    </tr>\n",
       "    <tr>\n",
       "      <th>1</th>\n",
       "      <td>5407216</td>\n",
       "      <td>2</td>\n",
       "      <td>96</td>\n",
       "      <td>0</td>\n",
       "      <td>0</td>\n",
       "      <td>3</td>\n",
       "      <td>0</td>\n",
       "      <td>0</td>\n",
       "      <td>3</td>\n",
       "      <td>0</td>\n",
       "      <td>...</td>\n",
       "      <td>0.666667</td>\n",
       "      <td>32.00</td>\n",
       "      <td>2</td>\n",
       "      <td>32</td>\n",
       "      <td>0</td>\n",
       "      <td>32</td>\n",
       "      <td>3753</td>\n",
       "      <td>40</td>\n",
       "      <td>43</td>\n",
       "      <td>1</td>\n",
       "    </tr>\n",
       "    <tr>\n",
       "      <th>2</th>\n",
       "      <td>oHEmguBistfB1lRrOGlpjn9C-6o4</td>\n",
       "      <td>12</td>\n",
       "      <td>17</td>\n",
       "      <td>0</td>\n",
       "      <td>0</td>\n",
       "      <td>4</td>\n",
       "      <td>0</td>\n",
       "      <td>0</td>\n",
       "      <td>3</td>\n",
       "      <td>1</td>\n",
       "      <td>...</td>\n",
       "      <td>3.000000</td>\n",
       "      <td>4.25</td>\n",
       "      <td>9</td>\n",
       "      <td>10</td>\n",
       "      <td>1</td>\n",
       "      <td>1</td>\n",
       "      <td>10233</td>\n",
       "      <td>7</td>\n",
       "      <td>7</td>\n",
       "      <td>0</td>\n",
       "    </tr>\n",
       "    <tr>\n",
       "      <th>3</th>\n",
       "      <td>oHEmguPAr3oNWit-3gebzEMkzfNQ</td>\n",
       "      <td>1</td>\n",
       "      <td>1</td>\n",
       "      <td>0</td>\n",
       "      <td>0</td>\n",
       "      <td>1</td>\n",
       "      <td>0</td>\n",
       "      <td>0</td>\n",
       "      <td>0</td>\n",
       "      <td>1</td>\n",
       "      <td>...</td>\n",
       "      <td>1.000000</td>\n",
       "      <td>1.00</td>\n",
       "      <td>1</td>\n",
       "      <td>1</td>\n",
       "      <td>1</td>\n",
       "      <td>1</td>\n",
       "      <td>10233</td>\n",
       "      <td>1</td>\n",
       "      <td>1</td>\n",
       "      <td>0</td>\n",
       "    </tr>\n",
       "    <tr>\n",
       "      <th>4</th>\n",
       "      <td>otCz6vg-0gaJ1WXOCR2O0MDu4Q9Q</td>\n",
       "      <td>35</td>\n",
       "      <td>35</td>\n",
       "      <td>0</td>\n",
       "      <td>0</td>\n",
       "      <td>1</td>\n",
       "      <td>1</td>\n",
       "      <td>0</td>\n",
       "      <td>0</td>\n",
       "      <td>0</td>\n",
       "      <td>...</td>\n",
       "      <td>35.000000</td>\n",
       "      <td>35.00</td>\n",
       "      <td>35</td>\n",
       "      <td>35</td>\n",
       "      <td>35</td>\n",
       "      <td>35</td>\n",
       "      <td>6195</td>\n",
       "      <td>1</td>\n",
       "      <td>1</td>\n",
       "      <td>0</td>\n",
       "    </tr>\n",
       "  </tbody>\n",
       "</table>\n",
       "<p>5 rows × 28 columns</p>\n",
       "</div>"
      ],
      "text/plain": [
       "                         openid  shop_real_sum  shop_original_sum  \\\n",
       "0                          1108             87                 88   \n",
       "1                       5407216              2                 96   \n",
       "2  oHEmguBistfB1lRrOGlpjn9C-6o4             12                 17   \n",
       "3  oHEmguPAr3oNWit-3gebzEMkzfNQ              1                  1   \n",
       "4  otCz6vg-0gaJ1WXOCR2O0MDu4Q9Q             35                 35   \n",
       "\n",
       "   shop_wine_cnt  shop_cigarette_cnt  shop_cnt  shop_before_dawn_cnt  \\\n",
       "0              0                   0         1                     0   \n",
       "1              0                   0         3                     0   \n",
       "2              0                   0         4                     0   \n",
       "3              0                   0         1                     0   \n",
       "4              0                   0         1                     1   \n",
       "\n",
       "   shop_morning_cnt  shop_afternoon_cnt  shop_night_cnt       ...        \\\n",
       "0                 0                   1               0       ...         \n",
       "1                 0                   3               0       ...         \n",
       "2                 0                   3               1       ...         \n",
       "3                 0                   0               1       ...         \n",
       "4                 0                   0               0       ...         \n",
       "\n",
       "   shop_real_sum_avg  shop_original_sum_avg  shop_real_sum_max  \\\n",
       "0          87.000000                  88.00                 87   \n",
       "1           0.666667                  32.00                  2   \n",
       "2           3.000000                   4.25                  9   \n",
       "3           1.000000                   1.00                  1   \n",
       "4          35.000000                  35.00                 35   \n",
       "\n",
       "   shop_original_sum_max  shop_real_sum_min  shop_original_sum_min  \\\n",
       "0                     88                 87                     88   \n",
       "1                     32                  0                     32   \n",
       "2                     10                  1                      1   \n",
       "3                      1                  1                      1   \n",
       "4                     35                 35                     35   \n",
       "\n",
       "   shop_companyid  shop_com_cnt  shop_order_cnt  shop_cross_com  \n",
       "0             180             4               4               0  \n",
       "1            3753            40              43               1  \n",
       "2           10233             7               7               0  \n",
       "3           10233             1               1               0  \n",
       "4            6195             1               1               0  \n",
       "\n",
       "[5 rows x 28 columns]"
      ]
     },
     "execution_count": 52,
     "metadata": {},
     "output_type": "execute_result"
    }
   ],
   "source": [
    "df.head()"
   ]
  },
  {
   "cell_type": "code",
   "execution_count": 53,
   "metadata": {
    "collapsed": false
   },
   "outputs": [
    {
     "data": {
      "text/plain": [
       "(49978, 28)"
      ]
     },
     "execution_count": 53,
     "metadata": {},
     "output_type": "execute_result"
    }
   ],
   "source": [
    "df.shape"
   ]
  },
  {
   "cell_type": "code",
   "execution_count": 54,
   "metadata": {
    "collapsed": false
   },
   "outputs": [
    {
     "data": {
      "text/plain": [
       "0    49791\n",
       "1      187\n",
       "Name: shop_cross_com, dtype: int64"
      ]
     },
     "execution_count": 54,
     "metadata": {},
     "output_type": "execute_result"
    }
   ],
   "source": [
    "pd.value_counts(df['shop_cross_com'])"
   ]
  },
  {
   "cell_type": "markdown",
   "metadata": {},
   "source": [
    "## 7. 和商家数据整合在一起"
   ]
  },
  {
   "cell_type": "code",
   "execution_count": 59,
   "metadata": {
    "collapsed": false
   },
   "outputs": [
    {
     "data": {
      "text/html": [
       "<div>\n",
       "<table border=\"1\" class=\"dataframe\">\n",
       "  <thead>\n",
       "    <tr style=\"text-align: right;\">\n",
       "      <th></th>\n",
       "      <th>openid</th>\n",
       "      <th>shop_real_sum</th>\n",
       "      <th>shop_original_sum</th>\n",
       "      <th>shop_wine_cnt</th>\n",
       "      <th>shop_cigarette_cnt</th>\n",
       "      <th>shop_cnt</th>\n",
       "      <th>shop_before_dawn_cnt</th>\n",
       "      <th>shop_morning_cnt</th>\n",
       "      <th>shop_afternoon_cnt</th>\n",
       "      <th>shop_night_cnt</th>\n",
       "      <th>...</th>\n",
       "      <th>shop_real_sum_min</th>\n",
       "      <th>shop_original_sum_min</th>\n",
       "      <th>shop_companyid</th>\n",
       "      <th>shop_com_cnt</th>\n",
       "      <th>shop_order_cnt</th>\n",
       "      <th>shop_cross_com</th>\n",
       "      <th>shop_com_roomnum</th>\n",
       "      <th>shop_com_regioncode</th>\n",
       "      <th>shop_com_managetype</th>\n",
       "      <th>shop_com_vodsystemtype</th>\n",
       "    </tr>\n",
       "  </thead>\n",
       "  <tbody>\n",
       "    <tr>\n",
       "      <th>0</th>\n",
       "      <td>1108</td>\n",
       "      <td>87</td>\n",
       "      <td>88</td>\n",
       "      <td>0</td>\n",
       "      <td>0</td>\n",
       "      <td>1</td>\n",
       "      <td>0</td>\n",
       "      <td>0</td>\n",
       "      <td>1</td>\n",
       "      <td>0</td>\n",
       "      <td>...</td>\n",
       "      <td>87</td>\n",
       "      <td>88</td>\n",
       "      <td>180</td>\n",
       "      <td>4</td>\n",
       "      <td>4</td>\n",
       "      <td>0</td>\n",
       "      <td>55</td>\n",
       "      <td>350000</td>\n",
       "      <td>1</td>\n",
       "      <td>0</td>\n",
       "    </tr>\n",
       "    <tr>\n",
       "      <th>1</th>\n",
       "      <td>5407216</td>\n",
       "      <td>2</td>\n",
       "      <td>96</td>\n",
       "      <td>0</td>\n",
       "      <td>0</td>\n",
       "      <td>3</td>\n",
       "      <td>0</td>\n",
       "      <td>0</td>\n",
       "      <td>3</td>\n",
       "      <td>0</td>\n",
       "      <td>...</td>\n",
       "      <td>0</td>\n",
       "      <td>32</td>\n",
       "      <td>3753</td>\n",
       "      <td>40</td>\n",
       "      <td>43</td>\n",
       "      <td>1</td>\n",
       "      <td>NaN</td>\n",
       "      <td>NaN</td>\n",
       "      <td>NaN</td>\n",
       "      <td>NaN</td>\n",
       "    </tr>\n",
       "    <tr>\n",
       "      <th>2</th>\n",
       "      <td>oHEmguBistfB1lRrOGlpjn9C-6o4</td>\n",
       "      <td>12</td>\n",
       "      <td>17</td>\n",
       "      <td>0</td>\n",
       "      <td>0</td>\n",
       "      <td>4</td>\n",
       "      <td>0</td>\n",
       "      <td>0</td>\n",
       "      <td>3</td>\n",
       "      <td>1</td>\n",
       "      <td>...</td>\n",
       "      <td>1</td>\n",
       "      <td>1</td>\n",
       "      <td>10233</td>\n",
       "      <td>7</td>\n",
       "      <td>7</td>\n",
       "      <td>0</td>\n",
       "      <td>NaN</td>\n",
       "      <td>NaN</td>\n",
       "      <td>NaN</td>\n",
       "      <td>NaN</td>\n",
       "    </tr>\n",
       "    <tr>\n",
       "      <th>3</th>\n",
       "      <td>oHEmguPAr3oNWit-3gebzEMkzfNQ</td>\n",
       "      <td>1</td>\n",
       "      <td>1</td>\n",
       "      <td>0</td>\n",
       "      <td>0</td>\n",
       "      <td>1</td>\n",
       "      <td>0</td>\n",
       "      <td>0</td>\n",
       "      <td>0</td>\n",
       "      <td>1</td>\n",
       "      <td>...</td>\n",
       "      <td>1</td>\n",
       "      <td>1</td>\n",
       "      <td>10233</td>\n",
       "      <td>1</td>\n",
       "      <td>1</td>\n",
       "      <td>0</td>\n",
       "      <td>NaN</td>\n",
       "      <td>NaN</td>\n",
       "      <td>NaN</td>\n",
       "      <td>NaN</td>\n",
       "    </tr>\n",
       "    <tr>\n",
       "      <th>4</th>\n",
       "      <td>otCz6vg-0gaJ1WXOCR2O0MDu4Q9Q</td>\n",
       "      <td>35</td>\n",
       "      <td>35</td>\n",
       "      <td>0</td>\n",
       "      <td>0</td>\n",
       "      <td>1</td>\n",
       "      <td>1</td>\n",
       "      <td>0</td>\n",
       "      <td>0</td>\n",
       "      <td>0</td>\n",
       "      <td>...</td>\n",
       "      <td>35</td>\n",
       "      <td>35</td>\n",
       "      <td>6195</td>\n",
       "      <td>1</td>\n",
       "      <td>1</td>\n",
       "      <td>0</td>\n",
       "      <td>46</td>\n",
       "      <td>440000</td>\n",
       "      <td>1</td>\n",
       "      <td>0</td>\n",
       "    </tr>\n",
       "  </tbody>\n",
       "</table>\n",
       "<p>5 rows × 32 columns</p>\n",
       "</div>"
      ],
      "text/plain": [
       "                         openid  shop_real_sum  shop_original_sum  \\\n",
       "0                          1108             87                 88   \n",
       "1                       5407216              2                 96   \n",
       "2  oHEmguBistfB1lRrOGlpjn9C-6o4             12                 17   \n",
       "3  oHEmguPAr3oNWit-3gebzEMkzfNQ              1                  1   \n",
       "4  otCz6vg-0gaJ1WXOCR2O0MDu4Q9Q             35                 35   \n",
       "\n",
       "   shop_wine_cnt  shop_cigarette_cnt  shop_cnt  shop_before_dawn_cnt  \\\n",
       "0              0                   0         1                     0   \n",
       "1              0                   0         3                     0   \n",
       "2              0                   0         4                     0   \n",
       "3              0                   0         1                     0   \n",
       "4              0                   0         1                     1   \n",
       "\n",
       "   shop_morning_cnt  shop_afternoon_cnt  shop_night_cnt  \\\n",
       "0                 0                   1               0   \n",
       "1                 0                   3               0   \n",
       "2                 0                   3               1   \n",
       "3                 0                   0               1   \n",
       "4                 0                   0               0   \n",
       "\n",
       "            ...            shop_real_sum_min  shop_original_sum_min  \\\n",
       "0           ...                           87                     88   \n",
       "1           ...                            0                     32   \n",
       "2           ...                            1                      1   \n",
       "3           ...                            1                      1   \n",
       "4           ...                           35                     35   \n",
       "\n",
       "   shop_companyid  shop_com_cnt  shop_order_cnt  shop_cross_com  \\\n",
       "0             180             4               4               0   \n",
       "1            3753            40              43               1   \n",
       "2           10233             7               7               0   \n",
       "3           10233             1               1               0   \n",
       "4            6195             1               1               0   \n",
       "\n",
       "   shop_com_roomnum  shop_com_regioncode  shop_com_managetype  \\\n",
       "0                55               350000                    1   \n",
       "1               NaN                  NaN                  NaN   \n",
       "2               NaN                  NaN                  NaN   \n",
       "3               NaN                  NaN                  NaN   \n",
       "4                46               440000                    1   \n",
       "\n",
       "   shop_com_vodsystemtype  \n",
       "0                       0  \n",
       "1                     NaN  \n",
       "2                     NaN  \n",
       "3                     NaN  \n",
       "4                       0  \n",
       "\n",
       "[5 rows x 32 columns]"
      ]
     },
     "execution_count": 59,
     "metadata": {},
     "output_type": "execute_result"
    }
   ],
   "source": [
    "df.head()"
   ]
  },
  {
   "cell_type": "code",
   "execution_count": 60,
   "metadata": {
    "collapsed": false
   },
   "outputs": [
    {
     "data": {
      "text/plain": [
       "(49978, 32)"
      ]
     },
     "execution_count": 60,
     "metadata": {},
     "output_type": "execute_result"
    }
   ],
   "source": [
    "df.shape"
   ]
  },
  {
   "cell_type": "code",
   "execution_count": 3,
   "metadata": {
    "collapsed": false
   },
   "outputs": [
    {
     "data": {
      "text/plain": [
       "Index([u'openid', u'shop_real_sum', u'shop_original_sum', u'shop_wine_cnt',\n",
       "       u'shop_cigarette_cnt', u'shop_cnt', u'shop_before_dawn_cnt',\n",
       "       u'shop_morning_cnt', u'shop_afternoon_cnt', u'shop_night_cnt',\n",
       "       u'shop_weekday_cnt', u'shop_weekend_cnt', u'shop_before_dawn_sum',\n",
       "       u'shop_morning_sum', u'shop_afternoon_sum', u'shop_night_sum',\n",
       "       u'shop_weekday_sum', u'shop_weekend_sum', u'shop_real_sum_avg',\n",
       "       u'shop_original_sum_avg', u'shop_real_sum_max',\n",
       "       u'shop_original_sum_max', u'shop_real_sum_min',\n",
       "       u'shop_original_sum_min', u'shop_companyid', u'shop_com_cnt',\n",
       "       u'shop_order_cnt', u'shop_cross_com', u'shop_com_roomnum',\n",
       "       u'shop_com_regioncode', u'shop_com_managetype',\n",
       "       u'shop_com_vodsystemtype'],\n",
       "      dtype='object')"
      ]
     },
     "execution_count": 3,
     "metadata": {},
     "output_type": "execute_result"
    }
   ],
   "source": [
    "df.columns"
   ]
  },
  {
   "cell_type": "code",
   "execution_count": 6,
   "metadata": {
    "collapsed": false
   },
   "outputs": [
    {
     "name": "stdout",
     "output_type": "stream",
     "text": [
      "openid  \n",
      "shop_real_sum  \n",
      "shop_original_sum  \n",
      "shop_wine_cnt  \n",
      "shop_cigarette_cnt  \n",
      "shop_cnt  \n",
      "shop_before_dawn_cnt  \n",
      "shop_morning_cnt  \n",
      "shop_afternoon_cnt  \n",
      "shop_night_cnt  \n",
      "shop_weekday_cnt  \n",
      "shop_weekend_cnt  \n",
      "shop_before_dawn_sum  \n",
      "shop_morning_sum  \n",
      "shop_afternoon_sum  \n",
      "shop_night_sum  \n",
      "shop_weekday_sum  \n",
      "shop_weekend_sum  \n",
      "shop_real_sum_avg  \n",
      "shop_original_sum_avg  \n",
      "shop_real_sum_max  \n",
      "shop_original_sum_max  \n",
      "shop_real_sum_min  \n",
      "shop_original_sum_min  \n",
      "shop_companyid  \n",
      "shop_com_cnt  \n",
      "shop_order_cnt  \n",
      "shop_cross_com  \n",
      "shop_com_roomnum  \n",
      "shop_com_regioncode  \n",
      "shop_com_managetype  \n",
      "shop_com_vodsystemtype  \n"
     ]
    }
   ],
   "source": [
    "for i in df.columns:\n",
    "    print i+\"  \""
   ]
  },
  {
   "cell_type": "code",
   "execution_count": null,
   "metadata": {
    "collapsed": true
   },
   "outputs": [],
   "source": []
  }
 ],
 "metadata": {
  "kernelspec": {
   "display_name": "Python 2",
   "language": "python",
   "name": "python2"
  },
  "language_info": {
   "codemirror_mode": {
    "name": "ipython",
    "version": 2
   },
   "file_extension": ".py",
   "mimetype": "text/x-python",
   "name": "python",
   "nbconvert_exporter": "python",
   "pygments_lexer": "ipython2",
   "version": "2.7.13"
  }
 },
 "nbformat": 4,
 "nbformat_minor": 0
}
