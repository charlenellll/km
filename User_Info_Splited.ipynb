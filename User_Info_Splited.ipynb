{
 "cells": [
  {
   "cell_type": "code",
   "execution_count": 1,
   "metadata": {
    "collapsed": true
   },
   "outputs": [],
   "source": [
    "# coding:utf-8\n",
    "\"\"\"\n",
    "本篇主要为user_info()函数相关统计调试记录\n",
    "\n",
    "\"\"\"\n",
    "import pandas as pd\n",
    "import numpy as np\n",
    "from impala.dbapi import connect\n",
    "from impala.util import as_pandas\n",
    "import datetime as dt\n",
    "import cPickle\n",
    "import pymysql.cursors"
   ]
  },
  {
   "cell_type": "code",
   "execution_count": 2,
   "metadata": {
    "collapsed": true
   },
   "outputs": [],
   "source": [
    "# Global variables\n",
    "mysql_host = '172.21.1.151'\n",
    "mysql_port = 3306\n",
    "mysql_user = 'xli'\n",
    "mysql_password = '123456'\n",
    "mysql_db = 'kdwtemp2'\n",
    "mysql_charset = 'utf8mb4'"
   ]
  },
  {
   "cell_type": "code",
   "execution_count": 3,
   "metadata": {
    "collapsed": true
   },
   "outputs": [],
   "source": [
    "def easy_print(terms,tname, records=10): #逐条描述前五条记录，方便仔细查看表中值的特征\n",
    "    conn = connect(host='172.21.1.120', port=21050, user='udms', database='kmi_month') \n",
    "    cur = conn.cursor()     \n",
    "    \n",
    "    sql = 'SELECT ' + terms + ' FROM ' + tname + ' LIMIT 5' \n",
    "    cur.execute(sql)\n",
    "    read_in = as_pandas(cur)    \n",
    "    cur.close()\n",
    "    conn.close()\n",
    "    \n",
    "    #print in a format\n",
    "    columns = read_in.columns.values\n",
    "    values = read_in.values\n",
    "    records = []\n",
    "    for v in values:\n",
    "        records.append(zip(columns, v))\n",
    "    \n",
    "    for ix,r in enumerate(records):\n",
    "        print('----------第%s条记录--------' % (ix+1))\n",
    "        for k, v in r:\n",
    "            print('%s: %s' % (k, v))   \n",
    "\n",
    "def full_print(terms,tname): #打出全表所选列，以方便进行统计查看规律，决定处理方法\n",
    "    conn = connect(host='172.21.1.120', port=21050, user='udms', database='kmi_month') \n",
    "    cur = conn.cursor()     \n",
    "    \n",
    "    sql = 'SELECT ' + terms + ' FROM ' + tname\n",
    "    cur.execute(sql)\n",
    "    df = as_pandas(cur)\n",
    "    print df\n",
    "    cur.close()\n",
    "    conn.close()"
   ]
  },
  {
   "cell_type": "code",
   "execution_count": 4,
   "metadata": {
    "collapsed": true
   },
   "outputs": [],
   "source": [
    "def encode_sex(data):\n",
    "    if data == '男':\n",
    "        return 1\n",
    "    elif data == '女':\n",
    "        return 2\n",
    "    else:\n",
    "        return 0\n",
    "\n",
    "def abnormal_birth(data,fill_in_num):\n",
    "    if data < 1940:\n",
    "        return fill_in_num\n",
    "    elif data > 2010:\n",
    "        return fill_in_num\n",
    "    else:\n",
    "        return data\n",
    "    \n",
    "def cur_time_diff(data):\n",
    "    cur_time = dt.datetime.now() \n",
    "    delta = cur_time - data\n",
    "    return delta.days\n",
    "\n",
    "def convert_time(data):\n",
    "    data = pd.to_datetime(data, format='%Y-%m-%d %H:%M:%S')\n",
    "    return data"
   ]
  },
  {
   "cell_type": "code",
   "execution_count": 5,
   "metadata": {
    "collapsed": true
   },
   "outputs": [],
   "source": [
    "def member_cache():\n",
    "    conn = connect(host='172.21.1.120', port=21050, user='udms', database='kmi_month') \n",
    "    cur = conn.cursor()     \n",
    "    \n",
    "    # 1. wj_tbl_member_cache表中用户的有用信息\n",
    "    sql = \"\"\"SELECT kmid,birthday as member_birthday, sex as km_sex,\n",
    "                accountcash,accountbalance,integralbalance,consumetotal,consumetimes,\n",
    "                createcardtime,lastconsumetime FROM wj_tbl_member_cache\"\"\"\n",
    "    cur.execute(sql)\n",
    "    df = as_pandas(cur) \n",
    "    df = df.drop_duplicates(subset='kmid')\n",
    "    #处理会员的性别编码\n",
    "    df['km_sex'] = map(encode_sex, df['km_sex'])\n",
    "    #处理会员的生日年份\n",
    "    df['member_birthday'] = pd.to_datetime(df['member_birthday'], format='%Y-%m-%d')\n",
    "    df['member_birthday'] = [i.year for i in df['member_birthday']]\n",
    "    #处理会员生日异常值\n",
    "    fill_in_num = int(df['member_birthday'].median())\n",
    "    df['member_birthday'] = map(lambda x:abnormal_birth(x,fill_in_num), df['member_birthday'])\n",
    "    #对卡创建时间和最后消费时间处理\n",
    "    df['lastconsumetime'][df['lastconsumetime'] == 'null'] = df['createcardtime'][df['lastconsumetime'] == 'null']\n",
    "    df['createcardtime'] = map(convert_time,df['createcardtime'])\n",
    "    df['lastconsumetime'] = map(convert_time,df['lastconsumetime'])\n",
    "    df['lastconsume_diff_create'] = df['lastconsumetime'] - df['createcardtime']\n",
    "    df['lastconsume_diff_create_day'] = map(lambda x: x.days,df['lastconsume_diff_create'])\n",
    "    df['lastconsume_diff_create_hour'] = map(lambda x: x.seconds/3600,df['lastconsume_diff_create'])\n",
    "    df['lastconsume_diff_now'] = map(cur_time_diff,df['lastconsumetime'])\n",
    "    drop_columns = ['lastconsume_diff_create','createcardtime','lastconsumetime']\n",
    "    df.drop(drop_columns,axis=1,inplace=1)\n",
    "    cur.close()\n",
    "    conn.close()\n",
    "    return df"
   ]
  },
  {
   "cell_type": "markdown",
   "metadata": {},
   "source": [
    "# 1. member"
   ]
  },
  {
   "cell_type": "code",
   "execution_count": 6,
   "metadata": {
    "collapsed": false
   },
   "outputs": [
    {
     "name": "stderr",
     "output_type": "stream",
     "text": [
      "D:\\Users\\Jialing Liao\\AppData\\Local\\Continuum\\Anaconda2\\lib\\site-packages\\ipykernel\\__main__.py:21: SettingWithCopyWarning: \n",
      "A value is trying to be set on a copy of a slice from a DataFrame\n",
      "\n",
      "See the caveats in the documentation: http://pandas.pydata.org/pandas-docs/stable/indexing.html#indexing-view-versus-copy\n"
     ]
    }
   ],
   "source": [
    "member = member_cache()"
   ]
  },
  {
   "cell_type": "code",
   "execution_count": 7,
   "metadata": {
    "collapsed": false
   },
   "outputs": [
    {
     "data": {
      "text/plain": [
       "True"
      ]
     },
     "execution_count": 7,
     "metadata": {},
     "output_type": "execute_result"
    }
   ],
   "source": [
    "member.shape[0] == member.drop_duplicates('kmid').shape[0]"
   ]
  },
  {
   "cell_type": "code",
   "execution_count": 8,
   "metadata": {
    "collapsed": false
   },
   "outputs": [
    {
     "name": "stdout",
     "output_type": "stream",
     "text": [
      "<class 'pandas.core.frame.DataFrame'>\n",
      "Int64Index: 15559 entries, 0 to 15559\n",
      "Data columns (total 11 columns):\n",
      "kmid                            15559 non-null object\n",
      "member_birthday                 15559 non-null int64\n",
      "km_sex                          15559 non-null int64\n",
      "accountcash                     15559 non-null object\n",
      "accountbalance                  15559 non-null object\n",
      "integralbalance                 15559 non-null object\n",
      "consumetotal                    15559 non-null object\n",
      "consumetimes                    15559 non-null object\n",
      "lastconsume_diff_create_day     15559 non-null int64\n",
      "lastconsume_diff_create_hour    15559 non-null int64\n",
      "lastconsume_diff_now            15559 non-null int64\n",
      "dtypes: int64(5), object(6)\n",
      "memory usage: 1.4+ MB\n"
     ]
    }
   ],
   "source": [
    "member.info()"
   ]
  },
  {
   "cell_type": "code",
   "execution_count": 9,
   "metadata": {
    "collapsed": false
   },
   "outputs": [
    {
     "data": {
      "text/html": [
       "<div>\n",
       "<table border=\"1\" class=\"dataframe\">\n",
       "  <thead>\n",
       "    <tr style=\"text-align: right;\">\n",
       "      <th></th>\n",
       "      <th>kmid</th>\n",
       "      <th>member_birthday</th>\n",
       "      <th>km_sex</th>\n",
       "      <th>accountcash</th>\n",
       "      <th>accountbalance</th>\n",
       "      <th>integralbalance</th>\n",
       "      <th>consumetotal</th>\n",
       "      <th>consumetimes</th>\n",
       "      <th>lastconsume_diff_create_day</th>\n",
       "      <th>lastconsume_diff_create_hour</th>\n",
       "      <th>lastconsume_diff_now</th>\n",
       "    </tr>\n",
       "  </thead>\n",
       "  <tbody>\n",
       "    <tr>\n",
       "      <th>0</th>\n",
       "      <td>000108491</td>\n",
       "      <td>1995</td>\n",
       "      <td>1</td>\n",
       "      <td>0.00</td>\n",
       "      <td>0.00</td>\n",
       "      <td>0.00</td>\n",
       "      <td>0.00</td>\n",
       "      <td>0</td>\n",
       "      <td>0</td>\n",
       "      <td>0</td>\n",
       "      <td>387</td>\n",
       "    </tr>\n",
       "    <tr>\n",
       "      <th>1</th>\n",
       "      <td>000108492</td>\n",
       "      <td>2000</td>\n",
       "      <td>1</td>\n",
       "      <td>120.00</td>\n",
       "      <td>120.00</td>\n",
       "      <td>0.00</td>\n",
       "      <td>180.00</td>\n",
       "      <td>1</td>\n",
       "      <td>0</td>\n",
       "      <td>0</td>\n",
       "      <td>387</td>\n",
       "    </tr>\n",
       "    <tr>\n",
       "      <th>2</th>\n",
       "      <td>000108494</td>\n",
       "      <td>1982</td>\n",
       "      <td>2</td>\n",
       "      <td>201.00</td>\n",
       "      <td>201.00</td>\n",
       "      <td>15.00</td>\n",
       "      <td>319.00</td>\n",
       "      <td>1</td>\n",
       "      <td>0</td>\n",
       "      <td>0</td>\n",
       "      <td>387</td>\n",
       "    </tr>\n",
       "    <tr>\n",
       "      <th>3</th>\n",
       "      <td>000108496</td>\n",
       "      <td>1986</td>\n",
       "      <td>2</td>\n",
       "      <td>15.00</td>\n",
       "      <td>15.00</td>\n",
       "      <td>485.00</td>\n",
       "      <td>1151.00</td>\n",
       "      <td>4</td>\n",
       "      <td>6</td>\n",
       "      <td>23</td>\n",
       "      <td>380</td>\n",
       "    </tr>\n",
       "    <tr>\n",
       "      <th>4</th>\n",
       "      <td>000108497</td>\n",
       "      <td>1981</td>\n",
       "      <td>1</td>\n",
       "      <td>0.00</td>\n",
       "      <td>0.00</td>\n",
       "      <td>16.00</td>\n",
       "      <td>1691.00</td>\n",
       "      <td>2</td>\n",
       "      <td>22</td>\n",
       "      <td>0</td>\n",
       "      <td>365</td>\n",
       "    </tr>\n",
       "  </tbody>\n",
       "</table>\n",
       "</div>"
      ],
      "text/plain": [
       "        kmid  member_birthday  km_sex accountcash accountbalance  \\\n",
       "0  000108491             1995       1        0.00           0.00   \n",
       "1  000108492             2000       1      120.00         120.00   \n",
       "2  000108494             1982       2      201.00         201.00   \n",
       "3  000108496             1986       2       15.00          15.00   \n",
       "4  000108497             1981       1        0.00           0.00   \n",
       "\n",
       "  integralbalance consumetotal consumetimes  lastconsume_diff_create_day  \\\n",
       "0            0.00         0.00            0                            0   \n",
       "1            0.00       180.00            1                            0   \n",
       "2           15.00       319.00            1                            0   \n",
       "3          485.00      1151.00            4                            6   \n",
       "4           16.00      1691.00            2                           22   \n",
       "\n",
       "   lastconsume_diff_create_hour  lastconsume_diff_now  \n",
       "0                             0                   387  \n",
       "1                             0                   387  \n",
       "2                             0                   387  \n",
       "3                            23                   380  \n",
       "4                             0                   365  "
      ]
     },
     "execution_count": 9,
     "metadata": {},
     "output_type": "execute_result"
    }
   ],
   "source": [
    "member.head()"
   ]
  },
  {
   "cell_type": "code",
   "execution_count": 10,
   "metadata": {
    "collapsed": false
   },
   "outputs": [
    {
     "data": {
      "text/plain": [
       "(15559, 11)"
      ]
     },
     "execution_count": 10,
     "metadata": {},
     "output_type": "execute_result"
    }
   ],
   "source": [
    "member.shape"
   ]
  },
  {
   "cell_type": "code",
   "execution_count": 11,
   "metadata": {
    "collapsed": true
   },
   "outputs": [],
   "source": [
    "def customer_openid():\n",
    "    conn = connect(host='172.21.1.120', port=21050, user='udms', database='kmi_month') \n",
    "    cur = conn.cursor()    \n",
    "    # 2. km_tbl_customer表中的有用信息\n",
    "    sql1 = 'SELECT customerid,registertime,status as customer_status FROM km_tbl_customer'\n",
    "    cur.execute(sql1)\n",
    "    km_customer = as_pandas(cur)\n",
    "    # status为0的为正常用户\n",
    "    sql2 = 'SELECT openid,customerid FROM km_tbl_customer_openid_relation'\n",
    "    cur.execute(sql2)\n",
    "    openid = as_pandas(cur)\n",
    "    temp = pd.merge(km_customer,openid,how='left',left_on='customerid',right_on='customerid')\n",
    "    cur.close()\n",
    "    conn.close()\n",
    "    return temp"
   ]
  },
  {
   "cell_type": "markdown",
   "metadata": {},
   "source": [
    "# 2. customer_openid  merge结果"
   ]
  },
  {
   "cell_type": "code",
   "execution_count": 12,
   "metadata": {
    "collapsed": false
   },
   "outputs": [],
   "source": [
    "customer_openid = customer_openid()"
   ]
  },
  {
   "cell_type": "code",
   "execution_count": 13,
   "metadata": {
    "collapsed": false,
    "scrolled": true
   },
   "outputs": [
    {
     "data": {
      "text/html": [
       "<div>\n",
       "<table border=\"1\" class=\"dataframe\">\n",
       "  <thead>\n",
       "    <tr style=\"text-align: right;\">\n",
       "      <th></th>\n",
       "      <th>customerid</th>\n",
       "      <th>registertime</th>\n",
       "      <th>customer_status</th>\n",
       "      <th>openid</th>\n",
       "    </tr>\n",
       "  </thead>\n",
       "  <tbody>\n",
       "    <tr>\n",
       "      <th>0</th>\n",
       "      <td>5792237</td>\n",
       "      <td>2016-05-01 00:00:00</td>\n",
       "      <td>0</td>\n",
       "      <td>NaN</td>\n",
       "    </tr>\n",
       "    <tr>\n",
       "      <th>1</th>\n",
       "      <td>5792238</td>\n",
       "      <td>2016-05-01 00:00:01</td>\n",
       "      <td>0</td>\n",
       "      <td>NaN</td>\n",
       "    </tr>\n",
       "    <tr>\n",
       "      <th>2</th>\n",
       "      <td>5792239</td>\n",
       "      <td>2016-05-01 00:00:05</td>\n",
       "      <td>0</td>\n",
       "      <td>NaN</td>\n",
       "    </tr>\n",
       "    <tr>\n",
       "      <th>3</th>\n",
       "      <td>5792240</td>\n",
       "      <td>2016-05-01 00:00:05</td>\n",
       "      <td>0</td>\n",
       "      <td>otCz6vsIe4jdqhe87w-tqsdDyMC4</td>\n",
       "    </tr>\n",
       "    <tr>\n",
       "      <th>4</th>\n",
       "      <td>5792241</td>\n",
       "      <td>2016-05-01 00:00:07</td>\n",
       "      <td>0</td>\n",
       "      <td>NaN</td>\n",
       "    </tr>\n",
       "  </tbody>\n",
       "</table>\n",
       "</div>"
      ],
      "text/plain": [
       "  customerid         registertime customer_status  \\\n",
       "0    5792237  2016-05-01 00:00:00               0   \n",
       "1    5792238  2016-05-01 00:00:01               0   \n",
       "2    5792239  2016-05-01 00:00:05               0   \n",
       "3    5792240  2016-05-01 00:00:05               0   \n",
       "4    5792241  2016-05-01 00:00:07               0   \n",
       "\n",
       "                         openid  \n",
       "0                           NaN  \n",
       "1                           NaN  \n",
       "2                           NaN  \n",
       "3  otCz6vsIe4jdqhe87w-tqsdDyMC4  \n",
       "4                           NaN  "
      ]
     },
     "execution_count": 13,
     "metadata": {},
     "output_type": "execute_result"
    }
   ],
   "source": [
    "customer_openid.head()"
   ]
  },
  {
   "cell_type": "code",
   "execution_count": 13,
   "metadata": {
    "collapsed": false
   },
   "outputs": [
    {
     "name": "stdout",
     "output_type": "stream",
     "text": [
      "<class 'pandas.core.frame.DataFrame'>\n",
      "Int64Index: 368275 entries, 0 to 368274\n",
      "Data columns (total 4 columns):\n",
      "customerid         368275 non-null object\n",
      "registertime       368275 non-null object\n",
      "customer_status    368275 non-null object\n",
      "openid             103847 non-null object\n",
      "dtypes: object(4)\n",
      "memory usage: 14.0+ MB\n"
     ]
    }
   ],
   "source": [
    "customer_openid.info()"
   ]
  },
  {
   "cell_type": "code",
   "execution_count": 14,
   "metadata": {
    "collapsed": false
   },
   "outputs": [
    {
     "data": {
      "text/plain": [
       "(368275, 4)"
      ]
     },
     "execution_count": 14,
     "metadata": {},
     "output_type": "execute_result"
    }
   ],
   "source": [
    "customer_openid.shape"
   ]
  },
  {
   "cell_type": "code",
   "execution_count": 15,
   "metadata": {
    "collapsed": false
   },
   "outputs": [
    {
     "data": {
      "text/plain": [
       "True"
      ]
     },
     "execution_count": 15,
     "metadata": {},
     "output_type": "execute_result"
    }
   ],
   "source": [
    "customer_openid.shape[0] == customer_openid.drop_duplicates('customerid').shape[0]"
   ]
  },
  {
   "cell_type": "code",
   "execution_count": 16,
   "metadata": {
    "collapsed": true
   },
   "outputs": [],
   "source": [
    "def wechat_info():\n",
    "    conn = connect(host='172.21.1.120', port=21050, user='udms', database='kmi_month') \n",
    "    cur = conn.cursor()       \n",
    "    # 3. kdw_tbl_kmwechat_userinfo表中的有用信息\n",
    "    sql3 = \"\"\"SELECT openid,\n",
    "                    sex as wechat_sex,\n",
    "                    city as wechat_city,\n",
    "                    province as wechat_province,\n",
    "                    country as wechat_country\n",
    "              FROM kdw_tbl_kmwechat_userinfo\"\"\"\n",
    "    cur.execute(sql3)\n",
    "    wechat_info = as_pandas(cur)    \n",
    "    cur.close()\n",
    "    conn.close()\n",
    "    return wechat_info"
   ]
  },
  {
   "cell_type": "code",
   "execution_count": 17,
   "metadata": {
    "collapsed": false
   },
   "outputs": [],
   "source": [
    "wechat_info = wechat_info()"
   ]
  },
  {
   "cell_type": "code",
   "execution_count": 18,
   "metadata": {
    "collapsed": true
   },
   "outputs": [],
   "source": [
    "wechat_info.drop_duplicates('openid',inplace=True)"
   ]
  },
  {
   "cell_type": "code",
   "execution_count": 19,
   "metadata": {
    "collapsed": false
   },
   "outputs": [
    {
     "data": {
      "text/html": [
       "<div>\n",
       "<table border=\"1\" class=\"dataframe\">\n",
       "  <thead>\n",
       "    <tr style=\"text-align: right;\">\n",
       "      <th></th>\n",
       "      <th>openid</th>\n",
       "      <th>wechat_sex</th>\n",
       "      <th>wechat_city</th>\n",
       "      <th>wechat_province</th>\n",
       "      <th>wechat_country</th>\n",
       "    </tr>\n",
       "  </thead>\n",
       "  <tbody>\n",
       "    <tr>\n",
       "      <th>0</th>\n",
       "      <td>otCz6vg--07eY8ZAoEBALjav6HMA</td>\n",
       "      <td>0</td>\n",
       "      <td>null</td>\n",
       "      <td>null</td>\n",
       "      <td>null</td>\n",
       "    </tr>\n",
       "    <tr>\n",
       "      <th>1</th>\n",
       "      <td>otCz6vg--3qEyiM2-Rd6TiL6twxc</td>\n",
       "      <td>0</td>\n",
       "      <td>null</td>\n",
       "      <td>null</td>\n",
       "      <td>null</td>\n",
       "    </tr>\n",
       "    <tr>\n",
       "      <th>2</th>\n",
       "      <td>otCz6vg--9OyO7I0QNenBsk3JQjs</td>\n",
       "      <td>2</td>\n",
       "      <td>张家口</td>\n",
       "      <td>河北</td>\n",
       "      <td>中国</td>\n",
       "    </tr>\n",
       "    <tr>\n",
       "      <th>3</th>\n",
       "      <td>otCz6vg--aHFpApYwsh0GseMnqVw</td>\n",
       "      <td>1</td>\n",
       "      <td>潮州</td>\n",
       "      <td>广东</td>\n",
       "      <td>中国</td>\n",
       "    </tr>\n",
       "    <tr>\n",
       "      <th>4</th>\n",
       "      <td>otCz6vg--BG--ZG7KkQrrDC8jNzc</td>\n",
       "      <td>1</td>\n",
       "      <td>浦东新区</td>\n",
       "      <td>上海</td>\n",
       "      <td>中国</td>\n",
       "    </tr>\n",
       "  </tbody>\n",
       "</table>\n",
       "</div>"
      ],
      "text/plain": [
       "                         openid wechat_sex wechat_city wechat_province  \\\n",
       "0  otCz6vg--07eY8ZAoEBALjav6HMA          0        null            null   \n",
       "1  otCz6vg--3qEyiM2-Rd6TiL6twxc          0        null            null   \n",
       "2  otCz6vg--9OyO7I0QNenBsk3JQjs          2         张家口              河北   \n",
       "3  otCz6vg--aHFpApYwsh0GseMnqVw          1          潮州              广东   \n",
       "4  otCz6vg--BG--ZG7KkQrrDC8jNzc          1        浦东新区              上海   \n",
       "\n",
       "  wechat_country  \n",
       "0           null  \n",
       "1           null  \n",
       "2             中国  \n",
       "3             中国  \n",
       "4             中国  "
      ]
     },
     "execution_count": 19,
     "metadata": {},
     "output_type": "execute_result"
    }
   ],
   "source": [
    "wechat_info.head()"
   ]
  },
  {
   "cell_type": "code",
   "execution_count": 20,
   "metadata": {
    "collapsed": false
   },
   "outputs": [
    {
     "data": {
      "text/plain": [
       "(1559362, 5)"
      ]
     },
     "execution_count": 20,
     "metadata": {},
     "output_type": "execute_result"
    }
   ],
   "source": [
    "wechat_info.shape"
   ]
  },
  {
   "cell_type": "code",
   "execution_count": 21,
   "metadata": {
    "collapsed": false
   },
   "outputs": [
    {
     "name": "stdout",
     "output_type": "stream",
     "text": [
      "<class 'pandas.core.frame.DataFrame'>\n",
      "Int64Index: 1559362 entries, 0 to 2160905\n",
      "Data columns (total 5 columns):\n",
      "openid             1559362 non-null object\n",
      "wechat_sex         1559362 non-null object\n",
      "wechat_city        1559362 non-null object\n",
      "wechat_province    1559362 non-null object\n",
      "wechat_country     1559362 non-null object\n",
      "dtypes: object(5)\n",
      "memory usage: 71.4+ MB\n"
     ]
    }
   ],
   "source": [
    "wechat_info.info()"
   ]
  },
  {
   "cell_type": "code",
   "execution_count": 22,
   "metadata": {
    "collapsed": false
   },
   "outputs": [
    {
     "data": {
      "text/plain": [
       "True"
      ]
     },
     "execution_count": 22,
     "metadata": {},
     "output_type": "execute_result"
    }
   ],
   "source": [
    "wechat_info.shape[0] == wechat_info.drop_duplicates('openid').shape[0]"
   ]
  },
  {
   "cell_type": "code",
   "execution_count": 23,
   "metadata": {
    "collapsed": false
   },
   "outputs": [
    {
     "data": {
      "text/plain": [
       "103847"
      ]
     },
     "execution_count": 23,
     "metadata": {},
     "output_type": "execute_result"
    }
   ],
   "source": [
    "customer_openid['openid'].notnull().sum()"
   ]
  },
  {
   "cell_type": "code",
   "execution_count": 24,
   "metadata": {
    "collapsed": false
   },
   "outputs": [
    {
     "data": {
      "text/plain": [
       "1559362"
      ]
     },
     "execution_count": 24,
     "metadata": {},
     "output_type": "execute_result"
    }
   ],
   "source": [
    "wechat_info['openid'].notnull().sum()"
   ]
  },
  {
   "cell_type": "markdown",
   "metadata": {},
   "source": [
    "# 3. 合并wechat_info 和customerid_openid"
   ]
  },
  {
   "cell_type": "code",
   "execution_count": 25,
   "metadata": {
    "collapsed": true
   },
   "outputs": [],
   "source": [
    "temp = pd.merge(customer_openid,wechat_info,how='left',left_on='openid',right_on='openid')"
   ]
  },
  {
   "cell_type": "code",
   "execution_count": 26,
   "metadata": {
    "collapsed": false
   },
   "outputs": [
    {
     "name": "stdout",
     "output_type": "stream",
     "text": [
      "<class 'pandas.core.frame.DataFrame'>\n",
      "Int64Index: 368275 entries, 0 to 368274\n",
      "Data columns (total 8 columns):\n",
      "customerid         368275 non-null object\n",
      "registertime       368275 non-null object\n",
      "customer_status    368275 non-null object\n",
      "openid             103847 non-null object\n",
      "wechat_sex         81738 non-null object\n",
      "wechat_city        81738 non-null object\n",
      "wechat_province    81738 non-null object\n",
      "wechat_country     81738 non-null object\n",
      "dtypes: object(8)\n",
      "memory usage: 25.3+ MB\n"
     ]
    }
   ],
   "source": [
    "temp.info()"
   ]
  },
  {
   "cell_type": "code",
   "execution_count": 27,
   "metadata": {
    "collapsed": false
   },
   "outputs": [
    {
     "data": {
      "text/plain": [
       "True"
      ]
     },
     "execution_count": 27,
     "metadata": {},
     "output_type": "execute_result"
    }
   ],
   "source": [
    "temp.shape[0] == temp.drop_duplicates('customerid').shape[0]"
   ]
  },
  {
   "cell_type": "code",
   "execution_count": 28,
   "metadata": {
    "collapsed": true
   },
   "outputs": [],
   "source": [
    "def wechat_userbind():\n",
    "    conn = connect(host='172.21.1.120', port=21050, user='udms', database='kmi_month') \n",
    "    cur = conn.cursor()    \n",
    "    # 4. wj_tbl_weixin_userbind表中的有用信息\n",
    "    sql4 = 'SELECT openid,kmid,customerid FROM wj_tbl_weixin_userbind'\n",
    "    cur.execute(sql4)\n",
    "    wechat_userbind = as_pandas(cur)\n",
    "    cur.close()\n",
    "    conn.close\n",
    "    return wechat_userbind"
   ]
  },
  {
   "cell_type": "code",
   "execution_count": 29,
   "metadata": {
    "collapsed": true
   },
   "outputs": [],
   "source": [
    "wechat_userbind = wechat_userbind()"
   ]
  },
  {
   "cell_type": "code",
   "execution_count": 30,
   "metadata": {
    "collapsed": false
   },
   "outputs": [
    {
     "data": {
      "text/plain": [
       "(112323, 3)"
      ]
     },
     "execution_count": 30,
     "metadata": {},
     "output_type": "execute_result"
    }
   ],
   "source": [
    "wechat_userbind.shape"
   ]
  },
  {
   "cell_type": "code",
   "execution_count": 31,
   "metadata": {
    "collapsed": false,
    "scrolled": false
   },
   "outputs": [
    {
     "name": "stdout",
     "output_type": "stream",
     "text": [
      "<class 'pandas.core.frame.DataFrame'>\n",
      "Int64Index: 112323 entries, 0 to 112322\n",
      "Data columns (total 3 columns):\n",
      "openid        112323 non-null object\n",
      "kmid          112323 non-null object\n",
      "customerid    112323 non-null object\n",
      "dtypes: object(3)\n",
      "memory usage: 3.4+ MB\n"
     ]
    }
   ],
   "source": [
    "wechat_userbind.info()"
   ]
  },
  {
   "cell_type": "markdown",
   "metadata": {},
   "source": [
    "### 说明三者都有重复"
   ]
  },
  {
   "cell_type": "code",
   "execution_count": 32,
   "metadata": {
    "collapsed": false
   },
   "outputs": [
    {
     "data": {
      "text/plain": [
       "104950"
      ]
     },
     "execution_count": 32,
     "metadata": {},
     "output_type": "execute_result"
    }
   ],
   "source": [
    "len(pd.value_counts(wechat_userbind['openid']))"
   ]
  },
  {
   "cell_type": "code",
   "execution_count": 33,
   "metadata": {
    "collapsed": false
   },
   "outputs": [
    {
     "data": {
      "text/plain": [
       "109953"
      ]
     },
     "execution_count": 33,
     "metadata": {},
     "output_type": "execute_result"
    }
   ],
   "source": [
    "len(pd.value_counts(wechat_userbind['kmid']))"
   ]
  },
  {
   "cell_type": "code",
   "execution_count": 34,
   "metadata": {
    "collapsed": false
   },
   "outputs": [
    {
     "data": {
      "text/plain": [
       "100283"
      ]
     },
     "execution_count": 34,
     "metadata": {},
     "output_type": "execute_result"
    }
   ],
   "source": [
    "len(pd.value_counts(wechat_userbind['customerid']))"
   ]
  },
  {
   "cell_type": "code",
   "execution_count": 35,
   "metadata": {
    "collapsed": true
   },
   "outputs": [],
   "source": [
    "wechat_userbind.drop_duplicates('openid',inplace=True)"
   ]
  },
  {
   "cell_type": "code",
   "execution_count": 36,
   "metadata": {
    "collapsed": false
   },
   "outputs": [
    {
     "name": "stdout",
     "output_type": "stream",
     "text": [
      "<class 'pandas.core.frame.DataFrame'>\n",
      "Int64Index: 104950 entries, 0 to 112321\n",
      "Data columns (total 3 columns):\n",
      "openid        104950 non-null object\n",
      "kmid          104950 non-null object\n",
      "customerid    104950 non-null object\n",
      "dtypes: object(3)\n",
      "memory usage: 3.2+ MB\n"
     ]
    }
   ],
   "source": [
    "wechat_userbind.info()"
   ]
  },
  {
   "cell_type": "code",
   "execution_count": 37,
   "metadata": {
    "collapsed": false
   },
   "outputs": [
    {
     "data": {
      "text/plain": [
       "104428"
      ]
     },
     "execution_count": 37,
     "metadata": {},
     "output_type": "execute_result"
    }
   ],
   "source": [
    "len(pd.value_counts(wechat_userbind['kmid']))"
   ]
  },
  {
   "cell_type": "code",
   "execution_count": 38,
   "metadata": {
    "collapsed": true
   },
   "outputs": [],
   "source": [
    "df_test = wechat_userbind.drop_duplicates('kmid')"
   ]
  },
  {
   "cell_type": "code",
   "execution_count": 39,
   "metadata": {
    "collapsed": false
   },
   "outputs": [
    {
     "name": "stdout",
     "output_type": "stream",
     "text": [
      "<class 'pandas.core.frame.DataFrame'>\n",
      "Int64Index: 104428 entries, 0 to 112321\n",
      "Data columns (total 3 columns):\n",
      "openid        104428 non-null object\n",
      "kmid          104428 non-null object\n",
      "customerid    104428 non-null object\n",
      "dtypes: object(3)\n",
      "memory usage: 3.2+ MB\n"
     ]
    }
   ],
   "source": [
    "df_test.info()"
   ]
  },
  {
   "cell_type": "code",
   "execution_count": 40,
   "metadata": {
    "collapsed": false
   },
   "outputs": [
    {
     "data": {
      "text/plain": [
       "96783"
      ]
     },
     "execution_count": 40,
     "metadata": {},
     "output_type": "execute_result"
    }
   ],
   "source": [
    "len(pd.value_counts(wechat_userbind['customerid']))"
   ]
  },
  {
   "cell_type": "code",
   "execution_count": 41,
   "metadata": {
    "collapsed": true
   },
   "outputs": [],
   "source": [
    "df_test2 = df_test.drop_duplicates('customerid')"
   ]
  },
  {
   "cell_type": "code",
   "execution_count": 42,
   "metadata": {
    "collapsed": false
   },
   "outputs": [
    {
     "name": "stdout",
     "output_type": "stream",
     "text": [
      "<class 'pandas.core.frame.DataFrame'>\n",
      "Int64Index: 96783 entries, 0 to 111830\n",
      "Data columns (total 3 columns):\n",
      "openid        96783 non-null object\n",
      "kmid          96783 non-null object\n",
      "customerid    96783 non-null object\n",
      "dtypes: object(3)\n",
      "memory usage: 3.0+ MB\n"
     ]
    }
   ],
   "source": [
    "df_test2.info()"
   ]
  },
  {
   "cell_type": "markdown",
   "metadata": {},
   "source": [
    "### 以上测试说明按照三者分别去重可行，剩下的数据充足，为了后期表连成功，这里只好舍弃部分重复值"
   ]
  },
  {
   "cell_type": "code",
   "execution_count": 43,
   "metadata": {
    "collapsed": true
   },
   "outputs": [],
   "source": [
    "wechat_userbind.drop_duplicates('kmid',inplace=True)"
   ]
  },
  {
   "cell_type": "code",
   "execution_count": 44,
   "metadata": {
    "collapsed": true
   },
   "outputs": [],
   "source": [
    "wechat_userbind.drop_duplicates('customerid',inplace=True)"
   ]
  },
  {
   "cell_type": "code",
   "execution_count": 45,
   "metadata": {
    "collapsed": false
   },
   "outputs": [
    {
     "name": "stdout",
     "output_type": "stream",
     "text": [
      "<class 'pandas.core.frame.DataFrame'>\n",
      "Int64Index: 96783 entries, 0 to 111830\n",
      "Data columns (total 3 columns):\n",
      "openid        96783 non-null object\n",
      "kmid          96783 non-null object\n",
      "customerid    96783 non-null object\n",
      "dtypes: object(3)\n",
      "memory usage: 3.0+ MB\n"
     ]
    }
   ],
   "source": [
    "wechat_userbind.info()"
   ]
  },
  {
   "cell_type": "markdown",
   "metadata": {
    "collapsed": true
   },
   "source": [
    "# 4. 合并上表与wechat_userbind"
   ]
  },
  {
   "cell_type": "code",
   "execution_count": 46,
   "metadata": {
    "collapsed": true
   },
   "outputs": [],
   "source": [
    "temp2 = pd.merge(temp,wechat_userbind,how='outer',left_on='openid',right_on='openid')"
   ]
  },
  {
   "cell_type": "code",
   "execution_count": 47,
   "metadata": {
    "collapsed": false
   },
   "outputs": [
    {
     "name": "stdout",
     "output_type": "stream",
     "text": [
      "<class 'pandas.core.frame.DataFrame'>\n",
      "Int64Index: 464902 entries, 0 to 464901\n",
      "Data columns (total 10 columns):\n",
      "customerid_x       368275 non-null object\n",
      "registertime       368275 non-null object\n",
      "customer_status    368275 non-null object\n",
      "openid             200474 non-null object\n",
      "wechat_sex         81738 non-null object\n",
      "wechat_city        81738 non-null object\n",
      "wechat_province    81738 non-null object\n",
      "wechat_country     81738 non-null object\n",
      "kmid               96783 non-null object\n",
      "customerid_y       96783 non-null object\n",
      "dtypes: object(10)\n",
      "memory usage: 39.0+ MB\n"
     ]
    }
   ],
   "source": [
    "temp2.info()"
   ]
  },
  {
   "cell_type": "code",
   "execution_count": 48,
   "metadata": {
    "collapsed": false
   },
   "outputs": [
    {
     "data": {
      "text/html": [
       "<div>\n",
       "<table border=\"1\" class=\"dataframe\">\n",
       "  <thead>\n",
       "    <tr style=\"text-align: right;\">\n",
       "      <th></th>\n",
       "      <th>customerid_x</th>\n",
       "      <th>registertime</th>\n",
       "      <th>customer_status</th>\n",
       "      <th>openid</th>\n",
       "      <th>wechat_sex</th>\n",
       "      <th>wechat_city</th>\n",
       "      <th>wechat_province</th>\n",
       "      <th>wechat_country</th>\n",
       "      <th>kmid</th>\n",
       "      <th>customerid_y</th>\n",
       "    </tr>\n",
       "  </thead>\n",
       "  <tbody>\n",
       "    <tr>\n",
       "      <th>0</th>\n",
       "      <td>5792237</td>\n",
       "      <td>2016-05-01 00:00:00</td>\n",
       "      <td>0</td>\n",
       "      <td>NaN</td>\n",
       "      <td>NaN</td>\n",
       "      <td>NaN</td>\n",
       "      <td>NaN</td>\n",
       "      <td>NaN</td>\n",
       "      <td>NaN</td>\n",
       "      <td>NaN</td>\n",
       "    </tr>\n",
       "    <tr>\n",
       "      <th>1</th>\n",
       "      <td>5792238</td>\n",
       "      <td>2016-05-01 00:00:01</td>\n",
       "      <td>0</td>\n",
       "      <td>NaN</td>\n",
       "      <td>NaN</td>\n",
       "      <td>NaN</td>\n",
       "      <td>NaN</td>\n",
       "      <td>NaN</td>\n",
       "      <td>NaN</td>\n",
       "      <td>NaN</td>\n",
       "    </tr>\n",
       "    <tr>\n",
       "      <th>2</th>\n",
       "      <td>5792239</td>\n",
       "      <td>2016-05-01 00:00:05</td>\n",
       "      <td>0</td>\n",
       "      <td>NaN</td>\n",
       "      <td>NaN</td>\n",
       "      <td>NaN</td>\n",
       "      <td>NaN</td>\n",
       "      <td>NaN</td>\n",
       "      <td>NaN</td>\n",
       "      <td>NaN</td>\n",
       "    </tr>\n",
       "    <tr>\n",
       "      <th>3</th>\n",
       "      <td>5792241</td>\n",
       "      <td>2016-05-01 00:00:07</td>\n",
       "      <td>0</td>\n",
       "      <td>NaN</td>\n",
       "      <td>NaN</td>\n",
       "      <td>NaN</td>\n",
       "      <td>NaN</td>\n",
       "      <td>NaN</td>\n",
       "      <td>NaN</td>\n",
       "      <td>NaN</td>\n",
       "    </tr>\n",
       "    <tr>\n",
       "      <th>4</th>\n",
       "      <td>5792242</td>\n",
       "      <td>2016-05-01 00:00:07</td>\n",
       "      <td>0</td>\n",
       "      <td>NaN</td>\n",
       "      <td>NaN</td>\n",
       "      <td>NaN</td>\n",
       "      <td>NaN</td>\n",
       "      <td>NaN</td>\n",
       "      <td>NaN</td>\n",
       "      <td>NaN</td>\n",
       "    </tr>\n",
       "  </tbody>\n",
       "</table>\n",
       "</div>"
      ],
      "text/plain": [
       "  customerid_x         registertime customer_status openid wechat_sex  \\\n",
       "0      5792237  2016-05-01 00:00:00               0    NaN        NaN   \n",
       "1      5792238  2016-05-01 00:00:01               0    NaN        NaN   \n",
       "2      5792239  2016-05-01 00:00:05               0    NaN        NaN   \n",
       "3      5792241  2016-05-01 00:00:07               0    NaN        NaN   \n",
       "4      5792242  2016-05-01 00:00:07               0    NaN        NaN   \n",
       "\n",
       "  wechat_city wechat_province wechat_country kmid customerid_y  \n",
       "0         NaN             NaN            NaN  NaN          NaN  \n",
       "1         NaN             NaN            NaN  NaN          NaN  \n",
       "2         NaN             NaN            NaN  NaN          NaN  \n",
       "3         NaN             NaN            NaN  NaN          NaN  \n",
       "4         NaN             NaN            NaN  NaN          NaN  "
      ]
     },
     "execution_count": 48,
     "metadata": {},
     "output_type": "execute_result"
    }
   ],
   "source": [
    "temp2.head()"
   ]
  },
  {
   "cell_type": "code",
   "execution_count": 49,
   "metadata": {
    "collapsed": false
   },
   "outputs": [
    {
     "data": {
      "text/plain": [
       "368275"
      ]
     },
     "execution_count": 49,
     "metadata": {},
     "output_type": "execute_result"
    }
   ],
   "source": [
    "temp2['customerid_x'].notnull().sum()"
   ]
  },
  {
   "cell_type": "code",
   "execution_count": 50,
   "metadata": {
    "collapsed": false
   },
   "outputs": [
    {
     "data": {
      "text/plain": [
       "368275"
      ]
     },
     "execution_count": 50,
     "metadata": {},
     "output_type": "execute_result"
    }
   ],
   "source": [
    "len(temp2['customerid_x'].value_counts())"
   ]
  },
  {
   "cell_type": "code",
   "execution_count": 51,
   "metadata": {
    "collapsed": false
   },
   "outputs": [
    {
     "data": {
      "text/plain": [
       "96783"
      ]
     },
     "execution_count": 51,
     "metadata": {},
     "output_type": "execute_result"
    }
   ],
   "source": [
    "temp2['customerid_y'].notnull().sum()"
   ]
  },
  {
   "cell_type": "code",
   "execution_count": 52,
   "metadata": {
    "collapsed": false,
    "scrolled": true
   },
   "outputs": [
    {
     "data": {
      "text/plain": [
       "96783"
      ]
     },
     "execution_count": 52,
     "metadata": {},
     "output_type": "execute_result"
    }
   ],
   "source": [
    "len(temp2['customerid_y'].value_counts())"
   ]
  },
  {
   "cell_type": "markdown",
   "metadata": {},
   "source": [
    "### 不能drop customerid_y,因为只有它和kmid对应，然后它和customerid_x只重叠156个，drop掉后面只有156条有效信息"
   ]
  },
  {
   "cell_type": "code",
   "execution_count": 101,
   "metadata": {
    "collapsed": true
   },
   "outputs": [],
   "source": [
    "#temp2.drop('customerid_y',axis=1,inplace=True)"
   ]
  },
  {
   "cell_type": "code",
   "execution_count": 53,
   "metadata": {
    "collapsed": true
   },
   "outputs": [],
   "source": [
    "temp2['customerid_x'][temp2['customerid_x'].isnull()] = temp2['customerid_y']"
   ]
  },
  {
   "cell_type": "code",
   "execution_count": 54,
   "metadata": {
    "collapsed": false
   },
   "outputs": [
    {
     "name": "stdout",
     "output_type": "stream",
     "text": [
      "<class 'pandas.core.frame.DataFrame'>\n",
      "Int64Index: 464902 entries, 0 to 464901\n",
      "Data columns (total 10 columns):\n",
      "customerid_x       464902 non-null object\n",
      "registertime       368275 non-null object\n",
      "customer_status    368275 non-null object\n",
      "openid             200474 non-null object\n",
      "wechat_sex         81738 non-null object\n",
      "wechat_city        81738 non-null object\n",
      "wechat_province    81738 non-null object\n",
      "wechat_country     81738 non-null object\n",
      "kmid               96783 non-null object\n",
      "customerid_y       96783 non-null object\n",
      "dtypes: object(10)\n",
      "memory usage: 39.0+ MB\n"
     ]
    }
   ],
   "source": [
    "temp2.info()"
   ]
  },
  {
   "cell_type": "code",
   "execution_count": 55,
   "metadata": {
    "collapsed": false
   },
   "outputs": [
    {
     "data": {
      "text/plain": [
       "460276"
      ]
     },
     "execution_count": 55,
     "metadata": {},
     "output_type": "execute_result"
    }
   ],
   "source": [
    "len(pd.value_counts(temp2['customerid_x']))"
   ]
  },
  {
   "cell_type": "code",
   "execution_count": 56,
   "metadata": {
    "collapsed": true
   },
   "outputs": [],
   "source": [
    "df_test = temp2.drop_duplicates('customerid_x')"
   ]
  },
  {
   "cell_type": "code",
   "execution_count": 57,
   "metadata": {
    "collapsed": false
   },
   "outputs": [
    {
     "name": "stdout",
     "output_type": "stream",
     "text": [
      "<class 'pandas.core.frame.DataFrame'>\n",
      "Int64Index: 460276 entries, 0 to 464901\n",
      "Data columns (total 10 columns):\n",
      "customerid_x       460276 non-null object\n",
      "registertime       368275 non-null object\n",
      "customer_status    368275 non-null object\n",
      "openid             195848 non-null object\n",
      "wechat_sex         81738 non-null object\n",
      "wechat_city        81738 non-null object\n",
      "wechat_province    81738 non-null object\n",
      "wechat_country     81738 non-null object\n",
      "kmid               92157 non-null object\n",
      "customerid_y       92157 non-null object\n",
      "dtypes: object(10)\n",
      "memory usage: 38.6+ MB\n"
     ]
    }
   ],
   "source": [
    "df_test.info()"
   ]
  },
  {
   "cell_type": "markdown",
   "metadata": {},
   "source": [
    "### 以上说明填充customerid以后去重可行"
   ]
  },
  {
   "cell_type": "code",
   "execution_count": 58,
   "metadata": {
    "collapsed": false
   },
   "outputs": [],
   "source": [
    "temp2.drop_duplicates('customerid_x',inplace=True)"
   ]
  },
  {
   "cell_type": "code",
   "execution_count": 59,
   "metadata": {
    "collapsed": true
   },
   "outputs": [],
   "source": [
    "temp2.drop('customerid_y',axis=1,inplace=True)"
   ]
  },
  {
   "cell_type": "code",
   "execution_count": 60,
   "metadata": {
    "collapsed": false
   },
   "outputs": [
    {
     "name": "stdout",
     "output_type": "stream",
     "text": [
      "customerid_x\n",
      "registertime\n",
      "customer_status\n",
      "openid\n",
      "wechat_sex\n",
      "wechat_city\n",
      "wechat_province\n",
      "wechat_country\n",
      "kmid\n"
     ]
    }
   ],
   "source": [
    "for i in temp2.columns:\n",
    "    print i"
   ]
  },
  {
   "cell_type": "code",
   "execution_count": 61,
   "metadata": {
    "collapsed": true
   },
   "outputs": [],
   "source": [
    "temp2.columns = ['customerid','registertime','customer_status','openid','wechat_sex','wechat_city','wechat_province','wechat_country','kmid']"
   ]
  },
  {
   "cell_type": "code",
   "execution_count": 62,
   "metadata": {
    "collapsed": false
   },
   "outputs": [
    {
     "name": "stdout",
     "output_type": "stream",
     "text": [
      "<class 'pandas.core.frame.DataFrame'>\n",
      "Int64Index: 460276 entries, 0 to 464901\n",
      "Data columns (total 9 columns):\n",
      "customerid         460276 non-null object\n",
      "registertime       368275 non-null object\n",
      "customer_status    368275 non-null object\n",
      "openid             195848 non-null object\n",
      "wechat_sex         81738 non-null object\n",
      "wechat_city        81738 non-null object\n",
      "wechat_province    81738 non-null object\n",
      "wechat_country     81738 non-null object\n",
      "kmid               92157 non-null object\n",
      "dtypes: object(9)\n",
      "memory usage: 35.1+ MB\n"
     ]
    }
   ],
   "source": [
    "temp2.info()"
   ]
  },
  {
   "cell_type": "code",
   "execution_count": 63,
   "metadata": {
    "collapsed": false
   },
   "outputs": [
    {
     "data": {
      "text/plain": [
       "True"
      ]
     },
     "execution_count": 63,
     "metadata": {},
     "output_type": "execute_result"
    }
   ],
   "source": [
    "len(pd.value_counts(temp2['kmid']))==temp2.drop_duplicates('kmid').shape[0]-1"
   ]
  },
  {
   "cell_type": "code",
   "execution_count": 64,
   "metadata": {
    "collapsed": false
   },
   "outputs": [
    {
     "data": {
      "text/plain": [
       "92157"
      ]
     },
     "execution_count": 64,
     "metadata": {},
     "output_type": "execute_result"
    }
   ],
   "source": [
    "temp2['kmid'].notnull().sum()"
   ]
  },
  {
   "cell_type": "code",
   "execution_count": 65,
   "metadata": {
    "collapsed": false
   },
   "outputs": [
    {
     "data": {
      "text/plain": [
       "92157"
      ]
     },
     "execution_count": 65,
     "metadata": {},
     "output_type": "execute_result"
    }
   ],
   "source": [
    "len(pd.value_counts(temp2['kmid']))"
   ]
  },
  {
   "cell_type": "markdown",
   "metadata": {},
   "source": [
    "# 5. 最后的合并（上表和member）"
   ]
  },
  {
   "cell_type": "code",
   "execution_count": 66,
   "metadata": {
    "collapsed": true
   },
   "outputs": [],
   "source": [
    "df = pd.merge(temp2,member,how='outer',left_on='kmid',right_on='kmid')"
   ]
  },
  {
   "cell_type": "code",
   "execution_count": 67,
   "metadata": {
    "collapsed": false
   },
   "outputs": [
    {
     "name": "stdout",
     "output_type": "stream",
     "text": [
      "<class 'pandas.core.frame.DataFrame'>\n",
      "Int64Index: 475776 entries, 0 to 475775\n",
      "Data columns (total 19 columns):\n",
      "customerid                      460276 non-null object\n",
      "registertime                    368275 non-null object\n",
      "customer_status                 368275 non-null object\n",
      "openid                          195848 non-null object\n",
      "wechat_sex                      81738 non-null object\n",
      "wechat_city                     81738 non-null object\n",
      "wechat_province                 81738 non-null object\n",
      "wechat_country                  81738 non-null object\n",
      "kmid                            107657 non-null object\n",
      "member_birthday                 15559 non-null float64\n",
      "km_sex                          15559 non-null float64\n",
      "accountcash                     15559 non-null object\n",
      "accountbalance                  15559 non-null object\n",
      "integralbalance                 15559 non-null object\n",
      "consumetotal                    15559 non-null object\n",
      "consumetimes                    15559 non-null object\n",
      "lastconsume_diff_create_day     15559 non-null float64\n",
      "lastconsume_diff_create_hour    15559 non-null float64\n",
      "lastconsume_diff_now            15559 non-null float64\n",
      "dtypes: float64(5), object(14)\n",
      "memory usage: 72.6+ MB\n"
     ]
    }
   ],
   "source": [
    "df.info()"
   ]
  },
  {
   "cell_type": "code",
   "execution_count": 68,
   "metadata": {
    "collapsed": false,
    "scrolled": true
   },
   "outputs": [
    {
     "data": {
      "text/plain": [
       "True"
      ]
     },
     "execution_count": 68,
     "metadata": {},
     "output_type": "execute_result"
    }
   ],
   "source": [
    "df['openid'].notnull().sum() == df.drop_duplicates('openid').shape[0] - 1"
   ]
  },
  {
   "cell_type": "markdown",
   "metadata": {},
   "source": [
    "### customerid,kmid,openid都没有重复，都有空值"
   ]
  },
  {
   "cell_type": "code",
   "execution_count": 69,
   "metadata": {
    "collapsed": false
   },
   "outputs": [
    {
     "data": {
      "text/plain": [
       "460276"
      ]
     },
     "execution_count": 69,
     "metadata": {},
     "output_type": "execute_result"
    }
   ],
   "source": [
    "len(pd.value_counts(df['customerid']))"
   ]
  },
  {
   "cell_type": "code",
   "execution_count": 70,
   "metadata": {
    "collapsed": false
   },
   "outputs": [
    {
     "data": {
      "text/plain": [
       "107657"
      ]
     },
     "execution_count": 70,
     "metadata": {},
     "output_type": "execute_result"
    }
   ],
   "source": [
    "len(pd.value_counts(df['kmid']))"
   ]
  },
  {
   "cell_type": "code",
   "execution_count": 71,
   "metadata": {
    "collapsed": false
   },
   "outputs": [
    {
     "data": {
      "text/plain": [
       "195848"
      ]
     },
     "execution_count": 71,
     "metadata": {},
     "output_type": "execute_result"
    }
   ],
   "source": [
    "len(pd.value_counts(df['openid']))"
   ]
  },
  {
   "cell_type": "code",
   "execution_count": 72,
   "metadata": {
    "collapsed": false
   },
   "outputs": [
    {
     "name": "stdout",
     "output_type": "stream",
     "text": [
      "<class 'pandas.core.frame.DataFrame'>\n",
      "Int64Index: 460276 entries, 0 to 460275\n",
      "Data columns (total 19 columns):\n",
      "customerid                      460276 non-null object\n",
      "registertime                    368275 non-null object\n",
      "customer_status                 368275 non-null object\n",
      "openid                          195848 non-null object\n",
      "wechat_sex                      81738 non-null object\n",
      "wechat_city                     81738 non-null object\n",
      "wechat_province                 81738 non-null object\n",
      "wechat_country                  81738 non-null object\n",
      "kmid                            92157 non-null object\n",
      "member_birthday                 59 non-null float64\n",
      "km_sex                          59 non-null float64\n",
      "accountcash                     59 non-null object\n",
      "accountbalance                  59 non-null object\n",
      "integralbalance                 59 non-null object\n",
      "consumetotal                    59 non-null object\n",
      "consumetimes                    59 non-null object\n",
      "lastconsume_diff_create_day     59 non-null float64\n",
      "lastconsume_diff_create_hour    59 non-null float64\n",
      "lastconsume_diff_now            59 non-null float64\n",
      "dtypes: float64(5), object(14)\n",
      "memory usage: 70.2+ MB\n"
     ]
    }
   ],
   "source": [
    "df[df['customerid'].notnull()].info()"
   ]
  },
  {
   "cell_type": "markdown",
   "metadata": {},
   "source": [
    "### 目测customerid和kmid都有的用户太少了，考虑用kmid填customerid的空缺"
   ]
  },
  {
   "cell_type": "code",
   "execution_count": 73,
   "metadata": {
    "collapsed": false
   },
   "outputs": [
    {
     "name": "stderr",
     "output_type": "stream",
     "text": [
      "D:\\Users\\Jialing Liao\\AppData\\Local\\Continuum\\Anaconda2\\lib\\site-packages\\ipykernel\\__main__.py:1: SettingWithCopyWarning: \n",
      "A value is trying to be set on a copy of a slice from a DataFrame\n",
      "\n",
      "See the caveats in the documentation: http://pandas.pydata.org/pandas-docs/stable/indexing.html#indexing-view-versus-copy\n",
      "  if __name__ == '__main__':\n"
     ]
    }
   ],
   "source": [
    "df['customerid'][df['customerid'].isnull()] = df['kmid']"
   ]
  },
  {
   "cell_type": "code",
   "execution_count": 74,
   "metadata": {
    "collapsed": false
   },
   "outputs": [
    {
     "name": "stdout",
     "output_type": "stream",
     "text": [
      "<class 'pandas.core.frame.DataFrame'>\n",
      "Int64Index: 475776 entries, 0 to 475775\n",
      "Data columns (total 19 columns):\n",
      "customerid                      475776 non-null object\n",
      "registertime                    368275 non-null object\n",
      "customer_status                 368275 non-null object\n",
      "openid                          195848 non-null object\n",
      "wechat_sex                      81738 non-null object\n",
      "wechat_city                     81738 non-null object\n",
      "wechat_province                 81738 non-null object\n",
      "wechat_country                  81738 non-null object\n",
      "kmid                            107657 non-null object\n",
      "member_birthday                 15559 non-null float64\n",
      "km_sex                          15559 non-null float64\n",
      "accountcash                     15559 non-null object\n",
      "accountbalance                  15559 non-null object\n",
      "integralbalance                 15559 non-null object\n",
      "consumetotal                    15559 non-null object\n",
      "consumetimes                    15559 non-null object\n",
      "lastconsume_diff_create_day     15559 non-null float64\n",
      "lastconsume_diff_create_hour    15559 non-null float64\n",
      "lastconsume_diff_now            15559 non-null float64\n",
      "dtypes: float64(5), object(14)\n",
      "memory usage: 72.6+ MB\n"
     ]
    }
   ],
   "source": [
    "df.info()"
   ]
  },
  {
   "cell_type": "markdown",
   "metadata": {},
   "source": [
    "### 这样customerid的空缺全部填上了,三个id都没有重复"
   ]
  },
  {
   "cell_type": "code",
   "execution_count": 75,
   "metadata": {
    "collapsed": false
   },
   "outputs": [
    {
     "data": {
      "text/plain": [
       "475776"
      ]
     },
     "execution_count": 75,
     "metadata": {},
     "output_type": "execute_result"
    }
   ],
   "source": [
    "len(pd.value_counts(df['customerid']))"
   ]
  },
  {
   "cell_type": "code",
   "execution_count": 76,
   "metadata": {
    "collapsed": false
   },
   "outputs": [
    {
     "data": {
      "text/plain": [
       "195848"
      ]
     },
     "execution_count": 76,
     "metadata": {},
     "output_type": "execute_result"
    }
   ],
   "source": [
    "len(pd.value_counts(df['openid']))"
   ]
  },
  {
   "cell_type": "code",
   "execution_count": 77,
   "metadata": {
    "collapsed": false
   },
   "outputs": [
    {
     "data": {
      "text/plain": [
       "107657"
      ]
     },
     "execution_count": 77,
     "metadata": {},
     "output_type": "execute_result"
    }
   ],
   "source": [
    "len(pd.value_counts(df['kmid']))"
   ]
  },
  {
   "cell_type": "code",
   "execution_count": null,
   "metadata": {
    "collapsed": true
   },
   "outputs": [],
   "source": []
  },
  {
   "cell_type": "markdown",
   "metadata": {},
   "source": [
    "# 写进数据库里"
   ]
  },
  {
   "cell_type": "code",
   "execution_count": 81,
   "metadata": {
    "collapsed": true
   },
   "outputs": [],
   "source": [
    "# conn = pymysql.connect(host=mysql_host,\n",
    "#                                   port=mysql_port,\n",
    "#                                   user=mysql_user,\n",
    "#                                   password=mysql_password,\n",
    "#                                   db=mysql_db,\n",
    "#                                   charset=mysql_charset)\n",
    "# cur = conn.cursor()\n",
    "# sql = \"\"\"CREATE TABLE `ljl_user_info1` (\n",
    "#   `customerid` varchar(63) DEFAULT NULL,\n",
    "#   `registertime` varchar(63) DEFAULT NULL,\n",
    "#   `customer_status` varchar(63) DEFAULT NULL,\n",
    "#   `openid` varchar(63) DEFAULT NULL,\n",
    "#   `wechat_sex` varchar(63) DEFAULT NULL,\n",
    "#   `wechat_city` varchar(63) DEFAULT NULL,\n",
    "#   `wechat_province` varchar(63) DEFAULT NULL,\n",
    "#   `wechat_country` varchar(63) DEFAULT NULL,\n",
    "#   `kmid` varchar(63) DEFAULT NULL,\n",
    "#   `member_birthday` double DEFAULT NULL,\n",
    "#   `km_sex` double DEFAULT NULL,\n",
    "#   `accountcash` varchar(63) DEFAULT NULL,\n",
    "#   `accountbalance` varchar(63) DEFAULT NULL,\n",
    "#   `integralbalance` varchar(63) DEFAULT NULL,\n",
    "#   `consumetotal` varchar(63) DEFAULT NULL,\n",
    "#   `consumetimes` varchar(63) DEFAULT NULL,\n",
    "#   `lastconsume_diff_create_day` double DEFAULT NULL,\n",
    "#   `lastconsume_diff_create_hour` double DEFAULT NULL,\n",
    "#   `lastconsume_diff_now` double DEFAULT NULL\n",
    "# ) ENGINE=InnoDB DEFAULT CHARSET=utf8\n",
    "# \"\"\"\n",
    "# cur.execute(sql)\n",
    "# conn.commit()\n",
    "# cur.close()\n",
    "# conn.close()"
   ]
  },
  {
   "cell_type": "code",
   "execution_count": 80,
   "metadata": {
    "collapsed": false
   },
   "outputs": [],
   "source": [
    "# conn = pymysql.connect(host=mysql_host,\n",
    "#                                   port=mysql_port,\n",
    "#                                   user=mysql_user,\n",
    "#                                   password=mysql_password,\n",
    "#                                   db=mysql_db,\n",
    "#                                   charset=mysql_charset)\n",
    "# cur = conn.cursor()\n",
    "# sql = 'insert into ljl_user_info1()'"
   ]
  },
  {
   "cell_type": "code",
   "execution_count": 78,
   "metadata": {
    "collapsed": false
   },
   "outputs": [
    {
     "data": {
      "text/plain": [
       "(475776, 19)"
      ]
     },
     "execution_count": 78,
     "metadata": {},
     "output_type": "execute_result"
    }
   ],
   "source": [
    "df.shape"
   ]
  },
  {
   "cell_type": "code",
   "execution_count": 79,
   "metadata": {
    "collapsed": false
   },
   "outputs": [
    {
     "name": "stderr",
     "output_type": "stream",
     "text": [
      "D:\\Users\\Jialing Liao\\AppData\\Local\\Continuum\\Anaconda2\\lib\\site-packages\\pandas\\core\\generic.py:1003: FutureWarning: The 'mysql' flavor with DBAPI connection is deprecated and will be removed in future versions. MySQL will be further supported with SQLAlchemy connectables.\n",
      "  dtype=dtype)\n"
     ]
    }
   ],
   "source": [
    "conn = pymysql.connect(host=mysql_host,\n",
    "                                  port=mysql_port,\n",
    "                                  user=mysql_user,\n",
    "                                  password=mysql_password,\n",
    "                                  db=mysql_db,\n",
    "                                  charset=mysql_charset)\n",
    "\n",
    "df.to_sql(name=\"ljl_user_info\", con=conn, flavor='mysql', if_exists='replace', chunksize=1000, index=False)\n",
    "conn.close()"
   ]
  },
  {
   "cell_type": "code",
   "execution_count": 2,
   "metadata": {
    "collapsed": false
   },
   "outputs": [
    {
     "name": "stderr",
     "output_type": "stream",
     "text": [
      "D:\\Users\\Jialing Liao\\AppData\\Local\\Continuum\\Anaconda2\\lib\\site-packages\\ipykernel\\__main__.py:102: SettingWithCopyWarning: \n",
      "A value is trying to be set on a copy of a slice from a DataFrame\n",
      "\n",
      "See the caveats in the documentation: http://pandas.pydata.org/pandas-docs/stable/indexing.html#indexing-view-versus-copy\n"
     ]
    }
   ],
   "source": [
    "df = user_info()"
   ]
  },
  {
   "cell_type": "markdown",
   "metadata": {},
   "source": [
    "# 第三遍调试记录"
   ]
  },
  {
   "cell_type": "markdown",
   "metadata": {},
   "source": [
    "## 1. wj_tbl_member_cache表中用户的有用信息"
   ]
  },
  {
   "cell_type": "code",
   "execution_count": 12,
   "metadata": {
    "collapsed": false
   },
   "outputs": [
    {
     "data": {
      "text/html": [
       "<div>\n",
       "<table border=\"1\" class=\"dataframe\">\n",
       "  <thead>\n",
       "    <tr style=\"text-align: right;\">\n",
       "      <th></th>\n",
       "      <th>kmid</th>\n",
       "      <th>member_birthday</th>\n",
       "      <th>km_sex</th>\n",
       "      <th>accountcash</th>\n",
       "      <th>accountbalance</th>\n",
       "      <th>integralbalance</th>\n",
       "      <th>consumetotal</th>\n",
       "      <th>consumetimes</th>\n",
       "      <th>member_age_cut</th>\n",
       "      <th>lastconsume_diff_create_day</th>\n",
       "      <th>lastconsume_diff_create_hour</th>\n",
       "      <th>lastconsume_diff_now</th>\n",
       "    </tr>\n",
       "  </thead>\n",
       "  <tbody>\n",
       "    <tr>\n",
       "      <th>0</th>\n",
       "      <td>000108491</td>\n",
       "      <td>1995</td>\n",
       "      <td>1</td>\n",
       "      <td>0.00</td>\n",
       "      <td>0.00</td>\n",
       "      <td>0.00</td>\n",
       "      <td>0.00</td>\n",
       "      <td>0</td>\n",
       "      <td>member_age_5</td>\n",
       "      <td>0</td>\n",
       "      <td>0</td>\n",
       "      <td>381</td>\n",
       "    </tr>\n",
       "    <tr>\n",
       "      <th>1</th>\n",
       "      <td>000108492</td>\n",
       "      <td>2000</td>\n",
       "      <td>1</td>\n",
       "      <td>120.00</td>\n",
       "      <td>120.00</td>\n",
       "      <td>0.00</td>\n",
       "      <td>180.00</td>\n",
       "      <td>1</td>\n",
       "      <td>member_age_6</td>\n",
       "      <td>0</td>\n",
       "      <td>0</td>\n",
       "      <td>381</td>\n",
       "    </tr>\n",
       "    <tr>\n",
       "      <th>2</th>\n",
       "      <td>000108494</td>\n",
       "      <td>1982</td>\n",
       "      <td>0</td>\n",
       "      <td>201.00</td>\n",
       "      <td>201.00</td>\n",
       "      <td>15.00</td>\n",
       "      <td>319.00</td>\n",
       "      <td>1</td>\n",
       "      <td>member_age_4</td>\n",
       "      <td>0</td>\n",
       "      <td>0</td>\n",
       "      <td>381</td>\n",
       "    </tr>\n",
       "    <tr>\n",
       "      <th>3</th>\n",
       "      <td>000108496</td>\n",
       "      <td>1986</td>\n",
       "      <td>0</td>\n",
       "      <td>15.00</td>\n",
       "      <td>15.00</td>\n",
       "      <td>485.00</td>\n",
       "      <td>1151.00</td>\n",
       "      <td>4</td>\n",
       "      <td>member_age_4</td>\n",
       "      <td>6</td>\n",
       "      <td>23</td>\n",
       "      <td>374</td>\n",
       "    </tr>\n",
       "    <tr>\n",
       "      <th>4</th>\n",
       "      <td>000108497</td>\n",
       "      <td>1981</td>\n",
       "      <td>1</td>\n",
       "      <td>0.00</td>\n",
       "      <td>0.00</td>\n",
       "      <td>16.00</td>\n",
       "      <td>1691.00</td>\n",
       "      <td>2</td>\n",
       "      <td>member_age_4</td>\n",
       "      <td>22</td>\n",
       "      <td>0</td>\n",
       "      <td>359</td>\n",
       "    </tr>\n",
       "  </tbody>\n",
       "</table>\n",
       "</div>"
      ],
      "text/plain": [
       "        kmid  member_birthday  km_sex accountcash accountbalance  \\\n",
       "0  000108491             1995       1        0.00           0.00   \n",
       "1  000108492             2000       1      120.00         120.00   \n",
       "2  000108494             1982       0      201.00         201.00   \n",
       "3  000108496             1986       0       15.00          15.00   \n",
       "4  000108497             1981       1        0.00           0.00   \n",
       "\n",
       "  integralbalance consumetotal consumetimes member_age_cut  \\\n",
       "0            0.00         0.00            0   member_age_5   \n",
       "1            0.00       180.00            1   member_age_6   \n",
       "2           15.00       319.00            1   member_age_4   \n",
       "3          485.00      1151.00            4   member_age_4   \n",
       "4           16.00      1691.00            2   member_age_4   \n",
       "\n",
       "   lastconsume_diff_create_day  lastconsume_diff_create_hour  \\\n",
       "0                            0                             0   \n",
       "1                            0                             0   \n",
       "2                            0                             0   \n",
       "3                            6                            23   \n",
       "4                           22                             0   \n",
       "\n",
       "   lastconsume_diff_now  \n",
       "0                   381  \n",
       "1                   381  \n",
       "2                   381  \n",
       "3                   374  \n",
       "4                   359  "
      ]
     },
     "execution_count": 12,
     "metadata": {},
     "output_type": "execute_result"
    }
   ],
   "source": [
    "df.head()"
   ]
  },
  {
   "cell_type": "code",
   "execution_count": 13,
   "metadata": {
    "collapsed": false
   },
   "outputs": [
    {
     "data": {
      "text/plain": [
       "(15559, 12)"
      ]
     },
     "execution_count": 13,
     "metadata": {},
     "output_type": "execute_result"
    }
   ],
   "source": [
    "df.shape"
   ]
  },
  {
   "cell_type": "code",
   "execution_count": 14,
   "metadata": {
    "collapsed": false
   },
   "outputs": [
    {
     "data": {
      "text/plain": [
       "Index([u'kmid', u'member_birthday', u'km_sex', u'accountcash',\n",
       "       u'accountbalance', u'integralbalance', u'consumetotal', u'consumetimes',\n",
       "       u'member_age_cut', u'lastconsume_diff_create_day',\n",
       "       u'lastconsume_diff_create_hour', u'lastconsume_diff_now'],\n",
       "      dtype='object')"
      ]
     },
     "execution_count": 14,
     "metadata": {},
     "output_type": "execute_result"
    }
   ],
   "source": [
    "df.columns"
   ]
  },
  {
   "cell_type": "code",
   "execution_count": 15,
   "metadata": {
    "collapsed": false
   },
   "outputs": [
    {
     "name": "stdout",
     "output_type": "stream",
     "text": [
      "<class 'pandas.core.frame.DataFrame'>\n",
      "Int64Index: 15559 entries, 0 to 15559\n",
      "Data columns (total 12 columns):\n",
      "kmid                            15559 non-null object\n",
      "member_birthday                 15559 non-null int64\n",
      "km_sex                          15559 non-null int64\n",
      "accountcash                     15559 non-null object\n",
      "accountbalance                  15559 non-null object\n",
      "integralbalance                 15559 non-null object\n",
      "consumetotal                    15559 non-null object\n",
      "consumetimes                    15559 non-null object\n",
      "member_age_cut                  15559 non-null category\n",
      "lastconsume_diff_create_day     15559 non-null int64\n",
      "lastconsume_diff_create_hour    15559 non-null int64\n",
      "lastconsume_diff_now            15559 non-null int64\n",
      "dtypes: category(1), int64(5), object(6)\n",
      "memory usage: 1.4+ MB\n"
     ]
    }
   ],
   "source": [
    "df.info()"
   ]
  },
  {
   "cell_type": "markdown",
   "metadata": {},
   "source": [
    "## 2. km_tbl_customer表中的有用信息"
   ]
  },
  {
   "cell_type": "code",
   "execution_count": 28,
   "metadata": {
    "collapsed": false
   },
   "outputs": [
    {
     "data": {
      "text/html": [
       "<div>\n",
       "<table border=\"1\" class=\"dataframe\">\n",
       "  <thead>\n",
       "    <tr style=\"text-align: right;\">\n",
       "      <th></th>\n",
       "      <th>openid</th>\n",
       "      <th>customerid</th>\n",
       "      <th>registertime</th>\n",
       "      <th>customer_status</th>\n",
       "    </tr>\n",
       "  </thead>\n",
       "  <tbody>\n",
       "    <tr>\n",
       "      <th>0</th>\n",
       "      <td>otCz6vlzsHIXM3XC9mV4mY3tWVIw</td>\n",
       "      <td>6104661</td>\n",
       "      <td>2016-05-28 12:00:48</td>\n",
       "      <td>0</td>\n",
       "    </tr>\n",
       "    <tr>\n",
       "      <th>1</th>\n",
       "      <td>otCz6vq5NUEmj2pTHlg4gk-il6zo</td>\n",
       "      <td>5792264</td>\n",
       "      <td>2016-05-01 00:00:57</td>\n",
       "      <td>0</td>\n",
       "    </tr>\n",
       "    <tr>\n",
       "      <th>2</th>\n",
       "      <td>otCz6vnjjdMtsq_e8J8xGmhy6oXU</td>\n",
       "      <td>5792283</td>\n",
       "      <td>2016-05-01 00:01:31</td>\n",
       "      <td>0</td>\n",
       "    </tr>\n",
       "    <tr>\n",
       "      <th>3</th>\n",
       "      <td>otCz6vnWgZq474ym9VApKzIs6yEg</td>\n",
       "      <td>5792250</td>\n",
       "      <td>2016-05-01 00:00:21</td>\n",
       "      <td>0</td>\n",
       "    </tr>\n",
       "    <tr>\n",
       "      <th>4</th>\n",
       "      <td>otCz6vgn9u8fKJFrsRl9eNnsGrTk</td>\n",
       "      <td>5792304</td>\n",
       "      <td>2016-05-01 00:02:32</td>\n",
       "      <td>0</td>\n",
       "    </tr>\n",
       "  </tbody>\n",
       "</table>\n",
       "</div>"
      ],
      "text/plain": [
       "                         openid customerid         registertime  \\\n",
       "0  otCz6vlzsHIXM3XC9mV4mY3tWVIw    6104661  2016-05-28 12:00:48   \n",
       "1  otCz6vq5NUEmj2pTHlg4gk-il6zo    5792264  2016-05-01 00:00:57   \n",
       "2  otCz6vnjjdMtsq_e8J8xGmhy6oXU    5792283  2016-05-01 00:01:31   \n",
       "3  otCz6vnWgZq474ym9VApKzIs6yEg    5792250  2016-05-01 00:00:21   \n",
       "4  otCz6vgn9u8fKJFrsRl9eNnsGrTk    5792304  2016-05-01 00:02:32   \n",
       "\n",
       "  customer_status  \n",
       "0               0  \n",
       "1               0  \n",
       "2               0  \n",
       "3               0  \n",
       "4               0  "
      ]
     },
     "execution_count": 28,
     "metadata": {},
     "output_type": "execute_result"
    }
   ],
   "source": [
    "df.head()"
   ]
  },
  {
   "cell_type": "code",
   "execution_count": 29,
   "metadata": {
    "collapsed": false
   },
   "outputs": [
    {
     "data": {
      "text/plain": [
       "(103847, 4)"
      ]
     },
     "execution_count": 29,
     "metadata": {},
     "output_type": "execute_result"
    }
   ],
   "source": [
    "df.shape"
   ]
  },
  {
   "cell_type": "code",
   "execution_count": 30,
   "metadata": {
    "collapsed": false
   },
   "outputs": [
    {
     "data": {
      "text/plain": [
       "Index([u'openid', u'customerid', u'registertime', u'customer_status'], dtype='object')"
      ]
     },
     "execution_count": 30,
     "metadata": {},
     "output_type": "execute_result"
    }
   ],
   "source": [
    "df.columns"
   ]
  },
  {
   "cell_type": "code",
   "execution_count": 31,
   "metadata": {
    "collapsed": false
   },
   "outputs": [
    {
     "name": "stdout",
     "output_type": "stream",
     "text": [
      "<class 'pandas.core.frame.DataFrame'>\n",
      "Int64Index: 103847 entries, 0 to 103846\n",
      "Data columns (total 4 columns):\n",
      "openid             103847 non-null object\n",
      "customerid         103847 non-null object\n",
      "registertime       103847 non-null object\n",
      "customer_status    103847 non-null object\n",
      "dtypes: object(4)\n",
      "memory usage: 4.0+ MB\n"
     ]
    }
   ],
   "source": [
    "df.info()"
   ]
  },
  {
   "cell_type": "markdown",
   "metadata": {},
   "source": [
    "## 3. kdw_tbl_kmwechat_userinfo表中的有用信息"
   ]
  },
  {
   "cell_type": "code",
   "execution_count": 35,
   "metadata": {
    "collapsed": false
   },
   "outputs": [
    {
     "data": {
      "text/html": [
       "<div>\n",
       "<table border=\"1\" class=\"dataframe\">\n",
       "  <thead>\n",
       "    <tr style=\"text-align: right;\">\n",
       "      <th></th>\n",
       "      <th>openid</th>\n",
       "      <th>customerid</th>\n",
       "      <th>registertime</th>\n",
       "      <th>customer_status</th>\n",
       "      <th>wechat_sex</th>\n",
       "      <th>wechat_city</th>\n",
       "      <th>wechat_province</th>\n",
       "      <th>wechat_country</th>\n",
       "    </tr>\n",
       "  </thead>\n",
       "  <tbody>\n",
       "    <tr>\n",
       "      <th>0</th>\n",
       "      <td>otCz6vlzsHIXM3XC9mV4mY3tWVIw</td>\n",
       "      <td>6104661</td>\n",
       "      <td>2016-05-28 12:00:48</td>\n",
       "      <td>0</td>\n",
       "      <td>1</td>\n",
       "      <td></td>\n",
       "      <td>嘉义市</td>\n",
       "      <td>中国台湾</td>\n",
       "    </tr>\n",
       "    <tr>\n",
       "      <th>1</th>\n",
       "      <td>otCz6vlzsHIXM3XC9mV4mY3tWVIw</td>\n",
       "      <td>6104661</td>\n",
       "      <td>2016-05-28 12:00:48</td>\n",
       "      <td>0</td>\n",
       "      <td>1</td>\n",
       "      <td></td>\n",
       "      <td>嘉义市</td>\n",
       "      <td>中国台湾</td>\n",
       "    </tr>\n",
       "    <tr>\n",
       "      <th>2</th>\n",
       "      <td>otCz6vq5NUEmj2pTHlg4gk-il6zo</td>\n",
       "      <td>5792264</td>\n",
       "      <td>2016-05-01 00:00:57</td>\n",
       "      <td>0</td>\n",
       "      <td>NaN</td>\n",
       "      <td>NaN</td>\n",
       "      <td>NaN</td>\n",
       "      <td>NaN</td>\n",
       "    </tr>\n",
       "    <tr>\n",
       "      <th>3</th>\n",
       "      <td>otCz6vnjjdMtsq_e8J8xGmhy6oXU</td>\n",
       "      <td>5792283</td>\n",
       "      <td>2016-05-01 00:01:31</td>\n",
       "      <td>0</td>\n",
       "      <td>2</td>\n",
       "      <td>深圳</td>\n",
       "      <td>广东</td>\n",
       "      <td>中国</td>\n",
       "    </tr>\n",
       "    <tr>\n",
       "      <th>4</th>\n",
       "      <td>otCz6vnjjdMtsq_e8J8xGmhy6oXU</td>\n",
       "      <td>5792283</td>\n",
       "      <td>2016-05-01 00:01:31</td>\n",
       "      <td>0</td>\n",
       "      <td>2</td>\n",
       "      <td>深圳</td>\n",
       "      <td>广东</td>\n",
       "      <td>中国</td>\n",
       "    </tr>\n",
       "  </tbody>\n",
       "</table>\n",
       "</div>"
      ],
      "text/plain": [
       "                         openid customerid         registertime  \\\n",
       "0  otCz6vlzsHIXM3XC9mV4mY3tWVIw    6104661  2016-05-28 12:00:48   \n",
       "1  otCz6vlzsHIXM3XC9mV4mY3tWVIw    6104661  2016-05-28 12:00:48   \n",
       "2  otCz6vq5NUEmj2pTHlg4gk-il6zo    5792264  2016-05-01 00:00:57   \n",
       "3  otCz6vnjjdMtsq_e8J8xGmhy6oXU    5792283  2016-05-01 00:01:31   \n",
       "4  otCz6vnjjdMtsq_e8J8xGmhy6oXU    5792283  2016-05-01 00:01:31   \n",
       "\n",
       "  customer_status wechat_sex wechat_city wechat_province wechat_country  \n",
       "0               0          1                         嘉义市           中国台湾  \n",
       "1               0          1                         嘉义市           中国台湾  \n",
       "2               0        NaN         NaN             NaN            NaN  \n",
       "3               0          2          深圳              广东             中国  \n",
       "4               0          2          深圳              广东             中国  "
      ]
     },
     "execution_count": 35,
     "metadata": {},
     "output_type": "execute_result"
    }
   ],
   "source": [
    "df.head()"
   ]
  },
  {
   "cell_type": "code",
   "execution_count": 36,
   "metadata": {
    "collapsed": false
   },
   "outputs": [
    {
     "data": {
      "text/plain": [
       "(151744, 8)"
      ]
     },
     "execution_count": 36,
     "metadata": {},
     "output_type": "execute_result"
    }
   ],
   "source": [
    "df.shape"
   ]
  },
  {
   "cell_type": "code",
   "execution_count": 37,
   "metadata": {
    "collapsed": false
   },
   "outputs": [
    {
     "data": {
      "text/plain": [
       "Index([u'openid', u'customerid', u'registertime', u'customer_status',\n",
       "       u'wechat_sex', u'wechat_city', u'wechat_province', u'wechat_country'],\n",
       "      dtype='object')"
      ]
     },
     "execution_count": 37,
     "metadata": {},
     "output_type": "execute_result"
    }
   ],
   "source": [
    "df.columns"
   ]
  },
  {
   "cell_type": "code",
   "execution_count": 38,
   "metadata": {
    "collapsed": false
   },
   "outputs": [
    {
     "name": "stdout",
     "output_type": "stream",
     "text": [
      "<class 'pandas.core.frame.DataFrame'>\n",
      "Int64Index: 151744 entries, 0 to 151743\n",
      "Data columns (total 8 columns):\n",
      "openid             151744 non-null object\n",
      "customerid         151744 non-null object\n",
      "registertime       151744 non-null object\n",
      "customer_status    151744 non-null object\n",
      "wechat_sex         129635 non-null object\n",
      "wechat_city        129635 non-null object\n",
      "wechat_province    129635 non-null object\n",
      "wechat_country     129635 non-null object\n",
      "dtypes: object(8)\n",
      "memory usage: 10.4+ MB\n"
     ]
    }
   ],
   "source": [
    "df.info()"
   ]
  },
  {
   "cell_type": "markdown",
   "metadata": {},
   "source": [
    "## 4. wj_tbl_weixin_userbind表中的有用信息"
   ]
  },
  {
   "cell_type": "markdown",
   "metadata": {},
   "source": [
    "### wechat_bind有点问题 一探究竟"
   ]
  },
  {
   "cell_type": "code",
   "execution_count": 47,
   "metadata": {
    "collapsed": false
   },
   "outputs": [
    {
     "data": {
      "text/html": [
       "<div>\n",
       "<table border=\"1\" class=\"dataframe\">\n",
       "  <thead>\n",
       "    <tr style=\"text-align: right;\">\n",
       "      <th></th>\n",
       "      <th>openid</th>\n",
       "      <th>kmid</th>\n",
       "      <th>customerid</th>\n",
       "      <th>wechat_bind_status</th>\n",
       "    </tr>\n",
       "  </thead>\n",
       "  <tbody>\n",
       "    <tr>\n",
       "      <th>0</th>\n",
       "      <td>oil0uuDhkGzIvMUzskovynGhMA-g</td>\n",
       "      <td>057801433987345505122537</td>\n",
       "      <td>655278</td>\n",
       "      <td>2</td>\n",
       "    </tr>\n",
       "    <tr>\n",
       "      <th>1</th>\n",
       "      <td>oil0uuLwQyx0Yv6Lza48OAwSGDIw</td>\n",
       "      <td>000000001</td>\n",
       "      <td>2743853</td>\n",
       "      <td>2</td>\n",
       "    </tr>\n",
       "    <tr>\n",
       "      <th>2</th>\n",
       "      <td>oil0uuGtM6i8D9yFWqF1ceIzIxiw</td>\n",
       "      <td>000000002</td>\n",
       "      <td>0</td>\n",
       "      <td>1</td>\n",
       "    </tr>\n",
       "    <tr>\n",
       "      <th>3</th>\n",
       "      <td>oil0uuMWXypFWyb-Uer397vxs4p0</td>\n",
       "      <td>000000003</td>\n",
       "      <td>276619</td>\n",
       "      <td>2</td>\n",
       "    </tr>\n",
       "    <tr>\n",
       "      <th>4</th>\n",
       "      <td>oil0uuLQ3AnmC7zyDN9WcSaofLhI</td>\n",
       "      <td>000000004</td>\n",
       "      <td>104173</td>\n",
       "      <td>1</td>\n",
       "    </tr>\n",
       "  </tbody>\n",
       "</table>\n",
       "</div>"
      ],
      "text/plain": [
       "                         openid                      kmid customerid  \\\n",
       "0  oil0uuDhkGzIvMUzskovynGhMA-g  057801433987345505122537     655278   \n",
       "1  oil0uuLwQyx0Yv6Lza48OAwSGDIw                 000000001    2743853   \n",
       "2  oil0uuGtM6i8D9yFWqF1ceIzIxiw                 000000002          0   \n",
       "3  oil0uuMWXypFWyb-Uer397vxs4p0                 000000003     276619   \n",
       "4  oil0uuLQ3AnmC7zyDN9WcSaofLhI                 000000004     104173   \n",
       "\n",
       "  wechat_bind_status  \n",
       "0                  2  \n",
       "1                  2  \n",
       "2                  1  \n",
       "3                  2  \n",
       "4                  1  "
      ]
     },
     "execution_count": 47,
     "metadata": {},
     "output_type": "execute_result"
    }
   ],
   "source": [
    "df.head()"
   ]
  },
  {
   "cell_type": "code",
   "execution_count": 48,
   "metadata": {
    "collapsed": false
   },
   "outputs": [
    {
     "name": "stdout",
     "output_type": "stream",
     "text": [
      "<class 'pandas.core.frame.DataFrame'>\n",
      "Int64Index: 112323 entries, 0 to 112322\n",
      "Data columns (total 4 columns):\n",
      "openid                112323 non-null object\n",
      "kmid                  112323 non-null object\n",
      "customerid            112323 non-null object\n",
      "wechat_bind_status    112323 non-null object\n",
      "dtypes: object(4)\n",
      "memory usage: 4.3+ MB\n"
     ]
    }
   ],
   "source": [
    "df.info()"
   ]
  },
  {
   "cell_type": "code",
   "execution_count": 49,
   "metadata": {
    "collapsed": false
   },
   "outputs": [
    {
     "data": {
      "text/plain": [
       "(112323, 4)"
      ]
     },
     "execution_count": 49,
     "metadata": {},
     "output_type": "execute_result"
    }
   ],
   "source": [
    "df.shape"
   ]
  },
  {
   "cell_type": "markdown",
   "metadata": {},
   "source": [
    "### left做表连以后"
   ]
  },
  {
   "cell_type": "code",
   "execution_count": 52,
   "metadata": {
    "collapsed": false
   },
   "outputs": [
    {
     "data": {
      "text/html": [
       "<div>\n",
       "<table border=\"1\" class=\"dataframe\">\n",
       "  <thead>\n",
       "    <tr style=\"text-align: right;\">\n",
       "      <th></th>\n",
       "      <th>openid</th>\n",
       "      <th>kmid</th>\n",
       "      <th>customerid</th>\n",
       "      <th>wechat_bind_status</th>\n",
       "      <th>registertime</th>\n",
       "      <th>customer_status</th>\n",
       "      <th>wechat_sex</th>\n",
       "      <th>wechat_city</th>\n",
       "      <th>wechat_province</th>\n",
       "      <th>wechat_country</th>\n",
       "    </tr>\n",
       "  </thead>\n",
       "  <tbody>\n",
       "    <tr>\n",
       "      <th>0</th>\n",
       "      <td>oil0uuDhkGzIvMUzskovynGhMA-g</td>\n",
       "      <td>057801433987345505122537</td>\n",
       "      <td>655278</td>\n",
       "      <td>2</td>\n",
       "      <td>NaN</td>\n",
       "      <td>NaN</td>\n",
       "      <td>NaN</td>\n",
       "      <td>NaN</td>\n",
       "      <td>NaN</td>\n",
       "      <td>NaN</td>\n",
       "    </tr>\n",
       "    <tr>\n",
       "      <th>1</th>\n",
       "      <td>oil0uuLwQyx0Yv6Lza48OAwSGDIw</td>\n",
       "      <td>000000001</td>\n",
       "      <td>2743853</td>\n",
       "      <td>2</td>\n",
       "      <td>NaN</td>\n",
       "      <td>NaN</td>\n",
       "      <td>NaN</td>\n",
       "      <td>NaN</td>\n",
       "      <td>NaN</td>\n",
       "      <td>NaN</td>\n",
       "    </tr>\n",
       "    <tr>\n",
       "      <th>2</th>\n",
       "      <td>oil0uuGtM6i8D9yFWqF1ceIzIxiw</td>\n",
       "      <td>000000002</td>\n",
       "      <td>0</td>\n",
       "      <td>1</td>\n",
       "      <td>NaN</td>\n",
       "      <td>NaN</td>\n",
       "      <td>NaN</td>\n",
       "      <td>NaN</td>\n",
       "      <td>NaN</td>\n",
       "      <td>NaN</td>\n",
       "    </tr>\n",
       "    <tr>\n",
       "      <th>3</th>\n",
       "      <td>oil0uuMWXypFWyb-Uer397vxs4p0</td>\n",
       "      <td>000000003</td>\n",
       "      <td>276619</td>\n",
       "      <td>2</td>\n",
       "      <td>NaN</td>\n",
       "      <td>NaN</td>\n",
       "      <td>NaN</td>\n",
       "      <td>NaN</td>\n",
       "      <td>NaN</td>\n",
       "      <td>NaN</td>\n",
       "    </tr>\n",
       "    <tr>\n",
       "      <th>4</th>\n",
       "      <td>oil0uuLQ3AnmC7zyDN9WcSaofLhI</td>\n",
       "      <td>000000004</td>\n",
       "      <td>104173</td>\n",
       "      <td>1</td>\n",
       "      <td>NaN</td>\n",
       "      <td>NaN</td>\n",
       "      <td>NaN</td>\n",
       "      <td>NaN</td>\n",
       "      <td>NaN</td>\n",
       "      <td>NaN</td>\n",
       "    </tr>\n",
       "  </tbody>\n",
       "</table>\n",
       "</div>"
      ],
      "text/plain": [
       "                         openid                      kmid customerid  \\\n",
       "0  oil0uuDhkGzIvMUzskovynGhMA-g  057801433987345505122537     655278   \n",
       "1  oil0uuLwQyx0Yv6Lza48OAwSGDIw                 000000001    2743853   \n",
       "2  oil0uuGtM6i8D9yFWqF1ceIzIxiw                 000000002          0   \n",
       "3  oil0uuMWXypFWyb-Uer397vxs4p0                 000000003     276619   \n",
       "4  oil0uuLQ3AnmC7zyDN9WcSaofLhI                 000000004     104173   \n",
       "\n",
       "  wechat_bind_status registertime customer_status wechat_sex wechat_city  \\\n",
       "0                  2          NaN             NaN        NaN         NaN   \n",
       "1                  2          NaN             NaN        NaN         NaN   \n",
       "2                  1          NaN             NaN        NaN         NaN   \n",
       "3                  2          NaN             NaN        NaN         NaN   \n",
       "4                  1          NaN             NaN        NaN         NaN   \n",
       "\n",
       "  wechat_province wechat_country  \n",
       "0             NaN            NaN  \n",
       "1             NaN            NaN  \n",
       "2             NaN            NaN  \n",
       "3             NaN            NaN  \n",
       "4             NaN            NaN  "
      ]
     },
     "execution_count": 52,
     "metadata": {},
     "output_type": "execute_result"
    }
   ],
   "source": [
    "df.head()"
   ]
  },
  {
   "cell_type": "code",
   "execution_count": 53,
   "metadata": {
    "collapsed": false
   },
   "outputs": [
    {
     "data": {
      "text/plain": [
       "(112323, 10)"
      ]
     },
     "execution_count": 53,
     "metadata": {},
     "output_type": "execute_result"
    }
   ],
   "source": [
    "df.shape"
   ]
  },
  {
   "cell_type": "code",
   "execution_count": 54,
   "metadata": {
    "collapsed": false
   },
   "outputs": [
    {
     "data": {
      "text/plain": [
       "Index([u'openid', u'kmid', u'customerid', u'wechat_bind_status',\n",
       "       u'registertime', u'customer_status', u'wechat_sex', u'wechat_city',\n",
       "       u'wechat_province', u'wechat_country'],\n",
       "      dtype='object')"
      ]
     },
     "execution_count": 54,
     "metadata": {},
     "output_type": "execute_result"
    }
   ],
   "source": [
    "df.columns"
   ]
  },
  {
   "cell_type": "code",
   "execution_count": 55,
   "metadata": {
    "collapsed": false
   },
   "outputs": [
    {
     "name": "stdout",
     "output_type": "stream",
     "text": [
      "<class 'pandas.core.frame.DataFrame'>\n",
      "Int64Index: 112323 entries, 0 to 112322\n",
      "Data columns (total 10 columns):\n",
      "openid                112323 non-null object\n",
      "kmid                  112323 non-null object\n",
      "customerid            112323 non-null object\n",
      "wechat_bind_status    112323 non-null object\n",
      "registertime          0 non-null object\n",
      "customer_status       0 non-null object\n",
      "wechat_sex            0 non-null object\n",
      "wechat_city           0 non-null object\n",
      "wechat_province       0 non-null object\n",
      "wechat_country        0 non-null object\n",
      "dtypes: object(10)\n",
      "memory usage: 9.4+ MB\n"
     ]
    }
   ],
   "source": [
    "df.info()"
   ]
  },
  {
   "cell_type": "markdown",
   "metadata": {},
   "source": [
    "### outer join"
   ]
  },
  {
   "cell_type": "code",
   "execution_count": 67,
   "metadata": {
    "collapsed": false
   },
   "outputs": [
    {
     "data": {
      "text/html": [
       "<div>\n",
       "<table border=\"1\" class=\"dataframe\">\n",
       "  <thead>\n",
       "    <tr style=\"text-align: right;\">\n",
       "      <th></th>\n",
       "      <th>openid</th>\n",
       "      <th>kmid</th>\n",
       "      <th>customerid</th>\n",
       "      <th>registertime</th>\n",
       "      <th>customer_status</th>\n",
       "      <th>wechat_sex</th>\n",
       "      <th>wechat_city</th>\n",
       "      <th>wechat_province</th>\n",
       "      <th>wechat_country</th>\n",
       "    </tr>\n",
       "  </thead>\n",
       "  <tbody>\n",
       "    <tr>\n",
       "      <th>0</th>\n",
       "      <td>oil0uuDhkGzIvMUzskovynGhMA-g</td>\n",
       "      <td>057801433987345505122537</td>\n",
       "      <td>655278</td>\n",
       "      <td>NaN</td>\n",
       "      <td>NaN</td>\n",
       "      <td>NaN</td>\n",
       "      <td>NaN</td>\n",
       "      <td>NaN</td>\n",
       "      <td>NaN</td>\n",
       "    </tr>\n",
       "    <tr>\n",
       "      <th>1</th>\n",
       "      <td>oil0uuLwQyx0Yv6Lza48OAwSGDIw</td>\n",
       "      <td>000000001</td>\n",
       "      <td>2743853</td>\n",
       "      <td>NaN</td>\n",
       "      <td>NaN</td>\n",
       "      <td>NaN</td>\n",
       "      <td>NaN</td>\n",
       "      <td>NaN</td>\n",
       "      <td>NaN</td>\n",
       "    </tr>\n",
       "    <tr>\n",
       "      <th>2</th>\n",
       "      <td>oil0uuLwQyx0Yv6Lza48OAwSGDIw</td>\n",
       "      <td>000000013</td>\n",
       "      <td>2743853</td>\n",
       "      <td>NaN</td>\n",
       "      <td>NaN</td>\n",
       "      <td>NaN</td>\n",
       "      <td>NaN</td>\n",
       "      <td>NaN</td>\n",
       "      <td>NaN</td>\n",
       "    </tr>\n",
       "    <tr>\n",
       "      <th>3</th>\n",
       "      <td>oil0uuGtM6i8D9yFWqF1ceIzIxiw</td>\n",
       "      <td>000000002</td>\n",
       "      <td>0</td>\n",
       "      <td>NaN</td>\n",
       "      <td>NaN</td>\n",
       "      <td>NaN</td>\n",
       "      <td>NaN</td>\n",
       "      <td>NaN</td>\n",
       "      <td>NaN</td>\n",
       "    </tr>\n",
       "    <tr>\n",
       "      <th>4</th>\n",
       "      <td>oil0uuMWXypFWyb-Uer397vxs4p0</td>\n",
       "      <td>000000003</td>\n",
       "      <td>276619</td>\n",
       "      <td>NaN</td>\n",
       "      <td>NaN</td>\n",
       "      <td>NaN</td>\n",
       "      <td>NaN</td>\n",
       "      <td>NaN</td>\n",
       "      <td>NaN</td>\n",
       "    </tr>\n",
       "  </tbody>\n",
       "</table>\n",
       "</div>"
      ],
      "text/plain": [
       "                         openid                      kmid customerid  \\\n",
       "0  oil0uuDhkGzIvMUzskovynGhMA-g  057801433987345505122537     655278   \n",
       "1  oil0uuLwQyx0Yv6Lza48OAwSGDIw                 000000001    2743853   \n",
       "2  oil0uuLwQyx0Yv6Lza48OAwSGDIw                 000000013    2743853   \n",
       "3  oil0uuGtM6i8D9yFWqF1ceIzIxiw                 000000002          0   \n",
       "4  oil0uuMWXypFWyb-Uer397vxs4p0                 000000003     276619   \n",
       "\n",
       "  registertime customer_status wechat_sex wechat_city wechat_province  \\\n",
       "0          NaN             NaN        NaN         NaN             NaN   \n",
       "1          NaN             NaN        NaN         NaN             NaN   \n",
       "2          NaN             NaN        NaN         NaN             NaN   \n",
       "3          NaN             NaN        NaN         NaN             NaN   \n",
       "4          NaN             NaN        NaN         NaN             NaN   \n",
       "\n",
       "  wechat_country  \n",
       "0            NaN  \n",
       "1            NaN  \n",
       "2            NaN  \n",
       "3            NaN  \n",
       "4            NaN  "
      ]
     },
     "execution_count": 67,
     "metadata": {},
     "output_type": "execute_result"
    }
   ],
   "source": [
    "df.head()"
   ]
  },
  {
   "cell_type": "code",
   "execution_count": 68,
   "metadata": {
    "collapsed": false
   },
   "outputs": [
    {
     "data": {
      "text/plain": [
       "(264067, 9)"
      ]
     },
     "execution_count": 68,
     "metadata": {},
     "output_type": "execute_result"
    }
   ],
   "source": [
    "df.shape"
   ]
  },
  {
   "cell_type": "code",
   "execution_count": 69,
   "metadata": {
    "collapsed": false
   },
   "outputs": [
    {
     "name": "stdout",
     "output_type": "stream",
     "text": [
      "<class 'pandas.core.frame.DataFrame'>\n",
      "Int64Index: 264067 entries, 0 to 264066\n",
      "Data columns (total 9 columns):\n",
      "openid             264067 non-null object\n",
      "kmid               112323 non-null object\n",
      "customerid         264067 non-null object\n",
      "registertime       151744 non-null object\n",
      "customer_status    151744 non-null object\n",
      "wechat_sex         129635 non-null object\n",
      "wechat_city        129635 non-null object\n",
      "wechat_province    129635 non-null object\n",
      "wechat_country     129635 non-null object\n",
      "dtypes: object(9)\n",
      "memory usage: 20.1+ MB\n"
     ]
    }
   ],
   "source": [
    "df.info()"
   ]
  },
  {
   "cell_type": "code",
   "execution_count": 71,
   "metadata": {
    "collapsed": false
   },
   "outputs": [
    {
     "data": {
      "text/plain": [
       "Index([u'openid', u'kmid', u'customerid', u'registertime', u'customer_status',\n",
       "       u'wechat_sex', u'wechat_city', u'wechat_province', u'wechat_country'],\n",
       "      dtype='object')"
      ]
     },
     "execution_count": 71,
     "metadata": {},
     "output_type": "execute_result"
    }
   ],
   "source": [
    "df.columns"
   ]
  },
  {
   "cell_type": "markdown",
   "metadata": {},
   "source": [
    "## 5. merge全部表"
   ]
  },
  {
   "cell_type": "code",
   "execution_count": 74,
   "metadata": {
    "collapsed": false
   },
   "outputs": [
    {
     "data": {
      "text/html": [
       "<div>\n",
       "<table border=\"1\" class=\"dataframe\">\n",
       "  <thead>\n",
       "    <tr style=\"text-align: right;\">\n",
       "      <th></th>\n",
       "      <th>kmid</th>\n",
       "      <th>member_birthday</th>\n",
       "      <th>km_sex</th>\n",
       "      <th>accountcash</th>\n",
       "      <th>accountbalance</th>\n",
       "      <th>integralbalance</th>\n",
       "      <th>consumetotal</th>\n",
       "      <th>consumetimes</th>\n",
       "      <th>member_age_cut</th>\n",
       "      <th>lastconsume_diff_create_day</th>\n",
       "      <th>lastconsume_diff_create_hour</th>\n",
       "      <th>lastconsume_diff_now</th>\n",
       "      <th>openid</th>\n",
       "      <th>customerid</th>\n",
       "      <th>registertime</th>\n",
       "      <th>customer_status</th>\n",
       "      <th>wechat_sex</th>\n",
       "      <th>wechat_city</th>\n",
       "      <th>wechat_province</th>\n",
       "      <th>wechat_country</th>\n",
       "    </tr>\n",
       "  </thead>\n",
       "  <tbody>\n",
       "    <tr>\n",
       "      <th>0</th>\n",
       "      <td>000108491</td>\n",
       "      <td>1995</td>\n",
       "      <td>1</td>\n",
       "      <td>0.00</td>\n",
       "      <td>0.00</td>\n",
       "      <td>0.00</td>\n",
       "      <td>0.00</td>\n",
       "      <td>0</td>\n",
       "      <td>member_age_5</td>\n",
       "      <td>0</td>\n",
       "      <td>0</td>\n",
       "      <td>381</td>\n",
       "      <td>oY2rcsvnlXRwxPUVUX2a_sjoZb54</td>\n",
       "      <td>4721830</td>\n",
       "      <td>NaN</td>\n",
       "      <td>NaN</td>\n",
       "      <td>NaN</td>\n",
       "      <td>NaN</td>\n",
       "      <td>NaN</td>\n",
       "      <td>NaN</td>\n",
       "    </tr>\n",
       "    <tr>\n",
       "      <th>1</th>\n",
       "      <td>000108492</td>\n",
       "      <td>2000</td>\n",
       "      <td>1</td>\n",
       "      <td>120.00</td>\n",
       "      <td>120.00</td>\n",
       "      <td>0.00</td>\n",
       "      <td>180.00</td>\n",
       "      <td>1</td>\n",
       "      <td>member_age_6</td>\n",
       "      <td>0</td>\n",
       "      <td>0</td>\n",
       "      <td>381</td>\n",
       "      <td>oYKurwj7gcmDGqUPDlDu8uA08Ark</td>\n",
       "      <td>5795483</td>\n",
       "      <td>NaN</td>\n",
       "      <td>NaN</td>\n",
       "      <td>NaN</td>\n",
       "      <td>NaN</td>\n",
       "      <td>NaN</td>\n",
       "      <td>NaN</td>\n",
       "    </tr>\n",
       "    <tr>\n",
       "      <th>2</th>\n",
       "      <td>000108494</td>\n",
       "      <td>1982</td>\n",
       "      <td>0</td>\n",
       "      <td>201.00</td>\n",
       "      <td>201.00</td>\n",
       "      <td>15.00</td>\n",
       "      <td>319.00</td>\n",
       "      <td>1</td>\n",
       "      <td>member_age_4</td>\n",
       "      <td>0</td>\n",
       "      <td>0</td>\n",
       "      <td>381</td>\n",
       "      <td>oYKurwgr5VmyQb21VZ_hqzLaPwzM</td>\n",
       "      <td>5795484</td>\n",
       "      <td>NaN</td>\n",
       "      <td>NaN</td>\n",
       "      <td>NaN</td>\n",
       "      <td>NaN</td>\n",
       "      <td>NaN</td>\n",
       "      <td>NaN</td>\n",
       "    </tr>\n",
       "    <tr>\n",
       "      <th>3</th>\n",
       "      <td>000108496</td>\n",
       "      <td>1986</td>\n",
       "      <td>0</td>\n",
       "      <td>15.00</td>\n",
       "      <td>15.00</td>\n",
       "      <td>485.00</td>\n",
       "      <td>1151.00</td>\n",
       "      <td>4</td>\n",
       "      <td>member_age_4</td>\n",
       "      <td>6</td>\n",
       "      <td>23</td>\n",
       "      <td>374</td>\n",
       "      <td>oY2rcshR6wIsAWlHe-6wGUGVvlec</td>\n",
       "      <td>5795486</td>\n",
       "      <td>NaN</td>\n",
       "      <td>NaN</td>\n",
       "      <td>NaN</td>\n",
       "      <td>NaN</td>\n",
       "      <td>NaN</td>\n",
       "      <td>NaN</td>\n",
       "    </tr>\n",
       "    <tr>\n",
       "      <th>4</th>\n",
       "      <td>000108497</td>\n",
       "      <td>1981</td>\n",
       "      <td>1</td>\n",
       "      <td>0.00</td>\n",
       "      <td>0.00</td>\n",
       "      <td>16.00</td>\n",
       "      <td>1691.00</td>\n",
       "      <td>2</td>\n",
       "      <td>member_age_4</td>\n",
       "      <td>22</td>\n",
       "      <td>0</td>\n",
       "      <td>359</td>\n",
       "      <td>osKIrt9ibvrtogGeakQXrncbvssg</td>\n",
       "      <td>5795487</td>\n",
       "      <td>NaN</td>\n",
       "      <td>NaN</td>\n",
       "      <td>NaN</td>\n",
       "      <td>NaN</td>\n",
       "      <td>NaN</td>\n",
       "      <td>NaN</td>\n",
       "    </tr>\n",
       "  </tbody>\n",
       "</table>\n",
       "</div>"
      ],
      "text/plain": [
       "        kmid  member_birthday  km_sex accountcash accountbalance  \\\n",
       "0  000108491             1995       1        0.00           0.00   \n",
       "1  000108492             2000       1      120.00         120.00   \n",
       "2  000108494             1982       0      201.00         201.00   \n",
       "3  000108496             1986       0       15.00          15.00   \n",
       "4  000108497             1981       1        0.00           0.00   \n",
       "\n",
       "  integralbalance consumetotal consumetimes member_age_cut  \\\n",
       "0            0.00         0.00            0   member_age_5   \n",
       "1            0.00       180.00            1   member_age_6   \n",
       "2           15.00       319.00            1   member_age_4   \n",
       "3          485.00      1151.00            4   member_age_4   \n",
       "4           16.00      1691.00            2   member_age_4   \n",
       "\n",
       "   lastconsume_diff_create_day  lastconsume_diff_create_hour  \\\n",
       "0                            0                             0   \n",
       "1                            0                             0   \n",
       "2                            0                             0   \n",
       "3                            6                            23   \n",
       "4                           22                             0   \n",
       "\n",
       "   lastconsume_diff_now                        openid customerid registertime  \\\n",
       "0                   381  oY2rcsvnlXRwxPUVUX2a_sjoZb54    4721830          NaN   \n",
       "1                   381  oYKurwj7gcmDGqUPDlDu8uA08Ark    5795483          NaN   \n",
       "2                   381  oYKurwgr5VmyQb21VZ_hqzLaPwzM    5795484          NaN   \n",
       "3                   374  oY2rcshR6wIsAWlHe-6wGUGVvlec    5795486          NaN   \n",
       "4                   359  osKIrt9ibvrtogGeakQXrncbvssg    5795487          NaN   \n",
       "\n",
       "  customer_status wechat_sex wechat_city wechat_province wechat_country  \n",
       "0             NaN        NaN         NaN             NaN            NaN  \n",
       "1             NaN        NaN         NaN             NaN            NaN  \n",
       "2             NaN        NaN         NaN             NaN            NaN  \n",
       "3             NaN        NaN         NaN             NaN            NaN  \n",
       "4             NaN        NaN         NaN             NaN            NaN  "
      ]
     },
     "execution_count": 74,
     "metadata": {},
     "output_type": "execute_result"
    }
   ],
   "source": [
    "df.head()"
   ]
  },
  {
   "cell_type": "code",
   "execution_count": 75,
   "metadata": {
    "collapsed": false
   },
   "outputs": [
    {
     "data": {
      "text/plain": [
       "(273398, 20)"
      ]
     },
     "execution_count": 75,
     "metadata": {},
     "output_type": "execute_result"
    }
   ],
   "source": [
    "df.shape"
   ]
  },
  {
   "cell_type": "code",
   "execution_count": 76,
   "metadata": {
    "collapsed": false
   },
   "outputs": [
    {
     "data": {
      "text/plain": [
       "Index([u'kmid', u'member_birthday', u'km_sex', u'accountcash',\n",
       "       u'accountbalance', u'integralbalance', u'consumetotal', u'consumetimes',\n",
       "       u'member_age_cut', u'lastconsume_diff_create_day',\n",
       "       u'lastconsume_diff_create_hour', u'lastconsume_diff_now', u'openid',\n",
       "       u'customerid', u'registertime', u'customer_status', u'wechat_sex',\n",
       "       u'wechat_city', u'wechat_province', u'wechat_country'],\n",
       "      dtype='object')"
      ]
     },
     "execution_count": 76,
     "metadata": {},
     "output_type": "execute_result"
    }
   ],
   "source": [
    "df.columns"
   ]
  },
  {
   "cell_type": "code",
   "execution_count": 78,
   "metadata": {
    "collapsed": false
   },
   "outputs": [
    {
     "name": "stdout",
     "output_type": "stream",
     "text": [
      "<class 'pandas.core.frame.DataFrame'>\n",
      "Int64Index: 273398 entries, 0 to 273397\n",
      "Data columns (total 20 columns):\n",
      "kmid                            121654 non-null object\n",
      "member_birthday                 15559 non-null float64\n",
      "km_sex                          15559 non-null float64\n",
      "accountcash                     15559 non-null object\n",
      "accountbalance                  15559 non-null object\n",
      "integralbalance                 15559 non-null object\n",
      "consumetotal                    15559 non-null object\n",
      "consumetimes                    15559 non-null object\n",
      "member_age_cut                  15559 non-null object\n",
      "lastconsume_diff_create_day     15559 non-null float64\n",
      "lastconsume_diff_create_hour    15559 non-null float64\n",
      "lastconsume_diff_now            15559 non-null float64\n",
      "openid                          264067 non-null object\n",
      "customerid                      264067 non-null object\n",
      "registertime                    151744 non-null object\n",
      "customer_status                 151744 non-null object\n",
      "wechat_sex                      129635 non-null object\n",
      "wechat_city                     129635 non-null object\n",
      "wechat_province                 129635 non-null object\n",
      "wechat_country                  129635 non-null object\n",
      "dtypes: float64(5), object(15)\n",
      "memory usage: 43.8+ MB\n"
     ]
    }
   ],
   "source": [
    "df.info()"
   ]
  },
  {
   "cell_type": "code",
   "execution_count": 4,
   "metadata": {
    "collapsed": false
   },
   "outputs": [
    {
     "data": {
      "text/plain": [
       "0          2722\n",
       "5948383      54\n",
       "2743853      52\n",
       "5819210      40\n",
       "6139758      38\n",
       "5964123      37\n",
       "5913691      33\n",
       "5832917      32\n",
       "6100975      32\n",
       "5964124      31\n",
       "6025160      31\n",
       "6163558      31\n",
       "5959305      30\n",
       "5963498      29\n",
       "5824681      28\n",
       "6141710      28\n",
       "6036321      28\n",
       "5958543      28\n",
       "5957265      28\n",
       "5880864      28\n",
       "6136719      28\n",
       "6074937      27\n",
       "6141661      27\n",
       "6153093      27\n",
       "5848549      26\n",
       "5914782      26\n",
       "5996762      26\n",
       "5964121      26\n",
       "6118779      24\n",
       "6045179      24\n",
       "           ... \n",
       "6042291       1\n",
       "6152907       1\n",
       "6152906       1\n",
       "6152905       1\n",
       "6152904       1\n",
       "1305470       1\n",
       "5727285       1\n",
       "5963133       1\n",
       "4480146       1\n",
       "4474580       1\n",
       "5697265       1\n",
       "4771862       1\n",
       "4152599       1\n",
       "5819828       1\n",
       "4675704       1\n",
       "5569629       1\n",
       "5849267       1\n",
       "5849265       1\n",
       "6103872       1\n",
       "5841478       1\n",
       "5963138       1\n",
       "4672481       1\n",
       "5841472       1\n",
       "5841471       1\n",
       "5841470       1\n",
       "5841477       1\n",
       "5841476       1\n",
       "5841475       1\n",
       "5841474       1\n",
       "5533177       1\n",
       "Name: customerid, dtype: int64"
      ]
     },
     "execution_count": 4,
     "metadata": {},
     "output_type": "execute_result"
    }
   ],
   "source": [
    "pd.value_counts(df['customerid'])"
   ]
  },
  {
   "cell_type": "code",
   "execution_count": 77,
   "metadata": {
    "collapsed": false,
    "scrolled": true
   },
   "outputs": [
    {
     "name": "stdout",
     "output_type": "stream",
     "text": [
      "kmid  \n",
      "member_birthday  \n",
      "km_sex  \n",
      "accountcash  \n",
      "accountbalance  \n",
      "integralbalance  \n",
      "consumetotal  \n",
      "consumetimes  \n",
      "member_age_cut  \n",
      "lastconsume_diff_create_day  \n",
      "lastconsume_diff_create_hour  \n",
      "lastconsume_diff_now  \n",
      "openid  \n",
      "customerid  \n",
      "registertime  \n",
      "customer_status  \n",
      "wechat_sex  \n",
      "wechat_city  \n",
      "wechat_province  \n",
      "wechat_country  \n"
     ]
    }
   ],
   "source": [
    "for i in df.columns:\n",
    "    print i + \"  \""
   ]
  },
  {
   "cell_type": "markdown",
   "metadata": {},
   "source": [
    "# 0. 第一遍编写调试记录"
   ]
  },
  {
   "cell_type": "markdown",
   "metadata": {},
   "source": [
    "## 决定放弃使用wj_tbl_member_cache表的papertype和papernumber两个属性"
   ]
  },
  {
   "cell_type": "markdown",
   "metadata": {},
   "source": [
    "### 证件类型中学生证太少，不足以用以判断用户是不是学生"
   ]
  },
  {
   "cell_type": "code",
   "execution_count": 9,
   "metadata": {
    "collapsed": false
   },
   "outputs": [
    {
     "data": {
      "text/plain": [
       "身份证    14798\n",
       "         757\n",
       "学生证        3\n",
       "???        1\n",
       "Name: papertype, dtype: int64"
      ]
     },
     "execution_count": 9,
     "metadata": {},
     "output_type": "execute_result"
    }
   ],
   "source": [
    "pd.value_counts(df['papertype'])"
   ]
  },
  {
   "cell_type": "markdown",
   "metadata": {},
   "source": [
    "### 有身份证号数的数据也太少了，用于提取生日获取年龄信息比较困难"
   ]
  },
  {
   "cell_type": "code",
   "execution_count": 10,
   "metadata": {
    "collapsed": false
   },
   "outputs": [
    {
     "data": {
      "text/plain": [
       "                       15129\n",
       "邓先生                        2\n",
       "15043019961017423X         1\n",
       "51622199601037742          1\n",
       "362523199304055219         1\n",
       "19921024                   1\n",
       "5109231198309104626        1\n",
       "00001690                   1\n",
       "340321199503101549         1\n",
       "6528272001050323           1\n",
       "430304199204022053         1\n",
       "21011199401312529          1\n",
       "360424199003112848         1\n",
       "15041200009010030          1\n",
       "330327198709201993         1\n",
       "441426198708200636         1\n",
       "430219197704105429         1\n",
       "370686199603160044         1\n",
       "371002198612033051         1\n",
       "430302199501094536         1\n",
       "140524198605137030         1\n",
       "43030200001010415          1\n",
       "432503198311162029         1\n",
       "36232219930916031x         1\n",
       "430181198910056418         1\n",
       "652823198901092625         1\n",
       "32022297812150019          1\n",
       "230281199011194625         1\n",
       "150422199710062729         1\n",
       "430304198911223052         1\n",
       "                       ...  \n",
       "150403199307272516         1\n",
       "352202198906134518         1\n",
       "王琴                         1\n",
       "430321199004121715         1\n",
       "v2000823                   1\n",
       "433127198601066027         1\n",
       "430304198807222586         1\n",
       "513101199208281928         1\n",
       "370602199807264614         1\n",
       "150430199612272132         1\n",
       "440182199301112125         1\n",
       "320203196608073414         1\n",
       "370602199705262319         1\n",
       "430326199601205224         1\n",
       "362322196912110014         1\n",
       "362322198711067813         1\n",
       "凌平                         1\n",
       "140107199411263019         1\n",
       "652222198509032928         1\n",
       "430681199005200610         1\n",
       "36232119861125             1\n",
       "220625198508010013         1\n",
       "23060419870212121          1\n",
       "430421199505160013         1\n",
       "430321199606174910         1\n",
       "150428199511022714         1\n",
       "431102199603127220         1\n",
       "3624241982216391x          1\n",
       "210211199809084035         1\n",
       "430302199409171586         1\n",
       "Name: papernumber, dtype: int64"
      ]
     },
     "execution_count": 10,
     "metadata": {},
     "output_type": "execute_result"
    }
   ],
   "source": [
    "pd.value_counts(df['papernumber'])"
   ]
  },
  {
   "cell_type": "code",
   "execution_count": 30,
   "metadata": {
    "collapsed": false
   },
   "outputs": [
    {
     "data": {
      "text/plain": [
       "null                   1059\n",
       "2016-05-23 21:50:34       2\n",
       "2016-05-27 23:16:40       2\n",
       "2016-05-12 09:48:58       2\n",
       "2016-05-31 21:49:36       2\n",
       "2016-05-31 21:13:33       2\n",
       "2016-05-16 23:11:09       2\n",
       "2016-05-21 21:40:00       2\n",
       "2016-05-30 22:23:57       2\n",
       "2016-05-28 22:12:01       2\n",
       "2016-05-21 21:28:50       2\n",
       "2016-05-28 14:48:42       2\n",
       "2016-05-22 21:59:11       2\n",
       "2016-03-29 20:22:33       2\n",
       "2016-05-30 21:12:15       2\n",
       "2016-05-21 22:31:22       2\n",
       "2016-05-26 20:30:08       2\n",
       "2016-05-07 21:05:08       2\n",
       "2016-05-07 21:24:51       2\n",
       "2016-01-12 20:33:07       2\n",
       "2016-05-14 22:25:15       2\n",
       "2016-05-14 21:53:45       2\n",
       "2016-05-01 23:20:58       2\n",
       "2016-05-30 22:20:19       2\n",
       "2016-05-19 22:24:06       2\n",
       "2016-05-14 21:07:21       2\n",
       "2016-05-14 21:07:47       2\n",
       "2016-05-27 23:51:01       2\n",
       "2016-05-05 22:20:24       2\n",
       "2016-05-30 22:07:34       2\n",
       "                       ... \n",
       "2016-05-22 23:49:18       1\n",
       "2016-05-07 01:58:15       1\n",
       "2016-05-14 12:17:39       1\n",
       "2016-01-10 19:58:06       1\n",
       "2016-05-14 22:18:23       1\n",
       "2016-03-02 22:12:05       1\n",
       "2016-05-07 00:03:57       1\n",
       "2016-05-23 01:51:35       1\n",
       "2016-05-30 23:23:20       1\n",
       "2016-05-12 14:38:50       1\n",
       "2016-01-27 19:16:57       1\n",
       "2016-05-05 01:27:20       1\n",
       "2016-02-15 14:38:22       1\n",
       "2016-02-04 21:59:03       1\n",
       "2016-05-15 00:32:29       1\n",
       "2016-05-01 13:20:17       1\n",
       "2016-05-29 01:54:09       1\n",
       "2016-05-27 00:03:26       1\n",
       "2016-05-24 23:29:48       1\n",
       "2016-05-30 13:22:21       1\n",
       "2016-01-26 14:33:08       1\n",
       "2016-05-19 21:48:54       1\n",
       "2016-05-06 19:45:35       1\n",
       "2016-05-18 04:31:23       1\n",
       "2016-05-14 21:25:50       1\n",
       "2016-05-14 21:22:03       1\n",
       "2016-01-09 22:34:33       1\n",
       "2016-05-04 22:26:31       1\n",
       "2016-05-01 23:40:20       1\n",
       "2016-05-01 23:14:18       1\n",
       "Name: lastconsumetime, dtype: int64"
      ]
     },
     "execution_count": 30,
     "metadata": {},
     "output_type": "execute_result"
    }
   ],
   "source": [
    "pd.value_counts(df['lastconsumetime'])"
   ]
  },
  {
   "cell_type": "code",
   "execution_count": 19,
   "metadata": {
    "collapsed": false
   },
   "outputs": [
    {
     "data": {
      "text/html": [
       "<div>\n",
       "<table border=\"1\" class=\"dataframe\">\n",
       "  <thead>\n",
       "    <tr style=\"text-align: right;\">\n",
       "      <th></th>\n",
       "      <th>kmid</th>\n",
       "      <th>member_birthday</th>\n",
       "      <th>member_sex</th>\n",
       "      <th>accountcash</th>\n",
       "      <th>accountbalance</th>\n",
       "      <th>integralbalance</th>\n",
       "      <th>consumetotal</th>\n",
       "      <th>consumetimes</th>\n",
       "      <th>createcardtime</th>\n",
       "      <th>lastconsumetime</th>\n",
       "      <th>member_age_cut</th>\n",
       "    </tr>\n",
       "  </thead>\n",
       "  <tbody>\n",
       "    <tr>\n",
       "      <th>7779</th>\n",
       "      <td>000115824</td>\n",
       "      <td>1988</td>\n",
       "      <td>0</td>\n",
       "      <td>0.00</td>\n",
       "      <td>0.00</td>\n",
       "      <td>0.00</td>\n",
       "      <td>0.00</td>\n",
       "      <td>0</td>\n",
       "      <td>2016-05-13 17:20:12</td>\n",
       "      <td>null</td>\n",
       "      <td>member_age_5</td>\n",
       "    </tr>\n",
       "    <tr>\n",
       "      <th>8685</th>\n",
       "      <td>000117270</td>\n",
       "      <td>1988</td>\n",
       "      <td>0</td>\n",
       "      <td>0.00</td>\n",
       "      <td>0.00</td>\n",
       "      <td>0.00</td>\n",
       "      <td>0.00</td>\n",
       "      <td>0</td>\n",
       "      <td>2016-05-14 23:56:12</td>\n",
       "      <td>null</td>\n",
       "      <td>member_age_5</td>\n",
       "    </tr>\n",
       "    <tr>\n",
       "      <th>8710</th>\n",
       "      <td>000117307</td>\n",
       "      <td>1993</td>\n",
       "      <td>1</td>\n",
       "      <td>0.00</td>\n",
       "      <td>0.00</td>\n",
       "      <td>0.00</td>\n",
       "      <td>0.00</td>\n",
       "      <td>0</td>\n",
       "      <td>2016-05-15 01:11:09</td>\n",
       "      <td>null</td>\n",
       "      <td>member_age_5</td>\n",
       "    </tr>\n",
       "    <tr>\n",
       "      <th>8718</th>\n",
       "      <td>000117321</td>\n",
       "      <td>1993</td>\n",
       "      <td>0</td>\n",
       "      <td>0.00</td>\n",
       "      <td>0.00</td>\n",
       "      <td>0.00</td>\n",
       "      <td>0.00</td>\n",
       "      <td>0</td>\n",
       "      <td>2016-05-15 02:10:15</td>\n",
       "      <td>null</td>\n",
       "      <td>member_age_5</td>\n",
       "    </tr>\n",
       "    <tr>\n",
       "      <th>8725</th>\n",
       "      <td>000117331</td>\n",
       "      <td>1995</td>\n",
       "      <td>0</td>\n",
       "      <td>0.00</td>\n",
       "      <td>0.00</td>\n",
       "      <td>0.00</td>\n",
       "      <td>0.00</td>\n",
       "      <td>0</td>\n",
       "      <td>2016-05-15 05:26:06</td>\n",
       "      <td>null</td>\n",
       "      <td>member_age_5</td>\n",
       "    </tr>\n",
       "    <tr>\n",
       "      <th>8728</th>\n",
       "      <td>000117338</td>\n",
       "      <td>1991</td>\n",
       "      <td>1</td>\n",
       "      <td>0.00</td>\n",
       "      <td>0.00</td>\n",
       "      <td>0.00</td>\n",
       "      <td>0.00</td>\n",
       "      <td>0</td>\n",
       "      <td>2016-05-15 09:31:42</td>\n",
       "      <td>null</td>\n",
       "      <td>member_age_5</td>\n",
       "    </tr>\n",
       "    <tr>\n",
       "      <th>8729</th>\n",
       "      <td>000117341</td>\n",
       "      <td>1989</td>\n",
       "      <td>0</td>\n",
       "      <td>0.00</td>\n",
       "      <td>0.00</td>\n",
       "      <td>0.00</td>\n",
       "      <td>0.00</td>\n",
       "      <td>0</td>\n",
       "      <td>2016-05-15 10:10:21</td>\n",
       "      <td>null</td>\n",
       "      <td>member_age_5</td>\n",
       "    </tr>\n",
       "    <tr>\n",
       "      <th>8731</th>\n",
       "      <td>000117346</td>\n",
       "      <td>1983</td>\n",
       "      <td>1</td>\n",
       "      <td>0.00</td>\n",
       "      <td>0.00</td>\n",
       "      <td>0.00</td>\n",
       "      <td>0.00</td>\n",
       "      <td>0</td>\n",
       "      <td>2016-05-15 10:59:31</td>\n",
       "      <td>null</td>\n",
       "      <td>member_age_4</td>\n",
       "    </tr>\n",
       "    <tr>\n",
       "      <th>8732</th>\n",
       "      <td>000117349</td>\n",
       "      <td>2000</td>\n",
       "      <td>1</td>\n",
       "      <td>0.00</td>\n",
       "      <td>0.00</td>\n",
       "      <td>0.00</td>\n",
       "      <td>0.00</td>\n",
       "      <td>0</td>\n",
       "      <td>2016-05-15 11:07:15</td>\n",
       "      <td>null</td>\n",
       "      <td>member_age_6</td>\n",
       "    </tr>\n",
       "    <tr>\n",
       "      <th>8733</th>\n",
       "      <td>000117350</td>\n",
       "      <td>1987</td>\n",
       "      <td>1</td>\n",
       "      <td>0.00</td>\n",
       "      <td>0.00</td>\n",
       "      <td>0.00</td>\n",
       "      <td>0.00</td>\n",
       "      <td>0</td>\n",
       "      <td>2016-05-15 11:08:21</td>\n",
       "      <td>null</td>\n",
       "      <td>member_age_4</td>\n",
       "    </tr>\n",
       "    <tr>\n",
       "      <th>8734</th>\n",
       "      <td>000117353</td>\n",
       "      <td>1993</td>\n",
       "      <td>1</td>\n",
       "      <td>0.00</td>\n",
       "      <td>0.00</td>\n",
       "      <td>0.00</td>\n",
       "      <td>0.00</td>\n",
       "      <td>0</td>\n",
       "      <td>2016-05-15 11:11:37</td>\n",
       "      <td>null</td>\n",
       "      <td>member_age_5</td>\n",
       "    </tr>\n",
       "    <tr>\n",
       "      <th>8735</th>\n",
       "      <td>000117354</td>\n",
       "      <td>2000</td>\n",
       "      <td>0</td>\n",
       "      <td>0.00</td>\n",
       "      <td>0.00</td>\n",
       "      <td>0.00</td>\n",
       "      <td>0.00</td>\n",
       "      <td>0</td>\n",
       "      <td>2016-05-15 11:22:44</td>\n",
       "      <td>null</td>\n",
       "      <td>member_age_6</td>\n",
       "    </tr>\n",
       "    <tr>\n",
       "      <th>834</th>\n",
       "      <td>000109761</td>\n",
       "      <td>1981</td>\n",
       "      <td>1</td>\n",
       "      <td>0.00</td>\n",
       "      <td>0.00</td>\n",
       "      <td>0.00</td>\n",
       "      <td>0.00</td>\n",
       "      <td>0</td>\n",
       "      <td>2016-05-02 20:38:17</td>\n",
       "      <td>null</td>\n",
       "      <td>member_age_4</td>\n",
       "    </tr>\n",
       "    <tr>\n",
       "      <th>8739</th>\n",
       "      <td>000117360</td>\n",
       "      <td>1993</td>\n",
       "      <td>0</td>\n",
       "      <td>0.00</td>\n",
       "      <td>0.00</td>\n",
       "      <td>0.00</td>\n",
       "      <td>0.00</td>\n",
       "      <td>0</td>\n",
       "      <td>2016-05-15 11:48:35</td>\n",
       "      <td>null</td>\n",
       "      <td>member_age_5</td>\n",
       "    </tr>\n",
       "    <tr>\n",
       "      <th>8742</th>\n",
       "      <td>000117367</td>\n",
       "      <td>1995</td>\n",
       "      <td>0</td>\n",
       "      <td>0.00</td>\n",
       "      <td>0.00</td>\n",
       "      <td>0.00</td>\n",
       "      <td>0.00</td>\n",
       "      <td>0</td>\n",
       "      <td>2016-05-15 12:23:47</td>\n",
       "      <td>null</td>\n",
       "      <td>member_age_5</td>\n",
       "    </tr>\n",
       "    <tr>\n",
       "      <th>8751</th>\n",
       "      <td>000117393</td>\n",
       "      <td>1996</td>\n",
       "      <td>0</td>\n",
       "      <td>0.00</td>\n",
       "      <td>0.00</td>\n",
       "      <td>0.00</td>\n",
       "      <td>0.00</td>\n",
       "      <td>0</td>\n",
       "      <td>2016-05-15 13:12:05</td>\n",
       "      <td>null</td>\n",
       "      <td>member_age_5</td>\n",
       "    </tr>\n",
       "    <tr>\n",
       "      <th>8776</th>\n",
       "      <td>000117450</td>\n",
       "      <td>1978</td>\n",
       "      <td>0</td>\n",
       "      <td>0.00</td>\n",
       "      <td>0.00</td>\n",
       "      <td>0.00</td>\n",
       "      <td>0.00</td>\n",
       "      <td>0</td>\n",
       "      <td>2016-05-15 14:21:12</td>\n",
       "      <td>null</td>\n",
       "      <td>member_age_4</td>\n",
       "    </tr>\n",
       "    <tr>\n",
       "      <th>8691</th>\n",
       "      <td>000117277</td>\n",
       "      <td>1998</td>\n",
       "      <td>0</td>\n",
       "      <td>0.00</td>\n",
       "      <td>0.00</td>\n",
       "      <td>0.00</td>\n",
       "      <td>0.00</td>\n",
       "      <td>0</td>\n",
       "      <td>2016-05-15 00:09:09</td>\n",
       "      <td>null</td>\n",
       "      <td>member_age_5</td>\n",
       "    </tr>\n",
       "    <tr>\n",
       "      <th>8649</th>\n",
       "      <td>000117224</td>\n",
       "      <td>1996</td>\n",
       "      <td>0</td>\n",
       "      <td>0.00</td>\n",
       "      <td>0.00</td>\n",
       "      <td>0.00</td>\n",
       "      <td>0.00</td>\n",
       "      <td>0</td>\n",
       "      <td>2016-05-14 23:17:10</td>\n",
       "      <td>null</td>\n",
       "      <td>member_age_5</td>\n",
       "    </tr>\n",
       "    <tr>\n",
       "      <th>8405</th>\n",
       "      <td>000116804</td>\n",
       "      <td>1988</td>\n",
       "      <td>0</td>\n",
       "      <td>0.00</td>\n",
       "      <td>0.00</td>\n",
       "      <td>0.00</td>\n",
       "      <td>0.00</td>\n",
       "      <td>0</td>\n",
       "      <td>2016-05-14 20:26:36</td>\n",
       "      <td>null</td>\n",
       "      <td>member_age_5</td>\n",
       "    </tr>\n",
       "    <tr>\n",
       "      <th>8648</th>\n",
       "      <td>000117223</td>\n",
       "      <td>1995</td>\n",
       "      <td>0</td>\n",
       "      <td>0.00</td>\n",
       "      <td>0.00</td>\n",
       "      <td>0.00</td>\n",
       "      <td>0.00</td>\n",
       "      <td>0</td>\n",
       "      <td>2016-05-14 23:17:06</td>\n",
       "      <td>null</td>\n",
       "      <td>member_age_5</td>\n",
       "    </tr>\n",
       "    <tr>\n",
       "      <th>8444</th>\n",
       "      <td>000116879</td>\n",
       "      <td>1993</td>\n",
       "      <td>1</td>\n",
       "      <td>0.00</td>\n",
       "      <td>0.00</td>\n",
       "      <td>0.00</td>\n",
       "      <td>0.00</td>\n",
       "      <td>0</td>\n",
       "      <td>2016-05-14 20:49:06</td>\n",
       "      <td>null</td>\n",
       "      <td>member_age_5</td>\n",
       "    </tr>\n",
       "    <tr>\n",
       "      <th>8457</th>\n",
       "      <td>000116895</td>\n",
       "      <td>1998</td>\n",
       "      <td>0</td>\n",
       "      <td>0.00</td>\n",
       "      <td>0.00</td>\n",
       "      <td>0.00</td>\n",
       "      <td>0.00</td>\n",
       "      <td>0</td>\n",
       "      <td>2016-05-14 20:55:14</td>\n",
       "      <td>null</td>\n",
       "      <td>member_age_5</td>\n",
       "    </tr>\n",
       "    <tr>\n",
       "      <th>8467</th>\n",
       "      <td>000116912</td>\n",
       "      <td>1996</td>\n",
       "      <td>0</td>\n",
       "      <td>0.00</td>\n",
       "      <td>0.00</td>\n",
       "      <td>0.00</td>\n",
       "      <td>0.00</td>\n",
       "      <td>0</td>\n",
       "      <td>2016-05-14 21:01:16</td>\n",
       "      <td>null</td>\n",
       "      <td>member_age_5</td>\n",
       "    </tr>\n",
       "    <tr>\n",
       "      <th>8473</th>\n",
       "      <td>000116919</td>\n",
       "      <td>1994</td>\n",
       "      <td>0</td>\n",
       "      <td>0.00</td>\n",
       "      <td>0.00</td>\n",
       "      <td>0.00</td>\n",
       "      <td>0.00</td>\n",
       "      <td>0</td>\n",
       "      <td>2016-05-14 21:03:08</td>\n",
       "      <td>null</td>\n",
       "      <td>member_age_5</td>\n",
       "    </tr>\n",
       "    <tr>\n",
       "      <th>8475</th>\n",
       "      <td>000116922</td>\n",
       "      <td>1993</td>\n",
       "      <td>0</td>\n",
       "      <td>0.00</td>\n",
       "      <td>0.00</td>\n",
       "      <td>0.00</td>\n",
       "      <td>0.00</td>\n",
       "      <td>0</td>\n",
       "      <td>2016-05-14 21:04:12</td>\n",
       "      <td>null</td>\n",
       "      <td>member_age_5</td>\n",
       "    </tr>\n",
       "    <tr>\n",
       "      <th>8482</th>\n",
       "      <td>000116929</td>\n",
       "      <td>2000</td>\n",
       "      <td>1</td>\n",
       "      <td>0.00</td>\n",
       "      <td>0.00</td>\n",
       "      <td>0.00</td>\n",
       "      <td>0.00</td>\n",
       "      <td>0</td>\n",
       "      <td>2016-05-14 21:08:31</td>\n",
       "      <td>null</td>\n",
       "      <td>member_age_6</td>\n",
       "    </tr>\n",
       "    <tr>\n",
       "      <th>8575</th>\n",
       "      <td>000117085</td>\n",
       "      <td>1996</td>\n",
       "      <td>0</td>\n",
       "      <td>0.00</td>\n",
       "      <td>0.00</td>\n",
       "      <td>0.00</td>\n",
       "      <td>0.00</td>\n",
       "      <td>0</td>\n",
       "      <td>2016-05-14 22:08:03</td>\n",
       "      <td>null</td>\n",
       "      <td>member_age_5</td>\n",
       "    </tr>\n",
       "    <tr>\n",
       "      <th>8581</th>\n",
       "      <td>000117098</td>\n",
       "      <td>1996</td>\n",
       "      <td>0</td>\n",
       "      <td>0.00</td>\n",
       "      <td>0.00</td>\n",
       "      <td>0.00</td>\n",
       "      <td>0.00</td>\n",
       "      <td>0</td>\n",
       "      <td>2016-05-14 22:13:37</td>\n",
       "      <td>null</td>\n",
       "      <td>member_age_5</td>\n",
       "    </tr>\n",
       "    <tr>\n",
       "      <th>8586</th>\n",
       "      <td>000117109</td>\n",
       "      <td>1997</td>\n",
       "      <td>0</td>\n",
       "      <td>0.00</td>\n",
       "      <td>0.00</td>\n",
       "      <td>0.00</td>\n",
       "      <td>0.00</td>\n",
       "      <td>0</td>\n",
       "      <td>2016-05-14 22:17:15</td>\n",
       "      <td>null</td>\n",
       "      <td>member_age_5</td>\n",
       "    </tr>\n",
       "    <tr>\n",
       "      <th>...</th>\n",
       "      <td>...</td>\n",
       "      <td>...</td>\n",
       "      <td>...</td>\n",
       "      <td>...</td>\n",
       "      <td>...</td>\n",
       "      <td>...</td>\n",
       "      <td>...</td>\n",
       "      <td>...</td>\n",
       "      <td>...</td>\n",
       "      <td>...</td>\n",
       "      <td>...</td>\n",
       "    </tr>\n",
       "    <tr>\n",
       "      <th>6070</th>\n",
       "      <td>000118675</td>\n",
       "      <td>1993</td>\n",
       "      <td>0</td>\n",
       "      <td>1.00</td>\n",
       "      <td>1.00</td>\n",
       "      <td>0.00</td>\n",
       "      <td>302.00</td>\n",
       "      <td>1</td>\n",
       "      <td>2015-12-11 18:41:50</td>\n",
       "      <td>2015-12-11 18:42:55</td>\n",
       "      <td>member_age_5</td>\n",
       "    </tr>\n",
       "    <tr>\n",
       "      <th>9478</th>\n",
       "      <td>000119802</td>\n",
       "      <td>1993</td>\n",
       "      <td>-1</td>\n",
       "      <td>0.00</td>\n",
       "      <td>0.00</td>\n",
       "      <td>63.00</td>\n",
       "      <td>630.00</td>\n",
       "      <td>2</td>\n",
       "      <td>2015-12-10 14:33:33</td>\n",
       "      <td>2015-12-10 23:15:02</td>\n",
       "      <td>member_age_5</td>\n",
       "    </tr>\n",
       "    <tr>\n",
       "      <th>1706</th>\n",
       "      <td>000113302</td>\n",
       "      <td>1993</td>\n",
       "      <td>1</td>\n",
       "      <td>0.00</td>\n",
       "      <td>0.00</td>\n",
       "      <td>300.00</td>\n",
       "      <td>300.00</td>\n",
       "      <td>2</td>\n",
       "      <td>2015-11-10 15:25:17</td>\n",
       "      <td>2015-11-22 22:59:16</td>\n",
       "      <td>member_age_5</td>\n",
       "    </tr>\n",
       "    <tr>\n",
       "      <th>1685</th>\n",
       "      <td>000114845</td>\n",
       "      <td>1993</td>\n",
       "      <td>1</td>\n",
       "      <td>0.00</td>\n",
       "      <td>0.00</td>\n",
       "      <td>1171.00</td>\n",
       "      <td>1171.00</td>\n",
       "      <td>6</td>\n",
       "      <td>2014-10-19 22:04:07</td>\n",
       "      <td>2015-11-20 22:15:55</td>\n",
       "      <td>member_age_5</td>\n",
       "    </tr>\n",
       "    <tr>\n",
       "      <th>6457</th>\n",
       "      <td>000018032</td>\n",
       "      <td>1993</td>\n",
       "      <td>1</td>\n",
       "      <td>0.00</td>\n",
       "      <td>0.00</td>\n",
       "      <td>0.00</td>\n",
       "      <td>0.00</td>\n",
       "      <td>0</td>\n",
       "      <td>2015-11-12 13:30:19</td>\n",
       "      <td>2015-11-12 13:30:19</td>\n",
       "      <td>member_age_5</td>\n",
       "    </tr>\n",
       "    <tr>\n",
       "      <th>5102</th>\n",
       "      <td>000015401</td>\n",
       "      <td>1995</td>\n",
       "      <td>1</td>\n",
       "      <td>0.00</td>\n",
       "      <td>0.00</td>\n",
       "      <td>0.00</td>\n",
       "      <td>0.00</td>\n",
       "      <td>0</td>\n",
       "      <td>2015-11-03 21:40:51</td>\n",
       "      <td>2015-11-03 21:40:51</td>\n",
       "      <td>member_age_5</td>\n",
       "    </tr>\n",
       "    <tr>\n",
       "      <th>5101</th>\n",
       "      <td>000012216</td>\n",
       "      <td>1970</td>\n",
       "      <td>0</td>\n",
       "      <td>0.00</td>\n",
       "      <td>0.00</td>\n",
       "      <td>0.00</td>\n",
       "      <td>0.00</td>\n",
       "      <td>0</td>\n",
       "      <td>2015-10-25 21:01:51</td>\n",
       "      <td>2015-10-25 21:01:51</td>\n",
       "      <td>member_age_3</td>\n",
       "    </tr>\n",
       "    <tr>\n",
       "      <th>5100</th>\n",
       "      <td>000010966</td>\n",
       "      <td>1982</td>\n",
       "      <td>1</td>\n",
       "      <td>0.00</td>\n",
       "      <td>0.00</td>\n",
       "      <td>0.00</td>\n",
       "      <td>0.00</td>\n",
       "      <td>0</td>\n",
       "      <td>2015-10-22 22:07:38</td>\n",
       "      <td>2015-10-22 22:07:38</td>\n",
       "      <td>member_age_4</td>\n",
       "    </tr>\n",
       "    <tr>\n",
       "      <th>5099</th>\n",
       "      <td>000010911</td>\n",
       "      <td>1992</td>\n",
       "      <td>0</td>\n",
       "      <td>0.00</td>\n",
       "      <td>0.00</td>\n",
       "      <td>0.00</td>\n",
       "      <td>0.00</td>\n",
       "      <td>0</td>\n",
       "      <td>2015-10-22 21:30:24</td>\n",
       "      <td>2015-10-22 21:30:24</td>\n",
       "      <td>member_age_5</td>\n",
       "    </tr>\n",
       "    <tr>\n",
       "      <th>1701</th>\n",
       "      <td>000113200</td>\n",
       "      <td>1993</td>\n",
       "      <td>1</td>\n",
       "      <td>10.00</td>\n",
       "      <td>10.00</td>\n",
       "      <td>615.00</td>\n",
       "      <td>615.00</td>\n",
       "      <td>4</td>\n",
       "      <td>2015-10-10 17:05:04</td>\n",
       "      <td>2015-10-19 14:18:28</td>\n",
       "      <td>member_age_5</td>\n",
       "    </tr>\n",
       "    <tr>\n",
       "      <th>1702</th>\n",
       "      <td>000116293</td>\n",
       "      <td>1993</td>\n",
       "      <td>1</td>\n",
       "      <td>0.00</td>\n",
       "      <td>0.00</td>\n",
       "      <td>542.00</td>\n",
       "      <td>542.00</td>\n",
       "      <td>5</td>\n",
       "      <td>2015-10-10 17:05:04</td>\n",
       "      <td>2015-10-17 01:18:37</td>\n",
       "      <td>member_age_5</td>\n",
       "    </tr>\n",
       "    <tr>\n",
       "      <th>6456</th>\n",
       "      <td>000008216</td>\n",
       "      <td>1993</td>\n",
       "      <td>0</td>\n",
       "      <td>0.00</td>\n",
       "      <td>0.00</td>\n",
       "      <td>0.00</td>\n",
       "      <td>0.00</td>\n",
       "      <td>0</td>\n",
       "      <td>2015-10-16 10:58:20</td>\n",
       "      <td>2015-10-16 10:58:20</td>\n",
       "      <td>member_age_5</td>\n",
       "    </tr>\n",
       "    <tr>\n",
       "      <th>5098</th>\n",
       "      <td>000007994</td>\n",
       "      <td>1987</td>\n",
       "      <td>0</td>\n",
       "      <td>0.00</td>\n",
       "      <td>0.00</td>\n",
       "      <td>0.00</td>\n",
       "      <td>0.00</td>\n",
       "      <td>0</td>\n",
       "      <td>2015-10-15 21:23:53</td>\n",
       "      <td>2015-10-15 21:23:53</td>\n",
       "      <td>member_age_4</td>\n",
       "    </tr>\n",
       "    <tr>\n",
       "      <th>6455</th>\n",
       "      <td>000006888</td>\n",
       "      <td>1982</td>\n",
       "      <td>1</td>\n",
       "      <td>0.00</td>\n",
       "      <td>0.00</td>\n",
       "      <td>0.00</td>\n",
       "      <td>0.00</td>\n",
       "      <td>0</td>\n",
       "      <td>2015-10-12 15:17:05</td>\n",
       "      <td>2015-10-12 15:17:05</td>\n",
       "      <td>member_age_4</td>\n",
       "    </tr>\n",
       "    <tr>\n",
       "      <th>9889</th>\n",
       "      <td>000127052</td>\n",
       "      <td>1997</td>\n",
       "      <td>0</td>\n",
       "      <td>0.00</td>\n",
       "      <td>0.00</td>\n",
       "      <td>863.00</td>\n",
       "      <td>9891.00</td>\n",
       "      <td>41</td>\n",
       "      <td>2014-12-19 13:17:35</td>\n",
       "      <td>2015-10-04 01:28:55</td>\n",
       "      <td>member_age_5</td>\n",
       "    </tr>\n",
       "    <tr>\n",
       "      <th>12593</th>\n",
       "      <td>000129160</td>\n",
       "      <td>1992</td>\n",
       "      <td>-1</td>\n",
       "      <td>0.00</td>\n",
       "      <td>0.00</td>\n",
       "      <td>44.00</td>\n",
       "      <td>4034.00</td>\n",
       "      <td>21</td>\n",
       "      <td>2014-06-21 13:36:15</td>\n",
       "      <td>2015-09-30 01:29:59</td>\n",
       "      <td>member_age_5</td>\n",
       "    </tr>\n",
       "    <tr>\n",
       "      <th>6048</th>\n",
       "      <td>000127080</td>\n",
       "      <td>1993</td>\n",
       "      <td>1</td>\n",
       "      <td>0.40</td>\n",
       "      <td>0.40</td>\n",
       "      <td>0.00</td>\n",
       "      <td>1379.60</td>\n",
       "      <td>7</td>\n",
       "      <td>2015-06-06 21:21:27</td>\n",
       "      <td>2015-09-29 15:23:10</td>\n",
       "      <td>member_age_5</td>\n",
       "    </tr>\n",
       "    <tr>\n",
       "      <th>1687</th>\n",
       "      <td>000119059</td>\n",
       "      <td>1993</td>\n",
       "      <td>1</td>\n",
       "      <td>0.00</td>\n",
       "      <td>0.00</td>\n",
       "      <td>619.00</td>\n",
       "      <td>619.00</td>\n",
       "      <td>3</td>\n",
       "      <td>2015-01-31 21:23:56</td>\n",
       "      <td>2015-09-26 21:40:16</td>\n",
       "      <td>member_age_5</td>\n",
       "    </tr>\n",
       "    <tr>\n",
       "      <th>1699</th>\n",
       "      <td>000116297</td>\n",
       "      <td>1994</td>\n",
       "      <td>1</td>\n",
       "      <td>0.00</td>\n",
       "      <td>0.00</td>\n",
       "      <td>331.00</td>\n",
       "      <td>331.00</td>\n",
       "      <td>1</td>\n",
       "      <td>2015-09-25 19:34:10</td>\n",
       "      <td>2015-09-26 13:35:22</td>\n",
       "      <td>member_age_5</td>\n",
       "    </tr>\n",
       "    <tr>\n",
       "      <th>1698</th>\n",
       "      <td>000126696</td>\n",
       "      <td>1993</td>\n",
       "      <td>1</td>\n",
       "      <td>0.00</td>\n",
       "      <td>0.00</td>\n",
       "      <td>249.00</td>\n",
       "      <td>249.00</td>\n",
       "      <td>1</td>\n",
       "      <td>2015-09-15 23:06:10</td>\n",
       "      <td>2015-09-18 19:15:19</td>\n",
       "      <td>member_age_5</td>\n",
       "    </tr>\n",
       "    <tr>\n",
       "      <th>1694</th>\n",
       "      <td>000112134</td>\n",
       "      <td>1993</td>\n",
       "      <td>1</td>\n",
       "      <td>0.00</td>\n",
       "      <td>0.00</td>\n",
       "      <td>0.00</td>\n",
       "      <td>0.00</td>\n",
       "      <td>0</td>\n",
       "      <td>2015-09-15 19:47:25</td>\n",
       "      <td>2015-09-15 19:47:25</td>\n",
       "      <td>member_age_5</td>\n",
       "    </tr>\n",
       "    <tr>\n",
       "      <th>6040</th>\n",
       "      <td>000127800</td>\n",
       "      <td>1993</td>\n",
       "      <td>1</td>\n",
       "      <td>1204.40</td>\n",
       "      <td>1204.40</td>\n",
       "      <td>0.00</td>\n",
       "      <td>2627.60</td>\n",
       "      <td>9</td>\n",
       "      <td>2015-02-22 19:06:41</td>\n",
       "      <td>2015-08-18 22:05:28</td>\n",
       "      <td>member_age_5</td>\n",
       "    </tr>\n",
       "    <tr>\n",
       "      <th>1686</th>\n",
       "      <td>000119241</td>\n",
       "      <td>1993</td>\n",
       "      <td>-1</td>\n",
       "      <td>0.00</td>\n",
       "      <td>0.00</td>\n",
       "      <td>17879.00</td>\n",
       "      <td>18758.00</td>\n",
       "      <td>127</td>\n",
       "      <td>2014-10-31 20:23:15</td>\n",
       "      <td>2015-08-12 20:09:38</td>\n",
       "      <td>member_age_5</td>\n",
       "    </tr>\n",
       "    <tr>\n",
       "      <th>6053</th>\n",
       "      <td>000113742</td>\n",
       "      <td>1988</td>\n",
       "      <td>1</td>\n",
       "      <td>0.00</td>\n",
       "      <td>0.00</td>\n",
       "      <td>0.00</td>\n",
       "      <td>0.00</td>\n",
       "      <td>0</td>\n",
       "      <td>2015-07-30 19:39:13</td>\n",
       "      <td>2015-07-30 19:39:13</td>\n",
       "      <td>member_age_5</td>\n",
       "    </tr>\n",
       "    <tr>\n",
       "      <th>9175</th>\n",
       "      <td>000124463</td>\n",
       "      <td>1984</td>\n",
       "      <td>1</td>\n",
       "      <td>0.00</td>\n",
       "      <td>0.00</td>\n",
       "      <td>0.00</td>\n",
       "      <td>0.00</td>\n",
       "      <td>0</td>\n",
       "      <td>2015-07-27 22:24:02</td>\n",
       "      <td>2015-07-27 22:24:02</td>\n",
       "      <td>member_age_4</td>\n",
       "    </tr>\n",
       "    <tr>\n",
       "      <th>9881</th>\n",
       "      <td>000124122</td>\n",
       "      <td>1993</td>\n",
       "      <td>0</td>\n",
       "      <td>97.00</td>\n",
       "      <td>97.00</td>\n",
       "      <td>99.00</td>\n",
       "      <td>1003.00</td>\n",
       "      <td>2</td>\n",
       "      <td>2015-01-02 22:06:35</td>\n",
       "      <td>2015-07-23 22:47:01</td>\n",
       "      <td>member_age_5</td>\n",
       "    </tr>\n",
       "    <tr>\n",
       "      <th>15312</th>\n",
       "      <td>000128456</td>\n",
       "      <td>1990</td>\n",
       "      <td>0</td>\n",
       "      <td>0.00</td>\n",
       "      <td>0.00</td>\n",
       "      <td>0.00</td>\n",
       "      <td>0.00</td>\n",
       "      <td>3</td>\n",
       "      <td>2014-11-23 13:43:09</td>\n",
       "      <td>2015-07-04 20:23:17</td>\n",
       "      <td>member_age_5</td>\n",
       "    </tr>\n",
       "    <tr>\n",
       "      <th>1689</th>\n",
       "      <td>000115523</td>\n",
       "      <td>1993</td>\n",
       "      <td>-1</td>\n",
       "      <td>42.00</td>\n",
       "      <td>42.00</td>\n",
       "      <td>458.00</td>\n",
       "      <td>508.00</td>\n",
       "      <td>3</td>\n",
       "      <td>2015-05-16 23:07:01</td>\n",
       "      <td>2015-06-05 22:21:28</td>\n",
       "      <td>member_age_5</td>\n",
       "    </tr>\n",
       "    <tr>\n",
       "      <th>6024</th>\n",
       "      <td>000125090</td>\n",
       "      <td>1986</td>\n",
       "      <td>1</td>\n",
       "      <td>0.00</td>\n",
       "      <td>0.00</td>\n",
       "      <td>13.00</td>\n",
       "      <td>0.00</td>\n",
       "      <td>0</td>\n",
       "      <td>2014-05-11 12:43:48</td>\n",
       "      <td>2014-12-16 08:45:47</td>\n",
       "      <td>member_age_4</td>\n",
       "    </tr>\n",
       "    <tr>\n",
       "      <th>1683</th>\n",
       "      <td>000122946</td>\n",
       "      <td>1993</td>\n",
       "      <td>1</td>\n",
       "      <td>0.00</td>\n",
       "      <td>0.00</td>\n",
       "      <td>0.00</td>\n",
       "      <td>0.00</td>\n",
       "      <td>0</td>\n",
       "      <td>2014-04-03 22:31:27</td>\n",
       "      <td>2014-04-03 22:31:27</td>\n",
       "      <td>member_age_5</td>\n",
       "    </tr>\n",
       "  </tbody>\n",
       "</table>\n",
       "<p>15559 rows × 11 columns</p>\n",
       "</div>"
      ],
      "text/plain": [
       "            kmid  member_birthday  member_sex accountcash accountbalance  \\\n",
       "7779   000115824             1988           0        0.00           0.00   \n",
       "8685   000117270             1988           0        0.00           0.00   \n",
       "8710   000117307             1993           1        0.00           0.00   \n",
       "8718   000117321             1993           0        0.00           0.00   \n",
       "8725   000117331             1995           0        0.00           0.00   \n",
       "8728   000117338             1991           1        0.00           0.00   \n",
       "8729   000117341             1989           0        0.00           0.00   \n",
       "8731   000117346             1983           1        0.00           0.00   \n",
       "8732   000117349             2000           1        0.00           0.00   \n",
       "8733   000117350             1987           1        0.00           0.00   \n",
       "8734   000117353             1993           1        0.00           0.00   \n",
       "8735   000117354             2000           0        0.00           0.00   \n",
       "834    000109761             1981           1        0.00           0.00   \n",
       "8739   000117360             1993           0        0.00           0.00   \n",
       "8742   000117367             1995           0        0.00           0.00   \n",
       "8751   000117393             1996           0        0.00           0.00   \n",
       "8776   000117450             1978           0        0.00           0.00   \n",
       "8691   000117277             1998           0        0.00           0.00   \n",
       "8649   000117224             1996           0        0.00           0.00   \n",
       "8405   000116804             1988           0        0.00           0.00   \n",
       "8648   000117223             1995           0        0.00           0.00   \n",
       "8444   000116879             1993           1        0.00           0.00   \n",
       "8457   000116895             1998           0        0.00           0.00   \n",
       "8467   000116912             1996           0        0.00           0.00   \n",
       "8473   000116919             1994           0        0.00           0.00   \n",
       "8475   000116922             1993           0        0.00           0.00   \n",
       "8482   000116929             2000           1        0.00           0.00   \n",
       "8575   000117085             1996           0        0.00           0.00   \n",
       "8581   000117098             1996           0        0.00           0.00   \n",
       "8586   000117109             1997           0        0.00           0.00   \n",
       "...          ...              ...         ...         ...            ...   \n",
       "6070   000118675             1993           0        1.00           1.00   \n",
       "9478   000119802             1993          -1        0.00           0.00   \n",
       "1706   000113302             1993           1        0.00           0.00   \n",
       "1685   000114845             1993           1        0.00           0.00   \n",
       "6457   000018032             1993           1        0.00           0.00   \n",
       "5102   000015401             1995           1        0.00           0.00   \n",
       "5101   000012216             1970           0        0.00           0.00   \n",
       "5100   000010966             1982           1        0.00           0.00   \n",
       "5099   000010911             1992           0        0.00           0.00   \n",
       "1701   000113200             1993           1       10.00          10.00   \n",
       "1702   000116293             1993           1        0.00           0.00   \n",
       "6456   000008216             1993           0        0.00           0.00   \n",
       "5098   000007994             1987           0        0.00           0.00   \n",
       "6455   000006888             1982           1        0.00           0.00   \n",
       "9889   000127052             1997           0        0.00           0.00   \n",
       "12593  000129160             1992          -1        0.00           0.00   \n",
       "6048   000127080             1993           1        0.40           0.40   \n",
       "1687   000119059             1993           1        0.00           0.00   \n",
       "1699   000116297             1994           1        0.00           0.00   \n",
       "1698   000126696             1993           1        0.00           0.00   \n",
       "1694   000112134             1993           1        0.00           0.00   \n",
       "6040   000127800             1993           1     1204.40        1204.40   \n",
       "1686   000119241             1993          -1        0.00           0.00   \n",
       "6053   000113742             1988           1        0.00           0.00   \n",
       "9175   000124463             1984           1        0.00           0.00   \n",
       "9881   000124122             1993           0       97.00          97.00   \n",
       "15312  000128456             1990           0        0.00           0.00   \n",
       "1689   000115523             1993          -1       42.00          42.00   \n",
       "6024   000125090             1986           1        0.00           0.00   \n",
       "1683   000122946             1993           1        0.00           0.00   \n",
       "\n",
       "      integralbalance consumetotal consumetimes       createcardtime  \\\n",
       "7779             0.00         0.00            0  2016-05-13 17:20:12   \n",
       "8685             0.00         0.00            0  2016-05-14 23:56:12   \n",
       "8710             0.00         0.00            0  2016-05-15 01:11:09   \n",
       "8718             0.00         0.00            0  2016-05-15 02:10:15   \n",
       "8725             0.00         0.00            0  2016-05-15 05:26:06   \n",
       "8728             0.00         0.00            0  2016-05-15 09:31:42   \n",
       "8729             0.00         0.00            0  2016-05-15 10:10:21   \n",
       "8731             0.00         0.00            0  2016-05-15 10:59:31   \n",
       "8732             0.00         0.00            0  2016-05-15 11:07:15   \n",
       "8733             0.00         0.00            0  2016-05-15 11:08:21   \n",
       "8734             0.00         0.00            0  2016-05-15 11:11:37   \n",
       "8735             0.00         0.00            0  2016-05-15 11:22:44   \n",
       "834              0.00         0.00            0  2016-05-02 20:38:17   \n",
       "8739             0.00         0.00            0  2016-05-15 11:48:35   \n",
       "8742             0.00         0.00            0  2016-05-15 12:23:47   \n",
       "8751             0.00         0.00            0  2016-05-15 13:12:05   \n",
       "8776             0.00         0.00            0  2016-05-15 14:21:12   \n",
       "8691             0.00         0.00            0  2016-05-15 00:09:09   \n",
       "8649             0.00         0.00            0  2016-05-14 23:17:10   \n",
       "8405             0.00         0.00            0  2016-05-14 20:26:36   \n",
       "8648             0.00         0.00            0  2016-05-14 23:17:06   \n",
       "8444             0.00         0.00            0  2016-05-14 20:49:06   \n",
       "8457             0.00         0.00            0  2016-05-14 20:55:14   \n",
       "8467             0.00         0.00            0  2016-05-14 21:01:16   \n",
       "8473             0.00         0.00            0  2016-05-14 21:03:08   \n",
       "8475             0.00         0.00            0  2016-05-14 21:04:12   \n",
       "8482             0.00         0.00            0  2016-05-14 21:08:31   \n",
       "8575             0.00         0.00            0  2016-05-14 22:08:03   \n",
       "8581             0.00         0.00            0  2016-05-14 22:13:37   \n",
       "8586             0.00         0.00            0  2016-05-14 22:17:15   \n",
       "...               ...          ...          ...                  ...   \n",
       "6070             0.00       302.00            1  2015-12-11 18:41:50   \n",
       "9478            63.00       630.00            2  2015-12-10 14:33:33   \n",
       "1706           300.00       300.00            2  2015-11-10 15:25:17   \n",
       "1685          1171.00      1171.00            6  2014-10-19 22:04:07   \n",
       "6457             0.00         0.00            0  2015-11-12 13:30:19   \n",
       "5102             0.00         0.00            0  2015-11-03 21:40:51   \n",
       "5101             0.00         0.00            0  2015-10-25 21:01:51   \n",
       "5100             0.00         0.00            0  2015-10-22 22:07:38   \n",
       "5099             0.00         0.00            0  2015-10-22 21:30:24   \n",
       "1701           615.00       615.00            4  2015-10-10 17:05:04   \n",
       "1702           542.00       542.00            5  2015-10-10 17:05:04   \n",
       "6456             0.00         0.00            0  2015-10-16 10:58:20   \n",
       "5098             0.00         0.00            0  2015-10-15 21:23:53   \n",
       "6455             0.00         0.00            0  2015-10-12 15:17:05   \n",
       "9889           863.00      9891.00           41  2014-12-19 13:17:35   \n",
       "12593           44.00      4034.00           21  2014-06-21 13:36:15   \n",
       "6048             0.00      1379.60            7  2015-06-06 21:21:27   \n",
       "1687           619.00       619.00            3  2015-01-31 21:23:56   \n",
       "1699           331.00       331.00            1  2015-09-25 19:34:10   \n",
       "1698           249.00       249.00            1  2015-09-15 23:06:10   \n",
       "1694             0.00         0.00            0  2015-09-15 19:47:25   \n",
       "6040             0.00      2627.60            9  2015-02-22 19:06:41   \n",
       "1686         17879.00     18758.00          127  2014-10-31 20:23:15   \n",
       "6053             0.00         0.00            0  2015-07-30 19:39:13   \n",
       "9175             0.00         0.00            0  2015-07-27 22:24:02   \n",
       "9881            99.00      1003.00            2  2015-01-02 22:06:35   \n",
       "15312            0.00         0.00            3  2014-11-23 13:43:09   \n",
       "1689           458.00       508.00            3  2015-05-16 23:07:01   \n",
       "6024            13.00         0.00            0  2014-05-11 12:43:48   \n",
       "1683             0.00         0.00            0  2014-04-03 22:31:27   \n",
       "\n",
       "           lastconsumetime member_age_cut  \n",
       "7779                  null   member_age_5  \n",
       "8685                  null   member_age_5  \n",
       "8710                  null   member_age_5  \n",
       "8718                  null   member_age_5  \n",
       "8725                  null   member_age_5  \n",
       "8728                  null   member_age_5  \n",
       "8729                  null   member_age_5  \n",
       "8731                  null   member_age_4  \n",
       "8732                  null   member_age_6  \n",
       "8733                  null   member_age_4  \n",
       "8734                  null   member_age_5  \n",
       "8735                  null   member_age_6  \n",
       "834                   null   member_age_4  \n",
       "8739                  null   member_age_5  \n",
       "8742                  null   member_age_5  \n",
       "8751                  null   member_age_5  \n",
       "8776                  null   member_age_4  \n",
       "8691                  null   member_age_5  \n",
       "8649                  null   member_age_5  \n",
       "8405                  null   member_age_5  \n",
       "8648                  null   member_age_5  \n",
       "8444                  null   member_age_5  \n",
       "8457                  null   member_age_5  \n",
       "8467                  null   member_age_5  \n",
       "8473                  null   member_age_5  \n",
       "8475                  null   member_age_5  \n",
       "8482                  null   member_age_6  \n",
       "8575                  null   member_age_5  \n",
       "8581                  null   member_age_5  \n",
       "8586                  null   member_age_5  \n",
       "...                    ...            ...  \n",
       "6070   2015-12-11 18:42:55   member_age_5  \n",
       "9478   2015-12-10 23:15:02   member_age_5  \n",
       "1706   2015-11-22 22:59:16   member_age_5  \n",
       "1685   2015-11-20 22:15:55   member_age_5  \n",
       "6457   2015-11-12 13:30:19   member_age_5  \n",
       "5102   2015-11-03 21:40:51   member_age_5  \n",
       "5101   2015-10-25 21:01:51   member_age_3  \n",
       "5100   2015-10-22 22:07:38   member_age_4  \n",
       "5099   2015-10-22 21:30:24   member_age_5  \n",
       "1701   2015-10-19 14:18:28   member_age_5  \n",
       "1702   2015-10-17 01:18:37   member_age_5  \n",
       "6456   2015-10-16 10:58:20   member_age_5  \n",
       "5098   2015-10-15 21:23:53   member_age_4  \n",
       "6455   2015-10-12 15:17:05   member_age_4  \n",
       "9889   2015-10-04 01:28:55   member_age_5  \n",
       "12593  2015-09-30 01:29:59   member_age_5  \n",
       "6048   2015-09-29 15:23:10   member_age_5  \n",
       "1687   2015-09-26 21:40:16   member_age_5  \n",
       "1699   2015-09-26 13:35:22   member_age_5  \n",
       "1698   2015-09-18 19:15:19   member_age_5  \n",
       "1694   2015-09-15 19:47:25   member_age_5  \n",
       "6040   2015-08-18 22:05:28   member_age_5  \n",
       "1686   2015-08-12 20:09:38   member_age_5  \n",
       "6053   2015-07-30 19:39:13   member_age_5  \n",
       "9175   2015-07-27 22:24:02   member_age_4  \n",
       "9881   2015-07-23 22:47:01   member_age_5  \n",
       "15312  2015-07-04 20:23:17   member_age_5  \n",
       "1689   2015-06-05 22:21:28   member_age_5  \n",
       "6024   2014-12-16 08:45:47   member_age_4  \n",
       "1683   2014-04-03 22:31:27   member_age_5  \n",
       "\n",
       "[15559 rows x 11 columns]"
      ]
     },
     "execution_count": 19,
     "metadata": {},
     "output_type": "execute_result"
    }
   ],
   "source": [
    "df.sort_values('lastconsumetime', ascending=False)"
   ]
  },
  {
   "cell_type": "markdown",
   "metadata": {},
   "source": [
    "### 加入代码用对应createcardtime填充lastconsumetime缺失值后"
   ]
  },
  {
   "cell_type": "code",
   "execution_count": 42,
   "metadata": {
    "collapsed": false
   },
   "outputs": [
    {
     "data": {
      "text/html": [
       "<div>\n",
       "<table border=\"1\" class=\"dataframe\">\n",
       "  <thead>\n",
       "    <tr style=\"text-align: right;\">\n",
       "      <th></th>\n",
       "      <th>kmid</th>\n",
       "      <th>member_birthday</th>\n",
       "      <th>km_sex</th>\n",
       "      <th>accountcash</th>\n",
       "      <th>accountbalance</th>\n",
       "      <th>integralbalance</th>\n",
       "      <th>consumetotal</th>\n",
       "      <th>consumetimes</th>\n",
       "      <th>createcardtime</th>\n",
       "      <th>lastconsumetime</th>\n",
       "      <th>member_age_cut</th>\n",
       "      <th>lastconsume_diff_now</th>\n",
       "    </tr>\n",
       "  </thead>\n",
       "  <tbody>\n",
       "    <tr>\n",
       "      <th>14477</th>\n",
       "      <td>000129618</td>\n",
       "      <td>1993</td>\n",
       "      <td>1</td>\n",
       "      <td>174.00</td>\n",
       "      <td>174.00</td>\n",
       "      <td>25.00</td>\n",
       "      <td>126.00</td>\n",
       "      <td>2</td>\n",
       "      <td>2016-05-29 15:13:00</td>\n",
       "      <td>2016-06-02 04:21:17</td>\n",
       "      <td>member_age_5</td>\n",
       "      <td>344</td>\n",
       "    </tr>\n",
       "    <tr>\n",
       "      <th>9038</th>\n",
       "      <td>000117849</td>\n",
       "      <td>1986</td>\n",
       "      <td>1</td>\n",
       "      <td>740.00</td>\n",
       "      <td>740.00</td>\n",
       "      <td>38.00</td>\n",
       "      <td>860.00</td>\n",
       "      <td>15</td>\n",
       "      <td>2016-05-15 22:11:53</td>\n",
       "      <td>2016-06-02 04:01:19</td>\n",
       "      <td>member_age_4</td>\n",
       "      <td>344</td>\n",
       "    </tr>\n",
       "    <tr>\n",
       "      <th>12264</th>\n",
       "      <td>000129549</td>\n",
       "      <td>1993</td>\n",
       "      <td>0</td>\n",
       "      <td>15.00</td>\n",
       "      <td>15.00</td>\n",
       "      <td>56.00</td>\n",
       "      <td>285.00</td>\n",
       "      <td>4</td>\n",
       "      <td>2016-05-23 16:16:12</td>\n",
       "      <td>2016-06-02 02:44:58</td>\n",
       "      <td>member_age_5</td>\n",
       "      <td>344</td>\n",
       "    </tr>\n",
       "    <tr>\n",
       "      <th>895</th>\n",
       "      <td>000109857</td>\n",
       "      <td>1989</td>\n",
       "      <td>0</td>\n",
       "      <td>0.00</td>\n",
       "      <td>0.00</td>\n",
       "      <td>51.00</td>\n",
       "      <td>1089.00</td>\n",
       "      <td>8</td>\n",
       "      <td>2016-05-02 21:44:11</td>\n",
       "      <td>2016-06-02 02:37:34</td>\n",
       "      <td>member_age_5</td>\n",
       "      <td>344</td>\n",
       "    </tr>\n",
       "    <tr>\n",
       "      <th>13257</th>\n",
       "      <td>000124913</td>\n",
       "      <td>1985</td>\n",
       "      <td>0</td>\n",
       "      <td>435.00</td>\n",
       "      <td>435.00</td>\n",
       "      <td>120.00</td>\n",
       "      <td>2465.00</td>\n",
       "      <td>15</td>\n",
       "      <td>2016-05-26 21:29:59</td>\n",
       "      <td>2016-06-02 02:33:17</td>\n",
       "      <td>member_age_4</td>\n",
       "      <td>344</td>\n",
       "    </tr>\n",
       "    <tr>\n",
       "      <th>14197</th>\n",
       "      <td>000126475</td>\n",
       "      <td>1985</td>\n",
       "      <td>1</td>\n",
       "      <td>362.00</td>\n",
       "      <td>362.00</td>\n",
       "      <td>67.00</td>\n",
       "      <td>1438.00</td>\n",
       "      <td>12</td>\n",
       "      <td>2016-05-28 22:11:35</td>\n",
       "      <td>2016-06-02 02:09:35</td>\n",
       "      <td>member_age_4</td>\n",
       "      <td>344</td>\n",
       "    </tr>\n",
       "    <tr>\n",
       "      <th>12239</th>\n",
       "      <td>000128056</td>\n",
       "      <td>1993</td>\n",
       "      <td>0</td>\n",
       "      <td>34.00</td>\n",
       "      <td>34.00</td>\n",
       "      <td>52.00</td>\n",
       "      <td>266.00</td>\n",
       "      <td>3</td>\n",
       "      <td>2016-05-23 15:43:03</td>\n",
       "      <td>2016-06-02 02:04:47</td>\n",
       "      <td>member_age_5</td>\n",
       "      <td>344</td>\n",
       "    </tr>\n",
       "    <tr>\n",
       "      <th>9626</th>\n",
       "      <td>000118827</td>\n",
       "      <td>1991</td>\n",
       "      <td>1</td>\n",
       "      <td>879.00</td>\n",
       "      <td>1151.00</td>\n",
       "      <td>110.00</td>\n",
       "      <td>1449.00</td>\n",
       "      <td>5</td>\n",
       "      <td>2016-05-17 20:50:45</td>\n",
       "      <td>2016-06-02 02:01:51</td>\n",
       "      <td>member_age_5</td>\n",
       "      <td>344</td>\n",
       "    </tr>\n",
       "    <tr>\n",
       "      <th>7802</th>\n",
       "      <td>000129551</td>\n",
       "      <td>1993</td>\n",
       "      <td>-1</td>\n",
       "      <td>10.00</td>\n",
       "      <td>10.00</td>\n",
       "      <td>2590.00</td>\n",
       "      <td>2590.00</td>\n",
       "      <td>3</td>\n",
       "      <td>2016-05-13 18:21:36</td>\n",
       "      <td>2016-06-02 01:49:02</td>\n",
       "      <td>member_age_5</td>\n",
       "      <td>344</td>\n",
       "    </tr>\n",
       "    <tr>\n",
       "      <th>8813</th>\n",
       "      <td>000125548</td>\n",
       "      <td>1993</td>\n",
       "      <td>1</td>\n",
       "      <td>88.00</td>\n",
       "      <td>88.00</td>\n",
       "      <td>42.00</td>\n",
       "      <td>212.00</td>\n",
       "      <td>2</td>\n",
       "      <td>2016-05-15 15:31:41</td>\n",
       "      <td>2016-06-02 01:45:08</td>\n",
       "      <td>member_age_5</td>\n",
       "      <td>344</td>\n",
       "    </tr>\n",
       "    <tr>\n",
       "      <th>9182</th>\n",
       "      <td>000129593</td>\n",
       "      <td>1984</td>\n",
       "      <td>1</td>\n",
       "      <td>0.00</td>\n",
       "      <td>0.00</td>\n",
       "      <td>64.00</td>\n",
       "      <td>654.00</td>\n",
       "      <td>4</td>\n",
       "      <td>2016-05-16 16:04:27</td>\n",
       "      <td>2016-06-02 01:40:48</td>\n",
       "      <td>member_age_4</td>\n",
       "      <td>344</td>\n",
       "    </tr>\n",
       "    <tr>\n",
       "      <th>10047</th>\n",
       "      <td>000119612</td>\n",
       "      <td>1990</td>\n",
       "      <td>1</td>\n",
       "      <td>528.00</td>\n",
       "      <td>528.00</td>\n",
       "      <td>129.00</td>\n",
       "      <td>2691.00</td>\n",
       "      <td>20</td>\n",
       "      <td>2016-05-18 22:00:17</td>\n",
       "      <td>2016-06-02 01:37:59</td>\n",
       "      <td>member_age_5</td>\n",
       "      <td>344</td>\n",
       "    </tr>\n",
       "    <tr>\n",
       "      <th>10189</th>\n",
       "      <td>000127441</td>\n",
       "      <td>1993</td>\n",
       "      <td>1</td>\n",
       "      <td>0.00</td>\n",
       "      <td>0.00</td>\n",
       "      <td>143190.00</td>\n",
       "      <td>273518.00</td>\n",
       "      <td>1160</td>\n",
       "      <td>2014-06-13 20:33:32</td>\n",
       "      <td>2016-06-02 01:35:18</td>\n",
       "      <td>member_age_5</td>\n",
       "      <td>344</td>\n",
       "    </tr>\n",
       "    <tr>\n",
       "      <th>6143</th>\n",
       "      <td>000113220</td>\n",
       "      <td>1993</td>\n",
       "      <td>1</td>\n",
       "      <td>488.00</td>\n",
       "      <td>488.00</td>\n",
       "      <td>1312.00</td>\n",
       "      <td>1512.00</td>\n",
       "      <td>12</td>\n",
       "      <td>2016-05-08 20:03:43</td>\n",
       "      <td>2016-06-02 01:25:39</td>\n",
       "      <td>member_age_5</td>\n",
       "      <td>344</td>\n",
       "    </tr>\n",
       "    <tr>\n",
       "      <th>4048</th>\n",
       "      <td>000064637</td>\n",
       "      <td>1989</td>\n",
       "      <td>1</td>\n",
       "      <td>0.00</td>\n",
       "      <td>0.00</td>\n",
       "      <td>74946.00</td>\n",
       "      <td>826982.00</td>\n",
       "      <td>7663</td>\n",
       "      <td>2016-02-10 03:49:36</td>\n",
       "      <td>2016-06-02 01:23:33</td>\n",
       "      <td>member_age_5</td>\n",
       "      <td>344</td>\n",
       "    </tr>\n",
       "    <tr>\n",
       "      <th>4973</th>\n",
       "      <td>000111315</td>\n",
       "      <td>1991</td>\n",
       "      <td>1</td>\n",
       "      <td>0.00</td>\n",
       "      <td>0.00</td>\n",
       "      <td>1025.00</td>\n",
       "      <td>3445.00</td>\n",
       "      <td>8</td>\n",
       "      <td>2016-05-05 21:31:28</td>\n",
       "      <td>2016-06-02 01:23:02</td>\n",
       "      <td>member_age_5</td>\n",
       "      <td>344</td>\n",
       "    </tr>\n",
       "    <tr>\n",
       "      <th>14835</th>\n",
       "      <td>000129145</td>\n",
       "      <td>1995</td>\n",
       "      <td>1</td>\n",
       "      <td>0.00</td>\n",
       "      <td>0.00</td>\n",
       "      <td>176.00</td>\n",
       "      <td>1799.00</td>\n",
       "      <td>13</td>\n",
       "      <td>2016-05-30 15:12:57</td>\n",
       "      <td>2016-06-02 01:22:43</td>\n",
       "      <td>member_age_5</td>\n",
       "      <td>344</td>\n",
       "    </tr>\n",
       "    <tr>\n",
       "      <th>11167</th>\n",
       "      <td>000121451</td>\n",
       "      <td>1989</td>\n",
       "      <td>1</td>\n",
       "      <td>0.00</td>\n",
       "      <td>0.00</td>\n",
       "      <td>18497.00</td>\n",
       "      <td>18497.00</td>\n",
       "      <td>37</td>\n",
       "      <td>2016-05-21 01:08:42</td>\n",
       "      <td>2016-06-02 01:16:14</td>\n",
       "      <td>member_age_5</td>\n",
       "      <td>344</td>\n",
       "    </tr>\n",
       "    <tr>\n",
       "      <th>10187</th>\n",
       "      <td>000129617</td>\n",
       "      <td>1993</td>\n",
       "      <td>-1</td>\n",
       "      <td>0.00</td>\n",
       "      <td>0.00</td>\n",
       "      <td>127823.00</td>\n",
       "      <td>238695.00</td>\n",
       "      <td>1146</td>\n",
       "      <td>2014-03-22 21:38:00</td>\n",
       "      <td>2016-06-02 01:06:10</td>\n",
       "      <td>member_age_5</td>\n",
       "      <td>344</td>\n",
       "    </tr>\n",
       "    <tr>\n",
       "      <th>10821</th>\n",
       "      <td>000120869</td>\n",
       "      <td>1984</td>\n",
       "      <td>1</td>\n",
       "      <td>139.00</td>\n",
       "      <td>139.00</td>\n",
       "      <td>145.00</td>\n",
       "      <td>1461.00</td>\n",
       "      <td>3</td>\n",
       "      <td>2016-05-20 20:13:20</td>\n",
       "      <td>2016-06-02 01:04:44</td>\n",
       "      <td>member_age_4</td>\n",
       "      <td>344</td>\n",
       "    </tr>\n",
       "    <tr>\n",
       "      <th>1733</th>\n",
       "      <td>000122360</td>\n",
       "      <td>1993</td>\n",
       "      <td>1</td>\n",
       "      <td>315.00</td>\n",
       "      <td>315.00</td>\n",
       "      <td>982.50</td>\n",
       "      <td>4909.00</td>\n",
       "      <td>28</td>\n",
       "      <td>2016-05-02 01:03:51</td>\n",
       "      <td>2016-06-02 01:01:16</td>\n",
       "      <td>member_age_5</td>\n",
       "      <td>344</td>\n",
       "    </tr>\n",
       "    <tr>\n",
       "      <th>10860</th>\n",
       "      <td>000120939</td>\n",
       "      <td>1993</td>\n",
       "      <td>0</td>\n",
       "      <td>0.00</td>\n",
       "      <td>0.00</td>\n",
       "      <td>645.00</td>\n",
       "      <td>645.00</td>\n",
       "      <td>2</td>\n",
       "      <td>2016-05-20 20:35:12</td>\n",
       "      <td>2016-06-02 01:01:04</td>\n",
       "      <td>member_age_5</td>\n",
       "      <td>344</td>\n",
       "    </tr>\n",
       "    <tr>\n",
       "      <th>5485</th>\n",
       "      <td>000113750</td>\n",
       "      <td>1994</td>\n",
       "      <td>1</td>\n",
       "      <td>0.00</td>\n",
       "      <td>0.00</td>\n",
       "      <td>46134.00</td>\n",
       "      <td>503562.00</td>\n",
       "      <td>5034</td>\n",
       "      <td>2015-02-13 13:02:44</td>\n",
       "      <td>2016-06-02 00:51:28</td>\n",
       "      <td>member_age_5</td>\n",
       "      <td>344</td>\n",
       "    </tr>\n",
       "    <tr>\n",
       "      <th>5054</th>\n",
       "      <td>000129347</td>\n",
       "      <td>1992</td>\n",
       "      <td>1</td>\n",
       "      <td>0.00</td>\n",
       "      <td>0.00</td>\n",
       "      <td>120.00</td>\n",
       "      <td>1227.00</td>\n",
       "      <td>7</td>\n",
       "      <td>2016-05-05 23:14:07</td>\n",
       "      <td>2016-06-02 00:50:46</td>\n",
       "      <td>member_age_5</td>\n",
       "      <td>344</td>\n",
       "    </tr>\n",
       "    <tr>\n",
       "      <th>1238</th>\n",
       "      <td>000115519</td>\n",
       "      <td>1993</td>\n",
       "      <td>1</td>\n",
       "      <td>78.00</td>\n",
       "      <td>78.00</td>\n",
       "      <td>232.00</td>\n",
       "      <td>2422.00</td>\n",
       "      <td>11</td>\n",
       "      <td>2016-05-03 22:04:35</td>\n",
       "      <td>2016-06-02 00:49:55</td>\n",
       "      <td>member_age_5</td>\n",
       "      <td>344</td>\n",
       "    </tr>\n",
       "    <tr>\n",
       "      <th>5783</th>\n",
       "      <td>000125371</td>\n",
       "      <td>1993</td>\n",
       "      <td>1</td>\n",
       "      <td>0.00</td>\n",
       "      <td>832.00</td>\n",
       "      <td>0.00</td>\n",
       "      <td>1168.00</td>\n",
       "      <td>9</td>\n",
       "      <td>2016-05-07 22:39:38</td>\n",
       "      <td>2016-06-02 00:45:10</td>\n",
       "      <td>member_age_5</td>\n",
       "      <td>344</td>\n",
       "    </tr>\n",
       "    <tr>\n",
       "      <th>6562</th>\n",
       "      <td>000124423</td>\n",
       "      <td>1993</td>\n",
       "      <td>-1</td>\n",
       "      <td>407.00</td>\n",
       "      <td>407.00</td>\n",
       "      <td>109.00</td>\n",
       "      <td>2228.00</td>\n",
       "      <td>12</td>\n",
       "      <td>2016-05-09 21:32:21</td>\n",
       "      <td>2016-06-02 00:44:03</td>\n",
       "      <td>member_age_5</td>\n",
       "      <td>344</td>\n",
       "    </tr>\n",
       "    <tr>\n",
       "      <th>10128</th>\n",
       "      <td>000119748</td>\n",
       "      <td>1998</td>\n",
       "      <td>1</td>\n",
       "      <td>59.00</td>\n",
       "      <td>59.00</td>\n",
       "      <td>46.00</td>\n",
       "      <td>941.00</td>\n",
       "      <td>6</td>\n",
       "      <td>2016-05-18 23:28:53</td>\n",
       "      <td>2016-06-02 00:43:47</td>\n",
       "      <td>member_age_5</td>\n",
       "      <td>344</td>\n",
       "    </tr>\n",
       "    <tr>\n",
       "      <th>8257</th>\n",
       "      <td>000129514</td>\n",
       "      <td>1993</td>\n",
       "      <td>1</td>\n",
       "      <td>37.00</td>\n",
       "      <td>37.00</td>\n",
       "      <td>171.00</td>\n",
       "      <td>863.00</td>\n",
       "      <td>4</td>\n",
       "      <td>2016-05-14 15:08:18</td>\n",
       "      <td>2016-06-02 00:39:33</td>\n",
       "      <td>member_age_5</td>\n",
       "      <td>344</td>\n",
       "    </tr>\n",
       "    <tr>\n",
       "      <th>8073</th>\n",
       "      <td>000116271</td>\n",
       "      <td>1998</td>\n",
       "      <td>1</td>\n",
       "      <td>0.00</td>\n",
       "      <td>0.00</td>\n",
       "      <td>130.00</td>\n",
       "      <td>130.00</td>\n",
       "      <td>1</td>\n",
       "      <td>2016-05-13 22:50:36</td>\n",
       "      <td>2016-06-02 00:35:03</td>\n",
       "      <td>member_age_5</td>\n",
       "      <td>344</td>\n",
       "    </tr>\n",
       "    <tr>\n",
       "      <th>...</th>\n",
       "      <td>...</td>\n",
       "      <td>...</td>\n",
       "      <td>...</td>\n",
       "      <td>...</td>\n",
       "      <td>...</td>\n",
       "      <td>...</td>\n",
       "      <td>...</td>\n",
       "      <td>...</td>\n",
       "      <td>...</td>\n",
       "      <td>...</td>\n",
       "      <td>...</td>\n",
       "      <td>...</td>\n",
       "    </tr>\n",
       "    <tr>\n",
       "      <th>6070</th>\n",
       "      <td>000118675</td>\n",
       "      <td>1993</td>\n",
       "      <td>0</td>\n",
       "      <td>1.00</td>\n",
       "      <td>1.00</td>\n",
       "      <td>0.00</td>\n",
       "      <td>302.00</td>\n",
       "      <td>1</td>\n",
       "      <td>2015-12-11 18:41:50</td>\n",
       "      <td>2015-12-11 18:42:55</td>\n",
       "      <td>member_age_5</td>\n",
       "      <td>517</td>\n",
       "    </tr>\n",
       "    <tr>\n",
       "      <th>9478</th>\n",
       "      <td>000119802</td>\n",
       "      <td>1993</td>\n",
       "      <td>-1</td>\n",
       "      <td>0.00</td>\n",
       "      <td>0.00</td>\n",
       "      <td>63.00</td>\n",
       "      <td>630.00</td>\n",
       "      <td>2</td>\n",
       "      <td>2015-12-10 14:33:33</td>\n",
       "      <td>2015-12-10 23:15:02</td>\n",
       "      <td>member_age_5</td>\n",
       "      <td>518</td>\n",
       "    </tr>\n",
       "    <tr>\n",
       "      <th>1706</th>\n",
       "      <td>000113302</td>\n",
       "      <td>1993</td>\n",
       "      <td>1</td>\n",
       "      <td>0.00</td>\n",
       "      <td>0.00</td>\n",
       "      <td>300.00</td>\n",
       "      <td>300.00</td>\n",
       "      <td>2</td>\n",
       "      <td>2015-11-10 15:25:17</td>\n",
       "      <td>2015-11-22 22:59:16</td>\n",
       "      <td>member_age_5</td>\n",
       "      <td>536</td>\n",
       "    </tr>\n",
       "    <tr>\n",
       "      <th>1685</th>\n",
       "      <td>000114845</td>\n",
       "      <td>1993</td>\n",
       "      <td>1</td>\n",
       "      <td>0.00</td>\n",
       "      <td>0.00</td>\n",
       "      <td>1171.00</td>\n",
       "      <td>1171.00</td>\n",
       "      <td>6</td>\n",
       "      <td>2014-10-19 22:04:07</td>\n",
       "      <td>2015-11-20 22:15:55</td>\n",
       "      <td>member_age_5</td>\n",
       "      <td>538</td>\n",
       "    </tr>\n",
       "    <tr>\n",
       "      <th>6457</th>\n",
       "      <td>000018032</td>\n",
       "      <td>1993</td>\n",
       "      <td>1</td>\n",
       "      <td>0.00</td>\n",
       "      <td>0.00</td>\n",
       "      <td>0.00</td>\n",
       "      <td>0.00</td>\n",
       "      <td>0</td>\n",
       "      <td>2015-11-12 13:30:19</td>\n",
       "      <td>2015-11-12 13:30:19</td>\n",
       "      <td>member_age_5</td>\n",
       "      <td>547</td>\n",
       "    </tr>\n",
       "    <tr>\n",
       "      <th>5102</th>\n",
       "      <td>000015401</td>\n",
       "      <td>1995</td>\n",
       "      <td>1</td>\n",
       "      <td>0.00</td>\n",
       "      <td>0.00</td>\n",
       "      <td>0.00</td>\n",
       "      <td>0.00</td>\n",
       "      <td>0</td>\n",
       "      <td>2015-11-03 21:40:51</td>\n",
       "      <td>2015-11-03 21:40:51</td>\n",
       "      <td>member_age_5</td>\n",
       "      <td>555</td>\n",
       "    </tr>\n",
       "    <tr>\n",
       "      <th>5101</th>\n",
       "      <td>000012216</td>\n",
       "      <td>1970</td>\n",
       "      <td>0</td>\n",
       "      <td>0.00</td>\n",
       "      <td>0.00</td>\n",
       "      <td>0.00</td>\n",
       "      <td>0.00</td>\n",
       "      <td>0</td>\n",
       "      <td>2015-10-25 21:01:51</td>\n",
       "      <td>2015-10-25 21:01:51</td>\n",
       "      <td>member_age_3</td>\n",
       "      <td>564</td>\n",
       "    </tr>\n",
       "    <tr>\n",
       "      <th>5100</th>\n",
       "      <td>000010966</td>\n",
       "      <td>1982</td>\n",
       "      <td>1</td>\n",
       "      <td>0.00</td>\n",
       "      <td>0.00</td>\n",
       "      <td>0.00</td>\n",
       "      <td>0.00</td>\n",
       "      <td>0</td>\n",
       "      <td>2015-10-22 22:07:38</td>\n",
       "      <td>2015-10-22 22:07:38</td>\n",
       "      <td>member_age_4</td>\n",
       "      <td>567</td>\n",
       "    </tr>\n",
       "    <tr>\n",
       "      <th>5099</th>\n",
       "      <td>000010911</td>\n",
       "      <td>1992</td>\n",
       "      <td>0</td>\n",
       "      <td>0.00</td>\n",
       "      <td>0.00</td>\n",
       "      <td>0.00</td>\n",
       "      <td>0.00</td>\n",
       "      <td>0</td>\n",
       "      <td>2015-10-22 21:30:24</td>\n",
       "      <td>2015-10-22 21:30:24</td>\n",
       "      <td>member_age_5</td>\n",
       "      <td>567</td>\n",
       "    </tr>\n",
       "    <tr>\n",
       "      <th>1701</th>\n",
       "      <td>000113200</td>\n",
       "      <td>1993</td>\n",
       "      <td>1</td>\n",
       "      <td>10.00</td>\n",
       "      <td>10.00</td>\n",
       "      <td>615.00</td>\n",
       "      <td>615.00</td>\n",
       "      <td>4</td>\n",
       "      <td>2015-10-10 17:05:04</td>\n",
       "      <td>2015-10-19 14:18:28</td>\n",
       "      <td>member_age_5</td>\n",
       "      <td>571</td>\n",
       "    </tr>\n",
       "    <tr>\n",
       "      <th>1702</th>\n",
       "      <td>000116293</td>\n",
       "      <td>1993</td>\n",
       "      <td>1</td>\n",
       "      <td>0.00</td>\n",
       "      <td>0.00</td>\n",
       "      <td>542.00</td>\n",
       "      <td>542.00</td>\n",
       "      <td>5</td>\n",
       "      <td>2015-10-10 17:05:04</td>\n",
       "      <td>2015-10-17 01:18:37</td>\n",
       "      <td>member_age_5</td>\n",
       "      <td>573</td>\n",
       "    </tr>\n",
       "    <tr>\n",
       "      <th>6456</th>\n",
       "      <td>000008216</td>\n",
       "      <td>1993</td>\n",
       "      <td>0</td>\n",
       "      <td>0.00</td>\n",
       "      <td>0.00</td>\n",
       "      <td>0.00</td>\n",
       "      <td>0.00</td>\n",
       "      <td>0</td>\n",
       "      <td>2015-10-16 10:58:20</td>\n",
       "      <td>2015-10-16 10:58:20</td>\n",
       "      <td>member_age_5</td>\n",
       "      <td>574</td>\n",
       "    </tr>\n",
       "    <tr>\n",
       "      <th>5098</th>\n",
       "      <td>000007994</td>\n",
       "      <td>1987</td>\n",
       "      <td>0</td>\n",
       "      <td>0.00</td>\n",
       "      <td>0.00</td>\n",
       "      <td>0.00</td>\n",
       "      <td>0.00</td>\n",
       "      <td>0</td>\n",
       "      <td>2015-10-15 21:23:53</td>\n",
       "      <td>2015-10-15 21:23:53</td>\n",
       "      <td>member_age_4</td>\n",
       "      <td>574</td>\n",
       "    </tr>\n",
       "    <tr>\n",
       "      <th>6455</th>\n",
       "      <td>000006888</td>\n",
       "      <td>1982</td>\n",
       "      <td>1</td>\n",
       "      <td>0.00</td>\n",
       "      <td>0.00</td>\n",
       "      <td>0.00</td>\n",
       "      <td>0.00</td>\n",
       "      <td>0</td>\n",
       "      <td>2015-10-12 15:17:05</td>\n",
       "      <td>2015-10-12 15:17:05</td>\n",
       "      <td>member_age_4</td>\n",
       "      <td>578</td>\n",
       "    </tr>\n",
       "    <tr>\n",
       "      <th>9889</th>\n",
       "      <td>000127052</td>\n",
       "      <td>1997</td>\n",
       "      <td>0</td>\n",
       "      <td>0.00</td>\n",
       "      <td>0.00</td>\n",
       "      <td>863.00</td>\n",
       "      <td>9891.00</td>\n",
       "      <td>41</td>\n",
       "      <td>2014-12-19 13:17:35</td>\n",
       "      <td>2015-10-04 01:28:55</td>\n",
       "      <td>member_age_5</td>\n",
       "      <td>586</td>\n",
       "    </tr>\n",
       "    <tr>\n",
       "      <th>12593</th>\n",
       "      <td>000129160</td>\n",
       "      <td>1992</td>\n",
       "      <td>-1</td>\n",
       "      <td>0.00</td>\n",
       "      <td>0.00</td>\n",
       "      <td>44.00</td>\n",
       "      <td>4034.00</td>\n",
       "      <td>21</td>\n",
       "      <td>2014-06-21 13:36:15</td>\n",
       "      <td>2015-09-30 01:29:59</td>\n",
       "      <td>member_age_5</td>\n",
       "      <td>590</td>\n",
       "    </tr>\n",
       "    <tr>\n",
       "      <th>6048</th>\n",
       "      <td>000127080</td>\n",
       "      <td>1993</td>\n",
       "      <td>1</td>\n",
       "      <td>0.40</td>\n",
       "      <td>0.40</td>\n",
       "      <td>0.00</td>\n",
       "      <td>1379.60</td>\n",
       "      <td>7</td>\n",
       "      <td>2015-06-06 21:21:27</td>\n",
       "      <td>2015-09-29 15:23:10</td>\n",
       "      <td>member_age_5</td>\n",
       "      <td>591</td>\n",
       "    </tr>\n",
       "    <tr>\n",
       "      <th>1687</th>\n",
       "      <td>000119059</td>\n",
       "      <td>1993</td>\n",
       "      <td>1</td>\n",
       "      <td>0.00</td>\n",
       "      <td>0.00</td>\n",
       "      <td>619.00</td>\n",
       "      <td>619.00</td>\n",
       "      <td>3</td>\n",
       "      <td>2015-01-31 21:23:56</td>\n",
       "      <td>2015-09-26 21:40:16</td>\n",
       "      <td>member_age_5</td>\n",
       "      <td>593</td>\n",
       "    </tr>\n",
       "    <tr>\n",
       "      <th>1699</th>\n",
       "      <td>000116297</td>\n",
       "      <td>1994</td>\n",
       "      <td>1</td>\n",
       "      <td>0.00</td>\n",
       "      <td>0.00</td>\n",
       "      <td>331.00</td>\n",
       "      <td>331.00</td>\n",
       "      <td>1</td>\n",
       "      <td>2015-09-25 19:34:10</td>\n",
       "      <td>2015-09-26 13:35:22</td>\n",
       "      <td>member_age_5</td>\n",
       "      <td>594</td>\n",
       "    </tr>\n",
       "    <tr>\n",
       "      <th>1698</th>\n",
       "      <td>000126696</td>\n",
       "      <td>1993</td>\n",
       "      <td>1</td>\n",
       "      <td>0.00</td>\n",
       "      <td>0.00</td>\n",
       "      <td>249.00</td>\n",
       "      <td>249.00</td>\n",
       "      <td>1</td>\n",
       "      <td>2015-09-15 23:06:10</td>\n",
       "      <td>2015-09-18 19:15:19</td>\n",
       "      <td>member_age_5</td>\n",
       "      <td>601</td>\n",
       "    </tr>\n",
       "    <tr>\n",
       "      <th>1694</th>\n",
       "      <td>000112134</td>\n",
       "      <td>1993</td>\n",
       "      <td>1</td>\n",
       "      <td>0.00</td>\n",
       "      <td>0.00</td>\n",
       "      <td>0.00</td>\n",
       "      <td>0.00</td>\n",
       "      <td>0</td>\n",
       "      <td>2015-09-15 19:47:25</td>\n",
       "      <td>2015-09-15 19:47:25</td>\n",
       "      <td>member_age_5</td>\n",
       "      <td>604</td>\n",
       "    </tr>\n",
       "    <tr>\n",
       "      <th>6040</th>\n",
       "      <td>000127800</td>\n",
       "      <td>1993</td>\n",
       "      <td>1</td>\n",
       "      <td>1204.40</td>\n",
       "      <td>1204.40</td>\n",
       "      <td>0.00</td>\n",
       "      <td>2627.60</td>\n",
       "      <td>9</td>\n",
       "      <td>2015-02-22 19:06:41</td>\n",
       "      <td>2015-08-18 22:05:28</td>\n",
       "      <td>member_age_5</td>\n",
       "      <td>632</td>\n",
       "    </tr>\n",
       "    <tr>\n",
       "      <th>1686</th>\n",
       "      <td>000119241</td>\n",
       "      <td>1993</td>\n",
       "      <td>-1</td>\n",
       "      <td>0.00</td>\n",
       "      <td>0.00</td>\n",
       "      <td>17879.00</td>\n",
       "      <td>18758.00</td>\n",
       "      <td>127</td>\n",
       "      <td>2014-10-31 20:23:15</td>\n",
       "      <td>2015-08-12 20:09:38</td>\n",
       "      <td>member_age_5</td>\n",
       "      <td>638</td>\n",
       "    </tr>\n",
       "    <tr>\n",
       "      <th>6053</th>\n",
       "      <td>000113742</td>\n",
       "      <td>1988</td>\n",
       "      <td>1</td>\n",
       "      <td>0.00</td>\n",
       "      <td>0.00</td>\n",
       "      <td>0.00</td>\n",
       "      <td>0.00</td>\n",
       "      <td>0</td>\n",
       "      <td>2015-07-30 19:39:13</td>\n",
       "      <td>2015-07-30 19:39:13</td>\n",
       "      <td>member_age_5</td>\n",
       "      <td>651</td>\n",
       "    </tr>\n",
       "    <tr>\n",
       "      <th>9175</th>\n",
       "      <td>000124463</td>\n",
       "      <td>1984</td>\n",
       "      <td>1</td>\n",
       "      <td>0.00</td>\n",
       "      <td>0.00</td>\n",
       "      <td>0.00</td>\n",
       "      <td>0.00</td>\n",
       "      <td>0</td>\n",
       "      <td>2015-07-27 22:24:02</td>\n",
       "      <td>2015-07-27 22:24:02</td>\n",
       "      <td>member_age_4</td>\n",
       "      <td>654</td>\n",
       "    </tr>\n",
       "    <tr>\n",
       "      <th>9881</th>\n",
       "      <td>000124122</td>\n",
       "      <td>1993</td>\n",
       "      <td>0</td>\n",
       "      <td>97.00</td>\n",
       "      <td>97.00</td>\n",
       "      <td>99.00</td>\n",
       "      <td>1003.00</td>\n",
       "      <td>2</td>\n",
       "      <td>2015-01-02 22:06:35</td>\n",
       "      <td>2015-07-23 22:47:01</td>\n",
       "      <td>member_age_5</td>\n",
       "      <td>658</td>\n",
       "    </tr>\n",
       "    <tr>\n",
       "      <th>15312</th>\n",
       "      <td>000128456</td>\n",
       "      <td>1990</td>\n",
       "      <td>0</td>\n",
       "      <td>0.00</td>\n",
       "      <td>0.00</td>\n",
       "      <td>0.00</td>\n",
       "      <td>0.00</td>\n",
       "      <td>3</td>\n",
       "      <td>2014-11-23 13:43:09</td>\n",
       "      <td>2015-07-04 20:23:17</td>\n",
       "      <td>member_age_5</td>\n",
       "      <td>677</td>\n",
       "    </tr>\n",
       "    <tr>\n",
       "      <th>1689</th>\n",
       "      <td>000115523</td>\n",
       "      <td>1993</td>\n",
       "      <td>-1</td>\n",
       "      <td>42.00</td>\n",
       "      <td>42.00</td>\n",
       "      <td>458.00</td>\n",
       "      <td>508.00</td>\n",
       "      <td>3</td>\n",
       "      <td>2015-05-16 23:07:01</td>\n",
       "      <td>2015-06-05 22:21:28</td>\n",
       "      <td>member_age_5</td>\n",
       "      <td>706</td>\n",
       "    </tr>\n",
       "    <tr>\n",
       "      <th>6024</th>\n",
       "      <td>000125090</td>\n",
       "      <td>1986</td>\n",
       "      <td>1</td>\n",
       "      <td>0.00</td>\n",
       "      <td>0.00</td>\n",
       "      <td>13.00</td>\n",
       "      <td>0.00</td>\n",
       "      <td>0</td>\n",
       "      <td>2014-05-11 12:43:48</td>\n",
       "      <td>2014-12-16 08:45:47</td>\n",
       "      <td>member_age_4</td>\n",
       "      <td>878</td>\n",
       "    </tr>\n",
       "    <tr>\n",
       "      <th>1683</th>\n",
       "      <td>000122946</td>\n",
       "      <td>1993</td>\n",
       "      <td>1</td>\n",
       "      <td>0.00</td>\n",
       "      <td>0.00</td>\n",
       "      <td>0.00</td>\n",
       "      <td>0.00</td>\n",
       "      <td>0</td>\n",
       "      <td>2014-04-03 22:31:27</td>\n",
       "      <td>2014-04-03 22:31:27</td>\n",
       "      <td>member_age_5</td>\n",
       "      <td>1134</td>\n",
       "    </tr>\n",
       "  </tbody>\n",
       "</table>\n",
       "<p>15559 rows × 12 columns</p>\n",
       "</div>"
      ],
      "text/plain": [
       "            kmid  member_birthday  km_sex accountcash accountbalance  \\\n",
       "14477  000129618             1993       1      174.00         174.00   \n",
       "9038   000117849             1986       1      740.00         740.00   \n",
       "12264  000129549             1993       0       15.00          15.00   \n",
       "895    000109857             1989       0        0.00           0.00   \n",
       "13257  000124913             1985       0      435.00         435.00   \n",
       "14197  000126475             1985       1      362.00         362.00   \n",
       "12239  000128056             1993       0       34.00          34.00   \n",
       "9626   000118827             1991       1      879.00        1151.00   \n",
       "7802   000129551             1993      -1       10.00          10.00   \n",
       "8813   000125548             1993       1       88.00          88.00   \n",
       "9182   000129593             1984       1        0.00           0.00   \n",
       "10047  000119612             1990       1      528.00         528.00   \n",
       "10189  000127441             1993       1        0.00           0.00   \n",
       "6143   000113220             1993       1      488.00         488.00   \n",
       "4048   000064637             1989       1        0.00           0.00   \n",
       "4973   000111315             1991       1        0.00           0.00   \n",
       "14835  000129145             1995       1        0.00           0.00   \n",
       "11167  000121451             1989       1        0.00           0.00   \n",
       "10187  000129617             1993      -1        0.00           0.00   \n",
       "10821  000120869             1984       1      139.00         139.00   \n",
       "1733   000122360             1993       1      315.00         315.00   \n",
       "10860  000120939             1993       0        0.00           0.00   \n",
       "5485   000113750             1994       1        0.00           0.00   \n",
       "5054   000129347             1992       1        0.00           0.00   \n",
       "1238   000115519             1993       1       78.00          78.00   \n",
       "5783   000125371             1993       1        0.00         832.00   \n",
       "6562   000124423             1993      -1      407.00         407.00   \n",
       "10128  000119748             1998       1       59.00          59.00   \n",
       "8257   000129514             1993       1       37.00          37.00   \n",
       "8073   000116271             1998       1        0.00           0.00   \n",
       "...          ...              ...     ...         ...            ...   \n",
       "6070   000118675             1993       0        1.00           1.00   \n",
       "9478   000119802             1993      -1        0.00           0.00   \n",
       "1706   000113302             1993       1        0.00           0.00   \n",
       "1685   000114845             1993       1        0.00           0.00   \n",
       "6457   000018032             1993       1        0.00           0.00   \n",
       "5102   000015401             1995       1        0.00           0.00   \n",
       "5101   000012216             1970       0        0.00           0.00   \n",
       "5100   000010966             1982       1        0.00           0.00   \n",
       "5099   000010911             1992       0        0.00           0.00   \n",
       "1701   000113200             1993       1       10.00          10.00   \n",
       "1702   000116293             1993       1        0.00           0.00   \n",
       "6456   000008216             1993       0        0.00           0.00   \n",
       "5098   000007994             1987       0        0.00           0.00   \n",
       "6455   000006888             1982       1        0.00           0.00   \n",
       "9889   000127052             1997       0        0.00           0.00   \n",
       "12593  000129160             1992      -1        0.00           0.00   \n",
       "6048   000127080             1993       1        0.40           0.40   \n",
       "1687   000119059             1993       1        0.00           0.00   \n",
       "1699   000116297             1994       1        0.00           0.00   \n",
       "1698   000126696             1993       1        0.00           0.00   \n",
       "1694   000112134             1993       1        0.00           0.00   \n",
       "6040   000127800             1993       1     1204.40        1204.40   \n",
       "1686   000119241             1993      -1        0.00           0.00   \n",
       "6053   000113742             1988       1        0.00           0.00   \n",
       "9175   000124463             1984       1        0.00           0.00   \n",
       "9881   000124122             1993       0       97.00          97.00   \n",
       "15312  000128456             1990       0        0.00           0.00   \n",
       "1689   000115523             1993      -1       42.00          42.00   \n",
       "6024   000125090             1986       1        0.00           0.00   \n",
       "1683   000122946             1993       1        0.00           0.00   \n",
       "\n",
       "      integralbalance consumetotal consumetimes       createcardtime  \\\n",
       "14477           25.00       126.00            2  2016-05-29 15:13:00   \n",
       "9038            38.00       860.00           15  2016-05-15 22:11:53   \n",
       "12264           56.00       285.00            4  2016-05-23 16:16:12   \n",
       "895             51.00      1089.00            8  2016-05-02 21:44:11   \n",
       "13257          120.00      2465.00           15  2016-05-26 21:29:59   \n",
       "14197           67.00      1438.00           12  2016-05-28 22:11:35   \n",
       "12239           52.00       266.00            3  2016-05-23 15:43:03   \n",
       "9626           110.00      1449.00            5  2016-05-17 20:50:45   \n",
       "7802          2590.00      2590.00            3  2016-05-13 18:21:36   \n",
       "8813            42.00       212.00            2  2016-05-15 15:31:41   \n",
       "9182            64.00       654.00            4  2016-05-16 16:04:27   \n",
       "10047          129.00      2691.00           20  2016-05-18 22:00:17   \n",
       "10189       143190.00    273518.00         1160  2014-06-13 20:33:32   \n",
       "6143          1312.00      1512.00           12  2016-05-08 20:03:43   \n",
       "4048         74946.00    826982.00         7663  2016-02-10 03:49:36   \n",
       "4973          1025.00      3445.00            8  2016-05-05 21:31:28   \n",
       "14835          176.00      1799.00           13  2016-05-30 15:12:57   \n",
       "11167        18497.00     18497.00           37  2016-05-21 01:08:42   \n",
       "10187       127823.00    238695.00         1146  2014-03-22 21:38:00   \n",
       "10821          145.00      1461.00            3  2016-05-20 20:13:20   \n",
       "1733           982.50      4909.00           28  2016-05-02 01:03:51   \n",
       "10860          645.00       645.00            2  2016-05-20 20:35:12   \n",
       "5485         46134.00    503562.00         5034  2015-02-13 13:02:44   \n",
       "5054           120.00      1227.00            7  2016-05-05 23:14:07   \n",
       "1238           232.00      2422.00           11  2016-05-03 22:04:35   \n",
       "5783             0.00      1168.00            9  2016-05-07 22:39:38   \n",
       "6562           109.00      2228.00           12  2016-05-09 21:32:21   \n",
       "10128           46.00       941.00            6  2016-05-18 23:28:53   \n",
       "8257           171.00       863.00            4  2016-05-14 15:08:18   \n",
       "8073           130.00       130.00            1  2016-05-13 22:50:36   \n",
       "...               ...          ...          ...                  ...   \n",
       "6070             0.00       302.00            1  2015-12-11 18:41:50   \n",
       "9478            63.00       630.00            2  2015-12-10 14:33:33   \n",
       "1706           300.00       300.00            2  2015-11-10 15:25:17   \n",
       "1685          1171.00      1171.00            6  2014-10-19 22:04:07   \n",
       "6457             0.00         0.00            0  2015-11-12 13:30:19   \n",
       "5102             0.00         0.00            0  2015-11-03 21:40:51   \n",
       "5101             0.00         0.00            0  2015-10-25 21:01:51   \n",
       "5100             0.00         0.00            0  2015-10-22 22:07:38   \n",
       "5099             0.00         0.00            0  2015-10-22 21:30:24   \n",
       "1701           615.00       615.00            4  2015-10-10 17:05:04   \n",
       "1702           542.00       542.00            5  2015-10-10 17:05:04   \n",
       "6456             0.00         0.00            0  2015-10-16 10:58:20   \n",
       "5098             0.00         0.00            0  2015-10-15 21:23:53   \n",
       "6455             0.00         0.00            0  2015-10-12 15:17:05   \n",
       "9889           863.00      9891.00           41  2014-12-19 13:17:35   \n",
       "12593           44.00      4034.00           21  2014-06-21 13:36:15   \n",
       "6048             0.00      1379.60            7  2015-06-06 21:21:27   \n",
       "1687           619.00       619.00            3  2015-01-31 21:23:56   \n",
       "1699           331.00       331.00            1  2015-09-25 19:34:10   \n",
       "1698           249.00       249.00            1  2015-09-15 23:06:10   \n",
       "1694             0.00         0.00            0  2015-09-15 19:47:25   \n",
       "6040             0.00      2627.60            9  2015-02-22 19:06:41   \n",
       "1686         17879.00     18758.00          127  2014-10-31 20:23:15   \n",
       "6053             0.00         0.00            0  2015-07-30 19:39:13   \n",
       "9175             0.00         0.00            0  2015-07-27 22:24:02   \n",
       "9881            99.00      1003.00            2  2015-01-02 22:06:35   \n",
       "15312            0.00         0.00            3  2014-11-23 13:43:09   \n",
       "1689           458.00       508.00            3  2015-05-16 23:07:01   \n",
       "6024            13.00         0.00            0  2014-05-11 12:43:48   \n",
       "1683             0.00         0.00            0  2014-04-03 22:31:27   \n",
       "\n",
       "           lastconsumetime member_age_cut  lastconsume_diff_now  \n",
       "14477  2016-06-02 04:21:17   member_age_5                   344  \n",
       "9038   2016-06-02 04:01:19   member_age_4                   344  \n",
       "12264  2016-06-02 02:44:58   member_age_5                   344  \n",
       "895    2016-06-02 02:37:34   member_age_5                   344  \n",
       "13257  2016-06-02 02:33:17   member_age_4                   344  \n",
       "14197  2016-06-02 02:09:35   member_age_4                   344  \n",
       "12239  2016-06-02 02:04:47   member_age_5                   344  \n",
       "9626   2016-06-02 02:01:51   member_age_5                   344  \n",
       "7802   2016-06-02 01:49:02   member_age_5                   344  \n",
       "8813   2016-06-02 01:45:08   member_age_5                   344  \n",
       "9182   2016-06-02 01:40:48   member_age_4                   344  \n",
       "10047  2016-06-02 01:37:59   member_age_5                   344  \n",
       "10189  2016-06-02 01:35:18   member_age_5                   344  \n",
       "6143   2016-06-02 01:25:39   member_age_5                   344  \n",
       "4048   2016-06-02 01:23:33   member_age_5                   344  \n",
       "4973   2016-06-02 01:23:02   member_age_5                   344  \n",
       "14835  2016-06-02 01:22:43   member_age_5                   344  \n",
       "11167  2016-06-02 01:16:14   member_age_5                   344  \n",
       "10187  2016-06-02 01:06:10   member_age_5                   344  \n",
       "10821  2016-06-02 01:04:44   member_age_4                   344  \n",
       "1733   2016-06-02 01:01:16   member_age_5                   344  \n",
       "10860  2016-06-02 01:01:04   member_age_5                   344  \n",
       "5485   2016-06-02 00:51:28   member_age_5                   344  \n",
       "5054   2016-06-02 00:50:46   member_age_5                   344  \n",
       "1238   2016-06-02 00:49:55   member_age_5                   344  \n",
       "5783   2016-06-02 00:45:10   member_age_5                   344  \n",
       "6562   2016-06-02 00:44:03   member_age_5                   344  \n",
       "10128  2016-06-02 00:43:47   member_age_5                   344  \n",
       "8257   2016-06-02 00:39:33   member_age_5                   344  \n",
       "8073   2016-06-02 00:35:03   member_age_5                   344  \n",
       "...                    ...            ...                   ...  \n",
       "6070   2015-12-11 18:42:55   member_age_5                   517  \n",
       "9478   2015-12-10 23:15:02   member_age_5                   518  \n",
       "1706   2015-11-22 22:59:16   member_age_5                   536  \n",
       "1685   2015-11-20 22:15:55   member_age_5                   538  \n",
       "6457   2015-11-12 13:30:19   member_age_5                   547  \n",
       "5102   2015-11-03 21:40:51   member_age_5                   555  \n",
       "5101   2015-10-25 21:01:51   member_age_3                   564  \n",
       "5100   2015-10-22 22:07:38   member_age_4                   567  \n",
       "5099   2015-10-22 21:30:24   member_age_5                   567  \n",
       "1701   2015-10-19 14:18:28   member_age_5                   571  \n",
       "1702   2015-10-17 01:18:37   member_age_5                   573  \n",
       "6456   2015-10-16 10:58:20   member_age_5                   574  \n",
       "5098   2015-10-15 21:23:53   member_age_4                   574  \n",
       "6455   2015-10-12 15:17:05   member_age_4                   578  \n",
       "9889   2015-10-04 01:28:55   member_age_5                   586  \n",
       "12593  2015-09-30 01:29:59   member_age_5                   590  \n",
       "6048   2015-09-29 15:23:10   member_age_5                   591  \n",
       "1687   2015-09-26 21:40:16   member_age_5                   593  \n",
       "1699   2015-09-26 13:35:22   member_age_5                   594  \n",
       "1698   2015-09-18 19:15:19   member_age_5                   601  \n",
       "1694   2015-09-15 19:47:25   member_age_5                   604  \n",
       "6040   2015-08-18 22:05:28   member_age_5                   632  \n",
       "1686   2015-08-12 20:09:38   member_age_5                   638  \n",
       "6053   2015-07-30 19:39:13   member_age_5                   651  \n",
       "9175   2015-07-27 22:24:02   member_age_4                   654  \n",
       "9881   2015-07-23 22:47:01   member_age_5                   658  \n",
       "15312  2015-07-04 20:23:17   member_age_5                   677  \n",
       "1689   2015-06-05 22:21:28   member_age_5                   706  \n",
       "6024   2014-12-16 08:45:47   member_age_4                   878  \n",
       "1683   2014-04-03 22:31:27   member_age_5                  1134  \n",
       "\n",
       "[15559 rows x 12 columns]"
      ]
     },
     "execution_count": 42,
     "metadata": {},
     "output_type": "execute_result"
    }
   ],
   "source": [
    "df.sort_values('lastconsumetime', ascending=False)"
   ]
  },
  {
   "cell_type": "markdown",
   "metadata": {},
   "source": [
    "## kmid去重成功"
   ]
  },
  {
   "cell_type": "code",
   "execution_count": 150,
   "metadata": {
    "collapsed": false
   },
   "outputs": [
    {
     "data": {
      "text/plain": [
       "000063919    1\n",
       "000121889    1\n",
       "000123020    1\n",
       "000123021    1\n",
       "000123022    1\n",
       "000119053    1\n",
       "000123024    1\n",
       "000123025    1\n",
       "000119056    1\n",
       "000123027    1\n",
       "000119058    1\n",
       "000111236    1\n",
       "000119504    1\n",
       "000127592    1\n",
       "000119502    1\n",
       "000119500    1\n",
       "000119501    1\n",
       "000122813    1\n",
       "000113353    1\n",
       "000051429    1\n",
       "000122810    1\n",
       "000051350    1\n",
       "000051351    1\n",
       "000121880    1\n",
       "000126807    1\n",
       "000111231    1\n",
       "000121885    1\n",
       "000121886    1\n",
       "000117076    1\n",
       "000118902    1\n",
       "            ..\n",
       "000115810    1\n",
       "000119312    1\n",
       "000121638    1\n",
       "000119311    1\n",
       "000123180    1\n",
       "000127743    1\n",
       "000127745    1\n",
       "000127744    1\n",
       "000119319    1\n",
       "000123188    1\n",
       "000044348    1\n",
       "000125327    1\n",
       "000066620    1\n",
       "000126651    1\n",
       "000066624    1\n",
       "000121637    1\n",
       "000123452    1\n",
       "000121636    1\n",
       "000110545    1\n",
       "000126650    1\n",
       "000121630    1\n",
       "000050545    1\n",
       "000123459    1\n",
       "000126653    1\n",
       "000123455    1\n",
       "000123457    1\n",
       "000123451    1\n",
       "000123450    1\n",
       "000123453    1\n",
       "000122891    1\n",
       "Name: kmid, dtype: int64"
      ]
     },
     "execution_count": 150,
     "metadata": {},
     "output_type": "execute_result"
    }
   ],
   "source": [
    "pd.value_counts(df['kmid'])"
   ]
  },
  {
   "cell_type": "code",
   "execution_count": 119,
   "metadata": {
    "collapsed": false
   },
   "outputs": [
    {
     "data": {
      "text/html": [
       "<div>\n",
       "<table border=\"1\" class=\"dataframe\">\n",
       "  <thead>\n",
       "    <tr style=\"text-align: right;\">\n",
       "      <th></th>\n",
       "      <th></th>\n",
       "      <th>保</th>\n",
       "      <th>女</th>\n",
       "      <th>男</th>\n",
       "    </tr>\n",
       "  </thead>\n",
       "  <tbody>\n",
       "    <tr>\n",
       "      <th>0</th>\n",
       "      <td>0</td>\n",
       "      <td>0</td>\n",
       "      <td>0</td>\n",
       "      <td>1</td>\n",
       "    </tr>\n",
       "    <tr>\n",
       "      <th>1</th>\n",
       "      <td>0</td>\n",
       "      <td>0</td>\n",
       "      <td>0</td>\n",
       "      <td>1</td>\n",
       "    </tr>\n",
       "    <tr>\n",
       "      <th>2</th>\n",
       "      <td>0</td>\n",
       "      <td>0</td>\n",
       "      <td>1</td>\n",
       "      <td>0</td>\n",
       "    </tr>\n",
       "    <tr>\n",
       "      <th>3</th>\n",
       "      <td>0</td>\n",
       "      <td>0</td>\n",
       "      <td>1</td>\n",
       "      <td>0</td>\n",
       "    </tr>\n",
       "    <tr>\n",
       "      <th>4</th>\n",
       "      <td>0</td>\n",
       "      <td>0</td>\n",
       "      <td>0</td>\n",
       "      <td>1</td>\n",
       "    </tr>\n",
       "    <tr>\n",
       "      <th>5</th>\n",
       "      <td>0</td>\n",
       "      <td>0</td>\n",
       "      <td>0</td>\n",
       "      <td>1</td>\n",
       "    </tr>\n",
       "    <tr>\n",
       "      <th>6</th>\n",
       "      <td>0</td>\n",
       "      <td>0</td>\n",
       "      <td>0</td>\n",
       "      <td>1</td>\n",
       "    </tr>\n",
       "    <tr>\n",
       "      <th>7</th>\n",
       "      <td>0</td>\n",
       "      <td>0</td>\n",
       "      <td>1</td>\n",
       "      <td>0</td>\n",
       "    </tr>\n",
       "    <tr>\n",
       "      <th>8</th>\n",
       "      <td>0</td>\n",
       "      <td>0</td>\n",
       "      <td>0</td>\n",
       "      <td>1</td>\n",
       "    </tr>\n",
       "    <tr>\n",
       "      <th>9</th>\n",
       "      <td>0</td>\n",
       "      <td>0</td>\n",
       "      <td>0</td>\n",
       "      <td>1</td>\n",
       "    </tr>\n",
       "    <tr>\n",
       "      <th>10</th>\n",
       "      <td>0</td>\n",
       "      <td>0</td>\n",
       "      <td>1</td>\n",
       "      <td>0</td>\n",
       "    </tr>\n",
       "    <tr>\n",
       "      <th>11</th>\n",
       "      <td>0</td>\n",
       "      <td>0</td>\n",
       "      <td>1</td>\n",
       "      <td>0</td>\n",
       "    </tr>\n",
       "    <tr>\n",
       "      <th>12</th>\n",
       "      <td>0</td>\n",
       "      <td>0</td>\n",
       "      <td>1</td>\n",
       "      <td>0</td>\n",
       "    </tr>\n",
       "    <tr>\n",
       "      <th>13</th>\n",
       "      <td>0</td>\n",
       "      <td>0</td>\n",
       "      <td>0</td>\n",
       "      <td>1</td>\n",
       "    </tr>\n",
       "    <tr>\n",
       "      <th>14</th>\n",
       "      <td>0</td>\n",
       "      <td>0</td>\n",
       "      <td>1</td>\n",
       "      <td>0</td>\n",
       "    </tr>\n",
       "    <tr>\n",
       "      <th>15</th>\n",
       "      <td>0</td>\n",
       "      <td>0</td>\n",
       "      <td>0</td>\n",
       "      <td>1</td>\n",
       "    </tr>\n",
       "    <tr>\n",
       "      <th>16</th>\n",
       "      <td>0</td>\n",
       "      <td>0</td>\n",
       "      <td>0</td>\n",
       "      <td>1</td>\n",
       "    </tr>\n",
       "    <tr>\n",
       "      <th>17</th>\n",
       "      <td>0</td>\n",
       "      <td>0</td>\n",
       "      <td>0</td>\n",
       "      <td>1</td>\n",
       "    </tr>\n",
       "    <tr>\n",
       "      <th>18</th>\n",
       "      <td>0</td>\n",
       "      <td>0</td>\n",
       "      <td>0</td>\n",
       "      <td>1</td>\n",
       "    </tr>\n",
       "    <tr>\n",
       "      <th>19</th>\n",
       "      <td>0</td>\n",
       "      <td>0</td>\n",
       "      <td>0</td>\n",
       "      <td>1</td>\n",
       "    </tr>\n",
       "    <tr>\n",
       "      <th>20</th>\n",
       "      <td>0</td>\n",
       "      <td>0</td>\n",
       "      <td>0</td>\n",
       "      <td>1</td>\n",
       "    </tr>\n",
       "    <tr>\n",
       "      <th>21</th>\n",
       "      <td>0</td>\n",
       "      <td>0</td>\n",
       "      <td>0</td>\n",
       "      <td>1</td>\n",
       "    </tr>\n",
       "    <tr>\n",
       "      <th>22</th>\n",
       "      <td>0</td>\n",
       "      <td>0</td>\n",
       "      <td>0</td>\n",
       "      <td>1</td>\n",
       "    </tr>\n",
       "    <tr>\n",
       "      <th>23</th>\n",
       "      <td>0</td>\n",
       "      <td>0</td>\n",
       "      <td>0</td>\n",
       "      <td>1</td>\n",
       "    </tr>\n",
       "    <tr>\n",
       "      <th>24</th>\n",
       "      <td>0</td>\n",
       "      <td>0</td>\n",
       "      <td>0</td>\n",
       "      <td>1</td>\n",
       "    </tr>\n",
       "    <tr>\n",
       "      <th>25</th>\n",
       "      <td>0</td>\n",
       "      <td>0</td>\n",
       "      <td>0</td>\n",
       "      <td>1</td>\n",
       "    </tr>\n",
       "    <tr>\n",
       "      <th>26</th>\n",
       "      <td>0</td>\n",
       "      <td>0</td>\n",
       "      <td>0</td>\n",
       "      <td>1</td>\n",
       "    </tr>\n",
       "    <tr>\n",
       "      <th>27</th>\n",
       "      <td>0</td>\n",
       "      <td>0</td>\n",
       "      <td>0</td>\n",
       "      <td>1</td>\n",
       "    </tr>\n",
       "    <tr>\n",
       "      <th>28</th>\n",
       "      <td>0</td>\n",
       "      <td>0</td>\n",
       "      <td>0</td>\n",
       "      <td>1</td>\n",
       "    </tr>\n",
       "    <tr>\n",
       "      <th>29</th>\n",
       "      <td>0</td>\n",
       "      <td>0</td>\n",
       "      <td>0</td>\n",
       "      <td>1</td>\n",
       "    </tr>\n",
       "    <tr>\n",
       "      <th>...</th>\n",
       "      <td>...</td>\n",
       "      <td>...</td>\n",
       "      <td>...</td>\n",
       "      <td>...</td>\n",
       "    </tr>\n",
       "    <tr>\n",
       "      <th>15530</th>\n",
       "      <td>0</td>\n",
       "      <td>0</td>\n",
       "      <td>0</td>\n",
       "      <td>1</td>\n",
       "    </tr>\n",
       "    <tr>\n",
       "      <th>15531</th>\n",
       "      <td>0</td>\n",
       "      <td>0</td>\n",
       "      <td>0</td>\n",
       "      <td>1</td>\n",
       "    </tr>\n",
       "    <tr>\n",
       "      <th>15532</th>\n",
       "      <td>0</td>\n",
       "      <td>0</td>\n",
       "      <td>0</td>\n",
       "      <td>1</td>\n",
       "    </tr>\n",
       "    <tr>\n",
       "      <th>15533</th>\n",
       "      <td>0</td>\n",
       "      <td>0</td>\n",
       "      <td>0</td>\n",
       "      <td>1</td>\n",
       "    </tr>\n",
       "    <tr>\n",
       "      <th>15534</th>\n",
       "      <td>0</td>\n",
       "      <td>0</td>\n",
       "      <td>0</td>\n",
       "      <td>1</td>\n",
       "    </tr>\n",
       "    <tr>\n",
       "      <th>15535</th>\n",
       "      <td>0</td>\n",
       "      <td>0</td>\n",
       "      <td>0</td>\n",
       "      <td>1</td>\n",
       "    </tr>\n",
       "    <tr>\n",
       "      <th>15536</th>\n",
       "      <td>0</td>\n",
       "      <td>0</td>\n",
       "      <td>1</td>\n",
       "      <td>0</td>\n",
       "    </tr>\n",
       "    <tr>\n",
       "      <th>15537</th>\n",
       "      <td>0</td>\n",
       "      <td>0</td>\n",
       "      <td>0</td>\n",
       "      <td>1</td>\n",
       "    </tr>\n",
       "    <tr>\n",
       "      <th>15538</th>\n",
       "      <td>0</td>\n",
       "      <td>0</td>\n",
       "      <td>0</td>\n",
       "      <td>1</td>\n",
       "    </tr>\n",
       "    <tr>\n",
       "      <th>15539</th>\n",
       "      <td>0</td>\n",
       "      <td>0</td>\n",
       "      <td>0</td>\n",
       "      <td>1</td>\n",
       "    </tr>\n",
       "    <tr>\n",
       "      <th>15540</th>\n",
       "      <td>0</td>\n",
       "      <td>0</td>\n",
       "      <td>0</td>\n",
       "      <td>1</td>\n",
       "    </tr>\n",
       "    <tr>\n",
       "      <th>15541</th>\n",
       "      <td>0</td>\n",
       "      <td>0</td>\n",
       "      <td>1</td>\n",
       "      <td>0</td>\n",
       "    </tr>\n",
       "    <tr>\n",
       "      <th>15542</th>\n",
       "      <td>0</td>\n",
       "      <td>0</td>\n",
       "      <td>0</td>\n",
       "      <td>1</td>\n",
       "    </tr>\n",
       "    <tr>\n",
       "      <th>15543</th>\n",
       "      <td>0</td>\n",
       "      <td>0</td>\n",
       "      <td>0</td>\n",
       "      <td>1</td>\n",
       "    </tr>\n",
       "    <tr>\n",
       "      <th>15544</th>\n",
       "      <td>0</td>\n",
       "      <td>0</td>\n",
       "      <td>0</td>\n",
       "      <td>1</td>\n",
       "    </tr>\n",
       "    <tr>\n",
       "      <th>15545</th>\n",
       "      <td>0</td>\n",
       "      <td>0</td>\n",
       "      <td>0</td>\n",
       "      <td>1</td>\n",
       "    </tr>\n",
       "    <tr>\n",
       "      <th>15546</th>\n",
       "      <td>0</td>\n",
       "      <td>0</td>\n",
       "      <td>0</td>\n",
       "      <td>1</td>\n",
       "    </tr>\n",
       "    <tr>\n",
       "      <th>15547</th>\n",
       "      <td>0</td>\n",
       "      <td>0</td>\n",
       "      <td>0</td>\n",
       "      <td>1</td>\n",
       "    </tr>\n",
       "    <tr>\n",
       "      <th>15548</th>\n",
       "      <td>0</td>\n",
       "      <td>0</td>\n",
       "      <td>1</td>\n",
       "      <td>0</td>\n",
       "    </tr>\n",
       "    <tr>\n",
       "      <th>15549</th>\n",
       "      <td>0</td>\n",
       "      <td>0</td>\n",
       "      <td>0</td>\n",
       "      <td>1</td>\n",
       "    </tr>\n",
       "    <tr>\n",
       "      <th>15550</th>\n",
       "      <td>0</td>\n",
       "      <td>0</td>\n",
       "      <td>1</td>\n",
       "      <td>0</td>\n",
       "    </tr>\n",
       "    <tr>\n",
       "      <th>15551</th>\n",
       "      <td>0</td>\n",
       "      <td>0</td>\n",
       "      <td>0</td>\n",
       "      <td>1</td>\n",
       "    </tr>\n",
       "    <tr>\n",
       "      <th>15552</th>\n",
       "      <td>0</td>\n",
       "      <td>0</td>\n",
       "      <td>0</td>\n",
       "      <td>1</td>\n",
       "    </tr>\n",
       "    <tr>\n",
       "      <th>15553</th>\n",
       "      <td>0</td>\n",
       "      <td>0</td>\n",
       "      <td>0</td>\n",
       "      <td>1</td>\n",
       "    </tr>\n",
       "    <tr>\n",
       "      <th>15554</th>\n",
       "      <td>0</td>\n",
       "      <td>0</td>\n",
       "      <td>0</td>\n",
       "      <td>1</td>\n",
       "    </tr>\n",
       "    <tr>\n",
       "      <th>15555</th>\n",
       "      <td>0</td>\n",
       "      <td>0</td>\n",
       "      <td>0</td>\n",
       "      <td>1</td>\n",
       "    </tr>\n",
       "    <tr>\n",
       "      <th>15556</th>\n",
       "      <td>0</td>\n",
       "      <td>0</td>\n",
       "      <td>1</td>\n",
       "      <td>0</td>\n",
       "    </tr>\n",
       "    <tr>\n",
       "      <th>15557</th>\n",
       "      <td>0</td>\n",
       "      <td>0</td>\n",
       "      <td>0</td>\n",
       "      <td>1</td>\n",
       "    </tr>\n",
       "    <tr>\n",
       "      <th>15558</th>\n",
       "      <td>0</td>\n",
       "      <td>0</td>\n",
       "      <td>0</td>\n",
       "      <td>1</td>\n",
       "    </tr>\n",
       "    <tr>\n",
       "      <th>15559</th>\n",
       "      <td>0</td>\n",
       "      <td>0</td>\n",
       "      <td>0</td>\n",
       "      <td>1</td>\n",
       "    </tr>\n",
       "  </tbody>\n",
       "</table>\n",
       "<p>15560 rows × 4 columns</p>\n",
       "</div>"
      ],
      "text/plain": [
       "          保  女  男\n",
       "0      0  0  0  1\n",
       "1      0  0  0  1\n",
       "2      0  0  1  0\n",
       "3      0  0  1  0\n",
       "4      0  0  0  1\n",
       "5      0  0  0  1\n",
       "6      0  0  0  1\n",
       "7      0  0  1  0\n",
       "8      0  0  0  1\n",
       "9      0  0  0  1\n",
       "10     0  0  1  0\n",
       "11     0  0  1  0\n",
       "12     0  0  1  0\n",
       "13     0  0  0  1\n",
       "14     0  0  1  0\n",
       "15     0  0  0  1\n",
       "16     0  0  0  1\n",
       "17     0  0  0  1\n",
       "18     0  0  0  1\n",
       "19     0  0  0  1\n",
       "20     0  0  0  1\n",
       "21     0  0  0  1\n",
       "22     0  0  0  1\n",
       "23     0  0  0  1\n",
       "24     0  0  0  1\n",
       "25     0  0  0  1\n",
       "26     0  0  0  1\n",
       "27     0  0  0  1\n",
       "28     0  0  0  1\n",
       "29     0  0  0  1\n",
       "...   .. .. .. ..\n",
       "15530  0  0  0  1\n",
       "15531  0  0  0  1\n",
       "15532  0  0  0  1\n",
       "15533  0  0  0  1\n",
       "15534  0  0  0  1\n",
       "15535  0  0  0  1\n",
       "15536  0  0  1  0\n",
       "15537  0  0  0  1\n",
       "15538  0  0  0  1\n",
       "15539  0  0  0  1\n",
       "15540  0  0  0  1\n",
       "15541  0  0  1  0\n",
       "15542  0  0  0  1\n",
       "15543  0  0  0  1\n",
       "15544  0  0  0  1\n",
       "15545  0  0  0  1\n",
       "15546  0  0  0  1\n",
       "15547  0  0  0  1\n",
       "15548  0  0  1  0\n",
       "15549  0  0  0  1\n",
       "15550  0  0  1  0\n",
       "15551  0  0  0  1\n",
       "15552  0  0  0  1\n",
       "15553  0  0  0  1\n",
       "15554  0  0  0  1\n",
       "15555  0  0  0  1\n",
       "15556  0  0  1  0\n",
       "15557  0  0  0  1\n",
       "15558  0  0  0  1\n",
       "15559  0  0  0  1\n",
       "\n",
       "[15560 rows x 4 columns]"
      ]
     },
     "execution_count": 119,
     "metadata": {},
     "output_type": "execute_result"
    }
   ],
   "source": [
    "pd.get_dummies(df['member_sex'])"
   ]
  },
  {
   "cell_type": "code",
   "execution_count": 165,
   "metadata": {
    "collapsed": false
   },
   "outputs": [
    {
     "data": {
      "text/plain": [
       "1993    2788\n",
       "2000    1116\n",
       "1995     822\n",
       "1990     791\n",
       "1994     788\n",
       "1996     751\n",
       "1997     731\n",
       "1992     718\n",
       "1991     703\n",
       "1989     673\n",
       "1988     615\n",
       "1998     586\n",
       "1987     540\n",
       "1986     472\n",
       "1999     351\n",
       "1985     350\n",
       "1983     285\n",
       "1982     265\n",
       "1984     246\n",
       "1981     245\n",
       "1980     188\n",
       "1979     154\n",
       "1978     146\n",
       "1977     131\n",
       "1976     104\n",
       "1975     101\n",
       "1974      93\n",
       "1973      79\n",
       "2001      78\n",
       "1972      74\n",
       "        ... \n",
       "2003      25\n",
       "1964      23\n",
       "1963      21\n",
       "1966      20\n",
       "1961      17\n",
       "1962      16\n",
       "1960      11\n",
       "1959      11\n",
       "1956       9\n",
       "2004       8\n",
       "2010       8\n",
       "2005       7\n",
       "2008       7\n",
       "1953       6\n",
       "1958       6\n",
       "1957       5\n",
       "1949       5\n",
       "1955       5\n",
       "2006       4\n",
       "1950       4\n",
       "1947       3\n",
       "1952       3\n",
       "2009       3\n",
       "1951       2\n",
       "1954       2\n",
       "2007       1\n",
       "1946       1\n",
       "1942       1\n",
       "1943       1\n",
       "1944       1\n",
       "Name: member_birthday, dtype: int64"
      ]
     },
     "execution_count": 165,
     "metadata": {},
     "output_type": "execute_result"
    }
   ],
   "source": [
    "pd.value_counts(df['member_birthday'])"
   ]
  },
  {
   "cell_type": "markdown",
   "metadata": {},
   "source": [
    "## 对K米会员的生日进行统计画图"
   ]
  },
  {
   "cell_type": "code",
   "execution_count": 151,
   "metadata": {
    "collapsed": false
   },
   "outputs": [
    {
     "data": {
      "text/plain": [
       "<Container object of 87 artists>"
      ]
     },
     "execution_count": 151,
     "metadata": {},
     "output_type": "execute_result"
    },
    {
     "data": {
      "image/png": "[encoded data removed]",
      "text/plain": [
       "<matplotlib.figure.Figure at 0x9685b320>"
      ]
     },
     "metadata": {},
     "output_type": "display_data"
    }
   ],
   "source": [
    "%matplotlib inline\n",
    "import matplotlib.pyplot as plt\n",
    "\n",
    "count_by_age = pd.value_counts(df['member_birthday'])\n",
    "index = count_by_age.index.values\n",
    "values = count_by_age.values\n",
    "plt.bar(index, values)"
   ]
  },
  {
   "cell_type": "markdown",
   "metadata": {},
   "source": [
    "### 可以看出接近1900年和接近2016年的数据都是异常值，要替换掉"
   ]
  },
  {
   "cell_type": "code",
   "execution_count": 152,
   "metadata": {
    "collapsed": false
   },
   "outputs": [
    {
     "data": {
      "text/plain": [
       "0    2016\n",
       "dtype: int64"
      ]
     },
     "execution_count": 152,
     "metadata": {},
     "output_type": "execute_result"
    }
   ],
   "source": [
    "df['member_birthday'].mode()"
   ]
  },
  {
   "cell_type": "markdown",
   "metadata": {},
   "source": [
    "### 众数不能用，用中位数填充合理"
   ]
  },
  {
   "cell_type": "code",
   "execution_count": 155,
   "metadata": {
    "collapsed": false
   },
   "outputs": [
    {
     "data": {
      "text/plain": [
       "1993"
      ]
     },
     "execution_count": 155,
     "metadata": {},
     "output_type": "execute_result"
    }
   ],
   "source": [
    "int(df['member_birthday'].median())"
   ]
  },
  {
   "cell_type": "code",
   "execution_count": null,
   "metadata": {
    "collapsed": true
   },
   "outputs": [],
   "source": []
  }
 ],
 "metadata": {
  "kernelspec": {
   "display_name": "Python 2",
   "language": "python",
   "name": "python2"
  },
  "language_info": {
   "codemirror_mode": {
    "name": "ipython",
    "version": 2
   },
   "file_extension": ".py",
   "mimetype": "text/x-python",
   "name": "python",
   "nbconvert_exporter": "python",
   "pygments_lexer": "ipython2",
   "version": "2.7.13"
  }
 },
 "nbformat": 4,
 "nbformat_minor": 0
}
