{
 "cells": [
  {
   "cell_type": "code",
   "execution_count": 3,
   "metadata": {
    "collapsed": true
   },
   "outputs": [],
   "source": [
    "# coding:utf-8\n",
    "\"\"\"\n",
    "本篇为tag_age_from_song()的调试笔记，后期将加入user_all()\n",
    "\"\"\"\n",
    "import re\n",
    "import pandas as pd\n",
    "import numpy as np\n",
    "from impala.dbapi import connect\n",
    "from impala.util import as_pandas\n",
    "import pymysql.cursors\n",
    "from datetime import datetime\n",
    "\n",
    "# Global variables\n",
    "mysql_host = '172.21.1.151'\n",
    "mysql_port = 3306\n",
    "mysql_user = 'xli'\n",
    "mysql_password = '123456'\n",
    "mysql_db = 'kdwtemp2'\n",
    "mysql_charset = 'utf8mb4'\n",
    "\n",
    "def easy_print(tname, records=10):\n",
    "    conn = connect(host='172.21.1.120', port=21050, user='udms', database='kmi_month') \n",
    "    cur = conn.cursor()     \n",
    "    \n",
    "    sql = 'SELECT * FROM ' + tname + ' LIMIT 10' \n",
    "    cur.execute(sql)\n",
    "    read_in = as_pandas(cur)    \n",
    "    cur.close()\n",
    "    conn.close()\n",
    "    \n",
    "    #print in a format\n",
    "    columns = read_in.columns.values\n",
    "    values = read_in.values\n",
    "    records = []\n",
    "    for v in values:\n",
    "        records.append(zip(columns, v))\n",
    "    \n",
    "    for ix,r in enumerate(records):\n",
    "        print('----------第%s条记录--------' % (ix+1))\n",
    "        for k, v in r:\n",
    "            print('%s: %s' % (k, v))\n",
    "\n",
    "def connect_Mysql(sql_columns_select,tname): #连接Mysql数据库\n",
    "    mysqlConnection = pymysql.connect(host=mysql_host,\n",
    "                                      port=mysql_port,\n",
    "                                      user=mysql_user,\n",
    "                                      password=mysql_password,\n",
    "                                      db=mysql_db,\n",
    "                                      charset=mysql_charset)\n",
    "                                      #cursorclass=pymysql.cursors.DictCursor)\n",
    "    try:\n",
    "        sql = 'SELECT '+ sql_columns_select + ' FROM '+ tname #+ ' LIMIT 100'\n",
    "        df = pd.read_sql(sql,mysqlConnection)\n",
    "        return df\n",
    "    except:\n",
    "        mysqlConnection.close()\n",
    "        \n",
    "def year_stage(data): #给年份分段\n",
    "    if data >= 2000:\n",
    "        return 5\n",
    "    elif data >= 1990 and data < 2000:\n",
    "        return 4\n",
    "    elif data >= 1980 and data < 1990:\n",
    "        return 3\n",
    "    elif data >= 1970 and data < 1980:\n",
    "        return 2\n",
    "    else:\n",
    "        return 1 \n",
    "    \n",
    "def song_release_time(): #抽取出songid对应的歌曲发行时间\n",
    "    conn = connect(host='172.21.1.120', port=21050, user='udms', database='kmi_month') \n",
    "    cur = conn.cursor()\n",
    "    sql = \"\"\"\n",
    "    SELECT songid,releasetime FROM kdw_tbl_song_info\"\"\"\n",
    "    cur.execute(sql)\n",
    "    df = as_pandas(cur)\n",
    "    # 清洗掉不符合时间格式的数据行\n",
    "    pattern = re.compile(r\"^\\d{4}-\\d{2}-\\d{2}$\")\n",
    "    df = df[map(lambda x: re.match(pattern,x) is not None,df['releasetime'])]\n",
    "    #提取出年份\n",
    "    df['releasetime']=pd.to_datetime(df['releasetime'], format='%Y-%m-%d')\n",
    "    df['year'] = [i.year for i in df['releasetime']]  \n",
    "    #通过歌曲release time判断发行时间年龄段\n",
    "    df['age_year'] = [year_stage(i) for i in df['year']]\n",
    "    df.drop('releasetime',axis=1,inplace=True)\n",
    "    cur.close()\n",
    "    conn.close()  \n",
    "    return df\n",
    "\n",
    "def read_play_cnt(): #抽取出用户点歌记录,并对点歌次数进行统计\n",
    "    conn = connect(host='172.21.1.120', port=21050, user='udms', database='kmi_month') \n",
    "    cur = conn.cursor()\n",
    "#     sql = \"\"\"\n",
    "#     SELECT customerid,songid,playcount as song_play_cnt FROM kdw_tbl_song_menu_event_statics \"\"\"\n",
    "    sql = \"\"\"\n",
    "    SELECT customerid,songid,sum(playcount) as song_play_cnt FROM kdw_tbl_song_menu_event_statics\n",
    "    GROUP BY customerid,songid\n",
    "    ORDER BY customerid,sum(playcount) DESC\"\"\"\n",
    "    cur.execute(sql)\n",
    "    df = as_pandas(cur)\n",
    "    # 只保留每个用户点歌次数最多的歌\n",
    "    df.drop_duplicates('customerid',inplace=True)    \n",
    "    #后续需要与用户表做表连\n",
    "    cur.close()\n",
    "    conn.close()    \n",
    "    return df    \n",
    "\n",
    "def language_stage(data):\n",
    "    if data == \"粤语\".decode(\"utf-8\"):\n",
    "        return 1\n",
    "    elif data == \"国语\".decode(\"utf-8\"):\n",
    "        return 2\n",
    "    else:\n",
    "        return 3\n",
    "    \n",
    "def age_song_language():\n",
    "    df = connect_Mysql('SongID as songid,LanguageType','kdw_tbl_song')\n",
    "    df['age_lan'] = [language_stage(i) for i in df['LanguageType']]\n",
    "    df.drop('LanguageType',axis=1,inplace=True)\n",
    "    return df\n",
    "\n",
    "def tag_age_from_song():\n",
    "    # 1. 抽取出songid对应的歌曲发行时间并打上时间段标签\n",
    "    df_year = song_release_time()\n",
    "    # 2. 对用户点歌记录统计操作\n",
    "    df_play_cnt = read_play_cnt()\n",
    "    tmp_df = pd.merge(df_play_cnt,df_year,how='left',on='songid')\n",
    "    # 3. 根据歌曲语言进行语言标签操作\n",
    "    df_lan = age_song_language()\n",
    "    # 4. 合并所有表\n",
    "    total_df = pd.merge(tmp_df,df_lan,how='left',on='songid')\n",
    "    \n",
    "    # 将中间结果暂存于Mysqldb中\n",
    "    conn = pymysql.connect(host=mysql_host,\n",
    "                                      port=mysql_port,\n",
    "                                      user=mysql_user,\n",
    "                                      password=mysql_password,\n",
    "                                      db=mysql_db,\n",
    "                                      charset=mysql_charset)\n",
    "    \n",
    "    total_df.to_sql(name=\"ljl_tag_age_from_song\", con=conn, flavor='mysql', if_exists='replace', index=False)\n",
    "    conn.close()"
   ]
  },
  {
   "cell_type": "code",
   "execution_count": 4,
   "metadata": {
    "collapsed": false
   },
   "outputs": [
    {
     "name": "stderr",
     "output_type": "stream",
     "text": [
      "D:\\Users\\Lenovo\\Anaconda2\\lib\\site-packages\\pandas\\core\\generic.py:1003: FutureWarning: The 'mysql' flavor with DBAPI connection is deprecated and will be removed in future versions. MySQL will be further supported with SQLAlchemy connectables.\n",
      "  dtype=dtype)\n"
     ]
    }
   ],
   "source": [
    "tag_age_from_song()"
   ]
  },
  {
   "cell_type": "markdown",
   "metadata": {},
   "source": [
    "# 1. 抽取出songid对应的歌曲发行时间并打上时间段标签"
   ]
  },
  {
   "cell_type": "code",
   "execution_count": 11,
   "metadata": {
    "collapsed": true
   },
   "outputs": [],
   "source": [
    "df = song_release_time()"
   ]
  },
  {
   "cell_type": "code",
   "execution_count": 8,
   "metadata": {
    "collapsed": false
   },
   "outputs": [
    {
     "data": {
      "text/html": [
       "<div>\n",
       "<table border=\"1\" class=\"dataframe\">\n",
       "  <thead>\n",
       "    <tr style=\"text-align: right;\">\n",
       "      <th></th>\n",
       "      <th>songid</th>\n",
       "      <th>releasetime</th>\n",
       "      <th>year</th>\n",
       "      <th>age_year</th>\n",
       "    </tr>\n",
       "  </thead>\n",
       "  <tbody>\n",
       "    <tr>\n",
       "      <th>1</th>\n",
       "      <td>00000015</td>\n",
       "      <td>1999-10-01</td>\n",
       "      <td>1999</td>\n",
       "      <td>4</td>\n",
       "    </tr>\n",
       "    <tr>\n",
       "      <th>2</th>\n",
       "      <td>00000021</td>\n",
       "      <td>2004-11-12</td>\n",
       "      <td>2004</td>\n",
       "      <td>5</td>\n",
       "    </tr>\n",
       "    <tr>\n",
       "      <th>3</th>\n",
       "      <td>00000029</td>\n",
       "      <td>2014-06-03</td>\n",
       "      <td>2014</td>\n",
       "      <td>5</td>\n",
       "    </tr>\n",
       "    <tr>\n",
       "      <th>4</th>\n",
       "      <td>00000030</td>\n",
       "      <td>2013-03-20</td>\n",
       "      <td>2013</td>\n",
       "      <td>5</td>\n",
       "    </tr>\n",
       "    <tr>\n",
       "      <th>5</th>\n",
       "      <td>00000037</td>\n",
       "      <td>2013-12-10</td>\n",
       "      <td>2013</td>\n",
       "      <td>5</td>\n",
       "    </tr>\n",
       "  </tbody>\n",
       "</table>\n",
       "</div>"
      ],
      "text/plain": [
       "     songid releasetime  year  age_year\n",
       "1  00000015  1999-10-01  1999         4\n",
       "2  00000021  2004-11-12  2004         5\n",
       "3  00000029  2014-06-03  2014         5\n",
       "4  00000030  2013-03-20  2013         5\n",
       "5  00000037  2013-12-10  2013         5"
      ]
     },
     "execution_count": 8,
     "metadata": {},
     "output_type": "execute_result"
    }
   ],
   "source": [
    "df.head()"
   ]
  },
  {
   "cell_type": "code",
   "execution_count": 9,
   "metadata": {
    "collapsed": false
   },
   "outputs": [
    {
     "data": {
      "text/plain": [
       "(27938, 4)"
      ]
     },
     "execution_count": 9,
     "metadata": {},
     "output_type": "execute_result"
    }
   ],
   "source": [
    "df.shape"
   ]
  },
  {
   "cell_type": "markdown",
   "metadata": {},
   "source": [
    "### drop掉原始发行时间"
   ]
  },
  {
   "cell_type": "code",
   "execution_count": 12,
   "metadata": {
    "collapsed": false
   },
   "outputs": [
    {
     "data": {
      "text/html": [
       "<div>\n",
       "<table border=\"1\" class=\"dataframe\">\n",
       "  <thead>\n",
       "    <tr style=\"text-align: right;\">\n",
       "      <th></th>\n",
       "      <th>songid</th>\n",
       "      <th>year</th>\n",
       "      <th>age_year</th>\n",
       "    </tr>\n",
       "  </thead>\n",
       "  <tbody>\n",
       "    <tr>\n",
       "      <th>1</th>\n",
       "      <td>00000015</td>\n",
       "      <td>1999</td>\n",
       "      <td>4</td>\n",
       "    </tr>\n",
       "    <tr>\n",
       "      <th>2</th>\n",
       "      <td>00000021</td>\n",
       "      <td>2004</td>\n",
       "      <td>5</td>\n",
       "    </tr>\n",
       "    <tr>\n",
       "      <th>3</th>\n",
       "      <td>00000029</td>\n",
       "      <td>2014</td>\n",
       "      <td>5</td>\n",
       "    </tr>\n",
       "    <tr>\n",
       "      <th>4</th>\n",
       "      <td>00000030</td>\n",
       "      <td>2013</td>\n",
       "      <td>5</td>\n",
       "    </tr>\n",
       "    <tr>\n",
       "      <th>5</th>\n",
       "      <td>00000037</td>\n",
       "      <td>2013</td>\n",
       "      <td>5</td>\n",
       "    </tr>\n",
       "  </tbody>\n",
       "</table>\n",
       "</div>"
      ],
      "text/plain": [
       "     songid  year  age_year\n",
       "1  00000015  1999         4\n",
       "2  00000021  2004         5\n",
       "3  00000029  2014         5\n",
       "4  00000030  2013         5\n",
       "5  00000037  2013         5"
      ]
     },
     "execution_count": 12,
     "metadata": {},
     "output_type": "execute_result"
    }
   ],
   "source": [
    "df.head()"
   ]
  },
  {
   "cell_type": "markdown",
   "metadata": {},
   "source": [
    "# 2. 对用户点歌记录统计操作"
   ]
  },
  {
   "cell_type": "code",
   "execution_count": 13,
   "metadata": {
    "collapsed": true
   },
   "outputs": [],
   "source": [
    "df = read_play_cnt()"
   ]
  },
  {
   "cell_type": "markdown",
   "metadata": {},
   "source": [
    "### 读出数据-这部分数据量比较大"
   ]
  },
  {
   "cell_type": "code",
   "execution_count": 14,
   "metadata": {
    "collapsed": false
   },
   "outputs": [
    {
     "data": {
      "text/html": [
       "<div>\n",
       "<table border=\"1\" class=\"dataframe\">\n",
       "  <thead>\n",
       "    <tr style=\"text-align: right;\">\n",
       "      <th></th>\n",
       "      <th>customerid</th>\n",
       "      <th>songid</th>\n",
       "      <th>song_play_cnt</th>\n",
       "    </tr>\n",
       "  </thead>\n",
       "  <tbody>\n",
       "    <tr>\n",
       "      <th>0</th>\n",
       "      <td>8673</td>\n",
       "      <td>72903095</td>\n",
       "      <td>1</td>\n",
       "    </tr>\n",
       "    <tr>\n",
       "      <th>1</th>\n",
       "      <td>3835</td>\n",
       "      <td>00002612</td>\n",
       "      <td>1</td>\n",
       "    </tr>\n",
       "    <tr>\n",
       "      <th>2</th>\n",
       "      <td>233</td>\n",
       "      <td>00006488</td>\n",
       "      <td>2</td>\n",
       "    </tr>\n",
       "    <tr>\n",
       "      <th>3</th>\n",
       "      <td>9019</td>\n",
       "      <td>20000921</td>\n",
       "      <td>1</td>\n",
       "    </tr>\n",
       "    <tr>\n",
       "      <th>4</th>\n",
       "      <td>6</td>\n",
       "      <td>10621</td>\n",
       "      <td>1</td>\n",
       "    </tr>\n",
       "  </tbody>\n",
       "</table>\n",
       "</div>"
      ],
      "text/plain": [
       "  customerid    songid song_play_cnt\n",
       "0       8673  72903095             1\n",
       "1       3835  00002612             1\n",
       "2        233  00006488             2\n",
       "3       9019  20000921             1\n",
       "4          6     10621             1"
      ]
     },
     "execution_count": 14,
     "metadata": {},
     "output_type": "execute_result"
    }
   ],
   "source": [
    "df.head()"
   ]
  },
  {
   "cell_type": "code",
   "execution_count": 15,
   "metadata": {
    "collapsed": false
   },
   "outputs": [
    {
     "data": {
      "text/plain": [
       "(10532486, 3)"
      ]
     },
     "execution_count": 15,
     "metadata": {},
     "output_type": "execute_result"
    }
   ],
   "source": [
    "df.shape"
   ]
  },
  {
   "cell_type": "code",
   "execution_count": 16,
   "metadata": {
    "collapsed": false
   },
   "outputs": [
    {
     "data": {
      "text/plain": [
       "6        308503\n",
       "-1        48694\n",
       "5         44186\n",
       "4         43842\n",
       "8050      31217\n",
       "5053      28676\n",
       "1872      24411\n",
       "2871      17817\n",
       "2874      16482\n",
       "5677      15146\n",
       "5862      14967\n",
       "7996      14384\n",
       "1004      14219\n",
       "9258      14081\n",
       "9450      13802\n",
       "5742      13753\n",
       "7460      13351\n",
       "1848      13188\n",
       "4050      13128\n",
       "5555      13070\n",
       "7586      12692\n",
       "1073      12486\n",
       "5887      12452\n",
       "5586      12335\n",
       "2634      12189\n",
       "2054      12039\n",
       "5035      11639\n",
       "1836      11587\n",
       "4242      11562\n",
       "390       11542\n",
       "          ...  \n",
       "8544          2\n",
       "7297          2\n",
       "10650         2\n",
       "4659          2\n",
       "5782          1\n",
       "8554          1\n",
       "44            1\n",
       "3429          1\n",
       "1117          1\n",
       "10619         1\n",
       "2917          1\n",
       "27            1\n",
       "10244         1\n",
       "403           1\n",
       "10350         1\n",
       "4429          1\n",
       "8980          1\n",
       "8846          1\n",
       "0             1\n",
       "10327         1\n",
       "9691          1\n",
       "2894          1\n",
       "5625          1\n",
       "9150          1\n",
       "2308          1\n",
       "9406          1\n",
       "4238          1\n",
       "860           1\n",
       "3935          1\n",
       "8747          1\n",
       "Name: customerid, dtype: int64"
      ]
     },
     "execution_count": 16,
     "metadata": {},
     "output_type": "execute_result"
    }
   ],
   "source": [
    "pd.value_counts_counts_counts(df['customerid'])"
   ]
  },
  {
   "cell_type": "markdown",
   "metadata": {},
   "source": [
    "## 数据量太大了，使用dataframe进行操作太慢，换用sql操作"
   ]
  },
  {
   "cell_type": "code",
   "execution_count": 36,
   "metadata": {
    "collapsed": false
   },
   "outputs": [],
   "source": [
    "df = read_play_cnt()"
   ]
  },
  {
   "cell_type": "code",
   "execution_count": 37,
   "metadata": {
    "collapsed": false
   },
   "outputs": [
    {
     "data": {
      "text/html": [
       "<div>\n",
       "<table border=\"1\" class=\"dataframe\">\n",
       "  <thead>\n",
       "    <tr style=\"text-align: right;\">\n",
       "      <th></th>\n",
       "      <th>customerid</th>\n",
       "      <th>songid</th>\n",
       "      <th>song_play_cnt</th>\n",
       "    </tr>\n",
       "  </thead>\n",
       "  <tbody>\n",
       "    <tr>\n",
       "      <th>0</th>\n",
       "      <td>-1</td>\n",
       "      <td>00006488</td>\n",
       "      <td>389</td>\n",
       "    </tr>\n",
       "    <tr>\n",
       "      <th>1</th>\n",
       "      <td>-1</td>\n",
       "      <td>00041123</td>\n",
       "      <td>264</td>\n",
       "    </tr>\n",
       "    <tr>\n",
       "      <th>2</th>\n",
       "      <td>-1</td>\n",
       "      <td>00024830</td>\n",
       "      <td>247</td>\n",
       "    </tr>\n",
       "    <tr>\n",
       "      <th>3</th>\n",
       "      <td>-1</td>\n",
       "      <td>00022830</td>\n",
       "      <td>197</td>\n",
       "    </tr>\n",
       "    <tr>\n",
       "      <th>4</th>\n",
       "      <td>-1</td>\n",
       "      <td>13015848</td>\n",
       "      <td>171</td>\n",
       "    </tr>\n",
       "  </tbody>\n",
       "</table>\n",
       "</div>"
      ],
      "text/plain": [
       "  customerid    songid  song_play_cnt\n",
       "0         -1  00006488            389\n",
       "1         -1  00041123            264\n",
       "2         -1  00024830            247\n",
       "3         -1  00022830            197\n",
       "4         -1  13015848            171"
      ]
     },
     "execution_count": 37,
     "metadata": {},
     "output_type": "execute_result"
    }
   ],
   "source": [
    "df.head()"
   ]
  },
  {
   "cell_type": "code",
   "execution_count": 38,
   "metadata": {
    "collapsed": false
   },
   "outputs": [
    {
     "data": {
      "text/plain": [
       "(5832828, 3)"
      ]
     },
     "execution_count": 38,
     "metadata": {},
     "output_type": "execute_result"
    }
   ],
   "source": [
    "df.shape"
   ]
  },
  {
   "cell_type": "code",
   "execution_count": 41,
   "metadata": {
    "collapsed": false
   },
   "outputs": [
    {
     "data": {
      "text/plain": [
       "1       3703922\n",
       "2       1015838\n",
       "3        434950\n",
       "4        221830\n",
       "5        129075\n",
       "6         83040\n",
       "7         55774\n",
       "8         39663\n",
       "9         28778\n",
       "10        21452\n",
       "11        16472\n",
       "12        13020\n",
       "13        10250\n",
       "14         8247\n",
       "15         6730\n",
       "16         5714\n",
       "17         4570\n",
       "18         3867\n",
       "19         3286\n",
       "20         2752\n",
       "21         2478\n",
       "22         1996\n",
       "23         1731\n",
       "24         1525\n",
       "25         1433\n",
       "26         1205\n",
       "27         1053\n",
       "28          960\n",
       "29          796\n",
       "30          738\n",
       "         ...   \n",
       "398           1\n",
       "394           1\n",
       "392           1\n",
       "386           1\n",
       "380           1\n",
       "379           1\n",
       "374           1\n",
       "370           1\n",
       "358           1\n",
       "355           1\n",
       "349           1\n",
       "343           1\n",
       "340           1\n",
       "338           1\n",
       "337           1\n",
       "336           1\n",
       "335           1\n",
       "334           1\n",
       "331           1\n",
       "327           1\n",
       "325           1\n",
       "318           1\n",
       "317           1\n",
       "312           1\n",
       "298           1\n",
       "296           1\n",
       "293           1\n",
       "292           1\n",
       "291           1\n",
       "2310          1\n",
       "Name: song_play_cnt, dtype: int64"
      ]
     },
     "execution_count": 41,
     "metadata": {},
     "output_type": "execute_result"
    }
   ],
   "source": [
    "pd.value_counts(df['song_play_cnt'])"
   ]
  },
  {
   "cell_type": "markdown",
   "metadata": {},
   "source": [
    "## 保留每个用户点歌次数最多的歌"
   ]
  },
  {
   "cell_type": "code",
   "execution_count": 43,
   "metadata": {
    "collapsed": true
   },
   "outputs": [],
   "source": [
    "df.drop_duplicates('customerid',inplace=True)"
   ]
  },
  {
   "cell_type": "code",
   "execution_count": 44,
   "metadata": {
    "collapsed": false
   },
   "outputs": [
    {
     "data": {
      "text/plain": [
       "(6734, 3)"
      ]
     },
     "execution_count": 44,
     "metadata": {},
     "output_type": "execute_result"
    }
   ],
   "source": [
    "df.shape"
   ]
  },
  {
   "cell_type": "code",
   "execution_count": 45,
   "metadata": {
    "collapsed": false
   },
   "outputs": [
    {
     "data": {
      "text/html": [
       "<div>\n",
       "<table border=\"1\" class=\"dataframe\">\n",
       "  <thead>\n",
       "    <tr style=\"text-align: right;\">\n",
       "      <th></th>\n",
       "      <th>customerid</th>\n",
       "      <th>songid</th>\n",
       "      <th>song_play_cnt</th>\n",
       "    </tr>\n",
       "  </thead>\n",
       "  <tbody>\n",
       "    <tr>\n",
       "      <th>0</th>\n",
       "      <td>-1</td>\n",
       "      <td>00006488</td>\n",
       "      <td>389</td>\n",
       "    </tr>\n",
       "    <tr>\n",
       "      <th>16720</th>\n",
       "      <td>0</td>\n",
       "      <td>00022539</td>\n",
       "      <td>1</td>\n",
       "    </tr>\n",
       "    <tr>\n",
       "      <th>16721</th>\n",
       "      <td>10002</td>\n",
       "      <td>00090974</td>\n",
       "      <td>11</td>\n",
       "    </tr>\n",
       "    <tr>\n",
       "      <th>16822</th>\n",
       "      <td>10004</td>\n",
       "      <td>00022830</td>\n",
       "      <td>1</td>\n",
       "    </tr>\n",
       "    <tr>\n",
       "      <th>16837</th>\n",
       "      <td>10006</td>\n",
       "      <td>14001176</td>\n",
       "      <td>4</td>\n",
       "    </tr>\n",
       "  </tbody>\n",
       "</table>\n",
       "</div>"
      ],
      "text/plain": [
       "      customerid    songid  song_play_cnt\n",
       "0             -1  00006488            389\n",
       "16720          0  00022539              1\n",
       "16721      10002  00090974             11\n",
       "16822      10004  00022830              1\n",
       "16837      10006  14001176              4"
      ]
     },
     "execution_count": 45,
     "metadata": {},
     "output_type": "execute_result"
    }
   ],
   "source": [
    "df.head()"
   ]
  },
  {
   "cell_type": "markdown",
   "metadata": {},
   "source": [
    "# 3. 根据歌曲语言进行语言标签操作"
   ]
  },
  {
   "cell_type": "code",
   "execution_count": 47,
   "metadata": {
    "collapsed": true
   },
   "outputs": [],
   "source": [
    "df = age_song_language()"
   ]
  },
  {
   "cell_type": "code",
   "execution_count": 48,
   "metadata": {
    "collapsed": false
   },
   "outputs": [
    {
     "data": {
      "text/html": [
       "<div>\n",
       "<table border=\"1\" class=\"dataframe\">\n",
       "  <thead>\n",
       "    <tr style=\"text-align: right;\">\n",
       "      <th></th>\n",
       "      <th>songid</th>\n",
       "      <th>age_lan</th>\n",
       "    </tr>\n",
       "  </thead>\n",
       "  <tbody>\n",
       "    <tr>\n",
       "      <th>0</th>\n",
       "      <td>00000002</td>\n",
       "      <td>3</td>\n",
       "    </tr>\n",
       "    <tr>\n",
       "      <th>1</th>\n",
       "      <td>00000003</td>\n",
       "      <td>3</td>\n",
       "    </tr>\n",
       "    <tr>\n",
       "      <th>2</th>\n",
       "      <td>00000004</td>\n",
       "      <td>3</td>\n",
       "    </tr>\n",
       "    <tr>\n",
       "      <th>3</th>\n",
       "      <td>00000005</td>\n",
       "      <td>3</td>\n",
       "    </tr>\n",
       "    <tr>\n",
       "      <th>4</th>\n",
       "      <td>00000006</td>\n",
       "      <td>3</td>\n",
       "    </tr>\n",
       "  </tbody>\n",
       "</table>\n",
       "</div>"
      ],
      "text/plain": [
       "     songid  age_lan\n",
       "0  00000002        3\n",
       "1  00000003        3\n",
       "2  00000004        3\n",
       "3  00000005        3\n",
       "4  00000006        3"
      ]
     },
     "execution_count": 48,
     "metadata": {},
     "output_type": "execute_result"
    }
   ],
   "source": [
    "df.head()"
   ]
  },
  {
   "cell_type": "code",
   "execution_count": 49,
   "metadata": {
    "collapsed": false
   },
   "outputs": [
    {
     "data": {
      "text/plain": [
       "(157091, 2)"
      ]
     },
     "execution_count": 49,
     "metadata": {},
     "output_type": "execute_result"
    }
   ],
   "source": [
    "df.shape"
   ]
  },
  {
   "cell_type": "markdown",
   "metadata": {},
   "source": [
    "# 4. 合并所有表"
   ]
  },
  {
   "cell_type": "code",
   "execution_count": 50,
   "metadata": {
    "collapsed": true
   },
   "outputs": [],
   "source": [
    "df = tag_age_from_song()"
   ]
  },
  {
   "cell_type": "code",
   "execution_count": 51,
   "metadata": {
    "collapsed": false
   },
   "outputs": [
    {
     "data": {
      "text/html": [
       "<div>\n",
       "<table border=\"1\" class=\"dataframe\">\n",
       "  <thead>\n",
       "    <tr style=\"text-align: right;\">\n",
       "      <th></th>\n",
       "      <th>customerid</th>\n",
       "      <th>songid</th>\n",
       "      <th>song_play_cnt</th>\n",
       "      <th>year</th>\n",
       "      <th>age_year</th>\n",
       "      <th>age_lan</th>\n",
       "    </tr>\n",
       "  </thead>\n",
       "  <tbody>\n",
       "    <tr>\n",
       "      <th>0</th>\n",
       "      <td>-1</td>\n",
       "      <td>00006488</td>\n",
       "      <td>389</td>\n",
       "      <td>NaN</td>\n",
       "      <td>NaN</td>\n",
       "      <td>2</td>\n",
       "    </tr>\n",
       "    <tr>\n",
       "      <th>1</th>\n",
       "      <td>0</td>\n",
       "      <td>00022539</td>\n",
       "      <td>1</td>\n",
       "      <td>NaN</td>\n",
       "      <td>NaN</td>\n",
       "      <td>1</td>\n",
       "    </tr>\n",
       "    <tr>\n",
       "      <th>2</th>\n",
       "      <td>10002</td>\n",
       "      <td>00090974</td>\n",
       "      <td>11</td>\n",
       "      <td>2011</td>\n",
       "      <td>5</td>\n",
       "      <td>2</td>\n",
       "    </tr>\n",
       "    <tr>\n",
       "      <th>3</th>\n",
       "      <td>10004</td>\n",
       "      <td>00022830</td>\n",
       "      <td>1</td>\n",
       "      <td>2004</td>\n",
       "      <td>5</td>\n",
       "      <td>2</td>\n",
       "    </tr>\n",
       "    <tr>\n",
       "      <th>4</th>\n",
       "      <td>10006</td>\n",
       "      <td>14001176</td>\n",
       "      <td>4</td>\n",
       "      <td>NaN</td>\n",
       "      <td>NaN</td>\n",
       "      <td>2</td>\n",
       "    </tr>\n",
       "  </tbody>\n",
       "</table>\n",
       "</div>"
      ],
      "text/plain": [
       "  customerid    songid  song_play_cnt  year  age_year  age_lan\n",
       "0         -1  00006488            389   NaN       NaN        2\n",
       "1          0  00022539              1   NaN       NaN        1\n",
       "2      10002  00090974             11  2011         5        2\n",
       "3      10004  00022830              1  2004         5        2\n",
       "4      10006  14001176              4   NaN       NaN        2"
      ]
     },
     "execution_count": 51,
     "metadata": {},
     "output_type": "execute_result"
    }
   ],
   "source": [
    "df.head()"
   ]
  },
  {
   "cell_type": "code",
   "execution_count": 52,
   "metadata": {
    "collapsed": false
   },
   "outputs": [
    {
     "data": {
      "text/plain": [
       "(6734, 6)"
      ]
     },
     "execution_count": 52,
     "metadata": {},
     "output_type": "execute_result"
    }
   ],
   "source": [
    "df.shape"
   ]
  },
  {
   "cell_type": "code",
   "execution_count": 53,
   "metadata": {
    "collapsed": false
   },
   "outputs": [
    {
     "name": "stdout",
     "output_type": "stream",
     "text": [
      "<class 'pandas.core.frame.DataFrame'>\n",
      "Int64Index: 6734 entries, 0 to 6733\n",
      "Data columns (total 6 columns):\n",
      "customerid       6734 non-null object\n",
      "songid           6734 non-null object\n",
      "song_play_cnt    6734 non-null int64\n",
      "year             2305 non-null float64\n",
      "age_year         2305 non-null float64\n",
      "age_lan          6618 non-null float64\n",
      "dtypes: float64(3), int64(1), object(2)\n",
      "memory usage: 368.3+ KB\n"
     ]
    }
   ],
   "source": [
    "df.info()"
   ]
  },
  {
   "cell_type": "code",
   "execution_count": 54,
   "metadata": {
    "collapsed": false
   },
   "outputs": [
    {
     "data": {
      "text/plain": [
       "Index([u'customerid', u'songid', u'song_play_cnt', u'year', u'age_year',\n",
       "       u'age_lan'],\n",
       "      dtype='object')"
      ]
     },
     "execution_count": 54,
     "metadata": {},
     "output_type": "execute_result"
    }
   ],
   "source": [
    "df.columns"
   ]
  },
  {
   "cell_type": "code",
   "execution_count": null,
   "metadata": {
    "collapsed": true
   },
   "outputs": [],
   "source": []
  }
 ],
 "metadata": {
  "kernelspec": {
   "display_name": "Python 2",
   "language": "python",
   "name": "python2"
  },
  "language_info": {
   "codemirror_mode": {
    "name": "ipython",
    "version": 2
   },
   "file_extension": ".py",
   "mimetype": "text/x-python",
   "name": "python",
   "nbconvert_exporter": "python",
   "pygments_lexer": "ipython2",
   "version": "2.7.13"
  }
 },
 "nbformat": 4,
 "nbformat_minor": 0
}
