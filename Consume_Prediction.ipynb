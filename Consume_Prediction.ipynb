{
 "cells": [
  {
   "cell_type": "markdown",
   "metadata": {},
   "source": [
    "# 消费水平预测"
   ]
  },
  {
   "cell_type": "code",
   "execution_count": 1,
   "metadata": {
    "collapsed": true
   },
   "outputs": [],
   "source": [
    "# coding=utf-8\n",
    "\"\"\"\n",
    "Credit by Liao Jialing\n",
    "\n",
    "\"\"\"\n",
    "import xgboost as xgb\n",
    "import pandas as pd\n",
    "import numpy as np\n",
    "from sklearn.cross_validation import train_test_split\n",
    "from sklearn.ensemble import RandomForestRegressor\n",
    "from sklearn.feature_selection import SelectFromModel"
   ]
  },
  {
   "cell_type": "markdown",
   "metadata": {},
   "source": [
    "# 1. 读入清洗整理后的用户基本信息宽表"
   ]
  },
  {
   "cell_type": "code",
   "execution_count": 2,
   "metadata": {
    "collapsed": false
   },
   "outputs": [
    {
     "name": "stderr",
     "output_type": "stream",
     "text": [
      "D:\\Users\\Jialing Liao\\AppData\\Local\\Continuum\\Anaconda2\\lib\\site-packages\\IPython\\core\\interactiveshell.py:2902: DtypeWarning: Columns (0) have mixed types. Specify dtype option on import or set low_memory=False.\n",
      "  interactivity=interactivity, compiler=compiler, result=result)\n"
     ]
    }
   ],
   "source": [
    "dataset = pd.read_csv('E:/user_all_cleared.csv')"
   ]
  },
  {
   "cell_type": "markdown",
   "metadata": {},
   "source": [
    "## 将target放在第一列"
   ]
  },
  {
   "cell_type": "code",
   "execution_count": 3,
   "metadata": {
    "collapsed": true
   },
   "outputs": [],
   "source": [
    "shop_label = dataset.pop('shop_real_sum_avg')"
   ]
  },
  {
   "cell_type": "code",
   "execution_count": 4,
   "metadata": {
    "collapsed": true
   },
   "outputs": [],
   "source": [
    "dataset.insert(0,'shop_real_sum_avg',shop_label)"
   ]
  },
  {
   "cell_type": "code",
   "execution_count": 5,
   "metadata": {
    "collapsed": false
   },
   "outputs": [
    {
     "data": {
      "text/plain": [
       "(503862, 152)"
      ]
     },
     "execution_count": 5,
     "metadata": {},
     "output_type": "execute_result"
    }
   ],
   "source": [
    "dataset.shape"
   ]
  },
  {
   "cell_type": "code",
   "execution_count": 6,
   "metadata": {
    "collapsed": false
   },
   "outputs": [
    {
     "data": {
      "text/html": [
       "<div>\n",
       "<table border=\"1\" class=\"dataframe\">\n",
       "  <thead>\n",
       "    <tr style=\"text-align: right;\">\n",
       "      <th></th>\n",
       "      <th>shop_real_sum_avg</th>\n",
       "      <th>customerid</th>\n",
       "      <th>accountcash</th>\n",
       "      <th>accountbalance</th>\n",
       "      <th>integralbalance</th>\n",
       "      <th>consumetotal</th>\n",
       "      <th>consumetimes</th>\n",
       "      <th>lastconsume_diff_create_day</th>\n",
       "      <th>lastconsume_diff_create_hour</th>\n",
       "      <th>lastconsume_diff_now</th>\n",
       "      <th>...</th>\n",
       "      <th>age_from_song_language_3.0</th>\n",
       "      <th>age_from_song_language_not_known</th>\n",
       "      <th>shop_com_regioncode_310000.0</th>\n",
       "      <th>shop_com_regioncode_350000.0</th>\n",
       "      <th>shop_com_regioncode_440000.0</th>\n",
       "      <th>shop_com_regioncode_500000.0</th>\n",
       "      <th>shop_com_regioncode_not_known</th>\n",
       "      <th>shop_com_managetype_1.0</th>\n",
       "      <th>shop_com_managetype_2.0</th>\n",
       "      <th>shop_com_managetype_not_known</th>\n",
       "    </tr>\n",
       "  </thead>\n",
       "  <tbody>\n",
       "    <tr>\n",
       "      <th>0</th>\n",
       "      <td>0</td>\n",
       "      <td>5792237</td>\n",
       "      <td>0</td>\n",
       "      <td>0</td>\n",
       "      <td>0</td>\n",
       "      <td>0</td>\n",
       "      <td>0</td>\n",
       "      <td>0</td>\n",
       "      <td>0</td>\n",
       "      <td>0</td>\n",
       "      <td>...</td>\n",
       "      <td>0</td>\n",
       "      <td>1</td>\n",
       "      <td>0</td>\n",
       "      <td>0</td>\n",
       "      <td>0</td>\n",
       "      <td>0</td>\n",
       "      <td>1</td>\n",
       "      <td>0</td>\n",
       "      <td>0</td>\n",
       "      <td>1</td>\n",
       "    </tr>\n",
       "    <tr>\n",
       "      <th>1</th>\n",
       "      <td>0</td>\n",
       "      <td>5792238</td>\n",
       "      <td>0</td>\n",
       "      <td>0</td>\n",
       "      <td>0</td>\n",
       "      <td>0</td>\n",
       "      <td>0</td>\n",
       "      <td>0</td>\n",
       "      <td>0</td>\n",
       "      <td>0</td>\n",
       "      <td>...</td>\n",
       "      <td>0</td>\n",
       "      <td>1</td>\n",
       "      <td>0</td>\n",
       "      <td>0</td>\n",
       "      <td>0</td>\n",
       "      <td>0</td>\n",
       "      <td>1</td>\n",
       "      <td>0</td>\n",
       "      <td>0</td>\n",
       "      <td>1</td>\n",
       "    </tr>\n",
       "    <tr>\n",
       "      <th>2</th>\n",
       "      <td>0</td>\n",
       "      <td>5792239</td>\n",
       "      <td>0</td>\n",
       "      <td>0</td>\n",
       "      <td>0</td>\n",
       "      <td>0</td>\n",
       "      <td>0</td>\n",
       "      <td>0</td>\n",
       "      <td>0</td>\n",
       "      <td>0</td>\n",
       "      <td>...</td>\n",
       "      <td>0</td>\n",
       "      <td>1</td>\n",
       "      <td>0</td>\n",
       "      <td>0</td>\n",
       "      <td>0</td>\n",
       "      <td>0</td>\n",
       "      <td>1</td>\n",
       "      <td>0</td>\n",
       "      <td>0</td>\n",
       "      <td>1</td>\n",
       "    </tr>\n",
       "    <tr>\n",
       "      <th>3</th>\n",
       "      <td>0</td>\n",
       "      <td>5792241</td>\n",
       "      <td>0</td>\n",
       "      <td>0</td>\n",
       "      <td>0</td>\n",
       "      <td>0</td>\n",
       "      <td>0</td>\n",
       "      <td>0</td>\n",
       "      <td>0</td>\n",
       "      <td>0</td>\n",
       "      <td>...</td>\n",
       "      <td>0</td>\n",
       "      <td>1</td>\n",
       "      <td>0</td>\n",
       "      <td>0</td>\n",
       "      <td>0</td>\n",
       "      <td>0</td>\n",
       "      <td>1</td>\n",
       "      <td>0</td>\n",
       "      <td>0</td>\n",
       "      <td>1</td>\n",
       "    </tr>\n",
       "    <tr>\n",
       "      <th>4</th>\n",
       "      <td>0</td>\n",
       "      <td>5792242</td>\n",
       "      <td>0</td>\n",
       "      <td>0</td>\n",
       "      <td>0</td>\n",
       "      <td>0</td>\n",
       "      <td>0</td>\n",
       "      <td>0</td>\n",
       "      <td>0</td>\n",
       "      <td>0</td>\n",
       "      <td>...</td>\n",
       "      <td>0</td>\n",
       "      <td>1</td>\n",
       "      <td>0</td>\n",
       "      <td>0</td>\n",
       "      <td>0</td>\n",
       "      <td>0</td>\n",
       "      <td>1</td>\n",
       "      <td>0</td>\n",
       "      <td>0</td>\n",
       "      <td>1</td>\n",
       "    </tr>\n",
       "  </tbody>\n",
       "</table>\n",
       "<p>5 rows × 152 columns</p>\n",
       "</div>"
      ],
      "text/plain": [
       "   shop_real_sum_avg customerid  accountcash  accountbalance  integralbalance  \\\n",
       "0                  0    5792237            0               0                0   \n",
       "1                  0    5792238            0               0                0   \n",
       "2                  0    5792239            0               0                0   \n",
       "3                  0    5792241            0               0                0   \n",
       "4                  0    5792242            0               0                0   \n",
       "\n",
       "   consumetotal  consumetimes  lastconsume_diff_create_day  \\\n",
       "0             0             0                            0   \n",
       "1             0             0                            0   \n",
       "2             0             0                            0   \n",
       "3             0             0                            0   \n",
       "4             0             0                            0   \n",
       "\n",
       "   lastconsume_diff_create_hour  lastconsume_diff_now  \\\n",
       "0                             0                     0   \n",
       "1                             0                     0   \n",
       "2                             0                     0   \n",
       "3                             0                     0   \n",
       "4                             0                     0   \n",
       "\n",
       "               ...                age_from_song_language_3.0  \\\n",
       "0              ...                                         0   \n",
       "1              ...                                         0   \n",
       "2              ...                                         0   \n",
       "3              ...                                         0   \n",
       "4              ...                                         0   \n",
       "\n",
       "   age_from_song_language_not_known  shop_com_regioncode_310000.0  \\\n",
       "0                                 1                             0   \n",
       "1                                 1                             0   \n",
       "2                                 1                             0   \n",
       "3                                 1                             0   \n",
       "4                                 1                             0   \n",
       "\n",
       "   shop_com_regioncode_350000.0  shop_com_regioncode_440000.0  \\\n",
       "0                             0                             0   \n",
       "1                             0                             0   \n",
       "2                             0                             0   \n",
       "3                             0                             0   \n",
       "4                             0                             0   \n",
       "\n",
       "   shop_com_regioncode_500000.0  shop_com_regioncode_not_known  \\\n",
       "0                             0                              1   \n",
       "1                             0                              1   \n",
       "2                             0                              1   \n",
       "3                             0                              1   \n",
       "4                             0                              1   \n",
       "\n",
       "   shop_com_managetype_1.0  shop_com_managetype_2.0  \\\n",
       "0                        0                        0   \n",
       "1                        0                        0   \n",
       "2                        0                        0   \n",
       "3                        0                        0   \n",
       "4                        0                        0   \n",
       "\n",
       "   shop_com_managetype_not_known  \n",
       "0                              1  \n",
       "1                              1  \n",
       "2                              1  \n",
       "3                              1  \n",
       "4                              1  \n",
       "\n",
       "[5 rows x 152 columns]"
      ]
     },
     "execution_count": 6,
     "metadata": {},
     "output_type": "execute_result"
    }
   ],
   "source": [
    "dataset.head()"
   ]
  },
  {
   "cell_type": "code",
   "execution_count": 33,
   "metadata": {
    "collapsed": false
   },
   "outputs": [
    {
     "data": {
      "text/plain": [
       "0.000000      453894\n",
       "39.000000       3389\n",
       "12.000000       2741\n",
       "43.000000       2564\n",
       "10.000000       2097\n",
       "8.000000        1605\n",
       "15.000000       1536\n",
       "18.000000       1485\n",
       "20.000000       1473\n",
       "16.000000       1149\n",
       "6.000000        1028\n",
       "30.000000        846\n",
       "78.000000        590\n",
       "11.000000        575\n",
       "86.000000        560\n",
       "28.000000        556\n",
       "100.000000       552\n",
       "58.000000        540\n",
       "129.000000       502\n",
       "13.000000        488\n",
       "9.000000         451\n",
       "25.000000        422\n",
       "14.000000        411\n",
       "68.000000        406\n",
       "7.000000         405\n",
       "500.000000       389\n",
       "172.000000       382\n",
       "117.000000       378\n",
       "24.000000        371\n",
       "38.000000        367\n",
       "               ...  \n",
       "349.333333         1\n",
       "141.666667         1\n",
       "44.538462          1\n",
       "660.200000         1\n",
       "195.857143         1\n",
       "58.200000          1\n",
       "167.500000         1\n",
       "220.500000         1\n",
       "147.250000         1\n",
       "43.250000          1\n",
       "162.689655         1\n",
       "16.750000          1\n",
       "64.600000          1\n",
       "57.111111          1\n",
       "924.764706         1\n",
       "39.111111          1\n",
       "147.666667         1\n",
       "51.153846          1\n",
       "78.914286          1\n",
       "9.833333           1\n",
       "140.250000         1\n",
       "133.500000         1\n",
       "166.750000         1\n",
       "109.588235         1\n",
       "93.500000          1\n",
       "129.750000         1\n",
       "92.857143          1\n",
       "225.250000         1\n",
       "6.800000           1\n",
       "212.333333         1\n",
       "Name: shop_real_sum_avg, dtype: int64"
      ]
     },
     "execution_count": 33,
     "metadata": {},
     "output_type": "execute_result"
    }
   ],
   "source": [
    "pd.value_counts(dataset['shop_real_sum_avg'])"
   ]
  },
  {
   "cell_type": "markdown",
   "metadata": {},
   "source": [
    "# 2. 分出测试集和训练集"
   ]
  },
  {
   "cell_type": "code",
   "execution_count": 7,
   "metadata": {
    "collapsed": true
   },
   "outputs": [],
   "source": [
    "train = dataset[dataset['shop_real_sum_avg']!=0]\n",
    "test = dataset[dataset['shop_real_sum_avg']==0]\n",
    "test_id = test.customerid\n",
    "test = test.drop('customerid',axis=1)\n",
    "X = train.drop(['shop_real_sum_avg','customerid'],axis=1)\n",
    "y = train.shop_real_sum_avg.values\n",
    "X_train,X_test,y_train,y_test = train_test_split(X,y,test_size=0.2,random_state=1026)"
   ]
  },
  {
   "cell_type": "code",
   "execution_count": 8,
   "metadata": {
    "collapsed": false
   },
   "outputs": [
    {
     "data": {
      "text/plain": [
       "(49968, 152)"
      ]
     },
     "execution_count": 8,
     "metadata": {},
     "output_type": "execute_result"
    }
   ],
   "source": [
    "train.shape"
   ]
  },
  {
   "cell_type": "code",
   "execution_count": 9,
   "metadata": {
    "collapsed": false
   },
   "outputs": [
    {
     "data": {
      "text/plain": [
       "(453894, 151)"
      ]
     },
     "execution_count": 9,
     "metadata": {},
     "output_type": "execute_result"
    }
   ],
   "source": [
    "test.shape"
   ]
  },
  {
   "cell_type": "code",
   "execution_count": 10,
   "metadata": {
    "collapsed": false,
    "scrolled": true
   },
   "outputs": [
    {
     "name": "stdout",
     "output_type": "stream",
     "text": [
      "((39974, 150), (9994, 150), (453894, 151))\n"
     ]
    }
   ],
   "source": [
    "print(X_train.shape,X_test.shape,test.shape)"
   ]
  },
  {
   "cell_type": "code",
   "execution_count": 11,
   "metadata": {
    "collapsed": false
   },
   "outputs": [
    {
     "data": {
      "text/html": [
       "<div>\n",
       "<table border=\"1\" class=\"dataframe\">\n",
       "  <thead>\n",
       "    <tr style=\"text-align: right;\">\n",
       "      <th></th>\n",
       "      <th>shop_real_sum_avg</th>\n",
       "      <th>customerid</th>\n",
       "      <th>accountcash</th>\n",
       "      <th>accountbalance</th>\n",
       "      <th>integralbalance</th>\n",
       "      <th>consumetotal</th>\n",
       "      <th>consumetimes</th>\n",
       "      <th>lastconsume_diff_create_day</th>\n",
       "      <th>lastconsume_diff_create_hour</th>\n",
       "      <th>lastconsume_diff_now</th>\n",
       "      <th>...</th>\n",
       "      <th>age_from_song_language_3.0</th>\n",
       "      <th>age_from_song_language_not_known</th>\n",
       "      <th>shop_com_regioncode_310000.0</th>\n",
       "      <th>shop_com_regioncode_350000.0</th>\n",
       "      <th>shop_com_regioncode_440000.0</th>\n",
       "      <th>shop_com_regioncode_500000.0</th>\n",
       "      <th>shop_com_regioncode_not_known</th>\n",
       "      <th>shop_com_managetype_1.0</th>\n",
       "      <th>shop_com_managetype_2.0</th>\n",
       "      <th>shop_com_managetype_not_known</th>\n",
       "    </tr>\n",
       "  </thead>\n",
       "  <tbody>\n",
       "    <tr>\n",
       "      <th>301731</th>\n",
       "      <td>648.0</td>\n",
       "      <td>5792307</td>\n",
       "      <td>0</td>\n",
       "      <td>0</td>\n",
       "      <td>0</td>\n",
       "      <td>0</td>\n",
       "      <td>0</td>\n",
       "      <td>0</td>\n",
       "      <td>0</td>\n",
       "      <td>0</td>\n",
       "      <td>...</td>\n",
       "      <td>0</td>\n",
       "      <td>1</td>\n",
       "      <td>0</td>\n",
       "      <td>1</td>\n",
       "      <td>0</td>\n",
       "      <td>0</td>\n",
       "      <td>0</td>\n",
       "      <td>1</td>\n",
       "      <td>0</td>\n",
       "      <td>0</td>\n",
       "    </tr>\n",
       "    <tr>\n",
       "      <th>301732</th>\n",
       "      <td>11.5</td>\n",
       "      <td>5792313</td>\n",
       "      <td>0</td>\n",
       "      <td>0</td>\n",
       "      <td>0</td>\n",
       "      <td>0</td>\n",
       "      <td>0</td>\n",
       "      <td>0</td>\n",
       "      <td>0</td>\n",
       "      <td>0</td>\n",
       "      <td>...</td>\n",
       "      <td>0</td>\n",
       "      <td>1</td>\n",
       "      <td>0</td>\n",
       "      <td>0</td>\n",
       "      <td>1</td>\n",
       "      <td>0</td>\n",
       "      <td>0</td>\n",
       "      <td>1</td>\n",
       "      <td>0</td>\n",
       "      <td>0</td>\n",
       "    </tr>\n",
       "    <tr>\n",
       "      <th>301733</th>\n",
       "      <td>25.5</td>\n",
       "      <td>5792325</td>\n",
       "      <td>0</td>\n",
       "      <td>0</td>\n",
       "      <td>0</td>\n",
       "      <td>0</td>\n",
       "      <td>0</td>\n",
       "      <td>0</td>\n",
       "      <td>0</td>\n",
       "      <td>0</td>\n",
       "      <td>...</td>\n",
       "      <td>0</td>\n",
       "      <td>1</td>\n",
       "      <td>0</td>\n",
       "      <td>0</td>\n",
       "      <td>1</td>\n",
       "      <td>0</td>\n",
       "      <td>0</td>\n",
       "      <td>1</td>\n",
       "      <td>0</td>\n",
       "      <td>0</td>\n",
       "    </tr>\n",
       "    <tr>\n",
       "      <th>301737</th>\n",
       "      <td>10.0</td>\n",
       "      <td>5792340</td>\n",
       "      <td>0</td>\n",
       "      <td>0</td>\n",
       "      <td>0</td>\n",
       "      <td>0</td>\n",
       "      <td>0</td>\n",
       "      <td>0</td>\n",
       "      <td>0</td>\n",
       "      <td>0</td>\n",
       "      <td>...</td>\n",
       "      <td>0</td>\n",
       "      <td>1</td>\n",
       "      <td>0</td>\n",
       "      <td>0</td>\n",
       "      <td>1</td>\n",
       "      <td>0</td>\n",
       "      <td>0</td>\n",
       "      <td>1</td>\n",
       "      <td>0</td>\n",
       "      <td>0</td>\n",
       "    </tr>\n",
       "    <tr>\n",
       "      <th>301738</th>\n",
       "      <td>788.0</td>\n",
       "      <td>5792343</td>\n",
       "      <td>0</td>\n",
       "      <td>0</td>\n",
       "      <td>0</td>\n",
       "      <td>0</td>\n",
       "      <td>0</td>\n",
       "      <td>0</td>\n",
       "      <td>0</td>\n",
       "      <td>0</td>\n",
       "      <td>...</td>\n",
       "      <td>0</td>\n",
       "      <td>1</td>\n",
       "      <td>0</td>\n",
       "      <td>0</td>\n",
       "      <td>1</td>\n",
       "      <td>0</td>\n",
       "      <td>0</td>\n",
       "      <td>1</td>\n",
       "      <td>0</td>\n",
       "      <td>0</td>\n",
       "    </tr>\n",
       "  </tbody>\n",
       "</table>\n",
       "<p>5 rows × 152 columns</p>\n",
       "</div>"
      ],
      "text/plain": [
       "        shop_real_sum_avg customerid  accountcash  accountbalance  \\\n",
       "301731              648.0    5792307            0               0   \n",
       "301732               11.5    5792313            0               0   \n",
       "301733               25.5    5792325            0               0   \n",
       "301737               10.0    5792340            0               0   \n",
       "301738              788.0    5792343            0               0   \n",
       "\n",
       "        integralbalance  consumetotal  consumetimes  \\\n",
       "301731                0             0             0   \n",
       "301732                0             0             0   \n",
       "301733                0             0             0   \n",
       "301737                0             0             0   \n",
       "301738                0             0             0   \n",
       "\n",
       "        lastconsume_diff_create_day  lastconsume_diff_create_hour  \\\n",
       "301731                            0                             0   \n",
       "301732                            0                             0   \n",
       "301733                            0                             0   \n",
       "301737                            0                             0   \n",
       "301738                            0                             0   \n",
       "\n",
       "        lastconsume_diff_now              ...                \\\n",
       "301731                     0              ...                 \n",
       "301732                     0              ...                 \n",
       "301733                     0              ...                 \n",
       "301737                     0              ...                 \n",
       "301738                     0              ...                 \n",
       "\n",
       "        age_from_song_language_3.0  age_from_song_language_not_known  \\\n",
       "301731                           0                                 1   \n",
       "301732                           0                                 1   \n",
       "301733                           0                                 1   \n",
       "301737                           0                                 1   \n",
       "301738                           0                                 1   \n",
       "\n",
       "        shop_com_regioncode_310000.0  shop_com_regioncode_350000.0  \\\n",
       "301731                             0                             1   \n",
       "301732                             0                             0   \n",
       "301733                             0                             0   \n",
       "301737                             0                             0   \n",
       "301738                             0                             0   \n",
       "\n",
       "        shop_com_regioncode_440000.0  shop_com_regioncode_500000.0  \\\n",
       "301731                             0                             0   \n",
       "301732                             1                             0   \n",
       "301733                             1                             0   \n",
       "301737                             1                             0   \n",
       "301738                             1                             0   \n",
       "\n",
       "        shop_com_regioncode_not_known  shop_com_managetype_1.0  \\\n",
       "301731                              0                        1   \n",
       "301732                              0                        1   \n",
       "301733                              0                        1   \n",
       "301737                              0                        1   \n",
       "301738                              0                        1   \n",
       "\n",
       "        shop_com_managetype_2.0  shop_com_managetype_not_known  \n",
       "301731                        0                              0  \n",
       "301732                        0                              0  \n",
       "301733                        0                              0  \n",
       "301737                        0                              0  \n",
       "301738                        0                              0  \n",
       "\n",
       "[5 rows x 152 columns]"
      ]
     },
     "execution_count": 11,
     "metadata": {},
     "output_type": "execute_result"
    }
   ],
   "source": [
    "train.head()"
   ]
  },
  {
   "cell_type": "markdown",
   "metadata": {},
   "source": [
    "# 3. 进行特征选择"
   ]
  },
  {
   "cell_type": "markdown",
   "metadata": {},
   "source": [
    "## 由于消费金额是连续值，选RF regressor 而不是classifier"
   ]
  },
  {
   "cell_type": "code",
   "execution_count": 12,
   "metadata": {
    "collapsed": false
   },
   "outputs": [
    {
     "data": {
      "text/plain": [
       "RandomForestRegressor(bootstrap=True, criterion='mse', max_depth=None,\n",
       "           max_features='auto', max_leaf_nodes=None, min_samples_leaf=1,\n",
       "           min_samples_split=2, min_weight_fraction_leaf=0.0,\n",
       "           n_estimators=300, n_jobs=1, oob_score=False, random_state=None,\n",
       "           verbose=0, warm_start=False)"
      ]
     },
     "execution_count": 12,
     "metadata": {},
     "output_type": "execute_result"
    }
   ],
   "source": [
    "model = RandomForestRegressor(n_estimators=300)\n",
    "model.fit(X_train, y_train)"
   ]
  },
  {
   "cell_type": "markdown",
   "metadata": {},
   "source": [
    "## 特征选择"
   ]
  },
  {
   "cell_type": "code",
   "execution_count": 13,
   "metadata": {
    "collapsed": true
   },
   "outputs": [],
   "source": [
    "important_ones = zip(X_train.columns.values, model.feature_importances_)\n",
    "important_ones = sorted(important_ones, key=lambda x: x[1], reverse=True)"
   ]
  },
  {
   "cell_type": "code",
   "execution_count": 14,
   "metadata": {
    "collapsed": false
   },
   "outputs": [
    {
     "name": "stdout",
     "output_type": "stream",
     "text": [
      "shop_original_sum_avg 0.836384756028\n",
      "shop_real_sum_min 0.141422636353\n",
      "shop_real_sum_max 0.0181771182479\n",
      "shop_original_sum_max 0.00145969343726\n",
      "shop_original_sum_min 0.00082844462926\n",
      "shop_real_sum 0.000646188807819\n",
      "shop_com_regioncode_350000.0 0.000234503067989\n",
      "shop_original_sum 0.000168142446378\n",
      "shop_com_roomnum 0.000139804564752\n",
      "shop_companyid 9.68030790735e-05\n",
      "shop_cnt 5.3449102812e-05\n",
      "shop_weekday_sum 4.08383647175e-05\n",
      "shop_com_cnt 2.97468307251e-05\n",
      "shop_order_cnt 2.9741204472e-05\n",
      "shop_night_sum 2.88797027324e-05\n",
      "shop_before_dawn_sum 2.32186480316e-05\n",
      "shop_weekend_sum 2.28641836328e-05\n",
      "shop_weekday_cnt 1.70415148476e-05\n",
      "shop_before_dawn_cnt 1.69983190028e-05\n",
      "get_com_roomnum 1.62243300869e-05\n",
      "shop_weekend_cnt 1.49818805172e-05\n",
      "shop_night_cnt 1.4441928154e-05\n",
      "use_coupon_order_sum 1.1348883742e-05\n",
      "shop_afternoon_sum 1.10067509204e-05\n",
      "shop_com_regioncode_440000.0 9.39478511809e-06\n",
      "coupon_get_cnt 8.32839938918e-06\n",
      "shop_com_regioncode_310000.0 6.54808591864e-06\n",
      "get_coupon_type_cnt 6.20906349885e-06\n",
      "use_company_id 6.08038433517e-06\n",
      "source_company_cnt 6.05847925002e-06\n",
      "coupon_get_sum 5.83841242697e-06\n",
      "use_coupon_type_cnt 5.74995918875e-06\n",
      "get_com_regioncode_350000.0 5.73537783244e-06\n",
      "wechat_province_国外 5.51882391408e-06\n",
      "source_company_id 4.67194635826e-06\n",
      "shop_afternoon_cnt 4.65833544393e-06\n",
      "use_company_cnt 4.17602626564e-06\n",
      "use_coupon_sum 3.66257163464e-06\n",
      "shop_com_regioncode_500000.0 2.97131905146e-06\n",
      "shop_cross_com 2.51009060381e-06\n",
      "get_com_regioncode_440000.0 1.82868759727e-06\n",
      "wechat_country_中国 1.75551222902e-06\n",
      "get_coupon_crosscom 1.62470382476e-06\n",
      "shop_wine_cnt 1.6231713955e-06\n",
      "gender 1.48895964108e-06\n",
      "wechat_country_未知 1.45386041289e-06\n",
      "shop_com_managetype_2.0 1.37568642175e-06\n",
      "wechat_province_福建 1.27627369171e-06\n",
      "get_com_regioncode_not_known 1.26577100526e-06\n",
      "get_com_managetype_not_known 1.2620964583e-06\n",
      "get_com_regioncode_310000.0 1.24755424606e-06\n",
      "get_com_regioncode_500000.0 1.22913740949e-06\n",
      "wechat_province_未知 1.00214327266e-06\n",
      "wechat_country_国外 9.92869687079e-07\n",
      "get_com_managetype_1.0 8.78960018932e-07\n",
      "shop_com_managetype_1.0 7.26044004818e-07\n",
      "wechat_province_四川 6.18870389261e-07\n",
      "wechat_province_广东 5.9283172382e-07\n",
      "shop_morning_sum 2.82965235875e-07\n",
      "wechat_province_上海 1.65465894475e-07\n",
      "shop_morning_cnt 1.54712135454e-07\n",
      "shop_com_regioncode_not_known 8.96606689297e-08\n",
      "shop_com_managetype_not_known 5.98031064105e-08\n",
      "wechat_province_重庆 1.00143321187e-08\n",
      "wechat_province_云南 4.26316262428e-09\n",
      "wechat_province_湖南 2.88486992903e-09\n",
      "wechat_province_浙江 8.22375290209e-10\n",
      "wechat_province_辽宁 6.77383936161e-10\n",
      "des_charge_max 1.57344560119e-10\n",
      "des_work_realchargesum 1.22160267548e-10\n",
      "des_night_cnt 8.55754767671e-11\n",
      "des_com_roomnum 7.77816221654e-11\n",
      "use_time_sum 5.5479887609e-11\n",
      "des_charge_min 4.91505008959e-11\n",
      "des_charge_mean 4.72828208664e-11\n",
      "des_realcharge_max 4.48226409234e-11\n",
      "wechat_province_北京 4.34719200445e-11\n",
      "des_use_night_realchargesum 4.17399980396e-11\n",
      "des_realcharge_mean 3.93734803422e-11\n",
      "des_guestnumber_min 3.7907661303e-11\n",
      "des_companyid 3.60435895449e-11\n",
      "des_guestnumber_mean 3.50685141976e-11\n",
      "des_realcharge_sum 3.38157618987e-11\n",
      "des_charge_sum 3.14798228593e-11\n",
      "lastconsume_diff_now 2.95475938683e-11\n",
      "lastconsume_diff_create_hour 2.85826005517e-11\n",
      "des_realcharge_min 2.23247786635e-11\n",
      "consumetotal 2.15453098618e-11\n",
      "des_reduce_sum 2.15323845896e-11\n",
      "des_procharge_sum 2.14699899832e-11\n",
      "des_guestnumber_max 2.14140718108e-11\n",
      "lastconsume_diff_create_day 2.00315262068e-11\n",
      "des_workday_cnt 1.98884719416e-11\n",
      "des_use_night_cnt 1.79816666325e-11\n",
      "des_cnt 1.71870229198e-11\n",
      "consumetimes 1.51184375102e-11\n",
      "integralbalance 1.30852731034e-11\n",
      "des_company_cnt 9.82589855147e-12\n",
      "member_age 6.75143492179e-12\n",
      "des_medium_cnt 3.16366830863e-12\n",
      "wechat_province_陕西 1.53622870232e-12\n",
      "wechat_province_贵州 1.0858522739e-12\n",
      "des_use_afternoon_cnt 3.21968360671e-14\n",
      "des_afternoon_cnt 3.1487398711e-14\n",
      "des_use_afternoon_realchargesum 2.63089923088e-14\n",
      "get_com_managetype_2.0 1.39526133278e-15\n",
      "accountcash 0.0\n",
      "accountbalance 0.0\n",
      "des_weekend_cnt 0.0\n",
      "des_weekend_realchargesum 0.0\n",
      "des_beforedawn_cnt 0.0\n",
      "des_morning_cnt 0.0\n",
      "des_use_beforedawn_cnt 0.0\n",
      "des_use_morning_cnt 0.0\n",
      "des_use_beforedawn_realchargesum 0.0\n",
      "des_use_morning_realchargesum 0.0\n",
      "des_use_reg 0.0\n",
      "des_large_cnt 0.0\n",
      "des_small_cnt 0.0\n",
      "des_reduce_cnt 0.0\n",
      "song_play_cnt 0.0\n",
      "shop_cigarette_cnt 0.0\n",
      "song_age 0.0\n",
      "wechat_province_内蒙古 0.0\n",
      "wechat_province_台湾 0.0\n",
      "wechat_province_天津 0.0\n",
      "wechat_province_安徽 0.0\n",
      "wechat_province_山东 0.0\n",
      "wechat_province_山西 0.0\n",
      "wechat_province_广西 0.0\n",
      "wechat_province_新疆 0.0\n",
      "wechat_province_江苏 0.0\n",
      "wechat_province_江西 0.0\n",
      "wechat_province_河北 0.0\n",
      "wechat_province_河南 0.0\n",
      "wechat_province_海南 0.0\n",
      "wechat_province_湖北 0.0\n",
      "wechat_province_甘肃 0.0\n",
      "wechat_province_西藏 0.0\n",
      "wechat_province_青海 0.0\n",
      "wechat_province_黑龙江 0.0\n",
      "age_from_song_year_cut_2.0 0.0\n",
      "age_from_song_year_cut_3.0 0.0\n",
      "age_from_song_year_cut_4.0 0.0\n",
      "age_from_song_year_cut_5.0 0.0\n",
      "age_from_song_year_cut_not_known 0.0\n",
      "age_from_song_language_1.0 0.0\n",
      "age_from_song_language_2.0 0.0\n",
      "age_from_song_language_3.0 0.0\n",
      "age_from_song_language_not_known 0.0\n"
     ]
    }
   ],
   "source": [
    "for r in important_ones:\n",
    "    print r[0], r[1]"
   ]
  },
  {
   "cell_type": "markdown",
   "metadata": {},
   "source": [
    "## 使用1e-5选出特征"
   ]
  },
  {
   "cell_type": "code",
   "execution_count": 20,
   "metadata": {
    "collapsed": true
   },
   "outputs": [],
   "source": [
    "THRESHOLD = 1e-5\n",
    "important_features = pd.DataFrame(important_ones, columns=['feature', 'score'])\n",
    "filtered_features = important_features.loc[important_features['score']>THRESHOLD, 'feature'].values"
   ]
  },
  {
   "cell_type": "code",
   "execution_count": 21,
   "metadata": {
    "collapsed": false
   },
   "outputs": [
    {
     "data": {
      "text/plain": [
       "array(['shop_original_sum_avg', 'shop_real_sum_min', 'shop_real_sum_max',\n",
       "       'shop_original_sum_max', 'shop_original_sum_min', 'shop_real_sum',\n",
       "       'shop_com_regioncode_350000.0', 'shop_com_roomnum',\n",
       "       'shop_original_sum', 'shop_companyid', 'shop_cnt',\n",
       "       'shop_weekend_sum', 'shop_com_cnt', 'shop_weekday_sum',\n",
       "       'shop_order_cnt', 'shop_night_sum', 'shop_before_dawn_sum',\n",
       "       'get_com_roomnum', 'shop_before_dawn_cnt', 'shop_weekday_cnt',\n",
       "       'shop_night_cnt', 'shop_weekend_cnt', 'shop_com_regioncode_440000.0'], dtype=object)"
      ]
     },
     "execution_count": 21,
     "metadata": {},
     "output_type": "execute_result"
    }
   ],
   "source": [
    "filtered_features"
   ]
  },
  {
   "cell_type": "code",
   "execution_count": 22,
   "metadata": {
    "collapsed": false
   },
   "outputs": [
    {
     "data": {
      "text/plain": [
       "23"
      ]
     },
     "execution_count": 22,
     "metadata": {},
     "output_type": "execute_result"
    }
   ],
   "source": [
    "len(filtered_features)"
   ]
  },
  {
   "cell_type": "markdown",
   "metadata": {},
   "source": [
    "## 使用1e-6选出特征"
   ]
  },
  {
   "cell_type": "code",
   "execution_count": 15,
   "metadata": {
    "collapsed": true
   },
   "outputs": [],
   "source": [
    "THRESHOLD = 1e-6\n",
    "important_features = pd.DataFrame(important_ones, columns=['feature', 'score'])\n",
    "filtered_features = important_features.loc[important_features['score']>THRESHOLD, 'feature'].values"
   ]
  },
  {
   "cell_type": "code",
   "execution_count": 16,
   "metadata": {
    "collapsed": false
   },
   "outputs": [
    {
     "data": {
      "text/plain": [
       "array(['shop_original_sum_avg', 'shop_real_sum_min', 'shop_real_sum_max',\n",
       "       'shop_original_sum_max', 'shop_original_sum_min', 'shop_real_sum',\n",
       "       'shop_com_regioncode_350000.0', 'shop_original_sum',\n",
       "       'shop_com_roomnum', 'shop_companyid', 'shop_cnt',\n",
       "       'shop_weekday_sum', 'shop_com_cnt', 'shop_order_cnt',\n",
       "       'shop_night_sum', 'shop_before_dawn_sum', 'shop_weekend_sum',\n",
       "       'shop_weekday_cnt', 'shop_before_dawn_cnt', 'get_com_roomnum',\n",
       "       'shop_weekend_cnt', 'shop_night_cnt', 'use_coupon_order_sum',\n",
       "       'shop_afternoon_sum', 'shop_com_regioncode_440000.0',\n",
       "       'coupon_get_cnt', 'shop_com_regioncode_310000.0',\n",
       "       'get_coupon_type_cnt', 'use_company_id', 'source_company_cnt',\n",
       "       'coupon_get_sum', 'use_coupon_type_cnt',\n",
       "       'get_com_regioncode_350000.0',\n",
       "       'wechat_province_\\xe5\\x9b\\xbd\\xe5\\xa4\\x96', 'source_company_id',\n",
       "       'shop_afternoon_cnt', 'use_company_cnt', 'use_coupon_sum',\n",
       "       'shop_com_regioncode_500000.0', 'shop_cross_com',\n",
       "       'get_com_regioncode_440000.0',\n",
       "       'wechat_country_\\xe4\\xb8\\xad\\xe5\\x9b\\xbd', 'get_coupon_crosscom',\n",
       "       'shop_wine_cnt', 'gender',\n",
       "       'wechat_country_\\xe6\\x9c\\xaa\\xe7\\x9f\\xa5',\n",
       "       'shop_com_managetype_2.0',\n",
       "       'wechat_province_\\xe7\\xa6\\x8f\\xe5\\xbb\\xba',\n",
       "       'get_com_regioncode_not_known', 'get_com_managetype_not_known',\n",
       "       'get_com_regioncode_310000.0', 'get_com_regioncode_500000.0',\n",
       "       'wechat_province_\\xe6\\x9c\\xaa\\xe7\\x9f\\xa5'], dtype=object)"
      ]
     },
     "execution_count": 16,
     "metadata": {},
     "output_type": "execute_result"
    }
   ],
   "source": [
    "filtered_features"
   ]
  },
  {
   "cell_type": "code",
   "execution_count": 17,
   "metadata": {
    "collapsed": false
   },
   "outputs": [
    {
     "data": {
      "text/plain": [
       "53"
      ]
     },
     "execution_count": 17,
     "metadata": {},
     "output_type": "execute_result"
    }
   ],
   "source": [
    "len(filtered_features)"
   ]
  },
  {
   "cell_type": "markdown",
   "metadata": {},
   "source": [
    "## 按选择到的特征分别处理训练集和测试集"
   ]
  },
  {
   "cell_type": "code",
   "execution_count": 18,
   "metadata": {
    "collapsed": true
   },
   "outputs": [],
   "source": [
    "X_test = X_test[filtered_features]"
   ]
  },
  {
   "cell_type": "code",
   "execution_count": 19,
   "metadata": {
    "collapsed": true
   },
   "outputs": [],
   "source": [
    "X_train = X_train[filtered_features]"
   ]
  },
  {
   "cell_type": "code",
   "execution_count": 20,
   "metadata": {
    "collapsed": false
   },
   "outputs": [
    {
     "data": {
      "text/html": [
       "<div>\n",
       "<table border=\"1\" class=\"dataframe\">\n",
       "  <thead>\n",
       "    <tr style=\"text-align: right;\">\n",
       "      <th></th>\n",
       "      <th>shop_original_sum_avg</th>\n",
       "      <th>shop_real_sum_min</th>\n",
       "      <th>shop_real_sum_max</th>\n",
       "      <th>shop_original_sum_max</th>\n",
       "      <th>shop_original_sum_min</th>\n",
       "      <th>shop_real_sum</th>\n",
       "      <th>shop_com_regioncode_350000.0</th>\n",
       "      <th>shop_original_sum</th>\n",
       "      <th>shop_com_roomnum</th>\n",
       "      <th>shop_companyid</th>\n",
       "      <th>...</th>\n",
       "      <th>shop_wine_cnt</th>\n",
       "      <th>gender</th>\n",
       "      <th>wechat_country_未知</th>\n",
       "      <th>shop_com_managetype_2.0</th>\n",
       "      <th>wechat_province_福建</th>\n",
       "      <th>get_com_regioncode_not_known</th>\n",
       "      <th>get_com_managetype_not_known</th>\n",
       "      <th>get_com_regioncode_310000.0</th>\n",
       "      <th>get_com_regioncode_500000.0</th>\n",
       "      <th>wechat_province_未知</th>\n",
       "    </tr>\n",
       "  </thead>\n",
       "  <tbody>\n",
       "    <tr>\n",
       "      <th>358065</th>\n",
       "      <td>12.000000</td>\n",
       "      <td>12</td>\n",
       "      <td>12</td>\n",
       "      <td>12</td>\n",
       "      <td>12</td>\n",
       "      <td>12</td>\n",
       "      <td>0</td>\n",
       "      <td>12</td>\n",
       "      <td>60</td>\n",
       "      <td>1101</td>\n",
       "      <td>...</td>\n",
       "      <td>0</td>\n",
       "      <td>2</td>\n",
       "      <td>1</td>\n",
       "      <td>0</td>\n",
       "      <td>0</td>\n",
       "      <td>0</td>\n",
       "      <td>0</td>\n",
       "      <td>0</td>\n",
       "      <td>1</td>\n",
       "      <td>1</td>\n",
       "    </tr>\n",
       "    <tr>\n",
       "      <th>315176</th>\n",
       "      <td>70.000000</td>\n",
       "      <td>70</td>\n",
       "      <td>70</td>\n",
       "      <td>70</td>\n",
       "      <td>70</td>\n",
       "      <td>70</td>\n",
       "      <td>0</td>\n",
       "      <td>70</td>\n",
       "      <td>80</td>\n",
       "      <td>438</td>\n",
       "      <td>...</td>\n",
       "      <td>0</td>\n",
       "      <td>2</td>\n",
       "      <td>1</td>\n",
       "      <td>0</td>\n",
       "      <td>0</td>\n",
       "      <td>0</td>\n",
       "      <td>0</td>\n",
       "      <td>1</td>\n",
       "      <td>0</td>\n",
       "      <td>1</td>\n",
       "    </tr>\n",
       "    <tr>\n",
       "      <th>354214</th>\n",
       "      <td>114.333333</td>\n",
       "      <td>12</td>\n",
       "      <td>316</td>\n",
       "      <td>316</td>\n",
       "      <td>12</td>\n",
       "      <td>343</td>\n",
       "      <td>0</td>\n",
       "      <td>343</td>\n",
       "      <td>38</td>\n",
       "      <td>6052</td>\n",
       "      <td>...</td>\n",
       "      <td>0</td>\n",
       "      <td>2</td>\n",
       "      <td>1</td>\n",
       "      <td>0</td>\n",
       "      <td>0</td>\n",
       "      <td>1</td>\n",
       "      <td>1</td>\n",
       "      <td>0</td>\n",
       "      <td>0</td>\n",
       "      <td>1</td>\n",
       "    </tr>\n",
       "    <tr>\n",
       "      <th>341939</th>\n",
       "      <td>39.000000</td>\n",
       "      <td>39</td>\n",
       "      <td>39</td>\n",
       "      <td>39</td>\n",
       "      <td>39</td>\n",
       "      <td>39</td>\n",
       "      <td>0</td>\n",
       "      <td>39</td>\n",
       "      <td>74</td>\n",
       "      <td>6491</td>\n",
       "      <td>...</td>\n",
       "      <td>0</td>\n",
       "      <td>2</td>\n",
       "      <td>1</td>\n",
       "      <td>0</td>\n",
       "      <td>0</td>\n",
       "      <td>0</td>\n",
       "      <td>0</td>\n",
       "      <td>0</td>\n",
       "      <td>0</td>\n",
       "      <td>1</td>\n",
       "    </tr>\n",
       "    <tr>\n",
       "      <th>314401</th>\n",
       "      <td>48.000000</td>\n",
       "      <td>48</td>\n",
       "      <td>48</td>\n",
       "      <td>48</td>\n",
       "      <td>48</td>\n",
       "      <td>48</td>\n",
       "      <td>0</td>\n",
       "      <td>48</td>\n",
       "      <td>60</td>\n",
       "      <td>7537</td>\n",
       "      <td>...</td>\n",
       "      <td>0</td>\n",
       "      <td>2</td>\n",
       "      <td>1</td>\n",
       "      <td>0</td>\n",
       "      <td>0</td>\n",
       "      <td>1</td>\n",
       "      <td>1</td>\n",
       "      <td>0</td>\n",
       "      <td>0</td>\n",
       "      <td>1</td>\n",
       "    </tr>\n",
       "  </tbody>\n",
       "</table>\n",
       "<p>5 rows × 53 columns</p>\n",
       "</div>"
      ],
      "text/plain": [
       "        shop_original_sum_avg  shop_real_sum_min  shop_real_sum_max  \\\n",
       "358065              12.000000                 12                 12   \n",
       "315176              70.000000                 70                 70   \n",
       "354214             114.333333                 12                316   \n",
       "341939              39.000000                 39                 39   \n",
       "314401              48.000000                 48                 48   \n",
       "\n",
       "        shop_original_sum_max  shop_original_sum_min  shop_real_sum  \\\n",
       "358065                     12                     12             12   \n",
       "315176                     70                     70             70   \n",
       "354214                    316                     12            343   \n",
       "341939                     39                     39             39   \n",
       "314401                     48                     48             48   \n",
       "\n",
       "        shop_com_regioncode_350000.0  shop_original_sum  shop_com_roomnum  \\\n",
       "358065                             0                 12                60   \n",
       "315176                             0                 70                80   \n",
       "354214                             0                343                38   \n",
       "341939                             0                 39                74   \n",
       "314401                             0                 48                60   \n",
       "\n",
       "        shop_companyid         ...          shop_wine_cnt  gender  \\\n",
       "358065            1101         ...                      0       2   \n",
       "315176             438         ...                      0       2   \n",
       "354214            6052         ...                      0       2   \n",
       "341939            6491         ...                      0       2   \n",
       "314401            7537         ...                      0       2   \n",
       "\n",
       "        wechat_country_未知  shop_com_managetype_2.0  wechat_province_福建  \\\n",
       "358065                  1                        0                   0   \n",
       "315176                  1                        0                   0   \n",
       "354214                  1                        0                   0   \n",
       "341939                  1                        0                   0   \n",
       "314401                  1                        0                   0   \n",
       "\n",
       "        get_com_regioncode_not_known  get_com_managetype_not_known  \\\n",
       "358065                             0                             0   \n",
       "315176                             0                             0   \n",
       "354214                             1                             1   \n",
       "341939                             0                             0   \n",
       "314401                             1                             1   \n",
       "\n",
       "        get_com_regioncode_310000.0  get_com_regioncode_500000.0  \\\n",
       "358065                            0                            1   \n",
       "315176                            1                            0   \n",
       "354214                            0                            0   \n",
       "341939                            0                            0   \n",
       "314401                            0                            0   \n",
       "\n",
       "        wechat_province_未知  \n",
       "358065                   1  \n",
       "315176                   1  \n",
       "354214                   1  \n",
       "341939                   1  \n",
       "314401                   1  \n",
       "\n",
       "[5 rows x 53 columns]"
      ]
     },
     "execution_count": 20,
     "metadata": {},
     "output_type": "execute_result"
    }
   ],
   "source": [
    "X_train.head()"
   ]
  },
  {
   "cell_type": "code",
   "execution_count": 21,
   "metadata": {
    "collapsed": true
   },
   "outputs": [],
   "source": [
    "test = test[filtered_features]"
   ]
  },
  {
   "cell_type": "markdown",
   "metadata": {},
   "source": [
    "# 3. Xgboost模型训练"
   ]
  },
  {
   "cell_type": "code",
   "execution_count": 126,
   "metadata": {
    "collapsed": true
   },
   "outputs": [],
   "source": [
    "params={\n",
    "'booster':'gbtree',\n",
    "'objective': 'reg:linear', # 这里用户消费金额是连续的，因此采用了默认的线性分类器\n",
    "'gamma':0.05,  # 在树的叶子节点下一个分区的最小损失，越大算法模型越保守 [0:]\n",
    "#'max_depth':12, # 构建树的深度 [1:]\n",
    "#'lambda':450,  # L2 正则项权重\n",
    "'subsample':0.4, # 采样训练数据，设置为0.5，随机选择一般的数据实例 (0:1]\n",
    "'colsample_bytree':0.4, # 构建树树时的采样比率 (0:1]\n",
    "#'min_child_weight':12, # 节点的最少特征数\n",
    "'silent':1 ,\n",
    "'eta': 0.3, # 如同学习率\n",
    "'seed':710,\n",
    "'nthread':4,# cpu 线程数,根据自己U的个数适当调整\n",
    "}"
   ]
  },
  {
   "cell_type": "code",
   "execution_count": 127,
   "metadata": {
    "collapsed": true
   },
   "outputs": [],
   "source": [
    "plst = list(params.items())"
   ]
  },
  {
   "cell_type": "code",
   "execution_count": 128,
   "metadata": {
    "collapsed": true
   },
   "outputs": [],
   "source": [
    "num_rounds = 1000 # 迭代次数\n",
    "xgtest = xgb.DMatrix(test)\n",
    "xgtrain = xgb.DMatrix(X_train, label=y_train)\n",
    "xgval = xgb.DMatrix(X_test, label=y_test)"
   ]
  },
  {
   "cell_type": "markdown",
   "metadata": {},
   "source": [
    "### return训练和验证的标准误差"
   ]
  },
  {
   "cell_type": "code",
   "execution_count": 129,
   "metadata": {
    "collapsed": true
   },
   "outputs": [],
   "source": [
    "watchlist = [(xgtrain, 'train'),(xgval, 'val')]"
   ]
  },
  {
   "cell_type": "markdown",
   "metadata": {},
   "source": [
    "### 训练模型"
   ]
  },
  {
   "cell_type": "code",
   "execution_count": 131,
   "metadata": {
    "collapsed": false
   },
   "outputs": [
    {
     "name": "stderr",
     "output_type": "stream",
     "text": [
      "Will train until val error hasn't decreased in 50 rounds.\n",
      "[0]\ttrain-rmse:152.943481\tval-rmse:148.323029\n",
      "[1]\ttrain-rmse:110.051735\tval-rmse:106.258072\n",
      "[2]\ttrain-rmse:79.427391\tval-rmse:76.671753\n",
      "[3]\ttrain-rmse:57.179379\tval-rmse:55.117817\n",
      "[4]\ttrain-rmse:42.278782\tval-rmse:40.717525\n",
      "[5]\ttrain-rmse:31.467247\tval-rmse:30.612823\n",
      "[6]\ttrain-rmse:24.327295\tval-rmse:23.850273\n",
      "[7]\ttrain-rmse:19.086205\tval-rmse:19.135265\n",
      "[8]\ttrain-rmse:15.837515\tval-rmse:16.315872\n",
      "[9]\ttrain-rmse:13.338251\tval-rmse:14.521577\n",
      "[10]\ttrain-rmse:12.120469\tval-rmse:13.568898\n",
      "[11]\ttrain-rmse:10.461782\tval-rmse:12.621734\n",
      "[12]\ttrain-rmse:9.497982\tval-rmse:11.966133\n",
      "[13]\ttrain-rmse:8.940937\tval-rmse:11.784933\n",
      "[14]\ttrain-rmse:8.653774\tval-rmse:11.634995\n",
      "[15]\ttrain-rmse:8.360218\tval-rmse:11.431383\n",
      "[16]\ttrain-rmse:8.092566\tval-rmse:11.435374\n",
      "[17]\ttrain-rmse:7.914980\tval-rmse:11.269809\n",
      "[18]\ttrain-rmse:7.778362\tval-rmse:11.065954\n",
      "[19]\ttrain-rmse:7.503653\tval-rmse:10.894379\n",
      "[20]\ttrain-rmse:7.345752\tval-rmse:10.817840\n",
      "[21]\ttrain-rmse:7.182970\tval-rmse:10.733330\n",
      "[22]\ttrain-rmse:7.067013\tval-rmse:10.723165\n",
      "[23]\ttrain-rmse:6.951648\tval-rmse:10.750822\n",
      "[24]\ttrain-rmse:6.865103\tval-rmse:10.757277\n",
      "[25]\ttrain-rmse:6.572299\tval-rmse:10.608171\n",
      "[26]\ttrain-rmse:6.435532\tval-rmse:10.596266\n",
      "[27]\ttrain-rmse:6.349411\tval-rmse:10.593615\n",
      "[28]\ttrain-rmse:6.228180\tval-rmse:10.483719\n",
      "[29]\ttrain-rmse:6.181869\tval-rmse:10.392621\n",
      "[30]\ttrain-rmse:6.124874\tval-rmse:10.380768\n",
      "[31]\ttrain-rmse:6.034660\tval-rmse:10.379854\n",
      "[32]\ttrain-rmse:5.837376\tval-rmse:10.248491\n",
      "[33]\ttrain-rmse:5.792961\tval-rmse:10.310784\n",
      "[34]\ttrain-rmse:5.723118\tval-rmse:10.303069\n",
      "[35]\ttrain-rmse:5.670797\tval-rmse:10.271008\n",
      "[36]\ttrain-rmse:5.637059\tval-rmse:10.302794\n",
      "[37]\ttrain-rmse:5.584553\tval-rmse:10.218134\n",
      "[38]\ttrain-rmse:5.558601\tval-rmse:10.166638\n",
      "[39]\ttrain-rmse:5.437986\tval-rmse:10.069585\n",
      "[40]\ttrain-rmse:5.382278\tval-rmse:9.998158\n",
      "[41]\ttrain-rmse:5.337547\tval-rmse:10.011310\n",
      "[42]\ttrain-rmse:5.271024\tval-rmse:10.036050\n",
      "[43]\ttrain-rmse:5.220718\tval-rmse:9.981906\n",
      "[44]\ttrain-rmse:5.196722\tval-rmse:9.971257\n",
      "[45]\ttrain-rmse:5.162297\tval-rmse:9.964976\n",
      "[46]\ttrain-rmse:5.141639\tval-rmse:9.935589\n",
      "[47]\ttrain-rmse:5.049816\tval-rmse:9.894059\n",
      "[48]\ttrain-rmse:5.030556\tval-rmse:9.928741\n",
      "[49]\ttrain-rmse:4.989776\tval-rmse:9.904658\n",
      "[50]\ttrain-rmse:4.952646\tval-rmse:9.925155\n",
      "[51]\ttrain-rmse:4.803706\tval-rmse:9.708783\n",
      "[52]\ttrain-rmse:4.786252\tval-rmse:9.716951\n",
      "[53]\ttrain-rmse:4.765149\tval-rmse:9.731695\n",
      "[54]\ttrain-rmse:4.716489\tval-rmse:9.744768\n",
      "[55]\ttrain-rmse:4.703242\tval-rmse:9.724914\n",
      "[56]\ttrain-rmse:4.672664\tval-rmse:9.719875\n",
      "[57]\ttrain-rmse:4.653915\tval-rmse:9.683469\n",
      "[58]\ttrain-rmse:4.618380\tval-rmse:9.651617\n",
      "[59]\ttrain-rmse:4.597052\tval-rmse:9.665768\n",
      "[60]\ttrain-rmse:4.561447\tval-rmse:9.698207\n",
      "[61]\ttrain-rmse:4.547944\tval-rmse:9.678386\n",
      "[62]\ttrain-rmse:4.508657\tval-rmse:9.667457\n",
      "[63]\ttrain-rmse:4.456210\tval-rmse:9.650687\n",
      "[64]\ttrain-rmse:4.432727\tval-rmse:9.655814\n",
      "[65]\ttrain-rmse:4.331858\tval-rmse:9.643912\n",
      "[66]\ttrain-rmse:4.247315\tval-rmse:9.584675\n",
      "[67]\ttrain-rmse:4.228854\tval-rmse:9.589725\n",
      "[68]\ttrain-rmse:4.156719\tval-rmse:9.588325\n",
      "[69]\ttrain-rmse:4.063624\tval-rmse:9.568421\n",
      "[70]\ttrain-rmse:4.045127\tval-rmse:9.564419\n",
      "[71]\ttrain-rmse:4.036857\tval-rmse:9.551079\n",
      "[72]\ttrain-rmse:4.013879\tval-rmse:9.574642\n",
      "[73]\ttrain-rmse:4.007500\tval-rmse:9.577795\n",
      "[74]\ttrain-rmse:3.964507\tval-rmse:9.558221\n",
      "[75]\ttrain-rmse:3.897341\tval-rmse:9.517287\n",
      "[76]\ttrain-rmse:3.870856\tval-rmse:9.498356\n",
      "[77]\ttrain-rmse:3.840142\tval-rmse:9.489306\n",
      "[78]\ttrain-rmse:3.818132\tval-rmse:9.471081\n",
      "[79]\ttrain-rmse:3.737929\tval-rmse:9.433812\n",
      "[80]\ttrain-rmse:3.708884\tval-rmse:9.415828\n",
      "[81]\ttrain-rmse:3.658839\tval-rmse:9.369698\n",
      "[82]\ttrain-rmse:3.628331\tval-rmse:9.350318\n",
      "[83]\ttrain-rmse:3.615918\tval-rmse:9.345291\n",
      "[84]\ttrain-rmse:3.569567\tval-rmse:9.336196\n",
      "[85]\ttrain-rmse:3.551211\tval-rmse:9.340492\n",
      "[86]\ttrain-rmse:3.528105\tval-rmse:9.326283\n",
      "[87]\ttrain-rmse:3.520251\tval-rmse:9.326653\n",
      "[88]\ttrain-rmse:3.501731\tval-rmse:9.300990\n",
      "[89]\ttrain-rmse:3.488331\tval-rmse:9.307199\n",
      "[90]\ttrain-rmse:3.467402\tval-rmse:9.307857\n",
      "[91]\ttrain-rmse:3.458143\tval-rmse:9.295769\n",
      "[92]\ttrain-rmse:3.450146\tval-rmse:9.303460\n",
      "[93]\ttrain-rmse:3.423254\tval-rmse:9.298770\n",
      "[94]\ttrain-rmse:3.392357\tval-rmse:9.263925\n",
      "[95]\ttrain-rmse:3.384642\tval-rmse:9.267492\n",
      "[96]\ttrain-rmse:3.328466\tval-rmse:9.221189\n",
      "[97]\ttrain-rmse:3.315364\tval-rmse:9.215583\n",
      "[98]\ttrain-rmse:3.287515\tval-rmse:9.195511\n",
      "[99]\ttrain-rmse:3.248241\tval-rmse:9.177678\n",
      "[100]\ttrain-rmse:3.238318\tval-rmse:9.168682\n",
      "[101]\ttrain-rmse:3.222496\tval-rmse:9.190223\n",
      "[102]\ttrain-rmse:3.184571\tval-rmse:9.177146\n",
      "[103]\ttrain-rmse:3.171759\tval-rmse:9.168955\n",
      "[104]\ttrain-rmse:3.151330\tval-rmse:9.175642\n",
      "[105]\ttrain-rmse:3.135457\tval-rmse:9.159816\n",
      "[106]\ttrain-rmse:3.130250\tval-rmse:9.144608\n",
      "[107]\ttrain-rmse:3.121182\tval-rmse:9.144892\n",
      "[108]\ttrain-rmse:3.110203\tval-rmse:9.109389\n",
      "[109]\ttrain-rmse:3.097045\tval-rmse:9.106433\n",
      "[110]\ttrain-rmse:3.065800\tval-rmse:9.111096\n",
      "[111]\ttrain-rmse:3.040334\tval-rmse:9.127756\n",
      "[112]\ttrain-rmse:3.010362\tval-rmse:9.114810\n",
      "[113]\ttrain-rmse:2.995046\tval-rmse:9.107658\n",
      "[114]\ttrain-rmse:2.980534\tval-rmse:9.114393\n",
      "[115]\ttrain-rmse:2.925967\tval-rmse:9.113386\n",
      "[116]\ttrain-rmse:2.896575\tval-rmse:9.112071\n",
      "[117]\ttrain-rmse:2.889983\tval-rmse:9.104280\n",
      "[118]\ttrain-rmse:2.870269\tval-rmse:9.103849\n",
      "[119]\ttrain-rmse:2.859550\tval-rmse:9.097610\n",
      "[120]\ttrain-rmse:2.853262\tval-rmse:9.097227\n",
      "[121]\ttrain-rmse:2.842560\tval-rmse:9.107406\n",
      "[122]\ttrain-rmse:2.836267\tval-rmse:9.115675\n",
      "[123]\ttrain-rmse:2.826628\tval-rmse:9.127305\n",
      "[124]\ttrain-rmse:2.818296\tval-rmse:9.112967\n",
      "[125]\ttrain-rmse:2.814963\tval-rmse:9.114289\n",
      "[126]\ttrain-rmse:2.783924\tval-rmse:9.124016\n",
      "[127]\ttrain-rmse:2.760621\tval-rmse:9.124142\n",
      "[128]\ttrain-rmse:2.745892\tval-rmse:9.125631\n",
      "[129]\ttrain-rmse:2.738181\tval-rmse:9.117062\n",
      "[130]\ttrain-rmse:2.723151\tval-rmse:9.110475\n",
      "[131]\ttrain-rmse:2.718498\tval-rmse:9.111335\n",
      "[132]\ttrain-rmse:2.703080\tval-rmse:9.097455\n",
      "[133]\ttrain-rmse:2.686717\tval-rmse:9.088820\n",
      "[134]\ttrain-rmse:2.680724\tval-rmse:9.091521\n",
      "[135]\ttrain-rmse:2.674151\tval-rmse:9.080112\n",
      "[136]\ttrain-rmse:2.641610\tval-rmse:9.062620\n",
      "[137]\ttrain-rmse:2.629964\tval-rmse:9.071388\n",
      "[138]\ttrain-rmse:2.589857\tval-rmse:9.057037\n",
      "[139]\ttrain-rmse:2.554083\tval-rmse:9.049641\n",
      "[140]\ttrain-rmse:2.531580\tval-rmse:9.045898\n",
      "[141]\ttrain-rmse:2.514919\tval-rmse:9.052876\n",
      "[142]\ttrain-rmse:2.487741\tval-rmse:9.045956\n",
      "[143]\ttrain-rmse:2.471512\tval-rmse:9.047175\n",
      "[144]\ttrain-rmse:2.459084\tval-rmse:9.038218\n",
      "[145]\ttrain-rmse:2.428474\tval-rmse:9.020801\n",
      "[146]\ttrain-rmse:2.418968\tval-rmse:9.021332\n",
      "[147]\ttrain-rmse:2.398286\tval-rmse:9.019303\n",
      "[148]\ttrain-rmse:2.382844\tval-rmse:9.020630\n",
      "[149]\ttrain-rmse:2.374694\tval-rmse:9.013776\n",
      "[150]\ttrain-rmse:2.361174\tval-rmse:9.012137\n",
      "[151]\ttrain-rmse:2.356405\tval-rmse:9.019713\n",
      "[152]\ttrain-rmse:2.336552\tval-rmse:9.022023\n",
      "[153]\ttrain-rmse:2.319587\tval-rmse:9.025266\n",
      "[154]\ttrain-rmse:2.314621\tval-rmse:9.023236\n",
      "[155]\ttrain-rmse:2.303926\tval-rmse:9.026637\n",
      "[156]\ttrain-rmse:2.295739\tval-rmse:9.013979\n",
      "[157]\ttrain-rmse:2.276031\tval-rmse:9.010976\n",
      "[158]\ttrain-rmse:2.260782\tval-rmse:9.003800\n",
      "[159]\ttrain-rmse:2.258038\tval-rmse:9.002092\n",
      "[160]\ttrain-rmse:2.251168\tval-rmse:9.010023\n",
      "[161]\ttrain-rmse:2.232137\tval-rmse:9.022981\n",
      "[162]\ttrain-rmse:2.227196\tval-rmse:9.022165\n",
      "[163]\ttrain-rmse:2.208051\tval-rmse:9.017128\n",
      "[164]\ttrain-rmse:2.201553\tval-rmse:9.012978\n",
      "[165]\ttrain-rmse:2.189829\tval-rmse:9.018417\n",
      "[166]\ttrain-rmse:2.184786\tval-rmse:9.018629\n",
      "[167]\ttrain-rmse:2.175928\tval-rmse:9.013724\n",
      "[168]\ttrain-rmse:2.165587\tval-rmse:9.014445\n",
      "[169]\ttrain-rmse:2.158890\tval-rmse:9.016057\n",
      "[170]\ttrain-rmse:2.150898\tval-rmse:9.014824\n",
      "[171]\ttrain-rmse:2.142242\tval-rmse:9.008870\n",
      "[172]\ttrain-rmse:2.114780\tval-rmse:9.012875\n",
      "[173]\ttrain-rmse:2.067267\tval-rmse:8.995481\n",
      "[174]\ttrain-rmse:2.060961\tval-rmse:8.992724\n",
      "[175]\ttrain-rmse:2.058406\tval-rmse:8.989268\n",
      "[176]\ttrain-rmse:2.040698\tval-rmse:8.972769\n",
      "[177]\ttrain-rmse:2.028056\tval-rmse:8.967134\n",
      "[178]\ttrain-rmse:2.022147\tval-rmse:8.970208\n",
      "[179]\ttrain-rmse:2.013574\tval-rmse:8.961902\n",
      "[180]\ttrain-rmse:2.008317\tval-rmse:8.960786\n",
      "[181]\ttrain-rmse:1.996679\tval-rmse:8.961454\n",
      "[182]\ttrain-rmse:1.987933\tval-rmse:8.951528\n",
      "[183]\ttrain-rmse:1.982640\tval-rmse:8.957839\n",
      "[184]\ttrain-rmse:1.960371\tval-rmse:8.949436\n",
      "[185]\ttrain-rmse:1.949362\tval-rmse:8.946501\n",
      "[186]\ttrain-rmse:1.942868\tval-rmse:8.951700\n",
      "[187]\ttrain-rmse:1.931741\tval-rmse:8.940564\n",
      "[188]\ttrain-rmse:1.928269\tval-rmse:8.951032\n",
      "[189]\ttrain-rmse:1.921933\tval-rmse:8.944742\n",
      "[190]\ttrain-rmse:1.908621\tval-rmse:8.948239\n",
      "[191]\ttrain-rmse:1.897762\tval-rmse:8.943992\n",
      "[192]\ttrain-rmse:1.893430\tval-rmse:8.945640\n",
      "[193]\ttrain-rmse:1.887242\tval-rmse:8.948986\n",
      "[194]\ttrain-rmse:1.876997\tval-rmse:8.942941\n",
      "[195]\ttrain-rmse:1.869276\tval-rmse:8.945642\n",
      "[196]\ttrain-rmse:1.862098\tval-rmse:8.946882\n",
      "[197]\ttrain-rmse:1.860132\tval-rmse:8.947095\n",
      "[198]\ttrain-rmse:1.849428\tval-rmse:8.940670\n",
      "[199]\ttrain-rmse:1.845523\tval-rmse:8.940490\n",
      "[200]\ttrain-rmse:1.840809\tval-rmse:8.939250\n",
      "[201]\ttrain-rmse:1.830160\tval-rmse:8.941120\n",
      "[202]\ttrain-rmse:1.804157\tval-rmse:8.940651\n",
      "[203]\ttrain-rmse:1.795729\tval-rmse:8.932392\n",
      "[204]\ttrain-rmse:1.788084\tval-rmse:8.928461\n",
      "[205]\ttrain-rmse:1.780949\tval-rmse:8.927744\n",
      "[206]\ttrain-rmse:1.773449\tval-rmse:8.923930\n",
      "[207]\ttrain-rmse:1.756345\tval-rmse:8.921024\n",
      "[208]\ttrain-rmse:1.748508\tval-rmse:8.922173\n",
      "[209]\ttrain-rmse:1.741709\tval-rmse:8.921792\n",
      "[210]\ttrain-rmse:1.735222\tval-rmse:8.918252\n",
      "[211]\ttrain-rmse:1.720035\tval-rmse:8.914172\n",
      "[212]\ttrain-rmse:1.715043\tval-rmse:8.912141\n",
      "[213]\ttrain-rmse:1.708745\tval-rmse:8.903506\n",
      "[214]\ttrain-rmse:1.702357\tval-rmse:8.898027\n",
      "[215]\ttrain-rmse:1.694441\tval-rmse:8.900948\n",
      "[216]\ttrain-rmse:1.690678\tval-rmse:8.898884\n",
      "[217]\ttrain-rmse:1.682022\tval-rmse:8.898350\n",
      "[218]\ttrain-rmse:1.678111\tval-rmse:8.900937\n",
      "[219]\ttrain-rmse:1.668842\tval-rmse:8.902999\n",
      "[220]\ttrain-rmse:1.662534\tval-rmse:8.903558\n",
      "[221]\ttrain-rmse:1.658626\tval-rmse:8.898540\n",
      "[222]\ttrain-rmse:1.651762\tval-rmse:8.888546\n",
      "[223]\ttrain-rmse:1.638325\tval-rmse:8.887202\n",
      "[224]\ttrain-rmse:1.634002\tval-rmse:8.887493\n",
      "[225]\ttrain-rmse:1.630555\tval-rmse:8.886803\n",
      "[226]\ttrain-rmse:1.624645\tval-rmse:8.880138\n",
      "[227]\ttrain-rmse:1.621857\tval-rmse:8.879965\n",
      "[228]\ttrain-rmse:1.610099\tval-rmse:8.876427\n",
      "[229]\ttrain-rmse:1.604679\tval-rmse:8.888329\n",
      "[230]\ttrain-rmse:1.600245\tval-rmse:8.894798\n",
      "[231]\ttrain-rmse:1.592644\tval-rmse:8.883923\n",
      "[232]\ttrain-rmse:1.580513\tval-rmse:8.877021\n",
      "[233]\ttrain-rmse:1.574338\tval-rmse:8.874930\n",
      "[234]\ttrain-rmse:1.568449\tval-rmse:8.874965\n",
      "[235]\ttrain-rmse:1.558915\tval-rmse:8.874575\n",
      "[236]\ttrain-rmse:1.555913\tval-rmse:8.870519\n",
      "[237]\ttrain-rmse:1.548885\tval-rmse:8.867474\n",
      "[238]\ttrain-rmse:1.542436\tval-rmse:8.864590\n",
      "[239]\ttrain-rmse:1.535810\tval-rmse:8.867123\n",
      "[240]\ttrain-rmse:1.533347\tval-rmse:8.869341\n",
      "[241]\ttrain-rmse:1.530967\tval-rmse:8.873718\n",
      "[242]\ttrain-rmse:1.523347\tval-rmse:8.880633\n",
      "[243]\ttrain-rmse:1.519781\tval-rmse:8.880522\n",
      "[244]\ttrain-rmse:1.513044\tval-rmse:8.875514\n",
      "[245]\ttrain-rmse:1.506625\tval-rmse:8.877060\n",
      "[246]\ttrain-rmse:1.495858\tval-rmse:8.875007\n",
      "[247]\ttrain-rmse:1.489683\tval-rmse:8.875660\n",
      "[248]\ttrain-rmse:1.485746\tval-rmse:8.883996\n",
      "[249]\ttrain-rmse:1.481069\tval-rmse:8.888257\n",
      "[250]\ttrain-rmse:1.477323\tval-rmse:8.892056\n",
      "[251]\ttrain-rmse:1.470484\tval-rmse:8.891271\n",
      "[252]\ttrain-rmse:1.440973\tval-rmse:8.888483\n",
      "[253]\ttrain-rmse:1.436942\tval-rmse:8.890392\n",
      "[254]\ttrain-rmse:1.434556\tval-rmse:8.891301\n",
      "[255]\ttrain-rmse:1.430830\tval-rmse:8.888414\n",
      "[256]\ttrain-rmse:1.427658\tval-rmse:8.889293\n",
      "[257]\ttrain-rmse:1.423521\tval-rmse:8.887158\n",
      "[258]\ttrain-rmse:1.421456\tval-rmse:8.888927\n",
      "[259]\ttrain-rmse:1.418002\tval-rmse:8.894767\n",
      "[260]\ttrain-rmse:1.415928\tval-rmse:8.897300\n",
      "[261]\ttrain-rmse:1.412458\tval-rmse:8.895620\n",
      "[262]\ttrain-rmse:1.406213\tval-rmse:8.898623\n",
      "[263]\ttrain-rmse:1.403398\tval-rmse:8.901088\n",
      "[264]\ttrain-rmse:1.402245\tval-rmse:8.904737\n",
      "[265]\ttrain-rmse:1.398465\tval-rmse:8.903529\n",
      "[266]\ttrain-rmse:1.385376\tval-rmse:8.903086\n",
      "[267]\ttrain-rmse:1.380966\tval-rmse:8.904630\n",
      "[268]\ttrain-rmse:1.376389\tval-rmse:8.903573\n",
      "[269]\ttrain-rmse:1.374055\tval-rmse:8.906613\n",
      "[270]\ttrain-rmse:1.372658\tval-rmse:8.908239\n",
      "[271]\ttrain-rmse:1.367481\tval-rmse:8.908706\n",
      "[272]\ttrain-rmse:1.364985\tval-rmse:8.907828\n",
      "[273]\ttrain-rmse:1.361926\tval-rmse:8.906211\n",
      "[274]\ttrain-rmse:1.358914\tval-rmse:8.904910\n",
      "[275]\ttrain-rmse:1.346472\tval-rmse:8.903798\n",
      "[276]\ttrain-rmse:1.343305\tval-rmse:8.905788\n",
      "[277]\ttrain-rmse:1.341645\tval-rmse:8.910623\n",
      "[278]\ttrain-rmse:1.332616\tval-rmse:8.916380\n",
      "[279]\ttrain-rmse:1.324842\tval-rmse:8.917997\n",
      "[280]\ttrain-rmse:1.319591\tval-rmse:8.916518\n",
      "[281]\ttrain-rmse:1.317323\tval-rmse:8.918217\n",
      "[282]\ttrain-rmse:1.313023\tval-rmse:8.918559\n",
      "[283]\ttrain-rmse:1.304721\tval-rmse:8.924211\n",
      "[284]\ttrain-rmse:1.300539\tval-rmse:8.922582\n",
      "[285]\ttrain-rmse:1.295728\tval-rmse:8.922256\n",
      "[286]\ttrain-rmse:1.291107\tval-rmse:8.920091\n",
      "[287]\ttrain-rmse:1.283929\tval-rmse:8.917688\n",
      "[288]\ttrain-rmse:1.279906\tval-rmse:8.918031\n",
      "Stopping. Best iteration:\n",
      "[238]\ttrain-rmse:1.542436\tval-rmse:8.864590\n",
      "\n"
     ]
    }
   ],
   "source": [
    "model = xgb.train(plst, xgtrain, num_rounds, watchlist, early_stopping_rounds=50)"
   ]
  },
  {
   "cell_type": "code",
   "execution_count": 132,
   "metadata": {
    "collapsed": true
   },
   "outputs": [],
   "source": [
    "model.save_model('E:/consume.model')"
   ]
  },
  {
   "cell_type": "code",
   "execution_count": 133,
   "metadata": {
    "collapsed": true
   },
   "outputs": [],
   "source": [
    "preds = model.predict(xgtest,ntree_limit=model.best_iteration)"
   ]
  },
  {
   "cell_type": "code",
   "execution_count": 134,
   "metadata": {
    "collapsed": false
   },
   "outputs": [
    {
     "data": {
      "text/plain": [
       "array([ 2.47536612,  2.47536612,  2.47536612, ..., -2.75266743,\n",
       "        0.80328512,  3.86955667], dtype=float32)"
      ]
     },
     "execution_count": 134,
     "metadata": {},
     "output_type": "execute_result"
    }
   ],
   "source": [
    "preds"
   ]
  },
  {
   "cell_type": "markdown",
   "metadata": {},
   "source": [
    "# 4. 对预测结果进行处理和保存"
   ]
  },
  {
   "cell_type": "code",
   "execution_count": 135,
   "metadata": {
    "collapsed": true
   },
   "outputs": [],
   "source": [
    "df = pd.DataFrame(preds)"
   ]
  },
  {
   "cell_type": "code",
   "execution_count": 136,
   "metadata": {
    "collapsed": true
   },
   "outputs": [],
   "source": [
    "df.columns = ['shop_real_sum_avg']"
   ]
  },
  {
   "cell_type": "code",
   "execution_count": 137,
   "metadata": {
    "collapsed": false
   },
   "outputs": [
    {
     "data": {
      "text/plain": [
       " 2.475366     401062\n",
       " 2.967920      32801\n",
       " 3.781528       6804\n",
       " 2.825732       5495\n",
       " 2.383048       2240\n",
       " 2.875602       1939\n",
       "-1.426011        393\n",
       " 2.333179        326\n",
       "-1.918565        287\n",
       "-1.365257        223\n",
       "-1.568198         68\n",
       "-0.612404         49\n",
       " 2.523153         39\n",
       "-1.507444         38\n",
       "-0.837469         34\n",
       "-1.857811         34\n",
       "-1.207404         29\n",
       " 3.015707         27\n",
       " 3.028674         24\n",
       " 2.693973         24\n",
       "-1.870778         24\n",
       "-1.378224         23\n",
       "-1.699958         19\n",
       "-1.146649         17\n",
       "-1.317470         17\n",
       " 5.476693         15\n",
       " 6.763845         14\n",
       "-0.273955         14\n",
       " 3.513440         12\n",
       "-0.880491         12\n",
       "               ...  \n",
       " 3.005400          1\n",
       " 3.494659          1\n",
       " 5.143495          1\n",
       " 3.978059          1\n",
       " 0.455899          1\n",
       " 6.485300          1\n",
       " 3.535682          1\n",
       " 1.742969          1\n",
       " 2.394111          1\n",
       "-4.028365          1\n",
       " 13.571866         1\n",
       " 2.030208          1\n",
       " 2.585457          1\n",
       " 8.927396          1\n",
       "-0.455970          1\n",
       " 0.874422          1\n",
       " 2.547373          1\n",
       "-0.633878          1\n",
       "-4.057719          1\n",
       "-2.518056          1\n",
       " 16.893156         1\n",
       "-0.132644          1\n",
       " 5.391506          1\n",
       "-2.560044          1\n",
       "-1.108243          1\n",
       "-0.704921          1\n",
       "-0.040483          1\n",
       " 0.617834          1\n",
       " 0.388633          1\n",
       "-3.836060          1\n",
       "Name: shop_real_sum_avg, dtype: int64"
      ]
     },
     "execution_count": 137,
     "metadata": {},
     "output_type": "execute_result"
    }
   ],
   "source": [
    "pd.value_counts(df['shop_real_sum_avg'])"
   ]
  },
  {
   "cell_type": "code",
   "execution_count": 138,
   "metadata": {
    "collapsed": false
   },
   "outputs": [],
   "source": [
    "consume = df.sort_values('shop_real_sum_avg',ascending=False)"
   ]
  },
  {
   "cell_type": "code",
   "execution_count": 139,
   "metadata": {
    "collapsed": false
   },
   "outputs": [
    {
     "data": {
      "text/html": [
       "<div>\n",
       "<table border=\"1\" class=\"dataframe\">\n",
       "  <thead>\n",
       "    <tr style=\"text-align: right;\">\n",
       "      <th></th>\n",
       "      <th>shop_real_sum_avg</th>\n",
       "    </tr>\n",
       "  </thead>\n",
       "  <tbody>\n",
       "    <tr>\n",
       "      <th>285470</th>\n",
       "      <td>18.610174</td>\n",
       "    </tr>\n",
       "    <tr>\n",
       "      <th>292853</th>\n",
       "      <td>16.893156</td>\n",
       "    </tr>\n",
       "    <tr>\n",
       "      <th>288576</th>\n",
       "      <td>13.980245</td>\n",
       "    </tr>\n",
       "    <tr>\n",
       "      <th>287997</th>\n",
       "      <td>13.665714</td>\n",
       "    </tr>\n",
       "    <tr>\n",
       "      <th>285274</th>\n",
       "      <td>13.571866</td>\n",
       "    </tr>\n",
       "  </tbody>\n",
       "</table>\n",
       "</div>"
      ],
      "text/plain": [
       "        shop_real_sum_avg\n",
       "285470          18.610174\n",
       "292853          16.893156\n",
       "288576          13.980245\n",
       "287997          13.665714\n",
       "285274          13.571866"
      ]
     },
     "execution_count": 139,
     "metadata": {},
     "output_type": "execute_result"
    }
   ],
   "source": [
    "consume.head()"
   ]
  },
  {
   "cell_type": "code",
   "execution_count": 140,
   "metadata": {
    "collapsed": true
   },
   "outputs": [],
   "source": [
    "df_y = pd.DataFrame(test_id)"
   ]
  },
  {
   "cell_type": "code",
   "execution_count": 142,
   "metadata": {
    "collapsed": false
   },
   "outputs": [
    {
     "data": {
      "text/plain": [
       "(453894, 1)"
      ]
     },
     "execution_count": 142,
     "metadata": {},
     "output_type": "execute_result"
    }
   ],
   "source": [
    "df_y.shape"
   ]
  },
  {
   "cell_type": "code",
   "execution_count": 143,
   "metadata": {
    "collapsed": true
   },
   "outputs": [],
   "source": [
    "id_index = range(0,453894)"
   ]
  },
  {
   "cell_type": "code",
   "execution_count": 145,
   "metadata": {
    "collapsed": false
   },
   "outputs": [],
   "source": [
    "df_y = df_y.reindex(index=id_index)"
   ]
  },
  {
   "cell_type": "code",
   "execution_count": 146,
   "metadata": {
    "collapsed": true
   },
   "outputs": [],
   "source": [
    "consume_predicted = pd.concat([df_y,df],axis=1)"
   ]
  },
  {
   "cell_type": "markdown",
   "metadata": {},
   "source": [
    "## 最终预测了453894项"
   ]
  },
  {
   "cell_type": "code",
   "execution_count": 147,
   "metadata": {
    "collapsed": false
   },
   "outputs": [
    {
     "data": {
      "text/plain": [
       "(453894, 2)"
      ]
     },
     "execution_count": 147,
     "metadata": {},
     "output_type": "execute_result"
    }
   ],
   "source": [
    "consume_predicted.shape"
   ]
  },
  {
   "cell_type": "code",
   "execution_count": 148,
   "metadata": {
    "collapsed": false
   },
   "outputs": [
    {
     "data": {
      "text/html": [
       "<div>\n",
       "<table border=\"1\" class=\"dataframe\">\n",
       "  <thead>\n",
       "    <tr style=\"text-align: right;\">\n",
       "      <th></th>\n",
       "      <th>customerid</th>\n",
       "      <th>shop_real_sum_avg</th>\n",
       "    </tr>\n",
       "  </thead>\n",
       "  <tbody>\n",
       "    <tr>\n",
       "      <th>0</th>\n",
       "      <td>5792237</td>\n",
       "      <td>2.475366</td>\n",
       "    </tr>\n",
       "    <tr>\n",
       "      <th>1</th>\n",
       "      <td>5792238</td>\n",
       "      <td>2.475366</td>\n",
       "    </tr>\n",
       "    <tr>\n",
       "      <th>2</th>\n",
       "      <td>5792239</td>\n",
       "      <td>2.475366</td>\n",
       "    </tr>\n",
       "    <tr>\n",
       "      <th>3</th>\n",
       "      <td>5792241</td>\n",
       "      <td>2.475366</td>\n",
       "    </tr>\n",
       "    <tr>\n",
       "      <th>4</th>\n",
       "      <td>5792242</td>\n",
       "      <td>2.475366</td>\n",
       "    </tr>\n",
       "  </tbody>\n",
       "</table>\n",
       "</div>"
      ],
      "text/plain": [
       "  customerid  shop_real_sum_avg\n",
       "0    5792237           2.475366\n",
       "1    5792238           2.475366\n",
       "2    5792239           2.475366\n",
       "3    5792241           2.475366\n",
       "4    5792242           2.475366"
      ]
     },
     "execution_count": 148,
     "metadata": {},
     "output_type": "execute_result"
    }
   ],
   "source": [
    "consume_predicted.head()"
   ]
  },
  {
   "cell_type": "code",
   "execution_count": 149,
   "metadata": {
    "collapsed": false
   },
   "outputs": [
    {
     "data": {
      "text/plain": [
       "1342"
      ]
     },
     "execution_count": 149,
     "metadata": {},
     "output_type": "execute_result"
    }
   ],
   "source": [
    "len(pd.value_counts(consume_predicted['shop_real_sum_avg']))"
   ]
  },
  {
   "cell_type": "code",
   "execution_count": 151,
   "metadata": {
    "collapsed": false
   },
   "outputs": [
    {
     "data": {
      "text/html": [
       "<div>\n",
       "<table border=\"1\" class=\"dataframe\">\n",
       "  <thead>\n",
       "    <tr style=\"text-align: right;\">\n",
       "      <th></th>\n",
       "      <th>customerid</th>\n",
       "      <th>shop_real_sum_avg</th>\n",
       "    </tr>\n",
       "  </thead>\n",
       "  <tbody>\n",
       "    <tr>\n",
       "      <th>285470</th>\n",
       "      <td>5450143</td>\n",
       "      <td>18.610174</td>\n",
       "    </tr>\n",
       "    <tr>\n",
       "      <th>292853</th>\n",
       "      <td>5761915</td>\n",
       "      <td>16.893156</td>\n",
       "    </tr>\n",
       "    <tr>\n",
       "      <th>288576</th>\n",
       "      <td>4658155</td>\n",
       "      <td>13.980245</td>\n",
       "    </tr>\n",
       "    <tr>\n",
       "      <th>287997</th>\n",
       "      <td>5647514</td>\n",
       "      <td>13.665714</td>\n",
       "    </tr>\n",
       "    <tr>\n",
       "      <th>285274</th>\n",
       "      <td>4751000</td>\n",
       "      <td>13.571866</td>\n",
       "    </tr>\n",
       "  </tbody>\n",
       "</table>\n",
       "</div>"
      ],
      "text/plain": [
       "       customerid  shop_real_sum_avg\n",
       "285470    5450143          18.610174\n",
       "292853    5761915          16.893156\n",
       "288576    4658155          13.980245\n",
       "287997    5647514          13.665714\n",
       "285274    4751000          13.571866"
      ]
     },
     "execution_count": 151,
     "metadata": {},
     "output_type": "execute_result"
    }
   ],
   "source": [
    "consume = consume_predicted.sort_values('shop_real_sum_avg',ascending=False)\n",
    "consume.head()"
   ]
  },
  {
   "cell_type": "markdown",
   "metadata": {},
   "source": [
    "## 保存预测结果到consume_predicted.csv"
   ]
  },
  {
   "cell_type": "code",
   "execution_count": 150,
   "metadata": {
    "collapsed": true
   },
   "outputs": [],
   "source": [
    "consume_predicted.to_csv('E:/consume_predicted.csv')"
   ]
  },
  {
   "cell_type": "code",
   "execution_count": null,
   "metadata": {
    "collapsed": true
   },
   "outputs": [],
   "source": []
  }
 ],
 "metadata": {
  "kernelspec": {
   "display_name": "Python 2",
   "language": "python",
   "name": "python2"
  },
  "language_info": {
   "codemirror_mode": {
    "name": "ipython",
    "version": 2
   },
   "file_extension": ".py",
   "mimetype": "text/x-python",
   "name": "python",
   "nbconvert_exporter": "python",
   "pygments_lexer": "ipython2",
   "version": "2.7.13"
  }
 },
 "nbformat": 4,
 "nbformat_minor": 0
}
