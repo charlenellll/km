{
 "cells": [
  {
   "cell_type": "markdown",
   "metadata": {},
   "source": [
    "# 性别预测"
   ]
  },
  {
   "cell_type": "code",
   "execution_count": 1,
   "metadata": {
    "collapsed": true
   },
   "outputs": [],
   "source": [
    "# coding=utf-8\n",
    "\"\"\"\n",
    "Created by Liao Jialing\n",
    "\"\"\"\n",
    "import xgboost as xgb\n",
    "import pandas as pd\n",
    "import numpy as np\n",
    "from sklearn.cross_validation import train_test_split\n",
    "from sklearn.ensemble import RandomForestClassifier\n",
    "from sklearn.feature_selection import SelectFromModel"
   ]
  },
  {
   "cell_type": "markdown",
   "metadata": {},
   "source": [
    "# 1. 读入清理好的用户信息宽表"
   ]
  },
  {
   "cell_type": "code",
   "execution_count": 2,
   "metadata": {
    "collapsed": false
   },
   "outputs": [
    {
     "name": "stderr",
     "output_type": "stream",
     "text": [
      "D:\\Users\\Jialing Liao\\AppData\\Local\\Continuum\\Anaconda2\\lib\\site-packages\\IPython\\core\\interactiveshell.py:2902: DtypeWarning: Columns (0) have mixed types. Specify dtype option on import or set low_memory=False.\n",
      "  interactivity=interactivity, compiler=compiler, result=result)\n"
     ]
    }
   ],
   "source": [
    "dataset = pd.read_csv('E:/user_all_cleared.csv')"
   ]
  },
  {
   "cell_type": "markdown",
   "metadata": {},
   "source": [
    "## 将target放在第一列"
   ]
  },
  {
   "cell_type": "code",
   "execution_count": 3,
   "metadata": {
    "collapsed": true
   },
   "outputs": [],
   "source": [
    "gender_label = dataset.pop('gender')"
   ]
  },
  {
   "cell_type": "code",
   "execution_count": 4,
   "metadata": {
    "collapsed": true
   },
   "outputs": [],
   "source": [
    "dataset.insert(0,'gender',gender_label)"
   ]
  },
  {
   "cell_type": "code",
   "execution_count": 5,
   "metadata": {
    "collapsed": false
   },
   "outputs": [
    {
     "data": {
      "text/plain": [
       "(503862, 152)"
      ]
     },
     "execution_count": 5,
     "metadata": {},
     "output_type": "execute_result"
    }
   ],
   "source": [
    "dataset.shape"
   ]
  },
  {
   "cell_type": "code",
   "execution_count": 6,
   "metadata": {
    "collapsed": false
   },
   "outputs": [
    {
     "data": {
      "text/html": [
       "<div>\n",
       "<table border=\"1\" class=\"dataframe\">\n",
       "  <thead>\n",
       "    <tr style=\"text-align: right;\">\n",
       "      <th></th>\n",
       "      <th>gender</th>\n",
       "      <th>customerid</th>\n",
       "      <th>accountcash</th>\n",
       "      <th>accountbalance</th>\n",
       "      <th>integralbalance</th>\n",
       "      <th>consumetotal</th>\n",
       "      <th>consumetimes</th>\n",
       "      <th>lastconsume_diff_create_day</th>\n",
       "      <th>lastconsume_diff_create_hour</th>\n",
       "      <th>lastconsume_diff_now</th>\n",
       "      <th>...</th>\n",
       "      <th>age_from_song_language_3.0</th>\n",
       "      <th>age_from_song_language_not_known</th>\n",
       "      <th>shop_com_regioncode_310000.0</th>\n",
       "      <th>shop_com_regioncode_350000.0</th>\n",
       "      <th>shop_com_regioncode_440000.0</th>\n",
       "      <th>shop_com_regioncode_500000.0</th>\n",
       "      <th>shop_com_regioncode_not_known</th>\n",
       "      <th>shop_com_managetype_1.0</th>\n",
       "      <th>shop_com_managetype_2.0</th>\n",
       "      <th>shop_com_managetype_not_known</th>\n",
       "    </tr>\n",
       "  </thead>\n",
       "  <tbody>\n",
       "    <tr>\n",
       "      <th>0</th>\n",
       "      <td>2</td>\n",
       "      <td>5792237</td>\n",
       "      <td>0</td>\n",
       "      <td>0</td>\n",
       "      <td>0</td>\n",
       "      <td>0</td>\n",
       "      <td>0</td>\n",
       "      <td>0</td>\n",
       "      <td>0</td>\n",
       "      <td>0</td>\n",
       "      <td>...</td>\n",
       "      <td>0</td>\n",
       "      <td>1</td>\n",
       "      <td>0</td>\n",
       "      <td>0</td>\n",
       "      <td>0</td>\n",
       "      <td>0</td>\n",
       "      <td>1</td>\n",
       "      <td>0</td>\n",
       "      <td>0</td>\n",
       "      <td>1</td>\n",
       "    </tr>\n",
       "    <tr>\n",
       "      <th>1</th>\n",
       "      <td>2</td>\n",
       "      <td>5792238</td>\n",
       "      <td>0</td>\n",
       "      <td>0</td>\n",
       "      <td>0</td>\n",
       "      <td>0</td>\n",
       "      <td>0</td>\n",
       "      <td>0</td>\n",
       "      <td>0</td>\n",
       "      <td>0</td>\n",
       "      <td>...</td>\n",
       "      <td>0</td>\n",
       "      <td>1</td>\n",
       "      <td>0</td>\n",
       "      <td>0</td>\n",
       "      <td>0</td>\n",
       "      <td>0</td>\n",
       "      <td>1</td>\n",
       "      <td>0</td>\n",
       "      <td>0</td>\n",
       "      <td>1</td>\n",
       "    </tr>\n",
       "    <tr>\n",
       "      <th>2</th>\n",
       "      <td>2</td>\n",
       "      <td>5792239</td>\n",
       "      <td>0</td>\n",
       "      <td>0</td>\n",
       "      <td>0</td>\n",
       "      <td>0</td>\n",
       "      <td>0</td>\n",
       "      <td>0</td>\n",
       "      <td>0</td>\n",
       "      <td>0</td>\n",
       "      <td>...</td>\n",
       "      <td>0</td>\n",
       "      <td>1</td>\n",
       "      <td>0</td>\n",
       "      <td>0</td>\n",
       "      <td>0</td>\n",
       "      <td>0</td>\n",
       "      <td>1</td>\n",
       "      <td>0</td>\n",
       "      <td>0</td>\n",
       "      <td>1</td>\n",
       "    </tr>\n",
       "    <tr>\n",
       "      <th>3</th>\n",
       "      <td>2</td>\n",
       "      <td>5792241</td>\n",
       "      <td>0</td>\n",
       "      <td>0</td>\n",
       "      <td>0</td>\n",
       "      <td>0</td>\n",
       "      <td>0</td>\n",
       "      <td>0</td>\n",
       "      <td>0</td>\n",
       "      <td>0</td>\n",
       "      <td>...</td>\n",
       "      <td>0</td>\n",
       "      <td>1</td>\n",
       "      <td>0</td>\n",
       "      <td>0</td>\n",
       "      <td>0</td>\n",
       "      <td>0</td>\n",
       "      <td>1</td>\n",
       "      <td>0</td>\n",
       "      <td>0</td>\n",
       "      <td>1</td>\n",
       "    </tr>\n",
       "    <tr>\n",
       "      <th>4</th>\n",
       "      <td>2</td>\n",
       "      <td>5792242</td>\n",
       "      <td>0</td>\n",
       "      <td>0</td>\n",
       "      <td>0</td>\n",
       "      <td>0</td>\n",
       "      <td>0</td>\n",
       "      <td>0</td>\n",
       "      <td>0</td>\n",
       "      <td>0</td>\n",
       "      <td>...</td>\n",
       "      <td>0</td>\n",
       "      <td>1</td>\n",
       "      <td>0</td>\n",
       "      <td>0</td>\n",
       "      <td>0</td>\n",
       "      <td>0</td>\n",
       "      <td>1</td>\n",
       "      <td>0</td>\n",
       "      <td>0</td>\n",
       "      <td>1</td>\n",
       "    </tr>\n",
       "  </tbody>\n",
       "</table>\n",
       "<p>5 rows × 152 columns</p>\n",
       "</div>"
      ],
      "text/plain": [
       "   gender customerid  accountcash  accountbalance  integralbalance  \\\n",
       "0       2    5792237            0               0                0   \n",
       "1       2    5792238            0               0                0   \n",
       "2       2    5792239            0               0                0   \n",
       "3       2    5792241            0               0                0   \n",
       "4       2    5792242            0               0                0   \n",
       "\n",
       "   consumetotal  consumetimes  lastconsume_diff_create_day  \\\n",
       "0             0             0                            0   \n",
       "1             0             0                            0   \n",
       "2             0             0                            0   \n",
       "3             0             0                            0   \n",
       "4             0             0                            0   \n",
       "\n",
       "   lastconsume_diff_create_hour  lastconsume_diff_now  \\\n",
       "0                             0                     0   \n",
       "1                             0                     0   \n",
       "2                             0                     0   \n",
       "3                             0                     0   \n",
       "4                             0                     0   \n",
       "\n",
       "               ...                age_from_song_language_3.0  \\\n",
       "0              ...                                         0   \n",
       "1              ...                                         0   \n",
       "2              ...                                         0   \n",
       "3              ...                                         0   \n",
       "4              ...                                         0   \n",
       "\n",
       "   age_from_song_language_not_known  shop_com_regioncode_310000.0  \\\n",
       "0                                 1                             0   \n",
       "1                                 1                             0   \n",
       "2                                 1                             0   \n",
       "3                                 1                             0   \n",
       "4                                 1                             0   \n",
       "\n",
       "   shop_com_regioncode_350000.0  shop_com_regioncode_440000.0  \\\n",
       "0                             0                             0   \n",
       "1                             0                             0   \n",
       "2                             0                             0   \n",
       "3                             0                             0   \n",
       "4                             0                             0   \n",
       "\n",
       "   shop_com_regioncode_500000.0  shop_com_regioncode_not_known  \\\n",
       "0                             0                              1   \n",
       "1                             0                              1   \n",
       "2                             0                              1   \n",
       "3                             0                              1   \n",
       "4                             0                              1   \n",
       "\n",
       "   shop_com_managetype_1.0  shop_com_managetype_2.0  \\\n",
       "0                        0                        0   \n",
       "1                        0                        0   \n",
       "2                        0                        0   \n",
       "3                        0                        0   \n",
       "4                        0                        0   \n",
       "\n",
       "   shop_com_managetype_not_known  \n",
       "0                              1  \n",
       "1                              1  \n",
       "2                              1  \n",
       "3                              1  \n",
       "4                              1  \n",
       "\n",
       "[5 rows x 152 columns]"
      ]
     },
     "execution_count": 6,
     "metadata": {},
     "output_type": "execute_result"
    }
   ],
   "source": [
    "dataset.head()"
   ]
  },
  {
   "cell_type": "markdown",
   "metadata": {},
   "source": [
    "# 2. 分出测试集和训练集"
   ]
  },
  {
   "cell_type": "code",
   "execution_count": 7,
   "metadata": {
    "collapsed": false
   },
   "outputs": [
    {
     "name": "stdout",
     "output_type": "stream",
     "text": [
      "((15592, 150), (3899, 150), (484371, 151))\n"
     ]
    }
   ],
   "source": [
    "train = dataset[dataset['gender']!=2]\n",
    "test = dataset[dataset['gender']==2]\n",
    "test_id = test.customerid\n",
    "test = test.drop('customerid',axis=1)\n",
    "X = train.drop(['customerid','gender'],axis=1)\n",
    "y = train.gender.values\n",
    "X_train, X_test, y_train, y_test = train_test_split(X,y,test_size=0.2,random_state=1026)\n",
    "print(X_train.shape,X_test.shape,test.shape)"
   ]
  },
  {
   "cell_type": "code",
   "execution_count": 8,
   "metadata": {
    "collapsed": false
   },
   "outputs": [
    {
     "data": {
      "text/plain": [
       "(19491, 152)"
      ]
     },
     "execution_count": 8,
     "metadata": {},
     "output_type": "execute_result"
    }
   ],
   "source": [
    "train.shape"
   ]
  },
  {
   "cell_type": "code",
   "execution_count": 9,
   "metadata": {
    "collapsed": false
   },
   "outputs": [
    {
     "data": {
      "text/plain": [
       "(484371, 151)"
      ]
     },
     "execution_count": 9,
     "metadata": {},
     "output_type": "execute_result"
    }
   ],
   "source": [
    "test.shape"
   ]
  },
  {
   "cell_type": "code",
   "execution_count": 10,
   "metadata": {
    "collapsed": false
   },
   "outputs": [
    {
     "data": {
      "text/plain": [
       "pandas.core.series.Series"
      ]
     },
     "execution_count": 10,
     "metadata": {},
     "output_type": "execute_result"
    }
   ],
   "source": [
    "type(test_id)"
   ]
  },
  {
   "cell_type": "markdown",
   "metadata": {},
   "source": [
    "# 3. 进行特征选择"
   ]
  },
  {
   "cell_type": "code",
   "execution_count": 11,
   "metadata": {
    "collapsed": false
   },
   "outputs": [
    {
     "data": {
      "text/plain": [
       "RandomForestClassifier(bootstrap=True, class_weight=None, criterion='gini',\n",
       "            max_depth=None, max_features='auto', max_leaf_nodes=None,\n",
       "            min_samples_leaf=1, min_samples_split=2,\n",
       "            min_weight_fraction_leaf=0.0, n_estimators=500, n_jobs=1,\n",
       "            oob_score=False, random_state=None, verbose=0,\n",
       "            warm_start=False)"
      ]
     },
     "execution_count": 11,
     "metadata": {},
     "output_type": "execute_result"
    }
   ],
   "source": [
    "model = RandomForestClassifier(n_estimators=500)\n",
    "model.fit(X_train, y_train)"
   ]
  },
  {
   "cell_type": "markdown",
   "metadata": {},
   "source": [
    "### 特征选择"
   ]
  },
  {
   "cell_type": "code",
   "execution_count": 12,
   "metadata": {
    "collapsed": true
   },
   "outputs": [],
   "source": [
    "important_ones = zip(X_train.columns.values, model.feature_importances_)\n",
    "important_ones = sorted(important_ones, key=lambda x:x[1], reverse=True)"
   ]
  },
  {
   "cell_type": "code",
   "execution_count": 13,
   "metadata": {
    "collapsed": false
   },
   "outputs": [
    {
     "name": "stdout",
     "output_type": "stream",
     "text": [
      "lastconsume_diff_now 0.226945471017\n",
      "member_age 0.148385573714\n",
      "consumetotal 0.110599538522\n",
      "integralbalance 0.0899071371628\n",
      "accountbalance 0.0447531409436\n",
      "accountcash 0.0438568331387\n",
      "consumetimes 0.0426879442794\n",
      "lastconsume_diff_create_hour 0.0390689061362\n",
      "coupon_get_sum 0.035282542133\n",
      "lastconsume_diff_create_day 0.0316004879997\n",
      "source_company_id 0.0313438491892\n",
      "get_com_roomnum 0.027783646547\n",
      "get_coupon_type_cnt 0.00859714782871\n",
      "coupon_get_cnt 0.00857971924204\n",
      "source_company_cnt 0.00854672778479\n",
      "shop_companyid 0.00347262766886\n",
      "shop_original_sum 0.00328078408933\n",
      "shop_com_roomnum 0.00325817966732\n",
      "shop_original_sum_max 0.00321522907008\n",
      "use_coupon_order_sum 0.00319140318304\n",
      "shop_real_sum 0.00318094240256\n",
      "shop_original_sum_avg 0.00315749447191\n",
      "shop_real_sum_avg 0.00300797011151\n",
      "shop_original_sum_min 0.00295141525503\n",
      "shop_real_sum_max 0.00294015796771\n",
      "shop_real_sum_min 0.00285870621531\n",
      "shop_weekday_sum 0.00284652264328\n",
      "wechat_province_广东 0.00274780713328\n",
      "shop_night_sum 0.00262390546092\n",
      "use_company_id 0.00257960635311\n",
      "use_coupon_sum 0.00255554245702\n",
      "wechat_province_未知 0.00247427735502\n",
      "shop_weekend_sum 0.00239474962004\n",
      "get_com_regioncode_500000.0 0.00214252294175\n",
      "shop_afternoon_sum 0.0020960693336\n",
      "wechat_province_上海 0.0020960208664\n",
      "wechat_country_中国 0.00200375144308\n",
      "get_coupon_crosscom 0.00186538205363\n",
      "wechat_province_国外 0.00182581553547\n",
      "get_com_regioncode_440000.0 0.00181447295754\n",
      "wechat_province_重庆 0.0017604492871\n",
      "wechat_country_国外 0.00175522594742\n",
      "shop_com_cnt 0.00149876513265\n",
      "shop_order_cnt 0.00148669837416\n",
      "get_com_regioncode_310000.0 0.00141951922036\n",
      "wechat_province_四川 0.00114466138641\n",
      "shop_night_cnt 0.00112030352662\n",
      "shop_weekday_cnt 0.00111599514368\n",
      "shop_weekend_cnt 0.00104888487309\n",
      "shop_before_dawn_sum 0.00103955328158\n",
      "shop_afternoon_cnt 0.00100538893039\n",
      "wechat_province_湖南 0.000916549742996\n",
      "use_company_cnt 0.000810836143791\n",
      "wechat_province_安徽 0.000808594189756\n",
      "wechat_province_湖北 0.000803234303088\n",
      "wechat_country_未知 0.000768863024258\n",
      "wechat_province_江苏 0.000768408678256\n",
      "wechat_province_福建 0.000740109044937\n",
      "use_coupon_type_cnt 0.000738648098914\n",
      "shop_before_dawn_cnt 0.000731040593179\n",
      "shop_cnt 0.000725829628701\n",
      "wechat_province_广西 0.000719538930524\n",
      "wechat_province_浙江 0.000686891094384\n",
      "wechat_province_云南 0.000660012887773\n",
      "shop_morning_sum 0.000613619279144\n",
      "get_com_managetype_1.0 0.000594467145155\n",
      "get_com_regioncode_350000.0 0.000583009893281\n",
      "get_com_managetype_not_known 0.000565491990463\n",
      "wechat_province_河南 0.000560139378151\n",
      "get_com_regioncode_not_known 0.000550791736133\n",
      "shop_com_regioncode_310000.0 0.000506489918753\n",
      "wechat_province_海南 0.000504178391389\n",
      "wechat_province_北京 0.00048536453759\n",
      "shop_com_regioncode_440000.0 0.000457551964576\n",
      "shop_morning_cnt 0.000433526350914\n",
      "wechat_province_山东 0.000417183827221\n",
      "wechat_province_江西 0.000375047796086\n",
      "wechat_province_河北 0.000371318343861\n",
      "wechat_province_贵州 0.00036633128835\n",
      "wechat_province_甘肃 0.000346035638395\n",
      "shop_com_regioncode_350000.0 0.000330211819624\n",
      "wechat_province_辽宁 0.000315554790097\n",
      "shop_com_regioncode_500000.0 0.000307246856217\n",
      "wechat_province_山西 0.000279915035381\n",
      "wechat_province_陕西 0.00019882634679\n",
      "wechat_province_内蒙古 0.000197544031925\n",
      "wechat_province_新疆 0.00017660274376\n",
      "wechat_province_天津 0.000172311625292\n",
      "wechat_province_黑龙江 0.000171472356785\n",
      "shop_com_managetype_not_known 0.000157464210068\n",
      "wechat_province_西藏 0.000149518167928\n",
      "shop_com_regioncode_not_known 0.000148637503989\n",
      "shop_com_managetype_1.0 0.000141966541879\n",
      "wechat_province_台湾 9.44524835205e-05\n",
      "get_com_managetype_2.0 6.40896897019e-05\n",
      "shop_cross_com 5.40838153078e-05\n",
      "des_companyid 2.73445467306e-05\n",
      "des_cnt 2.69757164673e-05\n",
      "des_procharge_sum 2.66958106304e-05\n",
      "des_afternoon_cnt 2.64107368782e-05\n",
      "age_from_song_language_2.0 2.49698958635e-05\n",
      "des_guestnumber_max 2.45116427659e-05\n",
      "des_guestnumber_min 2.36322885409e-05\n",
      "des_charge_max 2.34048833281e-05\n",
      "des_company_cnt 2.2430402466e-05\n",
      "des_charge_min 2.18185335572e-05\n",
      "des_realcharge_max 2.03731293637e-05\n",
      "des_charge_sum 2.01722134021e-05\n",
      "age_from_song_language_not_known 2.00425525166e-05\n",
      "des_charge_mean 1.969356929e-05\n",
      "des_guestnumber_mean 1.867663234e-05\n",
      "des_realcharge_sum 1.86097982218e-05\n",
      "song_play_cnt 1.82177177123e-05\n",
      "des_realcharge_min 1.76341702047e-05\n",
      "use_time_sum 1.64093220015e-05\n",
      "des_workday_cnt 1.46833576684e-05\n",
      "des_work_realchargesum 1.25644869518e-05\n",
      "des_realcharge_mean 1.18647066113e-05\n",
      "des_weekend_cnt 1.09698248828e-05\n",
      "des_use_night_cnt 8.74398330013e-06\n",
      "des_weekend_realchargesum 7.77335452163e-06\n",
      "des_night_cnt 6.71666452937e-06\n",
      "des_use_night_realchargesum 6.17260612457e-06\n",
      "des_use_afternoon_realchargesum 5.35165488657e-06\n",
      "des_use_afternoon_cnt 4.62468959145e-06\n",
      "shop_com_managetype_2.0 3.45696048935e-06\n",
      "des_com_roomnum 2.2808846355e-06\n",
      "des_use_reg 1.16129613203e-06\n",
      "des_morning_cnt 1.14311150469e-06\n",
      "des_reduce_sum 0.0\n",
      "des_beforedawn_cnt 0.0\n",
      "des_use_beforedawn_cnt 0.0\n",
      "des_use_morning_cnt 0.0\n",
      "des_use_beforedawn_realchargesum 0.0\n",
      "des_use_morning_realchargesum 0.0\n",
      "des_large_cnt 0.0\n",
      "des_medium_cnt 0.0\n",
      "des_small_cnt 0.0\n",
      "des_reduce_cnt 0.0\n",
      "shop_wine_cnt 0.0\n",
      "shop_cigarette_cnt 0.0\n",
      "song_age 0.0\n",
      "wechat_province_青海 0.0\n",
      "age_from_song_year_cut_2.0 0.0\n",
      "age_from_song_year_cut_3.0 0.0\n",
      "age_from_song_year_cut_4.0 0.0\n",
      "age_from_song_year_cut_5.0 0.0\n",
      "age_from_song_year_cut_not_known 0.0\n",
      "age_from_song_language_1.0 0.0\n",
      "age_from_song_language_3.0 0.0\n"
     ]
    }
   ],
   "source": [
    "for r in important_ones:\n",
    "    print r[0], r[1]"
   ]
  },
  {
   "cell_type": "code",
   "execution_count": 14,
   "metadata": {
    "collapsed": false,
    "scrolled": true
   },
   "outputs": [
    {
     "data": {
      "text/plain": [
       "150"
      ]
     },
     "execution_count": 14,
     "metadata": {},
     "output_type": "execute_result"
    }
   ],
   "source": [
    "len(important_ones)"
   ]
  },
  {
   "cell_type": "markdown",
   "metadata": {},
   "source": [
    "## 使用1e-5阈值选出特征个数"
   ]
  },
  {
   "cell_type": "code",
   "execution_count": 15,
   "metadata": {
    "collapsed": true
   },
   "outputs": [],
   "source": [
    "THRESHOLD = 1e-5\n",
    "important_features = pd.DataFrame(important_ones, columns=['feature', 'score'])\n",
    "filtered_features = important_features.loc[important_features['score']>THRESHOLD, 'feature'].values"
   ]
  },
  {
   "cell_type": "code",
   "execution_count": 16,
   "metadata": {
    "collapsed": false
   },
   "outputs": [
    {
     "data": {
      "text/plain": [
       "119"
      ]
     },
     "execution_count": 16,
     "metadata": {},
     "output_type": "execute_result"
    }
   ],
   "source": [
    "len(filtered_features)"
   ]
  },
  {
   "cell_type": "markdown",
   "metadata": {},
   "source": [
    "## 使用1e-6阈值选出特征"
   ]
  },
  {
   "cell_type": "code",
   "execution_count": 17,
   "metadata": {
    "collapsed": false
   },
   "outputs": [],
   "source": [
    "THRESHOLD = 1e-6\n",
    "important_features = pd.DataFrame(important_ones, columns=['feature', 'score'])\n",
    "filtered_features = important_features.loc[important_features['score']>THRESHOLD, 'feature'].values"
   ]
  },
  {
   "cell_type": "code",
   "execution_count": 18,
   "metadata": {
    "collapsed": false,
    "scrolled": true
   },
   "outputs": [
    {
     "data": {
      "text/plain": [
       "array(['lastconsume_diff_now', 'member_age', 'consumetotal',\n",
       "       'integralbalance', 'accountbalance', 'accountcash', 'consumetimes',\n",
       "       'lastconsume_diff_create_hour', 'coupon_get_sum',\n",
       "       'lastconsume_diff_create_day', 'source_company_id',\n",
       "       'get_com_roomnum', 'get_coupon_type_cnt', 'coupon_get_cnt',\n",
       "       'source_company_cnt', 'shop_companyid', 'shop_original_sum',\n",
       "       'shop_com_roomnum', 'shop_original_sum_max', 'use_coupon_order_sum',\n",
       "       'shop_real_sum', 'shop_original_sum_avg', 'shop_real_sum_avg',\n",
       "       'shop_original_sum_min', 'shop_real_sum_max', 'shop_real_sum_min',\n",
       "       'shop_weekday_sum', 'wechat_province_\\xe5\\xb9\\xbf\\xe4\\xb8\\x9c',\n",
       "       'shop_night_sum', 'use_company_id', 'use_coupon_sum',\n",
       "       'wechat_province_\\xe6\\x9c\\xaa\\xe7\\x9f\\xa5', 'shop_weekend_sum',\n",
       "       'get_com_regioncode_500000.0', 'shop_afternoon_sum',\n",
       "       'wechat_province_\\xe4\\xb8\\x8a\\xe6\\xb5\\xb7',\n",
       "       'wechat_country_\\xe4\\xb8\\xad\\xe5\\x9b\\xbd', 'get_coupon_crosscom',\n",
       "       'wechat_province_\\xe5\\x9b\\xbd\\xe5\\xa4\\x96',\n",
       "       'get_com_regioncode_440000.0',\n",
       "       'wechat_province_\\xe9\\x87\\x8d\\xe5\\xba\\x86',\n",
       "       'wechat_country_\\xe5\\x9b\\xbd\\xe5\\xa4\\x96', 'shop_com_cnt',\n",
       "       'shop_order_cnt', 'get_com_regioncode_310000.0',\n",
       "       'wechat_province_\\xe5\\x9b\\x9b\\xe5\\xb7\\x9d', 'shop_night_cnt',\n",
       "       'shop_weekday_cnt', 'shop_weekend_cnt', 'shop_before_dawn_sum',\n",
       "       'shop_afternoon_cnt', 'wechat_province_\\xe6\\xb9\\x96\\xe5\\x8d\\x97',\n",
       "       'use_company_cnt', 'wechat_province_\\xe5\\xae\\x89\\xe5\\xbe\\xbd',\n",
       "       'wechat_province_\\xe6\\xb9\\x96\\xe5\\x8c\\x97',\n",
       "       'wechat_country_\\xe6\\x9c\\xaa\\xe7\\x9f\\xa5',\n",
       "       'wechat_province_\\xe6\\xb1\\x9f\\xe8\\x8b\\x8f',\n",
       "       'wechat_province_\\xe7\\xa6\\x8f\\xe5\\xbb\\xba', 'use_coupon_type_cnt',\n",
       "       'shop_before_dawn_cnt', 'shop_cnt',\n",
       "       'wechat_province_\\xe5\\xb9\\xbf\\xe8\\xa5\\xbf',\n",
       "       'wechat_province_\\xe6\\xb5\\x99\\xe6\\xb1\\x9f',\n",
       "       'wechat_province_\\xe4\\xba\\x91\\xe5\\x8d\\x97', 'shop_morning_sum',\n",
       "       'get_com_managetype_1.0', 'get_com_regioncode_350000.0',\n",
       "       'get_com_managetype_not_known',\n",
       "       'wechat_province_\\xe6\\xb2\\xb3\\xe5\\x8d\\x97',\n",
       "       'get_com_regioncode_not_known', 'shop_com_regioncode_310000.0',\n",
       "       'wechat_province_\\xe6\\xb5\\xb7\\xe5\\x8d\\x97',\n",
       "       'wechat_province_\\xe5\\x8c\\x97\\xe4\\xba\\xac',\n",
       "       'shop_com_regioncode_440000.0', 'shop_morning_cnt',\n",
       "       'wechat_province_\\xe5\\xb1\\xb1\\xe4\\xb8\\x9c',\n",
       "       'wechat_province_\\xe6\\xb1\\x9f\\xe8\\xa5\\xbf',\n",
       "       'wechat_province_\\xe6\\xb2\\xb3\\xe5\\x8c\\x97',\n",
       "       'wechat_province_\\xe8\\xb4\\xb5\\xe5\\xb7\\x9e',\n",
       "       'wechat_province_\\xe7\\x94\\x98\\xe8\\x82\\x83',\n",
       "       'shop_com_regioncode_350000.0',\n",
       "       'wechat_province_\\xe8\\xbe\\xbd\\xe5\\xae\\x81',\n",
       "       'shop_com_regioncode_500000.0',\n",
       "       'wechat_province_\\xe5\\xb1\\xb1\\xe8\\xa5\\xbf',\n",
       "       'wechat_province_\\xe9\\x99\\x95\\xe8\\xa5\\xbf',\n",
       "       'wechat_province_\\xe5\\x86\\x85\\xe8\\x92\\x99\\xe5\\x8f\\xa4',\n",
       "       'wechat_province_\\xe6\\x96\\xb0\\xe7\\x96\\x86',\n",
       "       'wechat_province_\\xe5\\xa4\\xa9\\xe6\\xb4\\xa5',\n",
       "       'wechat_province_\\xe9\\xbb\\x91\\xe9\\xbe\\x99\\xe6\\xb1\\x9f',\n",
       "       'shop_com_managetype_not_known',\n",
       "       'wechat_province_\\xe8\\xa5\\xbf\\xe8\\x97\\x8f',\n",
       "       'shop_com_regioncode_not_known', 'shop_com_managetype_1.0',\n",
       "       'wechat_province_\\xe5\\x8f\\xb0\\xe6\\xb9\\xbe',\n",
       "       'get_com_managetype_2.0', 'shop_cross_com', 'des_companyid',\n",
       "       'des_cnt', 'des_procharge_sum', 'des_afternoon_cnt',\n",
       "       'age_from_song_language_2.0', 'des_guestnumber_max',\n",
       "       'des_guestnumber_min', 'des_charge_max', 'des_company_cnt',\n",
       "       'des_charge_min', 'des_realcharge_max', 'des_charge_sum',\n",
       "       'age_from_song_language_not_known', 'des_charge_mean',\n",
       "       'des_guestnumber_mean', 'des_realcharge_sum', 'song_play_cnt',\n",
       "       'des_realcharge_min', 'use_time_sum', 'des_workday_cnt',\n",
       "       'des_work_realchargesum', 'des_realcharge_mean', 'des_weekend_cnt',\n",
       "       'des_use_night_cnt', 'des_weekend_realchargesum', 'des_night_cnt',\n",
       "       'des_use_night_realchargesum', 'des_use_afternoon_realchargesum',\n",
       "       'des_use_afternoon_cnt', 'shop_com_managetype_2.0',\n",
       "       'des_com_roomnum', 'des_use_reg', 'des_morning_cnt'], dtype=object)"
      ]
     },
     "execution_count": 18,
     "metadata": {},
     "output_type": "execute_result"
    }
   ],
   "source": [
    "filtered_features"
   ]
  },
  {
   "cell_type": "code",
   "execution_count": 19,
   "metadata": {
    "collapsed": false
   },
   "outputs": [
    {
     "data": {
      "text/plain": [
       "129"
      ]
     },
     "execution_count": 19,
     "metadata": {},
     "output_type": "execute_result"
    }
   ],
   "source": [
    "len(filtered_features)"
   ]
  },
  {
   "cell_type": "markdown",
   "metadata": {},
   "source": [
    "## 按选出的特征分别处理训练集、测试集和验证集"
   ]
  },
  {
   "cell_type": "code",
   "execution_count": 20,
   "metadata": {
    "collapsed": true
   },
   "outputs": [],
   "source": [
    "X_train = X_train[filtered_features]\n",
    "test = test[filtered_features]\n",
    "X_test = X_test[filtered_features]"
   ]
  },
  {
   "cell_type": "markdown",
   "metadata": {},
   "source": [
    "# 3. 用Xgboost进行模型训练"
   ]
  },
  {
   "cell_type": "code",
   "execution_count": 21,
   "metadata": {
    "collapsed": false
   },
   "outputs": [],
   "source": [
    "params={\n",
    "'booster':'gbtree',\n",
    "'objective': 'binary:logistic', # 这里用户群体性别只有两个值，故选用binary\n",
    "'gamma':0.05,  # 在树的叶子节点下一个分区的最小损失，越大算法模型越保守 [0:]\n",
    "'max_depth':12, # 构建树的深度 [1:]\n",
    "'subsample':0.5, # 采样训练数据，设置为0.5，随机选择一般的数据实例 (0:1]\n",
    "'colsample_bytree':0.6, # 构建树树时的采样比率 (0:1]\n",
    "'min_child_weight':2, # 节点的最少特征数\n",
    "'silent':1 ,\n",
    "'eta': 0.03, # ste size shrinkage,如同学习率\n",
    "'seed':710,\n",
    "'nthread':4,# cpu 线程数,根据自己U的个数适当调整\n",
    "}"
   ]
  },
  {
   "cell_type": "code",
   "execution_count": 22,
   "metadata": {
    "collapsed": true
   },
   "outputs": [],
   "source": [
    "plst = list(params.items())"
   ]
  },
  {
   "cell_type": "code",
   "execution_count": 23,
   "metadata": {
    "collapsed": true
   },
   "outputs": [],
   "source": [
    "num_rounds = 600 # 迭代次数\n",
    "xgtest = xgb.DMatrix(test)\n",
    "xgtrain = xgb.DMatrix(X_train, label=y_train)\n",
    "xgval = xgb.DMatrix(X_test, label=y_test)"
   ]
  },
  {
   "cell_type": "markdown",
   "metadata": {},
   "source": [
    "### return训练和验证的错误"
   ]
  },
  {
   "cell_type": "code",
   "execution_count": 24,
   "metadata": {
    "collapsed": true
   },
   "outputs": [],
   "source": [
    "watchlist = [(xgtrain, 'train'),(xgval,'val')]"
   ]
  },
  {
   "cell_type": "markdown",
   "metadata": {},
   "source": [
    "### 训练模型"
   ]
  },
  {
   "cell_type": "code",
   "execution_count": 25,
   "metadata": {
    "collapsed": false
   },
   "outputs": [
    {
     "name": "stderr",
     "output_type": "stream",
     "text": [
      "Will train until val error hasn't decreased in 50 rounds.\n",
      "[0]\ttrain-error:0.376988\tval-error:0.428571\n",
      "[1]\ttrain-error:0.358902\tval-error:0.408566\n",
      "[2]\ttrain-error:0.351526\tval-error:0.406258\n",
      "[3]\ttrain-error:0.347101\tval-error:0.403693\n",
      "[4]\ttrain-error:0.341329\tval-error:0.409592\n",
      "[5]\ttrain-error:0.339982\tval-error:0.407027\n",
      "[6]\ttrain-error:0.338635\tval-error:0.406514\n",
      "[7]\ttrain-error:0.337930\tval-error:0.407027\n",
      "[8]\ttrain-error:0.337930\tval-error:0.400616\n",
      "[9]\ttrain-error:0.337096\tval-error:0.401641\n",
      "[10]\ttrain-error:0.336326\tval-error:0.398051\n",
      "[11]\ttrain-error:0.336583\tval-error:0.397025\n",
      "[12]\ttrain-error:0.334274\tval-error:0.401129\n",
      "[13]\ttrain-error:0.335942\tval-error:0.401641\n",
      "[14]\ttrain-error:0.333184\tval-error:0.399846\n",
      "[15]\ttrain-error:0.333440\tval-error:0.402667\n",
      "[16]\ttrain-error:0.330426\tval-error:0.399590\n",
      "[17]\ttrain-error:0.329143\tval-error:0.400359\n",
      "[18]\ttrain-error:0.329271\tval-error:0.400359\n",
      "[19]\ttrain-error:0.327860\tval-error:0.400103\n",
      "[20]\ttrain-error:0.327476\tval-error:0.397025\n",
      "[21]\ttrain-error:0.327155\tval-error:0.399333\n",
      "[22]\ttrain-error:0.327668\tval-error:0.398820\n",
      "[23]\ttrain-error:0.325872\tval-error:0.398051\n",
      "[24]\ttrain-error:0.324910\tval-error:0.399077\n",
      "[25]\ttrain-error:0.323820\tval-error:0.395999\n",
      "[26]\ttrain-error:0.322922\tval-error:0.397281\n",
      "[27]\ttrain-error:0.322601\tval-error:0.395999\n",
      "[28]\ttrain-error:0.321447\tval-error:0.397281\n",
      "[29]\ttrain-error:0.321511\tval-error:0.397025\n",
      "[30]\ttrain-error:0.322281\tval-error:0.397281\n",
      "[31]\ttrain-error:0.323179\tval-error:0.399846\n",
      "[32]\ttrain-error:0.322088\tval-error:0.399333\n",
      "[33]\ttrain-error:0.321254\tval-error:0.396768\n",
      "[34]\ttrain-error:0.320806\tval-error:0.394204\n",
      "[35]\ttrain-error:0.320741\tval-error:0.395486\n",
      "[36]\ttrain-error:0.320164\tval-error:0.394717\n",
      "[37]\ttrain-error:0.321319\tval-error:0.395230\n",
      "[38]\ttrain-error:0.320870\tval-error:0.395743\n",
      "[39]\ttrain-error:0.320100\tval-error:0.394717\n",
      "[40]\ttrain-error:0.319330\tval-error:0.393947\n",
      "[41]\ttrain-error:0.319074\tval-error:0.395230\n",
      "[42]\ttrain-error:0.319330\tval-error:0.394717\n",
      "[43]\ttrain-error:0.319523\tval-error:0.393947\n",
      "[44]\ttrain-error:0.319010\tval-error:0.394204\n",
      "[45]\ttrain-error:0.318048\tval-error:0.395743\n",
      "[46]\ttrain-error:0.316765\tval-error:0.395999\n",
      "[47]\ttrain-error:0.316252\tval-error:0.394460\n",
      "[48]\ttrain-error:0.315739\tval-error:0.395999\n",
      "[49]\ttrain-error:0.315418\tval-error:0.396255\n",
      "[50]\ttrain-error:0.315290\tval-error:0.396768\n",
      "[51]\ttrain-error:0.314841\tval-error:0.396512\n",
      "[52]\ttrain-error:0.314584\tval-error:0.396512\n",
      "[53]\ttrain-error:0.314071\tval-error:0.398051\n",
      "[54]\ttrain-error:0.313494\tval-error:0.395999\n",
      "[55]\ttrain-error:0.312917\tval-error:0.399590\n",
      "[56]\ttrain-error:0.312917\tval-error:0.397538\n",
      "[57]\ttrain-error:0.312596\tval-error:0.394460\n",
      "[58]\ttrain-error:0.312147\tval-error:0.395486\n",
      "[59]\ttrain-error:0.312019\tval-error:0.393947\n",
      "[60]\ttrain-error:0.311762\tval-error:0.395743\n",
      "[61]\ttrain-error:0.310031\tval-error:0.396768\n",
      "[62]\ttrain-error:0.309454\tval-error:0.398820\n",
      "[63]\ttrain-error:0.308107\tval-error:0.398051\n",
      "[64]\ttrain-error:0.307658\tval-error:0.398820\n",
      "[65]\ttrain-error:0.306888\tval-error:0.398820\n",
      "[66]\ttrain-error:0.306311\tval-error:0.398051\n",
      "[67]\ttrain-error:0.307273\tval-error:0.399590\n",
      "[68]\ttrain-error:0.306054\tval-error:0.398564\n",
      "[69]\ttrain-error:0.305734\tval-error:0.398307\n",
      "[70]\ttrain-error:0.305990\tval-error:0.399077\n",
      "[71]\ttrain-error:0.306054\tval-error:0.398564\n",
      "[72]\ttrain-error:0.306119\tval-error:0.398307\n",
      "[73]\ttrain-error:0.304772\tval-error:0.397794\n",
      "[74]\ttrain-error:0.303746\tval-error:0.397281\n",
      "[75]\ttrain-error:0.303168\tval-error:0.397281\n",
      "[76]\ttrain-error:0.303168\tval-error:0.396768\n",
      "[77]\ttrain-error:0.303361\tval-error:0.397281\n",
      "[78]\ttrain-error:0.303297\tval-error:0.396768\n",
      "[79]\ttrain-error:0.302463\tval-error:0.397281\n",
      "[80]\ttrain-error:0.303297\tval-error:0.394973\n",
      "[81]\ttrain-error:0.302848\tval-error:0.394717\n",
      "[82]\ttrain-error:0.302270\tval-error:0.396768\n",
      "[83]\ttrain-error:0.301116\tval-error:0.397281\n",
      "[84]\ttrain-error:0.300218\tval-error:0.397538\n",
      "[85]\ttrain-error:0.299833\tval-error:0.397025\n",
      "[86]\ttrain-error:0.300410\tval-error:0.395743\n",
      "[87]\ttrain-error:0.300539\tval-error:0.394717\n",
      "[88]\ttrain-error:0.300218\tval-error:0.394460\n",
      "[89]\ttrain-error:0.299705\tval-error:0.394717\n",
      "[90]\ttrain-error:0.299256\tval-error:0.394973\n",
      "Stopping. Best iteration:\n",
      "[40]\ttrain-error:0.319330\tval-error:0.393947\n",
      "\n"
     ]
    }
   ],
   "source": [
    "model = xgb.train(plst, xgtrain, num_rounds, watchlist, early_stopping_rounds=50)"
   ]
  },
  {
   "cell_type": "markdown",
   "metadata": {},
   "source": [
    "### 目前最佳 72次达到最优0.384458"
   ]
  },
  {
   "cell_type": "code",
   "execution_count": 39,
   "metadata": {
    "collapsed": true
   },
   "outputs": [],
   "source": [
    "# params={\n",
    "# 'booster':'gbtree',\n",
    "# 'objective': 'binary:logistic', # 这里用户群体年龄是连续的，因此采用了默认的线性分类器\n",
    "# 'gamma':0.05,  # 在树的叶子节点下一个分区的最小损失，越大算法模型越保守 [0:]\n",
    "# 'max_depth':12, # 构建树的深度 [1:]\n",
    "# 'subsample':0.5, # 采样训练数据，设置为0.5，随机选择一般的数据实例 (0:1]\n",
    "# 'colsample_bytree':0.6, # 构建树树时的采样比率 (0:1]\n",
    "# 'min_child_weight':2, # 节点的最少特征数\n",
    "# 'silent':1 ,\n",
    "# 'eta': 0.03, # ste size shrinkage,如同学习率\n",
    "# 'seed':710,\n",
    "# 'nthread':4,# cpu 线程数,根据自己U的个数适当调整\n",
    "# }"
   ]
  },
  {
   "cell_type": "code",
   "execution_count": 110,
   "metadata": {
    "collapsed": false
   },
   "outputs": [
    {
     "name": "stderr",
     "output_type": "stream",
     "text": [
      "Will train until val error hasn't decreased in 50 rounds.\n",
      "[0]\ttrain-error:0.378078\tval-error:0.421390\n",
      "[1]\ttrain-error:0.363712\tval-error:0.407797\n",
      "[2]\ttrain-error:0.355439\tval-error:0.401898\n",
      "[3]\ttrain-error:0.350180\tval-error:0.396512\n",
      "[4]\ttrain-error:0.342804\tval-error:0.395486\n",
      "[5]\ttrain-error:0.344087\tval-error:0.397025\n",
      "[6]\ttrain-error:0.343445\tval-error:0.395999\n",
      "[7]\ttrain-error:0.339790\tval-error:0.398051\n",
      "[8]\ttrain-error:0.340752\tval-error:0.395486\n",
      "[9]\ttrain-error:0.339661\tval-error:0.396512\n",
      "[10]\ttrain-error:0.338956\tval-error:0.395486\n",
      "[11]\ttrain-error:0.340110\tval-error:0.393434\n",
      "[12]\ttrain-error:0.339148\tval-error:0.392152\n",
      "[13]\ttrain-error:0.338250\tval-error:0.393434\n",
      "[14]\ttrain-error:0.337224\tval-error:0.390613\n",
      "[15]\ttrain-error:0.335428\tval-error:0.388818\n",
      "[16]\ttrain-error:0.333120\tval-error:0.390613\n",
      "[17]\ttrain-error:0.334659\tval-error:0.391895\n",
      "[18]\ttrain-error:0.332863\tval-error:0.391126\n",
      "[19]\ttrain-error:0.330811\tval-error:0.392152\n",
      "[20]\ttrain-error:0.329913\tval-error:0.397025\n",
      "[21]\ttrain-error:0.329977\tval-error:0.395486\n",
      "[22]\ttrain-error:0.330747\tval-error:0.394973\n",
      "[23]\ttrain-error:0.330298\tval-error:0.392921\n",
      "[24]\ttrain-error:0.327925\tval-error:0.390357\n",
      "[25]\ttrain-error:0.328053\tval-error:0.391895\n",
      "[26]\ttrain-error:0.328117\tval-error:0.392408\n",
      "[27]\ttrain-error:0.329015\tval-error:0.395486\n",
      "[28]\ttrain-error:0.328502\tval-error:0.394717\n",
      "[29]\ttrain-error:0.327155\tval-error:0.393947\n",
      "[30]\ttrain-error:0.324910\tval-error:0.395743\n",
      "[31]\ttrain-error:0.326898\tval-error:0.396512\n",
      "[32]\ttrain-error:0.325744\tval-error:0.395743\n",
      "[33]\ttrain-error:0.323820\tval-error:0.394717\n",
      "[34]\ttrain-error:0.322537\tval-error:0.393691\n",
      "[35]\ttrain-error:0.323884\tval-error:0.392921\n",
      "[36]\ttrain-error:0.324076\tval-error:0.393434\n",
      "[37]\ttrain-error:0.323820\tval-error:0.394717\n",
      "[38]\ttrain-error:0.324205\tval-error:0.393947\n",
      "[39]\ttrain-error:0.321575\tval-error:0.395230\n",
      "[40]\ttrain-error:0.321832\tval-error:0.393691\n",
      "[41]\ttrain-error:0.321062\tval-error:0.393434\n",
      "[42]\ttrain-error:0.320677\tval-error:0.391382\n",
      "[43]\ttrain-error:0.319459\tval-error:0.390613\n",
      "[44]\ttrain-error:0.320036\tval-error:0.389844\n",
      "[45]\ttrain-error:0.318304\tval-error:0.389844\n",
      "[46]\ttrain-error:0.317727\tval-error:0.391126\n",
      "[47]\ttrain-error:0.318368\tval-error:0.390357\n",
      "[48]\ttrain-error:0.317535\tval-error:0.390869\n",
      "[49]\ttrain-error:0.316124\tval-error:0.390357\n",
      "[50]\ttrain-error:0.313109\tval-error:0.389331\n",
      "[51]\ttrain-error:0.313687\tval-error:0.389074\n",
      "[52]\ttrain-error:0.313302\tval-error:0.388305\n",
      "[53]\ttrain-error:0.313045\tval-error:0.387792\n",
      "[54]\ttrain-error:0.311891\tval-error:0.388818\n",
      "[55]\ttrain-error:0.311827\tval-error:0.389074\n",
      "[56]\ttrain-error:0.311249\tval-error:0.389331\n",
      "[57]\ttrain-error:0.311698\tval-error:0.389587\n",
      "[58]\ttrain-error:0.310929\tval-error:0.390357\n",
      "[59]\ttrain-error:0.310351\tval-error:0.391382\n",
      "[60]\ttrain-error:0.310159\tval-error:0.393178\n",
      "[61]\ttrain-error:0.309389\tval-error:0.391126\n",
      "[62]\ttrain-error:0.309069\tval-error:0.390357\n",
      "[63]\ttrain-error:0.309325\tval-error:0.390357\n",
      "[64]\ttrain-error:0.308492\tval-error:0.389844\n",
      "[65]\ttrain-error:0.308492\tval-error:0.387792\n",
      "[66]\ttrain-error:0.308299\tval-error:0.387792\n",
      "[67]\ttrain-error:0.307273\tval-error:0.385996\n",
      "[68]\ttrain-error:0.307850\tval-error:0.386253\n",
      "[69]\ttrain-error:0.307337\tval-error:0.387535\n",
      "[70]\ttrain-error:0.306824\tval-error:0.384714\n",
      "[71]\ttrain-error:0.307914\tval-error:0.387279\n",
      "[72]\ttrain-error:0.306311\tval-error:0.384458\n",
      "[73]\ttrain-error:0.306503\tval-error:0.385996\n",
      "[74]\ttrain-error:0.305990\tval-error:0.386509\n",
      "[75]\ttrain-error:0.306183\tval-error:0.386509\n",
      "[76]\ttrain-error:0.303168\tval-error:0.385996\n",
      "[77]\ttrain-error:0.302591\tval-error:0.389074\n",
      "[78]\ttrain-error:0.302399\tval-error:0.387792\n",
      "[79]\ttrain-error:0.302463\tval-error:0.388305\n",
      "[80]\ttrain-error:0.302399\tval-error:0.391126\n",
      "[81]\ttrain-error:0.302014\tval-error:0.390613\n",
      "[82]\ttrain-error:0.301886\tval-error:0.389844\n",
      "[83]\ttrain-error:0.301886\tval-error:0.388818\n",
      "[84]\ttrain-error:0.301052\tval-error:0.388818\n",
      "[85]\ttrain-error:0.300218\tval-error:0.389074\n",
      "[86]\ttrain-error:0.299833\tval-error:0.391382\n",
      "[87]\ttrain-error:0.299064\tval-error:0.391895\n",
      "[88]\ttrain-error:0.299256\tval-error:0.391382\n",
      "[89]\ttrain-error:0.297588\tval-error:0.390869\n",
      "[90]\ttrain-error:0.297524\tval-error:0.389587\n",
      "[91]\ttrain-error:0.296562\tval-error:0.391126\n",
      "[92]\ttrain-error:0.296883\tval-error:0.390357\n",
      "[93]\ttrain-error:0.296178\tval-error:0.390613\n",
      "[94]\ttrain-error:0.295536\tval-error:0.388818\n",
      "[95]\ttrain-error:0.295472\tval-error:0.390100\n",
      "[96]\ttrain-error:0.295600\tval-error:0.389074\n",
      "[97]\ttrain-error:0.295215\tval-error:0.390100\n",
      "[98]\ttrain-error:0.294831\tval-error:0.388818\n",
      "[99]\ttrain-error:0.294061\tval-error:0.389331\n",
      "[100]\ttrain-error:0.294061\tval-error:0.389331\n",
      "[101]\ttrain-error:0.293099\tval-error:0.389074\n",
      "[102]\ttrain-error:0.293163\tval-error:0.388048\n",
      "[103]\ttrain-error:0.292522\tval-error:0.388048\n",
      "[104]\ttrain-error:0.291752\tval-error:0.387535\n",
      "[105]\ttrain-error:0.290918\tval-error:0.386766\n",
      "[106]\ttrain-error:0.289892\tval-error:0.386766\n",
      "[107]\ttrain-error:0.290213\tval-error:0.385996\n",
      "[108]\ttrain-error:0.289700\tval-error:0.386766\n",
      "[109]\ttrain-error:0.289187\tval-error:0.387279\n",
      "[110]\ttrain-error:0.288802\tval-error:0.387792\n",
      "[111]\ttrain-error:0.288802\tval-error:0.387279\n",
      "[112]\ttrain-error:0.288610\tval-error:0.389331\n",
      "[113]\ttrain-error:0.288353\tval-error:0.389074\n",
      "[114]\ttrain-error:0.288161\tval-error:0.390869\n",
      "[115]\ttrain-error:0.287776\tval-error:0.390100\n",
      "[116]\ttrain-error:0.287006\tval-error:0.390357\n",
      "[117]\ttrain-error:0.286301\tval-error:0.390613\n",
      "[118]\ttrain-error:0.286108\tval-error:0.390869\n",
      "[119]\ttrain-error:0.285659\tval-error:0.391895\n",
      "[120]\ttrain-error:0.284826\tval-error:0.391382\n",
      "[121]\ttrain-error:0.284184\tval-error:0.389844\n",
      "[122]\ttrain-error:0.283607\tval-error:0.390869\n",
      "Stopping. Best iteration:\n",
      "[72]\ttrain-error:0.306311\tval-error:0.384458\n",
      "\n"
     ]
    }
   ],
   "source": [
    "# model = xgb.train(plst, xgtrain, num_rounds, watchlist, early_stopping_rounds=50)"
   ]
  },
  {
   "cell_type": "code",
   "execution_count": null,
   "metadata": {
    "collapsed": true
   },
   "outputs": [],
   "source": []
  },
  {
   "cell_type": "markdown",
   "metadata": {},
   "source": [
    "### 保存模型"
   ]
  },
  {
   "cell_type": "code",
   "execution_count": 121,
   "metadata": {
    "collapsed": true
   },
   "outputs": [],
   "source": [
    "model.save_model('E:/gender.model')"
   ]
  },
  {
   "cell_type": "code",
   "execution_count": 122,
   "metadata": {
    "collapsed": true
   },
   "outputs": [],
   "source": [
    "preds = model.predict(xgtest,ntree_limit=model.best_iteration)"
   ]
  },
  {
   "cell_type": "code",
   "execution_count": 123,
   "metadata": {
    "collapsed": false
   },
   "outputs": [
    {
     "data": {
      "text/plain": [
       "array([ 0.45050052,  0.45050052,  0.45050052, ...,  0.43804327,\n",
       "        0.4322716 ,  0.29275906], dtype=float32)"
      ]
     },
     "execution_count": 123,
     "metadata": {},
     "output_type": "execute_result"
    }
   ],
   "source": [
    "preds"
   ]
  },
  {
   "cell_type": "markdown",
   "metadata": {},
   "source": [
    "# 4. 对预测结果进行处理和保存"
   ]
  },
  {
   "cell_type": "code",
   "execution_count": 125,
   "metadata": {
    "collapsed": true
   },
   "outputs": [],
   "source": [
    "df = pd.DataFrame(preds,columns=['gender'])"
   ]
  },
  {
   "cell_type": "code",
   "execution_count": 126,
   "metadata": {
    "collapsed": false
   },
   "outputs": [
    {
     "data": {
      "text/html": [
       "<div>\n",
       "<table border=\"1\" class=\"dataframe\">\n",
       "  <thead>\n",
       "    <tr style=\"text-align: right;\">\n",
       "      <th></th>\n",
       "      <th>gender</th>\n",
       "    </tr>\n",
       "  </thead>\n",
       "  <tbody>\n",
       "    <tr>\n",
       "      <th>0</th>\n",
       "      <td>0.450501</td>\n",
       "    </tr>\n",
       "    <tr>\n",
       "      <th>1</th>\n",
       "      <td>0.450501</td>\n",
       "    </tr>\n",
       "    <tr>\n",
       "      <th>2</th>\n",
       "      <td>0.450501</td>\n",
       "    </tr>\n",
       "    <tr>\n",
       "      <th>3</th>\n",
       "      <td>0.450501</td>\n",
       "    </tr>\n",
       "    <tr>\n",
       "      <th>4</th>\n",
       "      <td>0.450501</td>\n",
       "    </tr>\n",
       "  </tbody>\n",
       "</table>\n",
       "</div>"
      ],
      "text/plain": [
       "     gender\n",
       "0  0.450501\n",
       "1  0.450501\n",
       "2  0.450501\n",
       "3  0.450501\n",
       "4  0.450501"
      ]
     },
     "execution_count": 126,
     "metadata": {},
     "output_type": "execute_result"
    }
   ],
   "source": [
    "df.head()"
   ]
  },
  {
   "cell_type": "code",
   "execution_count": 143,
   "metadata": {
    "collapsed": true
   },
   "outputs": [],
   "source": [
    "df[df > 0.5] = 1"
   ]
  },
  {
   "cell_type": "code",
   "execution_count": 144,
   "metadata": {
    "collapsed": true
   },
   "outputs": [],
   "source": [
    "df[~(df > 0.5)] = 0"
   ]
  },
  {
   "cell_type": "code",
   "execution_count": 145,
   "metadata": {
    "collapsed": false
   },
   "outputs": [
    {
     "data": {
      "text/plain": [
       "0    432005\n",
       "1     52366\n",
       "Name: gender, dtype: int64"
      ]
     },
     "execution_count": 145,
     "metadata": {},
     "output_type": "execute_result"
    }
   ],
   "source": [
    "pd.value_counts(df['gender'])"
   ]
  },
  {
   "cell_type": "code",
   "execution_count": 163,
   "metadata": {
    "collapsed": true
   },
   "outputs": [],
   "source": [
    "df_id = pd.DataFrame(test_id)"
   ]
  },
  {
   "cell_type": "code",
   "execution_count": 164,
   "metadata": {
    "collapsed": false
   },
   "outputs": [
    {
     "data": {
      "text/plain": [
       "(484371, 1)"
      ]
     },
     "execution_count": 164,
     "metadata": {},
     "output_type": "execute_result"
    }
   ],
   "source": [
    "df.shape"
   ]
  },
  {
   "cell_type": "code",
   "execution_count": 165,
   "metadata": {
    "collapsed": false
   },
   "outputs": [
    {
     "data": {
      "text/plain": [
       "(484371, 1)"
      ]
     },
     "execution_count": 165,
     "metadata": {},
     "output_type": "execute_result"
    }
   ],
   "source": [
    "df_id.shape"
   ]
  },
  {
   "cell_type": "code",
   "execution_count": 184,
   "metadata": {
    "collapsed": true
   },
   "outputs": [],
   "source": [
    "id_index = range(0,484371)"
   ]
  },
  {
   "cell_type": "code",
   "execution_count": 185,
   "metadata": {
    "collapsed": false
   },
   "outputs": [],
   "source": [
    "df_id = df_id.reindex(index=id_index)"
   ]
  },
  {
   "cell_type": "code",
   "execution_count": 186,
   "metadata": {
    "collapsed": false
   },
   "outputs": [
    {
     "data": {
      "text/plain": [
       "(484371, 1)"
      ]
     },
     "execution_count": 186,
     "metadata": {},
     "output_type": "execute_result"
    }
   ],
   "source": [
    "df_id.shape"
   ]
  },
  {
   "cell_type": "code",
   "execution_count": 187,
   "metadata": {
    "collapsed": true
   },
   "outputs": [],
   "source": [
    "gender_predicted = pd.concat([df_id,df],axis=1)"
   ]
  },
  {
   "cell_type": "code",
   "execution_count": 188,
   "metadata": {
    "collapsed": false
   },
   "outputs": [
    {
     "data": {
      "text/html": [
       "<div>\n",
       "<table border=\"1\" class=\"dataframe\">\n",
       "  <thead>\n",
       "    <tr style=\"text-align: right;\">\n",
       "      <th></th>\n",
       "      <th>customerid</th>\n",
       "      <th>gender</th>\n",
       "    </tr>\n",
       "  </thead>\n",
       "  <tbody>\n",
       "    <tr>\n",
       "      <th>0</th>\n",
       "      <td>5792237</td>\n",
       "      <td>0</td>\n",
       "    </tr>\n",
       "    <tr>\n",
       "      <th>1</th>\n",
       "      <td>5792238</td>\n",
       "      <td>0</td>\n",
       "    </tr>\n",
       "    <tr>\n",
       "      <th>2</th>\n",
       "      <td>5792239</td>\n",
       "      <td>0</td>\n",
       "    </tr>\n",
       "    <tr>\n",
       "      <th>3</th>\n",
       "      <td>5792241</td>\n",
       "      <td>0</td>\n",
       "    </tr>\n",
       "    <tr>\n",
       "      <th>4</th>\n",
       "      <td>5792242</td>\n",
       "      <td>0</td>\n",
       "    </tr>\n",
       "  </tbody>\n",
       "</table>\n",
       "</div>"
      ],
      "text/plain": [
       "  customerid  gender\n",
       "0    5792237       0\n",
       "1    5792238       0\n",
       "2    5792239       0\n",
       "3    5792241       0\n",
       "4    5792242       0"
      ]
     },
     "execution_count": 188,
     "metadata": {},
     "output_type": "execute_result"
    }
   ],
   "source": [
    "gender_predicted.head()"
   ]
  },
  {
   "cell_type": "markdown",
   "metadata": {},
   "source": [
    "## 最终预测了484371项"
   ]
  },
  {
   "cell_type": "code",
   "execution_count": 189,
   "metadata": {
    "collapsed": false
   },
   "outputs": [
    {
     "data": {
      "text/plain": [
       "(484371, 2)"
      ]
     },
     "execution_count": 189,
     "metadata": {},
     "output_type": "execute_result"
    }
   ],
   "source": [
    "gender_predicted.shape"
   ]
  },
  {
   "cell_type": "code",
   "execution_count": 190,
   "metadata": {
    "collapsed": false
   },
   "outputs": [
    {
     "data": {
      "text/plain": [
       "0    432005\n",
       "1     52366\n",
       "Name: gender, dtype: int64"
      ]
     },
     "execution_count": 190,
     "metadata": {},
     "output_type": "execute_result"
    }
   ],
   "source": [
    "pd.value_counts(gender_predicted['gender'])"
   ]
  },
  {
   "cell_type": "markdown",
   "metadata": {},
   "source": [
    "## 保存预测结果到gender_predicted.csv"
   ]
  },
  {
   "cell_type": "code",
   "execution_count": 191,
   "metadata": {
    "collapsed": true
   },
   "outputs": [],
   "source": [
    "gender_predicted.to_csv('E:/gender_predicted.csv')"
   ]
  },
  {
   "cell_type": "code",
   "execution_count": null,
   "metadata": {
    "collapsed": true
   },
   "outputs": [],
   "source": []
  }
 ],
 "metadata": {
  "kernelspec": {
   "display_name": "Python 2",
   "language": "python",
   "name": "python2"
  },
  "language_info": {
   "codemirror_mode": {
    "name": "ipython",
    "version": 2
   },
   "file_extension": ".py",
   "mimetype": "text/x-python",
   "name": "python",
   "nbconvert_exporter": "python",
   "pygments_lexer": "ipython2",
   "version": "2.7.11"
  }
 },
 "nbformat": 4,
 "nbformat_minor": 0
}
