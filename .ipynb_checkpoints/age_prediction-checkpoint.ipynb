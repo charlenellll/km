{
 "cells": [
  {
   "cell_type": "code",
   "execution_count": 24,
   "metadata": {
    "collapsed": true
   },
   "outputs": [],
   "source": [
    "# coding=utf-8\n",
    "\"\"\"\n",
    "Credit by Liao Jialing\n",
    "\n",
    "\"\"\"\n",
    "\n",
    "import xgboost as xgb\n",
    "import pandas as pd\n",
    "import numpy as np\n",
    "from sklearn.cross_validation import train_test_split"
   ]
  },
  {
   "cell_type": "markdown",
   "metadata": {},
   "source": [
    "# 1. 读入用户基本信息宽表,对年龄做一些处理"
   ]
  },
  {
   "cell_type": "code",
   "execution_count": 31,
   "metadata": {
    "collapsed": false
   },
   "outputs": [],
   "source": [
    "dataset = pd.read_csv('E:/user_all.csv')"
   ]
  },
  {
   "cell_type": "code",
   "execution_count": 32,
   "metadata": {
    "collapsed": false
   },
   "outputs": [],
   "source": [
    "dataset['member_age'] = 2017 - dataset['member_birthday'][dataset['member_birthday'].notnull()]"
   ]
  },
  {
   "cell_type": "code",
   "execution_count": 33,
   "metadata": {
    "collapsed": true
   },
   "outputs": [],
   "source": [
    "dataset['song_age'] = 2017 - dataset['year'][dataset['year'].notnull()]"
   ]
  },
  {
   "cell_type": "code",
   "execution_count": 34,
   "metadata": {
    "collapsed": false
   },
   "outputs": [
    {
     "name": "stdout",
     "output_type": "stream",
     "text": [
      "<class 'pandas.core.frame.DataFrame'>\n",
      "Int64Index: 503879 entries, 0 to 503878\n",
      "Columns: 115 entries, customerid to song_age\n",
      "dtypes: float64(105), object(10)\n",
      "memory usage: 445.9+ MB\n"
     ]
    }
   ],
   "source": [
    "dataset.info()"
   ]
  },
  {
   "cell_type": "code",
   "execution_count": 35,
   "metadata": {
    "collapsed": false
   },
   "outputs": [
    {
     "data": {
      "text/plain": [
       "67"
      ]
     },
     "execution_count": 35,
     "metadata": {},
     "output_type": "execute_result"
    }
   ],
   "source": [
    "len(pd.value_counts(dataset['member_age']))"
   ]
  },
  {
   "cell_type": "code",
   "execution_count": 36,
   "metadata": {
    "collapsed": false
   },
   "outputs": [
    {
     "data": {
      "text/plain": [
       "15559"
      ]
     },
     "execution_count": 36,
     "metadata": {},
     "output_type": "execute_result"
    }
   ],
   "source": [
    "dataset['member_age'].notnull().sum()"
   ]
  },
  {
   "cell_type": "code",
   "execution_count": 37,
   "metadata": {
    "collapsed": false
   },
   "outputs": [
    {
     "data": {
      "text/plain": [
       "41"
      ]
     },
     "execution_count": 37,
     "metadata": {},
     "output_type": "execute_result"
    }
   ],
   "source": [
    "len(pd.value_counts(dataset['song_age']))"
   ]
  },
  {
   "cell_type": "code",
   "execution_count": 38,
   "metadata": {
    "collapsed": false
   },
   "outputs": [
    {
     "data": {
      "text/plain": [
       "2300"
      ]
     },
     "execution_count": 38,
     "metadata": {},
     "output_type": "execute_result"
    }
   ],
   "source": [
    "dataset['song_age'].notnull().sum()"
   ]
  },
  {
   "cell_type": "markdown",
   "metadata": {},
   "source": [
    "## 将target放在第一列"
   ]
  },
  {
   "cell_type": "code",
   "execution_count": 39,
   "metadata": {
    "collapsed": true
   },
   "outputs": [],
   "source": [
    "age_label = dataset.pop('member_age')"
   ]
  },
  {
   "cell_type": "code",
   "execution_count": 40,
   "metadata": {
    "collapsed": true
   },
   "outputs": [],
   "source": [
    "dataset.insert(0,'member_age',age_label)"
   ]
  },
  {
   "cell_type": "code",
   "execution_count": 41,
   "metadata": {
    "collapsed": false
   },
   "outputs": [
    {
     "data": {
      "text/html": [
       "<div>\n",
       "<table border=\"1\" class=\"dataframe\">\n",
       "  <thead>\n",
       "    <tr style=\"text-align: right;\">\n",
       "      <th></th>\n",
       "      <th>member_age</th>\n",
       "      <th>customerid</th>\n",
       "      <th>registertime</th>\n",
       "      <th>customer_status</th>\n",
       "      <th>openid</th>\n",
       "      <th>wechat_sex</th>\n",
       "      <th>wechat_city</th>\n",
       "      <th>wechat_province</th>\n",
       "      <th>wechat_country</th>\n",
       "      <th>kmid</th>\n",
       "      <th>...</th>\n",
       "      <th>shop_original_sum_min</th>\n",
       "      <th>shop_companyid</th>\n",
       "      <th>shop_com_cnt</th>\n",
       "      <th>shop_order_cnt</th>\n",
       "      <th>shop_cross_com</th>\n",
       "      <th>shop_com_roomnum</th>\n",
       "      <th>shop_com_regioncode</th>\n",
       "      <th>shop_com_managetype</th>\n",
       "      <th>shop_com_vodsystemtype</th>\n",
       "      <th>song_age</th>\n",
       "    </tr>\n",
       "  </thead>\n",
       "  <tbody>\n",
       "    <tr>\n",
       "      <th>0</th>\n",
       "      <td>NaN</td>\n",
       "      <td>5792237</td>\n",
       "      <td>2016-05-01 00:00:00</td>\n",
       "      <td>0</td>\n",
       "      <td>NaN</td>\n",
       "      <td>NaN</td>\n",
       "      <td>NaN</td>\n",
       "      <td>NaN</td>\n",
       "      <td>NaN</td>\n",
       "      <td>NaN</td>\n",
       "      <td>...</td>\n",
       "      <td>NaN</td>\n",
       "      <td>NaN</td>\n",
       "      <td>NaN</td>\n",
       "      <td>NaN</td>\n",
       "      <td>NaN</td>\n",
       "      <td>NaN</td>\n",
       "      <td>NaN</td>\n",
       "      <td>NaN</td>\n",
       "      <td>NaN</td>\n",
       "      <td>NaN</td>\n",
       "    </tr>\n",
       "    <tr>\n",
       "      <th>1</th>\n",
       "      <td>NaN</td>\n",
       "      <td>5792238</td>\n",
       "      <td>2016-05-01 00:00:01</td>\n",
       "      <td>0</td>\n",
       "      <td>NaN</td>\n",
       "      <td>NaN</td>\n",
       "      <td>NaN</td>\n",
       "      <td>NaN</td>\n",
       "      <td>NaN</td>\n",
       "      <td>NaN</td>\n",
       "      <td>...</td>\n",
       "      <td>NaN</td>\n",
       "      <td>NaN</td>\n",
       "      <td>NaN</td>\n",
       "      <td>NaN</td>\n",
       "      <td>NaN</td>\n",
       "      <td>NaN</td>\n",
       "      <td>NaN</td>\n",
       "      <td>NaN</td>\n",
       "      <td>NaN</td>\n",
       "      <td>NaN</td>\n",
       "    </tr>\n",
       "    <tr>\n",
       "      <th>2</th>\n",
       "      <td>NaN</td>\n",
       "      <td>5792239</td>\n",
       "      <td>2016-05-01 00:00:05</td>\n",
       "      <td>0</td>\n",
       "      <td>NaN</td>\n",
       "      <td>NaN</td>\n",
       "      <td>NaN</td>\n",
       "      <td>NaN</td>\n",
       "      <td>NaN</td>\n",
       "      <td>NaN</td>\n",
       "      <td>...</td>\n",
       "      <td>NaN</td>\n",
       "      <td>NaN</td>\n",
       "      <td>NaN</td>\n",
       "      <td>NaN</td>\n",
       "      <td>NaN</td>\n",
       "      <td>NaN</td>\n",
       "      <td>NaN</td>\n",
       "      <td>NaN</td>\n",
       "      <td>NaN</td>\n",
       "      <td>NaN</td>\n",
       "    </tr>\n",
       "    <tr>\n",
       "      <th>3</th>\n",
       "      <td>NaN</td>\n",
       "      <td>5792241</td>\n",
       "      <td>2016-05-01 00:00:07</td>\n",
       "      <td>0</td>\n",
       "      <td>NaN</td>\n",
       "      <td>NaN</td>\n",
       "      <td>NaN</td>\n",
       "      <td>NaN</td>\n",
       "      <td>NaN</td>\n",
       "      <td>NaN</td>\n",
       "      <td>...</td>\n",
       "      <td>NaN</td>\n",
       "      <td>NaN</td>\n",
       "      <td>NaN</td>\n",
       "      <td>NaN</td>\n",
       "      <td>NaN</td>\n",
       "      <td>NaN</td>\n",
       "      <td>NaN</td>\n",
       "      <td>NaN</td>\n",
       "      <td>NaN</td>\n",
       "      <td>NaN</td>\n",
       "    </tr>\n",
       "    <tr>\n",
       "      <th>4</th>\n",
       "      <td>NaN</td>\n",
       "      <td>5792242</td>\n",
       "      <td>2016-05-01 00:00:07</td>\n",
       "      <td>0</td>\n",
       "      <td>NaN</td>\n",
       "      <td>NaN</td>\n",
       "      <td>NaN</td>\n",
       "      <td>NaN</td>\n",
       "      <td>NaN</td>\n",
       "      <td>NaN</td>\n",
       "      <td>...</td>\n",
       "      <td>NaN</td>\n",
       "      <td>NaN</td>\n",
       "      <td>NaN</td>\n",
       "      <td>NaN</td>\n",
       "      <td>NaN</td>\n",
       "      <td>NaN</td>\n",
       "      <td>NaN</td>\n",
       "      <td>NaN</td>\n",
       "      <td>NaN</td>\n",
       "      <td>NaN</td>\n",
       "    </tr>\n",
       "  </tbody>\n",
       "</table>\n",
       "<p>5 rows × 115 columns</p>\n",
       "</div>"
      ],
      "text/plain": [
       "   member_age customerid         registertime customer_status openid  \\\n",
       "0         NaN    5792237  2016-05-01 00:00:00               0    NaN   \n",
       "1         NaN    5792238  2016-05-01 00:00:01               0    NaN   \n",
       "2         NaN    5792239  2016-05-01 00:00:05               0    NaN   \n",
       "3         NaN    5792241  2016-05-01 00:00:07               0    NaN   \n",
       "4         NaN    5792242  2016-05-01 00:00:07               0    NaN   \n",
       "\n",
       "  wechat_sex wechat_city wechat_province wechat_country kmid    ...     \\\n",
       "0        NaN         NaN             NaN            NaN  NaN    ...      \n",
       "1        NaN         NaN             NaN            NaN  NaN    ...      \n",
       "2        NaN         NaN             NaN            NaN  NaN    ...      \n",
       "3        NaN         NaN             NaN            NaN  NaN    ...      \n",
       "4        NaN         NaN             NaN            NaN  NaN    ...      \n",
       "\n",
       "   shop_original_sum_min  shop_companyid  shop_com_cnt  shop_order_cnt  \\\n",
       "0                    NaN             NaN           NaN             NaN   \n",
       "1                    NaN             NaN           NaN             NaN   \n",
       "2                    NaN             NaN           NaN             NaN   \n",
       "3                    NaN             NaN           NaN             NaN   \n",
       "4                    NaN             NaN           NaN             NaN   \n",
       "\n",
       "   shop_cross_com  shop_com_roomnum  shop_com_regioncode shop_com_managetype  \\\n",
       "0             NaN               NaN                  NaN                 NaN   \n",
       "1             NaN               NaN                  NaN                 NaN   \n",
       "2             NaN               NaN                  NaN                 NaN   \n",
       "3             NaN               NaN                  NaN                 NaN   \n",
       "4             NaN               NaN                  NaN                 NaN   \n",
       "\n",
       "   shop_com_vodsystemtype  song_age  \n",
       "0                     NaN       NaN  \n",
       "1                     NaN       NaN  \n",
       "2                     NaN       NaN  \n",
       "3                     NaN       NaN  \n",
       "4                     NaN       NaN  \n",
       "\n",
       "[5 rows x 115 columns]"
      ]
     },
     "execution_count": 41,
     "metadata": {},
     "output_type": "execute_result"
    }
   ],
   "source": [
    "dataset.head()"
   ]
  },
  {
   "cell_type": "markdown",
   "metadata": {},
   "source": [
    "## 填充缺失值"
   ]
  },
  {
   "cell_type": "code",
   "execution_count": 59,
   "metadata": {
    "collapsed": false
   },
   "outputs": [],
   "source": [
    "# for i in dataset.columns:\n",
    "#     if dataset.shape[0] != dataset[i].notnull().sum():\n",
    "#         print(i)"
   ]
  },
  {
   "cell_type": "code",
   "execution_count": 44,
   "metadata": {
    "collapsed": true
   },
   "outputs": [],
   "source": [
    "dataset.drop('registertime',axis=1,inplace=True)"
   ]
  },
  {
   "cell_type": "code",
   "execution_count": 45,
   "metadata": {
    "collapsed": false
   },
   "outputs": [
    {
     "data": {
      "text/plain": [
       "(503879, 114)"
      ]
     },
     "execution_count": 45,
     "metadata": {},
     "output_type": "execute_result"
    }
   ],
   "source": [
    "dataset.shape"
   ]
  },
  {
   "cell_type": "code",
   "execution_count": 50,
   "metadata": {
    "collapsed": false
   },
   "outputs": [
    {
     "data": {
      "text/plain": [
       "(503862, 114)"
      ]
     },
     "execution_count": 50,
     "metadata": {},
     "output_type": "execute_result"
    }
   ],
   "source": [
    "dataset.drop_duplicates('customerid').shape"
   ]
  },
  {
   "cell_type": "markdown",
   "metadata": {},
   "source": [
    "### customerid去重（对数据量几乎无影响）"
   ]
  },
  {
   "cell_type": "code",
   "execution_count": 53,
   "metadata": {
    "collapsed": true
   },
   "outputs": [],
   "source": [
    "dataset.drop_duplicates('customerid',inplace=True)"
   ]
  },
  {
   "cell_type": "code",
   "execution_count": 60,
   "metadata": {
    "collapsed": false
   },
   "outputs": [],
   "source": [
    "# for col in dataset.columns.values:\n",
    "#     print(col, dataset[col].notnull().sum())"
   ]
  },
  {
   "cell_type": "code",
   "execution_count": 55,
   "metadata": {
    "collapsed": false
   },
   "outputs": [
    {
     "data": {
      "text/plain": [
       "(503862, 114)"
      ]
     },
     "execution_count": 55,
     "metadata": {},
     "output_type": "execute_result"
    }
   ],
   "source": [
    "dataset.shape"
   ]
  },
  {
   "cell_type": "markdown",
   "metadata": {},
   "source": [
    "### customerid唯一且非空，可drop掉总表的kmid和openid"
   ]
  },
  {
   "cell_type": "code",
   "execution_count": 56,
   "metadata": {
    "collapsed": true
   },
   "outputs": [],
   "source": [
    "dataset.drop(['kmid','openid'],axis=1,inplace=True)"
   ]
  },
  {
   "cell_type": "markdown",
   "metadata": {},
   "source": [
    "### customer_status无区别，无用，弃之"
   ]
  },
  {
   "cell_type": "code",
   "execution_count": 76,
   "metadata": {
    "collapsed": false
   },
   "outputs": [],
   "source": [
    "dataset.drop('customer_status',axis=1,inplace=True)"
   ]
  },
  {
   "cell_type": "code",
   "execution_count": 77,
   "metadata": {
    "collapsed": false
   },
   "outputs": [
    {
     "data": {
      "text/plain": [
       "(503862, 111)"
      ]
     },
     "execution_count": 77,
     "metadata": {},
     "output_type": "execute_result"
    }
   ],
   "source": [
    "dataset.shape"
   ]
  },
  {
   "cell_type": "markdown",
   "metadata": {},
   "source": [
    "### wechat_sex wechat_city wechat_province wechat_country"
   ]
  },
  {
   "cell_type": "code",
   "execution_count": 114,
   "metadata": {
    "collapsed": false
   },
   "outputs": [],
   "source": [
    "dataset.loc[:,['wechat_sex','wechat_city','wechat_province','wechat_country']].fillna('missing',inplace=True)"
   ]
  },
  {
   "cell_type": "markdown",
   "metadata": {},
   "source": [
    "#### wechat_sex：1-男性，2-女性，0-未知（缺失值填0）"
   ]
  },
  {
   "cell_type": "code",
   "execution_count": 79,
   "metadata": {
    "collapsed": false
   },
   "outputs": [],
   "source": [
    "dataset['wechat_sex'].fillna(0,inplace=True)"
   ]
  },
  {
   "cell_type": "code",
   "execution_count": 94,
   "metadata": {
    "collapsed": false
   },
   "outputs": [
    {
     "data": {
      "text/plain": [
       "0            472964\n",
       "0             23393\n",
       "1.0            2412\n",
       "2.0            2161\n",
       "1              1631\n",
       "2              1291\n",
       "-1                2\n",
       "dao               1\n",
       "pan               1\n",
       "慧子                1\n",
       "Z\\                1\n",
       "距离令人伤了神。          1\n",
       "Monaco            1\n",
       "a promise         1\n",
       "  mj              1\n",
       "Name: wechat_sex, dtype: int64"
      ]
     },
     "execution_count": 94,
     "metadata": {},
     "output_type": "execute_result"
    }
   ],
   "source": [
    "pd.value_counts(dataset['wechat_sex'])"
   ]
  },
  {
   "cell_type": "code",
   "execution_count": 95,
   "metadata": {
    "collapsed": true
   },
   "outputs": [],
   "source": [
    "def sex_encode(data):\n",
    "    if data==1:\n",
    "        return 1\n",
    "    elif data==2:\n",
    "        return 2\n",
    "    else:\n",
    "        return 0"
   ]
  },
  {
   "cell_type": "markdown",
   "metadata": {},
   "source": [
    "#### 清除脏数据"
   ]
  },
  {
   "cell_type": "code",
   "execution_count": 102,
   "metadata": {
    "collapsed": true
   },
   "outputs": [],
   "source": [
    "dataset['wechat_sex'] = map(sex_encode,dataset['wechat_sex'])"
   ]
  },
  {
   "cell_type": "code",
   "execution_count": 103,
   "metadata": {
    "collapsed": false
   },
   "outputs": [
    {
     "data": {
      "text/plain": [
       "0    499289\n",
       "1      2412\n",
       "2      2161\n",
       "Name: wechat_sex, dtype: int64"
      ]
     },
     "execution_count": 103,
     "metadata": {},
     "output_type": "execute_result"
    }
   ],
   "source": [
    "pd.value_counts(dataset['wechat_sex'])"
   ]
  },
  {
   "cell_type": "code",
   "execution_count": 104,
   "metadata": {
    "collapsed": true
   },
   "outputs": [],
   "source": [
    "wechat_sex = pd.get_dummies(dataset.wechat_sex)"
   ]
  },
  {
   "cell_type": "code",
   "execution_count": 105,
   "metadata": {
    "collapsed": false
   },
   "outputs": [
    {
     "data": {
      "text/plain": [
       "(503862, 3)"
      ]
     },
     "execution_count": 105,
     "metadata": {},
     "output_type": "execute_result"
    }
   ],
   "source": [
    "wechat_sex.shape"
   ]
  },
  {
   "cell_type": "code",
   "execution_count": 106,
   "metadata": {
    "collapsed": true
   },
   "outputs": [],
   "source": [
    "wechat_sex = wechat_sex.rename(columns=lambda x:'wechat_sex_'+str(x))"
   ]
  },
  {
   "cell_type": "code",
   "execution_count": 107,
   "metadata": {
    "collapsed": false
   },
   "outputs": [
    {
     "data": {
      "text/html": [
       "<div>\n",
       "<table border=\"1\" class=\"dataframe\">\n",
       "  <thead>\n",
       "    <tr style=\"text-align: right;\">\n",
       "      <th></th>\n",
       "      <th>wechat_sex_0</th>\n",
       "      <th>wechat_sex_1</th>\n",
       "      <th>wechat_sex_2</th>\n",
       "    </tr>\n",
       "  </thead>\n",
       "  <tbody>\n",
       "    <tr>\n",
       "      <th>0</th>\n",
       "      <td>1</td>\n",
       "      <td>0</td>\n",
       "      <td>0</td>\n",
       "    </tr>\n",
       "    <tr>\n",
       "      <th>1</th>\n",
       "      <td>1</td>\n",
       "      <td>0</td>\n",
       "      <td>0</td>\n",
       "    </tr>\n",
       "    <tr>\n",
       "      <th>2</th>\n",
       "      <td>1</td>\n",
       "      <td>0</td>\n",
       "      <td>0</td>\n",
       "    </tr>\n",
       "    <tr>\n",
       "      <th>3</th>\n",
       "      <td>1</td>\n",
       "      <td>0</td>\n",
       "      <td>0</td>\n",
       "    </tr>\n",
       "    <tr>\n",
       "      <th>4</th>\n",
       "      <td>1</td>\n",
       "      <td>0</td>\n",
       "      <td>0</td>\n",
       "    </tr>\n",
       "  </tbody>\n",
       "</table>\n",
       "</div>"
      ],
      "text/plain": [
       "   wechat_sex_0  wechat_sex_1  wechat_sex_2\n",
       "0             1             0             0\n",
       "1             1             0             0\n",
       "2             1             0             0\n",
       "3             1             0             0\n",
       "4             1             0             0"
      ]
     },
     "execution_count": 107,
     "metadata": {},
     "output_type": "execute_result"
    }
   ],
   "source": [
    "wechat_sex.head()"
   ]
  },
  {
   "cell_type": "code",
   "execution_count": 108,
   "metadata": {
    "collapsed": true
   },
   "outputs": [],
   "source": [
    "dataset = pd.concat([dataset,wechat_sex],axis=1)"
   ]
  },
  {
   "cell_type": "code",
   "execution_count": 112,
   "metadata": {
    "collapsed": false
   },
   "outputs": [],
   "source": [
    "dataset.drop('wechat_sex',axis=1,inplace=True)"
   ]
  },
  {
   "cell_type": "code",
   "execution_count": 113,
   "metadata": {
    "collapsed": false
   },
   "outputs": [
    {
     "data": {
      "text/plain": [
       "(503862, 113)"
      ]
     },
     "execution_count": 113,
     "metadata": {},
     "output_type": "execute_result"
    }
   ],
   "source": [
    "dataset.shape"
   ]
  },
  {
   "cell_type": "markdown",
   "metadata": {},
   "source": [
    "#### wechat_city wechat_province wechat_country\n",
    "\n",
    "== 这些值怎么办哇 =="
   ]
  },
  {
   "cell_type": "code",
   "execution_count": 116,
   "metadata": {
    "collapsed": false
   },
   "outputs": [
    {
     "data": {
      "text/plain": [
       "null      73704\n",
       "深圳         1265\n",
       "广州         1039\n",
       "福州          453\n",
       "浦东新区        289\n",
       "普陀          114\n",
       "宝山          112\n",
       "沙坪坝         107\n",
       "江北          104\n",
       "渝北           91\n",
       "渝中           78\n",
       "南岸           75\n",
       "九龙坡          74\n",
       "汕头           66\n",
       "揭阳           65\n",
       "上海           64\n",
       "湛江           56\n",
       "汕尾           54\n",
       "闵行           48\n",
       "茂名           47\n",
       "重庆           43\n",
       "徐汇           37\n",
       "成都           37\n",
       "佛山           35\n",
       "江门           30\n",
       "梅州           30\n",
       "松江           29\n",
       "虹口           25\n",
       "杨浦           24\n",
       "泉州           24\n",
       "          ...  \n",
       "黑河            1\n",
       "布里斯班          1\n",
       "利川市           1\n",
       "滨州            1\n",
       "西宁            1\n",
       "堪萨斯城          1\n",
       "檀香山           1\n",
       "望德堂区          1\n",
       "丹敦            1\n",
       "威尔斯           1\n",
       "林芝            1\n",
       "mñW3          1\n",
       "红桥            1\n",
       "爱丁堡           1\n",
       "白城            1\n",
       "弗里曼特尔港        1\n",
       "花地玛堂区         1\n",
       "秦皇岛           1\n",
       "石家庄           1\n",
       "槟城            1\n",
       "休斯敦           1\n",
       "资阳            1\n",
       "，             1\n",
       "安顺            1\n",
       "怀柔            1\n",
       "圣安多尼堂区        1\n",
       "万宁            1\n",
       "酒泉            1\n",
       "张掖            1\n",
       "台北市           1\n",
       "Name: wechat_city, dtype: int64"
      ]
     },
     "execution_count": 116,
     "metadata": {},
     "output_type": "execute_result"
    }
   ],
   "source": [
    "pd.value_counts(dataset['wechat_city'])"
   ]
  },
  {
   "cell_type": "code",
   "execution_count": 117,
   "metadata": {
    "collapsed": false
   },
   "outputs": [
    {
     "data": {
      "text/plain": [
       "null     73704\n",
       "广东        2736\n",
       "上海        1070\n",
       "重庆         997\n",
       "福建         558\n",
       "四川         122\n",
       "湖南         108\n",
       "安徽          99\n",
       "广州          84\n",
       "湖北          74\n",
       "江苏          71\n",
       "浙江          66\n",
       "深圳          63\n",
       "首尔          53\n",
       "江西          50\n",
       "广西          47\n",
       "云南          46\n",
       "山东          37\n",
       "河南          35\n",
       "贵州          34\n",
       "巴黎          31\n",
       "北京          30\n",
       "辽宁          21\n",
       "维多利亚        21\n",
       "迪拜          20\n",
       "海南          18\n",
       "香港          16\n",
       "陕西          16\n",
       "英格兰         16\n",
       "纽约          14\n",
       "         ...  \n",
       "伊斯坦布尔        1\n",
       "宝山           1\n",
       "韦克斯福德        1\n",
       "奥斯塔          1\n",
       "下奥地利         1\n",
       "蔚山           1\n",
       "汝拉           1\n",
       "施维茨          1\n",
       "圣路易斯         1\n",
       "基隆市          1\n",
       "北碧           1\n",
       "彰化县          1\n",
       "2            1\n",
       "阿尔高          1\n",
       "南投县          1\n",
       "曼谷           1\n",
       "南区           1\n",
       "埃德           1\n",
       "格拉鲁斯         1\n",
       "夏威夷          1\n",
       "里昂           1\n",
       "代特莫尔特        1\n",
       "达尼丁          1\n",
       "伯尔尼          1\n",
       "那不勒斯         1\n",
       "密歇根          1\n",
       "爱荷华          1\n",
       "连江县          1\n",
       "^N          1\n",
       "苏格兰          1\n",
       "Name: wechat_province, dtype: int64"
      ]
     },
     "execution_count": 117,
     "metadata": {},
     "output_type": "execute_result"
    }
   ],
   "source": [
    "pd.value_counts(dataset['wechat_province'])"
   ]
  },
  {
   "cell_type": "code",
   "execution_count": 118,
   "metadata": {
    "collapsed": false
   },
   "outputs": [
    {
     "data": {
      "text/plain": [
       "null        73783\n",
       "中国           6353\n",
       "-1            175\n",
       "韩国             78\n",
       "冰岛             65\n",
       "安道尔            57\n",
       "澳大利亚           49\n",
       "美国             45\n",
       "法国             39\n",
       "中国香港           37\n",
       "阿尔巴尼亚          32\n",
       "爱尔兰            31\n",
       "日本             27\n",
       "阿拉伯联合酋长国       27\n",
       "百慕大            27\n",
       "泽西岛            26\n",
       "阿尔及利亚          21\n",
       "阿鲁巴            18\n",
       "英国             18\n",
       "马尔代夫           17\n",
       "瑞士             17\n",
       "毛里求斯           16\n",
       "奥地利            15\n",
       "希腊             15\n",
       "不丹             13\n",
       "加拿大            13\n",
       "巴巴多斯岛          12\n",
       "中非共和国          12\n",
       "智利             12\n",
       "埃及             12\n",
       "            ...  \n",
       "斯洛文尼亚           1\n",
       "格林纳达            1\n",
       "所罗门群岛           1\n",
       "伊朗              1\n",
       "哥斯达黎加           1\n",
       "塞拉利昂            1\n",
       "重庆              1\n",
       "蒙古              1\n",
       "印度尼西亚           1\n",
       "阿塞拜疆            1\n",
       "克罗地亚            1\n",
       "列支敦士登           1\n",
       "沙特阿拉伯           1\n",
       "巴西              1\n",
       "汤加              1\n",
       "委内瑞拉            1\n",
       "云南              1\n",
       "葡萄牙             1\n",
       "纳米比亚            1\n",
       "塔吉克斯坦           1\n",
       "巴拿马             1\n",
       "毛里塔尼亚           1\n",
       "新喀里多尼亚          1\n",
       "深圳              1\n",
       "刚果民主共和国         1\n",
       "格陵兰             1\n",
       "斯洛伐克            1\n",
       "苏里南             1\n",
       "利比里亚            1\n",
       "福建              1\n",
       "Name: wechat_country, dtype: int64"
      ]
     },
     "execution_count": 118,
     "metadata": {},
     "output_type": "execute_result"
    }
   ],
   "source": [
    "pd.value_counts(dataset['wechat_country'])"
   ]
  },
  {
   "cell_type": "code",
   "execution_count": 119,
   "metadata": {
    "collapsed": true
   },
   "outputs": [],
   "source": [
    "dataset.to_csv('E:/dataset.csv',index=False)"
   ]
  },
  {
   "cell_type": "code",
   "execution_count": null,
   "metadata": {
    "collapsed": true
   },
   "outputs": [],
   "source": []
  },
  {
   "cell_type": "code",
   "execution_count": null,
   "metadata": {
    "collapsed": true
   },
   "outputs": [],
   "source": []
  },
  {
   "cell_type": "code",
   "execution_count": null,
   "metadata": {
    "collapsed": true
   },
   "outputs": [],
   "source": []
  },
  {
   "cell_type": "code",
   "execution_count": null,
   "metadata": {
    "collapsed": true
   },
   "outputs": [],
   "source": []
  },
  {
   "cell_type": "code",
   "execution_count": null,
   "metadata": {
    "collapsed": true
   },
   "outputs": [],
   "source": []
  },
  {
   "cell_type": "markdown",
   "metadata": {},
   "source": [
    "# 2. 分出测试集和训练集"
   ]
  },
  {
   "cell_type": "code",
   "execution_count": 14,
   "metadata": {
    "collapsed": false
   },
   "outputs": [
    {
     "data": {
      "text/html": [
       "<div>\n",
       "<table border=\"1\" class=\"dataframe\">\n",
       "  <thead>\n",
       "    <tr style=\"text-align: right;\">\n",
       "      <th></th>\n",
       "      <th>member_age</th>\n",
       "      <th>customerid</th>\n",
       "      <th>registertime</th>\n",
       "      <th>customer_status</th>\n",
       "      <th>openid</th>\n",
       "      <th>wechat_sex</th>\n",
       "      <th>wechat_city</th>\n",
       "      <th>wechat_province</th>\n",
       "      <th>wechat_country</th>\n",
       "      <th>kmid</th>\n",
       "      <th>...</th>\n",
       "      <th>shop_original_sum_min</th>\n",
       "      <th>shop_companyid</th>\n",
       "      <th>shop_com_cnt</th>\n",
       "      <th>shop_order_cnt</th>\n",
       "      <th>shop_cross_com</th>\n",
       "      <th>shop_com_roomnum</th>\n",
       "      <th>shop_com_regioncode</th>\n",
       "      <th>shop_com_managetype</th>\n",
       "      <th>shop_com_vodsystemtype</th>\n",
       "      <th>song_age</th>\n",
       "    </tr>\n",
       "  </thead>\n",
       "  <tbody>\n",
       "    <tr>\n",
       "      <th>0</th>\n",
       "      <td>NaN</td>\n",
       "      <td>5792237</td>\n",
       "      <td>2016-05-01 00:00:00</td>\n",
       "      <td>0</td>\n",
       "      <td>NaN</td>\n",
       "      <td>NaN</td>\n",
       "      <td>NaN</td>\n",
       "      <td>NaN</td>\n",
       "      <td>NaN</td>\n",
       "      <td>NaN</td>\n",
       "      <td>...</td>\n",
       "      <td>NaN</td>\n",
       "      <td>NaN</td>\n",
       "      <td>NaN</td>\n",
       "      <td>NaN</td>\n",
       "      <td>NaN</td>\n",
       "      <td>NaN</td>\n",
       "      <td>NaN</td>\n",
       "      <td>NaN</td>\n",
       "      <td>NaN</td>\n",
       "      <td>NaN</td>\n",
       "    </tr>\n",
       "    <tr>\n",
       "      <th>1</th>\n",
       "      <td>NaN</td>\n",
       "      <td>5792238</td>\n",
       "      <td>2016-05-01 00:00:01</td>\n",
       "      <td>0</td>\n",
       "      <td>NaN</td>\n",
       "      <td>NaN</td>\n",
       "      <td>NaN</td>\n",
       "      <td>NaN</td>\n",
       "      <td>NaN</td>\n",
       "      <td>NaN</td>\n",
       "      <td>...</td>\n",
       "      <td>NaN</td>\n",
       "      <td>NaN</td>\n",
       "      <td>NaN</td>\n",
       "      <td>NaN</td>\n",
       "      <td>NaN</td>\n",
       "      <td>NaN</td>\n",
       "      <td>NaN</td>\n",
       "      <td>NaN</td>\n",
       "      <td>NaN</td>\n",
       "      <td>NaN</td>\n",
       "    </tr>\n",
       "    <tr>\n",
       "      <th>2</th>\n",
       "      <td>NaN</td>\n",
       "      <td>5792239</td>\n",
       "      <td>2016-05-01 00:00:05</td>\n",
       "      <td>0</td>\n",
       "      <td>NaN</td>\n",
       "      <td>NaN</td>\n",
       "      <td>NaN</td>\n",
       "      <td>NaN</td>\n",
       "      <td>NaN</td>\n",
       "      <td>NaN</td>\n",
       "      <td>...</td>\n",
       "      <td>NaN</td>\n",
       "      <td>NaN</td>\n",
       "      <td>NaN</td>\n",
       "      <td>NaN</td>\n",
       "      <td>NaN</td>\n",
       "      <td>NaN</td>\n",
       "      <td>NaN</td>\n",
       "      <td>NaN</td>\n",
       "      <td>NaN</td>\n",
       "      <td>NaN</td>\n",
       "    </tr>\n",
       "    <tr>\n",
       "      <th>3</th>\n",
       "      <td>NaN</td>\n",
       "      <td>5792241</td>\n",
       "      <td>2016-05-01 00:00:07</td>\n",
       "      <td>0</td>\n",
       "      <td>NaN</td>\n",
       "      <td>NaN</td>\n",
       "      <td>NaN</td>\n",
       "      <td>NaN</td>\n",
       "      <td>NaN</td>\n",
       "      <td>NaN</td>\n",
       "      <td>...</td>\n",
       "      <td>NaN</td>\n",
       "      <td>NaN</td>\n",
       "      <td>NaN</td>\n",
       "      <td>NaN</td>\n",
       "      <td>NaN</td>\n",
       "      <td>NaN</td>\n",
       "      <td>NaN</td>\n",
       "      <td>NaN</td>\n",
       "      <td>NaN</td>\n",
       "      <td>NaN</td>\n",
       "    </tr>\n",
       "    <tr>\n",
       "      <th>4</th>\n",
       "      <td>NaN</td>\n",
       "      <td>5792242</td>\n",
       "      <td>2016-05-01 00:00:07</td>\n",
       "      <td>0</td>\n",
       "      <td>NaN</td>\n",
       "      <td>NaN</td>\n",
       "      <td>NaN</td>\n",
       "      <td>NaN</td>\n",
       "      <td>NaN</td>\n",
       "      <td>NaN</td>\n",
       "      <td>...</td>\n",
       "      <td>NaN</td>\n",
       "      <td>NaN</td>\n",
       "      <td>NaN</td>\n",
       "      <td>NaN</td>\n",
       "      <td>NaN</td>\n",
       "      <td>NaN</td>\n",
       "      <td>NaN</td>\n",
       "      <td>NaN</td>\n",
       "      <td>NaN</td>\n",
       "      <td>NaN</td>\n",
       "    </tr>\n",
       "  </tbody>\n",
       "</table>\n",
       "<p>5 rows × 115 columns</p>\n",
       "</div>"
      ],
      "text/plain": [
       "   member_age customerid         registertime customer_status openid  \\\n",
       "0         NaN    5792237  2016-05-01 00:00:00               0    NaN   \n",
       "1         NaN    5792238  2016-05-01 00:00:01               0    NaN   \n",
       "2         NaN    5792239  2016-05-01 00:00:05               0    NaN   \n",
       "3         NaN    5792241  2016-05-01 00:00:07               0    NaN   \n",
       "4         NaN    5792242  2016-05-01 00:00:07               0    NaN   \n",
       "\n",
       "  wechat_sex wechat_city wechat_province wechat_country kmid    ...     \\\n",
       "0        NaN         NaN             NaN            NaN  NaN    ...      \n",
       "1        NaN         NaN             NaN            NaN  NaN    ...      \n",
       "2        NaN         NaN             NaN            NaN  NaN    ...      \n",
       "3        NaN         NaN             NaN            NaN  NaN    ...      \n",
       "4        NaN         NaN             NaN            NaN  NaN    ...      \n",
       "\n",
       "   shop_original_sum_min  shop_companyid  shop_com_cnt  shop_order_cnt  \\\n",
       "0                    NaN             NaN           NaN             NaN   \n",
       "1                    NaN             NaN           NaN             NaN   \n",
       "2                    NaN             NaN           NaN             NaN   \n",
       "3                    NaN             NaN           NaN             NaN   \n",
       "4                    NaN             NaN           NaN             NaN   \n",
       "\n",
       "   shop_cross_com  shop_com_roomnum  shop_com_regioncode shop_com_managetype  \\\n",
       "0             NaN               NaN                  NaN                 NaN   \n",
       "1             NaN               NaN                  NaN                 NaN   \n",
       "2             NaN               NaN                  NaN                 NaN   \n",
       "3             NaN               NaN                  NaN                 NaN   \n",
       "4             NaN               NaN                  NaN                 NaN   \n",
       "\n",
       "   shop_com_vodsystemtype  song_age  \n",
       "0                     NaN       NaN  \n",
       "1                     NaN       NaN  \n",
       "2                     NaN       NaN  \n",
       "3                     NaN       NaN  \n",
       "4                     NaN       NaN  \n",
       "\n",
       "[5 rows x 115 columns]"
      ]
     },
     "execution_count": 14,
     "metadata": {},
     "output_type": "execute_result"
    }
   ],
   "source": [
    "dataset.head()"
   ]
  },
  {
   "cell_type": "markdown",
   "metadata": {},
   "source": [
    "## 分测试集训练集"
   ]
  },
  {
   "cell_type": "code",
   "execution_count": 15,
   "metadata": {
    "collapsed": true
   },
   "outputs": [],
   "source": [
    "train = dataset[dataset['member_age'].notnull()]"
   ]
  },
  {
   "cell_type": "code",
   "execution_count": 16,
   "metadata": {
    "collapsed": true
   },
   "outputs": [],
   "source": [
    "test = dataset[dataset['member_age'].isnull()]"
   ]
  },
  {
   "cell_type": "code",
   "execution_count": 17,
   "metadata": {
    "collapsed": false
   },
   "outputs": [
    {
     "data": {
      "text/plain": [
       "(15559, 115)"
      ]
     },
     "execution_count": 17,
     "metadata": {},
     "output_type": "execute_result"
    }
   ],
   "source": [
    "train.shape"
   ]
  },
  {
   "cell_type": "code",
   "execution_count": 18,
   "metadata": {
    "collapsed": false
   },
   "outputs": [
    {
     "data": {
      "text/plain": [
       "(488320, 115)"
      ]
     },
     "execution_count": 18,
     "metadata": {},
     "output_type": "execute_result"
    }
   ],
   "source": [
    "test.shape"
   ]
  },
  {
   "cell_type": "code",
   "execution_count": 19,
   "metadata": {
    "collapsed": true
   },
   "outputs": [],
   "source": [
    "test_id = test.customerid"
   ]
  },
  {
   "cell_type": "code",
   "execution_count": 21,
   "metadata": {
    "collapsed": true
   },
   "outputs": [],
   "source": [
    "test = test.drop('customerid',axis=1)"
   ]
  },
  {
   "cell_type": "code",
   "execution_count": 22,
   "metadata": {
    "collapsed": true
   },
   "outputs": [],
   "source": [
    "X = train.drop(['member_age','customerid'],axis=1)"
   ]
  },
  {
   "cell_type": "code",
   "execution_count": 23,
   "metadata": {
    "collapsed": true
   },
   "outputs": [],
   "source": [
    "y = train.member_age.values"
   ]
  },
  {
   "cell_type": "code",
   "execution_count": 25,
   "metadata": {
    "collapsed": true
   },
   "outputs": [],
   "source": [
    "X_train,X_test,y_train,y_test = train_test_split(X,y,test_size=0.2,random_state=1729)"
   ]
  },
  {
   "cell_type": "code",
   "execution_count": 26,
   "metadata": {
    "collapsed": false
   },
   "outputs": [
    {
     "name": "stdout",
     "output_type": "stream",
     "text": [
      "((12447, 113), (3112, 113), (488320, 114))\n"
     ]
    }
   ],
   "source": [
    "print(X_train.shape, X_test.shape, test.shape)"
   ]
  },
  {
   "cell_type": "markdown",
   "metadata": {},
   "source": [
    "# 3. 进行特征选择"
   ]
  },
  {
   "cell_type": "code",
   "execution_count": null,
   "metadata": {
    "collapsed": true
   },
   "outputs": [],
   "source": []
  }
 ],
 "metadata": {
  "kernelspec": {
   "display_name": "Python 2",
   "language": "python",
   "name": "python2"
  },
  "language_info": {
   "codemirror_mode": {
    "name": "ipython",
    "version": 2
   },
   "file_extension": ".py",
   "mimetype": "text/x-python",
   "name": "python",
   "nbconvert_exporter": "python",
   "pygments_lexer": "ipython2",
   "version": "2.7.13"
  }
 },
 "nbformat": 4,
 "nbformat_minor": 0
}
