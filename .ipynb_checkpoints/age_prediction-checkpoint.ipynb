{
 "cells": [
  {
   "cell_type": "code",
   "execution_count": 1,
   "metadata": {
    "collapsed": false
   },
   "outputs": [],
   "source": [
    "# coding=utf-8\n",
    "\"\"\"\n",
    "Credit by Liao Jialing\n",
    "\n",
    "\"\"\"\n",
    "import xgboost as xgb\n",
    "import pandas as pd\n",
    "import numpy as np\n",
    "from sklearn.cross_validation import train_test_split\n",
    "from sklearn.ensemble import RandomForestClassifier\n",
    "from sklearn.feature_selection import SelectFromModel"
   ]
  },
  {
   "cell_type": "markdown",
   "metadata": {},
   "source": [
    "# 1. 读入清洗整理后的用户基本信息宽表"
   ]
  },
  {
   "cell_type": "code",
   "execution_count": 2,
   "metadata": {
    "collapsed": false,
    "scrolled": true
   },
   "outputs": [
    {
     "name": "stderr",
     "output_type": "stream",
     "text": [
      "D:\\Users\\Jialing Liao\\AppData\\Local\\Continuum\\Anaconda2\\lib\\site-packages\\IPython\\core\\interactiveshell.py:2902: DtypeWarning: Columns (0) have mixed types. Specify dtype option on import or set low_memory=False.\n",
      "  interactivity=interactivity, compiler=compiler, result=result)\n"
     ]
    }
   ],
   "source": [
    "dataset = pd.read_csv('E:/user_all_cleared.csv')"
   ]
  },
  {
   "cell_type": "markdown",
   "metadata": {},
   "source": [
    "## 将target放在第一列"
   ]
  },
  {
   "cell_type": "code",
   "execution_count": 3,
   "metadata": {
    "collapsed": true
   },
   "outputs": [],
   "source": [
    "age_label = dataset.pop('member_age')"
   ]
  },
  {
   "cell_type": "code",
   "execution_count": 4,
   "metadata": {
    "collapsed": true
   },
   "outputs": [],
   "source": [
    "dataset.insert(0,'member_age',age_label)"
   ]
  },
  {
   "cell_type": "code",
   "execution_count": 6,
   "metadata": {
    "collapsed": false
   },
   "outputs": [
    {
     "data": {
      "text/plain": [
       "(503862, 154)"
      ]
     },
     "execution_count": 6,
     "metadata": {},
     "output_type": "execute_result"
    }
   ],
   "source": [
    "dataset.shape"
   ]
  },
  {
   "cell_type": "code",
   "execution_count": 7,
   "metadata": {
    "collapsed": false,
    "scrolled": true
   },
   "outputs": [
    {
     "data": {
      "text/html": [
       "<div>\n",
       "<table border=\"1\" class=\"dataframe\">\n",
       "  <thead>\n",
       "    <tr style=\"text-align: right;\">\n",
       "      <th></th>\n",
       "      <th>member_age</th>\n",
       "      <th>customerid</th>\n",
       "      <th>accountcash</th>\n",
       "      <th>accountbalance</th>\n",
       "      <th>integralbalance</th>\n",
       "      <th>consumetotal</th>\n",
       "      <th>consumetimes</th>\n",
       "      <th>lastconsume_diff_create_day</th>\n",
       "      <th>lastconsume_diff_create_hour</th>\n",
       "      <th>lastconsume_diff_now</th>\n",
       "      <th>...</th>\n",
       "      <th>age_from_song_language_3.0</th>\n",
       "      <th>age_from_song_language_not_known</th>\n",
       "      <th>shop_com_regioncode_310000.0</th>\n",
       "      <th>shop_com_regioncode_350000.0</th>\n",
       "      <th>shop_com_regioncode_440000.0</th>\n",
       "      <th>shop_com_regioncode_500000.0</th>\n",
       "      <th>shop_com_regioncode_not_known</th>\n",
       "      <th>shop_com_managetype_1.0</th>\n",
       "      <th>shop_com_managetype_2.0</th>\n",
       "      <th>shop_com_managetype_not_known</th>\n",
       "    </tr>\n",
       "  </thead>\n",
       "  <tbody>\n",
       "    <tr>\n",
       "      <th>0</th>\n",
       "      <td>0</td>\n",
       "      <td>5792237</td>\n",
       "      <td>0</td>\n",
       "      <td>0</td>\n",
       "      <td>0</td>\n",
       "      <td>0</td>\n",
       "      <td>0</td>\n",
       "      <td>0</td>\n",
       "      <td>0</td>\n",
       "      <td>0</td>\n",
       "      <td>...</td>\n",
       "      <td>0</td>\n",
       "      <td>1</td>\n",
       "      <td>0</td>\n",
       "      <td>0</td>\n",
       "      <td>0</td>\n",
       "      <td>0</td>\n",
       "      <td>1</td>\n",
       "      <td>0</td>\n",
       "      <td>0</td>\n",
       "      <td>1</td>\n",
       "    </tr>\n",
       "    <tr>\n",
       "      <th>1</th>\n",
       "      <td>0</td>\n",
       "      <td>5792238</td>\n",
       "      <td>0</td>\n",
       "      <td>0</td>\n",
       "      <td>0</td>\n",
       "      <td>0</td>\n",
       "      <td>0</td>\n",
       "      <td>0</td>\n",
       "      <td>0</td>\n",
       "      <td>0</td>\n",
       "      <td>...</td>\n",
       "      <td>0</td>\n",
       "      <td>1</td>\n",
       "      <td>0</td>\n",
       "      <td>0</td>\n",
       "      <td>0</td>\n",
       "      <td>0</td>\n",
       "      <td>1</td>\n",
       "      <td>0</td>\n",
       "      <td>0</td>\n",
       "      <td>1</td>\n",
       "    </tr>\n",
       "    <tr>\n",
       "      <th>2</th>\n",
       "      <td>0</td>\n",
       "      <td>5792239</td>\n",
       "      <td>0</td>\n",
       "      <td>0</td>\n",
       "      <td>0</td>\n",
       "      <td>0</td>\n",
       "      <td>0</td>\n",
       "      <td>0</td>\n",
       "      <td>0</td>\n",
       "      <td>0</td>\n",
       "      <td>...</td>\n",
       "      <td>0</td>\n",
       "      <td>1</td>\n",
       "      <td>0</td>\n",
       "      <td>0</td>\n",
       "      <td>0</td>\n",
       "      <td>0</td>\n",
       "      <td>1</td>\n",
       "      <td>0</td>\n",
       "      <td>0</td>\n",
       "      <td>1</td>\n",
       "    </tr>\n",
       "    <tr>\n",
       "      <th>3</th>\n",
       "      <td>0</td>\n",
       "      <td>5792241</td>\n",
       "      <td>0</td>\n",
       "      <td>0</td>\n",
       "      <td>0</td>\n",
       "      <td>0</td>\n",
       "      <td>0</td>\n",
       "      <td>0</td>\n",
       "      <td>0</td>\n",
       "      <td>0</td>\n",
       "      <td>...</td>\n",
       "      <td>0</td>\n",
       "      <td>1</td>\n",
       "      <td>0</td>\n",
       "      <td>0</td>\n",
       "      <td>0</td>\n",
       "      <td>0</td>\n",
       "      <td>1</td>\n",
       "      <td>0</td>\n",
       "      <td>0</td>\n",
       "      <td>1</td>\n",
       "    </tr>\n",
       "    <tr>\n",
       "      <th>4</th>\n",
       "      <td>0</td>\n",
       "      <td>5792242</td>\n",
       "      <td>0</td>\n",
       "      <td>0</td>\n",
       "      <td>0</td>\n",
       "      <td>0</td>\n",
       "      <td>0</td>\n",
       "      <td>0</td>\n",
       "      <td>0</td>\n",
       "      <td>0</td>\n",
       "      <td>...</td>\n",
       "      <td>0</td>\n",
       "      <td>1</td>\n",
       "      <td>0</td>\n",
       "      <td>0</td>\n",
       "      <td>0</td>\n",
       "      <td>0</td>\n",
       "      <td>1</td>\n",
       "      <td>0</td>\n",
       "      <td>0</td>\n",
       "      <td>1</td>\n",
       "    </tr>\n",
       "  </tbody>\n",
       "</table>\n",
       "<p>5 rows × 154 columns</p>\n",
       "</div>"
      ],
      "text/plain": [
       "   member_age customerid  accountcash  accountbalance  integralbalance  \\\n",
       "0           0    5792237            0               0                0   \n",
       "1           0    5792238            0               0                0   \n",
       "2           0    5792239            0               0                0   \n",
       "3           0    5792241            0               0                0   \n",
       "4           0    5792242            0               0                0   \n",
       "\n",
       "   consumetotal  consumetimes  lastconsume_diff_create_day  \\\n",
       "0             0             0                            0   \n",
       "1             0             0                            0   \n",
       "2             0             0                            0   \n",
       "3             0             0                            0   \n",
       "4             0             0                            0   \n",
       "\n",
       "   lastconsume_diff_create_hour  lastconsume_diff_now  \\\n",
       "0                             0                     0   \n",
       "1                             0                     0   \n",
       "2                             0                     0   \n",
       "3                             0                     0   \n",
       "4                             0                     0   \n",
       "\n",
       "               ...                age_from_song_language_3.0  \\\n",
       "0              ...                                         0   \n",
       "1              ...                                         0   \n",
       "2              ...                                         0   \n",
       "3              ...                                         0   \n",
       "4              ...                                         0   \n",
       "\n",
       "   age_from_song_language_not_known  shop_com_regioncode_310000.0  \\\n",
       "0                                 1                             0   \n",
       "1                                 1                             0   \n",
       "2                                 1                             0   \n",
       "3                                 1                             0   \n",
       "4                                 1                             0   \n",
       "\n",
       "   shop_com_regioncode_350000.0  shop_com_regioncode_440000.0  \\\n",
       "0                             0                             0   \n",
       "1                             0                             0   \n",
       "2                             0                             0   \n",
       "3                             0                             0   \n",
       "4                             0                             0   \n",
       "\n",
       "   shop_com_regioncode_500000.0  shop_com_regioncode_not_known  \\\n",
       "0                             0                              1   \n",
       "1                             0                              1   \n",
       "2                             0                              1   \n",
       "3                             0                              1   \n",
       "4                             0                              1   \n",
       "\n",
       "   shop_com_managetype_1.0  shop_com_managetype_2.0  \\\n",
       "0                        0                        0   \n",
       "1                        0                        0   \n",
       "2                        0                        0   \n",
       "3                        0                        0   \n",
       "4                        0                        0   \n",
       "\n",
       "   shop_com_managetype_not_known  \n",
       "0                              1  \n",
       "1                              1  \n",
       "2                              1  \n",
       "3                              1  \n",
       "4                              1  \n",
       "\n",
       "[5 rows x 154 columns]"
      ]
     },
     "execution_count": 7,
     "metadata": {},
     "output_type": "execute_result"
    }
   ],
   "source": [
    "dataset.head()"
   ]
  },
  {
   "cell_type": "markdown",
   "metadata": {},
   "source": [
    "# 2. 分出测试集和训练集"
   ]
  },
  {
   "cell_type": "code",
   "execution_count": 8,
   "metadata": {
    "collapsed": true
   },
   "outputs": [],
   "source": [
    "train = dataset[dataset['member_age']!=0]\n",
    "test = dataset[dataset['member_age']==0]\n",
    "test_id = test.customerid\n",
    "test = test.drop('customerid',axis=1)\n",
    "X = train.drop(['member_age','customerid'],axis=1)\n",
    "y = train.member_age.values\n",
    "X_train,X_test,y_train,y_test = train_test_split(X,y,test_size=0.2,random_state=1026)"
   ]
  },
  {
   "cell_type": "code",
   "execution_count": 9,
   "metadata": {
    "collapsed": false
   },
   "outputs": [
    {
     "data": {
      "text/plain": [
       "(15559, 154)"
      ]
     },
     "execution_count": 9,
     "metadata": {},
     "output_type": "execute_result"
    }
   ],
   "source": [
    "train.shape"
   ]
  },
  {
   "cell_type": "code",
   "execution_count": 10,
   "metadata": {
    "collapsed": false
   },
   "outputs": [
    {
     "data": {
      "text/plain": [
       "(488303, 153)"
      ]
     },
     "execution_count": 10,
     "metadata": {},
     "output_type": "execute_result"
    }
   ],
   "source": [
    "test.shape"
   ]
  },
  {
   "cell_type": "code",
   "execution_count": 11,
   "metadata": {
    "collapsed": false
   },
   "outputs": [
    {
     "name": "stdout",
     "output_type": "stream",
     "text": [
      "((12447, 152), (3112, 152), (488303, 153))\n"
     ]
    }
   ],
   "source": [
    "print(X_train.shape,X_test.shape,test.shape)"
   ]
  },
  {
   "cell_type": "markdown",
   "metadata": {},
   "source": [
    "# 3. 进行特征选择"
   ]
  },
  {
   "cell_type": "code",
   "execution_count": 12,
   "metadata": {
    "collapsed": false
   },
   "outputs": [
    {
     "data": {
      "text/plain": [
       "RandomForestClassifier(bootstrap=True, class_weight=None, criterion='gini',\n",
       "            max_depth=None, max_features='auto', max_leaf_nodes=None,\n",
       "            min_samples_leaf=1, min_samples_split=2,\n",
       "            min_weight_fraction_leaf=0.0, n_estimators=400, n_jobs=1,\n",
       "            oob_score=False, random_state=None, verbose=0,\n",
       "            warm_start=False)"
      ]
     },
     "execution_count": 12,
     "metadata": {},
     "output_type": "execute_result"
    }
   ],
   "source": [
    "model = RandomForestClassifier(n_estimators=400)\n",
    "model.fit(X_train, y_train)"
   ]
  },
  {
   "cell_type": "markdown",
   "metadata": {},
   "source": [
    "## 特征选择"
   ]
  },
  {
   "cell_type": "code",
   "execution_count": 13,
   "metadata": {
    "collapsed": false
   },
   "outputs": [],
   "source": [
    "important_features = zip(X_train.columns.values, model.feature_importances_)\n",
    "important_features = sorted(important_features, key=lambda x: x[1], reverse=True)"
   ]
  },
  {
   "cell_type": "code",
   "execution_count": 14,
   "metadata": {
    "collapsed": false,
    "scrolled": true
   },
   "outputs": [
    {
     "name": "stdout",
     "output_type": "stream",
     "text": [
      "lastconsume_diff_now 0.272776220235\n",
      "consumetotal 0.185849783128\n",
      "integralbalance 0.157776164602\n",
      "consumetimes 0.0744476666295\n",
      "lastconsume_diff_create_hour 0.0735264676199\n",
      "accountbalance 0.0720479404799\n",
      "accountcash 0.0705331964318\n",
      "lastconsume_diff_create_day 0.0532623451962\n",
      "gender_0 0.0217664624893\n",
      "gender_1 0.00877692193343\n",
      "gender_2 0.00871102757124\n",
      "song_play_cnt 4.23914187691e-05\n",
      "age_from_song_language_2.0 4.01979022198e-05\n",
      "age_from_song_language_not_known 3.38655776201e-05\n",
      "des_charge_min 1.47477608028e-05\n",
      "des_workday_cnt 1.32388025181e-05\n",
      "des_charge_sum 1.24914211217e-05\n",
      "des_use_reg 1.24684084791e-05\n",
      "des_charge_mean 1.10803083753e-05\n",
      "des_work_realchargesum 1.09999483245e-05\n",
      "des_company_cnt 1.09486810968e-05\n",
      "des_cnt 1.07112373942e-05\n",
      "des_use_afternoon_realchargesum 1.02537966661e-05\n",
      "use_time_sum 1.01476147981e-05\n",
      "des_realcharge_min 1.01293278544e-05\n",
      "des_guestnumber_min 1.01056908405e-05\n",
      "get_com_managetype_1.0 1.00931495028e-05\n",
      "des_realcharge_mean 9.65319220052e-06\n",
      "get_com_managetype_not_known 9.39323894158e-06\n",
      "des_realcharge_sum 9.29641064165e-06\n",
      "des_use_night_realchargesum 9.2429209301e-06\n",
      "des_guestnumber_mean 8.89649234877e-06\n",
      "des_guestnumber_max 8.45217237437e-06\n",
      "des_procharge_sum 8.39153560479e-06\n",
      "get_com_regioncode_310000.0 8.10473686737e-06\n",
      "des_realcharge_max 8.03308908694e-06\n",
      "des_companyid 7.95695034643e-06\n",
      "use_coupon_order_sum 7.68461855187e-06\n",
      "des_use_afternoon_cnt 7.48298482612e-06\n",
      "des_charge_max 7.33939887264e-06\n",
      "get_com_roomnum 6.90424557778e-06\n",
      "des_morning_cnt 6.78459072393e-06\n",
      "use_company_id 6.52746251796e-06\n",
      "source_company_cnt 6.26733153548e-06\n",
      "shop_weekday_sum 6.11360634397e-06\n",
      "get_com_regioncode_not_known 5.75061528536e-06\n",
      "coupon_get_sum 5.73800385794e-06\n",
      "des_use_night_cnt 5.73448076471e-06\n",
      "des_night_cnt 5.4164005907e-06\n",
      "des_afternoon_cnt 5.38965651979e-06\n",
      "shop_afternoon_sum 5.38941336326e-06\n",
      "shop_afternoon_cnt 4.84044001701e-06\n",
      "shop_weekday_cnt 4.6772569803e-06\n",
      "shop_original_sum_max 4.60883370137e-06\n",
      "shop_order_cnt 4.49289938537e-06\n",
      "get_coupon_crosscom 4.45286946264e-06\n",
      "shop_real_sum 4.27922780681e-06\n",
      "coupon_get_cnt 3.92198924096e-06\n",
      "source_company_id 3.88585876561e-06\n",
      "use_company_cnt 3.83848506339e-06\n",
      "shop_com_cnt 3.58217389823e-06\n",
      "use_coupon_type_cnt 3.57012617906e-06\n",
      "shop_cnt 3.54709027655e-06\n",
      "shop_original_sum_min 3.50765570885e-06\n",
      "shop_real_sum_max 3.50423282159e-06\n",
      "shop_night_sum 3.44251782943e-06\n",
      "shop_companyid 3.4347603706e-06\n",
      "shop_original_sum 3.38677533952e-06\n",
      "shop_real_sum_avg 3.26444620192e-06\n",
      "shop_original_sum_avg 3.2469153234e-06\n",
      "shop_night_cnt 3.21001755774e-06\n",
      "use_coupon_sum 3.19638122515e-06\n",
      "get_coupon_type_cnt 3.17239786278e-06\n",
      "shop_real_sum_min 2.92573795588e-06\n",
      "des_reduce_sum 0.0\n",
      "des_weekend_cnt 0.0\n",
      "des_weekend_realchargesum 0.0\n",
      "des_beforedawn_cnt 0.0\n",
      "des_use_beforedawn_cnt 0.0\n",
      "des_use_morning_cnt 0.0\n",
      "des_use_beforedawn_realchargesum 0.0\n",
      "des_use_morning_realchargesum 0.0\n",
      "des_com_roomnum 0.0\n",
      "des_large_cnt 0.0\n",
      "des_medium_cnt 0.0\n",
      "des_small_cnt 0.0\n",
      "des_reduce_cnt 0.0\n",
      "shop_wine_cnt 0.0\n",
      "shop_cigarette_cnt 0.0\n",
      "shop_before_dawn_cnt 0.0\n",
      "shop_morning_cnt 0.0\n",
      "shop_weekend_cnt 0.0\n",
      "shop_before_dawn_sum 0.0\n",
      "shop_morning_sum 0.0\n",
      "shop_weekend_sum 0.0\n",
      "shop_cross_com 0.0\n",
      "shop_com_roomnum 0.0\n",
      "song_age 0.0\n",
      "wechat_province_上海 0.0\n",
      "wechat_province_云南 0.0\n",
      "wechat_province_内蒙古 0.0\n",
      "wechat_province_北京 0.0\n",
      "wechat_province_台湾 0.0\n",
      "wechat_province_四川 0.0\n",
      "wechat_province_国外 0.0\n",
      "wechat_province_天津 0.0\n",
      "wechat_province_安徽 0.0\n",
      "wechat_province_山东 0.0\n",
      "wechat_province_山西 0.0\n",
      "wechat_province_广东 0.0\n",
      "wechat_province_广西 0.0\n",
      "wechat_province_新疆 0.0\n",
      "wechat_province_未知 0.0\n",
      "wechat_province_江苏 0.0\n",
      "wechat_province_江西 0.0\n",
      "wechat_province_河北 0.0\n",
      "wechat_province_河南 0.0\n",
      "wechat_province_浙江 0.0\n",
      "wechat_province_海南 0.0\n",
      "wechat_province_湖北 0.0\n",
      "wechat_province_湖南 0.0\n",
      "wechat_province_甘肃 0.0\n",
      "wechat_province_福建 0.0\n",
      "wechat_province_西藏 0.0\n",
      "wechat_province_贵州 0.0\n",
      "wechat_province_辽宁 0.0\n",
      "wechat_province_重庆 0.0\n",
      "wechat_province_陕西 0.0\n",
      "wechat_province_青海 0.0\n",
      "wechat_province_黑龙江 0.0\n",
      "wechat_country_中国 0.0\n",
      "wechat_country_国外 0.0\n",
      "wechat_country_未知 0.0\n",
      "get_com_regioncode_350000.0 0.0\n",
      "get_com_regioncode_440000.0 0.0\n",
      "get_com_regioncode_500000.0 0.0\n",
      "get_com_managetype_2.0 0.0\n",
      "age_from_song_year_cut_2.0 0.0\n",
      "age_from_song_year_cut_3.0 0.0\n",
      "age_from_song_year_cut_4.0 0.0\n",
      "age_from_song_year_cut_5.0 0.0\n",
      "age_from_song_year_cut_not_known 0.0\n",
      "age_from_song_language_1.0 0.0\n",
      "age_from_song_language_3.0 0.0\n",
      "shop_com_regioncode_310000.0 0.0\n",
      "shop_com_regioncode_350000.0 0.0\n",
      "shop_com_regioncode_440000.0 0.0\n",
      "shop_com_regioncode_500000.0 0.0\n",
      "shop_com_regioncode_not_known 0.0\n",
      "shop_com_managetype_1.0 0.0\n",
      "shop_com_managetype_2.0 0.0\n",
      "shop_com_managetype_not_known 0.0\n"
     ]
    }
   ],
   "source": [
    "for r in important_features:\n",
    "    print r[0], r[1]"
   ]
  },
  {
   "cell_type": "code",
   "execution_count": 15,
   "metadata": {
    "collapsed": false
   },
   "outputs": [],
   "source": [
    "THRESHOLD = 1e-6\n",
    "importance_features = pd.DataFrame(important_features, columns=['feature', 'score'])\n",
    "filtered_features = importance_features.loc[importance_features['score']>THRESHOLD, 'feature'].values"
   ]
  },
  {
   "cell_type": "code",
   "execution_count": 16,
   "metadata": {
    "collapsed": false,
    "scrolled": true
   },
   "outputs": [
    {
     "data": {
      "text/plain": [
       "array(['lastconsume_diff_now', 'consumetotal', 'integralbalance',\n",
       "       'consumetimes', 'lastconsume_diff_create_hour', 'accountbalance',\n",
       "       'accountcash', 'lastconsume_diff_create_day', 'gender_0',\n",
       "       'gender_1', 'gender_2', 'song_play_cnt',\n",
       "       'age_from_song_language_2.0', 'age_from_song_language_not_known',\n",
       "       'des_charge_min', 'des_workday_cnt', 'des_charge_sum',\n",
       "       'des_use_reg', 'des_charge_mean', 'des_work_realchargesum',\n",
       "       'des_company_cnt', 'des_cnt', 'des_use_afternoon_realchargesum',\n",
       "       'use_time_sum', 'des_realcharge_min', 'des_guestnumber_min',\n",
       "       'get_com_managetype_1.0', 'des_realcharge_mean',\n",
       "       'get_com_managetype_not_known', 'des_realcharge_sum',\n",
       "       'des_use_night_realchargesum', 'des_guestnumber_mean',\n",
       "       'des_guestnumber_max', 'des_procharge_sum',\n",
       "       'get_com_regioncode_310000.0', 'des_realcharge_max',\n",
       "       'des_companyid', 'use_coupon_order_sum', 'des_use_afternoon_cnt',\n",
       "       'des_charge_max', 'get_com_roomnum', 'des_morning_cnt',\n",
       "       'use_company_id', 'source_company_cnt', 'shop_weekday_sum',\n",
       "       'get_com_regioncode_not_known', 'coupon_get_sum',\n",
       "       'des_use_night_cnt', 'des_night_cnt', 'des_afternoon_cnt',\n",
       "       'shop_afternoon_sum', 'shop_afternoon_cnt', 'shop_weekday_cnt',\n",
       "       'shop_original_sum_max', 'shop_order_cnt', 'get_coupon_crosscom',\n",
       "       'shop_real_sum', 'coupon_get_cnt', 'source_company_id',\n",
       "       'use_company_cnt', 'shop_com_cnt', 'use_coupon_type_cnt',\n",
       "       'shop_cnt', 'shop_original_sum_min', 'shop_real_sum_max',\n",
       "       'shop_night_sum', 'shop_companyid', 'shop_original_sum',\n",
       "       'shop_real_sum_avg', 'shop_original_sum_avg', 'shop_night_cnt',\n",
       "       'use_coupon_sum', 'get_coupon_type_cnt', 'shop_real_sum_min'], dtype=object)"
      ]
     },
     "execution_count": 16,
     "metadata": {},
     "output_type": "execute_result"
    }
   ],
   "source": [
    "filtered_features"
   ]
  },
  {
   "cell_type": "markdown",
   "metadata": {},
   "source": [
    "## 按选择到的特征分别处理训练集和测试集"
   ]
  },
  {
   "cell_type": "code",
   "execution_count": 17,
   "metadata": {
    "collapsed": false
   },
   "outputs": [],
   "source": [
    "X_test = X_test[filtered_features]"
   ]
  },
  {
   "cell_type": "code",
   "execution_count": 18,
   "metadata": {
    "collapsed": true
   },
   "outputs": [],
   "source": [
    "X_train = X_train[filtered_features]"
   ]
  },
  {
   "cell_type": "code",
   "execution_count": 19,
   "metadata": {
    "collapsed": false
   },
   "outputs": [
    {
     "data": {
      "text/html": [
       "<div>\n",
       "<table border=\"1\" class=\"dataframe\">\n",
       "  <thead>\n",
       "    <tr style=\"text-align: right;\">\n",
       "      <th></th>\n",
       "      <th>lastconsume_diff_now</th>\n",
       "      <th>consumetotal</th>\n",
       "      <th>integralbalance</th>\n",
       "      <th>consumetimes</th>\n",
       "      <th>lastconsume_diff_create_hour</th>\n",
       "      <th>accountbalance</th>\n",
       "      <th>accountcash</th>\n",
       "      <th>lastconsume_diff_create_day</th>\n",
       "      <th>gender_0</th>\n",
       "      <th>gender_1</th>\n",
       "      <th>...</th>\n",
       "      <th>shop_real_sum_max</th>\n",
       "      <th>shop_night_sum</th>\n",
       "      <th>shop_companyid</th>\n",
       "      <th>shop_original_sum</th>\n",
       "      <th>shop_real_sum_avg</th>\n",
       "      <th>shop_original_sum_avg</th>\n",
       "      <th>shop_night_cnt</th>\n",
       "      <th>use_coupon_sum</th>\n",
       "      <th>get_coupon_type_cnt</th>\n",
       "      <th>shop_real_sum_min</th>\n",
       "    </tr>\n",
       "  </thead>\n",
       "  <tbody>\n",
       "    <tr>\n",
       "      <th>270032</th>\n",
       "      <td>380</td>\n",
       "      <td>597</td>\n",
       "      <td>547</td>\n",
       "      <td>2</td>\n",
       "      <td>0</td>\n",
       "      <td>53</td>\n",
       "      <td>53</td>\n",
       "      <td>0</td>\n",
       "      <td>0</td>\n",
       "      <td>1</td>\n",
       "      <td>...</td>\n",
       "      <td>0</td>\n",
       "      <td>0</td>\n",
       "      <td>-1</td>\n",
       "      <td>0</td>\n",
       "      <td>0</td>\n",
       "      <td>0</td>\n",
       "      <td>0</td>\n",
       "      <td>0</td>\n",
       "      <td>0</td>\n",
       "      <td>0</td>\n",
       "    </tr>\n",
       "    <tr>\n",
       "      <th>272418</th>\n",
       "      <td>369</td>\n",
       "      <td>1256</td>\n",
       "      <td>124</td>\n",
       "      <td>3</td>\n",
       "      <td>23</td>\n",
       "      <td>0</td>\n",
       "      <td>0</td>\n",
       "      <td>4</td>\n",
       "      <td>0</td>\n",
       "      <td>1</td>\n",
       "      <td>...</td>\n",
       "      <td>0</td>\n",
       "      <td>0</td>\n",
       "      <td>-1</td>\n",
       "      <td>0</td>\n",
       "      <td>0</td>\n",
       "      <td>0</td>\n",
       "      <td>0</td>\n",
       "      <td>0</td>\n",
       "      <td>0</td>\n",
       "      <td>0</td>\n",
       "    </tr>\n",
       "    <tr>\n",
       "      <th>277465</th>\n",
       "      <td>359</td>\n",
       "      <td>544</td>\n",
       "      <td>0</td>\n",
       "      <td>2</td>\n",
       "      <td>22</td>\n",
       "      <td>56</td>\n",
       "      <td>56</td>\n",
       "      <td>1</td>\n",
       "      <td>0</td>\n",
       "      <td>1</td>\n",
       "      <td>...</td>\n",
       "      <td>0</td>\n",
       "      <td>0</td>\n",
       "      <td>-1</td>\n",
       "      <td>0</td>\n",
       "      <td>0</td>\n",
       "      <td>0</td>\n",
       "      <td>0</td>\n",
       "      <td>0</td>\n",
       "      <td>0</td>\n",
       "      <td>0</td>\n",
       "    </tr>\n",
       "    <tr>\n",
       "      <th>272332</th>\n",
       "      <td>374</td>\n",
       "      <td>0</td>\n",
       "      <td>0</td>\n",
       "      <td>0</td>\n",
       "      <td>0</td>\n",
       "      <td>0</td>\n",
       "      <td>0</td>\n",
       "      <td>0</td>\n",
       "      <td>0</td>\n",
       "      <td>0</td>\n",
       "      <td>...</td>\n",
       "      <td>0</td>\n",
       "      <td>0</td>\n",
       "      <td>-1</td>\n",
       "      <td>0</td>\n",
       "      <td>0</td>\n",
       "      <td>0</td>\n",
       "      <td>0</td>\n",
       "      <td>0</td>\n",
       "      <td>0</td>\n",
       "      <td>0</td>\n",
       "    </tr>\n",
       "    <tr>\n",
       "      <th>279727</th>\n",
       "      <td>356</td>\n",
       "      <td>420</td>\n",
       "      <td>420</td>\n",
       "      <td>1</td>\n",
       "      <td>3</td>\n",
       "      <td>0</td>\n",
       "      <td>0</td>\n",
       "      <td>0</td>\n",
       "      <td>0</td>\n",
       "      <td>1</td>\n",
       "      <td>...</td>\n",
       "      <td>0</td>\n",
       "      <td>0</td>\n",
       "      <td>-1</td>\n",
       "      <td>0</td>\n",
       "      <td>0</td>\n",
       "      <td>0</td>\n",
       "      <td>0</td>\n",
       "      <td>0</td>\n",
       "      <td>0</td>\n",
       "      <td>0</td>\n",
       "    </tr>\n",
       "  </tbody>\n",
       "</table>\n",
       "<p>5 rows × 74 columns</p>\n",
       "</div>"
      ],
      "text/plain": [
       "        lastconsume_diff_now  consumetotal  integralbalance  consumetimes  \\\n",
       "270032                   380           597              547             2   \n",
       "272418                   369          1256              124             3   \n",
       "277465                   359           544                0             2   \n",
       "272332                   374             0                0             0   \n",
       "279727                   356           420              420             1   \n",
       "\n",
       "        lastconsume_diff_create_hour  accountbalance  accountcash  \\\n",
       "270032                             0              53           53   \n",
       "272418                            23               0            0   \n",
       "277465                            22              56           56   \n",
       "272332                             0               0            0   \n",
       "279727                             3               0            0   \n",
       "\n",
       "        lastconsume_diff_create_day  gender_0  gender_1        ...          \\\n",
       "270032                            0         0         1        ...           \n",
       "272418                            4         0         1        ...           \n",
       "277465                            1         0         1        ...           \n",
       "272332                            0         0         0        ...           \n",
       "279727                            0         0         1        ...           \n",
       "\n",
       "        shop_real_sum_max  shop_night_sum  shop_companyid  shop_original_sum  \\\n",
       "270032                  0               0              -1                  0   \n",
       "272418                  0               0              -1                  0   \n",
       "277465                  0               0              -1                  0   \n",
       "272332                  0               0              -1                  0   \n",
       "279727                  0               0              -1                  0   \n",
       "\n",
       "        shop_real_sum_avg  shop_original_sum_avg  shop_night_cnt  \\\n",
       "270032                  0                      0               0   \n",
       "272418                  0                      0               0   \n",
       "277465                  0                      0               0   \n",
       "272332                  0                      0               0   \n",
       "279727                  0                      0               0   \n",
       "\n",
       "        use_coupon_sum  get_coupon_type_cnt  shop_real_sum_min  \n",
       "270032               0                    0                  0  \n",
       "272418               0                    0                  0  \n",
       "277465               0                    0                  0  \n",
       "272332               0                    0                  0  \n",
       "279727               0                    0                  0  \n",
       "\n",
       "[5 rows x 74 columns]"
      ]
     },
     "execution_count": 19,
     "metadata": {},
     "output_type": "execute_result"
    }
   ],
   "source": [
    "X_train.head()"
   ]
  },
  {
   "cell_type": "code",
   "execution_count": 21,
   "metadata": {
    "collapsed": true
   },
   "outputs": [],
   "source": [
    "test = test[filtered_features]"
   ]
  },
  {
   "cell_type": "markdown",
   "metadata": {},
   "source": [
    "# 3. Xgboost模型训练"
   ]
  },
  {
   "cell_type": "code",
   "execution_count": 54,
   "metadata": {
    "collapsed": true
   },
   "outputs": [],
   "source": [
    "params={\n",
    "'booster':'gbtree',\n",
    "'objective': 'reg:linear', # 这里用户群体年龄是连续的，因此采用了默认的线性分类器\n",
    "'gamma':0.05,  # 在树的叶子节点下一个分区的最小损失，越大算法模型越保守 [0:]\n",
    "'max_depth':12, # 构建树的深度 [1:]\n",
    "#'lambda':450,  # L2 正则项权重\n",
    "'subsample':0.4, # 采样训练数据，设置为0.5，随机选择一般的数据实例 (0:1]\n",
    "'colsample_bytree':0.7, # 构建树树时的采样比率 (0:1]\n",
    "#'min_child_weight':12, # 节点的最少特征数\n",
    "'silent':1 ,\n",
    "'eta': 0.01, # 如同学习率\n",
    "'seed':710,\n",
    "'nthread':4,# cpu 线程数,根据自己U的个数适当调整\n",
    "}"
   ]
  },
  {
   "cell_type": "code",
   "execution_count": 55,
   "metadata": {
    "collapsed": true
   },
   "outputs": [],
   "source": [
    "plst = list(params.items())"
   ]
  },
  {
   "cell_type": "code",
   "execution_count": 56,
   "metadata": {
    "collapsed": true
   },
   "outputs": [],
   "source": [
    "num_rounds = 600 # 迭代次数\n",
    "xgtest = xgb.DMatrix(test)\n",
    "xgtrain = xgb.DMatrix(X_train, label=y_train)\n",
    "xgval = xgb.DMatrix(X_test, label=y_test)"
   ]
  },
  {
   "cell_type": "markdown",
   "metadata": {},
   "source": [
    "### return训练和验证的错误率"
   ]
  },
  {
   "cell_type": "code",
   "execution_count": 57,
   "metadata": {
    "collapsed": true
   },
   "outputs": [],
   "source": [
    "watchlist = [(xgtrain, 'train'),(xgval, 'val')]"
   ]
  },
  {
   "cell_type": "markdown",
   "metadata": {},
   "source": [
    "### 训练模型"
   ]
  },
  {
   "cell_type": "code",
   "execution_count": 58,
   "metadata": {
    "collapsed": false
   },
   "outputs": [
    {
     "name": "stderr",
     "output_type": "stream",
     "text": [
      "Will train until val error hasn't decreased in 50 rounds.\n",
      "[0]\ttrain-rmse:26.754473\tval-rmse:27.076578\n",
      "[1]\ttrain-rmse:26.507273\tval-rmse:26.829262\n",
      "[2]\ttrain-rmse:26.264713\tval-rmse:26.586504\n",
      "[3]\ttrain-rmse:26.023817\tval-rmse:26.345690\n",
      "[4]\ttrain-rmse:25.785965\tval-rmse:26.108154\n",
      "[5]\ttrain-rmse:25.549740\tval-rmse:25.872467\n",
      "[6]\ttrain-rmse:25.314478\tval-rmse:25.637066\n",
      "[7]\ttrain-rmse:25.083658\tval-rmse:25.406374\n",
      "[8]\ttrain-rmse:24.854836\tval-rmse:25.177532\n",
      "[9]\ttrain-rmse:24.628668\tval-rmse:24.951252\n",
      "[10]\ttrain-rmse:24.405104\tval-rmse:24.728189\n",
      "[11]\ttrain-rmse:24.184635\tval-rmse:24.508001\n",
      "[12]\ttrain-rmse:23.966002\tval-rmse:24.289167\n",
      "[13]\ttrain-rmse:23.750006\tval-rmse:24.073641\n",
      "[14]\ttrain-rmse:23.535486\tval-rmse:23.859499\n",
      "[15]\ttrain-rmse:23.323898\tval-rmse:23.647947\n",
      "[16]\ttrain-rmse:23.114635\tval-rmse:23.439077\n",
      "[17]\ttrain-rmse:22.907888\tval-rmse:23.232292\n",
      "[18]\ttrain-rmse:22.703728\tval-rmse:23.028618\n",
      "[19]\ttrain-rmse:22.498499\tval-rmse:22.823442\n",
      "[20]\ttrain-rmse:22.298996\tval-rmse:22.624266\n",
      "[21]\ttrain-rmse:22.100441\tval-rmse:22.425768\n",
      "[22]\ttrain-rmse:21.903728\tval-rmse:22.229576\n",
      "[23]\ttrain-rmse:21.710102\tval-rmse:22.036091\n",
      "[24]\ttrain-rmse:21.519638\tval-rmse:21.846153\n",
      "[25]\ttrain-rmse:21.330992\tval-rmse:21.657732\n",
      "[26]\ttrain-rmse:21.144396\tval-rmse:21.471458\n",
      "[27]\ttrain-rmse:20.958168\tval-rmse:21.285879\n",
      "[28]\ttrain-rmse:20.775148\tval-rmse:21.102901\n",
      "[29]\ttrain-rmse:20.594782\tval-rmse:20.923470\n",
      "[30]\ttrain-rmse:20.415693\tval-rmse:20.744513\n",
      "[31]\ttrain-rmse:20.238165\tval-rmse:20.567345\n",
      "[32]\ttrain-rmse:20.063189\tval-rmse:20.392633\n",
      "[33]\ttrain-rmse:19.890903\tval-rmse:20.221069\n",
      "[34]\ttrain-rmse:19.720392\tval-rmse:20.051006\n",
      "[35]\ttrain-rmse:19.551600\tval-rmse:19.882397\n",
      "[36]\ttrain-rmse:19.383898\tval-rmse:19.715097\n",
      "[37]\ttrain-rmse:19.218376\tval-rmse:19.549999\n",
      "[38]\ttrain-rmse:19.055986\tval-rmse:19.387812\n",
      "[39]\ttrain-rmse:18.894407\tval-rmse:19.226761\n",
      "[40]\ttrain-rmse:18.734541\tval-rmse:19.067240\n",
      "[41]\ttrain-rmse:18.578558\tval-rmse:18.911716\n",
      "[42]\ttrain-rmse:18.423286\tval-rmse:18.756838\n",
      "[43]\ttrain-rmse:18.269075\tval-rmse:18.602682\n",
      "[44]\ttrain-rmse:18.117228\tval-rmse:18.451300\n",
      "[45]\ttrain-rmse:17.966217\tval-rmse:18.301205\n",
      "[46]\ttrain-rmse:17.817122\tval-rmse:18.152641\n",
      "[47]\ttrain-rmse:17.669775\tval-rmse:18.005884\n",
      "[48]\ttrain-rmse:17.523842\tval-rmse:17.860874\n",
      "[49]\ttrain-rmse:17.379787\tval-rmse:17.718227\n",
      "[50]\ttrain-rmse:17.238203\tval-rmse:17.576431\n",
      "[51]\ttrain-rmse:17.098299\tval-rmse:17.437502\n",
      "[52]\ttrain-rmse:16.959620\tval-rmse:17.299994\n",
      "[53]\ttrain-rmse:16.821945\tval-rmse:17.163389\n",
      "[54]\ttrain-rmse:16.687605\tval-rmse:17.029812\n",
      "[55]\ttrain-rmse:16.554970\tval-rmse:16.898298\n",
      "[56]\ttrain-rmse:16.422092\tval-rmse:16.768162\n",
      "[57]\ttrain-rmse:16.291063\tval-rmse:16.637777\n",
      "[58]\ttrain-rmse:16.160933\tval-rmse:16.507898\n",
      "[59]\ttrain-rmse:16.033201\tval-rmse:16.380640\n",
      "[60]\ttrain-rmse:15.907191\tval-rmse:16.257099\n",
      "[61]\ttrain-rmse:15.782809\tval-rmse:16.133955\n",
      "[62]\ttrain-rmse:15.659845\tval-rmse:16.012524\n",
      "[63]\ttrain-rmse:15.536716\tval-rmse:15.890661\n",
      "[64]\ttrain-rmse:15.416706\tval-rmse:15.771323\n",
      "[65]\ttrain-rmse:15.298848\tval-rmse:15.655181\n",
      "[66]\ttrain-rmse:15.181721\tval-rmse:15.539102\n",
      "[67]\ttrain-rmse:15.064866\tval-rmse:15.422802\n",
      "[68]\ttrain-rmse:14.950984\tval-rmse:15.311039\n",
      "[69]\ttrain-rmse:14.837493\tval-rmse:15.198246\n",
      "[70]\ttrain-rmse:14.724957\tval-rmse:15.088367\n",
      "[71]\ttrain-rmse:14.615019\tval-rmse:14.980999\n",
      "[72]\ttrain-rmse:14.503538\tval-rmse:14.871946\n",
      "[73]\ttrain-rmse:14.395706\tval-rmse:14.766105\n",
      "[74]\ttrain-rmse:14.289113\tval-rmse:14.660675\n",
      "[75]\ttrain-rmse:14.183714\tval-rmse:14.558166\n",
      "[76]\ttrain-rmse:14.078049\tval-rmse:14.454201\n",
      "[77]\ttrain-rmse:13.975267\tval-rmse:14.353127\n",
      "[78]\ttrain-rmse:13.872574\tval-rmse:14.251154\n",
      "[79]\ttrain-rmse:13.772108\tval-rmse:14.152431\n",
      "[80]\ttrain-rmse:13.671454\tval-rmse:14.053514\n",
      "[81]\ttrain-rmse:13.575500\tval-rmse:13.959608\n",
      "[82]\ttrain-rmse:13.478093\tval-rmse:13.864311\n",
      "[83]\ttrain-rmse:13.382730\tval-rmse:13.772635\n",
      "[84]\ttrain-rmse:13.289948\tval-rmse:13.683140\n",
      "[85]\ttrain-rmse:13.196169\tval-rmse:13.591166\n",
      "[86]\ttrain-rmse:13.105592\tval-rmse:13.504123\n",
      "[87]\ttrain-rmse:13.015437\tval-rmse:13.416869\n",
      "[88]\ttrain-rmse:12.925854\tval-rmse:13.330050\n",
      "[89]\ttrain-rmse:12.836959\tval-rmse:13.243429\n",
      "[90]\ttrain-rmse:12.748692\tval-rmse:13.159098\n",
      "[91]\ttrain-rmse:12.662249\tval-rmse:13.074976\n",
      "[92]\ttrain-rmse:12.575464\tval-rmse:12.992536\n",
      "[93]\ttrain-rmse:12.491778\tval-rmse:12.912550\n",
      "[94]\ttrain-rmse:12.409563\tval-rmse:12.832859\n",
      "[95]\ttrain-rmse:12.326588\tval-rmse:12.752336\n",
      "[96]\ttrain-rmse:12.247178\tval-rmse:12.675879\n",
      "[97]\ttrain-rmse:12.167446\tval-rmse:12.599619\n",
      "[98]\ttrain-rmse:12.087879\tval-rmse:12.522366\n",
      "[99]\ttrain-rmse:12.008710\tval-rmse:12.445925\n",
      "[100]\ttrain-rmse:11.931963\tval-rmse:12.371838\n",
      "[101]\ttrain-rmse:11.857256\tval-rmse:12.299817\n",
      "[102]\ttrain-rmse:11.783338\tval-rmse:12.229728\n",
      "[103]\ttrain-rmse:11.709843\tval-rmse:12.160407\n",
      "[104]\ttrain-rmse:11.636812\tval-rmse:12.091020\n",
      "[105]\ttrain-rmse:11.564867\tval-rmse:12.021032\n",
      "[106]\ttrain-rmse:11.493403\tval-rmse:11.951113\n",
      "[107]\ttrain-rmse:11.423182\tval-rmse:11.883614\n",
      "[108]\ttrain-rmse:11.354167\tval-rmse:11.817539\n",
      "[109]\ttrain-rmse:11.286242\tval-rmse:11.751860\n",
      "[110]\ttrain-rmse:11.219090\tval-rmse:11.686657\n",
      "[111]\ttrain-rmse:11.152687\tval-rmse:11.623128\n",
      "[112]\ttrain-rmse:11.087020\tval-rmse:11.559124\n",
      "[113]\ttrain-rmse:11.022365\tval-rmse:11.497391\n",
      "[114]\ttrain-rmse:10.958077\tval-rmse:11.436104\n",
      "[115]\ttrain-rmse:10.895209\tval-rmse:11.377177\n",
      "[116]\ttrain-rmse:10.832350\tval-rmse:11.317869\n",
      "[117]\ttrain-rmse:10.770484\tval-rmse:11.258982\n",
      "[118]\ttrain-rmse:10.709623\tval-rmse:11.201670\n",
      "[119]\ttrain-rmse:10.649696\tval-rmse:11.145491\n",
      "[120]\ttrain-rmse:10.590863\tval-rmse:11.090837\n",
      "[121]\ttrain-rmse:10.531987\tval-rmse:11.034790\n",
      "[122]\ttrain-rmse:10.473545\tval-rmse:10.979731\n",
      "[123]\ttrain-rmse:10.416862\tval-rmse:10.926171\n",
      "[124]\ttrain-rmse:10.361215\tval-rmse:10.874630\n",
      "[125]\ttrain-rmse:10.305973\tval-rmse:10.822821\n",
      "[126]\ttrain-rmse:10.251333\tval-rmse:10.771491\n",
      "[127]\ttrain-rmse:10.197057\tval-rmse:10.720182\n",
      "[128]\ttrain-rmse:10.144153\tval-rmse:10.670255\n",
      "[129]\ttrain-rmse:10.090954\tval-rmse:10.621323\n",
      "[130]\ttrain-rmse:10.038847\tval-rmse:10.572795\n",
      "[131]\ttrain-rmse:9.987736\tval-rmse:10.524439\n",
      "[132]\ttrain-rmse:9.937373\tval-rmse:10.477639\n",
      "[133]\ttrain-rmse:9.886494\tval-rmse:10.430708\n",
      "[134]\ttrain-rmse:9.836586\tval-rmse:10.384982\n",
      "[135]\ttrain-rmse:9.788600\tval-rmse:10.339972\n",
      "[136]\ttrain-rmse:9.740084\tval-rmse:10.295554\n",
      "[137]\ttrain-rmse:9.692304\tval-rmse:10.251616\n",
      "[138]\ttrain-rmse:9.645785\tval-rmse:10.208981\n",
      "[139]\ttrain-rmse:9.599323\tval-rmse:10.167276\n",
      "[140]\ttrain-rmse:9.554424\tval-rmse:10.127671\n",
      "[141]\ttrain-rmse:9.510954\tval-rmse:10.088111\n",
      "[142]\ttrain-rmse:9.465711\tval-rmse:10.047830\n",
      "[143]\ttrain-rmse:9.422087\tval-rmse:10.008073\n",
      "[144]\ttrain-rmse:9.379698\tval-rmse:9.970370\n",
      "[145]\ttrain-rmse:9.337234\tval-rmse:9.932053\n",
      "[146]\ttrain-rmse:9.295780\tval-rmse:9.893960\n",
      "[147]\ttrain-rmse:9.253700\tval-rmse:9.856401\n",
      "[148]\ttrain-rmse:9.213302\tval-rmse:9.818361\n",
      "[149]\ttrain-rmse:9.173058\tval-rmse:9.782630\n",
      "[150]\ttrain-rmse:9.134287\tval-rmse:9.745975\n",
      "[151]\ttrain-rmse:9.094653\tval-rmse:9.711668\n",
      "[152]\ttrain-rmse:9.056102\tval-rmse:9.677905\n",
      "[153]\ttrain-rmse:9.017858\tval-rmse:9.645671\n",
      "[154]\ttrain-rmse:8.981105\tval-rmse:9.611857\n",
      "[155]\ttrain-rmse:8.944053\tval-rmse:9.577785\n",
      "[156]\ttrain-rmse:8.906832\tval-rmse:9.544990\n",
      "[157]\ttrain-rmse:8.871183\tval-rmse:9.512082\n",
      "[158]\ttrain-rmse:8.836514\tval-rmse:9.479871\n",
      "[159]\ttrain-rmse:8.802146\tval-rmse:9.449996\n",
      "[160]\ttrain-rmse:8.767568\tval-rmse:9.421008\n",
      "[161]\ttrain-rmse:8.733829\tval-rmse:9.392213\n",
      "[162]\ttrain-rmse:8.699635\tval-rmse:9.362271\n",
      "[163]\ttrain-rmse:8.665730\tval-rmse:9.331861\n",
      "[164]\ttrain-rmse:8.632173\tval-rmse:9.302490\n",
      "[165]\ttrain-rmse:8.601227\tval-rmse:9.275459\n",
      "[166]\ttrain-rmse:8.569777\tval-rmse:9.248622\n",
      "[167]\ttrain-rmse:8.538214\tval-rmse:9.222045\n",
      "[168]\ttrain-rmse:8.506450\tval-rmse:9.194272\n",
      "[169]\ttrain-rmse:8.476609\tval-rmse:9.167315\n",
      "[170]\ttrain-rmse:8.446321\tval-rmse:9.141294\n",
      "[171]\ttrain-rmse:8.416153\tval-rmse:9.115622\n",
      "[172]\ttrain-rmse:8.387007\tval-rmse:9.090156\n",
      "[173]\ttrain-rmse:8.357223\tval-rmse:9.064880\n",
      "[174]\ttrain-rmse:8.329954\tval-rmse:9.039663\n",
      "[175]\ttrain-rmse:8.300464\tval-rmse:9.015699\n",
      "[176]\ttrain-rmse:8.272143\tval-rmse:8.991045\n",
      "[177]\ttrain-rmse:8.243104\tval-rmse:8.967151\n",
      "[178]\ttrain-rmse:8.215697\tval-rmse:8.944641\n",
      "[179]\ttrain-rmse:8.189905\tval-rmse:8.922302\n",
      "[180]\ttrain-rmse:8.163295\tval-rmse:8.899663\n",
      "[181]\ttrain-rmse:8.137702\tval-rmse:8.878313\n",
      "[182]\ttrain-rmse:8.112075\tval-rmse:8.857019\n",
      "[183]\ttrain-rmse:8.087571\tval-rmse:8.835937\n",
      "[184]\ttrain-rmse:8.062195\tval-rmse:8.815710\n",
      "[185]\ttrain-rmse:8.035727\tval-rmse:8.795885\n",
      "[186]\ttrain-rmse:8.011558\tval-rmse:8.775896\n",
      "[187]\ttrain-rmse:7.987045\tval-rmse:8.756672\n",
      "[188]\ttrain-rmse:7.963576\tval-rmse:8.736959\n",
      "[189]\ttrain-rmse:7.941184\tval-rmse:8.718170\n",
      "[190]\ttrain-rmse:7.918009\tval-rmse:8.698451\n",
      "[191]\ttrain-rmse:7.895905\tval-rmse:8.680572\n",
      "[192]\ttrain-rmse:7.874017\tval-rmse:8.662622\n",
      "[193]\ttrain-rmse:7.853340\tval-rmse:8.645355\n",
      "[194]\ttrain-rmse:7.830963\tval-rmse:8.628008\n",
      "[195]\ttrain-rmse:7.810161\tval-rmse:8.610073\n",
      "[196]\ttrain-rmse:7.788481\tval-rmse:8.593596\n",
      "[197]\ttrain-rmse:7.766907\tval-rmse:8.576797\n",
      "[198]\ttrain-rmse:7.745971\tval-rmse:8.559885\n",
      "[199]\ttrain-rmse:7.725329\tval-rmse:8.543954\n",
      "[200]\ttrain-rmse:7.706307\tval-rmse:8.528108\n",
      "[201]\ttrain-rmse:7.687652\tval-rmse:8.511642\n",
      "[202]\ttrain-rmse:7.667754\tval-rmse:8.495782\n",
      "[203]\ttrain-rmse:7.647093\tval-rmse:8.479813\n",
      "[204]\ttrain-rmse:7.627390\tval-rmse:8.464258\n",
      "[205]\ttrain-rmse:7.607680\tval-rmse:8.448113\n",
      "[206]\ttrain-rmse:7.589743\tval-rmse:8.433186\n",
      "[207]\ttrain-rmse:7.572002\tval-rmse:8.419052\n",
      "[208]\ttrain-rmse:7.553903\tval-rmse:8.404968\n",
      "[209]\ttrain-rmse:7.534817\tval-rmse:8.392343\n",
      "[210]\ttrain-rmse:7.518045\tval-rmse:8.378793\n",
      "[211]\ttrain-rmse:7.501616\tval-rmse:8.365003\n",
      "[212]\ttrain-rmse:7.484329\tval-rmse:8.351793\n",
      "[213]\ttrain-rmse:7.468510\tval-rmse:8.339877\n",
      "[214]\ttrain-rmse:7.451942\tval-rmse:8.326256\n",
      "[215]\ttrain-rmse:7.434618\tval-rmse:8.313370\n",
      "[216]\ttrain-rmse:7.418079\tval-rmse:8.300844\n",
      "[217]\ttrain-rmse:7.400723\tval-rmse:8.288048\n",
      "[218]\ttrain-rmse:7.386016\tval-rmse:8.276716\n",
      "[219]\ttrain-rmse:7.371896\tval-rmse:8.264607\n",
      "[220]\ttrain-rmse:7.356747\tval-rmse:8.253739\n",
      "[221]\ttrain-rmse:7.342553\tval-rmse:8.243196\n",
      "[222]\ttrain-rmse:7.327274\tval-rmse:8.232052\n",
      "[223]\ttrain-rmse:7.312560\tval-rmse:8.221874\n",
      "[224]\ttrain-rmse:7.297482\tval-rmse:8.210716\n",
      "[225]\ttrain-rmse:7.282260\tval-rmse:8.199389\n",
      "[226]\ttrain-rmse:7.269856\tval-rmse:8.188659\n",
      "[227]\ttrain-rmse:7.256929\tval-rmse:8.177852\n",
      "[228]\ttrain-rmse:7.242628\tval-rmse:8.168937\n",
      "[229]\ttrain-rmse:7.230288\tval-rmse:8.159882\n",
      "[230]\ttrain-rmse:7.216101\tval-rmse:8.150023\n",
      "[231]\ttrain-rmse:7.204267\tval-rmse:8.141688\n",
      "[232]\ttrain-rmse:7.190738\tval-rmse:8.132471\n",
      "[233]\ttrain-rmse:7.178221\tval-rmse:8.125133\n",
      "[234]\ttrain-rmse:7.166521\tval-rmse:8.116580\n",
      "[235]\ttrain-rmse:7.151634\tval-rmse:8.107416\n",
      "[236]\ttrain-rmse:7.138751\tval-rmse:8.099455\n",
      "[237]\ttrain-rmse:7.127248\tval-rmse:8.090924\n",
      "[238]\ttrain-rmse:7.116346\tval-rmse:8.082727\n",
      "[239]\ttrain-rmse:7.104779\tval-rmse:8.074151\n",
      "[240]\ttrain-rmse:7.094113\tval-rmse:8.065716\n",
      "[241]\ttrain-rmse:7.081979\tval-rmse:8.057519\n",
      "[242]\ttrain-rmse:7.070107\tval-rmse:8.049880\n",
      "[243]\ttrain-rmse:7.059930\tval-rmse:8.042386\n",
      "[244]\ttrain-rmse:7.049194\tval-rmse:8.033890\n",
      "[245]\ttrain-rmse:7.038694\tval-rmse:8.026365\n",
      "[246]\ttrain-rmse:7.028337\tval-rmse:8.019579\n",
      "[247]\ttrain-rmse:7.017459\tval-rmse:8.012316\n",
      "[248]\ttrain-rmse:7.007948\tval-rmse:8.005264\n",
      "[249]\ttrain-rmse:6.996433\tval-rmse:7.999198\n",
      "[250]\ttrain-rmse:6.986109\tval-rmse:7.992353\n",
      "[251]\ttrain-rmse:6.978274\tval-rmse:7.985587\n",
      "[252]\ttrain-rmse:6.968971\tval-rmse:7.978762\n",
      "[253]\ttrain-rmse:6.959498\tval-rmse:7.971924\n",
      "[254]\ttrain-rmse:6.949637\tval-rmse:7.964952\n",
      "[255]\ttrain-rmse:6.937582\tval-rmse:7.958641\n",
      "[256]\ttrain-rmse:6.927710\tval-rmse:7.952543\n",
      "[257]\ttrain-rmse:6.918122\tval-rmse:7.946866\n",
      "[258]\ttrain-rmse:6.909225\tval-rmse:7.939692\n",
      "[259]\ttrain-rmse:6.899689\tval-rmse:7.934016\n",
      "[260]\ttrain-rmse:6.890700\tval-rmse:7.927938\n",
      "[261]\ttrain-rmse:6.881772\tval-rmse:7.922426\n",
      "[262]\ttrain-rmse:6.873863\tval-rmse:7.917549\n",
      "[263]\ttrain-rmse:6.864062\tval-rmse:7.912106\n",
      "[264]\ttrain-rmse:6.854018\tval-rmse:7.907670\n",
      "[265]\ttrain-rmse:6.844806\tval-rmse:7.902667\n",
      "[266]\ttrain-rmse:6.837018\tval-rmse:7.897371\n",
      "[267]\ttrain-rmse:6.828880\tval-rmse:7.892577\n",
      "[268]\ttrain-rmse:6.820584\tval-rmse:7.886988\n",
      "[269]\ttrain-rmse:6.812607\tval-rmse:7.882855\n",
      "[270]\ttrain-rmse:6.806428\tval-rmse:7.878027\n",
      "[271]\ttrain-rmse:6.798250\tval-rmse:7.873296\n",
      "[272]\ttrain-rmse:6.788762\tval-rmse:7.868926\n",
      "[273]\ttrain-rmse:6.781636\tval-rmse:7.864114\n",
      "[274]\ttrain-rmse:6.773519\tval-rmse:7.860121\n",
      "[275]\ttrain-rmse:6.765745\tval-rmse:7.856413\n",
      "[276]\ttrain-rmse:6.758248\tval-rmse:7.851924\n",
      "[277]\ttrain-rmse:6.750998\tval-rmse:7.848545\n",
      "[278]\ttrain-rmse:6.743728\tval-rmse:7.845021\n",
      "[279]\ttrain-rmse:6.735786\tval-rmse:7.841585\n",
      "[280]\ttrain-rmse:6.728849\tval-rmse:7.838016\n",
      "[281]\ttrain-rmse:6.721618\tval-rmse:7.833798\n",
      "[282]\ttrain-rmse:6.715307\tval-rmse:7.830244\n",
      "[283]\ttrain-rmse:6.707135\tval-rmse:7.826308\n",
      "[284]\ttrain-rmse:6.699484\tval-rmse:7.823240\n",
      "[285]\ttrain-rmse:6.693193\tval-rmse:7.819036\n",
      "[286]\ttrain-rmse:6.685577\tval-rmse:7.816485\n",
      "[287]\ttrain-rmse:6.679041\tval-rmse:7.812949\n",
      "[288]\ttrain-rmse:6.671521\tval-rmse:7.809747\n",
      "[289]\ttrain-rmse:6.664655\tval-rmse:7.806350\n",
      "[290]\ttrain-rmse:6.658825\tval-rmse:7.802865\n",
      "[291]\ttrain-rmse:6.651575\tval-rmse:7.799857\n",
      "[292]\ttrain-rmse:6.643615\tval-rmse:7.797144\n",
      "[293]\ttrain-rmse:6.637434\tval-rmse:7.792976\n",
      "[294]\ttrain-rmse:6.631070\tval-rmse:7.790354\n",
      "[295]\ttrain-rmse:6.624654\tval-rmse:7.788380\n",
      "[296]\ttrain-rmse:6.618481\tval-rmse:7.786071\n",
      "[297]\ttrain-rmse:6.612239\tval-rmse:7.782820\n",
      "[298]\ttrain-rmse:6.607695\tval-rmse:7.779700\n",
      "[299]\ttrain-rmse:6.601355\tval-rmse:7.777575\n",
      "[300]\ttrain-rmse:6.596471\tval-rmse:7.774820\n",
      "[301]\ttrain-rmse:6.590708\tval-rmse:7.772325\n",
      "[302]\ttrain-rmse:6.586079\tval-rmse:7.768622\n",
      "[303]\ttrain-rmse:6.580662\tval-rmse:7.766287\n",
      "[304]\ttrain-rmse:6.574320\tval-rmse:7.762842\n",
      "[305]\ttrain-rmse:6.569196\tval-rmse:7.760203\n",
      "[306]\ttrain-rmse:6.565221\tval-rmse:7.757949\n",
      "[307]\ttrain-rmse:6.558489\tval-rmse:7.755439\n",
      "[308]\ttrain-rmse:6.551872\tval-rmse:7.752854\n",
      "[309]\ttrain-rmse:6.545395\tval-rmse:7.749961\n",
      "[310]\ttrain-rmse:6.539512\tval-rmse:7.747117\n",
      "[311]\ttrain-rmse:6.532126\tval-rmse:7.744860\n",
      "[312]\ttrain-rmse:6.527063\tval-rmse:7.742726\n",
      "[313]\ttrain-rmse:6.520529\tval-rmse:7.741291\n",
      "[314]\ttrain-rmse:6.513963\tval-rmse:7.739121\n",
      "[315]\ttrain-rmse:6.510542\tval-rmse:7.737033\n",
      "[316]\ttrain-rmse:6.505548\tval-rmse:7.735365\n",
      "[317]\ttrain-rmse:6.502039\tval-rmse:7.732846\n",
      "[318]\ttrain-rmse:6.498835\tval-rmse:7.730872\n",
      "[319]\ttrain-rmse:6.495071\tval-rmse:7.728736\n",
      "[320]\ttrain-rmse:6.491678\tval-rmse:7.726408\n",
      "[321]\ttrain-rmse:6.486921\tval-rmse:7.724761\n",
      "[322]\ttrain-rmse:6.480804\tval-rmse:7.723426\n",
      "[323]\ttrain-rmse:6.475677\tval-rmse:7.722302\n",
      "[324]\ttrain-rmse:6.471751\tval-rmse:7.720087\n",
      "[325]\ttrain-rmse:6.467650\tval-rmse:7.718473\n",
      "[326]\ttrain-rmse:6.462306\tval-rmse:7.717193\n",
      "[327]\ttrain-rmse:6.457004\tval-rmse:7.714420\n",
      "[328]\ttrain-rmse:6.450840\tval-rmse:7.712437\n",
      "[329]\ttrain-rmse:6.446583\tval-rmse:7.710617\n",
      "[330]\ttrain-rmse:6.442631\tval-rmse:7.708903\n",
      "[331]\ttrain-rmse:6.437593\tval-rmse:7.707041\n",
      "[332]\ttrain-rmse:6.434106\tval-rmse:7.705280\n",
      "[333]\ttrain-rmse:6.427685\tval-rmse:7.704237\n",
      "[334]\ttrain-rmse:6.423880\tval-rmse:7.703043\n",
      "[335]\ttrain-rmse:6.419851\tval-rmse:7.701534\n",
      "[336]\ttrain-rmse:6.413828\tval-rmse:7.699833\n",
      "[337]\ttrain-rmse:6.409026\tval-rmse:7.698394\n",
      "[338]\ttrain-rmse:6.406083\tval-rmse:7.697131\n",
      "[339]\ttrain-rmse:6.402213\tval-rmse:7.696204\n",
      "[340]\ttrain-rmse:6.397077\tval-rmse:7.695387\n",
      "[341]\ttrain-rmse:6.391246\tval-rmse:7.694433\n",
      "[342]\ttrain-rmse:6.387232\tval-rmse:7.693644\n",
      "[343]\ttrain-rmse:6.382149\tval-rmse:7.692801\n",
      "[344]\ttrain-rmse:6.379241\tval-rmse:7.691694\n",
      "[345]\ttrain-rmse:6.374654\tval-rmse:7.690423\n",
      "[346]\ttrain-rmse:6.370134\tval-rmse:7.689459\n",
      "[347]\ttrain-rmse:6.366934\tval-rmse:7.687563\n",
      "[348]\ttrain-rmse:6.361248\tval-rmse:7.687324\n",
      "[349]\ttrain-rmse:6.356674\tval-rmse:7.686442\n",
      "[350]\ttrain-rmse:6.353214\tval-rmse:7.684540\n",
      "[351]\ttrain-rmse:6.349616\tval-rmse:7.683831\n",
      "[352]\ttrain-rmse:6.343814\tval-rmse:7.682760\n",
      "[353]\ttrain-rmse:6.339540\tval-rmse:7.682425\n",
      "[354]\ttrain-rmse:6.335573\tval-rmse:7.682706\n",
      "[355]\ttrain-rmse:6.331318\tval-rmse:7.681627\n",
      "[356]\ttrain-rmse:6.327007\tval-rmse:7.680023\n",
      "[357]\ttrain-rmse:6.322881\tval-rmse:7.678949\n",
      "[358]\ttrain-rmse:6.317430\tval-rmse:7.677863\n",
      "[359]\ttrain-rmse:6.312459\tval-rmse:7.676857\n",
      "[360]\ttrain-rmse:6.309589\tval-rmse:7.675983\n",
      "[361]\ttrain-rmse:6.305632\tval-rmse:7.675725\n",
      "[362]\ttrain-rmse:6.300458\tval-rmse:7.675655\n",
      "[363]\ttrain-rmse:6.296339\tval-rmse:7.674994\n",
      "[364]\ttrain-rmse:6.292846\tval-rmse:7.673914\n",
      "[365]\ttrain-rmse:6.290463\tval-rmse:7.673065\n",
      "[366]\ttrain-rmse:6.287308\tval-rmse:7.672834\n",
      "[367]\ttrain-rmse:6.284889\tval-rmse:7.671926\n",
      "[368]\ttrain-rmse:6.281382\tval-rmse:7.670743\n",
      "[369]\ttrain-rmse:6.276533\tval-rmse:7.670659\n",
      "[370]\ttrain-rmse:6.274090\tval-rmse:7.669769\n",
      "[371]\ttrain-rmse:6.269844\tval-rmse:7.669308\n",
      "[372]\ttrain-rmse:6.267677\tval-rmse:7.668783\n",
      "[373]\ttrain-rmse:6.264744\tval-rmse:7.668608\n",
      "[374]\ttrain-rmse:6.261679\tval-rmse:7.667968\n",
      "[375]\ttrain-rmse:6.258578\tval-rmse:7.667499\n",
      "[376]\ttrain-rmse:6.256045\tval-rmse:7.667041\n",
      "[377]\ttrain-rmse:6.253590\tval-rmse:7.666493\n",
      "[378]\ttrain-rmse:6.251122\tval-rmse:7.666486\n",
      "[379]\ttrain-rmse:6.247871\tval-rmse:7.665248\n",
      "[380]\ttrain-rmse:6.241874\tval-rmse:7.664720\n",
      "[381]\ttrain-rmse:6.238908\tval-rmse:7.663929\n",
      "[382]\ttrain-rmse:6.234599\tval-rmse:7.663462\n",
      "[383]\ttrain-rmse:6.232267\tval-rmse:7.663139\n",
      "[384]\ttrain-rmse:6.229998\tval-rmse:7.662404\n",
      "[385]\ttrain-rmse:6.228231\tval-rmse:7.661949\n",
      "[386]\ttrain-rmse:6.224877\tval-rmse:7.661287\n",
      "[387]\ttrain-rmse:6.220678\tval-rmse:7.661166\n",
      "[388]\ttrain-rmse:6.217946\tval-rmse:7.660944\n",
      "[389]\ttrain-rmse:6.214731\tval-rmse:7.660621\n",
      "[390]\ttrain-rmse:6.212486\tval-rmse:7.660490\n",
      "[391]\ttrain-rmse:6.209509\tval-rmse:7.659486\n",
      "[392]\ttrain-rmse:6.206481\tval-rmse:7.657688\n",
      "[393]\ttrain-rmse:6.203954\tval-rmse:7.657053\n",
      "[394]\ttrain-rmse:6.199570\tval-rmse:7.656613\n",
      "[395]\ttrain-rmse:6.194553\tval-rmse:7.657205\n",
      "[396]\ttrain-rmse:6.192215\tval-rmse:7.656715\n",
      "[397]\ttrain-rmse:6.189041\tval-rmse:7.656505\n",
      "[398]\ttrain-rmse:6.187397\tval-rmse:7.655801\n",
      "[399]\ttrain-rmse:6.185806\tval-rmse:7.654961\n",
      "[400]\ttrain-rmse:6.182122\tval-rmse:7.654647\n",
      "[401]\ttrain-rmse:6.180933\tval-rmse:7.654084\n",
      "[402]\ttrain-rmse:6.177441\tval-rmse:7.653100\n",
      "[403]\ttrain-rmse:6.173983\tval-rmse:7.653004\n",
      "[404]\ttrain-rmse:6.170668\tval-rmse:7.652983\n",
      "[405]\ttrain-rmse:6.168232\tval-rmse:7.652685\n",
      "[406]\ttrain-rmse:6.166573\tval-rmse:7.652147\n",
      "[407]\ttrain-rmse:6.162968\tval-rmse:7.651687\n",
      "[408]\ttrain-rmse:6.160489\tval-rmse:7.651850\n",
      "[409]\ttrain-rmse:6.156271\tval-rmse:7.652133\n",
      "[410]\ttrain-rmse:6.153702\tval-rmse:7.651344\n",
      "[411]\ttrain-rmse:6.151635\tval-rmse:7.650405\n",
      "[412]\ttrain-rmse:6.148508\tval-rmse:7.649408\n",
      "[413]\ttrain-rmse:6.146487\tval-rmse:7.649728\n",
      "[414]\ttrain-rmse:6.143671\tval-rmse:7.649707\n",
      "[415]\ttrain-rmse:6.140683\tval-rmse:7.648891\n",
      "[416]\ttrain-rmse:6.137712\tval-rmse:7.648914\n",
      "[417]\ttrain-rmse:6.136117\tval-rmse:7.648215\n",
      "[418]\ttrain-rmse:6.133051\tval-rmse:7.647819\n",
      "[419]\ttrain-rmse:6.129903\tval-rmse:7.647751\n",
      "[420]\ttrain-rmse:6.126907\tval-rmse:7.648091\n",
      "[421]\ttrain-rmse:6.123095\tval-rmse:7.647703\n",
      "[422]\ttrain-rmse:6.120554\tval-rmse:7.647332\n",
      "[423]\ttrain-rmse:6.118894\tval-rmse:7.646632\n",
      "[424]\ttrain-rmse:6.114892\tval-rmse:7.647033\n",
      "[425]\ttrain-rmse:6.112262\tval-rmse:7.646561\n",
      "[426]\ttrain-rmse:6.110179\tval-rmse:7.646459\n",
      "[427]\ttrain-rmse:6.106655\tval-rmse:7.646208\n",
      "[428]\ttrain-rmse:6.103710\tval-rmse:7.645695\n",
      "[429]\ttrain-rmse:6.100997\tval-rmse:7.645154\n",
      "[430]\ttrain-rmse:6.098493\tval-rmse:7.645181\n",
      "[431]\ttrain-rmse:6.094428\tval-rmse:7.644615\n",
      "[432]\ttrain-rmse:6.090300\tval-rmse:7.644006\n",
      "[433]\ttrain-rmse:6.088883\tval-rmse:7.643915\n",
      "[434]\ttrain-rmse:6.085642\tval-rmse:7.644027\n",
      "[435]\ttrain-rmse:6.082785\tval-rmse:7.643514\n",
      "[436]\ttrain-rmse:6.079689\tval-rmse:7.643629\n",
      "[437]\ttrain-rmse:6.075542\tval-rmse:7.643431\n",
      "[438]\ttrain-rmse:6.073205\tval-rmse:7.643136\n",
      "[439]\ttrain-rmse:6.070602\tval-rmse:7.643646\n",
      "[440]\ttrain-rmse:6.067451\tval-rmse:7.643211\n",
      "[441]\ttrain-rmse:6.065968\tval-rmse:7.642907\n",
      "[442]\ttrain-rmse:6.062059\tval-rmse:7.643062\n",
      "[443]\ttrain-rmse:6.059367\tval-rmse:7.642558\n",
      "[444]\ttrain-rmse:6.055584\tval-rmse:7.642747\n",
      "[445]\ttrain-rmse:6.052628\tval-rmse:7.642147\n",
      "[446]\ttrain-rmse:6.048539\tval-rmse:7.641138\n",
      "[447]\ttrain-rmse:6.045586\tval-rmse:7.640617\n",
      "[448]\ttrain-rmse:6.042229\tval-rmse:7.640669\n",
      "[449]\ttrain-rmse:6.039917\tval-rmse:7.640426\n",
      "[450]\ttrain-rmse:6.037470\tval-rmse:7.639874\n",
      "[451]\ttrain-rmse:6.035435\tval-rmse:7.639801\n",
      "[452]\ttrain-rmse:6.033422\tval-rmse:7.639386\n",
      "[453]\ttrain-rmse:6.031099\tval-rmse:7.639294\n",
      "[454]\ttrain-rmse:6.028333\tval-rmse:7.639513\n",
      "[455]\ttrain-rmse:6.025191\tval-rmse:7.640318\n",
      "[456]\ttrain-rmse:6.022937\tval-rmse:7.640249\n",
      "[457]\ttrain-rmse:6.019778\tval-rmse:7.640315\n",
      "[458]\ttrain-rmse:6.016584\tval-rmse:7.640430\n",
      "[459]\ttrain-rmse:6.013676\tval-rmse:7.639915\n",
      "[460]\ttrain-rmse:6.011855\tval-rmse:7.640044\n",
      "[461]\ttrain-rmse:6.008729\tval-rmse:7.640482\n",
      "[462]\ttrain-rmse:6.006372\tval-rmse:7.639751\n",
      "[463]\ttrain-rmse:6.003373\tval-rmse:7.639769\n",
      "[464]\ttrain-rmse:6.002481\tval-rmse:7.639822\n",
      "[465]\ttrain-rmse:5.999053\tval-rmse:7.639610\n",
      "[466]\ttrain-rmse:5.997683\tval-rmse:7.638994\n",
      "[467]\ttrain-rmse:5.996531\tval-rmse:7.638783\n",
      "[468]\ttrain-rmse:5.994421\tval-rmse:7.638675\n",
      "[469]\ttrain-rmse:5.992141\tval-rmse:7.638868\n",
      "[470]\ttrain-rmse:5.988747\tval-rmse:7.639275\n",
      "[471]\ttrain-rmse:5.987687\tval-rmse:7.638944\n",
      "[472]\ttrain-rmse:5.985168\tval-rmse:7.638811\n",
      "[473]\ttrain-rmse:5.983164\tval-rmse:7.638469\n",
      "[474]\ttrain-rmse:5.980058\tval-rmse:7.639063\n",
      "[475]\ttrain-rmse:5.977764\tval-rmse:7.638982\n",
      "[476]\ttrain-rmse:5.976325\tval-rmse:7.638717\n",
      "[477]\ttrain-rmse:5.973157\tval-rmse:7.638108\n",
      "[478]\ttrain-rmse:5.970355\tval-rmse:7.638394\n",
      "[479]\ttrain-rmse:5.969035\tval-rmse:7.638458\n",
      "[480]\ttrain-rmse:5.966625\tval-rmse:7.639197\n",
      "[481]\ttrain-rmse:5.964618\tval-rmse:7.639328\n",
      "[482]\ttrain-rmse:5.960473\tval-rmse:7.639560\n",
      "[483]\ttrain-rmse:5.958630\tval-rmse:7.639004\n",
      "[484]\ttrain-rmse:5.957249\tval-rmse:7.639012\n",
      "[485]\ttrain-rmse:5.955656\tval-rmse:7.638353\n",
      "[486]\ttrain-rmse:5.952169\tval-rmse:7.639144\n",
      "[487]\ttrain-rmse:5.951085\tval-rmse:7.638768\n",
      "[488]\ttrain-rmse:5.949373\tval-rmse:7.638481\n",
      "[489]\ttrain-rmse:5.946280\tval-rmse:7.638605\n",
      "[490]\ttrain-rmse:5.944069\tval-rmse:7.638837\n",
      "[491]\ttrain-rmse:5.941755\tval-rmse:7.638766\n",
      "[492]\ttrain-rmse:5.939331\tval-rmse:7.638792\n",
      "[493]\ttrain-rmse:5.936911\tval-rmse:7.638933\n",
      "[494]\ttrain-rmse:5.935937\tval-rmse:7.638685\n",
      "[495]\ttrain-rmse:5.935268\tval-rmse:7.638621\n",
      "[496]\ttrain-rmse:5.932706\tval-rmse:7.638721\n",
      "[497]\ttrain-rmse:5.931302\tval-rmse:7.639329\n",
      "[498]\ttrain-rmse:5.928180\tval-rmse:7.639355\n",
      "[499]\ttrain-rmse:5.925802\tval-rmse:7.639191\n",
      "[500]\ttrain-rmse:5.922065\tval-rmse:7.639415\n",
      "[501]\ttrain-rmse:5.920392\tval-rmse:7.640403\n",
      "[502]\ttrain-rmse:5.918502\tval-rmse:7.640437\n",
      "[503]\ttrain-rmse:5.916264\tval-rmse:7.640432\n",
      "[504]\ttrain-rmse:5.914241\tval-rmse:7.641033\n",
      "[505]\ttrain-rmse:5.911993\tval-rmse:7.641142\n",
      "[506]\ttrain-rmse:5.908981\tval-rmse:7.641026\n",
      "[507]\ttrain-rmse:5.907480\tval-rmse:7.641028\n",
      "[508]\ttrain-rmse:5.904194\tval-rmse:7.640634\n",
      "[509]\ttrain-rmse:5.901474\tval-rmse:7.641202\n",
      "[510]\ttrain-rmse:5.899879\tval-rmse:7.641283\n",
      "[511]\ttrain-rmse:5.896965\tval-rmse:7.642375\n",
      "[512]\ttrain-rmse:5.894075\tval-rmse:7.642601\n",
      "[513]\ttrain-rmse:5.892394\tval-rmse:7.642675\n",
      "[514]\ttrain-rmse:5.889987\tval-rmse:7.643179\n",
      "[515]\ttrain-rmse:5.887790\tval-rmse:7.642905\n",
      "[516]\ttrain-rmse:5.884915\tval-rmse:7.642625\n",
      "[517]\ttrain-rmse:5.882003\tval-rmse:7.642439\n",
      "[518]\ttrain-rmse:5.878599\tval-rmse:7.642328\n",
      "[519]\ttrain-rmse:5.877356\tval-rmse:7.642460\n",
      "[520]\ttrain-rmse:5.874275\tval-rmse:7.642031\n",
      "[521]\ttrain-rmse:5.872370\tval-rmse:7.642311\n",
      "[522]\ttrain-rmse:5.869247\tval-rmse:7.642050\n",
      "[523]\ttrain-rmse:5.867725\tval-rmse:7.641802\n",
      "[524]\ttrain-rmse:5.865187\tval-rmse:7.641991\n",
      "[525]\ttrain-rmse:5.863027\tval-rmse:7.642362\n",
      "[526]\ttrain-rmse:5.861091\tval-rmse:7.641964\n",
      "[527]\ttrain-rmse:5.858931\tval-rmse:7.641901\n",
      "Stopping. Best iteration:\n",
      "[477]\ttrain-rmse:5.973157\tval-rmse:7.638108\n",
      "\n"
     ]
    }
   ],
   "source": [
    "model = xgb.train(plst, xgtrain, num_rounds, watchlist, early_stopping_rounds=50)"
   ]
  },
  {
   "cell_type": "code",
   "execution_count": 62,
   "metadata": {
    "collapsed": true
   },
   "outputs": [],
   "source": [
    "model.save_model('E:/age.model')"
   ]
  },
  {
   "cell_type": "code",
   "execution_count": 59,
   "metadata": {
    "collapsed": true
   },
   "outputs": [],
   "source": [
    "preds = model.predict(xgtest,ntree_limit=model.best_iteration)"
   ]
  },
  {
   "cell_type": "code",
   "execution_count": 63,
   "metadata": {
    "collapsed": false
   },
   "outputs": [
    {
     "data": {
      "text/plain": [
       "array([ 24.85035896,  24.85035896,  24.85035896, ...,  24.85035896,\n",
       "        24.85035896,  24.85035896], dtype=float32)"
      ]
     },
     "execution_count": 63,
     "metadata": {},
     "output_type": "execute_result"
    }
   ],
   "source": [
    "preds"
   ]
  },
  {
   "cell_type": "markdown",
   "metadata": {},
   "source": [
    "# 4. 对预测结果进行处理和保存"
   ]
  },
  {
   "cell_type": "code",
   "execution_count": 107,
   "metadata": {
    "collapsed": false
   },
   "outputs": [],
   "source": [
    "# np.savetxt('E:/age.csv',np.c_[range(1,len(test)+1),preds],\n",
    "#                 delimiter=',',header='id,Label',comments='',fmt='%d')"
   ]
  },
  {
   "cell_type": "code",
   "execution_count": 108,
   "metadata": {
    "collapsed": true
   },
   "outputs": [],
   "source": [
    "df = pd.DataFrame(preds)"
   ]
  },
  {
   "cell_type": "code",
   "execution_count": 109,
   "metadata": {
    "collapsed": true
   },
   "outputs": [],
   "source": [
    "df.columns = ['member_age']"
   ]
  },
  {
   "cell_type": "code",
   "execution_count": 70,
   "metadata": {
    "collapsed": true
   },
   "outputs": [],
   "source": [
    "#df['member_age'] = map(int,df['member_age'])"
   ]
  },
  {
   "cell_type": "code",
   "execution_count": 72,
   "metadata": {
    "collapsed": false
   },
   "outputs": [
    {
     "data": {
      "text/plain": [
       "24    479161\n",
       "23      6730\n",
       "26      2412\n",
       "Name: member_age, dtype: int64"
      ]
     },
     "execution_count": 72,
     "metadata": {},
     "output_type": "execute_result"
    }
   ],
   "source": [
    "pd.value_counts(df['member_age'])"
   ]
  },
  {
   "cell_type": "code",
   "execution_count": 110,
   "metadata": {
    "collapsed": false
   },
   "outputs": [
    {
     "data": {
      "text/plain": [
       "pandas.core.series.Series"
      ]
     },
     "execution_count": 110,
     "metadata": {},
     "output_type": "execute_result"
    }
   ],
   "source": [
    "type(test_id)"
   ]
  },
  {
   "cell_type": "code",
   "execution_count": 111,
   "metadata": {
    "collapsed": true
   },
   "outputs": [],
   "source": [
    "df_y = pd.DataFrame(test_id)"
   ]
  },
  {
   "cell_type": "code",
   "execution_count": 115,
   "metadata": {
    "collapsed": false
   },
   "outputs": [],
   "source": [
    "age_predicted = pd.concat([df_y,df],axis=1)"
   ]
  },
  {
   "cell_type": "code",
   "execution_count": 120,
   "metadata": {
    "collapsed": true
   },
   "outputs": [],
   "source": [
    "age_predicted = age_predicted[age_predicted['member_age'].notnull()]"
   ]
  },
  {
   "cell_type": "markdown",
   "metadata": {},
   "source": [
    "## 最终预测了488303项"
   ]
  },
  {
   "cell_type": "code",
   "execution_count": 121,
   "metadata": {
    "collapsed": false
   },
   "outputs": [
    {
     "data": {
      "text/plain": [
       "(488303, 2)"
      ]
     },
     "execution_count": 121,
     "metadata": {},
     "output_type": "execute_result"
    }
   ],
   "source": [
    "age_predicted.shape"
   ]
  },
  {
   "cell_type": "code",
   "execution_count": 122,
   "metadata": {
    "collapsed": false
   },
   "outputs": [
    {
     "data": {
      "text/html": [
       "<div>\n",
       "<table border=\"1\" class=\"dataframe\">\n",
       "  <thead>\n",
       "    <tr style=\"text-align: right;\">\n",
       "      <th></th>\n",
       "      <th>customerid</th>\n",
       "      <th>member_age</th>\n",
       "    </tr>\n",
       "  </thead>\n",
       "  <tbody>\n",
       "    <tr>\n",
       "      <th>0</th>\n",
       "      <td>5792237</td>\n",
       "      <td>24.850359</td>\n",
       "    </tr>\n",
       "    <tr>\n",
       "      <th>1</th>\n",
       "      <td>5792238</td>\n",
       "      <td>24.850359</td>\n",
       "    </tr>\n",
       "    <tr>\n",
       "      <th>2</th>\n",
       "      <td>5792239</td>\n",
       "      <td>24.850359</td>\n",
       "    </tr>\n",
       "    <tr>\n",
       "      <th>3</th>\n",
       "      <td>5792241</td>\n",
       "      <td>24.850359</td>\n",
       "    </tr>\n",
       "    <tr>\n",
       "      <th>4</th>\n",
       "      <td>5792242</td>\n",
       "      <td>24.850359</td>\n",
       "    </tr>\n",
       "  </tbody>\n",
       "</table>\n",
       "</div>"
      ],
      "text/plain": [
       "  customerid  member_age\n",
       "0    5792237   24.850359\n",
       "1    5792238   24.850359\n",
       "2    5792239   24.850359\n",
       "3    5792241   24.850359\n",
       "4    5792242   24.850359"
      ]
     },
     "execution_count": 122,
     "metadata": {},
     "output_type": "execute_result"
    }
   ],
   "source": [
    "age_predicted.head()"
   ]
  },
  {
   "cell_type": "markdown",
   "metadata": {},
   "source": [
    "## 保存预测结果到csv"
   ]
  },
  {
   "cell_type": "code",
   "execution_count": 123,
   "metadata": {
    "collapsed": true
   },
   "outputs": [],
   "source": [
    "age_predicted.to_csv('E:/age_predicted.csv',index=False)"
   ]
  },
  {
   "cell_type": "code",
   "execution_count": null,
   "metadata": {
    "collapsed": true
   },
   "outputs": [],
   "source": []
  }
 ],
 "metadata": {
  "kernelspec": {
   "display_name": "Python 2",
   "language": "python",
   "name": "python2"
  },
  "language_info": {
   "codemirror_mode": {
    "name": "ipython",
    "version": 2
   },
   "file_extension": ".py",
   "mimetype": "text/x-python",
   "name": "python",
   "nbconvert_exporter": "python",
   "pygments_lexer": "ipython2",
   "version": "2.7.13"
  }
 },
 "nbformat": 4,
 "nbformat_minor": 0
}
