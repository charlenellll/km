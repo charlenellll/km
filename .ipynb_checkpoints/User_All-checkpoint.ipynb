{
 "cells": [
  {
   "cell_type": "code",
   "execution_count": 1,
   "metadata": {
    "collapsed": true
   },
   "outputs": [],
   "source": [
    "# coding:utf-8\n",
    "\"\"\"\n",
    "本篇为user_all(),从数据库中读取所有暂存的中间表，连接所有分表，得到用户基础信息的宽表\n",
    "\"\"\"\n",
    "import pandas as pd\n",
    "import numpy as np\n",
    "from impala.dbapi import connect\n",
    "from impala.util import as_pandas\n",
    "import cPickle\n",
    "import re\n",
    "import datetime as dt\n",
    "import pymysql.cursors\n",
    "\n",
    "# Global variables\n",
    "mysql_host = '172.21.1.151'\n",
    "mysql_port = 3306\n",
    "mysql_user = 'xli'\n",
    "mysql_password = '123456'\n",
    "mysql_db = 'kdwtemp2'\n",
    "mysql_charset = 'utf8mb4'\n",
    "\n",
    "def user_all():\n",
    "    # 连接数据库以读取中间表\n",
    "    conn = pymysql.connect(host=mysql_host,\n",
    "                                      port=mysql_port,\n",
    "                                      user=mysql_user,\n",
    "                                      password=mysql_password,\n",
    "                                      db=mysql_db,\n",
    "                                      charset=mysql_charset)\n",
    "    # 1. 读取user_info结果表\n",
    "    sql = 'SELECT * FROM ljl_user_info'\n",
    "    user_info = pd.read_sql(sql,conn)\n",
    "    \n",
    "    # 2. 读取get_coupon\n",
    "    sql = 'SELECT * FROM ljl_get_coupon'\n",
    "    get_coupon = pd.read_sql(sql,conn)\n",
    "    df = pd.merge(get_coupon,user_info,how='left',left_on='customerid',right_on='customerid')\n",
    "    \n",
    "    conn.close()\n",
    "    return df"
   ]
  },
  {
   "cell_type": "code",
   "execution_count": null,
   "metadata": {
    "collapsed": true
   },
   "outputs": [],
   "source": [
    "#     # 3.读取use_coupon\n",
    "#     sql = 'SELECT * FROM ljl_use_coupon'\n",
    "#     use_coupon = pd.read_sql(sql,conn)\n",
    "    \n",
    "#     # 4. 读取destine\n",
    "#     sql = 'SELECT * FROM ljl_destine'\n",
    "#     destine = pd.read_sql(sql,conn)\n",
    "    \n",
    "#     # 5. 读取tag_age_from_song\n",
    "#     sql = 'SELECT * FROM ljl_tag_age_from_song'\n",
    "#     tag_age_from_song = pd.read_sql(sql,conn)\n",
    "    \n",
    "#     # 6. 读取shop\n",
    "#     sql = 'SELECT * FROM ljl_shop'\n",
    "#     shop = pd.read_sql(sql,conn)\n",
    "    "
   ]
  },
  {
   "cell_type": "code",
   "execution_count": 2,
   "metadata": {
    "collapsed": true
   },
   "outputs": [],
   "source": [
    "df = user_all()"
   ]
  },
  {
   "cell_type": "code",
   "execution_count": 6,
   "metadata": {
    "collapsed": false
   },
   "outputs": [
    {
     "data": {
      "text/plain": [
       "5806529    2\n",
       "5806928    2\n",
       "5835568    2\n",
       "5833615    2\n",
       "5795919    2\n",
       "5833614    2\n",
       "5838974    2\n",
       "5891339    2\n",
       "5854911    2\n",
       "5808844    2\n",
       "5797238    2\n",
       "5883878    2\n",
       "5881276    2\n",
       "5858389    2\n",
       "5808180    2\n",
       "5798751    2\n",
       "5844945    2\n",
       "5809463    2\n",
       "5808308    2\n",
       "5812637    2\n",
       "5885650    2\n",
       "5882163    2\n",
       "5885969    2\n",
       "5810931    2\n",
       "5805160    2\n",
       "5887196    2\n",
       "5796909    2\n",
       "5840265    2\n",
       "5853315    2\n",
       "5878111    2\n",
       "          ..\n",
       "5913546    1\n",
       "5945634    1\n",
       "5913544    1\n",
       "4787398    1\n",
       "5913540    1\n",
       "6054988    1\n",
       "6056582    1\n",
       "6056583    1\n",
       "4787391    1\n",
       "5913549    1\n",
       "5913548    1\n",
       "5873849    1\n",
       "5885736    1\n",
       "5973896    1\n",
       "5885733    1\n",
       "6033538    1\n",
       "5885730    1\n",
       "5890350    1\n",
       "6070719    1\n",
       "5347807    1\n",
       "6070718    1\n",
       "6014355    1\n",
       "4656131    1\n",
       "5962675    1\n",
       "5949042    1\n",
       "6054980    1\n",
       "6077659    1\n",
       "6054982    1\n",
       "6054984    1\n",
       "6007203    1\n",
       "Name: customerid, dtype: int64"
      ]
     },
     "execution_count": 6,
     "metadata": {},
     "output_type": "execute_result"
    }
   ],
   "source": [
    "pd.value_counts(df['customerid'])"
   ]
  },
  {
   "cell_type": "code",
   "execution_count": 7,
   "metadata": {
    "collapsed": false
   },
   "outputs": [
    {
     "data": {
      "text/plain": [
       "000080338                   1\n",
       "000020634                   1\n",
       "000034026                   1\n",
       "000081157                   1\n",
       "000090277                   1\n",
       "000025037                   1\n",
       "000111592                   1\n",
       "000045746                   1\n",
       "000098054                   1\n",
       "000042778                   1\n",
       "000109659                   1\n",
       "000018116                   1\n",
       "000009908                   1\n",
       "000013977                   1\n",
       "000046211                   1\n",
       "000076468                   1\n",
       "000093209                   1\n",
       "000071847                   1\n",
       "000057474                   1\n",
       "000000679                   1\n",
       "000029475                   1\n",
       "000014101                   1\n",
       "000010665                   1\n",
       "000031710                   1\n",
       "000083427                   1\n",
       "000047651                   1\n",
       "000055617                   1\n",
       "000113529                   1\n",
       "000101065                   1\n",
       "000101066                   1\n",
       "                           ..\n",
       "000033228                   1\n",
       "000060720                   1\n",
       "000112414                   1\n",
       "000102141                   1\n",
       "000001777                   1\n",
       "062851437981340517333197    1\n",
       "000028414                   1\n",
       "000108944                   1\n",
       "000001778                   1\n",
       "067301438181141446308488    1\n",
       "000029729                   1\n",
       "012201413966033278553644    1\n",
       "000064681                   1\n",
       "000084068                   1\n",
       "000051358                   1\n",
       "000000497                   1\n",
       "000024113                   1\n",
       "000099680                   1\n",
       "000000961                   1\n",
       "000019300                   1\n",
       "000021870                   1\n",
       "000044402                   1\n",
       "000036941                   1\n",
       "000107723                   1\n",
       "000084874                   1\n",
       "000108705                   1\n",
       "000099316                   1\n",
       "000099310                   1\n",
       "000001145                   1\n",
       "000029480                   1\n",
       "Name: kmid, dtype: int64"
      ]
     },
     "execution_count": 7,
     "metadata": {},
     "output_type": "execute_result"
    }
   ],
   "source": [
    "pd.value_counts(df['kmid'])"
   ]
  },
  {
   "cell_type": "code",
   "execution_count": 8,
   "metadata": {
    "collapsed": false
   },
   "outputs": [
    {
     "data": {
      "text/plain": [
       "null                            113\n",
       "otE7DjhZ7qqet4JbEzMxSp0I_ONU      2\n",
       "o4NV2jo_TBIdV2xooopFV6hQzRp8      2\n",
       "otCz6vnOtV7OfhHoGl3d4nBLlZgE      1\n",
       "otCz6vr72_o4cbcD1O47HHUKnegE      1\n",
       "otCz6vmDSXJzfgN7dEbK2NNxfJZg      1\n",
       "otCz6vkLeg1jRD6hGu7MWhAsH7Yg      1\n",
       "otCz6voTawXjHDwWBnNHxFWXI7e0      1\n",
       "otCz6vtBO7HWkQJooajCv57Plil4      1\n",
       "otCz6vrAIp8xjENJzKRmgW93q7cY      1\n",
       "otCz6vpd_wKTyCVxR8Y2DeO_JY5E      1\n",
       "otCz6vu5gu3sPX0zqrsHOQe_8xts      1\n",
       "otCz6vkWWCXWQjS2uruyQCmN5cII      1\n",
       "otCz6vsoDdydMw7ReufD7ByXi3m8      1\n",
       "otCz6vtnmee2IU1XDCbUqwySC-wc      1\n",
       "otCz6vhKStOJAenyvPZXjHIJnX84      1\n",
       "otCz6viDeOSWdEqiQJMueKQFrNZE      1\n",
       "otCz6viYO_MYCy37fJ40GNYbAaaU      1\n",
       "otCz6vpSxfTWEzZl9qeJ3PKhaDIg      1\n",
       "otCz6vj3NAzL4UgWRgz0Kn7yu7sc      1\n",
       "otCz6vodtngydzJmcNnmuqxPM_Iw      1\n",
       "otCz6vsUEvp4pKifvbRyYht_g1Zo      1\n",
       "otCz6vrM6WCVyxZpRA7TWM8em2Cc      1\n",
       "otCz6vugZjI6ffG7jq9hxr6O_tng      1\n",
       "otCz6vpJu2rUM0Du0O-PvJcQej04      1\n",
       "otCz6vmXWfgH6cLZ8l9qTIsSLmjo      1\n",
       "otCz6vvmijhLEJXiDToD4UWrIHq0      1\n",
       "otCz6vhilPriO0ivoBYwcjrXai_g      1\n",
       "otCz6vtIYw-WI4japFpFt3JE4KSQ      1\n",
       "otCz6vt0w2GYXbN2P4o14Jttl8t4      1\n",
       "                               ... \n",
       "otCz6vhWQ1Z3VVrKU5JZUfWMvGZ0      1\n",
       "otCz6viG1Wj2R7PntJY30plHL1mQ      1\n",
       "otCz6vsiviUoin1yjXnssNv52YOQ      1\n",
       "otCz6vrExMO1SxtWjAIh-aEUO1FY      1\n",
       "otCz6voq5jd4mqJ7zFVBLQVZq4UE      1\n",
       "otCz6vs82tCGMmoFghLIyZIq9RV0      1\n",
       "otCz6voP6f8J65uI7GDK9yiBmClc      1\n",
       "otCz6vqxoB2hSjrtns9hOpXYvlLc      1\n",
       "otCz6vswSi0R6Xk8vltvrFu9LnhI      1\n",
       "otCz6vn5BdWwNNiW6XsuWCg2TQho      1\n",
       "otCz6vp05GrOOTKTiYxybCuOAkQo      1\n",
       "otCz6vrPTjcrTV-ynhKEAtJSdQaM      1\n",
       "otCz6vvVzsZizstBeLVrMk3gxHxI      1\n",
       "otCz6vkxLFiwzkmIOd8bt6wsWTeM      1\n",
       "otCz6vgzj5h69Y8D3t0dprYypNc4      1\n",
       "otCz6vnsqJlHqlY4eNbgkBjHw6Z8      1\n",
       "otCz6vvATvltkCY-Y6kPU8bL5v2I      1\n",
       "otCz6vnF1wqjCCvg7t2MjmF_6TzE      1\n",
       "otCz6vsimqL0VVrcTHCrNfpkmITo      1\n",
       "otCz6vobTFN14NXUPOauXaplZAF4      1\n",
       "otCz6vrMzyjIUMXEA2QhEoX0372c      1\n",
       "otCz6vt1UZV3X2NRa47ZLyGQ-65c      1\n",
       "otCz6vmJ8IAEGvaQk493BWBYmGPE      1\n",
       "otCz6vt1TEnDnV4boH2_MIBquk_8      1\n",
       "otCz6vkRdVsDc4epHxgQhmcOX8z4      1\n",
       "otCz6viOUGee6-a1zt7si-XAY2QU      1\n",
       "otCz6vjYYyW06Vcik2CTTcJdlf2s      1\n",
       "otCz6vlUOHXcOrI0H38Yg59FZcA8      1\n",
       "otCz6voCsjI0x2PIthbxpcW4P_kU      1\n",
       "                                  1\n",
       "Name: openid, dtype: int64"
      ]
     },
     "execution_count": 8,
     "metadata": {},
     "output_type": "execute_result"
    }
   ],
   "source": [
    "pd.value_counts(df['openid'])"
   ]
  },
  {
   "cell_type": "code",
   "execution_count": 9,
   "metadata": {
    "collapsed": false
   },
   "outputs": [
    {
     "data": {
      "text/plain": [
       "(146041, 30)"
      ]
     },
     "execution_count": 9,
     "metadata": {},
     "output_type": "execute_result"
    }
   ],
   "source": [
    "df.shape"
   ]
  },
  {
   "cell_type": "code",
   "execution_count": 10,
   "metadata": {
    "collapsed": false
   },
   "outputs": [
    {
     "data": {
      "text/plain": [
       "Index([u'customerid', u'coupon_get_cnt', u'coupon_get_sum',\n",
       "       u'source_company_id', u'source_company_cnt', u'get_coupon_type_cnt',\n",
       "       u'get_com_roomnum', u'get_com_regioncode', u'get_com_managetype',\n",
       "       u'get_com_vodsystemtype', u'get_coupon_crosscom', u'registertime',\n",
       "       u'customer_status', u'openid', u'wechat_sex', u'wechat_city',\n",
       "       u'wechat_province', u'wechat_country', u'kmid', u'member_birthday',\n",
       "       u'km_sex', u'accountcash', u'accountbalance', u'integralbalance',\n",
       "       u'consumetotal', u'consumetimes', u'member_age_cut',\n",
       "       u'lastconsume_diff_create_day', u'lastconsume_diff_create_hour',\n",
       "       u'lastconsume_diff_now'],\n",
       "      dtype='object')"
      ]
     },
     "execution_count": 10,
     "metadata": {},
     "output_type": "execute_result"
    }
   ],
   "source": [
    "df.columns"
   ]
  },
  {
   "cell_type": "code",
   "execution_count": 11,
   "metadata": {
    "collapsed": false
   },
   "outputs": [
    {
     "data": {
      "text/html": [
       "<div>\n",
       "<table border=\"1\" class=\"dataframe\">\n",
       "  <thead>\n",
       "    <tr style=\"text-align: right;\">\n",
       "      <th></th>\n",
       "      <th>customerid</th>\n",
       "      <th>coupon_get_cnt</th>\n",
       "      <th>coupon_get_sum</th>\n",
       "      <th>source_company_id</th>\n",
       "      <th>source_company_cnt</th>\n",
       "      <th>get_coupon_type_cnt</th>\n",
       "      <th>get_com_roomnum</th>\n",
       "      <th>get_com_regioncode</th>\n",
       "      <th>get_com_managetype</th>\n",
       "      <th>get_com_vodsystemtype</th>\n",
       "      <th>...</th>\n",
       "      <th>km_sex</th>\n",
       "      <th>accountcash</th>\n",
       "      <th>accountbalance</th>\n",
       "      <th>integralbalance</th>\n",
       "      <th>consumetotal</th>\n",
       "      <th>consumetimes</th>\n",
       "      <th>member_age_cut</th>\n",
       "      <th>lastconsume_diff_create_day</th>\n",
       "      <th>lastconsume_diff_create_hour</th>\n",
       "      <th>lastconsume_diff_now</th>\n",
       "    </tr>\n",
       "  </thead>\n",
       "  <tbody>\n",
       "    <tr>\n",
       "      <th>0</th>\n",
       "      <td>1003913</td>\n",
       "      <td>12</td>\n",
       "      <td>215</td>\n",
       "      <td>4617</td>\n",
       "      <td>9</td>\n",
       "      <td>4</td>\n",
       "      <td>63</td>\n",
       "      <td>500000</td>\n",
       "      <td>1</td>\n",
       "      <td>0</td>\n",
       "      <td>...</td>\n",
       "      <td>NaN</td>\n",
       "      <td>NaN</td>\n",
       "      <td>NaN</td>\n",
       "      <td>NaN</td>\n",
       "      <td>NaN</td>\n",
       "      <td>NaN</td>\n",
       "      <td>NaN</td>\n",
       "      <td>NaN</td>\n",
       "      <td>NaN</td>\n",
       "      <td>NaN</td>\n",
       "    </tr>\n",
       "    <tr>\n",
       "      <th>1</th>\n",
       "      <td>1536143</td>\n",
       "      <td>1</td>\n",
       "      <td>5</td>\n",
       "      <td>4617</td>\n",
       "      <td>1</td>\n",
       "      <td>1</td>\n",
       "      <td>63</td>\n",
       "      <td>500000</td>\n",
       "      <td>1</td>\n",
       "      <td>0</td>\n",
       "      <td>...</td>\n",
       "      <td>NaN</td>\n",
       "      <td>NaN</td>\n",
       "      <td>NaN</td>\n",
       "      <td>NaN</td>\n",
       "      <td>NaN</td>\n",
       "      <td>NaN</td>\n",
       "      <td>NaN</td>\n",
       "      <td>NaN</td>\n",
       "      <td>NaN</td>\n",
       "      <td>NaN</td>\n",
       "    </tr>\n",
       "    <tr>\n",
       "      <th>2</th>\n",
       "      <td>3303677</td>\n",
       "      <td>2</td>\n",
       "      <td>20</td>\n",
       "      <td>4617</td>\n",
       "      <td>2</td>\n",
       "      <td>2</td>\n",
       "      <td>63</td>\n",
       "      <td>500000</td>\n",
       "      <td>1</td>\n",
       "      <td>0</td>\n",
       "      <td>...</td>\n",
       "      <td>NaN</td>\n",
       "      <td>NaN</td>\n",
       "      <td>NaN</td>\n",
       "      <td>NaN</td>\n",
       "      <td>NaN</td>\n",
       "      <td>NaN</td>\n",
       "      <td>NaN</td>\n",
       "      <td>NaN</td>\n",
       "      <td>NaN</td>\n",
       "      <td>NaN</td>\n",
       "    </tr>\n",
       "    <tr>\n",
       "      <th>3</th>\n",
       "      <td>3931247</td>\n",
       "      <td>4</td>\n",
       "      <td>35</td>\n",
       "      <td>4617</td>\n",
       "      <td>4</td>\n",
       "      <td>4</td>\n",
       "      <td>63</td>\n",
       "      <td>500000</td>\n",
       "      <td>1</td>\n",
       "      <td>0</td>\n",
       "      <td>...</td>\n",
       "      <td>NaN</td>\n",
       "      <td>NaN</td>\n",
       "      <td>NaN</td>\n",
       "      <td>NaN</td>\n",
       "      <td>NaN</td>\n",
       "      <td>NaN</td>\n",
       "      <td>NaN</td>\n",
       "      <td>NaN</td>\n",
       "      <td>NaN</td>\n",
       "      <td>NaN</td>\n",
       "    </tr>\n",
       "    <tr>\n",
       "      <th>4</th>\n",
       "      <td>3937144</td>\n",
       "      <td>1</td>\n",
       "      <td>20</td>\n",
       "      <td>4617</td>\n",
       "      <td>1</td>\n",
       "      <td>1</td>\n",
       "      <td>63</td>\n",
       "      <td>500000</td>\n",
       "      <td>1</td>\n",
       "      <td>0</td>\n",
       "      <td>...</td>\n",
       "      <td>NaN</td>\n",
       "      <td>NaN</td>\n",
       "      <td>NaN</td>\n",
       "      <td>NaN</td>\n",
       "      <td>NaN</td>\n",
       "      <td>NaN</td>\n",
       "      <td>NaN</td>\n",
       "      <td>NaN</td>\n",
       "      <td>NaN</td>\n",
       "      <td>NaN</td>\n",
       "    </tr>\n",
       "  </tbody>\n",
       "</table>\n",
       "<p>5 rows × 30 columns</p>\n",
       "</div>"
      ],
      "text/plain": [
       "  customerid  coupon_get_cnt  coupon_get_sum source_company_id  \\\n",
       "0    1003913              12             215              4617   \n",
       "1    1536143               1               5              4617   \n",
       "2    3303677               2              20              4617   \n",
       "3    3931247               4              35              4617   \n",
       "4    3937144               1              20              4617   \n",
       "\n",
       "   source_company_cnt  get_coupon_type_cnt get_com_roomnum get_com_regioncode  \\\n",
       "0                   9                    4              63             500000   \n",
       "1                   1                    1              63             500000   \n",
       "2                   2                    2              63             500000   \n",
       "3                   4                    4              63             500000   \n",
       "4                   1                    1              63             500000   \n",
       "\n",
       "  get_com_managetype get_com_vodsystemtype          ...           km_sex  \\\n",
       "0                  1                     0          ...              NaN   \n",
       "1                  1                     0          ...              NaN   \n",
       "2                  1                     0          ...              NaN   \n",
       "3                  1                     0          ...              NaN   \n",
       "4                  1                     0          ...              NaN   \n",
       "\n",
       "  accountcash accountbalance integralbalance consumetotal consumetimes  \\\n",
       "0         NaN            NaN             NaN          NaN          NaN   \n",
       "1         NaN            NaN             NaN          NaN          NaN   \n",
       "2         NaN            NaN             NaN          NaN          NaN   \n",
       "3         NaN            NaN             NaN          NaN          NaN   \n",
       "4         NaN            NaN             NaN          NaN          NaN   \n",
       "\n",
       "  member_age_cut lastconsume_diff_create_day lastconsume_diff_create_hour  \\\n",
       "0            NaN                         NaN                          NaN   \n",
       "1            NaN                         NaN                          NaN   \n",
       "2            NaN                         NaN                          NaN   \n",
       "3            NaN                         NaN                          NaN   \n",
       "4            NaN                         NaN                          NaN   \n",
       "\n",
       "   lastconsume_diff_now  \n",
       "0                   NaN  \n",
       "1                   NaN  \n",
       "2                   NaN  \n",
       "3                   NaN  \n",
       "4                   NaN  \n",
       "\n",
       "[5 rows x 30 columns]"
      ]
     },
     "execution_count": 11,
     "metadata": {},
     "output_type": "execute_result"
    }
   ],
   "source": [
    "df.head()"
   ]
  },
  {
   "cell_type": "code",
   "execution_count": 12,
   "metadata": {
    "collapsed": false
   },
   "outputs": [
    {
     "name": "stdout",
     "output_type": "stream",
     "text": [
      "<class 'pandas.core.frame.DataFrame'>\n",
      "Int64Index: 146041 entries, 0 to 146040\n",
      "Data columns (total 30 columns):\n",
      "customerid                      145220 non-null object\n",
      "coupon_get_cnt                  145220 non-null float64\n",
      "coupon_get_sum                  145220 non-null float64\n",
      "source_company_id               146041 non-null object\n",
      "source_company_cnt              145220 non-null float64\n",
      "get_coupon_type_cnt             145220 non-null float64\n",
      "get_com_roomnum                 102268 non-null object\n",
      "get_com_regioncode              102268 non-null object\n",
      "get_com_managetype              102268 non-null object\n",
      "get_com_vodsystemtype           102268 non-null object\n",
      "get_coupon_crosscom             146041 non-null int64\n",
      "registertime                    129769 non-null object\n",
      "customer_status                 129769 non-null object\n",
      "openid                          74296 non-null object\n",
      "wechat_sex                      65695 non-null object\n",
      "wechat_city                     65695 non-null object\n",
      "wechat_province                 65695 non-null object\n",
      "wechat_country                  65695 non-null object\n",
      "kmid                            1038 non-null object\n",
      "member_birthday                 62 non-null float64\n",
      "km_sex                          62 non-null float64\n",
      "accountcash                     62 non-null object\n",
      "accountbalance                  62 non-null object\n",
      "integralbalance                 62 non-null object\n",
      "consumetotal                    62 non-null object\n",
      "consumetimes                    62 non-null object\n",
      "member_age_cut                  62 non-null object\n",
      "lastconsume_diff_create_day     62 non-null float64\n",
      "lastconsume_diff_create_hour    62 non-null float64\n",
      "lastconsume_diff_now            62 non-null float64\n",
      "dtypes: float64(9), int64(1), object(20)\n",
      "memory usage: 34.5+ MB\n"
     ]
    }
   ],
   "source": [
    "df.info()"
   ]
  },
  {
   "cell_type": "code",
   "execution_count": 13,
   "metadata": {
    "collapsed": true
   },
   "outputs": [],
   "source": [
    "df.drop_duplicates('customerid',inplace=True)"
   ]
  },
  {
   "cell_type": "code",
   "execution_count": 14,
   "metadata": {
    "collapsed": false
   },
   "outputs": [
    {
     "name": "stdout",
     "output_type": "stream",
     "text": [
      "<class 'pandas.core.frame.DataFrame'>\n",
      "Int64Index: 145084 entries, 0 to 145220\n",
      "Data columns (total 30 columns):\n",
      "customerid                      145083 non-null object\n",
      "coupon_get_cnt                  145083 non-null float64\n",
      "coupon_get_sum                  145083 non-null float64\n",
      "source_company_id               145084 non-null object\n",
      "source_company_cnt              145083 non-null float64\n",
      "get_coupon_type_cnt             145083 non-null float64\n",
      "get_com_roomnum                 101334 non-null object\n",
      "get_com_regioncode              101334 non-null object\n",
      "get_com_managetype              101334 non-null object\n",
      "get_com_vodsystemtype           101334 non-null object\n",
      "get_coupon_crosscom             145084 non-null int64\n",
      "registertime                    129769 non-null object\n",
      "customer_status                 129769 non-null object\n",
      "openid                          74159 non-null object\n",
      "wechat_sex                      65695 non-null object\n",
      "wechat_city                     65695 non-null object\n",
      "wechat_province                 65695 non-null object\n",
      "wechat_country                  65695 non-null object\n",
      "kmid                            901 non-null object\n",
      "member_birthday                 5 non-null float64\n",
      "km_sex                          5 non-null float64\n",
      "accountcash                     5 non-null object\n",
      "accountbalance                  5 non-null object\n",
      "integralbalance                 5 non-null object\n",
      "consumetotal                    5 non-null object\n",
      "consumetimes                    5 non-null object\n",
      "member_age_cut                  5 non-null object\n",
      "lastconsume_diff_create_day     5 non-null float64\n",
      "lastconsume_diff_create_hour    5 non-null float64\n",
      "lastconsume_diff_now            5 non-null float64\n",
      "dtypes: float64(9), int64(1), object(20)\n",
      "memory usage: 34.3+ MB\n"
     ]
    }
   ],
   "source": [
    "df.info()"
   ]
  },
  {
   "cell_type": "code",
   "execution_count": null,
   "metadata": {
    "collapsed": true
   },
   "outputs": [],
   "source": []
  },
  {
   "cell_type": "code",
   "execution_count": null,
   "metadata": {
    "collapsed": true
   },
   "outputs": [],
   "source": []
  },
  {
   "cell_type": "code",
   "execution_count": null,
   "metadata": {
    "collapsed": true
   },
   "outputs": [],
   "source": []
  },
  {
   "cell_type": "code",
   "execution_count": null,
   "metadata": {
    "collapsed": true
   },
   "outputs": [],
   "source": []
  },
  {
   "cell_type": "code",
   "execution_count": null,
   "metadata": {
    "collapsed": true
   },
   "outputs": [],
   "source": []
  }
 ],
 "metadata": {
  "kernelspec": {
   "display_name": "Python 2",
   "language": "python",
   "name": "python2"
  },
  "language_info": {
   "codemirror_mode": {
    "name": "ipython",
    "version": 2
   },
   "file_extension": ".py",
   "mimetype": "text/x-python",
   "name": "python",
   "nbconvert_exporter": "python",
   "pygments_lexer": "ipython2",
   "version": "2.7.13"
  }
 },
 "nbformat": 4,
 "nbformat_minor": 0
}
