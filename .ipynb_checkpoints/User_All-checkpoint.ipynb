{
 "cells": [
  {
   "cell_type": "code",
   "execution_count": 33,
   "metadata": {
    "collapsed": true
   },
   "outputs": [],
   "source": [
    "# coding:utf-8\n",
    "\"\"\"\n",
    "本篇为user_all(),从数据库中读取所有暂存的中间表，连接所有分表，得到用户基础信息的宽表\n",
    "\"\"\"\n",
    "import pandas as pd\n",
    "import numpy as np\n",
    "from impala.dbapi import connect\n",
    "from impala.util import as_pandas\n",
    "import cPickle\n",
    "import re\n",
    "import datetime as dt\n",
    "import pymysql.cursors\n",
    "\n",
    "# Global variables\n",
    "mysql_host = '172.21.1.151'\n",
    "mysql_port = 3306\n",
    "mysql_user = 'xli'\n",
    "mysql_password = '123456'\n",
    "mysql_db = 'kdwtemp2'\n",
    "mysql_charset = 'utf8mb4'\n",
    "\n",
    "def user_all():\n",
    "    # 连接数据库以读取中间表\n",
    "    conn = pymysql.connect(host=mysql_host,\n",
    "                                      port=mysql_port,\n",
    "                                      user=mysql_user,\n",
    "                                      password=mysql_password,\n",
    "                                      db=mysql_db,\n",
    "                                      charset=mysql_charset)\n",
    "    # 1. 读取user_info结果表\n",
    "    sql = 'SELECT * FROM ljl_user_info'\n",
    "    user_info = pd.read_sql(sql,conn)\n",
    "    \n",
    "    # 2. 读取get_coupon\n",
    "    sql = 'SELECT * FROM ljl_get_coupon'\n",
    "    get_coupon = pd.read_sql(sql,conn)\n",
    "    df = pd.merge(get_coupon,user_info,how='left',left_on='customerid',right_on='customerid')\n",
    "    \n",
    "#     # 3.读取use_coupon\n",
    "#     sql = 'SELECT * FROM ljl_use_coupon'\n",
    "#     use_coupon = pd.read_sql(sql,conn)\n",
    "    \n",
    "#     # 4. 读取destine\n",
    "#     sql = 'SELECT * FROM ljl_destine'\n",
    "#     destine = pd.read_sql(sql,conn)\n",
    "    \n",
    "#     # 5. 读取tag_age_from_song\n",
    "#     sql = 'SELECT * FROM ljl_tag_age_from_song'\n",
    "#     tag_age_from_song = pd.read_sql(sql,conn)\n",
    "    \n",
    "#     # 6. 读取shop\n",
    "#     sql = 'SELECT * FROM ljl_shop'\n",
    "#     shop = pd.read_sql(sql,conn)\n",
    "    \n",
    "    \n",
    "    conn.close()\n",
    "    return df"
   ]
  },
  {
   "cell_type": "code",
   "execution_count": 34,
   "metadata": {
    "collapsed": true
   },
   "outputs": [],
   "source": [
    "df = user_all()"
   ]
  },
  {
   "cell_type": "code",
   "execution_count": 38,
   "metadata": {
    "collapsed": false
   },
   "outputs": [
    {
     "data": {
      "text/plain": [
       "2743853    52\n",
       "5819210    40\n",
       "6139758    38\n",
       "5964123    37\n",
       "5913691    33\n",
       "6100975    32\n",
       "5832917    32\n",
       "6025160    31\n",
       "5964124    31\n",
       "6163558    31\n",
       "5959305    30\n",
       "5963498    29\n",
       "5958543    28\n",
       "6136719    28\n",
       "5824681    28\n",
       "5880864    28\n",
       "5957265    28\n",
       "6141710    28\n",
       "6036321    28\n",
       "6141661    27\n",
       "6074937    27\n",
       "5848549    26\n",
       "5996762    26\n",
       "5964121    26\n",
       "5914782    26\n",
       "6014029    24\n",
       "5890493    24\n",
       "5977021    24\n",
       "5996302    24\n",
       "6118779    24\n",
       "           ..\n",
       "6056840     1\n",
       "6048239     1\n",
       "5257597     1\n",
       "6007578     1\n",
       "6028882     1\n",
       "6085681     1\n",
       "6085682     1\n",
       "6085683     1\n",
       "854842      1\n",
       "5867418     1\n",
       "5867419     1\n",
       "6008878     1\n",
       "6008875     1\n",
       "6008876     1\n",
       "4894966     1\n",
       "5827427     1\n",
       "6056849     1\n",
       "5201554     1\n",
       "5165389     1\n",
       "5165383     1\n",
       "6076211     1\n",
       "6076210     1\n",
       "5927125     1\n",
       "5927124     1\n",
       "5927123     1\n",
       "5927122     1\n",
       "5899056     1\n",
       "5827428     1\n",
       "5899051     1\n",
       "6007203     1\n",
       "Name: customerid, dtype: int64"
      ]
     },
     "execution_count": 38,
     "metadata": {},
     "output_type": "execute_result"
    }
   ],
   "source": [
    "pd.value_counts(df['customerid'])"
   ]
  },
  {
   "cell_type": "code",
   "execution_count": 39,
   "metadata": {
    "collapsed": false
   },
   "outputs": [
    {
     "data": {
      "text/plain": [
       "000127319    821\n",
       "000124835    821\n",
       "000118533    821\n",
       "000127091    821\n",
       "000127093    821\n",
       "000127092    821\n",
       "000127097    821\n",
       "000114607    821\n",
       "000114604    821\n",
       "000114603    821\n",
       "000114600    821\n",
       "000114601    821\n",
       "000114608    821\n",
       "000122849    821\n",
       "000122848    821\n",
       "000122842    821\n",
       "000122845    821\n",
       "000118536    821\n",
       "000118535    821\n",
       "000115082    821\n",
       "000120469    821\n",
       "000120464    821\n",
       "000120467    821\n",
       "000120466    821\n",
       "000120461    821\n",
       "000120460    821\n",
       "000120463    821\n",
       "000123747    821\n",
       "000115083    821\n",
       "000123746    821\n",
       "            ... \n",
       "000058220      1\n",
       "000020634      1\n",
       "000027693      1\n",
       "000093929      1\n",
       "000049949      1\n",
       "000018515      1\n",
       "000004003      1\n",
       "000037496      1\n",
       "000109620      1\n",
       "000087142      1\n",
       "000086138      1\n",
       "000101589      1\n",
       "000021934      1\n",
       "000096801      1\n",
       "000102337      1\n",
       "000112327      1\n",
       "000020300      1\n",
       "000078698      1\n",
       "000042875      1\n",
       "000001294      1\n",
       "000109900      1\n",
       "000010665      1\n",
       "000018998      1\n",
       "000035678      1\n",
       "000026263      1\n",
       "000106795      1\n",
       "000105381      1\n",
       "000045660      1\n",
       "000108705      1\n",
       "000052292      1\n",
       "Name: kmid, dtype: int64"
      ]
     },
     "execution_count": 39,
     "metadata": {},
     "output_type": "execute_result"
    }
   ],
   "source": [
    "pd.value_counts(df['kmid'])"
   ]
  },
  {
   "cell_type": "code",
   "execution_count": 40,
   "metadata": {
    "collapsed": false
   },
   "outputs": [
    {
     "data": {
      "text/plain": [
       "null                            156\n",
       "otCz6vqUoBu-9UlwaQjeeAWLIt3Y     40\n",
       "otCz6vlTERRv1aSx5Kbbk9N62siE     38\n",
       "otCz6vg8C2xuFpM6-i069sJygmU0     37\n",
       "otCz6vuDe-bMyJmvTjzdmRExH7pA     33\n",
       "otCz6vt9D-yC-DRiA5BmIkz8dMZs     32\n",
       "otCz6vvdH65o3tY8hhihA5T9MRlw     32\n",
       "otCz6vof4UZU56wRaGq7HSerPF9A     31\n",
       "otCz6vqjAHFBEbQ0-iwihwQS2S6g     31\n",
       "otCz6vqkoZAOgFzxMH4aq7nWzpBY     31\n",
       "otCz6voiPh7RYm9Hfdnv4NR_PpTQ     30\n",
       "otCz6vlZypixhXgUcy_jjq5gntXs     29\n",
       "otCz6vqid0SJAr_igFQN2gp6tnLo     28\n",
       "otCz6vqNCZSf0DZXZKGTGqssnE3U     28\n",
       "otCz6vlvgcxC_TvO902-d7KnmnBk     28\n",
       "otCz6vpo8jUhI-IeL49wpljNDhww     28\n",
       "otCz6vqFGQBgUnRLe-6VLc3c-o94     28\n",
       "otCz6vpm5XYyG1vmIvfeP1ULwTXc     28\n",
       "otCz6vsuXW9EqQguO0Ga4I2Drjtg     28\n",
       "otCz6vvvrP5zN8A0L3SbPp9sdtdc     27\n",
       "otCz6vq859pFkNexkIxAtC_8EoYc     27\n",
       "otCz6von9YBZVmSWAyW4jqt9yCuw     26\n",
       "otCz6vj39dtFPj4T2I66fse-sy0E     26\n",
       "otCz6vgX1qPCUgFNqR-gUMvtvOII     26\n",
       "otCz6vg5BDvm8xPaa2s37UwhVhsA     26\n",
       "otCz6vng8i6V25RzdW1-XTrKHQgY     24\n",
       "otCz6vnDHp0WD9nZb7M2GHhjAGDc     24\n",
       "otCz6vuOJi9pGZd1og-W2MbG4z-g     24\n",
       "otCz6vqBAI6Kwi4hLIeOz5fPSXc4     24\n",
       "otCz6vi9dNwVvgwV8AAZp8o1gzs8     24\n",
       "                               ... \n",
       "otCz6vnPpG2UhXGbI2zycFNc_CzM      1\n",
       "otCz6vgXvQ3ssSe64WmO6M8rGisw      1\n",
       "otCz6vsdGPnIwZc149CT4iVPOp80      1\n",
       "otCz6vrkYc-eyZqHxZ08PUIWwAvs      1\n",
       "otCz6vijqGECnM7Z_XrfmOeqJ0S8      1\n",
       "otCz6vsmhqLcpA_-9hTFsxCWf2Uk      1\n",
       "otCz6vq9W-fw5sAxk_JD1gmQH_-M      1\n",
       "otCz6vh5uPLRUNs312-gOI3b-XrA      1\n",
       "otCz6vu5AhijlO3txcFKmHFC11J4      1\n",
       "otCz6vjNTSick29_4PCoxu_xHNPA      1\n",
       "otCz6vq8ZglnS7yzMQkfyoWhYVPI      1\n",
       "otCz6vhLH-a_qyPwqenzMcBwOQkA      1\n",
       "otCz6vj-axtWM1H0HcdU0hpkEoXE      1\n",
       "o9MkJj4PrjHB7EVY6Zz0qDhWGEMo      1\n",
       "otCz6vtvaFxp7o81p5UWjtN7qvgQ      1\n",
       "otCz6vgcKfd3UFMpxncceiPwjI5Q      1\n",
       "otCz6vqzRh1Im3GIuJR8iK-Mkmlw      1\n",
       "otCz6viCIjzBMLuGg9-QPH-i37ag      1\n",
       "otCz6vn_6A2NpuuziXoe-qbsTCRw      1\n",
       "otCz6voIzOsyhdXC5N77YeEjTKY4      1\n",
       "otCz6vo0HaxSuvAe8Wu4-KjSU3Qs      1\n",
       "otCz6vnpm9sVpnqTO3xljVINmyl4      1\n",
       "otCz6vs-BVOkBsMbkf_wt3s1RZM4      1\n",
       "otCz6voSalWKeBxdGKZVG9ZK0TFs      1\n",
       "otCz6vt1C5nDaOo3bqAfwIaDvP88      1\n",
       "otCz6vlWR1cJm7_-a_r2Bn4z9l-I      1\n",
       "otCz6vhZ_2wA1mKSJQGoryEW8Xt0      1\n",
       "otCz6vkCIy4cSZtCPlwOOt6bkhqU      1\n",
       "otCz6viuLnRTZAY_SiRzW1toI88Q      1\n",
       "otCz6vnyHQeqPTrTV-Rxeost0I5E      1\n",
       "Name: openid, dtype: int64"
      ]
     },
     "execution_count": 40,
     "metadata": {},
     "output_type": "execute_result"
    }
   ],
   "source": [
    "pd.value_counts(df['openid'])"
   ]
  },
  {
   "cell_type": "code",
   "execution_count": null,
   "metadata": {
    "collapsed": true
   },
   "outputs": [],
   "source": []
  },
  {
   "cell_type": "code",
   "execution_count": null,
   "metadata": {
    "collapsed": true
   },
   "outputs": [],
   "source": []
  },
  {
   "cell_type": "code",
   "execution_count": null,
   "metadata": {
    "collapsed": true
   },
   "outputs": [],
   "source": []
  },
  {
   "cell_type": "code",
   "execution_count": null,
   "metadata": {
    "collapsed": true
   },
   "outputs": [],
   "source": []
  },
  {
   "cell_type": "code",
   "execution_count": null,
   "metadata": {
    "collapsed": true
   },
   "outputs": [],
   "source": []
  },
  {
   "cell_type": "code",
   "execution_count": null,
   "metadata": {
    "collapsed": true
   },
   "outputs": [],
   "source": []
  },
  {
   "cell_type": "markdown",
   "metadata": {},
   "source": [
    "## 合并user_info和get_coupon结果"
   ]
  },
  {
   "cell_type": "markdown",
   "metadata": {},
   "source": [
    "### outer merge"
   ]
  },
  {
   "cell_type": "code",
   "execution_count": 7,
   "metadata": {
    "collapsed": false
   },
   "outputs": [
    {
     "data": {
      "text/html": [
       "<div>\n",
       "<table border=\"1\" class=\"dataframe\">\n",
       "  <thead>\n",
       "    <tr style=\"text-align: right;\">\n",
       "      <th></th>\n",
       "      <th>kmid</th>\n",
       "      <th>member_birthday</th>\n",
       "      <th>km_sex</th>\n",
       "      <th>accountcash</th>\n",
       "      <th>accountbalance</th>\n",
       "      <th>integralbalance</th>\n",
       "      <th>consumetotal</th>\n",
       "      <th>consumetimes</th>\n",
       "      <th>member_age_cut</th>\n",
       "      <th>lastconsume_diff_create_day</th>\n",
       "      <th>...</th>\n",
       "      <th>coupon_get_cnt</th>\n",
       "      <th>coupon_get_sum</th>\n",
       "      <th>source_company_id</th>\n",
       "      <th>source_company_cnt</th>\n",
       "      <th>get_coupon_type_cnt</th>\n",
       "      <th>get_com_roomnum</th>\n",
       "      <th>get_com_regioncode</th>\n",
       "      <th>get_com_managetype</th>\n",
       "      <th>get_com_vodsystemtype</th>\n",
       "      <th>get_coupon_crosscom</th>\n",
       "    </tr>\n",
       "  </thead>\n",
       "  <tbody>\n",
       "    <tr>\n",
       "      <th>0</th>\n",
       "      <td>000108491</td>\n",
       "      <td>1995</td>\n",
       "      <td>1</td>\n",
       "      <td>0.00</td>\n",
       "      <td>0.00</td>\n",
       "      <td>0.00</td>\n",
       "      <td>0.00</td>\n",
       "      <td>0</td>\n",
       "      <td>member_age_5</td>\n",
       "      <td>0</td>\n",
       "      <td>...</td>\n",
       "      <td>NaN</td>\n",
       "      <td>NaN</td>\n",
       "      <td>136</td>\n",
       "      <td>NaN</td>\n",
       "      <td>NaN</td>\n",
       "      <td>89</td>\n",
       "      <td>500000</td>\n",
       "      <td>1</td>\n",
       "      <td>0</td>\n",
       "      <td>0</td>\n",
       "    </tr>\n",
       "    <tr>\n",
       "      <th>1</th>\n",
       "      <td>000108491</td>\n",
       "      <td>1995</td>\n",
       "      <td>1</td>\n",
       "      <td>0.00</td>\n",
       "      <td>0.00</td>\n",
       "      <td>0.00</td>\n",
       "      <td>0.00</td>\n",
       "      <td>0</td>\n",
       "      <td>member_age_5</td>\n",
       "      <td>0</td>\n",
       "      <td>...</td>\n",
       "      <td>NaN</td>\n",
       "      <td>NaN</td>\n",
       "      <td>139</td>\n",
       "      <td>NaN</td>\n",
       "      <td>NaN</td>\n",
       "      <td>136</td>\n",
       "      <td>440000</td>\n",
       "      <td>1</td>\n",
       "      <td>0</td>\n",
       "      <td>0</td>\n",
       "    </tr>\n",
       "    <tr>\n",
       "      <th>2</th>\n",
       "      <td>000108491</td>\n",
       "      <td>1995</td>\n",
       "      <td>1</td>\n",
       "      <td>0.00</td>\n",
       "      <td>0.00</td>\n",
       "      <td>0.00</td>\n",
       "      <td>0.00</td>\n",
       "      <td>0</td>\n",
       "      <td>member_age_5</td>\n",
       "      <td>0</td>\n",
       "      <td>...</td>\n",
       "      <td>NaN</td>\n",
       "      <td>NaN</td>\n",
       "      <td>147</td>\n",
       "      <td>NaN</td>\n",
       "      <td>NaN</td>\n",
       "      <td>70</td>\n",
       "      <td>350000</td>\n",
       "      <td>1</td>\n",
       "      <td>0</td>\n",
       "      <td>0</td>\n",
       "    </tr>\n",
       "    <tr>\n",
       "      <th>3</th>\n",
       "      <td>000108491</td>\n",
       "      <td>1995</td>\n",
       "      <td>1</td>\n",
       "      <td>0.00</td>\n",
       "      <td>0.00</td>\n",
       "      <td>0.00</td>\n",
       "      <td>0.00</td>\n",
       "      <td>0</td>\n",
       "      <td>member_age_5</td>\n",
       "      <td>0</td>\n",
       "      <td>...</td>\n",
       "      <td>NaN</td>\n",
       "      <td>NaN</td>\n",
       "      <td>168</td>\n",
       "      <td>NaN</td>\n",
       "      <td>NaN</td>\n",
       "      <td>67</td>\n",
       "      <td>440000</td>\n",
       "      <td>1</td>\n",
       "      <td>0</td>\n",
       "      <td>0</td>\n",
       "    </tr>\n",
       "    <tr>\n",
       "      <th>4</th>\n",
       "      <td>000108491</td>\n",
       "      <td>1995</td>\n",
       "      <td>1</td>\n",
       "      <td>0.00</td>\n",
       "      <td>0.00</td>\n",
       "      <td>0.00</td>\n",
       "      <td>0.00</td>\n",
       "      <td>0</td>\n",
       "      <td>member_age_5</td>\n",
       "      <td>0</td>\n",
       "      <td>...</td>\n",
       "      <td>NaN</td>\n",
       "      <td>NaN</td>\n",
       "      <td>191</td>\n",
       "      <td>NaN</td>\n",
       "      <td>NaN</td>\n",
       "      <td>72</td>\n",
       "      <td>440000</td>\n",
       "      <td>1</td>\n",
       "      <td>0</td>\n",
       "      <td>0</td>\n",
       "    </tr>\n",
       "  </tbody>\n",
       "</table>\n",
       "<p>5 rows × 31 columns</p>\n",
       "</div>"
      ],
      "text/plain": [
       "        kmid  member_birthday  km_sex accountcash accountbalance  \\\n",
       "0  000108491             1995       1        0.00           0.00   \n",
       "1  000108491             1995       1        0.00           0.00   \n",
       "2  000108491             1995       1        0.00           0.00   \n",
       "3  000108491             1995       1        0.00           0.00   \n",
       "4  000108491             1995       1        0.00           0.00   \n",
       "\n",
       "  integralbalance consumetotal consumetimes member_age_cut  \\\n",
       "0            0.00         0.00            0   member_age_5   \n",
       "1            0.00         0.00            0   member_age_5   \n",
       "2            0.00         0.00            0   member_age_5   \n",
       "3            0.00         0.00            0   member_age_5   \n",
       "4            0.00         0.00            0   member_age_5   \n",
       "\n",
       "   lastconsume_diff_create_day         ...          coupon_get_cnt  \\\n",
       "0                            0         ...                     NaN   \n",
       "1                            0         ...                     NaN   \n",
       "2                            0         ...                     NaN   \n",
       "3                            0         ...                     NaN   \n",
       "4                            0         ...                     NaN   \n",
       "\n",
       "   coupon_get_sum source_company_id source_company_cnt get_coupon_type_cnt  \\\n",
       "0             NaN               136                NaN                 NaN   \n",
       "1             NaN               139                NaN                 NaN   \n",
       "2             NaN               147                NaN                 NaN   \n",
       "3             NaN               168                NaN                 NaN   \n",
       "4             NaN               191                NaN                 NaN   \n",
       "\n",
       "  get_com_roomnum get_com_regioncode get_com_managetype get_com_vodsystemtype  \\\n",
       "0              89             500000                  1                     0   \n",
       "1             136             440000                  1                     0   \n",
       "2              70             350000                  1                     0   \n",
       "3              67             440000                  1                     0   \n",
       "4              72             440000                  1                     0   \n",
       "\n",
       "  get_coupon_crosscom  \n",
       "0                   0  \n",
       "1                   0  \n",
       "2                   0  \n",
       "3                   0  \n",
       "4                   0  \n",
       "\n",
       "[5 rows x 31 columns]"
      ]
     },
     "execution_count": 7,
     "metadata": {},
     "output_type": "execute_result"
    }
   ],
   "source": [
    "df.head()"
   ]
  },
  {
   "cell_type": "code",
   "execution_count": 8,
   "metadata": {
    "collapsed": false
   },
   "outputs": [
    {
     "data": {
      "text/plain": [
       "(12919022, 31)"
      ]
     },
     "execution_count": 8,
     "metadata": {},
     "output_type": "execute_result"
    }
   ],
   "source": [
    "df.shape"
   ]
  },
  {
   "cell_type": "code",
   "execution_count": 9,
   "metadata": {
    "collapsed": false
   },
   "outputs": [
    {
     "data": {
      "text/plain": [
       "Index([u'kmid', u'member_birthday', u'km_sex', u'accountcash',\n",
       "       u'accountbalance', u'integralbalance', u'consumetotal', u'consumetimes',\n",
       "       u'member_age_cut', u'lastconsume_diff_create_day',\n",
       "       u'lastconsume_diff_create_hour', u'lastconsume_diff_now', u'openid',\n",
       "       u'customerid', u'registertime', u'customer_status', u'wechat_sex',\n",
       "       u'wechat_city', u'wechat_province', u'wechat_country',\n",
       "       u'wechat_bind_status', u'coupon_get_cnt', u'coupon_get_sum',\n",
       "       u'source_company_id', u'source_company_cnt', u'get_coupon_type_cnt',\n",
       "       u'get_com_roomnum', u'get_com_regioncode', u'get_com_managetype',\n",
       "       u'get_com_vodsystemtype', u'get_coupon_crosscom'],\n",
       "      dtype='object')"
      ]
     },
     "execution_count": 9,
     "metadata": {},
     "output_type": "execute_result"
    }
   ],
   "source": [
    "df.columns"
   ]
  },
  {
   "cell_type": "markdown",
   "metadata": {},
   "source": [
    "### left merge"
   ]
  },
  {
   "cell_type": "code",
   "execution_count": 35,
   "metadata": {
    "collapsed": false
   },
   "outputs": [
    {
     "data": {
      "text/html": [
       "<div>\n",
       "<table border=\"1\" class=\"dataframe\">\n",
       "  <thead>\n",
       "    <tr style=\"text-align: right;\">\n",
       "      <th></th>\n",
       "      <th>customerid</th>\n",
       "      <th>coupon_get_cnt</th>\n",
       "      <th>coupon_get_sum</th>\n",
       "      <th>source_company_id</th>\n",
       "      <th>source_company_cnt</th>\n",
       "      <th>get_coupon_type_cnt</th>\n",
       "      <th>get_com_roomnum</th>\n",
       "      <th>get_com_regioncode</th>\n",
       "      <th>get_com_managetype</th>\n",
       "      <th>get_com_vodsystemtype</th>\n",
       "      <th>...</th>\n",
       "      <th>lastconsume_diff_create_day</th>\n",
       "      <th>lastconsume_diff_create_hour</th>\n",
       "      <th>lastconsume_diff_now</th>\n",
       "      <th>openid</th>\n",
       "      <th>registertime</th>\n",
       "      <th>customer_status</th>\n",
       "      <th>wechat_sex</th>\n",
       "      <th>wechat_city</th>\n",
       "      <th>wechat_province</th>\n",
       "      <th>wechat_country</th>\n",
       "    </tr>\n",
       "  </thead>\n",
       "  <tbody>\n",
       "    <tr>\n",
       "      <th>0</th>\n",
       "      <td>1003913</td>\n",
       "      <td>12</td>\n",
       "      <td>215</td>\n",
       "      <td>4617</td>\n",
       "      <td>9</td>\n",
       "      <td>4</td>\n",
       "      <td>63</td>\n",
       "      <td>500000</td>\n",
       "      <td>1</td>\n",
       "      <td>0</td>\n",
       "      <td>...</td>\n",
       "      <td>NaN</td>\n",
       "      <td>NaN</td>\n",
       "      <td>NaN</td>\n",
       "      <td>NaN</td>\n",
       "      <td>NaN</td>\n",
       "      <td>NaN</td>\n",
       "      <td>NaN</td>\n",
       "      <td>NaN</td>\n",
       "      <td>NaN</td>\n",
       "      <td>NaN</td>\n",
       "    </tr>\n",
       "    <tr>\n",
       "      <th>1</th>\n",
       "      <td>1536143</td>\n",
       "      <td>1</td>\n",
       "      <td>5</td>\n",
       "      <td>4617</td>\n",
       "      <td>1</td>\n",
       "      <td>1</td>\n",
       "      <td>63</td>\n",
       "      <td>500000</td>\n",
       "      <td>1</td>\n",
       "      <td>0</td>\n",
       "      <td>...</td>\n",
       "      <td>NaN</td>\n",
       "      <td>NaN</td>\n",
       "      <td>NaN</td>\n",
       "      <td>NaN</td>\n",
       "      <td>NaN</td>\n",
       "      <td>NaN</td>\n",
       "      <td>NaN</td>\n",
       "      <td>NaN</td>\n",
       "      <td>NaN</td>\n",
       "      <td>NaN</td>\n",
       "    </tr>\n",
       "    <tr>\n",
       "      <th>2</th>\n",
       "      <td>3303677</td>\n",
       "      <td>2</td>\n",
       "      <td>20</td>\n",
       "      <td>4617</td>\n",
       "      <td>2</td>\n",
       "      <td>2</td>\n",
       "      <td>63</td>\n",
       "      <td>500000</td>\n",
       "      <td>1</td>\n",
       "      <td>0</td>\n",
       "      <td>...</td>\n",
       "      <td>NaN</td>\n",
       "      <td>NaN</td>\n",
       "      <td>NaN</td>\n",
       "      <td>NaN</td>\n",
       "      <td>NaN</td>\n",
       "      <td>NaN</td>\n",
       "      <td>NaN</td>\n",
       "      <td>NaN</td>\n",
       "      <td>NaN</td>\n",
       "      <td>NaN</td>\n",
       "    </tr>\n",
       "    <tr>\n",
       "      <th>3</th>\n",
       "      <td>3931247</td>\n",
       "      <td>4</td>\n",
       "      <td>35</td>\n",
       "      <td>4617</td>\n",
       "      <td>4</td>\n",
       "      <td>4</td>\n",
       "      <td>63</td>\n",
       "      <td>500000</td>\n",
       "      <td>1</td>\n",
       "      <td>0</td>\n",
       "      <td>...</td>\n",
       "      <td>NaN</td>\n",
       "      <td>NaN</td>\n",
       "      <td>NaN</td>\n",
       "      <td>NaN</td>\n",
       "      <td>NaN</td>\n",
       "      <td>NaN</td>\n",
       "      <td>NaN</td>\n",
       "      <td>NaN</td>\n",
       "      <td>NaN</td>\n",
       "      <td>NaN</td>\n",
       "    </tr>\n",
       "    <tr>\n",
       "      <th>4</th>\n",
       "      <td>3937144</td>\n",
       "      <td>1</td>\n",
       "      <td>20</td>\n",
       "      <td>4617</td>\n",
       "      <td>1</td>\n",
       "      <td>1</td>\n",
       "      <td>63</td>\n",
       "      <td>500000</td>\n",
       "      <td>1</td>\n",
       "      <td>0</td>\n",
       "      <td>...</td>\n",
       "      <td>NaN</td>\n",
       "      <td>NaN</td>\n",
       "      <td>NaN</td>\n",
       "      <td>NaN</td>\n",
       "      <td>NaN</td>\n",
       "      <td>NaN</td>\n",
       "      <td>NaN</td>\n",
       "      <td>NaN</td>\n",
       "      <td>NaN</td>\n",
       "      <td>NaN</td>\n",
       "    </tr>\n",
       "  </tbody>\n",
       "</table>\n",
       "<p>5 rows × 30 columns</p>\n",
       "</div>"
      ],
      "text/plain": [
       "  customerid  coupon_get_cnt  coupon_get_sum source_company_id  \\\n",
       "0    1003913              12             215              4617   \n",
       "1    1536143               1               5              4617   \n",
       "2    3303677               2              20              4617   \n",
       "3    3931247               4              35              4617   \n",
       "4    3937144               1              20              4617   \n",
       "\n",
       "   source_company_cnt  get_coupon_type_cnt get_com_roomnum get_com_regioncode  \\\n",
       "0                   9                    4              63             500000   \n",
       "1                   1                    1              63             500000   \n",
       "2                   2                    2              63             500000   \n",
       "3                   4                    4              63             500000   \n",
       "4                   1                    1              63             500000   \n",
       "\n",
       "  get_com_managetype get_com_vodsystemtype      ...        \\\n",
       "0                  1                     0      ...         \n",
       "1                  1                     0      ...         \n",
       "2                  1                     0      ...         \n",
       "3                  1                     0      ...         \n",
       "4                  1                     0      ...         \n",
       "\n",
       "   lastconsume_diff_create_day lastconsume_diff_create_hour  \\\n",
       "0                          NaN                          NaN   \n",
       "1                          NaN                          NaN   \n",
       "2                          NaN                          NaN   \n",
       "3                          NaN                          NaN   \n",
       "4                          NaN                          NaN   \n",
       "\n",
       "   lastconsume_diff_now  openid registertime customer_status wechat_sex  \\\n",
       "0                   NaN     NaN          NaN             NaN        NaN   \n",
       "1                   NaN     NaN          NaN             NaN        NaN   \n",
       "2                   NaN     NaN          NaN             NaN        NaN   \n",
       "3                   NaN     NaN          NaN             NaN        NaN   \n",
       "4                   NaN     NaN          NaN             NaN        NaN   \n",
       "\n",
       "  wechat_city wechat_province wechat_country  \n",
       "0         NaN             NaN            NaN  \n",
       "1         NaN             NaN            NaN  \n",
       "2         NaN             NaN            NaN  \n",
       "3         NaN             NaN            NaN  \n",
       "4         NaN             NaN            NaN  \n",
       "\n",
       "[5 rows x 30 columns]"
      ]
     },
     "execution_count": 35,
     "metadata": {},
     "output_type": "execute_result"
    }
   ],
   "source": [
    "df.head()"
   ]
  },
  {
   "cell_type": "code",
   "execution_count": 36,
   "metadata": {
    "collapsed": false
   },
   "outputs": [
    {
     "data": {
      "text/plain": [
       "(7846869, 30)"
      ]
     },
     "execution_count": 36,
     "metadata": {},
     "output_type": "execute_result"
    }
   ],
   "source": [
    "df.shape"
   ]
  },
  {
   "cell_type": "code",
   "execution_count": 37,
   "metadata": {
    "collapsed": false
   },
   "outputs": [
    {
     "ename": "MemoryError",
     "evalue": "",
     "output_type": "error",
     "traceback": [
      "\u001b[1;31m---------------------------------------------------------------------------\u001b[0m",
      "\u001b[1;31mMemoryError\u001b[0m                               Traceback (most recent call last)",
      "\u001b[1;32m<ipython-input-37-857958930b27>\u001b[0m in \u001b[0;36m<module>\u001b[1;34m()\u001b[0m\n\u001b[1;32m----> 1\u001b[1;33m \u001b[0mdf\u001b[0m\u001b[1;33m.\u001b[0m\u001b[0minfo\u001b[0m\u001b[1;33m(\u001b[0m\u001b[1;33m)\u001b[0m\u001b[1;33m\u001b[0m\u001b[0m\n\u001b[0m",
      "\u001b[1;32mD:\\Users\\Lenovo\\Anaconda2\\lib\\site-packages\\pandas\\core\\frame.pyc\u001b[0m in \u001b[0;36minfo\u001b[1;34m(self, verbose, buf, max_cols, memory_usage, null_counts)\u001b[0m\n\u001b[0;32m   1687\u001b[0m                 \u001b[0m_verbose_repr\u001b[0m\u001b[1;33m(\u001b[0m\u001b[1;33m)\u001b[0m\u001b[1;33m\u001b[0m\u001b[0m\n\u001b[0;32m   1688\u001b[0m \u001b[1;33m\u001b[0m\u001b[0m\n\u001b[1;32m-> 1689\u001b[1;33m         \u001b[0mcounts\u001b[0m \u001b[1;33m=\u001b[0m \u001b[0mself\u001b[0m\u001b[1;33m.\u001b[0m\u001b[0mget_dtype_counts\u001b[0m\u001b[1;33m(\u001b[0m\u001b[1;33m)\u001b[0m\u001b[1;33m\u001b[0m\u001b[0m\n\u001b[0m\u001b[0;32m   1690\u001b[0m         \u001b[0mdtypes\u001b[0m \u001b[1;33m=\u001b[0m \u001b[1;33m[\u001b[0m\u001b[1;34m'%s(%d)'\u001b[0m \u001b[1;33m%\u001b[0m \u001b[0mk\u001b[0m \u001b[1;32mfor\u001b[0m \u001b[0mk\u001b[0m \u001b[1;32min\u001b[0m \u001b[0msorted\u001b[0m\u001b[1;33m(\u001b[0m\u001b[0mcompat\u001b[0m\u001b[1;33m.\u001b[0m\u001b[0miteritems\u001b[0m\u001b[1;33m(\u001b[0m\u001b[0mcounts\u001b[0m\u001b[1;33m)\u001b[0m\u001b[1;33m)\u001b[0m\u001b[1;33m]\u001b[0m\u001b[1;33m\u001b[0m\u001b[0m\n\u001b[0;32m   1691\u001b[0m         \u001b[0mlines\u001b[0m\u001b[1;33m.\u001b[0m\u001b[0mappend\u001b[0m\u001b[1;33m(\u001b[0m\u001b[1;34m'dtypes: %s'\u001b[0m \u001b[1;33m%\u001b[0m \u001b[1;34m', '\u001b[0m\u001b[1;33m.\u001b[0m\u001b[0mjoin\u001b[0m\u001b[1;33m(\u001b[0m\u001b[0mdtypes\u001b[0m\u001b[1;33m)\u001b[0m\u001b[1;33m)\u001b[0m\u001b[1;33m\u001b[0m\u001b[0m\n",
      "\u001b[1;32mD:\\Users\\Lenovo\\Anaconda2\\lib\\site-packages\\pandas\\core\\generic.pyc\u001b[0m in \u001b[0;36mget_dtype_counts\u001b[1;34m(self)\u001b[0m\n\u001b[0;32m   2551\u001b[0m         \u001b[1;34m\"\"\" Return the counts of dtypes in this object \"\"\"\u001b[0m\u001b[1;33m\u001b[0m\u001b[0m\n\u001b[0;32m   2552\u001b[0m         \u001b[1;32mfrom\u001b[0m \u001b[0mpandas\u001b[0m \u001b[1;32mimport\u001b[0m \u001b[0mSeries\u001b[0m\u001b[1;33m\u001b[0m\u001b[0m\n\u001b[1;32m-> 2553\u001b[1;33m         \u001b[1;32mreturn\u001b[0m \u001b[0mSeries\u001b[0m\u001b[1;33m(\u001b[0m\u001b[0mself\u001b[0m\u001b[1;33m.\u001b[0m\u001b[0m_data\u001b[0m\u001b[1;33m.\u001b[0m\u001b[0mget_dtype_counts\u001b[0m\u001b[1;33m(\u001b[0m\u001b[1;33m)\u001b[0m\u001b[1;33m)\u001b[0m\u001b[1;33m\u001b[0m\u001b[0m\n\u001b[0m\u001b[0;32m   2554\u001b[0m \u001b[1;33m\u001b[0m\u001b[0m\n\u001b[0;32m   2555\u001b[0m     \u001b[1;32mdef\u001b[0m \u001b[0mget_ftype_counts\u001b[0m\u001b[1;33m(\u001b[0m\u001b[0mself\u001b[0m\u001b[1;33m)\u001b[0m\u001b[1;33m:\u001b[0m\u001b[1;33m\u001b[0m\u001b[0m\n",
      "\u001b[1;32mD:\\Users\\Lenovo\\Anaconda2\\lib\\site-packages\\pandas\\core\\internals.pyc\u001b[0m in \u001b[0;36mget_dtype_counts\u001b[1;34m(self)\u001b[0m\n\u001b[0;32m   2644\u001b[0m \u001b[1;33m\u001b[0m\u001b[0m\n\u001b[0;32m   2645\u001b[0m     \u001b[1;32mdef\u001b[0m \u001b[0mget_dtype_counts\u001b[0m\u001b[1;33m(\u001b[0m\u001b[0mself\u001b[0m\u001b[1;33m)\u001b[0m\u001b[1;33m:\u001b[0m\u001b[1;33m\u001b[0m\u001b[0m\n\u001b[1;32m-> 2646\u001b[1;33m         \u001b[1;32mreturn\u001b[0m \u001b[0mself\u001b[0m\u001b[1;33m.\u001b[0m\u001b[0m_get_counts\u001b[0m\u001b[1;33m(\u001b[0m\u001b[1;32mlambda\u001b[0m \u001b[0mb\u001b[0m\u001b[1;33m:\u001b[0m \u001b[0mb\u001b[0m\u001b[1;33m.\u001b[0m\u001b[0mdtype\u001b[0m\u001b[1;33m.\u001b[0m\u001b[0mname\u001b[0m\u001b[1;33m)\u001b[0m\u001b[1;33m\u001b[0m\u001b[0m\n\u001b[0m\u001b[0;32m   2647\u001b[0m \u001b[1;33m\u001b[0m\u001b[0m\n\u001b[0;32m   2648\u001b[0m     \u001b[1;32mdef\u001b[0m \u001b[0mget_ftype_counts\u001b[0m\u001b[1;33m(\u001b[0m\u001b[0mself\u001b[0m\u001b[1;33m)\u001b[0m\u001b[1;33m:\u001b[0m\u001b[1;33m\u001b[0m\u001b[0m\n",
      "\u001b[1;32mD:\\Users\\Lenovo\\Anaconda2\\lib\\site-packages\\pandas\\core\\internals.pyc\u001b[0m in \u001b[0;36m_get_counts\u001b[1;34m(self, f)\u001b[0m\n\u001b[0;32m   2636\u001b[0m     \u001b[1;32mdef\u001b[0m \u001b[0m_get_counts\u001b[0m\u001b[1;33m(\u001b[0m\u001b[0mself\u001b[0m\u001b[1;33m,\u001b[0m \u001b[0mf\u001b[0m\u001b[1;33m)\u001b[0m\u001b[1;33m:\u001b[0m\u001b[1;33m\u001b[0m\u001b[0m\n\u001b[0;32m   2637\u001b[0m         \u001b[1;34m\"\"\" return a dict of the counts of the function in BlockManager \"\"\"\u001b[0m\u001b[1;33m\u001b[0m\u001b[0m\n\u001b[1;32m-> 2638\u001b[1;33m         \u001b[0mself\u001b[0m\u001b[1;33m.\u001b[0m\u001b[0m_consolidate_inplace\u001b[0m\u001b[1;33m(\u001b[0m\u001b[1;33m)\u001b[0m\u001b[1;33m\u001b[0m\u001b[0m\n\u001b[0m\u001b[0;32m   2639\u001b[0m         \u001b[0mcounts\u001b[0m \u001b[1;33m=\u001b[0m \u001b[0mdict\u001b[0m\u001b[1;33m(\u001b[0m\u001b[1;33m)\u001b[0m\u001b[1;33m\u001b[0m\u001b[0m\n\u001b[0;32m   2640\u001b[0m         \u001b[1;32mfor\u001b[0m \u001b[0mb\u001b[0m \u001b[1;32min\u001b[0m \u001b[0mself\u001b[0m\u001b[1;33m.\u001b[0m\u001b[0mblocks\u001b[0m\u001b[1;33m:\u001b[0m\u001b[1;33m\u001b[0m\u001b[0m\n",
      "\u001b[1;32mD:\\Users\\Lenovo\\Anaconda2\\lib\\site-packages\\pandas\\core\\internals.pyc\u001b[0m in \u001b[0;36m_consolidate_inplace\u001b[1;34m(self)\u001b[0m\n\u001b[0;32m   3197\u001b[0m     \u001b[1;32mdef\u001b[0m \u001b[0m_consolidate_inplace\u001b[0m\u001b[1;33m(\u001b[0m\u001b[0mself\u001b[0m\u001b[1;33m)\u001b[0m\u001b[1;33m:\u001b[0m\u001b[1;33m\u001b[0m\u001b[0m\n\u001b[0;32m   3198\u001b[0m         \u001b[1;32mif\u001b[0m \u001b[1;32mnot\u001b[0m \u001b[0mself\u001b[0m\u001b[1;33m.\u001b[0m\u001b[0mis_consolidated\u001b[0m\u001b[1;33m(\u001b[0m\u001b[1;33m)\u001b[0m\u001b[1;33m:\u001b[0m\u001b[1;33m\u001b[0m\u001b[0m\n\u001b[1;32m-> 3199\u001b[1;33m             \u001b[0mself\u001b[0m\u001b[1;33m.\u001b[0m\u001b[0mblocks\u001b[0m \u001b[1;33m=\u001b[0m \u001b[0mtuple\u001b[0m\u001b[1;33m(\u001b[0m\u001b[0m_consolidate\u001b[0m\u001b[1;33m(\u001b[0m\u001b[0mself\u001b[0m\u001b[1;33m.\u001b[0m\u001b[0mblocks\u001b[0m\u001b[1;33m)\u001b[0m\u001b[1;33m)\u001b[0m\u001b[1;33m\u001b[0m\u001b[0m\n\u001b[0m\u001b[0;32m   3200\u001b[0m             \u001b[0mself\u001b[0m\u001b[1;33m.\u001b[0m\u001b[0m_is_consolidated\u001b[0m \u001b[1;33m=\u001b[0m \u001b[0mTrue\u001b[0m\u001b[1;33m\u001b[0m\u001b[0m\n\u001b[0;32m   3201\u001b[0m             \u001b[0mself\u001b[0m\u001b[1;33m.\u001b[0m\u001b[0m_known_consolidated\u001b[0m \u001b[1;33m=\u001b[0m \u001b[0mTrue\u001b[0m\u001b[1;33m\u001b[0m\u001b[0m\n",
      "\u001b[1;32mD:\\Users\\Lenovo\\Anaconda2\\lib\\site-packages\\pandas\\core\\internals.pyc\u001b[0m in \u001b[0;36m_consolidate\u001b[1;34m(blocks)\u001b[0m\n\u001b[0;32m   4187\u001b[0m     \u001b[1;32mfor\u001b[0m \u001b[1;33m(\u001b[0m\u001b[0m_can_consolidate\u001b[0m\u001b[1;33m,\u001b[0m \u001b[0mdtype\u001b[0m\u001b[1;33m)\u001b[0m\u001b[1;33m,\u001b[0m \u001b[0mgroup_blocks\u001b[0m \u001b[1;32min\u001b[0m \u001b[0mgrouper\u001b[0m\u001b[1;33m:\u001b[0m\u001b[1;33m\u001b[0m\u001b[0m\n\u001b[0;32m   4188\u001b[0m         merged_blocks = _merge_blocks(list(group_blocks), dtype=dtype,\n\u001b[1;32m-> 4189\u001b[1;33m                                       _can_consolidate=_can_consolidate)\n\u001b[0m\u001b[0;32m   4190\u001b[0m         \u001b[0mnew_blocks\u001b[0m \u001b[1;33m=\u001b[0m \u001b[0m_extend_blocks\u001b[0m\u001b[1;33m(\u001b[0m\u001b[0mmerged_blocks\u001b[0m\u001b[1;33m,\u001b[0m \u001b[0mnew_blocks\u001b[0m\u001b[1;33m)\u001b[0m\u001b[1;33m\u001b[0m\u001b[0m\n\u001b[0;32m   4191\u001b[0m     \u001b[1;32mreturn\u001b[0m \u001b[0mnew_blocks\u001b[0m\u001b[1;33m\u001b[0m\u001b[0m\n",
      "\u001b[1;32mD:\\Users\\Lenovo\\Anaconda2\\lib\\site-packages\\pandas\\core\\internals.pyc\u001b[0m in \u001b[0;36m_merge_blocks\u001b[1;34m(blocks, dtype, _can_consolidate)\u001b[0m\n\u001b[0;32m   4210\u001b[0m \u001b[1;33m\u001b[0m\u001b[0m\n\u001b[0;32m   4211\u001b[0m         \u001b[0margsort\u001b[0m \u001b[1;33m=\u001b[0m \u001b[0mnp\u001b[0m\u001b[1;33m.\u001b[0m\u001b[0margsort\u001b[0m\u001b[1;33m(\u001b[0m\u001b[0mnew_mgr_locs\u001b[0m\u001b[1;33m)\u001b[0m\u001b[1;33m\u001b[0m\u001b[0m\n\u001b[1;32m-> 4212\u001b[1;33m         \u001b[0mnew_values\u001b[0m \u001b[1;33m=\u001b[0m \u001b[0mnew_values\u001b[0m\u001b[1;33m[\u001b[0m\u001b[0margsort\u001b[0m\u001b[1;33m]\u001b[0m\u001b[1;33m\u001b[0m\u001b[0m\n\u001b[0m\u001b[0;32m   4213\u001b[0m         \u001b[0mnew_mgr_locs\u001b[0m \u001b[1;33m=\u001b[0m \u001b[0mnew_mgr_locs\u001b[0m\u001b[1;33m[\u001b[0m\u001b[0margsort\u001b[0m\u001b[1;33m]\u001b[0m\u001b[1;33m\u001b[0m\u001b[0m\n\u001b[0;32m   4214\u001b[0m \u001b[1;33m\u001b[0m\u001b[0m\n",
      "\u001b[1;31mMemoryError\u001b[0m: "
     ]
    }
   ],
   "source": [
    "df.info()"
   ]
  },
  {
   "cell_type": "markdown",
   "metadata": {},
   "source": [
    "## 非常怪异的问题？为什么kmid正好重复821次？"
   ]
  },
  {
   "cell_type": "code",
   "execution_count": 14,
   "metadata": {
    "collapsed": false
   },
   "outputs": [
    {
     "data": {
      "text/plain": [
       "Index([u'customerid', u'coupon_get_cnt', u'coupon_get_sum',\n",
       "       u'source_company_id', u'source_company_cnt', u'get_coupon_type_cnt',\n",
       "       u'get_com_roomnum', u'get_com_regioncode', u'get_com_managetype',\n",
       "       u'get_com_vodsystemtype', u'get_coupon_crosscom', u'kmid',\n",
       "       u'member_birthday', u'km_sex', u'accountcash', u'accountbalance',\n",
       "       u'integralbalance', u'consumetotal', u'consumetimes', u'member_age_cut',\n",
       "       u'lastconsume_diff_create_day', u'lastconsume_diff_create_hour',\n",
       "       u'lastconsume_diff_now', u'openid', u'registertime', u'customer_status',\n",
       "       u'wechat_sex', u'wechat_city', u'wechat_province', u'wechat_country',\n",
       "       u'wechat_bind_status'],\n",
       "      dtype='object')"
      ]
     },
     "execution_count": 14,
     "metadata": {},
     "output_type": "execute_result"
    }
   ],
   "source": [
    "df.columns"
   ]
  },
  {
   "cell_type": "code",
   "execution_count": 15,
   "metadata": {
    "collapsed": false
   },
   "outputs": [
    {
     "data": {
      "text/plain": [
       "000111257    821\n",
       "000050626    821\n",
       "000116286    821\n",
       "000116282    821\n",
       "000116283    821\n",
       "000122678    821\n",
       "000122679    821\n",
       "000122677    821\n",
       "000122674    821\n",
       "000122675    821\n",
       "000122672    821\n",
       "000122671    821\n",
       "000123468    821\n",
       "000123461    821\n",
       "000123462    821\n",
       "000123463    821\n",
       "000123464    821\n",
       "000123465    821\n",
       "000123467    821\n",
       "000110743    821\n",
       "000110748    821\n",
       "000109318    821\n",
       "000109316    821\n",
       "000109314    821\n",
       "000109313    821\n",
       "000109310    821\n",
       "000052135    821\n",
       "000055618    821\n",
       "000055611    821\n",
       "000116285    821\n",
       "            ... \n",
       "000113736    821\n",
       "000122603    821\n",
       "000119275    821\n",
       "000122602    821\n",
       "000122601    821\n",
       "000122600    821\n",
       "000122607    821\n",
       "000122606    821\n",
       "000108711    821\n",
       "000108710    821\n",
       "000108713    821\n",
       "000108719    821\n",
       "000108718    821\n",
       "000119271    821\n",
       "000119273    821\n",
       "000044404    821\n",
       "000109366    821\n",
       "000054054    821\n",
       "000054055    821\n",
       "000054056    821\n",
       "000054057    821\n",
       "000054051    821\n",
       "000054053    821\n",
       "000054059    821\n",
       "000109369    821\n",
       "000109363    821\n",
       "000109361    821\n",
       "000109360    821\n",
       "000109367    821\n",
       "000127319    821\n",
       "Name: kmid, dtype: int64"
      ]
     },
     "execution_count": 15,
     "metadata": {},
     "output_type": "execute_result"
    }
   ],
   "source": [
    "pd.value_counts(df['kmid'])"
   ]
  },
  {
   "cell_type": "code",
   "execution_count": 16,
   "metadata": {
    "collapsed": false
   },
   "outputs": [
    {
     "data": {
      "text/plain": [
       "6048183    1\n",
       "6049776    1\n",
       "5913548    1\n",
       "6045409    1\n",
       "6045407    1\n",
       "6045401    1\n",
       "6045400    1\n",
       "6045403    1\n",
       "6134269    1\n",
       "5913540    1\n",
       "6134264    1\n",
       "6134265    1\n",
       "6134263    1\n",
       "6021233    1\n",
       "5578423    1\n",
       "6016346    1\n",
       "5913549    1\n",
       "5913544    1\n",
       "6106509    1\n",
       "6054988    1\n",
       "6106504    1\n",
       "6106505    1\n",
       "5855419    1\n",
       "5855410    1\n",
       "5855411    1\n",
       "4288147    1\n",
       "6054984    1\n",
       "5945634    1\n",
       "6054982    1\n",
       "6054983    1\n",
       "          ..\n",
       "4667952    1\n",
       "6071290    1\n",
       "6071298    1\n",
       "6018351    1\n",
       "5225728    1\n",
       "5781863    1\n",
       "6109925    1\n",
       "6109927    1\n",
       "6109921    1\n",
       "6109929    1\n",
       "6018359    1\n",
       "6018358    1\n",
       "5979404    1\n",
       "5979408    1\n",
       "5823234    1\n",
       "6074514    1\n",
       "6074517    1\n",
       "6074510    1\n",
       "6074511    1\n",
       "6074513    1\n",
       "6074519    1\n",
       "6143120    1\n",
       "5633762    1\n",
       "6143128    1\n",
       "5395517    1\n",
       "5976764    1\n",
       "5976767    1\n",
       "5976766    1\n",
       "5976769    1\n",
       "6066819    1\n",
       "Name: customerid, dtype: int64"
      ]
     },
     "execution_count": 16,
     "metadata": {},
     "output_type": "execute_result"
    }
   ],
   "source": [
    "pd.value_counts(df['customerid'])"
   ]
  },
  {
   "cell_type": "code",
   "execution_count": null,
   "metadata": {
    "collapsed": true
   },
   "outputs": [],
   "source": []
  }
 ],
 "metadata": {
  "kernelspec": {
   "display_name": "Python 2",
   "language": "python",
   "name": "python2"
  },
  "language_info": {
   "codemirror_mode": {
    "name": "ipython",
    "version": 2
   },
   "file_extension": ".py",
   "mimetype": "text/x-python",
   "name": "python",
   "nbconvert_exporter": "python",
   "pygments_lexer": "ipython2",
   "version": "2.7.11"
  }
 },
 "nbformat": 4,
 "nbformat_minor": 0
}
