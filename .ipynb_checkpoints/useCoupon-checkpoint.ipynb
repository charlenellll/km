{
 "cells": [
  {
   "cell_type": "code",
   "execution_count": 5,
   "metadata": {
    "collapsed": false
   },
   "outputs": [],
   "source": [
    "# coding:utf-8\n",
    "\"\"\"\n",
    "本篇为单独调试use_coupon()函数的调试记录，后期将加入UserMainData\n",
    "\"\"\"\n",
    "import pandas as pd\n",
    "import numpy as np\n",
    "from impala.dbapi import connect\n",
    "from impala.util import as_pandas\n",
    "import cPickle\n",
    "import pymysql.cursors\n",
    "\n",
    "# Global variables\n",
    "mysql_host = '172.21.1.151'\n",
    "mysql_port = 3306\n",
    "mysql_user = 'xli'\n",
    "mysql_password = '123456'\n",
    "mysql_db = 'kdwtemp2'\n",
    "mysql_charset = 'utf8mb4'\n",
    "\n",
    "def easy_print(terms,tname, records=10): #逐条描述前五条记录，方便仔细查看表中值的特征\n",
    "    conn = connect(host='172.21.1.120', port=21050, user='udms', database='kmi_month') \n",
    "    cur = conn.cursor()     \n",
    "    \n",
    "    sql = 'SELECT ' + terms + ' FROM ' + tname + ' LIMIT 5' \n",
    "    cur.execute(sql)\n",
    "    read_in = as_pandas(cur)    \n",
    "    cur.close()\n",
    "    conn.close()\n",
    "    \n",
    "    #print in a format\n",
    "    columns = read_in.columns.values\n",
    "    values = read_in.values\n",
    "    records = []\n",
    "    for v in values:\n",
    "        records.append(zip(columns, v))\n",
    "    \n",
    "    for ix,r in enumerate(records):\n",
    "        print('----------第%s条记录--------' % (ix+1))\n",
    "        for k, v in r:\n",
    "            print('%s: %s' % (k, v))\n",
    "            \n",
    "def full_print(terms,tname): #打出全表所选列，以方便进行统计查看规律，决定处理方法\n",
    "    conn = connect(host='172.21.1.120', port=21050, user='udms', database='kmi_month') \n",
    "    cur = conn.cursor()     \n",
    "    \n",
    "    sql = 'SELECT ' + terms + ' FROM ' + tname\n",
    "    cur.execute(sql)\n",
    "    df = as_pandas(cur)\n",
    "    print df\n",
    "    cur.close()\n",
    "    conn.close()\n",
    "\n",
    "def merge_table(df1,df2,term1,term2):\n",
    "    df = pd.merge(df1,df2,how='outer',left_on=term1,right_on=term2)\n",
    "    return df    \n",
    "    \n",
    "def use_coupon():\n",
    "    conn = connect(host='172.21.1.120', port=21050, user='udms', database='kmi_month') \n",
    "    cur = conn.cursor()     \n",
    "    \n",
    "    # 1. 用户使用红包数据统计\n",
    "    sql = 'SELECT customer_id as customerid,deduction_value,order_charge,red_envelop_id FROM km_tbl_use_coupon_records'\n",
    "    cur.execute(sql)\n",
    "    df = as_pandas(cur)\n",
    "    # 计算折扣金额总和、业务方账单金额总和\n",
    "    df1 = df.groupby('customerid',as_index=False).sum()\n",
    "    df1.columns = ['customerid','use_coupon_sum','use_coupon_order_sum']\n",
    "    # 计算用户参与红包活动数目\n",
    "    df2 = df.drop(['deduction_value','order_charge'],axis=1)\n",
    "    df2['cnt'] = 1\n",
    "    df2 = df2.groupby(['customerid','red_envelop_id'],as_index=False).sum()\n",
    "    df2.drop('cnt',axis=1,inplace=True)\n",
    "    df2 = df2.groupby('customerid',as_index=False).count()\n",
    "    df2.columns = ['customerid','use_coupon_type_cnt']\n",
    "    used = pd.merge(df1,df2,how='outer',left_on='customerid',right_on='customerid')\n",
    "    \n",
    "    # 2. 对每个用户使用最多红包的场所进行统计\n",
    "    sql = 'SELECT customer_id as customerid,use_company_id FROM km_tbl_use_coupon_records'\n",
    "    cur.execute(sql)\n",
    "    df = as_pandas(cur)\n",
    "    df['cnt'] = 1\n",
    "    use_com = df.groupby(['customerid','use_company_id'],as_index=False).count()\n",
    "    use_com.columns = ['customerid','use_company_id','use_company_cnt']\n",
    "    use_com = use_com.sort_values(['customerid','use_company_cnt'],ascending=[1,0])\n",
    "    use_com.drop_duplicates(subset='customerid',inplace=True)\n",
    "    \n",
    "    # 3. 用户使用红包类型数统计\n",
    "    sql = 'SELECT customer_id as customerid,coupon_id FROM km_tbl_use_coupon_records'\n",
    "    cur.execute(sql)\n",
    "    df = as_pandas(cur)    \n",
    "    df['cnt'] = 1\n",
    "    df = df.groupby(['customerid','coupon_id'],as_index=False).count()\n",
    "    use_type = df.groupby('customerid',as_index=False).count()\n",
    "    use_type.drop('cnt',axis=1,inplace=True)\n",
    "    use_type.columns = ['customerid','use_coupon_type_cnt']\n",
    "    \n",
    "    # 4. 把上面几张表连起来\n",
    "    df = merge_table(used,use_com,'customerid','customerid')\n",
    "    df = pd.merge(df,use_type,how='left',left_on=['customerid','use_coupon_type_cnt'],right_on=['customerid','use_coupon_type_cnt'])    \n",
    "    cur.close()\n",
    "    conn.close()    \n",
    "    # 将中间结果暂存于Mysqldb中\n",
    "    conn = pymysql.connect(host=mysql_host,\n",
    "                                      port=mysql_port,\n",
    "                                      user=mysql_user,\n",
    "                                      password=mysql_password,\n",
    "                                      db=mysql_db,\n",
    "                                      charset=mysql_charset)\n",
    "    \n",
    "    df.to_sql(name=\"ljl_use_coupon\", con=conn, flavor='mysql', if_exists='replace', index=False)\n",
    "    conn.close()"
   ]
  },
  {
   "cell_type": "code",
   "execution_count": 6,
   "metadata": {
    "collapsed": false
   },
   "outputs": [],
   "source": [
    "use_coupon()"
   ]
  },
  {
   "cell_type": "markdown",
   "metadata": {},
   "source": [
    "### order_type这数据不能用"
   ]
  },
  {
   "cell_type": "code",
   "execution_count": 11,
   "metadata": {
    "collapsed": false
   },
   "outputs": [
    {
     "data": {
      "text/plain": [
       "1    55634\n",
       "0       42\n",
       "Name: order_type, dtype: int64"
      ]
     },
     "execution_count": 11,
     "metadata": {},
     "output_type": "execute_result"
    }
   ],
   "source": [
    "pd.value_counts(df['order_type'])"
   ]
  },
  {
   "cell_type": "markdown",
   "metadata": {},
   "source": [
    "## 1. 用户使用红包数据统计"
   ]
  },
  {
   "cell_type": "code",
   "execution_count": 69,
   "metadata": {
    "collapsed": false
   },
   "outputs": [
    {
     "data": {
      "text/html": [
       "<div>\n",
       "<table border=\"1\" class=\"dataframe\">\n",
       "  <thead>\n",
       "    <tr style=\"text-align: right;\">\n",
       "      <th></th>\n",
       "      <th>customerid</th>\n",
       "      <th>use_coupon_sum</th>\n",
       "      <th>use_coupon_order_sum</th>\n",
       "      <th>use_coupon_type_cnt</th>\n",
       "    </tr>\n",
       "  </thead>\n",
       "  <tbody>\n",
       "    <tr>\n",
       "      <th>0</th>\n",
       "      <td>1003913</td>\n",
       "      <td>200</td>\n",
       "      <td>2930</td>\n",
       "      <td>4</td>\n",
       "    </tr>\n",
       "    <tr>\n",
       "      <th>1</th>\n",
       "      <td>1006609</td>\n",
       "      <td>15</td>\n",
       "      <td>201</td>\n",
       "      <td>1</td>\n",
       "    </tr>\n",
       "    <tr>\n",
       "      <th>2</th>\n",
       "      <td>1018310</td>\n",
       "      <td>20</td>\n",
       "      <td>24</td>\n",
       "      <td>1</td>\n",
       "    </tr>\n",
       "    <tr>\n",
       "      <th>3</th>\n",
       "      <td>1019803</td>\n",
       "      <td>400</td>\n",
       "      <td>7042</td>\n",
       "      <td>2</td>\n",
       "    </tr>\n",
       "    <tr>\n",
       "      <th>4</th>\n",
       "      <td>1042787</td>\n",
       "      <td>30</td>\n",
       "      <td>32</td>\n",
       "      <td>1</td>\n",
       "    </tr>\n",
       "  </tbody>\n",
       "</table>\n",
       "</div>"
      ],
      "text/plain": [
       "  customerid  use_coupon_sum  use_coupon_order_sum  use_coupon_type_cnt\n",
       "0    1003913             200                  2930                    4\n",
       "1    1006609              15                   201                    1\n",
       "2    1018310              20                    24                    1\n",
       "3    1019803             400                  7042                    2\n",
       "4    1042787              30                    32                    1"
      ]
     },
     "execution_count": 69,
     "metadata": {},
     "output_type": "execute_result"
    }
   ],
   "source": [
    "df.head()"
   ]
  },
  {
   "cell_type": "markdown",
   "metadata": {},
   "source": [
    "## 2. 对每个用户使用最多红包的场所进行统计"
   ]
  },
  {
   "cell_type": "markdown",
   "metadata": {},
   "source": [
    "### 使用场所信息"
   ]
  },
  {
   "cell_type": "code",
   "execution_count": 78,
   "metadata": {
    "collapsed": false
   },
   "outputs": [
    {
     "data": {
      "text/html": [
       "<div>\n",
       "<table border=\"1\" class=\"dataframe\">\n",
       "  <thead>\n",
       "    <tr style=\"text-align: right;\">\n",
       "      <th></th>\n",
       "      <th>customerid</th>\n",
       "      <th>use_company_id</th>\n",
       "      <th>use_company_cnt</th>\n",
       "    </tr>\n",
       "  </thead>\n",
       "  <tbody>\n",
       "    <tr>\n",
       "      <th>0</th>\n",
       "      <td>1003913</td>\n",
       "      <td>4617</td>\n",
       "      <td>15</td>\n",
       "    </tr>\n",
       "    <tr>\n",
       "      <th>1</th>\n",
       "      <td>1006609</td>\n",
       "      <td>4270</td>\n",
       "      <td>1</td>\n",
       "    </tr>\n",
       "    <tr>\n",
       "      <th>2</th>\n",
       "      <td>1018310</td>\n",
       "      <td>642</td>\n",
       "      <td>1</td>\n",
       "    </tr>\n",
       "    <tr>\n",
       "      <th>3</th>\n",
       "      <td>1019803</td>\n",
       "      <td>4617</td>\n",
       "      <td>20</td>\n",
       "    </tr>\n",
       "    <tr>\n",
       "      <th>4</th>\n",
       "      <td>1042787</td>\n",
       "      <td>4984</td>\n",
       "      <td>1</td>\n",
       "    </tr>\n",
       "  </tbody>\n",
       "</table>\n",
       "</div>"
      ],
      "text/plain": [
       "  customerid use_company_id  use_company_cnt\n",
       "0    1003913           4617               15\n",
       "1    1006609           4270                1\n",
       "2    1018310            642                1\n",
       "3    1019803           4617               20\n",
       "4    1042787           4984                1"
      ]
     },
     "execution_count": 78,
     "metadata": {},
     "output_type": "execute_result"
    }
   ],
   "source": [
    "df.head()"
   ]
  },
  {
   "cell_type": "markdown",
   "metadata": {},
   "source": [
    "### 进行排序和去重"
   ]
  },
  {
   "cell_type": "code",
   "execution_count": 3,
   "metadata": {
    "collapsed": false
   },
   "outputs": [
    {
     "data": {
      "text/html": [
       "<div>\n",
       "<table border=\"1\" class=\"dataframe\">\n",
       "  <thead>\n",
       "    <tr style=\"text-align: right;\">\n",
       "      <th></th>\n",
       "      <th>customerid</th>\n",
       "      <th>use_company_id</th>\n",
       "      <th>use_company_cnt</th>\n",
       "    </tr>\n",
       "  </thead>\n",
       "  <tbody>\n",
       "    <tr>\n",
       "      <th>0</th>\n",
       "      <td>1003913</td>\n",
       "      <td>4617</td>\n",
       "      <td>15</td>\n",
       "    </tr>\n",
       "    <tr>\n",
       "      <th>1</th>\n",
       "      <td>1006609</td>\n",
       "      <td>4270</td>\n",
       "      <td>1</td>\n",
       "    </tr>\n",
       "    <tr>\n",
       "      <th>2</th>\n",
       "      <td>1018310</td>\n",
       "      <td>642</td>\n",
       "      <td>1</td>\n",
       "    </tr>\n",
       "    <tr>\n",
       "      <th>3</th>\n",
       "      <td>1019803</td>\n",
       "      <td>4617</td>\n",
       "      <td>20</td>\n",
       "    </tr>\n",
       "    <tr>\n",
       "      <th>4</th>\n",
       "      <td>1042787</td>\n",
       "      <td>4984</td>\n",
       "      <td>1</td>\n",
       "    </tr>\n",
       "  </tbody>\n",
       "</table>\n",
       "</div>"
      ],
      "text/plain": [
       "  customerid use_company_id  use_company_cnt\n",
       "0    1003913           4617               15\n",
       "1    1006609           4270                1\n",
       "2    1018310            642                1\n",
       "3    1019803           4617               20\n",
       "4    1042787           4984                1"
      ]
     },
     "execution_count": 3,
     "metadata": {},
     "output_type": "execute_result"
    }
   ],
   "source": [
    "df.head()"
   ]
  },
  {
   "cell_type": "markdown",
   "metadata": {},
   "source": [
    "### 验证每个用户只剩一条记录"
   ]
  },
  {
   "cell_type": "code",
   "execution_count": 5,
   "metadata": {
    "collapsed": false
   },
   "outputs": [
    {
     "data": {
      "text/plain": [
       "5957969    1\n",
       "6036584    1\n",
       "5851360    1\n",
       "6038525    1\n",
       "5661153    1\n",
       "5900763    1\n",
       "4554736    1\n",
       "5794584    1\n",
       "5794585    1\n",
       "5794586    1\n",
       "6134035    1\n",
       "6112423    1\n",
       "5904172    1\n",
       "5899932    1\n",
       "5837096    1\n",
       "6095873    1\n",
       "6031917    1\n",
       "5851363    1\n",
       "5938944    1\n",
       "5908571    1\n",
       "5958506    1\n",
       "6023829    1\n",
       "5878666    1\n",
       "6106120    1\n",
       "6023826    1\n",
       "5876263    1\n",
       "5958501    1\n",
       "6023822    1\n",
       "6130539    1\n",
       "5190754    1\n",
       "          ..\n",
       "5809540    1\n",
       "5772382    1\n",
       "6012992    1\n",
       "5878628    1\n",
       "6064014    1\n",
       "6066801    1\n",
       "6067363    1\n",
       "5794618    1\n",
       "6125345    1\n",
       "5867042    1\n",
       "5992472    1\n",
       "5902089    1\n",
       "5436561    1\n",
       "6134269    1\n",
       "5911602    1\n",
       "5951313    1\n",
       "6123749    1\n",
       "6143242    1\n",
       "6134263    1\n",
       "5900462    1\n",
       "6130545    1\n",
       "5953810    1\n",
       "6055669    1\n",
       "5841167    1\n",
       "5955116    1\n",
       "5841168    1\n",
       "6111126    1\n",
       "5834212    1\n",
       "5907471    1\n",
       "6136534    1\n",
       "Name: customerid, dtype: int64"
      ]
     },
     "execution_count": 5,
     "metadata": {},
     "output_type": "execute_result"
    }
   ],
   "source": [
    "pd.value_counts(df['customerid'])"
   ]
  },
  {
   "cell_type": "markdown",
   "metadata": {},
   "source": [
    "## 3.用户使用红包类型数统计"
   ]
  },
  {
   "cell_type": "code",
   "execution_count": 4,
   "metadata": {
    "collapsed": false
   },
   "outputs": [
    {
     "data": {
      "text/html": [
       "<div>\n",
       "<table border=\"1\" class=\"dataframe\">\n",
       "  <thead>\n",
       "    <tr style=\"text-align: right;\">\n",
       "      <th></th>\n",
       "      <th>customerid</th>\n",
       "      <th>use_coupon_type_cnt</th>\n",
       "    </tr>\n",
       "  </thead>\n",
       "  <tbody>\n",
       "    <tr>\n",
       "      <th>0</th>\n",
       "      <td>1003913</td>\n",
       "      <td>5</td>\n",
       "    </tr>\n",
       "    <tr>\n",
       "      <th>1</th>\n",
       "      <td>1006609</td>\n",
       "      <td>1</td>\n",
       "    </tr>\n",
       "    <tr>\n",
       "      <th>2</th>\n",
       "      <td>1018310</td>\n",
       "      <td>1</td>\n",
       "    </tr>\n",
       "    <tr>\n",
       "      <th>3</th>\n",
       "      <td>1019803</td>\n",
       "      <td>5</td>\n",
       "    </tr>\n",
       "    <tr>\n",
       "      <th>4</th>\n",
       "      <td>1042787</td>\n",
       "      <td>1</td>\n",
       "    </tr>\n",
       "  </tbody>\n",
       "</table>\n",
       "</div>"
      ],
      "text/plain": [
       "  customerid  use_coupon_type_cnt\n",
       "0    1003913                    5\n",
       "1    1006609                    1\n",
       "2    1018310                    1\n",
       "3    1019803                    5\n",
       "4    1042787                    1"
      ]
     },
     "execution_count": 4,
     "metadata": {},
     "output_type": "execute_result"
    }
   ],
   "source": [
    "df.head()"
   ]
  },
  {
   "cell_type": "code",
   "execution_count": 5,
   "metadata": {
    "collapsed": false
   },
   "outputs": [
    {
     "data": {
      "text/plain": [
       "(37383, 2)"
      ]
     },
     "execution_count": 5,
     "metadata": {},
     "output_type": "execute_result"
    }
   ],
   "source": [
    "df.shape"
   ]
  },
  {
   "cell_type": "markdown",
   "metadata": {},
   "source": [
    "## 4.把以上表连接起来"
   ]
  },
  {
   "cell_type": "code",
   "execution_count": 12,
   "metadata": {
    "collapsed": false
   },
   "outputs": [
    {
     "data": {
      "text/html": [
       "<div>\n",
       "<table border=\"1\" class=\"dataframe\">\n",
       "  <thead>\n",
       "    <tr style=\"text-align: right;\">\n",
       "      <th></th>\n",
       "      <th>customerid</th>\n",
       "      <th>use_coupon_sum</th>\n",
       "      <th>use_coupon_order_sum</th>\n",
       "      <th>use_coupon_type_cnt</th>\n",
       "      <th>use_company_id</th>\n",
       "      <th>use_company_cnt</th>\n",
       "    </tr>\n",
       "  </thead>\n",
       "  <tbody>\n",
       "    <tr>\n",
       "      <th>0</th>\n",
       "      <td>1003913</td>\n",
       "      <td>200</td>\n",
       "      <td>2930</td>\n",
       "      <td>4</td>\n",
       "      <td>4617</td>\n",
       "      <td>15</td>\n",
       "    </tr>\n",
       "    <tr>\n",
       "      <th>1</th>\n",
       "      <td>1006609</td>\n",
       "      <td>15</td>\n",
       "      <td>201</td>\n",
       "      <td>1</td>\n",
       "      <td>4270</td>\n",
       "      <td>1</td>\n",
       "    </tr>\n",
       "    <tr>\n",
       "      <th>2</th>\n",
       "      <td>1018310</td>\n",
       "      <td>20</td>\n",
       "      <td>24</td>\n",
       "      <td>1</td>\n",
       "      <td>642</td>\n",
       "      <td>1</td>\n",
       "    </tr>\n",
       "    <tr>\n",
       "      <th>3</th>\n",
       "      <td>1019803</td>\n",
       "      <td>400</td>\n",
       "      <td>7042</td>\n",
       "      <td>2</td>\n",
       "      <td>4617</td>\n",
       "      <td>20</td>\n",
       "    </tr>\n",
       "    <tr>\n",
       "      <th>4</th>\n",
       "      <td>1042787</td>\n",
       "      <td>30</td>\n",
       "      <td>32</td>\n",
       "      <td>1</td>\n",
       "      <td>4984</td>\n",
       "      <td>1</td>\n",
       "    </tr>\n",
       "  </tbody>\n",
       "</table>\n",
       "</div>"
      ],
      "text/plain": [
       "  customerid  use_coupon_sum  use_coupon_order_sum  use_coupon_type_cnt  \\\n",
       "0    1003913             200                  2930                    4   \n",
       "1    1006609              15                   201                    1   \n",
       "2    1018310              20                    24                    1   \n",
       "3    1019803             400                  7042                    2   \n",
       "4    1042787              30                    32                    1   \n",
       "\n",
       "  use_company_id  use_company_cnt  \n",
       "0           4617               15  \n",
       "1           4270                1  \n",
       "2            642                1  \n",
       "3           4617               20  \n",
       "4           4984                1  "
      ]
     },
     "execution_count": 12,
     "metadata": {},
     "output_type": "execute_result"
    }
   ],
   "source": [
    "df.head()"
   ]
  },
  {
   "cell_type": "code",
   "execution_count": 13,
   "metadata": {
    "collapsed": false
   },
   "outputs": [
    {
     "data": {
      "text/plain": [
       "(37383, 6)"
      ]
     },
     "execution_count": 13,
     "metadata": {},
     "output_type": "execute_result"
    }
   ],
   "source": [
    "df.shape"
   ]
  },
  {
   "cell_type": "code",
   "execution_count": null,
   "metadata": {
    "collapsed": true
   },
   "outputs": [],
   "source": []
  }
 ],
 "metadata": {
  "kernelspec": {
   "display_name": "Python 2",
   "language": "python",
   "name": "python2"
  },
  "language_info": {
   "codemirror_mode": {
    "name": "ipython",
    "version": 2
   },
   "file_extension": ".py",
   "mimetype": "text/x-python",
   "name": "python",
   "nbconvert_exporter": "python",
   "pygments_lexer": "ipython2",
   "version": "2.7.11"
  }
 },
 "nbformat": 4,
 "nbformat_minor": 0
}
