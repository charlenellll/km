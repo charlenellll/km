{
 "cells": [
  {
   "cell_type": "code",
   "execution_count": 1,
   "metadata": {
    "collapsed": true
   },
   "outputs": [],
   "source": [
    "# coding=utf-8\n",
    "\"\"\"\n",
    "Credit by Liao Jialing\n",
    "\n",
    "\"\"\"\n",
    "import pandas as pd\n",
    "import numpy as np\n",
    "from sklearn.cross_validation import train_test_split"
   ]
  },
  {
   "cell_type": "markdown",
   "metadata": {},
   "source": [
    "# 读入用户基本信息进行数据清洗，做one-hot处理等"
   ]
  },
  {
   "cell_type": "code",
   "execution_count": 2,
   "metadata": {
    "collapsed": false
   },
   "outputs": [
    {
     "name": "stderr",
     "output_type": "stream",
     "text": [
      "D:\\Users\\Jialing Liao\\AppData\\Local\\Continuum\\Anaconda2\\lib\\site-packages\\IPython\\core\\interactiveshell.py:2902: DtypeWarning: Columns (0,1,2,3,4,5,6,7,8) have mixed types. Specify dtype option on import or set low_memory=False.\n",
      "  interactivity=interactivity, compiler=compiler, result=result)\n"
     ]
    }
   ],
   "source": [
    "dataset = pd.read_csv('E:/user_all.csv')"
   ]
  },
  {
   "cell_type": "code",
   "execution_count": 3,
   "metadata": {
    "collapsed": false
   },
   "outputs": [],
   "source": [
    "dataset['member_age'] = 2017 - dataset['member_birthday'][dataset['member_birthday'].notnull()]"
   ]
  },
  {
   "cell_type": "code",
   "execution_count": 4,
   "metadata": {
    "collapsed": true
   },
   "outputs": [],
   "source": [
    "dataset['song_age'] = 2017 - dataset['year'][dataset['year'].notnull()]"
   ]
  },
  {
   "cell_type": "code",
   "execution_count": 5,
   "metadata": {
    "collapsed": false
   },
   "outputs": [
    {
     "name": "stdout",
     "output_type": "stream",
     "text": [
      "<class 'pandas.core.frame.DataFrame'>\n",
      "Int64Index: 503879 entries, 0 to 503878\n",
      "Columns: 114 entries, customerid to song_age\n",
      "dtypes: float64(105), object(9)\n",
      "memory usage: 442.1+ MB\n"
     ]
    }
   ],
   "source": [
    "dataset.info()"
   ]
  },
  {
   "cell_type": "code",
   "execution_count": 6,
   "metadata": {
    "collapsed": false
   },
   "outputs": [
    {
     "data": {
      "text/plain": [
       "67"
      ]
     },
     "execution_count": 6,
     "metadata": {},
     "output_type": "execute_result"
    }
   ],
   "source": [
    "len(pd.value_counts(dataset['member_age']))"
   ]
  },
  {
   "cell_type": "code",
   "execution_count": 7,
   "metadata": {
    "collapsed": false
   },
   "outputs": [
    {
     "data": {
      "text/plain": [
       "15559"
      ]
     },
     "execution_count": 7,
     "metadata": {},
     "output_type": "execute_result"
    }
   ],
   "source": [
    "dataset['member_age'].notnull().sum()"
   ]
  },
  {
   "cell_type": "code",
   "execution_count": 8,
   "metadata": {
    "collapsed": false
   },
   "outputs": [
    {
     "data": {
      "text/plain": [
       "41"
      ]
     },
     "execution_count": 8,
     "metadata": {},
     "output_type": "execute_result"
    }
   ],
   "source": [
    "len(pd.value_counts(dataset['song_age']))"
   ]
  },
  {
   "cell_type": "code",
   "execution_count": 9,
   "metadata": {
    "collapsed": false
   },
   "outputs": [
    {
     "data": {
      "text/plain": [
       "2300"
      ]
     },
     "execution_count": 9,
     "metadata": {},
     "output_type": "execute_result"
    }
   ],
   "source": [
    "dataset['song_age'].notnull().sum()"
   ]
  },
  {
   "cell_type": "markdown",
   "metadata": {},
   "source": [
    "## 填充缺失值"
   ]
  },
  {
   "cell_type": "code",
   "execution_count": 10,
   "metadata": {
    "collapsed": false,
    "scrolled": true
   },
   "outputs": [
    {
     "name": "stdout",
     "output_type": "stream",
     "text": [
      "registertime\n",
      "customer_status\n",
      "openid\n",
      "wechat_sex\n",
      "wechat_city\n",
      "wechat_province\n",
      "wechat_country\n",
      "kmid\n",
      "member_birthday\n",
      "km_sex\n",
      "accountcash\n",
      "accountbalance\n",
      "integralbalance\n",
      "consumetotal\n",
      "consumetimes\n",
      "lastconsume_diff_create_day\n",
      "lastconsume_diff_create_hour\n",
      "lastconsume_diff_now\n",
      "coupon_get_cnt\n",
      "coupon_get_sum\n",
      "source_company_id\n",
      "source_company_cnt\n",
      "get_coupon_type_cnt\n",
      "get_com_roomnum\n",
      "get_com_regioncode\n",
      "get_com_managetype\n",
      "get_com_vodsystemtype\n",
      "get_coupon_crosscom\n",
      "use_coupon_sum\n",
      "use_coupon_order_sum\n",
      "use_coupon_type_cnt\n",
      "use_company_id\n",
      "use_company_cnt\n",
      "des_cnt\n",
      "des_charge_sum\n",
      "des_procharge_sum\n",
      "des_reduce_sum\n",
      "des_realcharge_sum\n",
      "des_workday_cnt\n",
      "des_weekend_cnt\n",
      "des_work_realchargesum\n",
      "des_weekend_realchargesum\n",
      "des_charge_mean\n",
      "des_realcharge_mean\n",
      "des_guestnumber_mean\n",
      "des_guestnumber_max\n",
      "des_guestnumber_min\n",
      "des_charge_max\n",
      "des_charge_min\n",
      "des_realcharge_max\n",
      "des_realcharge_min\n",
      "use_time_sum\n",
      "des_beforedawn_cnt\n",
      "des_morning_cnt\n",
      "des_afternoon_cnt\n",
      "des_night_cnt\n",
      "des_use_beforedawn_cnt\n",
      "des_use_morning_cnt\n",
      "des_use_afternoon_cnt\n",
      "des_use_night_cnt\n",
      "des_use_beforedawn_realchargesum\n",
      "des_use_morning_realchargesum\n",
      "des_use_afternoon_realchargesum\n",
      "des_use_night_realchargesum\n",
      "des_use_reg\n",
      "des_companyid\n",
      "des_company_cnt\n",
      "des_com_roomnum\n",
      "des_com_managetype\n",
      "des_com_vodsystemtype\n",
      "des_com_regioncode\n",
      "des_large_cnt\n",
      "des_medium_cnt\n",
      "des_small_cnt\n",
      "des_reduce_cnt\n",
      "songid\n",
      "song_play_cnt\n",
      "year\n",
      "age_year\n",
      "age_lan\n",
      "shop_real_sum\n",
      "shop_original_sum\n",
      "shop_wine_cnt\n",
      "shop_cigarette_cnt\n",
      "shop_cnt\n",
      "shop_before_dawn_cnt\n",
      "shop_morning_cnt\n",
      "shop_afternoon_cnt\n",
      "shop_night_cnt\n",
      "shop_weekday_cnt\n",
      "shop_weekend_cnt\n",
      "shop_before_dawn_sum\n",
      "shop_morning_sum\n",
      "shop_afternoon_sum\n",
      "shop_night_sum\n",
      "shop_weekday_sum\n",
      "shop_weekend_sum\n",
      "shop_real_sum_avg\n",
      "shop_original_sum_avg\n",
      "shop_real_sum_max\n",
      "shop_original_sum_max\n",
      "shop_real_sum_min\n",
      "shop_original_sum_min\n",
      "shop_companyid\n",
      "shop_com_cnt\n",
      "shop_order_cnt\n",
      "shop_cross_com\n",
      "shop_com_roomnum\n",
      "shop_com_regioncode\n",
      "shop_com_managetype\n",
      "shop_com_vodsystemtype\n",
      "member_age\n",
      "song_age\n"
     ]
    }
   ],
   "source": [
    "for i in dataset.columns:\n",
    "    if dataset.shape[0] != dataset[i].notnull().sum():\n",
    "        print(i)"
   ]
  },
  {
   "cell_type": "code",
   "execution_count": 11,
   "metadata": {
    "collapsed": true
   },
   "outputs": [],
   "source": [
    "dataset.drop('registertime',axis=1,inplace=True)"
   ]
  },
  {
   "cell_type": "code",
   "execution_count": 12,
   "metadata": {
    "collapsed": false
   },
   "outputs": [
    {
     "data": {
      "text/plain": [
       "(503879, 113)"
      ]
     },
     "execution_count": 12,
     "metadata": {},
     "output_type": "execute_result"
    }
   ],
   "source": [
    "dataset.shape"
   ]
  },
  {
   "cell_type": "code",
   "execution_count": 13,
   "metadata": {
    "collapsed": false
   },
   "outputs": [
    {
     "data": {
      "text/plain": [
       "(503862, 113)"
      ]
     },
     "execution_count": 13,
     "metadata": {},
     "output_type": "execute_result"
    }
   ],
   "source": [
    "dataset.drop_duplicates('customerid').shape"
   ]
  },
  {
   "cell_type": "markdown",
   "metadata": {},
   "source": [
    "### customerid去重（对数据量几乎无影响）"
   ]
  },
  {
   "cell_type": "code",
   "execution_count": 14,
   "metadata": {
    "collapsed": true
   },
   "outputs": [],
   "source": [
    "dataset.drop_duplicates('customerid',inplace=True)"
   ]
  },
  {
   "cell_type": "code",
   "execution_count": 15,
   "metadata": {
    "collapsed": false
   },
   "outputs": [],
   "source": [
    "# for col in dataset.columns.values:\n",
    "#     print(col, dataset[col].notnull().sum())"
   ]
  },
  {
   "cell_type": "code",
   "execution_count": 16,
   "metadata": {
    "collapsed": false
   },
   "outputs": [
    {
     "data": {
      "text/plain": [
       "(503862, 113)"
      ]
     },
     "execution_count": 16,
     "metadata": {},
     "output_type": "execute_result"
    }
   ],
   "source": [
    "dataset.shape"
   ]
  },
  {
   "cell_type": "markdown",
   "metadata": {},
   "source": [
    "### customerid唯一且非空，可drop掉总表的kmid和openid"
   ]
  },
  {
   "cell_type": "code",
   "execution_count": 17,
   "metadata": {
    "collapsed": true
   },
   "outputs": [],
   "source": [
    "dataset.drop(['kmid','openid'],axis=1,inplace=True)"
   ]
  },
  {
   "cell_type": "markdown",
   "metadata": {},
   "source": [
    "### customer_status无区别，无用，弃之"
   ]
  },
  {
   "cell_type": "code",
   "execution_count": 18,
   "metadata": {
    "collapsed": false
   },
   "outputs": [],
   "source": [
    "dataset.drop('customer_status',axis=1,inplace=True)"
   ]
  },
  {
   "cell_type": "code",
   "execution_count": 19,
   "metadata": {
    "collapsed": false
   },
   "outputs": [
    {
     "data": {
      "text/plain": [
       "(503862, 110)"
      ]
     },
     "execution_count": 19,
     "metadata": {},
     "output_type": "execute_result"
    }
   ],
   "source": [
    "dataset.shape"
   ]
  },
  {
   "cell_type": "markdown",
   "metadata": {},
   "source": [
    "### wechat_city wechat_province wechat_country"
   ]
  },
  {
   "cell_type": "code",
   "execution_count": 20,
   "metadata": {
    "collapsed": false
   },
   "outputs": [],
   "source": [
    "for col in ['wechat_city','wechat_province','wechat_country']:\n",
    "    dataset[col].fillna('missing',inplace=True)"
   ]
  },
  {
   "cell_type": "code",
   "execution_count": 21,
   "metadata": {
    "collapsed": false
   },
   "outputs": [
    {
     "data": {
      "text/plain": [
       "(503862, 110)"
      ]
     },
     "execution_count": 21,
     "metadata": {},
     "output_type": "execute_result"
    }
   ],
   "source": [
    "dataset.shape"
   ]
  },
  {
   "cell_type": "code",
   "execution_count": 22,
   "metadata": {
    "collapsed": false,
    "scrolled": true
   },
   "outputs": [
    {
     "data": {
      "text/html": [
       "<div>\n",
       "<table border=\"1\" class=\"dataframe\">\n",
       "  <thead>\n",
       "    <tr style=\"text-align: right;\">\n",
       "      <th></th>\n",
       "      <th>customerid</th>\n",
       "      <th>wechat_sex</th>\n",
       "      <th>wechat_city</th>\n",
       "      <th>wechat_province</th>\n",
       "      <th>wechat_country</th>\n",
       "      <th>member_birthday</th>\n",
       "      <th>km_sex</th>\n",
       "      <th>accountcash</th>\n",
       "      <th>accountbalance</th>\n",
       "      <th>integralbalance</th>\n",
       "      <th>...</th>\n",
       "      <th>shop_companyid</th>\n",
       "      <th>shop_com_cnt</th>\n",
       "      <th>shop_order_cnt</th>\n",
       "      <th>shop_cross_com</th>\n",
       "      <th>shop_com_roomnum</th>\n",
       "      <th>shop_com_regioncode</th>\n",
       "      <th>shop_com_managetype</th>\n",
       "      <th>shop_com_vodsystemtype</th>\n",
       "      <th>member_age</th>\n",
       "      <th>song_age</th>\n",
       "    </tr>\n",
       "  </thead>\n",
       "  <tbody>\n",
       "    <tr>\n",
       "      <th>0</th>\n",
       "      <td>5792237</td>\n",
       "      <td>NaN</td>\n",
       "      <td>missing</td>\n",
       "      <td>missing</td>\n",
       "      <td>missing</td>\n",
       "      <td>NaN</td>\n",
       "      <td>NaN</td>\n",
       "      <td>NaN</td>\n",
       "      <td>NaN</td>\n",
       "      <td>NaN</td>\n",
       "      <td>...</td>\n",
       "      <td>NaN</td>\n",
       "      <td>NaN</td>\n",
       "      <td>NaN</td>\n",
       "      <td>NaN</td>\n",
       "      <td>NaN</td>\n",
       "      <td>NaN</td>\n",
       "      <td>NaN</td>\n",
       "      <td>NaN</td>\n",
       "      <td>NaN</td>\n",
       "      <td>NaN</td>\n",
       "    </tr>\n",
       "    <tr>\n",
       "      <th>1</th>\n",
       "      <td>5792238</td>\n",
       "      <td>NaN</td>\n",
       "      <td>missing</td>\n",
       "      <td>missing</td>\n",
       "      <td>missing</td>\n",
       "      <td>NaN</td>\n",
       "      <td>NaN</td>\n",
       "      <td>NaN</td>\n",
       "      <td>NaN</td>\n",
       "      <td>NaN</td>\n",
       "      <td>...</td>\n",
       "      <td>NaN</td>\n",
       "      <td>NaN</td>\n",
       "      <td>NaN</td>\n",
       "      <td>NaN</td>\n",
       "      <td>NaN</td>\n",
       "      <td>NaN</td>\n",
       "      <td>NaN</td>\n",
       "      <td>NaN</td>\n",
       "      <td>NaN</td>\n",
       "      <td>NaN</td>\n",
       "    </tr>\n",
       "    <tr>\n",
       "      <th>2</th>\n",
       "      <td>5792239</td>\n",
       "      <td>NaN</td>\n",
       "      <td>missing</td>\n",
       "      <td>missing</td>\n",
       "      <td>missing</td>\n",
       "      <td>NaN</td>\n",
       "      <td>NaN</td>\n",
       "      <td>NaN</td>\n",
       "      <td>NaN</td>\n",
       "      <td>NaN</td>\n",
       "      <td>...</td>\n",
       "      <td>NaN</td>\n",
       "      <td>NaN</td>\n",
       "      <td>NaN</td>\n",
       "      <td>NaN</td>\n",
       "      <td>NaN</td>\n",
       "      <td>NaN</td>\n",
       "      <td>NaN</td>\n",
       "      <td>NaN</td>\n",
       "      <td>NaN</td>\n",
       "      <td>NaN</td>\n",
       "    </tr>\n",
       "    <tr>\n",
       "      <th>3</th>\n",
       "      <td>5792241</td>\n",
       "      <td>NaN</td>\n",
       "      <td>missing</td>\n",
       "      <td>missing</td>\n",
       "      <td>missing</td>\n",
       "      <td>NaN</td>\n",
       "      <td>NaN</td>\n",
       "      <td>NaN</td>\n",
       "      <td>NaN</td>\n",
       "      <td>NaN</td>\n",
       "      <td>...</td>\n",
       "      <td>NaN</td>\n",
       "      <td>NaN</td>\n",
       "      <td>NaN</td>\n",
       "      <td>NaN</td>\n",
       "      <td>NaN</td>\n",
       "      <td>NaN</td>\n",
       "      <td>NaN</td>\n",
       "      <td>NaN</td>\n",
       "      <td>NaN</td>\n",
       "      <td>NaN</td>\n",
       "    </tr>\n",
       "    <tr>\n",
       "      <th>4</th>\n",
       "      <td>5792242</td>\n",
       "      <td>NaN</td>\n",
       "      <td>missing</td>\n",
       "      <td>missing</td>\n",
       "      <td>missing</td>\n",
       "      <td>NaN</td>\n",
       "      <td>NaN</td>\n",
       "      <td>NaN</td>\n",
       "      <td>NaN</td>\n",
       "      <td>NaN</td>\n",
       "      <td>...</td>\n",
       "      <td>NaN</td>\n",
       "      <td>NaN</td>\n",
       "      <td>NaN</td>\n",
       "      <td>NaN</td>\n",
       "      <td>NaN</td>\n",
       "      <td>NaN</td>\n",
       "      <td>NaN</td>\n",
       "      <td>NaN</td>\n",
       "      <td>NaN</td>\n",
       "      <td>NaN</td>\n",
       "    </tr>\n",
       "  </tbody>\n",
       "</table>\n",
       "<p>5 rows × 110 columns</p>\n",
       "</div>"
      ],
      "text/plain": [
       "  customerid wechat_sex wechat_city wechat_province wechat_country  \\\n",
       "0    5792237        NaN     missing         missing        missing   \n",
       "1    5792238        NaN     missing         missing        missing   \n",
       "2    5792239        NaN     missing         missing        missing   \n",
       "3    5792241        NaN     missing         missing        missing   \n",
       "4    5792242        NaN     missing         missing        missing   \n",
       "\n",
       "   member_birthday  km_sex  accountcash  accountbalance  integralbalance  \\\n",
       "0              NaN     NaN          NaN             NaN              NaN   \n",
       "1              NaN     NaN          NaN             NaN              NaN   \n",
       "2              NaN     NaN          NaN             NaN              NaN   \n",
       "3              NaN     NaN          NaN             NaN              NaN   \n",
       "4              NaN     NaN          NaN             NaN              NaN   \n",
       "\n",
       "     ...     shop_companyid  shop_com_cnt  shop_order_cnt  shop_cross_com  \\\n",
       "0    ...                NaN           NaN             NaN             NaN   \n",
       "1    ...                NaN           NaN             NaN             NaN   \n",
       "2    ...                NaN           NaN             NaN             NaN   \n",
       "3    ...                NaN           NaN             NaN             NaN   \n",
       "4    ...                NaN           NaN             NaN             NaN   \n",
       "\n",
       "   shop_com_roomnum  shop_com_regioncode  shop_com_managetype  \\\n",
       "0               NaN                  NaN                  NaN   \n",
       "1               NaN                  NaN                  NaN   \n",
       "2               NaN                  NaN                  NaN   \n",
       "3               NaN                  NaN                  NaN   \n",
       "4               NaN                  NaN                  NaN   \n",
       "\n",
       "   shop_com_vodsystemtype  member_age  song_age  \n",
       "0                     NaN         NaN       NaN  \n",
       "1                     NaN         NaN       NaN  \n",
       "2                     NaN         NaN       NaN  \n",
       "3                     NaN         NaN       NaN  \n",
       "4                     NaN         NaN       NaN  \n",
       "\n",
       "[5 rows x 110 columns]"
      ]
     },
     "execution_count": 22,
     "metadata": {},
     "output_type": "execute_result"
    }
   ],
   "source": [
    "dataset.head()"
   ]
  },
  {
   "cell_type": "markdown",
   "metadata": {},
   "source": [
    "### km_sex:1-男性，2-女性，0-未知"
   ]
  },
  {
   "cell_type": "code",
   "execution_count": 23,
   "metadata": {
    "collapsed": false
   },
   "outputs": [
    {
     "data": {
      "text/plain": [
       "1    8607\n",
       "2    6311\n",
       "0     641\n",
       "Name: km_sex, dtype: int64"
      ]
     },
     "execution_count": 23,
     "metadata": {},
     "output_type": "execute_result"
    }
   ],
   "source": [
    "pd.value_counts(dataset['km_sex'])"
   ]
  },
  {
   "cell_type": "markdown",
   "metadata": {},
   "source": [
    "### wechat_sex和km_sex合并为gender：1-男性，2-女性，0-未知（缺失值填0）"
   ]
  },
  {
   "cell_type": "code",
   "execution_count": 24,
   "metadata": {
    "collapsed": false,
    "scrolled": false
   },
   "outputs": [
    {
     "name": "stderr",
     "output_type": "stream",
     "text": [
      "D:\\Users\\Jialing Liao\\AppData\\Local\\Continuum\\Anaconda2\\lib\\site-packages\\ipykernel\\__main__.py:1: SettingWithCopyWarning: \n",
      "A value is trying to be set on a copy of a slice from a DataFrame\n",
      "\n",
      "See the caveats in the documentation: http://pandas.pydata.org/pandas-docs/stable/indexing.html#indexing-view-versus-copy\n",
      "  if __name__ == '__main__':\n"
     ]
    }
   ],
   "source": [
    "dataset['wechat_sex'][dataset['wechat_sex'].isnull()]=dataset['km_sex']"
   ]
  },
  {
   "cell_type": "code",
   "execution_count": 25,
   "metadata": {
    "collapsed": false
   },
   "outputs": [
    {
     "data": {
      "text/plain": [
       "0.0          51480\n",
       "0            23393\n",
       "1.0          11019\n",
       "2.0           8472\n",
       "1             1631\n",
       "2             1291\n",
       "-1               2\n",
       "dao              1\n",
       "pan              1\n",
       "慧子               1\n",
       "Z\\               1\n",
       "距离令人伤了神。         1\n",
       "Monaco           1\n",
       "a promise        1\n",
       "  mj             1\n",
       "Name: wechat_sex, dtype: int64"
      ]
     },
     "execution_count": 25,
     "metadata": {},
     "output_type": "execute_result"
    }
   ],
   "source": [
    "pd.value_counts(dataset['wechat_sex'])"
   ]
  },
  {
   "cell_type": "code",
   "execution_count": 26,
   "metadata": {
    "collapsed": true
   },
   "outputs": [],
   "source": [
    "dataset['gender'] = dataset['wechat_sex']\n",
    "dataset.drop(['wechat_sex','km_sex'],axis=1,inplace=True)"
   ]
  },
  {
   "cell_type": "code",
   "execution_count": 27,
   "metadata": {
    "collapsed": false
   },
   "outputs": [],
   "source": [
    "dataset['gender'].fillna(0,inplace=True)"
   ]
  },
  {
   "cell_type": "code",
   "execution_count": 28,
   "metadata": {
    "collapsed": true
   },
   "outputs": [],
   "source": [
    "def sex_encode(data):\n",
    "    if data==1:\n",
    "        return 1\n",
    "    elif data==2:\n",
    "        return 2\n",
    "    else:\n",
    "        return 0"
   ]
  },
  {
   "cell_type": "markdown",
   "metadata": {},
   "source": [
    "#### 清除脏数据"
   ]
  },
  {
   "cell_type": "code",
   "execution_count": 29,
   "metadata": {
    "collapsed": true
   },
   "outputs": [],
   "source": [
    "dataset['gender'] = map(sex_encode,dataset['gender'])"
   ]
  },
  {
   "cell_type": "code",
   "execution_count": 30,
   "metadata": {
    "collapsed": false
   },
   "outputs": [
    {
     "data": {
      "text/plain": [
       "0    484371\n",
       "1     11019\n",
       "2      8472\n",
       "Name: gender, dtype: int64"
      ]
     },
     "execution_count": 30,
     "metadata": {},
     "output_type": "execute_result"
    }
   ],
   "source": [
    "pd.value_counts(dataset['gender'])"
   ]
  },
  {
   "cell_type": "markdown",
   "metadata": {},
   "source": [
    "### 转换为0-男性，1-女性，2-未知（缺失值为2）"
   ]
  },
  {
   "cell_type": "code",
   "execution_count": 31,
   "metadata": {
    "collapsed": false
   },
   "outputs": [],
   "source": [
    "def transfer_gender(data):\n",
    "    if data==0:\n",
    "        return 2\n",
    "    elif data==1:\n",
    "        return 0\n",
    "    else:\n",
    "        return 1"
   ]
  },
  {
   "cell_type": "code",
   "execution_count": 32,
   "metadata": {
    "collapsed": true
   },
   "outputs": [],
   "source": [
    "dataset['gender'] = map(transfer_gender,dataset['gender'])"
   ]
  },
  {
   "cell_type": "code",
   "execution_count": 33,
   "metadata": {
    "collapsed": false
   },
   "outputs": [
    {
     "data": {
      "text/plain": [
       "2    484371\n",
       "0     11019\n",
       "1      8472\n",
       "Name: gender, dtype: int64"
      ]
     },
     "execution_count": 33,
     "metadata": {},
     "output_type": "execute_result"
    }
   ],
   "source": [
    "pd.value_counts(dataset['gender'])"
   ]
  },
  {
   "cell_type": "code",
   "execution_count": 34,
   "metadata": {
    "collapsed": false
   },
   "outputs": [
    {
     "data": {
      "text/plain": [
       "(503862, 109)"
      ]
     },
     "execution_count": 34,
     "metadata": {},
     "output_type": "execute_result"
    }
   ],
   "source": [
    "dataset.shape"
   ]
  },
  {
   "cell_type": "markdown",
   "metadata": {},
   "source": [
    "# checkpoint 1,暂存csv"
   ]
  },
  {
   "cell_type": "code",
   "execution_count": 35,
   "metadata": {
    "collapsed": true
   },
   "outputs": [],
   "source": [
    "# dataset.to_csv('E:/dataset_sex.csv',index=False)"
   ]
  },
  {
   "cell_type": "markdown",
   "metadata": {
    "collapsed": false
   },
   "source": [
    "#### wechat city粒度太细，数据太稀疏直接去掉"
   ]
  },
  {
   "cell_type": "code",
   "execution_count": 36,
   "metadata": {
    "collapsed": true
   },
   "outputs": [],
   "source": [
    "dataset.drop('wechat_city',axis=1,inplace=True)"
   ]
  },
  {
   "cell_type": "markdown",
   "metadata": {},
   "source": [
    "#### wechat_province"
   ]
  },
  {
   "cell_type": "code",
   "execution_count": 37,
   "metadata": {
    "collapsed": false
   },
   "outputs": [
    {
     "data": {
      "text/plain": [
       "503862"
      ]
     },
     "execution_count": 37,
     "metadata": {},
     "output_type": "execute_result"
    }
   ],
   "source": [
    "dataset['wechat_province'].notnull().sum() # 填充前的值"
   ]
  },
  {
   "cell_type": "code",
   "execution_count": 38,
   "metadata": {
    "collapsed": true
   },
   "outputs": [],
   "source": [
    "def province_encode(data):\n",
    "    province_set = ['辽宁','吉','黑龙江','河北','山西','陕西','山东','安徽','江苏','浙江','河南','湖北','湖南','江西',\n",
    "                    '台湾','福建','云南','海南','四川','贵州','广东','甘肃','青海','西藏','新疆','广西','内蒙古','宁夏',\n",
    "                    '北京','天津','上海','重庆']\n",
    "    if data in province_set:\n",
    "        return data\n",
    "    elif data == 'null' or data=='missing':\n",
    "        return '未知'\n",
    "    else:\n",
    "        return '国外'"
   ]
  },
  {
   "cell_type": "code",
   "execution_count": 39,
   "metadata": {
    "collapsed": false
   },
   "outputs": [],
   "source": [
    "dataset['wechat_province'] = map(province_encode,dataset['wechat_province'])"
   ]
  },
  {
   "cell_type": "code",
   "execution_count": 40,
   "metadata": {
    "collapsed": false,
    "scrolled": true
   },
   "outputs": [
    {
     "data": {
      "text/plain": [
       "未知     496867\n",
       "广东       2736\n",
       "上海       1070\n",
       "重庆        997\n",
       "国外        681\n",
       "福建        558\n",
       "四川        122\n",
       "湖南        108\n",
       "安徽         99\n",
       "湖北         74\n",
       "江苏         71\n",
       "浙江         66\n",
       "江西         50\n",
       "广西         47\n",
       "云南         46\n",
       "山东         37\n",
       "河南         35\n",
       "贵州         34\n",
       "北京         30\n",
       "辽宁         21\n",
       "海南         18\n",
       "陕西         16\n",
       "黑龙江        14\n",
       "河北         13\n",
       "甘肃         12\n",
       "内蒙古        10\n",
       "新疆         10\n",
       "山西          8\n",
       "天津          4\n",
       "西藏          4\n",
       "台湾          2\n",
       "青海          2\n",
       "Name: wechat_province, dtype: int64"
      ]
     },
     "execution_count": 40,
     "metadata": {},
     "output_type": "execute_result"
    }
   ],
   "source": [
    "pd.value_counts(dataset['wechat_province'])"
   ]
  },
  {
   "cell_type": "code",
   "execution_count": 41,
   "metadata": {
    "collapsed": true
   },
   "outputs": [],
   "source": [
    "# get_dummies\n",
    "wechat_province = pd.get_dummies(dataset.wechat_province)\n",
    "wechat_province = wechat_province.rename(columns=lambda x:'wechat_province_'+str(x))"
   ]
  },
  {
   "cell_type": "code",
   "execution_count": 42,
   "metadata": {
    "collapsed": true
   },
   "outputs": [],
   "source": [
    "dataset = pd.concat([dataset,wechat_province],axis=1)\n",
    "dataset.drop('wechat_province',axis=1,inplace=True)"
   ]
  },
  {
   "cell_type": "code",
   "execution_count": 43,
   "metadata": {
    "collapsed": false
   },
   "outputs": [
    {
     "data": {
      "text/html": [
       "<div>\n",
       "<table border=\"1\" class=\"dataframe\">\n",
       "  <thead>\n",
       "    <tr style=\"text-align: right;\">\n",
       "      <th></th>\n",
       "      <th>wechat_province_上海</th>\n",
       "      <th>wechat_province_云南</th>\n",
       "      <th>wechat_province_内蒙古</th>\n",
       "      <th>wechat_province_北京</th>\n",
       "      <th>wechat_province_台湾</th>\n",
       "      <th>wechat_province_四川</th>\n",
       "      <th>wechat_province_国外</th>\n",
       "      <th>wechat_province_天津</th>\n",
       "      <th>wechat_province_安徽</th>\n",
       "      <th>wechat_province_山东</th>\n",
       "      <th>...</th>\n",
       "      <th>wechat_province_湖南</th>\n",
       "      <th>wechat_province_甘肃</th>\n",
       "      <th>wechat_province_福建</th>\n",
       "      <th>wechat_province_西藏</th>\n",
       "      <th>wechat_province_贵州</th>\n",
       "      <th>wechat_province_辽宁</th>\n",
       "      <th>wechat_province_重庆</th>\n",
       "      <th>wechat_province_陕西</th>\n",
       "      <th>wechat_province_青海</th>\n",
       "      <th>wechat_province_黑龙江</th>\n",
       "    </tr>\n",
       "  </thead>\n",
       "  <tbody>\n",
       "    <tr>\n",
       "      <th>0</th>\n",
       "      <td>0</td>\n",
       "      <td>0</td>\n",
       "      <td>0</td>\n",
       "      <td>0</td>\n",
       "      <td>0</td>\n",
       "      <td>0</td>\n",
       "      <td>0</td>\n",
       "      <td>0</td>\n",
       "      <td>0</td>\n",
       "      <td>0</td>\n",
       "      <td>...</td>\n",
       "      <td>0</td>\n",
       "      <td>0</td>\n",
       "      <td>0</td>\n",
       "      <td>0</td>\n",
       "      <td>0</td>\n",
       "      <td>0</td>\n",
       "      <td>0</td>\n",
       "      <td>0</td>\n",
       "      <td>0</td>\n",
       "      <td>0</td>\n",
       "    </tr>\n",
       "    <tr>\n",
       "      <th>1</th>\n",
       "      <td>0</td>\n",
       "      <td>0</td>\n",
       "      <td>0</td>\n",
       "      <td>0</td>\n",
       "      <td>0</td>\n",
       "      <td>0</td>\n",
       "      <td>0</td>\n",
       "      <td>0</td>\n",
       "      <td>0</td>\n",
       "      <td>0</td>\n",
       "      <td>...</td>\n",
       "      <td>0</td>\n",
       "      <td>0</td>\n",
       "      <td>0</td>\n",
       "      <td>0</td>\n",
       "      <td>0</td>\n",
       "      <td>0</td>\n",
       "      <td>0</td>\n",
       "      <td>0</td>\n",
       "      <td>0</td>\n",
       "      <td>0</td>\n",
       "    </tr>\n",
       "    <tr>\n",
       "      <th>2</th>\n",
       "      <td>0</td>\n",
       "      <td>0</td>\n",
       "      <td>0</td>\n",
       "      <td>0</td>\n",
       "      <td>0</td>\n",
       "      <td>0</td>\n",
       "      <td>0</td>\n",
       "      <td>0</td>\n",
       "      <td>0</td>\n",
       "      <td>0</td>\n",
       "      <td>...</td>\n",
       "      <td>0</td>\n",
       "      <td>0</td>\n",
       "      <td>0</td>\n",
       "      <td>0</td>\n",
       "      <td>0</td>\n",
       "      <td>0</td>\n",
       "      <td>0</td>\n",
       "      <td>0</td>\n",
       "      <td>0</td>\n",
       "      <td>0</td>\n",
       "    </tr>\n",
       "    <tr>\n",
       "      <th>3</th>\n",
       "      <td>0</td>\n",
       "      <td>0</td>\n",
       "      <td>0</td>\n",
       "      <td>0</td>\n",
       "      <td>0</td>\n",
       "      <td>0</td>\n",
       "      <td>0</td>\n",
       "      <td>0</td>\n",
       "      <td>0</td>\n",
       "      <td>0</td>\n",
       "      <td>...</td>\n",
       "      <td>0</td>\n",
       "      <td>0</td>\n",
       "      <td>0</td>\n",
       "      <td>0</td>\n",
       "      <td>0</td>\n",
       "      <td>0</td>\n",
       "      <td>0</td>\n",
       "      <td>0</td>\n",
       "      <td>0</td>\n",
       "      <td>0</td>\n",
       "    </tr>\n",
       "    <tr>\n",
       "      <th>4</th>\n",
       "      <td>0</td>\n",
       "      <td>0</td>\n",
       "      <td>0</td>\n",
       "      <td>0</td>\n",
       "      <td>0</td>\n",
       "      <td>0</td>\n",
       "      <td>0</td>\n",
       "      <td>0</td>\n",
       "      <td>0</td>\n",
       "      <td>0</td>\n",
       "      <td>...</td>\n",
       "      <td>0</td>\n",
       "      <td>0</td>\n",
       "      <td>0</td>\n",
       "      <td>0</td>\n",
       "      <td>0</td>\n",
       "      <td>0</td>\n",
       "      <td>0</td>\n",
       "      <td>0</td>\n",
       "      <td>0</td>\n",
       "      <td>0</td>\n",
       "    </tr>\n",
       "  </tbody>\n",
       "</table>\n",
       "<p>5 rows × 32 columns</p>\n",
       "</div>"
      ],
      "text/plain": [
       "   wechat_province_上海  wechat_province_云南  wechat_province_内蒙古  \\\n",
       "0                   0                   0                    0   \n",
       "1                   0                   0                    0   \n",
       "2                   0                   0                    0   \n",
       "3                   0                   0                    0   \n",
       "4                   0                   0                    0   \n",
       "\n",
       "   wechat_province_北京  wechat_province_台湾  wechat_province_四川  \\\n",
       "0                   0                   0                   0   \n",
       "1                   0                   0                   0   \n",
       "2                   0                   0                   0   \n",
       "3                   0                   0                   0   \n",
       "4                   0                   0                   0   \n",
       "\n",
       "   wechat_province_国外  wechat_province_天津  wechat_province_安徽  \\\n",
       "0                   0                   0                   0   \n",
       "1                   0                   0                   0   \n",
       "2                   0                   0                   0   \n",
       "3                   0                   0                   0   \n",
       "4                   0                   0                   0   \n",
       "\n",
       "   wechat_province_山东         ...           wechat_province_湖南  \\\n",
       "0                   0         ...                            0   \n",
       "1                   0         ...                            0   \n",
       "2                   0         ...                            0   \n",
       "3                   0         ...                            0   \n",
       "4                   0         ...                            0   \n",
       "\n",
       "   wechat_province_甘肃  wechat_province_福建  wechat_province_西藏  \\\n",
       "0                   0                   0                   0   \n",
       "1                   0                   0                   0   \n",
       "2                   0                   0                   0   \n",
       "3                   0                   0                   0   \n",
       "4                   0                   0                   0   \n",
       "\n",
       "   wechat_province_贵州  wechat_province_辽宁  wechat_province_重庆  \\\n",
       "0                   0                   0                   0   \n",
       "1                   0                   0                   0   \n",
       "2                   0                   0                   0   \n",
       "3                   0                   0                   0   \n",
       "4                   0                   0                   0   \n",
       "\n",
       "   wechat_province_陕西  wechat_province_青海  wechat_province_黑龙江  \n",
       "0                   0                   0                    0  \n",
       "1                   0                   0                    0  \n",
       "2                   0                   0                    0  \n",
       "3                   0                   0                    0  \n",
       "4                   0                   0                    0  \n",
       "\n",
       "[5 rows x 32 columns]"
      ]
     },
     "execution_count": 43,
     "metadata": {},
     "output_type": "execute_result"
    }
   ],
   "source": [
    "wechat_province.head()"
   ]
  },
  {
   "cell_type": "code",
   "execution_count": 44,
   "metadata": {
    "collapsed": false
   },
   "outputs": [
    {
     "data": {
      "text/plain": [
       "(503862, 139)"
      ]
     },
     "execution_count": 44,
     "metadata": {},
     "output_type": "execute_result"
    }
   ],
   "source": [
    "dataset.shape"
   ]
  },
  {
   "cell_type": "code",
   "execution_count": 45,
   "metadata": {
    "collapsed": false
   },
   "outputs": [
    {
     "data": {
      "text/html": [
       "<div>\n",
       "<table border=\"1\" class=\"dataframe\">\n",
       "  <thead>\n",
       "    <tr style=\"text-align: right;\">\n",
       "      <th></th>\n",
       "      <th>customerid</th>\n",
       "      <th>wechat_country</th>\n",
       "      <th>member_birthday</th>\n",
       "      <th>accountcash</th>\n",
       "      <th>accountbalance</th>\n",
       "      <th>integralbalance</th>\n",
       "      <th>consumetotal</th>\n",
       "      <th>consumetimes</th>\n",
       "      <th>lastconsume_diff_create_day</th>\n",
       "      <th>lastconsume_diff_create_hour</th>\n",
       "      <th>...</th>\n",
       "      <th>wechat_province_湖南</th>\n",
       "      <th>wechat_province_甘肃</th>\n",
       "      <th>wechat_province_福建</th>\n",
       "      <th>wechat_province_西藏</th>\n",
       "      <th>wechat_province_贵州</th>\n",
       "      <th>wechat_province_辽宁</th>\n",
       "      <th>wechat_province_重庆</th>\n",
       "      <th>wechat_province_陕西</th>\n",
       "      <th>wechat_province_青海</th>\n",
       "      <th>wechat_province_黑龙江</th>\n",
       "    </tr>\n",
       "  </thead>\n",
       "  <tbody>\n",
       "    <tr>\n",
       "      <th>0</th>\n",
       "      <td>5792237</td>\n",
       "      <td>missing</td>\n",
       "      <td>NaN</td>\n",
       "      <td>NaN</td>\n",
       "      <td>NaN</td>\n",
       "      <td>NaN</td>\n",
       "      <td>NaN</td>\n",
       "      <td>NaN</td>\n",
       "      <td>NaN</td>\n",
       "      <td>NaN</td>\n",
       "      <td>...</td>\n",
       "      <td>0</td>\n",
       "      <td>0</td>\n",
       "      <td>0</td>\n",
       "      <td>0</td>\n",
       "      <td>0</td>\n",
       "      <td>0</td>\n",
       "      <td>0</td>\n",
       "      <td>0</td>\n",
       "      <td>0</td>\n",
       "      <td>0</td>\n",
       "    </tr>\n",
       "    <tr>\n",
       "      <th>1</th>\n",
       "      <td>5792238</td>\n",
       "      <td>missing</td>\n",
       "      <td>NaN</td>\n",
       "      <td>NaN</td>\n",
       "      <td>NaN</td>\n",
       "      <td>NaN</td>\n",
       "      <td>NaN</td>\n",
       "      <td>NaN</td>\n",
       "      <td>NaN</td>\n",
       "      <td>NaN</td>\n",
       "      <td>...</td>\n",
       "      <td>0</td>\n",
       "      <td>0</td>\n",
       "      <td>0</td>\n",
       "      <td>0</td>\n",
       "      <td>0</td>\n",
       "      <td>0</td>\n",
       "      <td>0</td>\n",
       "      <td>0</td>\n",
       "      <td>0</td>\n",
       "      <td>0</td>\n",
       "    </tr>\n",
       "    <tr>\n",
       "      <th>2</th>\n",
       "      <td>5792239</td>\n",
       "      <td>missing</td>\n",
       "      <td>NaN</td>\n",
       "      <td>NaN</td>\n",
       "      <td>NaN</td>\n",
       "      <td>NaN</td>\n",
       "      <td>NaN</td>\n",
       "      <td>NaN</td>\n",
       "      <td>NaN</td>\n",
       "      <td>NaN</td>\n",
       "      <td>...</td>\n",
       "      <td>0</td>\n",
       "      <td>0</td>\n",
       "      <td>0</td>\n",
       "      <td>0</td>\n",
       "      <td>0</td>\n",
       "      <td>0</td>\n",
       "      <td>0</td>\n",
       "      <td>0</td>\n",
       "      <td>0</td>\n",
       "      <td>0</td>\n",
       "    </tr>\n",
       "    <tr>\n",
       "      <th>3</th>\n",
       "      <td>5792241</td>\n",
       "      <td>missing</td>\n",
       "      <td>NaN</td>\n",
       "      <td>NaN</td>\n",
       "      <td>NaN</td>\n",
       "      <td>NaN</td>\n",
       "      <td>NaN</td>\n",
       "      <td>NaN</td>\n",
       "      <td>NaN</td>\n",
       "      <td>NaN</td>\n",
       "      <td>...</td>\n",
       "      <td>0</td>\n",
       "      <td>0</td>\n",
       "      <td>0</td>\n",
       "      <td>0</td>\n",
       "      <td>0</td>\n",
       "      <td>0</td>\n",
       "      <td>0</td>\n",
       "      <td>0</td>\n",
       "      <td>0</td>\n",
       "      <td>0</td>\n",
       "    </tr>\n",
       "    <tr>\n",
       "      <th>4</th>\n",
       "      <td>5792242</td>\n",
       "      <td>missing</td>\n",
       "      <td>NaN</td>\n",
       "      <td>NaN</td>\n",
       "      <td>NaN</td>\n",
       "      <td>NaN</td>\n",
       "      <td>NaN</td>\n",
       "      <td>NaN</td>\n",
       "      <td>NaN</td>\n",
       "      <td>NaN</td>\n",
       "      <td>...</td>\n",
       "      <td>0</td>\n",
       "      <td>0</td>\n",
       "      <td>0</td>\n",
       "      <td>0</td>\n",
       "      <td>0</td>\n",
       "      <td>0</td>\n",
       "      <td>0</td>\n",
       "      <td>0</td>\n",
       "      <td>0</td>\n",
       "      <td>0</td>\n",
       "    </tr>\n",
       "  </tbody>\n",
       "</table>\n",
       "<p>5 rows × 139 columns</p>\n",
       "</div>"
      ],
      "text/plain": [
       "  customerid wechat_country  member_birthday  accountcash  accountbalance  \\\n",
       "0    5792237        missing              NaN          NaN             NaN   \n",
       "1    5792238        missing              NaN          NaN             NaN   \n",
       "2    5792239        missing              NaN          NaN             NaN   \n",
       "3    5792241        missing              NaN          NaN             NaN   \n",
       "4    5792242        missing              NaN          NaN             NaN   \n",
       "\n",
       "   integralbalance  consumetotal  consumetimes  lastconsume_diff_create_day  \\\n",
       "0              NaN           NaN           NaN                          NaN   \n",
       "1              NaN           NaN           NaN                          NaN   \n",
       "2              NaN           NaN           NaN                          NaN   \n",
       "3              NaN           NaN           NaN                          NaN   \n",
       "4              NaN           NaN           NaN                          NaN   \n",
       "\n",
       "   lastconsume_diff_create_hour         ...           wechat_province_湖南  \\\n",
       "0                           NaN         ...                            0   \n",
       "1                           NaN         ...                            0   \n",
       "2                           NaN         ...                            0   \n",
       "3                           NaN         ...                            0   \n",
       "4                           NaN         ...                            0   \n",
       "\n",
       "   wechat_province_甘肃  wechat_province_福建  wechat_province_西藏  \\\n",
       "0                   0                   0                   0   \n",
       "1                   0                   0                   0   \n",
       "2                   0                   0                   0   \n",
       "3                   0                   0                   0   \n",
       "4                   0                   0                   0   \n",
       "\n",
       "   wechat_province_贵州  wechat_province_辽宁  wechat_province_重庆  \\\n",
       "0                   0                   0                   0   \n",
       "1                   0                   0                   0   \n",
       "2                   0                   0                   0   \n",
       "3                   0                   0                   0   \n",
       "4                   0                   0                   0   \n",
       "\n",
       "   wechat_province_陕西  wechat_province_青海  wechat_province_黑龙江  \n",
       "0                   0                   0                    0  \n",
       "1                   0                   0                    0  \n",
       "2                   0                   0                    0  \n",
       "3                   0                   0                    0  \n",
       "4                   0                   0                    0  \n",
       "\n",
       "[5 rows x 139 columns]"
      ]
     },
     "execution_count": 45,
     "metadata": {},
     "output_type": "execute_result"
    }
   ],
   "source": [
    "dataset.head()"
   ]
  },
  {
   "cell_type": "markdown",
   "metadata": {},
   "source": [
    "#### wechat_country"
   ]
  },
  {
   "cell_type": "code",
   "execution_count": 46,
   "metadata": {
    "collapsed": false
   },
   "outputs": [
    {
     "data": {
      "text/plain": [
       "503862"
      ]
     },
     "execution_count": 46,
     "metadata": {},
     "output_type": "execute_result"
    }
   ],
   "source": [
    "dataset['wechat_country'].notnull().sum() # 填充前的值"
   ]
  },
  {
   "cell_type": "code",
   "execution_count": 47,
   "metadata": {
    "collapsed": false,
    "scrolled": true
   },
   "outputs": [
    {
     "data": {
      "text/plain": [
       "missing     422443\n",
       "null         73783\n",
       "中国            6353\n",
       "-1             175\n",
       "韩国              78\n",
       "冰岛              65\n",
       "安道尔             57\n",
       "澳大利亚            49\n",
       "美国              45\n",
       "法国              39\n",
       "中国香港            37\n",
       "阿尔巴尼亚           32\n",
       "爱尔兰             31\n",
       "阿拉伯联合酋长国        27\n",
       "百慕大             27\n",
       "日本              27\n",
       "泽西岛             26\n",
       "阿尔及利亚           21\n",
       "阿鲁巴             18\n",
       "英国              18\n",
       "瑞士              17\n",
       "马尔代夫            17\n",
       "毛里求斯            16\n",
       "奥地利             15\n",
       "希腊              15\n",
       "不丹              13\n",
       "加拿大             13\n",
       "巴巴多斯岛           12\n",
       "智利              12\n",
       "意大利             12\n",
       "             ...  \n",
       "斯洛伐克             1\n",
       "利比里亚             1\n",
       "巴西               1\n",
       "斯洛文尼亚            1\n",
       "沙特阿拉伯            1\n",
       "克罗地亚             1\n",
       "哥斯达黎加            1\n",
       "格林纳达             1\n",
       "博茨瓦纳             1\n",
       "刚果民主共和国          1\n",
       "苏里南              1\n",
       "云南               1\n",
       "阿塞拜疆             1\n",
       "帕劳群岛             1\n",
       "蒙古               1\n",
       "汤加               1\n",
       "纳米比亚             1\n",
       "委内瑞拉             1\n",
       "塔吉克斯坦            1\n",
       "葡萄牙              1\n",
       "所罗门群岛            1\n",
       "匈牙利              1\n",
       "列支敦士登            1\n",
       "巴拿马              1\n",
       "毛里塔尼亚            1\n",
       "福建               1\n",
       "深圳               1\n",
       "格陵兰              1\n",
       "新喀里多尼亚           1\n",
       "伊朗               1\n",
       "Name: wechat_country, dtype: int64"
      ]
     },
     "execution_count": 47,
     "metadata": {},
     "output_type": "execute_result"
    }
   ],
   "source": [
    "pd.value_counts(dataset['wechat_country'])"
   ]
  },
  {
   "cell_type": "code",
   "execution_count": 48,
   "metadata": {
    "collapsed": false
   },
   "outputs": [],
   "source": [
    "def encode_country(data):\n",
    "    if data == '中国' or data == '中国香港':\n",
    "        return '中国'\n",
    "    elif data == 'missing' or data =='null':\n",
    "        return '未知'\n",
    "    else:\n",
    "        return '国外'"
   ]
  },
  {
   "cell_type": "code",
   "execution_count": 49,
   "metadata": {
    "collapsed": true
   },
   "outputs": [],
   "source": [
    "dataset['wechat_country'] = map(encode_country, dataset['wechat_country'])"
   ]
  },
  {
   "cell_type": "code",
   "execution_count": 50,
   "metadata": {
    "collapsed": false
   },
   "outputs": [
    {
     "data": {
      "text/plain": [
       "未知    496226\n",
       "中国      6390\n",
       "国外      1246\n",
       "Name: wechat_country, dtype: int64"
      ]
     },
     "execution_count": 50,
     "metadata": {},
     "output_type": "execute_result"
    }
   ],
   "source": [
    "pd.value_counts(dataset['wechat_country'])"
   ]
  },
  {
   "cell_type": "code",
   "execution_count": 51,
   "metadata": {
    "collapsed": true
   },
   "outputs": [],
   "source": [
    "wechat_country = pd.get_dummies(dataset.wechat_country)\n",
    "wechat_country = wechat_country.rename(columns=lambda x:'wechat_country_'+str(x))\n",
    "dataset = pd.concat([dataset,wechat_country],axis=1)\n",
    "dataset.drop('wechat_country',axis=1,inplace=True)"
   ]
  },
  {
   "cell_type": "code",
   "execution_count": 52,
   "metadata": {
    "collapsed": false
   },
   "outputs": [
    {
     "data": {
      "text/plain": [
       "(503862, 141)"
      ]
     },
     "execution_count": 52,
     "metadata": {},
     "output_type": "execute_result"
    }
   ],
   "source": [
    "dataset.shape"
   ]
  },
  {
   "cell_type": "code",
   "execution_count": 53,
   "metadata": {
    "collapsed": false
   },
   "outputs": [
    {
     "data": {
      "text/html": [
       "<div>\n",
       "<table border=\"1\" class=\"dataframe\">\n",
       "  <thead>\n",
       "    <tr style=\"text-align: right;\">\n",
       "      <th></th>\n",
       "      <th>customerid</th>\n",
       "      <th>member_birthday</th>\n",
       "      <th>accountcash</th>\n",
       "      <th>accountbalance</th>\n",
       "      <th>integralbalance</th>\n",
       "      <th>consumetotal</th>\n",
       "      <th>consumetimes</th>\n",
       "      <th>lastconsume_diff_create_day</th>\n",
       "      <th>lastconsume_diff_create_hour</th>\n",
       "      <th>lastconsume_diff_now</th>\n",
       "      <th>...</th>\n",
       "      <th>wechat_province_西藏</th>\n",
       "      <th>wechat_province_贵州</th>\n",
       "      <th>wechat_province_辽宁</th>\n",
       "      <th>wechat_province_重庆</th>\n",
       "      <th>wechat_province_陕西</th>\n",
       "      <th>wechat_province_青海</th>\n",
       "      <th>wechat_province_黑龙江</th>\n",
       "      <th>wechat_country_中国</th>\n",
       "      <th>wechat_country_国外</th>\n",
       "      <th>wechat_country_未知</th>\n",
       "    </tr>\n",
       "  </thead>\n",
       "  <tbody>\n",
       "    <tr>\n",
       "      <th>0</th>\n",
       "      <td>5792237</td>\n",
       "      <td>NaN</td>\n",
       "      <td>NaN</td>\n",
       "      <td>NaN</td>\n",
       "      <td>NaN</td>\n",
       "      <td>NaN</td>\n",
       "      <td>NaN</td>\n",
       "      <td>NaN</td>\n",
       "      <td>NaN</td>\n",
       "      <td>NaN</td>\n",
       "      <td>...</td>\n",
       "      <td>0</td>\n",
       "      <td>0</td>\n",
       "      <td>0</td>\n",
       "      <td>0</td>\n",
       "      <td>0</td>\n",
       "      <td>0</td>\n",
       "      <td>0</td>\n",
       "      <td>0</td>\n",
       "      <td>0</td>\n",
       "      <td>1</td>\n",
       "    </tr>\n",
       "    <tr>\n",
       "      <th>1</th>\n",
       "      <td>5792238</td>\n",
       "      <td>NaN</td>\n",
       "      <td>NaN</td>\n",
       "      <td>NaN</td>\n",
       "      <td>NaN</td>\n",
       "      <td>NaN</td>\n",
       "      <td>NaN</td>\n",
       "      <td>NaN</td>\n",
       "      <td>NaN</td>\n",
       "      <td>NaN</td>\n",
       "      <td>...</td>\n",
       "      <td>0</td>\n",
       "      <td>0</td>\n",
       "      <td>0</td>\n",
       "      <td>0</td>\n",
       "      <td>0</td>\n",
       "      <td>0</td>\n",
       "      <td>0</td>\n",
       "      <td>0</td>\n",
       "      <td>0</td>\n",
       "      <td>1</td>\n",
       "    </tr>\n",
       "    <tr>\n",
       "      <th>2</th>\n",
       "      <td>5792239</td>\n",
       "      <td>NaN</td>\n",
       "      <td>NaN</td>\n",
       "      <td>NaN</td>\n",
       "      <td>NaN</td>\n",
       "      <td>NaN</td>\n",
       "      <td>NaN</td>\n",
       "      <td>NaN</td>\n",
       "      <td>NaN</td>\n",
       "      <td>NaN</td>\n",
       "      <td>...</td>\n",
       "      <td>0</td>\n",
       "      <td>0</td>\n",
       "      <td>0</td>\n",
       "      <td>0</td>\n",
       "      <td>0</td>\n",
       "      <td>0</td>\n",
       "      <td>0</td>\n",
       "      <td>0</td>\n",
       "      <td>0</td>\n",
       "      <td>1</td>\n",
       "    </tr>\n",
       "    <tr>\n",
       "      <th>3</th>\n",
       "      <td>5792241</td>\n",
       "      <td>NaN</td>\n",
       "      <td>NaN</td>\n",
       "      <td>NaN</td>\n",
       "      <td>NaN</td>\n",
       "      <td>NaN</td>\n",
       "      <td>NaN</td>\n",
       "      <td>NaN</td>\n",
       "      <td>NaN</td>\n",
       "      <td>NaN</td>\n",
       "      <td>...</td>\n",
       "      <td>0</td>\n",
       "      <td>0</td>\n",
       "      <td>0</td>\n",
       "      <td>0</td>\n",
       "      <td>0</td>\n",
       "      <td>0</td>\n",
       "      <td>0</td>\n",
       "      <td>0</td>\n",
       "      <td>0</td>\n",
       "      <td>1</td>\n",
       "    </tr>\n",
       "    <tr>\n",
       "      <th>4</th>\n",
       "      <td>5792242</td>\n",
       "      <td>NaN</td>\n",
       "      <td>NaN</td>\n",
       "      <td>NaN</td>\n",
       "      <td>NaN</td>\n",
       "      <td>NaN</td>\n",
       "      <td>NaN</td>\n",
       "      <td>NaN</td>\n",
       "      <td>NaN</td>\n",
       "      <td>NaN</td>\n",
       "      <td>...</td>\n",
       "      <td>0</td>\n",
       "      <td>0</td>\n",
       "      <td>0</td>\n",
       "      <td>0</td>\n",
       "      <td>0</td>\n",
       "      <td>0</td>\n",
       "      <td>0</td>\n",
       "      <td>0</td>\n",
       "      <td>0</td>\n",
       "      <td>1</td>\n",
       "    </tr>\n",
       "  </tbody>\n",
       "</table>\n",
       "<p>5 rows × 141 columns</p>\n",
       "</div>"
      ],
      "text/plain": [
       "  customerid  member_birthday  accountcash  accountbalance  integralbalance  \\\n",
       "0    5792237              NaN          NaN             NaN              NaN   \n",
       "1    5792238              NaN          NaN             NaN              NaN   \n",
       "2    5792239              NaN          NaN             NaN              NaN   \n",
       "3    5792241              NaN          NaN             NaN              NaN   \n",
       "4    5792242              NaN          NaN             NaN              NaN   \n",
       "\n",
       "   consumetotal  consumetimes  lastconsume_diff_create_day  \\\n",
       "0           NaN           NaN                          NaN   \n",
       "1           NaN           NaN                          NaN   \n",
       "2           NaN           NaN                          NaN   \n",
       "3           NaN           NaN                          NaN   \n",
       "4           NaN           NaN                          NaN   \n",
       "\n",
       "   lastconsume_diff_create_hour  lastconsume_diff_now        ...          \\\n",
       "0                           NaN                   NaN        ...           \n",
       "1                           NaN                   NaN        ...           \n",
       "2                           NaN                   NaN        ...           \n",
       "3                           NaN                   NaN        ...           \n",
       "4                           NaN                   NaN        ...           \n",
       "\n",
       "   wechat_province_西藏  wechat_province_贵州  wechat_province_辽宁  \\\n",
       "0                   0                   0                   0   \n",
       "1                   0                   0                   0   \n",
       "2                   0                   0                   0   \n",
       "3                   0                   0                   0   \n",
       "4                   0                   0                   0   \n",
       "\n",
       "   wechat_province_重庆  wechat_province_陕西  wechat_province_青海  \\\n",
       "0                   0                   0                   0   \n",
       "1                   0                   0                   0   \n",
       "2                   0                   0                   0   \n",
       "3                   0                   0                   0   \n",
       "4                   0                   0                   0   \n",
       "\n",
       "   wechat_province_黑龙江  wechat_country_中国  wechat_country_国外  \\\n",
       "0                    0                  0                  0   \n",
       "1                    0                  0                  0   \n",
       "2                    0                  0                  0   \n",
       "3                    0                  0                  0   \n",
       "4                    0                  0                  0   \n",
       "\n",
       "   wechat_country_未知  \n",
       "0                  1  \n",
       "1                  1  \n",
       "2                  1  \n",
       "3                  1  \n",
       "4                  1  \n",
       "\n",
       "[5 rows x 141 columns]"
      ]
     },
     "execution_count": 53,
     "metadata": {},
     "output_type": "execute_result"
    }
   ],
   "source": [
    "dataset.head()"
   ]
  },
  {
   "cell_type": "markdown",
   "metadata": {},
   "source": [
    "# checkpoint 2"
   ]
  },
  {
   "cell_type": "code",
   "execution_count": 54,
   "metadata": {
    "collapsed": true
   },
   "outputs": [],
   "source": [
    "# dataset.to_csv('E:/dataset_province_country.csv',index=False)"
   ]
  },
  {
   "cell_type": "markdown",
   "metadata": {},
   "source": [
    "### member_birthday"
   ]
  },
  {
   "cell_type": "code",
   "execution_count": 55,
   "metadata": {
    "collapsed": false
   },
   "outputs": [],
   "source": [
    "dataset.drop('member_birthday',axis=1,inplace=True)"
   ]
  },
  {
   "cell_type": "code",
   "execution_count": 56,
   "metadata": {
    "collapsed": false
   },
   "outputs": [
    {
     "data": {
      "text/plain": [
       "(503862, 140)"
      ]
     },
     "execution_count": 56,
     "metadata": {},
     "output_type": "execute_result"
    }
   ],
   "source": [
    "dataset.shape"
   ]
  },
  {
   "cell_type": "markdown",
   "metadata": {
    "collapsed": true
   },
   "source": [
    "### accountcash accountbalance integralbalance consumetotal consumetimes"
   ]
  },
  {
   "cell_type": "code",
   "execution_count": 57,
   "metadata": {
    "collapsed": false,
    "scrolled": true
   },
   "outputs": [
    {
     "name": "stdout",
     "output_type": "stream",
     "text": [
      "('accountcash', dtype('float64'))\n",
      "('accountbalance', dtype('float64'))\n",
      "('integralbalance', dtype('float64'))\n",
      "('consumetotal', dtype('float64'))\n",
      "('consumetimes', dtype('float64'))\n"
     ]
    }
   ],
   "source": [
    "for col in ['accountcash', 'accountbalance', 'integralbalance', 'consumetotal', 'consumetimes']:\n",
    "    print(col,dataset[col].dtypes)"
   ]
  },
  {
   "cell_type": "code",
   "execution_count": 58,
   "metadata": {
    "collapsed": true
   },
   "outputs": [],
   "source": [
    "for col in ['accountcash', 'accountbalance', 'integralbalance', 'consumetotal', 'consumetimes']:\n",
    "    dataset[col].fillna(0,inplace=True)"
   ]
  },
  {
   "cell_type": "code",
   "execution_count": 59,
   "metadata": {
    "collapsed": false,
    "scrolled": true
   },
   "outputs": [
    {
     "data": {
      "text/html": [
       "<div>\n",
       "<table border=\"1\" class=\"dataframe\">\n",
       "  <thead>\n",
       "    <tr style=\"text-align: right;\">\n",
       "      <th></th>\n",
       "      <th>customerid</th>\n",
       "      <th>accountcash</th>\n",
       "      <th>accountbalance</th>\n",
       "      <th>integralbalance</th>\n",
       "      <th>consumetotal</th>\n",
       "      <th>consumetimes</th>\n",
       "      <th>lastconsume_diff_create_day</th>\n",
       "      <th>lastconsume_diff_create_hour</th>\n",
       "      <th>lastconsume_diff_now</th>\n",
       "      <th>coupon_get_cnt</th>\n",
       "      <th>...</th>\n",
       "      <th>wechat_province_西藏</th>\n",
       "      <th>wechat_province_贵州</th>\n",
       "      <th>wechat_province_辽宁</th>\n",
       "      <th>wechat_province_重庆</th>\n",
       "      <th>wechat_province_陕西</th>\n",
       "      <th>wechat_province_青海</th>\n",
       "      <th>wechat_province_黑龙江</th>\n",
       "      <th>wechat_country_中国</th>\n",
       "      <th>wechat_country_国外</th>\n",
       "      <th>wechat_country_未知</th>\n",
       "    </tr>\n",
       "  </thead>\n",
       "  <tbody>\n",
       "    <tr>\n",
       "      <th>0</th>\n",
       "      <td>5792237</td>\n",
       "      <td>0</td>\n",
       "      <td>0</td>\n",
       "      <td>0</td>\n",
       "      <td>0</td>\n",
       "      <td>0</td>\n",
       "      <td>NaN</td>\n",
       "      <td>NaN</td>\n",
       "      <td>NaN</td>\n",
       "      <td>NaN</td>\n",
       "      <td>...</td>\n",
       "      <td>0</td>\n",
       "      <td>0</td>\n",
       "      <td>0</td>\n",
       "      <td>0</td>\n",
       "      <td>0</td>\n",
       "      <td>0</td>\n",
       "      <td>0</td>\n",
       "      <td>0</td>\n",
       "      <td>0</td>\n",
       "      <td>1</td>\n",
       "    </tr>\n",
       "    <tr>\n",
       "      <th>1</th>\n",
       "      <td>5792238</td>\n",
       "      <td>0</td>\n",
       "      <td>0</td>\n",
       "      <td>0</td>\n",
       "      <td>0</td>\n",
       "      <td>0</td>\n",
       "      <td>NaN</td>\n",
       "      <td>NaN</td>\n",
       "      <td>NaN</td>\n",
       "      <td>NaN</td>\n",
       "      <td>...</td>\n",
       "      <td>0</td>\n",
       "      <td>0</td>\n",
       "      <td>0</td>\n",
       "      <td>0</td>\n",
       "      <td>0</td>\n",
       "      <td>0</td>\n",
       "      <td>0</td>\n",
       "      <td>0</td>\n",
       "      <td>0</td>\n",
       "      <td>1</td>\n",
       "    </tr>\n",
       "    <tr>\n",
       "      <th>2</th>\n",
       "      <td>5792239</td>\n",
       "      <td>0</td>\n",
       "      <td>0</td>\n",
       "      <td>0</td>\n",
       "      <td>0</td>\n",
       "      <td>0</td>\n",
       "      <td>NaN</td>\n",
       "      <td>NaN</td>\n",
       "      <td>NaN</td>\n",
       "      <td>NaN</td>\n",
       "      <td>...</td>\n",
       "      <td>0</td>\n",
       "      <td>0</td>\n",
       "      <td>0</td>\n",
       "      <td>0</td>\n",
       "      <td>0</td>\n",
       "      <td>0</td>\n",
       "      <td>0</td>\n",
       "      <td>0</td>\n",
       "      <td>0</td>\n",
       "      <td>1</td>\n",
       "    </tr>\n",
       "    <tr>\n",
       "      <th>3</th>\n",
       "      <td>5792241</td>\n",
       "      <td>0</td>\n",
       "      <td>0</td>\n",
       "      <td>0</td>\n",
       "      <td>0</td>\n",
       "      <td>0</td>\n",
       "      <td>NaN</td>\n",
       "      <td>NaN</td>\n",
       "      <td>NaN</td>\n",
       "      <td>NaN</td>\n",
       "      <td>...</td>\n",
       "      <td>0</td>\n",
       "      <td>0</td>\n",
       "      <td>0</td>\n",
       "      <td>0</td>\n",
       "      <td>0</td>\n",
       "      <td>0</td>\n",
       "      <td>0</td>\n",
       "      <td>0</td>\n",
       "      <td>0</td>\n",
       "      <td>1</td>\n",
       "    </tr>\n",
       "    <tr>\n",
       "      <th>4</th>\n",
       "      <td>5792242</td>\n",
       "      <td>0</td>\n",
       "      <td>0</td>\n",
       "      <td>0</td>\n",
       "      <td>0</td>\n",
       "      <td>0</td>\n",
       "      <td>NaN</td>\n",
       "      <td>NaN</td>\n",
       "      <td>NaN</td>\n",
       "      <td>NaN</td>\n",
       "      <td>...</td>\n",
       "      <td>0</td>\n",
       "      <td>0</td>\n",
       "      <td>0</td>\n",
       "      <td>0</td>\n",
       "      <td>0</td>\n",
       "      <td>0</td>\n",
       "      <td>0</td>\n",
       "      <td>0</td>\n",
       "      <td>0</td>\n",
       "      <td>1</td>\n",
       "    </tr>\n",
       "  </tbody>\n",
       "</table>\n",
       "<p>5 rows × 140 columns</p>\n",
       "</div>"
      ],
      "text/plain": [
       "  customerid  accountcash  accountbalance  integralbalance  consumetotal  \\\n",
       "0    5792237            0               0                0             0   \n",
       "1    5792238            0               0                0             0   \n",
       "2    5792239            0               0                0             0   \n",
       "3    5792241            0               0                0             0   \n",
       "4    5792242            0               0                0             0   \n",
       "\n",
       "   consumetimes  lastconsume_diff_create_day  lastconsume_diff_create_hour  \\\n",
       "0             0                          NaN                           NaN   \n",
       "1             0                          NaN                           NaN   \n",
       "2             0                          NaN                           NaN   \n",
       "3             0                          NaN                           NaN   \n",
       "4             0                          NaN                           NaN   \n",
       "\n",
       "   lastconsume_diff_now  coupon_get_cnt        ...          \\\n",
       "0                   NaN             NaN        ...           \n",
       "1                   NaN             NaN        ...           \n",
       "2                   NaN             NaN        ...           \n",
       "3                   NaN             NaN        ...           \n",
       "4                   NaN             NaN        ...           \n",
       "\n",
       "   wechat_province_西藏  wechat_province_贵州  wechat_province_辽宁  \\\n",
       "0                   0                   0                   0   \n",
       "1                   0                   0                   0   \n",
       "2                   0                   0                   0   \n",
       "3                   0                   0                   0   \n",
       "4                   0                   0                   0   \n",
       "\n",
       "   wechat_province_重庆  wechat_province_陕西  wechat_province_青海  \\\n",
       "0                   0                   0                   0   \n",
       "1                   0                   0                   0   \n",
       "2                   0                   0                   0   \n",
       "3                   0                   0                   0   \n",
       "4                   0                   0                   0   \n",
       "\n",
       "   wechat_province_黑龙江  wechat_country_中国  wechat_country_国外  \\\n",
       "0                    0                  0                  0   \n",
       "1                    0                  0                  0   \n",
       "2                    0                  0                  0   \n",
       "3                    0                  0                  0   \n",
       "4                    0                  0                  0   \n",
       "\n",
       "   wechat_country_未知  \n",
       "0                  1  \n",
       "1                  1  \n",
       "2                  1  \n",
       "3                  1  \n",
       "4                  1  \n",
       "\n",
       "[5 rows x 140 columns]"
      ]
     },
     "execution_count": 59,
     "metadata": {},
     "output_type": "execute_result"
    }
   ],
   "source": [
    "dataset.head()"
   ]
  },
  {
   "cell_type": "markdown",
   "metadata": {},
   "source": [
    "### ？？？lastconsume_diff_create_day，lastconsume_diff_create_hour，lastconsume_diff_now"
   ]
  },
  {
   "cell_type": "code",
   "execution_count": 60,
   "metadata": {
    "collapsed": true
   },
   "outputs": [],
   "source": [
    "def clear_timedelta(data):\n",
    "    if data<0:\n",
    "        return 0\n",
    "    else:\n",
    "        return data"
   ]
  },
  {
   "cell_type": "code",
   "execution_count": 61,
   "metadata": {
    "collapsed": true
   },
   "outputs": [],
   "source": [
    "dataset['lastconsume_diff_create_day'] = map(clear_timedelta,dataset['lastconsume_diff_create_day'])"
   ]
  },
  {
   "cell_type": "code",
   "execution_count": 62,
   "metadata": {
    "collapsed": true
   },
   "outputs": [],
   "source": [
    "dataset['lastconsume_diff_now'] = map(clear_timedelta,dataset['lastconsume_diff_now'])"
   ]
  },
  {
   "cell_type": "markdown",
   "metadata": {},
   "source": [
    "### 这里填0真的好吗？？？？"
   ]
  },
  {
   "cell_type": "code",
   "execution_count": 63,
   "metadata": {
    "collapsed": true
   },
   "outputs": [],
   "source": [
    "for col in ['lastconsume_diff_create_day','lastconsume_diff_create_hour','lastconsume_diff_now']:\n",
    "    dataset[col].fillna(0,inplace=True)"
   ]
  },
  {
   "cell_type": "markdown",
   "metadata": {},
   "source": [
    "# checkpoint 3"
   ]
  },
  {
   "cell_type": "code",
   "execution_count": 64,
   "metadata": {
    "collapsed": true
   },
   "outputs": [],
   "source": [
    "# dataset.to_csv('E:/dataset_3.csv',index=False)"
   ]
  },
  {
   "cell_type": "markdown",
   "metadata": {},
   "source": [
    "### ？？？coupon_get_cnt coupon_get_sum source_company_cnt get_coupon_type_cnt get_com_roomnum get_coupon_crosscom "
   ]
  },
  {
   "cell_type": "code",
   "execution_count": 65,
   "metadata": {
    "collapsed": true
   },
   "outputs": [],
   "source": [
    "for col in ['coupon_get_cnt','coupon_get_sum','source_company_cnt','get_coupon_type_cnt','get_com_roomnum','get_coupon_crosscom']:\n",
    "    dataset[col].fillna(0,inplace=True)"
   ]
  },
  {
   "cell_type": "code",
   "execution_count": 66,
   "metadata": {
    "collapsed": false
   },
   "outputs": [
    {
     "data": {
      "text/plain": [
       "(503862, 140)"
      ]
     },
     "execution_count": 66,
     "metadata": {},
     "output_type": "execute_result"
    }
   ],
   "source": [
    "dataset.shape"
   ]
  },
  {
   "cell_type": "code",
   "execution_count": 67,
   "metadata": {
    "collapsed": false,
    "scrolled": false
   },
   "outputs": [],
   "source": [
    "# for col in ['coupon_get_cnt','coupon_get_sum','source_company_cnt','get_coupon_type_cnt','get_com_roomnum',\n",
    "#             'get_com_roomnum','get_coupon_crosscom']:\n",
    "#     print(col,pd.value_counts(dataset[col]))"
   ]
  },
  {
   "cell_type": "markdown",
   "metadata": {},
   "source": [
    "### ？？？use_coupon_sum  use_coupon_order_sum  use_coupon_type_cnt  use_company_cnt"
   ]
  },
  {
   "cell_type": "code",
   "execution_count": 68,
   "metadata": {
    "collapsed": true
   },
   "outputs": [],
   "source": [
    "for col in ['use_coupon_sum','use_coupon_order_sum','use_coupon_type_cnt','use_company_cnt']:\n",
    "    dataset[col].fillna(0,inplace=True)"
   ]
  },
  {
   "cell_type": "code",
   "execution_count": 69,
   "metadata": {
    "collapsed": false
   },
   "outputs": [
    {
     "data": {
      "text/plain": [
       "(503862, 140)"
      ]
     },
     "execution_count": 69,
     "metadata": {},
     "output_type": "execute_result"
    }
   ],
   "source": [
    "dataset.shape"
   ]
  },
  {
   "cell_type": "markdown",
   "metadata": {},
   "source": [
    "### source_company_id use_company_id填-1 后续怎么处理？？？"
   ]
  },
  {
   "cell_type": "code",
   "execution_count": 70,
   "metadata": {
    "collapsed": false
   },
   "outputs": [],
   "source": [
    "for col in ['source_company_id','use_company_id']:\n",
    "    dataset[col].fillna(-1,inplace=True)"
   ]
  },
  {
   "cell_type": "markdown",
   "metadata": {},
   "source": [
    "### get_com_regioncode get_com_managetype get_com_vodsystemtype"
   ]
  },
  {
   "cell_type": "code",
   "execution_count": 71,
   "metadata": {
    "collapsed": false
   },
   "outputs": [
    {
     "data": {
      "text/plain": [
       "440000    54870\n",
       "310000    22785\n",
       "500000    18474\n",
       "350000     5198\n",
       "Name: get_com_regioncode, dtype: int64"
      ]
     },
     "execution_count": 71,
     "metadata": {},
     "output_type": "execute_result"
    }
   ],
   "source": [
    "pd.value_counts(dataset['get_com_regioncode'])"
   ]
  },
  {
   "cell_type": "code",
   "execution_count": 72,
   "metadata": {
    "collapsed": false
   },
   "outputs": [
    {
     "data": {
      "text/plain": [
       "1    101038\n",
       "2       289\n",
       "Name: get_com_managetype, dtype: int64"
      ]
     },
     "execution_count": 72,
     "metadata": {},
     "output_type": "execute_result"
    }
   ],
   "source": [
    "pd.value_counts(dataset['get_com_managetype'])"
   ]
  },
  {
   "cell_type": "code",
   "execution_count": 73,
   "metadata": {
    "collapsed": false
   },
   "outputs": [
    {
     "data": {
      "text/plain": [
       "0    101327\n",
       "Name: get_com_vodsystemtype, dtype: int64"
      ]
     },
     "execution_count": 73,
     "metadata": {},
     "output_type": "execute_result"
    }
   ],
   "source": [
    "pd.value_counts(dataset['get_com_vodsystemtype'])"
   ]
  },
  {
   "cell_type": "code",
   "execution_count": 74,
   "metadata": {
    "collapsed": true
   },
   "outputs": [],
   "source": [
    "dataset.drop('get_com_vodsystemtype',axis=1,inplace=True)"
   ]
  },
  {
   "cell_type": "code",
   "execution_count": 75,
   "metadata": {
    "collapsed": true
   },
   "outputs": [],
   "source": [
    "for col in ['get_com_regioncode','get_com_managetype']:\n",
    "    dataset[col].fillna('not_known',inplace=True)"
   ]
  },
  {
   "cell_type": "code",
   "execution_count": 76,
   "metadata": {
    "collapsed": false
   },
   "outputs": [
    {
     "data": {
      "text/plain": [
       "(503862, 139)"
      ]
     },
     "execution_count": 76,
     "metadata": {},
     "output_type": "execute_result"
    }
   ],
   "source": [
    "dataset.shape"
   ]
  },
  {
   "cell_type": "code",
   "execution_count": 77,
   "metadata": {
    "collapsed": true
   },
   "outputs": [],
   "source": [
    "get_regioncode = pd.get_dummies(dataset.get_com_regioncode)\n",
    "get_regioncode = get_regioncode.rename(columns=lambda x:'get_com_regioncode_'+str(x))\n",
    "dataset = pd.concat([dataset,get_regioncode],axis=1)\n",
    "dataset.drop('get_com_regioncode',axis=1,inplace=True)"
   ]
  },
  {
   "cell_type": "code",
   "execution_count": 78,
   "metadata": {
    "collapsed": false
   },
   "outputs": [
    {
     "data": {
      "text/plain": [
       "(503862, 143)"
      ]
     },
     "execution_count": 78,
     "metadata": {},
     "output_type": "execute_result"
    }
   ],
   "source": [
    "dataset.shape"
   ]
  },
  {
   "cell_type": "code",
   "execution_count": 79,
   "metadata": {
    "collapsed": true
   },
   "outputs": [],
   "source": [
    "get_com_managetype = pd.get_dummies(dataset.get_com_managetype)\n",
    "get_com_managetype = get_com_managetype.rename(columns=lambda x:'get_com_managetype_'+str(x))\n",
    "dataset = pd.concat([dataset,get_com_managetype],axis=1)\n",
    "dataset.drop('get_com_managetype',axis=1,inplace=True)"
   ]
  },
  {
   "cell_type": "code",
   "execution_count": 80,
   "metadata": {
    "collapsed": false
   },
   "outputs": [
    {
     "data": {
      "text/plain": [
       "(503862, 145)"
      ]
     },
     "execution_count": 80,
     "metadata": {},
     "output_type": "execute_result"
    }
   ],
   "source": [
    "dataset.shape"
   ]
  },
  {
   "cell_type": "markdown",
   "metadata": {},
   "source": [
    "### des表大部分连续数据"
   ]
  },
  {
   "cell_type": "code",
   "execution_count": 81,
   "metadata": {
    "collapsed": true
   },
   "outputs": [],
   "source": [
    "for col in ['des_cnt','des_charge_sum','des_procharge_sum','des_reduce_sum','des_realcharge_sum','des_workday_cnt',\n",
    "            'des_weekend_cnt','des_work_realchargesum','des_weekend_realchargesum','des_charge_mean','des_realcharge_mean',\n",
    "            'des_guestnumber_mean','des_guestnumber_max','des_guestnumber_min','des_charge_max','des_charge_min',\n",
    "            'des_realcharge_max','des_realcharge_min','use_time_sum','des_beforedawn_cnt','des_morning_cnt',\n",
    "            'des_afternoon_cnt','des_night_cnt','des_use_beforedawn_cnt','des_use_morning_cnt','des_use_afternoon_cnt',\n",
    "            'des_use_night_cnt','des_use_beforedawn_realchargesum','des_use_morning_realchargesum',\n",
    "            'des_use_afternoon_realchargesum','des_use_night_realchargesum','des_company_cnt','des_com_roomnum','des_large_cnt',\n",
    "            'des_medium_cnt','des_small_cnt','des_reduce_cnt']:\n",
    "    dataset[col].fillna(0,inplace=True)"
   ]
  },
  {
   "cell_type": "code",
   "execution_count": 82,
   "metadata": {
    "collapsed": false
   },
   "outputs": [
    {
     "data": {
      "text/plain": [
       "(503862, 145)"
      ]
     },
     "execution_count": 82,
     "metadata": {},
     "output_type": "execute_result"
    }
   ],
   "source": [
    "dataset.shape"
   ]
  },
  {
   "cell_type": "markdown",
   "metadata": {},
   "source": [
    "### ???des_use_reg 每个用户平均预订包厢和使用包厢的天数差"
   ]
  },
  {
   "cell_type": "code",
   "execution_count": 83,
   "metadata": {
    "collapsed": true
   },
   "outputs": [],
   "source": [
    "def encode_negative(data):\n",
    "    if data<0:\n",
    "        return 0\n",
    "    else:\n",
    "        return data"
   ]
  },
  {
   "cell_type": "code",
   "execution_count": 84,
   "metadata": {
    "collapsed": true
   },
   "outputs": [],
   "source": [
    "dataset['des_use_reg'] = map(encode_negative,dataset['des_use_reg'])"
   ]
  },
  {
   "cell_type": "code",
   "execution_count": 85,
   "metadata": {
    "collapsed": true
   },
   "outputs": [],
   "source": [
    "dataset['des_use_reg'].fillna(0,inplace=True)"
   ]
  },
  {
   "cell_type": "code",
   "execution_count": 86,
   "metadata": {
    "collapsed": false,
    "scrolled": true
   },
   "outputs": [
    {
     "data": {
      "text/plain": [
       "0.000000    503728\n",
       "1.000000        51\n",
       "2.000000        22\n",
       "0.500000        11\n",
       "0.333333         8\n",
       "3.000000         6\n",
       "0.250000         4\n",
       "1.500000         4\n",
       "0.750000         3\n",
       "5.000000         3\n",
       "4.000000         2\n",
       "0.200000         2\n",
       "0.428571         2\n",
       "0.166667         2\n",
       "0.666667         2\n",
       "5.750000         1\n",
       "0.800000         1\n",
       "3.200000         1\n",
       "1.333333         1\n",
       "0.096774         1\n",
       "0.111111         1\n",
       "6.000000         1\n",
       "0.161191         1\n",
       "1.666667         1\n",
       "2.333333         1\n",
       "0.548387         1\n",
       "2.250000         1\n",
       "Name: des_use_reg, dtype: int64"
      ]
     },
     "execution_count": 86,
     "metadata": {},
     "output_type": "execute_result"
    }
   ],
   "source": [
    "pd.value_counts(dataset['des_use_reg'])"
   ]
  },
  {
   "cell_type": "markdown",
   "metadata": {},
   "source": [
    "### ???des_companyid"
   ]
  },
  {
   "cell_type": "code",
   "execution_count": 87,
   "metadata": {
    "collapsed": true
   },
   "outputs": [],
   "source": [
    "dataset['des_companyid'].fillna(-1,inplace=True)"
   ]
  },
  {
   "cell_type": "code",
   "execution_count": 88,
   "metadata": {
    "collapsed": false,
    "scrolled": true
   },
   "outputs": [
    {
     "data": {
      "text/plain": [
       "-1        502689\n",
       " 4018        227\n",
       " 5677        130\n",
       " 6131        114\n",
       " 6130         47\n",
       " 1727         44\n",
       " 8860         36\n",
       " 4800         34\n",
       " 5624         32\n",
       " 180          31\n",
       " 2131         26\n",
       " 7971         26\n",
       " 4831         25\n",
       " 8005         23\n",
       " 5401         18\n",
       " 10093        18\n",
       " 7688         15\n",
       " 4148         14\n",
       " 5046         11\n",
       " 7121         10\n",
       " 10629         9\n",
       " 3753          9\n",
       " 3868          9\n",
       " 3938          9\n",
       " 640           8\n",
       " 8879          8\n",
       " 2413          8\n",
       " 3705          8\n",
       " 6453          8\n",
       " 4202          7\n",
       "           ...  \n",
       " 2726          1\n",
       " 2748          1\n",
       " 8160          1\n",
       " 8158          1\n",
       " 8144          1\n",
       " 7598          1\n",
       " 7479          1\n",
       " 7030          1\n",
       " 6987          1\n",
       " 6500          1\n",
       " 6479          1\n",
       " 6307          1\n",
       " 6282          1\n",
       " 6227          1\n",
       " 9202          1\n",
       " 5833          1\n",
       " 10180         1\n",
       " 5608          1\n",
       " 5109          1\n",
       " 5021          1\n",
       " 4938          1\n",
       " 11291         1\n",
       " 4034          1\n",
       " 10235         1\n",
       " 3954          1\n",
       " 3919          1\n",
       " 3824          1\n",
       " 3239          1\n",
       " 2946          1\n",
       " 4397          1\n",
       "Name: des_companyid, dtype: int64"
      ]
     },
     "execution_count": 88,
     "metadata": {},
     "output_type": "execute_result"
    }
   ],
   "source": [
    "pd.value_counts(dataset['des_companyid'])"
   ]
  },
  {
   "cell_type": "code",
   "execution_count": 89,
   "metadata": {
    "collapsed": false
   },
   "outputs": [
    {
     "data": {
      "text/plain": [
       "117"
      ]
     },
     "execution_count": 89,
     "metadata": {},
     "output_type": "execute_result"
    }
   ],
   "source": [
    "len(pd.value_counts(dataset['des_companyid']))"
   ]
  },
  {
   "cell_type": "markdown",
   "metadata": {},
   "source": [
    "### des_com_managetype des_com_vodsystemtype des_com_regioncode数据太少，全部drop"
   ]
  },
  {
   "cell_type": "code",
   "execution_count": 90,
   "metadata": {
    "collapsed": false
   },
   "outputs": [
    {
     "data": {
      "text/plain": [
       "0    238\n",
       "2      2\n",
       "Name: des_com_vodsystemtype, dtype: int64"
      ]
     },
     "execution_count": 90,
     "metadata": {},
     "output_type": "execute_result"
    }
   ],
   "source": [
    "pd.value_counts(dataset['des_com_vodsystemtype'])"
   ]
  },
  {
   "cell_type": "code",
   "execution_count": 91,
   "metadata": {
    "collapsed": false
   },
   "outputs": [
    {
     "data": {
      "text/plain": [
       "1    240\n",
       "Name: des_com_managetype, dtype: int64"
      ]
     },
     "execution_count": 91,
     "metadata": {},
     "output_type": "execute_result"
    }
   ],
   "source": [
    "pd.value_counts(dataset['des_com_managetype'])"
   ]
  },
  {
   "cell_type": "code",
   "execution_count": 92,
   "metadata": {
    "collapsed": false
   },
   "outputs": [
    {
     "data": {
      "text/plain": [
       "440000    105\n",
       "500000     61\n",
       "350000     54\n",
       "310000     20\n",
       "Name: des_com_regioncode, dtype: int64"
      ]
     },
     "execution_count": 92,
     "metadata": {},
     "output_type": "execute_result"
    }
   ],
   "source": [
    "pd.value_counts(dataset['des_com_regioncode'])"
   ]
  },
  {
   "cell_type": "code",
   "execution_count": 93,
   "metadata": {
    "collapsed": true
   },
   "outputs": [],
   "source": [
    "dataset.drop(['des_com_vodsystemtype','des_com_managetype','des_com_regioncode'],axis=1,inplace=True)"
   ]
  },
  {
   "cell_type": "code",
   "execution_count": 94,
   "metadata": {
    "collapsed": false
   },
   "outputs": [
    {
     "data": {
      "text/plain": [
       "(503862, 142)"
      ]
     },
     "execution_count": 94,
     "metadata": {},
     "output_type": "execute_result"
    }
   ],
   "source": [
    "dataset.shape"
   ]
  },
  {
   "cell_type": "markdown",
   "metadata": {},
   "source": [
    "# checkpoint 4"
   ]
  },
  {
   "cell_type": "code",
   "execution_count": 95,
   "metadata": {
    "collapsed": true
   },
   "outputs": [],
   "source": [
    "# dataset.to_csv('E:/dataset4.csv',index=False)"
   ]
  },
  {
   "cell_type": "markdown",
   "metadata": {},
   "source": [
    "### song表的部分"
   ]
  },
  {
   "cell_type": "markdown",
   "metadata": {},
   "source": [
    "#### 不需要songid了"
   ]
  },
  {
   "cell_type": "code",
   "execution_count": 96,
   "metadata": {
    "collapsed": true
   },
   "outputs": [],
   "source": [
    "dataset.drop('songid',axis=1,inplace=True)"
   ]
  },
  {
   "cell_type": "code",
   "execution_count": 97,
   "metadata": {
    "collapsed": false
   },
   "outputs": [],
   "source": [
    "for col in ['age_year','age_lan']:\n",
    "    dataset[col].fillna('not_known',inplace=True)"
   ]
  },
  {
   "cell_type": "code",
   "execution_count": 98,
   "metadata": {
    "collapsed": false
   },
   "outputs": [
    {
     "data": {
      "text/plain": [
       "not_known    501562\n",
       "5.0            2013\n",
       "4.0             172\n",
       "3.0              79\n",
       "2.0              36\n",
       "Name: age_year, dtype: int64"
      ]
     },
     "execution_count": 98,
     "metadata": {},
     "output_type": "execute_result"
    }
   ],
   "source": [
    "pd.value_counts(dataset['age_year'])"
   ]
  },
  {
   "cell_type": "code",
   "execution_count": 99,
   "metadata": {
    "collapsed": false
   },
   "outputs": [
    {
     "data": {
      "text/plain": [
       "not_known    497245\n",
       "2.0            5672\n",
       "1.0             543\n",
       "3.0             402\n",
       "Name: age_lan, dtype: int64"
      ]
     },
     "execution_count": 99,
     "metadata": {},
     "output_type": "execute_result"
    }
   ],
   "source": [
    "pd.value_counts(dataset['age_lan'])"
   ]
  },
  {
   "cell_type": "code",
   "execution_count": 100,
   "metadata": {
    "collapsed": false
   },
   "outputs": [],
   "source": [
    "age_year = pd.get_dummies(dataset.age_year)\n",
    "age_year = age_year.rename(columns=lambda x:'age_from_song_year_cut_'+str(x))\n",
    "dataset = pd.concat([dataset,age_year],axis=1)\n",
    "dataset.drop('age_year',axis=1,inplace=True)"
   ]
  },
  {
   "cell_type": "code",
   "execution_count": 101,
   "metadata": {
    "collapsed": true
   },
   "outputs": [],
   "source": [
    "age_lan = pd.get_dummies(dataset.age_lan)\n",
    "age_lan = age_lan.rename(columns=lambda x:'age_from_song_language_'+str(x))\n",
    "dataset = pd.concat([dataset,age_lan],axis=1)\n",
    "dataset.drop('age_lan',axis=1,inplace=True)"
   ]
  },
  {
   "cell_type": "code",
   "execution_count": 102,
   "metadata": {
    "collapsed": true
   },
   "outputs": [],
   "source": [
    "dataset.drop('year',axis=1,inplace=True)"
   ]
  },
  {
   "cell_type": "code",
   "execution_count": 103,
   "metadata": {
    "collapsed": false
   },
   "outputs": [
    {
     "data": {
      "text/plain": [
       "(503862, 147)"
      ]
     },
     "execution_count": 103,
     "metadata": {},
     "output_type": "execute_result"
    }
   ],
   "source": [
    "dataset.shape"
   ]
  },
  {
   "cell_type": "code",
   "execution_count": 104,
   "metadata": {
    "collapsed": false
   },
   "outputs": [],
   "source": [
    "dataset['song_age'].fillna(999,inplace=True)"
   ]
  },
  {
   "cell_type": "markdown",
   "metadata": {},
   "source": [
    "### song表最后一项和shop表大部分连续数据"
   ]
  },
  {
   "cell_type": "code",
   "execution_count": 105,
   "metadata": {
    "collapsed": true
   },
   "outputs": [],
   "source": [
    "for col in ['song_play_cnt','shop_real_sum','shop_original_sum','shop_wine_cnt','shop_cigarette_cnt','shop_cnt',\n",
    "'shop_before_dawn_cnt','shop_morning_cnt','shop_afternoon_cnt','shop_night_cnt','shop_weekday_cnt',\n",
    "'shop_weekend_cnt','shop_before_dawn_sum','shop_morning_sum','shop_afternoon_sum','shop_night_sum',\n",
    "'shop_weekday_sum','shop_weekend_sum','shop_real_sum_avg','shop_original_sum_avg','shop_real_sum_max',\n",
    "'shop_original_sum_max','shop_real_sum_min','shop_original_sum_min','shop_com_cnt','shop_order_cnt',\n",
    "'shop_cross_com','shop_com_roomnum']:\n",
    "    dataset[col].fillna(0,inplace=True)"
   ]
  },
  {
   "cell_type": "code",
   "execution_count": 106,
   "metadata": {
    "collapsed": false
   },
   "outputs": [
    {
     "data": {
      "text/plain": [
       "(503862, 147)"
      ]
     },
     "execution_count": 106,
     "metadata": {},
     "output_type": "execute_result"
    }
   ],
   "source": [
    "dataset.shape"
   ]
  },
  {
   "cell_type": "code",
   "execution_count": 107,
   "metadata": {
    "collapsed": false
   },
   "outputs": [],
   "source": [
    "dataset['shop_companyid'].fillna(-1,inplace=True)"
   ]
  },
  {
   "cell_type": "markdown",
   "metadata": {},
   "source": [
    "### ???shop_com_regioncode shop_com_managetype shop_com_vodsystemtype"
   ]
  },
  {
   "cell_type": "code",
   "execution_count": 108,
   "metadata": {
    "collapsed": false
   },
   "outputs": [
    {
     "data": {
      "text/plain": [
       "440000    27324\n",
       "310000    10559\n",
       "500000     8572\n",
       "350000     3507\n",
       "Name: shop_com_regioncode, dtype: int64"
      ]
     },
     "execution_count": 108,
     "metadata": {},
     "output_type": "execute_result"
    }
   ],
   "source": [
    "pd.value_counts(dataset['shop_com_regioncode'])"
   ]
  },
  {
   "cell_type": "code",
   "execution_count": 109,
   "metadata": {
    "collapsed": false
   },
   "outputs": [
    {
     "data": {
      "text/plain": [
       "1    49812\n",
       "2      150\n",
       "Name: shop_com_managetype, dtype: int64"
      ]
     },
     "execution_count": 109,
     "metadata": {},
     "output_type": "execute_result"
    }
   ],
   "source": [
    "pd.value_counts(dataset['shop_com_managetype'])"
   ]
  },
  {
   "cell_type": "code",
   "execution_count": 110,
   "metadata": {
    "collapsed": false
   },
   "outputs": [
    {
     "data": {
      "text/plain": [
       "0    49962\n",
       "Name: shop_com_vodsystemtype, dtype: int64"
      ]
     },
     "execution_count": 110,
     "metadata": {},
     "output_type": "execute_result"
    }
   ],
   "source": [
    "pd.value_counts(dataset['shop_com_vodsystemtype'])"
   ]
  },
  {
   "cell_type": "code",
   "execution_count": 111,
   "metadata": {
    "collapsed": true
   },
   "outputs": [],
   "source": [
    "dataset.drop('shop_com_vodsystemtype',axis=1,inplace=True)"
   ]
  },
  {
   "cell_type": "code",
   "execution_count": 112,
   "metadata": {
    "collapsed": false
   },
   "outputs": [
    {
     "data": {
      "text/plain": [
       "(503862, 146)"
      ]
     },
     "execution_count": 112,
     "metadata": {},
     "output_type": "execute_result"
    }
   ],
   "source": [
    "dataset.shape"
   ]
  },
  {
   "cell_type": "code",
   "execution_count": 113,
   "metadata": {
    "collapsed": true
   },
   "outputs": [],
   "source": [
    "for col in ['shop_com_regioncode','shop_com_managetype']:\n",
    "    dataset[col].fillna('not_known',inplace=True)"
   ]
  },
  {
   "cell_type": "code",
   "execution_count": 114,
   "metadata": {
    "collapsed": true
   },
   "outputs": [],
   "source": [
    "shop_com_regioncode = pd.get_dummies(dataset.shop_com_regioncode)\n",
    "shop_com_regioncode = shop_com_regioncode.rename(columns=lambda x:'shop_com_regioncode_'+str(x))\n",
    "dataset = pd.concat([dataset,shop_com_regioncode],axis=1)\n",
    "dataset.drop('shop_com_regioncode',axis=1,inplace=True)"
   ]
  },
  {
   "cell_type": "code",
   "execution_count": 115,
   "metadata": {
    "collapsed": false
   },
   "outputs": [],
   "source": [
    "shop_com_managetype = pd.get_dummies(dataset.shop_com_managetype)\n",
    "shop_com_managetype = shop_com_managetype.rename(columns=lambda x:'shop_com_managetype_'+str(x))\n",
    "dataset = pd.concat([dataset,shop_com_managetype],axis=1)\n",
    "dataset.drop('shop_com_managetype',axis=1,inplace=True)"
   ]
  },
  {
   "cell_type": "code",
   "execution_count": 116,
   "metadata": {
    "collapsed": false
   },
   "outputs": [
    {
     "data": {
      "text/plain": [
       "(503862, 152)"
      ]
     },
     "execution_count": 116,
     "metadata": {},
     "output_type": "execute_result"
    }
   ],
   "source": [
    "dataset.shape"
   ]
  },
  {
   "cell_type": "code",
   "execution_count": 117,
   "metadata": {
    "collapsed": false
   },
   "outputs": [
    {
     "data": {
      "text/plain": [
       "(503862, 3)"
      ]
     },
     "execution_count": 117,
     "metadata": {},
     "output_type": "execute_result"
    }
   ],
   "source": [
    "shop_com_managetype.shape"
   ]
  },
  {
   "cell_type": "code",
   "execution_count": 118,
   "metadata": {
    "collapsed": false
   },
   "outputs": [
    {
     "data": {
      "text/plain": [
       "(503862, 5)"
      ]
     },
     "execution_count": 118,
     "metadata": {},
     "output_type": "execute_result"
    }
   ],
   "source": [
    "shop_com_regioncode.shape"
   ]
  },
  {
   "cell_type": "code",
   "execution_count": 119,
   "metadata": {
    "collapsed": true
   },
   "outputs": [],
   "source": [
    "dataset['member_age'].fillna(0,inplace=True)"
   ]
  },
  {
   "cell_type": "markdown",
   "metadata": {},
   "source": [
    "# 暂存用户数据清理后的表，连续值没有处理"
   ]
  },
  {
   "cell_type": "code",
   "execution_count": 120,
   "metadata": {
    "collapsed": true
   },
   "outputs": [],
   "source": [
    "dataset.to_csv('E:/user_all_cleared.csv',index=False)"
   ]
  },
  {
   "cell_type": "markdown",
   "metadata": {},
   "source": [
    "# 查看连续值和离散值个数"
   ]
  },
  {
   "cell_type": "code",
   "execution_count": 121,
   "metadata": {
    "collapsed": false,
    "scrolled": false
   },
   "outputs": [
    {
     "name": "stdout",
     "output_type": "stream",
     "text": [
      "--------Sequential:--------\n",
      "customerid\n",
      "accountcash\n",
      "accountbalance\n",
      "integralbalance\n",
      "consumetotal\n",
      "consumetimes\n",
      "lastconsume_diff_create_day\n",
      "lastconsume_diff_create_hour\n",
      "lastconsume_diff_now\n",
      "coupon_get_cnt\n",
      "coupon_get_sum\n",
      "source_company_id\n",
      "source_company_cnt\n",
      "get_coupon_type_cnt\n",
      "get_com_roomnum\n",
      "use_coupon_sum\n",
      "use_coupon_order_sum\n",
      "use_company_id\n",
      "use_company_cnt\n",
      "des_cnt\n",
      "des_charge_sum\n",
      "des_procharge_sum\n",
      "des_reduce_sum\n",
      "des_realcharge_sum\n",
      "des_workday_cnt\n",
      "des_work_realchargesum\n",
      "des_weekend_realchargesum\n",
      "des_charge_mean\n",
      "des_realcharge_mean\n",
      "des_guestnumber_mean\n",
      "des_guestnumber_max\n",
      "des_guestnumber_min\n",
      "des_charge_max\n",
      "des_charge_min\n",
      "des_realcharge_max\n",
      "des_realcharge_min\n",
      "use_time_sum\n",
      "des_afternoon_cnt\n",
      "des_use_night_cnt\n",
      "des_use_beforedawn_realchargesum\n",
      "des_use_morning_realchargesum\n",
      "des_use_afternoon_realchargesum\n",
      "des_use_night_realchargesum\n",
      "des_use_reg\n",
      "des_companyid\n",
      "des_company_cnt\n",
      "des_com_roomnum\n",
      "song_play_cnt\n",
      "shop_real_sum\n",
      "shop_original_sum\n",
      "shop_cnt\n",
      "shop_before_dawn_cnt\n",
      "shop_morning_cnt\n",
      "shop_afternoon_cnt\n",
      "shop_night_cnt\n",
      "shop_weekday_cnt\n",
      "shop_weekend_cnt\n",
      "shop_before_dawn_sum\n",
      "shop_morning_sum\n",
      "shop_afternoon_sum\n",
      "shop_night_sum\n",
      "shop_weekday_sum\n",
      "shop_weekend_sum\n",
      "shop_real_sum_avg\n",
      "shop_original_sum_avg\n",
      "shop_real_sum_max\n",
      "shop_original_sum_max\n",
      "shop_real_sum_min\n",
      "shop_original_sum_min\n",
      "shop_companyid\n",
      "shop_com_cnt\n",
      "shop_order_cnt\n",
      "shop_com_roomnum\n",
      "member_age\n",
      "song_age\n",
      "------------------------------\n",
      "('sequential_cnt:', 75)\n",
      "('discrete_cnt:', 77)\n",
      "--------Discrete:----------\n",
      "get_coupon_crosscom\n",
      "use_coupon_type_cnt\n",
      "des_weekend_cnt\n",
      "des_beforedawn_cnt\n",
      "des_morning_cnt\n",
      "des_night_cnt\n",
      "des_use_beforedawn_cnt\n",
      "des_use_morning_cnt\n",
      "des_large_cnt\n",
      "des_medium_cnt\n",
      "des_small_cnt\n",
      "des_reduce_cnt\n",
      "shop_wine_cnt\n",
      "shop_cigarette_cnt\n",
      "shop_cross_com\n",
      "gender\n",
      "wechat_province_上海\n",
      "wechat_province_云南\n",
      "wechat_province_内蒙古\n",
      "wechat_province_北京\n",
      "wechat_province_台湾\n",
      "wechat_province_四川\n",
      "wechat_province_国外\n",
      "wechat_province_天津\n",
      "wechat_province_安徽\n",
      "wechat_province_山东\n",
      "wechat_province_山西\n",
      "wechat_province_广东\n",
      "wechat_province_广西\n",
      "wechat_province_新疆\n",
      "wechat_province_未知\n",
      "wechat_province_江苏\n",
      "wechat_province_江西\n",
      "wechat_province_河北\n",
      "wechat_province_河南\n",
      "wechat_province_浙江\n",
      "wechat_province_海南\n",
      "wechat_province_湖北\n",
      "wechat_province_湖南\n",
      "wechat_province_甘肃\n",
      "wechat_province_福建\n",
      "wechat_province_西藏\n",
      "wechat_province_贵州\n",
      "wechat_province_辽宁\n",
      "wechat_province_重庆\n",
      "wechat_province_陕西\n",
      "wechat_province_青海\n",
      "wechat_province_黑龙江\n",
      "wechat_country_中国\n",
      "wechat_country_国外\n",
      "wechat_country_未知\n",
      "get_com_regioncode_310000.0\n",
      "get_com_regioncode_350000.0\n",
      "get_com_regioncode_440000.0\n",
      "get_com_regioncode_500000.0\n",
      "get_com_regioncode_not_known\n",
      "get_com_managetype_1.0\n",
      "get_com_managetype_2.0\n",
      "get_com_managetype_not_known\n",
      "age_from_song_year_cut_2.0\n",
      "age_from_song_year_cut_3.0\n",
      "age_from_song_year_cut_4.0\n",
      "age_from_song_year_cut_5.0\n",
      "age_from_song_year_cut_not_known\n",
      "age_from_song_language_1.0\n",
      "age_from_song_language_2.0\n",
      "age_from_song_language_3.0\n",
      "age_from_song_language_not_known\n",
      "shop_com_regioncode_310000.0\n",
      "shop_com_regioncode_350000.0\n",
      "shop_com_regioncode_440000.0\n",
      "shop_com_regioncode_500000.0\n",
      "shop_com_regioncode_not_known\n",
      "shop_com_managetype_1.0\n",
      "shop_com_managetype_2.0\n",
      "shop_com_managetype_not_known\n"
     ]
    }
   ],
   "source": [
    "sequential_cnt = 0\n",
    "discrete_cnt = 0\n",
    "print('--------Sequential:--------')\n",
    "for col in dataset.columns:\n",
    "    if len(pd.value_counts(dataset[col])) > 10:\n",
    "        sequential_cnt += 1\n",
    "        print(col)\n",
    "    else:\n",
    "        discrete_cnt += 1\n",
    "print('------------------------------')\n",
    "print('sequential_cnt:',sequential_cnt)\n",
    "print('discrete_cnt:',discrete_cnt)\n",
    "print('--------Discrete:----------')\n",
    "for col in dataset.columns:\n",
    "    if len(pd.value_counts(dataset[col])) < 10:\n",
    "        print(col)"
   ]
  },
  {
   "cell_type": "code",
   "execution_count": null,
   "metadata": {
    "collapsed": true
   },
   "outputs": [],
   "source": []
  }
 ],
 "metadata": {
  "kernelspec": {
   "display_name": "Python 2",
   "language": "python",
   "name": "python2"
  },
  "language_info": {
   "codemirror_mode": {
    "name": "ipython",
    "version": 2
   },
   "file_extension": ".py",
   "mimetype": "text/x-python",
   "name": "python",
   "nbconvert_exporter": "python",
   "pygments_lexer": "ipython2",
   "version": "2.7.13"
  }
 },
 "nbformat": 4,
 "nbformat_minor": 0
}
