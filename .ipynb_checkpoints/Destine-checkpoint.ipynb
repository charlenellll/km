{
 "cells": [
  {
   "cell_type": "code",
   "execution_count": 288,
   "metadata": {
    "collapsed": false
   },
   "outputs": [],
   "source": [
    "# coding:utf-8\n",
    "\"\"\"\n",
    "本篇为单独调试destine()函数的调试记录，后期将加入UserMainData\n",
    "\"\"\"\n",
    "import pandas as pd\n",
    "import numpy as np\n",
    "from impala.dbapi import connect\n",
    "from impala.util import as_pandas\n",
    "import cPickle\n",
    "import re\n",
    "import datetime as dt\n",
    "\n",
    "def easy_print(terms,tname, records=10): #逐条描述前五条记录，方便仔细查看表中值的特征\n",
    "    conn = connect(host='172.21.1.120', port=21050, user='udms', database='kmi_month') \n",
    "    cur = conn.cursor()     \n",
    "    \n",
    "    sql = 'SELECT ' + terms + ' FROM ' + tname + ' LIMIT 5' \n",
    "    cur.execute(sql)\n",
    "    read_in = as_pandas(cur)    \n",
    "    cur.close()\n",
    "    conn.close()\n",
    "    \n",
    "    #print in a format\n",
    "    columns = read_in.columns.values\n",
    "    values = read_in.values\n",
    "    records = []\n",
    "    for v in values:\n",
    "        records.append(zip(columns, v))\n",
    "    \n",
    "    for ix,r in enumerate(records):\n",
    "        print('----------第%s条记录--------' % (ix+1))\n",
    "        for k, v in r:\n",
    "            print('%s: %s' % (k, v))\n",
    "            \n",
    "def full_print(terms,tname): #打出全表所选列，以方便进行统计查看规律，决定处理方法\n",
    "    conn = connect(host='172.21.1.120', port=21050, user='udms', database='kmi_month') \n",
    "    cur = conn.cursor()     \n",
    "    \n",
    "    sql = 'SELECT ' + terms + ' FROM ' + tname\n",
    "    cur.execute(sql)\n",
    "    df = as_pandas(cur)\n",
    "    print df\n",
    "    cur.close()\n",
    "    conn.close()\n",
    "    \n",
    "def str_to_float(data):\n",
    "    return float(data)\n",
    "\n",
    "def convert_date_weekday(data):\n",
    "    data = pd.to_datetime(data, format='%Y-%m-%d')\n",
    "    return data.weekday()\n",
    "\n",
    "def is_large(data):\n",
    "    pattern = re.compile(r'大包')\n",
    "    if re.search(pattern,data):\n",
    "        return 1\n",
    "    else:\n",
    "        return 0\n",
    "    \n",
    "def is_medium(data):\n",
    "    pattern = re.compile(r'中包')\n",
    "    if re.search(pattern,data):\n",
    "        return 1\n",
    "    else:\n",
    "        return 0\n",
    "    \n",
    "def is_small(data):\n",
    "    pattern = re.compile(r'小包')\n",
    "    if re.search(pattern,data):\n",
    "        return 1\n",
    "    else:\n",
    "        return 0\n",
    "\n",
    "def is_reduce(data):\n",
    "    pattern = re.compile(r'免包厢费')\n",
    "    if re.search(pattern,data):\n",
    "        return 1\n",
    "    else:\n",
    "        return 0\n",
    "    \n",
    "def destine(): #包间消费信息统计\n",
    "    conn = connect(host='172.21.1.120', port=21050, user='udms', database='kmi_month') \n",
    "    cur = conn.cursor()    \n",
    "    \n",
    "#     # 1. 包间消费记录数据统计\n",
    "#     sql = 'SELECT customer_id as customerid,guest_number,destine_room_charge,protocol_room_charge,reduce_cost,used_date FROM km_tbl_des_destine_km'\n",
    "#     cur.execute(sql)\n",
    "#     df = as_pandas(cur)\n",
    "#     df['des_cnt'] = 1\n",
    "#     df['guest_number'] = map(str_to_float,df['guest_number'])\n",
    "#     df['destine_room_charge'] = map(str_to_float,df['destine_room_charge'])\n",
    "#     df['protocol_room_charge'] = map(str_to_float,df['protocol_room_charge'])\n",
    "#     df['reduce_cost'] = map(str_to_float,df['reduce_cost'])\n",
    "#     df['des_charge_sum'] = df['destine_room_charge']/df['guest_number']\n",
    "#     df['des_procharge_sum'] = df['protocol_room_charge']/df['guest_number']\n",
    "#     df['des_reduce_sum'] = df['reduce_cost']/df['guest_number']\n",
    "#     df['des_realcharge_sum'] = (df['destine_room_charge']-df['reduce_cost'])/df['guest_number']\n",
    "#     df['used_date'] = map(convert_date_weekday,df['used_date']) \n",
    "#     df['des_workday_cnt'] = map(int,df['used_date'].isin({0,1,2,3,4}))\n",
    "#     df['des_weekend_cnt'] = map(int,df['used_date'].isin({5,6}))\n",
    "#     df['des_work_realchargesum'] = df['des_realcharge_sum']*df['des_workday_cnt']\n",
    "#     df['des_weekend_realchargesum'] = df['des_realcharge_sum']*df['des_weekend_cnt']\n",
    "#     df.drop('used_date',axis=1,inplace=True)\n",
    "#     # 求和\n",
    "#     df1 = df.groupby('customerid',as_index=False).sum()\n",
    "#     drop_columns = ['destine_room_charge','protocol_room_charge','reduce_cost']\n",
    "#     df1.drop(drop_columns,axis=1,inplace=True)\n",
    "#     # 求平均值\n",
    "#     df1['des_charge_mean'] = df1['des_charge_sum']/df1['des_cnt']\n",
    "#     df1['des_realcharge_mean'] = df1['des_realcharge_sum']/df1['des_cnt']\n",
    "#     df1['des_guestnumber_mean'] = df1['guest_number']/df1['des_cnt']\n",
    "#     df1.drop('guest_number',axis=1,inplace=True)\n",
    "    \n",
    "#     # 求最大值和最小值\n",
    "#     drop_columns = [ 'destine_room_charge','protocol_room_charge', 'reduce_cost', 'des_cnt', 'des_procharge_sum', \n",
    "#                     'des_reduce_sum','des_workday_cnt', 'des_weekend_cnt', 'des_work_realchargesum','des_weekend_realchargesum']\n",
    "#     df2 = df.drop(drop_columns,axis=1)\n",
    "#     # guest_number最大最小值\n",
    "#     df4 = df2.drop(['des_charge_sum','des_realcharge_sum'],axis=1)\n",
    "#     df4 = df4.sort_values(['customerid','guest_number'],ascending=[1,0])\n",
    "#     df3 = df4.drop_duplicates(subset='customerid')\n",
    "#     df3.columns = ['customerid','des_guestnumber_max']\n",
    "#     df4.drop_duplicates(subset='customerid',keep='last',inplace=True)\n",
    "#     df4.columns = ['customerid','des_guestnumber_min']    \n",
    "#     # des_charge_max,des_charge_min\n",
    "#     df6 = df2.drop(['guest_number','des_realcharge_sum'],axis=1)\n",
    "#     df6 = df6.sort_values(['customerid','des_charge_sum'],ascending=[1,0])\n",
    "#     df5 = df6.drop_duplicates(subset='customerid')\n",
    "#     df5.columns = ['customerid','des_charge_max']\n",
    "#     df6.drop_duplicates(subset='customerid',keep='last',inplace=True)\n",
    "#     df6.columns = ['customerid','des_charge_min']         \n",
    "#     # des_realcharge_max,des_real_charge_min\n",
    "#     df8 = df2.drop(['guest_number','des_charge_sum'],axis=1)\n",
    "#     df8 = df8.sort_values(['customerid','des_realcharge_sum'],ascending=[1,0])\n",
    "#     df7 = df8.drop_duplicates(subset='customerid')\n",
    "#     df7.columns = ['customerid','des_realcharge_max']\n",
    "#     df8.drop_duplicates(subset='customerid',keep='last',inplace=True)\n",
    "#     df8.columns = ['customerid','des_realcharge_min']    \n",
    "\n",
    "#     # merge所有中间表\n",
    "#     df = pd.merge(df3,df4,how='outer',left_on='customerid',right_on='customerid')\n",
    "#     df9 = pd.merge(df5,df6,how='outer',left_on='customerid',right_on='customerid')\n",
    "#     df10 = pd.merge(df7,df8,how='outer',left_on='customerid',right_on='customerid')\n",
    "#     df = pd.merge(df,df9,how='outer',left_on='customerid',right_on='customerid')\n",
    "#     df = pd.merge(df,df10,how='outer',left_on='customerid',right_on='customerid')\n",
    "#     df = pd.merge(df1,df,how='outer',left_on='customerid',right_on='customerid')\n",
    "#     des_stat = df\n",
    "    \n",
    "    # 2. 包厢类型统计\n",
    "    sql = 'SELECT customer_id as customerid,buy_break_name FROM km_tbl_des_destine_km'\n",
    "    cur.execute(sql)\n",
    "    df = as_pandas(cur)    \n",
    "    df['des_large_cnt'] = map(is_large,df['buy_break_name'])\n",
    "    df['des_medium_cnt'] = map(is_medium,df['buy_break_name'])\n",
    "    df['des_small_cnt'] = map(is_small,df['buy_break_name'])\n",
    "    df['des_reduce_cnt'] = map(is_reduce,df['buy_break_name'])\n",
    "    df.drop('buy_break_name',axis=1,inplace=True)\n",
    "    des_type = df.groupby('customerid',as_index=False).sum()\n",
    "    \n",
    "    cur.close()\n",
    "    conn.close()\n",
    "    return des_type"
   ]
  },
  {
   "cell_type": "code",
   "execution_count": 289,
   "metadata": {
    "collapsed": false
   },
   "outputs": [],
   "source": [
    "df = destine()"
   ]
  },
  {
   "cell_type": "code",
   "execution_count": 290,
   "metadata": {
    "collapsed": false
   },
   "outputs": [
    {
     "data": {
      "text/html": [
       "<div>\n",
       "<table border=\"1\" class=\"dataframe\">\n",
       "  <thead>\n",
       "    <tr style=\"text-align: right;\">\n",
       "      <th></th>\n",
       "      <th>customerid</th>\n",
       "      <th>des_large_cnt</th>\n",
       "      <th>des_medium_cnt</th>\n",
       "      <th>des_small_cnt</th>\n",
       "      <th>des_reduce_cnt</th>\n",
       "    </tr>\n",
       "  </thead>\n",
       "  <tbody>\n",
       "    <tr>\n",
       "      <th>0</th>\n",
       "      <td>0</td>\n",
       "      <td>139</td>\n",
       "      <td>1105</td>\n",
       "      <td>1073</td>\n",
       "      <td>0</td>\n",
       "    </tr>\n",
       "    <tr>\n",
       "      <th>1</th>\n",
       "      <td>1008882</td>\n",
       "      <td>0</td>\n",
       "      <td>0</td>\n",
       "      <td>0</td>\n",
       "      <td>0</td>\n",
       "    </tr>\n",
       "    <tr>\n",
       "      <th>2</th>\n",
       "      <td>104173</td>\n",
       "      <td>0</td>\n",
       "      <td>0</td>\n",
       "      <td>0</td>\n",
       "      <td>0</td>\n",
       "    </tr>\n",
       "    <tr>\n",
       "      <th>3</th>\n",
       "      <td>1043</td>\n",
       "      <td>0</td>\n",
       "      <td>0</td>\n",
       "      <td>0</td>\n",
       "      <td>0</td>\n",
       "    </tr>\n",
       "    <tr>\n",
       "      <th>4</th>\n",
       "      <td>105051</td>\n",
       "      <td>0</td>\n",
       "      <td>0</td>\n",
       "      <td>0</td>\n",
       "      <td>0</td>\n",
       "    </tr>\n",
       "  </tbody>\n",
       "</table>\n",
       "</div>"
      ],
      "text/plain": [
       "  customerid  des_large_cnt  des_medium_cnt  des_small_cnt  des_reduce_cnt\n",
       "0          0            139            1105           1073               0\n",
       "1    1008882              0               0              0               0\n",
       "2     104173              0               0              0               0\n",
       "3       1043              0               0              0               0\n",
       "4     105051              0               0              0               0"
      ]
     },
     "execution_count": 290,
     "metadata": {},
     "output_type": "execute_result"
    }
   ],
   "source": [
    "df.head()"
   ]
  },
  {
   "cell_type": "code",
   "execution_count": null,
   "metadata": {
    "collapsed": true
   },
   "outputs": [],
   "source": []
  },
  {
   "cell_type": "markdown",
   "metadata": {},
   "source": [
    "# df2"
   ]
  },
  {
   "cell_type": "code",
   "execution_count": 223,
   "metadata": {
    "collapsed": false
   },
   "outputs": [
    {
     "data": {
      "text/html": [
       "<div>\n",
       "<table border=\"1\" class=\"dataframe\">\n",
       "  <thead>\n",
       "    <tr style=\"text-align: right;\">\n",
       "      <th></th>\n",
       "      <th>customerid</th>\n",
       "      <th>guest_number</th>\n",
       "      <th>des_charge_sum</th>\n",
       "      <th>des_realcharge_sum</th>\n",
       "    </tr>\n",
       "  </thead>\n",
       "  <tbody>\n",
       "    <tr>\n",
       "      <th>0</th>\n",
       "      <td>679446</td>\n",
       "      <td>8</td>\n",
       "      <td>4</td>\n",
       "      <td>3.375</td>\n",
       "    </tr>\n",
       "    <tr>\n",
       "      <th>1</th>\n",
       "      <td>0</td>\n",
       "      <td>1</td>\n",
       "      <td>114</td>\n",
       "      <td>114.000</td>\n",
       "    </tr>\n",
       "    <tr>\n",
       "      <th>2</th>\n",
       "      <td>679446</td>\n",
       "      <td>8</td>\n",
       "      <td>4</td>\n",
       "      <td>3.375</td>\n",
       "    </tr>\n",
       "    <tr>\n",
       "      <th>3</th>\n",
       "      <td>0</td>\n",
       "      <td>1</td>\n",
       "      <td>38</td>\n",
       "      <td>38.000</td>\n",
       "    </tr>\n",
       "    <tr>\n",
       "      <th>4</th>\n",
       "      <td>0</td>\n",
       "      <td>1</td>\n",
       "      <td>39</td>\n",
       "      <td>39.000</td>\n",
       "    </tr>\n",
       "  </tbody>\n",
       "</table>\n",
       "</div>"
      ],
      "text/plain": [
       "  customerid  guest_number  des_charge_sum  des_realcharge_sum\n",
       "0     679446             8               4               3.375\n",
       "1          0             1             114             114.000\n",
       "2     679446             8               4               3.375\n",
       "3          0             1              38              38.000\n",
       "4          0             1              39              39.000"
      ]
     },
     "execution_count": 223,
     "metadata": {},
     "output_type": "execute_result"
    }
   ],
   "source": [
    "df.head()"
   ]
  },
  {
   "cell_type": "code",
   "execution_count": 217,
   "metadata": {
    "collapsed": false
   },
   "outputs": [
    {
     "data": {
      "text/plain": [
       "(1174, 13)"
      ]
     },
     "execution_count": 217,
     "metadata": {},
     "output_type": "execute_result"
    }
   ],
   "source": [
    "df.shape"
   ]
  },
  {
   "cell_type": "code",
   "execution_count": 218,
   "metadata": {
    "collapsed": false
   },
   "outputs": [
    {
     "data": {
      "text/plain": [
       "Index([u'customerid', u'des_cnt', u'des_charge_sum', u'des_procharge_sum',\n",
       "       u'des_reduce_sum', u'des_realcharge_sum', u'des_workday_cnt',\n",
       "       u'des_weekend_cnt', u'des_work_realchargesum',\n",
       "       u'des_weekend_realchargesum', u'des_charge_mean',\n",
       "       u'des_realcharge_mean', u'des_guestnumber_mean'],\n",
       "      dtype='object')"
      ]
     },
     "execution_count": 218,
     "metadata": {},
     "output_type": "execute_result"
    }
   ],
   "source": [
    "df.columns"
   ]
  },
  {
   "cell_type": "code",
   "execution_count": 139,
   "metadata": {
    "collapsed": false
   },
   "outputs": [
    {
     "name": "stdout",
     "output_type": "stream",
     "text": [
      "<class 'pandas.core.frame.DataFrame'>\n",
      "Int64Index: 1174 entries, 0 to 1173\n",
      "Data columns (total 10 columns):\n",
      "customerid             1174 non-null object\n",
      "des_cnt                1174 non-null int64\n",
      "des_charge_sum         1174 non-null float64\n",
      "des_procharge_sum      1174 non-null float64\n",
      "des_reduce_sum         1174 non-null float64\n",
      "des_realcharge_sum     1174 non-null float64\n",
      "des_workday_cnt        1174 non-null int64\n",
      "des_weekend_cnt        1174 non-null int64\n",
      "des_charge_mean        1174 non-null float64\n",
      "des_realcharge_mean    1174 non-null float64\n",
      "dtypes: float64(6), int64(3), object(1)\n",
      "memory usage: 100.9+ KB\n"
     ]
    }
   ],
   "source": [
    "df.info()"
   ]
  },
  {
   "cell_type": "code",
   "execution_count": 140,
   "metadata": {
    "collapsed": false
   },
   "outputs": [
    {
     "data": {
      "text/plain": [
       "(1174, 10)"
      ]
     },
     "execution_count": 140,
     "metadata": {},
     "output_type": "execute_result"
    }
   ],
   "source": [
    "df.shape"
   ]
  },
  {
   "cell_type": "code",
   "execution_count": null,
   "metadata": {
    "collapsed": true
   },
   "outputs": [],
   "source": []
  },
  {
   "cell_type": "code",
   "execution_count": null,
   "metadata": {
    "collapsed": true
   },
   "outputs": [],
   "source": []
  },
  {
   "cell_type": "code",
   "execution_count": null,
   "metadata": {
    "collapsed": true
   },
   "outputs": [],
   "source": []
  },
  {
   "cell_type": "markdown",
   "metadata": {},
   "source": [
    "# 1. 对包间消费信息进行统计"
   ]
  },
  {
   "cell_type": "markdown",
   "metadata": {},
   "source": [
    "### 初始读进来转换列数据类型结果"
   ]
  },
  {
   "cell_type": "code",
   "execution_count": 26,
   "metadata": {
    "collapsed": false
   },
   "outputs": [
    {
     "name": "stdout",
     "output_type": "stream",
     "text": [
      "<class 'pandas.core.frame.DataFrame'>\n",
      "Int64Index: 4579 entries, 0 to 4578\n",
      "Data columns (total 7 columns):\n",
      "customerid              4579 non-null object\n",
      "guest_number            4579 non-null float64\n",
      "destine_room_charge     4579 non-null float64\n",
      "protocol_room_charge    4579 non-null float64\n",
      "reduce_cost             4579 non-null float64\n",
      "des_cnt                 4579 non-null int64\n",
      "des_charge              4579 non-null float64\n",
      "dtypes: float64(5), int64(1), object(1)\n",
      "memory usage: 286.2+ KB\n"
     ]
    }
   ],
   "source": [
    "df.info()"
   ]
  },
  {
   "cell_type": "code",
   "execution_count": 17,
   "metadata": {
    "collapsed": false
   },
   "outputs": [
    {
     "data": {
      "text/plain": [
       "(4579, 6)"
      ]
     },
     "execution_count": 17,
     "metadata": {},
     "output_type": "execute_result"
    }
   ],
   "source": [
    "df.shape"
   ]
  },
  {
   "cell_type": "markdown",
   "metadata": {},
   "source": [
    "### df1 求和 求均值"
   ]
  },
  {
   "cell_type": "code",
   "execution_count": 219,
   "metadata": {
    "collapsed": false
   },
   "outputs": [
    {
     "data": {
      "text/html": [
       "<div>\n",
       "<table border=\"1\" class=\"dataframe\">\n",
       "  <thead>\n",
       "    <tr style=\"text-align: right;\">\n",
       "      <th></th>\n",
       "      <th>customerid</th>\n",
       "      <th>des_cnt</th>\n",
       "      <th>des_charge_sum</th>\n",
       "      <th>des_procharge_sum</th>\n",
       "      <th>des_reduce_sum</th>\n",
       "      <th>des_realcharge_sum</th>\n",
       "      <th>des_workday_cnt</th>\n",
       "      <th>des_weekend_cnt</th>\n",
       "      <th>des_work_realchargesum</th>\n",
       "      <th>des_weekend_realchargesum</th>\n",
       "      <th>des_charge_mean</th>\n",
       "      <th>des_realcharge_mean</th>\n",
       "      <th>des_guestnumber_mean</th>\n",
       "    </tr>\n",
       "  </thead>\n",
       "  <tbody>\n",
       "    <tr>\n",
       "      <th>0</th>\n",
       "      <td>0</td>\n",
       "      <td>2922</td>\n",
       "      <td>320684.000000</td>\n",
       "      <td>320684.000000</td>\n",
       "      <td>0.000000</td>\n",
       "      <td>320684.000000</td>\n",
       "      <td>1587</td>\n",
       "      <td>1335</td>\n",
       "      <td>187437.000000</td>\n",
       "      <td>133247.000</td>\n",
       "      <td>109.748118</td>\n",
       "      <td>109.748118</td>\n",
       "      <td>1.00</td>\n",
       "    </tr>\n",
       "    <tr>\n",
       "      <th>1</th>\n",
       "      <td>1008882</td>\n",
       "      <td>2</td>\n",
       "      <td>0.114286</td>\n",
       "      <td>0.114286</td>\n",
       "      <td>0.000000</td>\n",
       "      <td>0.114286</td>\n",
       "      <td>2</td>\n",
       "      <td>0</td>\n",
       "      <td>0.114286</td>\n",
       "      <td>0.000</td>\n",
       "      <td>0.057143</td>\n",
       "      <td>0.057143</td>\n",
       "      <td>4.00</td>\n",
       "    </tr>\n",
       "    <tr>\n",
       "      <th>2</th>\n",
       "      <td>104173</td>\n",
       "      <td>6</td>\n",
       "      <td>0.038000</td>\n",
       "      <td>0.036000</td>\n",
       "      <td>0.000000</td>\n",
       "      <td>0.038000</td>\n",
       "      <td>6</td>\n",
       "      <td>0</td>\n",
       "      <td>0.038000</td>\n",
       "      <td>0.000</td>\n",
       "      <td>0.006333</td>\n",
       "      <td>0.006333</td>\n",
       "      <td>3.00</td>\n",
       "    </tr>\n",
       "    <tr>\n",
       "      <th>3</th>\n",
       "      <td>1043</td>\n",
       "      <td>4</td>\n",
       "      <td>30.866667</td>\n",
       "      <td>30.866667</td>\n",
       "      <td>4.833333</td>\n",
       "      <td>26.033333</td>\n",
       "      <td>4</td>\n",
       "      <td>0</td>\n",
       "      <td>26.033333</td>\n",
       "      <td>0.000</td>\n",
       "      <td>7.716667</td>\n",
       "      <td>6.508333</td>\n",
       "      <td>7.75</td>\n",
       "    </tr>\n",
       "    <tr>\n",
       "      <th>4</th>\n",
       "      <td>105051</td>\n",
       "      <td>1</td>\n",
       "      <td>0.002000</td>\n",
       "      <td>0.002000</td>\n",
       "      <td>0.000000</td>\n",
       "      <td>0.002000</td>\n",
       "      <td>0</td>\n",
       "      <td>1</td>\n",
       "      <td>0.000000</td>\n",
       "      <td>0.002</td>\n",
       "      <td>0.002000</td>\n",
       "      <td>0.002000</td>\n",
       "      <td>5.00</td>\n",
       "    </tr>\n",
       "  </tbody>\n",
       "</table>\n",
       "</div>"
      ],
      "text/plain": [
       "  customerid  des_cnt  des_charge_sum  des_procharge_sum  des_reduce_sum  \\\n",
       "0          0     2922   320684.000000      320684.000000        0.000000   \n",
       "1    1008882        2        0.114286           0.114286        0.000000   \n",
       "2     104173        6        0.038000           0.036000        0.000000   \n",
       "3       1043        4       30.866667          30.866667        4.833333   \n",
       "4     105051        1        0.002000           0.002000        0.000000   \n",
       "\n",
       "   des_realcharge_sum  des_workday_cnt  des_weekend_cnt  \\\n",
       "0       320684.000000             1587             1335   \n",
       "1            0.114286                2                0   \n",
       "2            0.038000                6                0   \n",
       "3           26.033333                4                0   \n",
       "4            0.002000                0                1   \n",
       "\n",
       "   des_work_realchargesum  des_weekend_realchargesum  des_charge_mean  \\\n",
       "0           187437.000000                 133247.000       109.748118   \n",
       "1                0.114286                      0.000         0.057143   \n",
       "2                0.038000                      0.000         0.006333   \n",
       "3               26.033333                      0.000         7.716667   \n",
       "4                0.000000                      0.002         0.002000   \n",
       "\n",
       "   des_realcharge_mean  des_guestnumber_mean  \n",
       "0           109.748118                  1.00  \n",
       "1             0.057143                  4.00  \n",
       "2             0.006333                  3.00  \n",
       "3             6.508333                  7.75  \n",
       "4             0.002000                  5.00  "
      ]
     },
     "execution_count": 219,
     "metadata": {},
     "output_type": "execute_result"
    }
   ],
   "source": [
    "df.head()"
   ]
  },
  {
   "cell_type": "code",
   "execution_count": 220,
   "metadata": {
    "collapsed": false
   },
   "outputs": [
    {
     "data": {
      "text/plain": [
       "(1174, 13)"
      ]
     },
     "execution_count": 220,
     "metadata": {},
     "output_type": "execute_result"
    }
   ],
   "source": [
    "df.shape"
   ]
  },
  {
   "cell_type": "markdown",
   "metadata": {},
   "source": [
    "### df3-8 求最大值 最小值"
   ]
  },
  {
   "cell_type": "markdown",
   "metadata": {},
   "source": [
    "### merge所有中间表结果"
   ]
  },
  {
   "cell_type": "code",
   "execution_count": 256,
   "metadata": {
    "collapsed": false
   },
   "outputs": [
    {
     "data": {
      "text/html": [
       "<div>\n",
       "<table border=\"1\" class=\"dataframe\">\n",
       "  <thead>\n",
       "    <tr style=\"text-align: right;\">\n",
       "      <th></th>\n",
       "      <th>customerid</th>\n",
       "      <th>des_cnt</th>\n",
       "      <th>des_charge_sum</th>\n",
       "      <th>des_procharge_sum</th>\n",
       "      <th>des_reduce_sum</th>\n",
       "      <th>des_realcharge_sum</th>\n",
       "      <th>des_workday_cnt</th>\n",
       "      <th>des_weekend_cnt</th>\n",
       "      <th>des_work_realchargesum</th>\n",
       "      <th>des_weekend_realchargesum</th>\n",
       "      <th>des_charge_mean</th>\n",
       "      <th>des_realcharge_mean</th>\n",
       "      <th>des_guestnumber_mean</th>\n",
       "      <th>des_guestnumber_max</th>\n",
       "      <th>des_guestnumber_min</th>\n",
       "      <th>des_charge_max</th>\n",
       "      <th>des_charge_min</th>\n",
       "      <th>des_realcharge_max</th>\n",
       "      <th>des_realcharge_min</th>\n",
       "    </tr>\n",
       "  </thead>\n",
       "  <tbody>\n",
       "    <tr>\n",
       "      <th>0</th>\n",
       "      <td>0</td>\n",
       "      <td>2922</td>\n",
       "      <td>320684.000000</td>\n",
       "      <td>320684.000000</td>\n",
       "      <td>0.000000</td>\n",
       "      <td>320684.000000</td>\n",
       "      <td>1587</td>\n",
       "      <td>1335</td>\n",
       "      <td>187437.000000</td>\n",
       "      <td>133247.000</td>\n",
       "      <td>109.748118</td>\n",
       "      <td>109.748118</td>\n",
       "      <td>1.00</td>\n",
       "      <td>1</td>\n",
       "      <td>1</td>\n",
       "      <td>1127.000000</td>\n",
       "      <td>10.000000</td>\n",
       "      <td>1127.000000</td>\n",
       "      <td>10.000000</td>\n",
       "    </tr>\n",
       "    <tr>\n",
       "      <th>1</th>\n",
       "      <td>1008882</td>\n",
       "      <td>2</td>\n",
       "      <td>0.114286</td>\n",
       "      <td>0.114286</td>\n",
       "      <td>0.000000</td>\n",
       "      <td>0.114286</td>\n",
       "      <td>2</td>\n",
       "      <td>0</td>\n",
       "      <td>0.114286</td>\n",
       "      <td>0.000</td>\n",
       "      <td>0.057143</td>\n",
       "      <td>0.057143</td>\n",
       "      <td>4.00</td>\n",
       "      <td>7</td>\n",
       "      <td>1</td>\n",
       "      <td>0.100000</td>\n",
       "      <td>0.014286</td>\n",
       "      <td>0.100000</td>\n",
       "      <td>0.014286</td>\n",
       "    </tr>\n",
       "    <tr>\n",
       "      <th>2</th>\n",
       "      <td>104173</td>\n",
       "      <td>6</td>\n",
       "      <td>0.038000</td>\n",
       "      <td>0.036000</td>\n",
       "      <td>0.000000</td>\n",
       "      <td>0.038000</td>\n",
       "      <td>6</td>\n",
       "      <td>0</td>\n",
       "      <td>0.038000</td>\n",
       "      <td>0.000</td>\n",
       "      <td>0.006333</td>\n",
       "      <td>0.006333</td>\n",
       "      <td>3.00</td>\n",
       "      <td>5</td>\n",
       "      <td>1</td>\n",
       "      <td>0.010000</td>\n",
       "      <td>0.002000</td>\n",
       "      <td>0.010000</td>\n",
       "      <td>0.002000</td>\n",
       "    </tr>\n",
       "    <tr>\n",
       "      <th>3</th>\n",
       "      <td>1043</td>\n",
       "      <td>4</td>\n",
       "      <td>30.866667</td>\n",
       "      <td>30.866667</td>\n",
       "      <td>4.833333</td>\n",
       "      <td>26.033333</td>\n",
       "      <td>4</td>\n",
       "      <td>0</td>\n",
       "      <td>26.033333</td>\n",
       "      <td>0.000</td>\n",
       "      <td>7.716667</td>\n",
       "      <td>6.508333</td>\n",
       "      <td>7.75</td>\n",
       "      <td>10</td>\n",
       "      <td>5</td>\n",
       "      <td>9.666667</td>\n",
       "      <td>5.600000</td>\n",
       "      <td>8.833333</td>\n",
       "      <td>5.600000</td>\n",
       "    </tr>\n",
       "    <tr>\n",
       "      <th>4</th>\n",
       "      <td>105051</td>\n",
       "      <td>1</td>\n",
       "      <td>0.002000</td>\n",
       "      <td>0.002000</td>\n",
       "      <td>0.000000</td>\n",
       "      <td>0.002000</td>\n",
       "      <td>0</td>\n",
       "      <td>1</td>\n",
       "      <td>0.000000</td>\n",
       "      <td>0.002</td>\n",
       "      <td>0.002000</td>\n",
       "      <td>0.002000</td>\n",
       "      <td>5.00</td>\n",
       "      <td>5</td>\n",
       "      <td>5</td>\n",
       "      <td>0.002000</td>\n",
       "      <td>0.002000</td>\n",
       "      <td>0.002000</td>\n",
       "      <td>0.002000</td>\n",
       "    </tr>\n",
       "  </tbody>\n",
       "</table>\n",
       "</div>"
      ],
      "text/plain": [
       "  customerid  des_cnt  des_charge_sum  des_procharge_sum  des_reduce_sum  \\\n",
       "0          0     2922   320684.000000      320684.000000        0.000000   \n",
       "1    1008882        2        0.114286           0.114286        0.000000   \n",
       "2     104173        6        0.038000           0.036000        0.000000   \n",
       "3       1043        4       30.866667          30.866667        4.833333   \n",
       "4     105051        1        0.002000           0.002000        0.000000   \n",
       "\n",
       "   des_realcharge_sum  des_workday_cnt  des_weekend_cnt  \\\n",
       "0       320684.000000             1587             1335   \n",
       "1            0.114286                2                0   \n",
       "2            0.038000                6                0   \n",
       "3           26.033333                4                0   \n",
       "4            0.002000                0                1   \n",
       "\n",
       "   des_work_realchargesum  des_weekend_realchargesum  des_charge_mean  \\\n",
       "0           187437.000000                 133247.000       109.748118   \n",
       "1                0.114286                      0.000         0.057143   \n",
       "2                0.038000                      0.000         0.006333   \n",
       "3               26.033333                      0.000         7.716667   \n",
       "4                0.000000                      0.002         0.002000   \n",
       "\n",
       "   des_realcharge_mean  des_guestnumber_mean  des_guestnumber_max  \\\n",
       "0           109.748118                  1.00                    1   \n",
       "1             0.057143                  4.00                    7   \n",
       "2             0.006333                  3.00                    5   \n",
       "3             6.508333                  7.75                   10   \n",
       "4             0.002000                  5.00                    5   \n",
       "\n",
       "   des_guestnumber_min  des_charge_max  des_charge_min  des_realcharge_max  \\\n",
       "0                    1     1127.000000       10.000000         1127.000000   \n",
       "1                    1        0.100000        0.014286            0.100000   \n",
       "2                    1        0.010000        0.002000            0.010000   \n",
       "3                    5        9.666667        5.600000            8.833333   \n",
       "4                    5        0.002000        0.002000            0.002000   \n",
       "\n",
       "   des_realcharge_min  \n",
       "0           10.000000  \n",
       "1            0.014286  \n",
       "2            0.002000  \n",
       "3            5.600000  \n",
       "4            0.002000  "
      ]
     },
     "execution_count": 256,
     "metadata": {},
     "output_type": "execute_result"
    }
   ],
   "source": [
    "df.head()"
   ]
  },
  {
   "cell_type": "code",
   "execution_count": 257,
   "metadata": {
    "collapsed": false
   },
   "outputs": [
    {
     "data": {
      "text/plain": [
       "(1174, 19)"
      ]
     },
     "execution_count": 257,
     "metadata": {},
     "output_type": "execute_result"
    }
   ],
   "source": [
    "df.shape"
   ]
  },
  {
   "cell_type": "markdown",
   "metadata": {},
   "source": [
    "# 2. 包厢类型统计"
   ]
  },
  {
   "cell_type": "code",
   "execution_count": 278,
   "metadata": {
    "collapsed": false
   },
   "outputs": [
    {
     "data": {
      "text/html": [
       "<div>\n",
       "<table border=\"1\" class=\"dataframe\">\n",
       "  <thead>\n",
       "    <tr style=\"text-align: right;\">\n",
       "      <th></th>\n",
       "      <th>customerid</th>\n",
       "      <th>des_large_cnt</th>\n",
       "      <th>des_medium_cnt</th>\n",
       "      <th>des_small_cnt</th>\n",
       "      <th>des_vip_cnt</th>\n",
       "      <th>des_reduce_cnt</th>\n",
       "    </tr>\n",
       "  </thead>\n",
       "  <tbody>\n",
       "    <tr>\n",
       "      <th>0</th>\n",
       "      <td>679446</td>\n",
       "      <td>0</td>\n",
       "      <td>0</td>\n",
       "      <td>0</td>\n",
       "      <td>0</td>\n",
       "      <td>0</td>\n",
       "    </tr>\n",
       "    <tr>\n",
       "      <th>1</th>\n",
       "      <td>0</td>\n",
       "      <td>0</td>\n",
       "      <td>0</td>\n",
       "      <td>1</td>\n",
       "      <td>0</td>\n",
       "      <td>0</td>\n",
       "    </tr>\n",
       "    <tr>\n",
       "      <th>2</th>\n",
       "      <td>679446</td>\n",
       "      <td>0</td>\n",
       "      <td>0</td>\n",
       "      <td>0</td>\n",
       "      <td>0</td>\n",
       "      <td>0</td>\n",
       "    </tr>\n",
       "    <tr>\n",
       "      <th>3</th>\n",
       "      <td>0</td>\n",
       "      <td>0</td>\n",
       "      <td>1</td>\n",
       "      <td>0</td>\n",
       "      <td>0</td>\n",
       "      <td>0</td>\n",
       "    </tr>\n",
       "    <tr>\n",
       "      <th>4</th>\n",
       "      <td>0</td>\n",
       "      <td>0</td>\n",
       "      <td>0</td>\n",
       "      <td>1</td>\n",
       "      <td>0</td>\n",
       "      <td>0</td>\n",
       "    </tr>\n",
       "  </tbody>\n",
       "</table>\n",
       "</div>"
      ],
      "text/plain": [
       "  customerid  des_large_cnt  des_medium_cnt  des_small_cnt  des_vip_cnt  \\\n",
       "0     679446              0               0              0            0   \n",
       "1          0              0               0              1            0   \n",
       "2     679446              0               0              0            0   \n",
       "3          0              0               1              0            0   \n",
       "4          0              0               0              1            0   \n",
       "\n",
       "   des_reduce_cnt  \n",
       "0               0  \n",
       "1               0  \n",
       "2               0  \n",
       "3               0  \n",
       "4               0  "
      ]
     },
     "execution_count": 278,
     "metadata": {},
     "output_type": "execute_result"
    }
   ],
   "source": [
    "df.head()"
   ]
  },
  {
   "cell_type": "code",
   "execution_count": 279,
   "metadata": {
    "collapsed": false
   },
   "outputs": [
    {
     "data": {
      "text/plain": [
       "0    4418\n",
       "1     161\n",
       "Name: des_large_cnt, dtype: int64"
      ]
     },
     "execution_count": 279,
     "metadata": {},
     "output_type": "execute_result"
    }
   ],
   "source": [
    "pd.value_counts(df['des_large_cnt'])"
   ]
  },
  {
   "cell_type": "code",
   "execution_count": 280,
   "metadata": {
    "collapsed": false
   },
   "outputs": [
    {
     "data": {
      "text/plain": [
       "0    3401\n",
       "1    1178\n",
       "Name: des_medium_cnt, dtype: int64"
      ]
     },
     "execution_count": 280,
     "metadata": {},
     "output_type": "execute_result"
    }
   ],
   "source": [
    "pd.value_counts(df['des_medium_cnt'])"
   ]
  },
  {
   "cell_type": "code",
   "execution_count": 281,
   "metadata": {
    "collapsed": false
   },
   "outputs": [
    {
     "data": {
      "text/plain": [
       "0    3423\n",
       "1    1156\n",
       "Name: des_small_cnt, dtype: int64"
      ]
     },
     "execution_count": 281,
     "metadata": {},
     "output_type": "execute_result"
    }
   ],
   "source": [
    "pd.value_counts(df['des_small_cnt'])"
   ]
  },
  {
   "cell_type": "markdown",
   "metadata": {},
   "source": [
    "### 弃掉vip数据"
   ]
  },
  {
   "cell_type": "code",
   "execution_count": 282,
   "metadata": {
    "collapsed": false
   },
   "outputs": [
    {
     "data": {
      "text/plain": [
       "0    4579\n",
       "Name: des_vip_cnt, dtype: int64"
      ]
     },
     "execution_count": 282,
     "metadata": {},
     "output_type": "execute_result"
    }
   ],
   "source": [
    "pd.value_counts(df['des_vip_cnt'])"
   ]
  },
  {
   "cell_type": "code",
   "execution_count": 283,
   "metadata": {
    "collapsed": false
   },
   "outputs": [
    {
     "data": {
      "text/plain": [
       "0    4570\n",
       "1       9\n",
       "Name: des_reduce_cnt, dtype: int64"
      ]
     },
     "execution_count": 283,
     "metadata": {},
     "output_type": "execute_result"
    }
   ],
   "source": [
    "pd.value_counts(df['des_reduce_cnt'])"
   ]
  },
  {
   "cell_type": "markdown",
   "metadata": {},
   "source": [
    "### 弃掉vip后的type数据"
   ]
  },
  {
   "cell_type": "code",
   "execution_count": 287,
   "metadata": {
    "collapsed": false
   },
   "outputs": [
    {
     "data": {
      "text/html": [
       "<div>\n",
       "<table border=\"1\" class=\"dataframe\">\n",
       "  <thead>\n",
       "    <tr style=\"text-align: right;\">\n",
       "      <th></th>\n",
       "      <th>customerid</th>\n",
       "      <th>des_large_cnt</th>\n",
       "      <th>des_medium_cnt</th>\n",
       "      <th>des_small_cnt</th>\n",
       "      <th>des_reduce_cnt</th>\n",
       "    </tr>\n",
       "  </thead>\n",
       "  <tbody>\n",
       "    <tr>\n",
       "      <th>0</th>\n",
       "      <td>679446</td>\n",
       "      <td>0</td>\n",
       "      <td>0</td>\n",
       "      <td>0</td>\n",
       "      <td>0</td>\n",
       "    </tr>\n",
       "    <tr>\n",
       "      <th>1</th>\n",
       "      <td>0</td>\n",
       "      <td>0</td>\n",
       "      <td>0</td>\n",
       "      <td>1</td>\n",
       "      <td>0</td>\n",
       "    </tr>\n",
       "    <tr>\n",
       "      <th>2</th>\n",
       "      <td>679446</td>\n",
       "      <td>0</td>\n",
       "      <td>0</td>\n",
       "      <td>0</td>\n",
       "      <td>0</td>\n",
       "    </tr>\n",
       "    <tr>\n",
       "      <th>3</th>\n",
       "      <td>0</td>\n",
       "      <td>0</td>\n",
       "      <td>1</td>\n",
       "      <td>0</td>\n",
       "      <td>0</td>\n",
       "    </tr>\n",
       "    <tr>\n",
       "      <th>4</th>\n",
       "      <td>0</td>\n",
       "      <td>0</td>\n",
       "      <td>0</td>\n",
       "      <td>1</td>\n",
       "      <td>0</td>\n",
       "    </tr>\n",
       "  </tbody>\n",
       "</table>\n",
       "</div>"
      ],
      "text/plain": [
       "  customerid  des_large_cnt  des_medium_cnt  des_small_cnt  des_reduce_cnt\n",
       "0     679446              0               0              0               0\n",
       "1          0              0               0              1               0\n",
       "2     679446              0               0              0               0\n",
       "3          0              0               1              0               0\n",
       "4          0              0               0              1               0"
      ]
     },
     "execution_count": 287,
     "metadata": {},
     "output_type": "execute_result"
    }
   ],
   "source": [
    "df.head()"
   ]
  },
  {
   "cell_type": "markdown",
   "metadata": {},
   "source": [
    "## sum所有单条数据"
   ]
  },
  {
   "cell_type": "code",
   "execution_count": 291,
   "metadata": {
    "collapsed": false
   },
   "outputs": [
    {
     "data": {
      "text/html": [
       "<div>\n",
       "<table border=\"1\" class=\"dataframe\">\n",
       "  <thead>\n",
       "    <tr style=\"text-align: right;\">\n",
       "      <th></th>\n",
       "      <th>customerid</th>\n",
       "      <th>des_large_cnt</th>\n",
       "      <th>des_medium_cnt</th>\n",
       "      <th>des_small_cnt</th>\n",
       "      <th>des_reduce_cnt</th>\n",
       "    </tr>\n",
       "  </thead>\n",
       "  <tbody>\n",
       "    <tr>\n",
       "      <th>0</th>\n",
       "      <td>0</td>\n",
       "      <td>139</td>\n",
       "      <td>1105</td>\n",
       "      <td>1073</td>\n",
       "      <td>0</td>\n",
       "    </tr>\n",
       "    <tr>\n",
       "      <th>1</th>\n",
       "      <td>1008882</td>\n",
       "      <td>0</td>\n",
       "      <td>0</td>\n",
       "      <td>0</td>\n",
       "      <td>0</td>\n",
       "    </tr>\n",
       "    <tr>\n",
       "      <th>2</th>\n",
       "      <td>104173</td>\n",
       "      <td>0</td>\n",
       "      <td>0</td>\n",
       "      <td>0</td>\n",
       "      <td>0</td>\n",
       "    </tr>\n",
       "    <tr>\n",
       "      <th>3</th>\n",
       "      <td>1043</td>\n",
       "      <td>0</td>\n",
       "      <td>0</td>\n",
       "      <td>0</td>\n",
       "      <td>0</td>\n",
       "    </tr>\n",
       "    <tr>\n",
       "      <th>4</th>\n",
       "      <td>105051</td>\n",
       "      <td>0</td>\n",
       "      <td>0</td>\n",
       "      <td>0</td>\n",
       "      <td>0</td>\n",
       "    </tr>\n",
       "  </tbody>\n",
       "</table>\n",
       "</div>"
      ],
      "text/plain": [
       "  customerid  des_large_cnt  des_medium_cnt  des_small_cnt  des_reduce_cnt\n",
       "0          0            139            1105           1073               0\n",
       "1    1008882              0               0              0               0\n",
       "2     104173              0               0              0               0\n",
       "3       1043              0               0              0               0\n",
       "4     105051              0               0              0               0"
      ]
     },
     "execution_count": 291,
     "metadata": {},
     "output_type": "execute_result"
    }
   ],
   "source": [
    "df.head()"
   ]
  },
  {
   "cell_type": "code",
   "execution_count": 292,
   "metadata": {
    "collapsed": false
   },
   "outputs": [
    {
     "data": {
      "text/plain": [
       "0      1155\n",
       "1        14\n",
       "2         4\n",
       "139       1\n",
       "Name: des_large_cnt, dtype: int64"
      ]
     },
     "execution_count": 292,
     "metadata": {},
     "output_type": "execute_result"
    }
   ],
   "source": [
    "pd.value_counts(df['des_large_cnt'])"
   ]
  },
  {
   "cell_type": "code",
   "execution_count": 293,
   "metadata": {
    "collapsed": false
   },
   "outputs": [
    {
     "data": {
      "text/plain": [
       "0       1111\n",
       "1         53\n",
       "2          7\n",
       "3          2\n",
       "1105       1\n",
       "Name: des_medium_cnt, dtype: int64"
      ]
     },
     "execution_count": 293,
     "metadata": {},
     "output_type": "execute_result"
    }
   ],
   "source": [
    "pd.value_counts(df['des_medium_cnt'])"
   ]
  },
  {
   "cell_type": "code",
   "execution_count": 294,
   "metadata": {
    "collapsed": false
   },
   "outputs": [
    {
     "data": {
      "text/plain": [
       "0       1107\n",
       "1         54\n",
       "2          8\n",
       "3          3\n",
       "1073       1\n",
       "4          1\n",
       "Name: des_small_cnt, dtype: int64"
      ]
     },
     "execution_count": 294,
     "metadata": {},
     "output_type": "execute_result"
    }
   ],
   "source": [
    "pd.value_counts(df['des_small_cnt'])"
   ]
  },
  {
   "cell_type": "code",
   "execution_count": 295,
   "metadata": {
    "collapsed": false
   },
   "outputs": [
    {
     "data": {
      "text/plain": [
       "0    1168\n",
       "1       5\n",
       "4       1\n",
       "Name: des_reduce_cnt, dtype: int64"
      ]
     },
     "execution_count": 295,
     "metadata": {},
     "output_type": "execute_result"
    }
   ],
   "source": [
    "pd.value_counts(df['des_reduce_cnt'])"
   ]
  },
  {
   "cell_type": "code",
   "execution_count": null,
   "metadata": {
    "collapsed": true
   },
   "outputs": [],
   "source": []
  }
 ],
 "metadata": {
  "kernelspec": {
   "display_name": "Python 2",
   "language": "python",
   "name": "python2"
  },
  "language_info": {
   "codemirror_mode": {
    "name": "ipython",
    "version": 2
   },
   "file_extension": ".py",
   "mimetype": "text/x-python",
   "name": "python",
   "nbconvert_exporter": "python",
   "pygments_lexer": "ipython2",
   "version": "2.7.11"
  }
 },
 "nbformat": 4,
 "nbformat_minor": 0
}
