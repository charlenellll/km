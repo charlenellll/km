{
 "cells": [
  {
   "cell_type": "markdown",
   "metadata": {},
   "source": [
    "# 年龄预测"
   ]
  },
  {
   "cell_type": "code",
   "execution_count": 1,
   "metadata": {
    "collapsed": false
   },
   "outputs": [],
   "source": [
    "# coding=utf-8\n",
    "\"\"\"\n",
    "Credit by Liao Jialing\n",
    "\n",
    "\"\"\"\n",
    "import xgboost as xgb\n",
    "import pandas as pd\n",
    "import numpy as np\n",
    "from sklearn.cross_validation import train_test_split\n",
    "from sklearn.ensemble import RandomForestClassifier\n",
    "from sklearn.feature_selection import SelectFromModel"
   ]
  },
  {
   "cell_type": "markdown",
   "metadata": {},
   "source": [
    "# 1. 读入清洗整理后的用户基本信息宽表"
   ]
  },
  {
   "cell_type": "code",
   "execution_count": 2,
   "metadata": {
    "collapsed": false,
    "scrolled": false
   },
   "outputs": [
    {
     "name": "stderr",
     "output_type": "stream",
     "text": [
      "D:\\Users\\Jialing Liao\\AppData\\Local\\Continuum\\Anaconda2\\lib\\site-packages\\IPython\\core\\interactiveshell.py:2902: DtypeWarning: Columns (0) have mixed types. Specify dtype option on import or set low_memory=False.\n",
      "  interactivity=interactivity, compiler=compiler, result=result)\n"
     ]
    }
   ],
   "source": [
    "dataset = pd.read_csv('E:/user_all_cleared.csv')"
   ]
  },
  {
   "cell_type": "markdown",
   "metadata": {},
   "source": [
    "## 将target放在第一列"
   ]
  },
  {
   "cell_type": "code",
   "execution_count": 3,
   "metadata": {
    "collapsed": true
   },
   "outputs": [],
   "source": [
    "age_label = dataset.pop('member_age')"
   ]
  },
  {
   "cell_type": "code",
   "execution_count": 4,
   "metadata": {
    "collapsed": true
   },
   "outputs": [],
   "source": [
    "dataset.insert(0,'member_age',age_label)"
   ]
  },
  {
   "cell_type": "code",
   "execution_count": 5,
   "metadata": {
    "collapsed": false
   },
   "outputs": [
    {
     "data": {
      "text/plain": [
       "(503862, 152)"
      ]
     },
     "execution_count": 5,
     "metadata": {},
     "output_type": "execute_result"
    }
   ],
   "source": [
    "dataset.shape"
   ]
  },
  {
   "cell_type": "code",
   "execution_count": 6,
   "metadata": {
    "collapsed": false,
    "scrolled": true
   },
   "outputs": [
    {
     "data": {
      "text/html": [
       "<div>\n",
       "<table border=\"1\" class=\"dataframe\">\n",
       "  <thead>\n",
       "    <tr style=\"text-align: right;\">\n",
       "      <th></th>\n",
       "      <th>member_age</th>\n",
       "      <th>customerid</th>\n",
       "      <th>accountcash</th>\n",
       "      <th>accountbalance</th>\n",
       "      <th>integralbalance</th>\n",
       "      <th>consumetotal</th>\n",
       "      <th>consumetimes</th>\n",
       "      <th>lastconsume_diff_create_day</th>\n",
       "      <th>lastconsume_diff_create_hour</th>\n",
       "      <th>lastconsume_diff_now</th>\n",
       "      <th>...</th>\n",
       "      <th>age_from_song_language_3.0</th>\n",
       "      <th>age_from_song_language_not_known</th>\n",
       "      <th>shop_com_regioncode_310000.0</th>\n",
       "      <th>shop_com_regioncode_350000.0</th>\n",
       "      <th>shop_com_regioncode_440000.0</th>\n",
       "      <th>shop_com_regioncode_500000.0</th>\n",
       "      <th>shop_com_regioncode_not_known</th>\n",
       "      <th>shop_com_managetype_1.0</th>\n",
       "      <th>shop_com_managetype_2.0</th>\n",
       "      <th>shop_com_managetype_not_known</th>\n",
       "    </tr>\n",
       "  </thead>\n",
       "  <tbody>\n",
       "    <tr>\n",
       "      <th>0</th>\n",
       "      <td>0</td>\n",
       "      <td>5792237</td>\n",
       "      <td>0</td>\n",
       "      <td>0</td>\n",
       "      <td>0</td>\n",
       "      <td>0</td>\n",
       "      <td>0</td>\n",
       "      <td>0</td>\n",
       "      <td>0</td>\n",
       "      <td>0</td>\n",
       "      <td>...</td>\n",
       "      <td>0</td>\n",
       "      <td>1</td>\n",
       "      <td>0</td>\n",
       "      <td>0</td>\n",
       "      <td>0</td>\n",
       "      <td>0</td>\n",
       "      <td>1</td>\n",
       "      <td>0</td>\n",
       "      <td>0</td>\n",
       "      <td>1</td>\n",
       "    </tr>\n",
       "    <tr>\n",
       "      <th>1</th>\n",
       "      <td>0</td>\n",
       "      <td>5792238</td>\n",
       "      <td>0</td>\n",
       "      <td>0</td>\n",
       "      <td>0</td>\n",
       "      <td>0</td>\n",
       "      <td>0</td>\n",
       "      <td>0</td>\n",
       "      <td>0</td>\n",
       "      <td>0</td>\n",
       "      <td>...</td>\n",
       "      <td>0</td>\n",
       "      <td>1</td>\n",
       "      <td>0</td>\n",
       "      <td>0</td>\n",
       "      <td>0</td>\n",
       "      <td>0</td>\n",
       "      <td>1</td>\n",
       "      <td>0</td>\n",
       "      <td>0</td>\n",
       "      <td>1</td>\n",
       "    </tr>\n",
       "    <tr>\n",
       "      <th>2</th>\n",
       "      <td>0</td>\n",
       "      <td>5792239</td>\n",
       "      <td>0</td>\n",
       "      <td>0</td>\n",
       "      <td>0</td>\n",
       "      <td>0</td>\n",
       "      <td>0</td>\n",
       "      <td>0</td>\n",
       "      <td>0</td>\n",
       "      <td>0</td>\n",
       "      <td>...</td>\n",
       "      <td>0</td>\n",
       "      <td>1</td>\n",
       "      <td>0</td>\n",
       "      <td>0</td>\n",
       "      <td>0</td>\n",
       "      <td>0</td>\n",
       "      <td>1</td>\n",
       "      <td>0</td>\n",
       "      <td>0</td>\n",
       "      <td>1</td>\n",
       "    </tr>\n",
       "    <tr>\n",
       "      <th>3</th>\n",
       "      <td>0</td>\n",
       "      <td>5792241</td>\n",
       "      <td>0</td>\n",
       "      <td>0</td>\n",
       "      <td>0</td>\n",
       "      <td>0</td>\n",
       "      <td>0</td>\n",
       "      <td>0</td>\n",
       "      <td>0</td>\n",
       "      <td>0</td>\n",
       "      <td>...</td>\n",
       "      <td>0</td>\n",
       "      <td>1</td>\n",
       "      <td>0</td>\n",
       "      <td>0</td>\n",
       "      <td>0</td>\n",
       "      <td>0</td>\n",
       "      <td>1</td>\n",
       "      <td>0</td>\n",
       "      <td>0</td>\n",
       "      <td>1</td>\n",
       "    </tr>\n",
       "    <tr>\n",
       "      <th>4</th>\n",
       "      <td>0</td>\n",
       "      <td>5792242</td>\n",
       "      <td>0</td>\n",
       "      <td>0</td>\n",
       "      <td>0</td>\n",
       "      <td>0</td>\n",
       "      <td>0</td>\n",
       "      <td>0</td>\n",
       "      <td>0</td>\n",
       "      <td>0</td>\n",
       "      <td>...</td>\n",
       "      <td>0</td>\n",
       "      <td>1</td>\n",
       "      <td>0</td>\n",
       "      <td>0</td>\n",
       "      <td>0</td>\n",
       "      <td>0</td>\n",
       "      <td>1</td>\n",
       "      <td>0</td>\n",
       "      <td>0</td>\n",
       "      <td>1</td>\n",
       "    </tr>\n",
       "  </tbody>\n",
       "</table>\n",
       "<p>5 rows × 152 columns</p>\n",
       "</div>"
      ],
      "text/plain": [
       "   member_age customerid  accountcash  accountbalance  integralbalance  \\\n",
       "0           0    5792237            0               0                0   \n",
       "1           0    5792238            0               0                0   \n",
       "2           0    5792239            0               0                0   \n",
       "3           0    5792241            0               0                0   \n",
       "4           0    5792242            0               0                0   \n",
       "\n",
       "   consumetotal  consumetimes  lastconsume_diff_create_day  \\\n",
       "0             0             0                            0   \n",
       "1             0             0                            0   \n",
       "2             0             0                            0   \n",
       "3             0             0                            0   \n",
       "4             0             0                            0   \n",
       "\n",
       "   lastconsume_diff_create_hour  lastconsume_diff_now  \\\n",
       "0                             0                     0   \n",
       "1                             0                     0   \n",
       "2                             0                     0   \n",
       "3                             0                     0   \n",
       "4                             0                     0   \n",
       "\n",
       "               ...                age_from_song_language_3.0  \\\n",
       "0              ...                                         0   \n",
       "1              ...                                         0   \n",
       "2              ...                                         0   \n",
       "3              ...                                         0   \n",
       "4              ...                                         0   \n",
       "\n",
       "   age_from_song_language_not_known  shop_com_regioncode_310000.0  \\\n",
       "0                                 1                             0   \n",
       "1                                 1                             0   \n",
       "2                                 1                             0   \n",
       "3                                 1                             0   \n",
       "4                                 1                             0   \n",
       "\n",
       "   shop_com_regioncode_350000.0  shop_com_regioncode_440000.0  \\\n",
       "0                             0                             0   \n",
       "1                             0                             0   \n",
       "2                             0                             0   \n",
       "3                             0                             0   \n",
       "4                             0                             0   \n",
       "\n",
       "   shop_com_regioncode_500000.0  shop_com_regioncode_not_known  \\\n",
       "0                             0                              1   \n",
       "1                             0                              1   \n",
       "2                             0                              1   \n",
       "3                             0                              1   \n",
       "4                             0                              1   \n",
       "\n",
       "   shop_com_managetype_1.0  shop_com_managetype_2.0  \\\n",
       "0                        0                        0   \n",
       "1                        0                        0   \n",
       "2                        0                        0   \n",
       "3                        0                        0   \n",
       "4                        0                        0   \n",
       "\n",
       "   shop_com_managetype_not_known  \n",
       "0                              1  \n",
       "1                              1  \n",
       "2                              1  \n",
       "3                              1  \n",
       "4                              1  \n",
       "\n",
       "[5 rows x 152 columns]"
      ]
     },
     "execution_count": 6,
     "metadata": {},
     "output_type": "execute_result"
    }
   ],
   "source": [
    "dataset.head()"
   ]
  },
  {
   "cell_type": "markdown",
   "metadata": {},
   "source": [
    "# 2. 分出测试集和训练集"
   ]
  },
  {
   "cell_type": "code",
   "execution_count": 7,
   "metadata": {
    "collapsed": true
   },
   "outputs": [],
   "source": [
    "train = dataset[dataset['member_age']!=0]\n",
    "test = dataset[dataset['member_age']==0]\n",
    "test_id = test.customerid\n",
    "test = test.drop('customerid',axis=1)\n",
    "X = train.drop(['member_age','customerid'],axis=1)\n",
    "y = train.member_age.values\n",
    "X_train,X_test,y_train,y_test = train_test_split(X,y,test_size=0.2,random_state=1026)"
   ]
  },
  {
   "cell_type": "code",
   "execution_count": 8,
   "metadata": {
    "collapsed": false
   },
   "outputs": [
    {
     "data": {
      "text/plain": [
       "(15559, 152)"
      ]
     },
     "execution_count": 8,
     "metadata": {},
     "output_type": "execute_result"
    }
   ],
   "source": [
    "train.shape"
   ]
  },
  {
   "cell_type": "code",
   "execution_count": 9,
   "metadata": {
    "collapsed": false
   },
   "outputs": [
    {
     "data": {
      "text/plain": [
       "(488303, 151)"
      ]
     },
     "execution_count": 9,
     "metadata": {},
     "output_type": "execute_result"
    }
   ],
   "source": [
    "test.shape"
   ]
  },
  {
   "cell_type": "code",
   "execution_count": 10,
   "metadata": {
    "collapsed": false
   },
   "outputs": [
    {
     "name": "stdout",
     "output_type": "stream",
     "text": [
      "((12447, 150), (3112, 150), (488303, 151))\n"
     ]
    }
   ],
   "source": [
    "print(X_train.shape,X_test.shape,test.shape)"
   ]
  },
  {
   "cell_type": "markdown",
   "metadata": {},
   "source": [
    "# 3. 进行特征选择"
   ]
  },
  {
   "cell_type": "code",
   "execution_count": 11,
   "metadata": {
    "collapsed": false
   },
   "outputs": [
    {
     "data": {
      "text/plain": [
       "RandomForestClassifier(bootstrap=True, class_weight=None, criterion='gini',\n",
       "            max_depth=None, max_features='auto', max_leaf_nodes=None,\n",
       "            min_samples_leaf=1, min_samples_split=2,\n",
       "            min_weight_fraction_leaf=0.0, n_estimators=300, n_jobs=1,\n",
       "            oob_score=False, random_state=None, verbose=0,\n",
       "            warm_start=False)"
      ]
     },
     "execution_count": 11,
     "metadata": {},
     "output_type": "execute_result"
    }
   ],
   "source": [
    "model = RandomForestClassifier(n_estimators=300)\n",
    "model.fit(X_train, y_train)"
   ]
  },
  {
   "cell_type": "markdown",
   "metadata": {},
   "source": [
    "## 特征选择"
   ]
  },
  {
   "cell_type": "code",
   "execution_count": 12,
   "metadata": {
    "collapsed": false
   },
   "outputs": [],
   "source": [
    "important_features = zip(X_train.columns.values, model.feature_importances_)\n",
    "important_features = sorted(important_features, key=lambda x: x[1], reverse=True)"
   ]
  },
  {
   "cell_type": "code",
   "execution_count": 13,
   "metadata": {
    "collapsed": false,
    "scrolled": true
   },
   "outputs": [
    {
     "name": "stdout",
     "output_type": "stream",
     "text": [
      "lastconsume_diff_now 0.270198313041\n",
      "consumetotal 0.183770346441\n",
      "integralbalance 0.155056598021\n",
      "consumetimes 0.0725794208366\n",
      "accountbalance 0.0706225512157\n",
      "lastconsume_diff_create_hour 0.0705169099613\n",
      "accountcash 0.0691450227966\n",
      "gender 0.0550717460754\n",
      "lastconsume_diff_create_day 0.0525334113512\n",
      "song_play_cnt 4.3717628313e-05\n",
      "age_from_song_language_not_known 3.81354051505e-05\n",
      "age_from_song_language_2.0 2.61871757914e-05\n",
      "des_guestnumber_max 1.56765384513e-05\n",
      "des_companyid 1.51221311141e-05\n",
      "des_charge_max 1.33138656056e-05\n",
      "use_time_sum 1.29534461684e-05\n",
      "des_charge_mean 1.21985759848e-05\n",
      "des_realcharge_mean 1.21811131491e-05\n",
      "des_realcharge_max 1.13415595258e-05\n",
      "des_afternoon_cnt 1.11065035061e-05\n",
      "des_use_night_cnt 1.04231089239e-05\n",
      "des_guestnumber_min 1.02251909011e-05\n",
      "des_procharge_sum 1.00650623779e-05\n",
      "des_workday_cnt 9.96989393875e-06\n",
      "des_charge_sum 9.63437811587e-06\n",
      "des_company_cnt 9.60099069137e-06\n",
      "des_work_realchargesum 9.54511804123e-06\n",
      "des_charge_min 9.27952950635e-06\n",
      "des_realcharge_min 8.73544599987e-06\n",
      "des_use_afternoon_cnt 8.36443878444e-06\n",
      "use_company_id 8.01236672142e-06\n",
      "shop_real_sum_max 7.140754557e-06\n",
      "des_cnt 7.09695405752e-06\n",
      "get_coupon_type_cnt 7.03918842043e-06\n",
      "source_company_id 6.93124443545e-06\n",
      "des_use_night_realchargesum 6.84674206675e-06\n",
      "des_guestnumber_mean 6.80773420336e-06\n",
      "get_com_regioncode_310000.0 6.55585053666e-06\n",
      "coupon_get_sum 6.1474338699e-06\n",
      "get_coupon_crosscom 6.0599910727e-06\n",
      "des_use_afternoon_realchargesum 6.00099529031e-06\n",
      "des_use_reg 5.80844437305e-06\n",
      "shop_night_sum 5.79067382804e-06\n",
      "shop_companyid 5.77972227586e-06\n",
      "get_com_regioncode_not_known 5.47737674941e-06\n",
      "get_com_managetype_1.0 5.38534059459e-06\n",
      "shop_weekday_sum 5.07166755865e-06\n",
      "use_company_cnt 4.97413683881e-06\n",
      "des_realcharge_sum 4.84626608065e-06\n",
      "shop_real_sum_min 4.79195233846e-06\n",
      "use_coupon_type_cnt 4.61269512157e-06\n",
      "coupon_get_cnt 4.58973480549e-06\n",
      "source_company_cnt 4.27795051698e-06\n",
      "shop_original_sum_avg 4.24243990994e-06\n",
      "use_coupon_order_sum 4.20443832319e-06\n",
      "des_morning_cnt 4.13711332194e-06\n",
      "get_com_roomnum 4.10531595694e-06\n",
      "shop_original_sum_max 3.93323070361e-06\n",
      "use_coupon_sum 3.88554622648e-06\n",
      "shop_weekday_cnt 3.7763536546e-06\n",
      "shop_night_cnt 3.69334695535e-06\n",
      "des_night_cnt 3.6265237147e-06\n",
      "shop_original_sum 3.37527206806e-06\n",
      "shop_afternoon_sum 3.29550762331e-06\n",
      "shop_afternoon_cnt 2.93554221498e-06\n",
      "shop_real_sum 2.72828114671e-06\n",
      "shop_real_sum_avg 2.72519355409e-06\n",
      "shop_cnt 2.70763198169e-06\n",
      "shop_original_sum_min 2.4843879721e-06\n",
      "shop_order_cnt 2.40682051813e-06\n",
      "get_com_managetype_not_known 2.11270844766e-06\n",
      "shop_com_cnt 1.48228953401e-06\n",
      "des_reduce_sum 0.0\n",
      "des_weekend_cnt 0.0\n",
      "des_weekend_realchargesum 0.0\n",
      "des_beforedawn_cnt 0.0\n",
      "des_use_beforedawn_cnt 0.0\n",
      "des_use_morning_cnt 0.0\n",
      "des_use_beforedawn_realchargesum 0.0\n",
      "des_use_morning_realchargesum 0.0\n",
      "des_com_roomnum 0.0\n",
      "des_large_cnt 0.0\n",
      "des_medium_cnt 0.0\n",
      "des_small_cnt 0.0\n",
      "des_reduce_cnt 0.0\n",
      "shop_wine_cnt 0.0\n",
      "shop_cigarette_cnt 0.0\n",
      "shop_before_dawn_cnt 0.0\n",
      "shop_morning_cnt 0.0\n",
      "shop_weekend_cnt 0.0\n",
      "shop_before_dawn_sum 0.0\n",
      "shop_morning_sum 0.0\n",
      "shop_weekend_sum 0.0\n",
      "shop_cross_com 0.0\n",
      "shop_com_roomnum 0.0\n",
      "song_age 0.0\n",
      "wechat_province_上海 0.0\n",
      "wechat_province_云南 0.0\n",
      "wechat_province_内蒙古 0.0\n",
      "wechat_province_北京 0.0\n",
      "wechat_province_台湾 0.0\n",
      "wechat_province_四川 0.0\n",
      "wechat_province_国外 0.0\n",
      "wechat_province_天津 0.0\n",
      "wechat_province_安徽 0.0\n",
      "wechat_province_山东 0.0\n",
      "wechat_province_山西 0.0\n",
      "wechat_province_广东 0.0\n",
      "wechat_province_广西 0.0\n",
      "wechat_province_新疆 0.0\n",
      "wechat_province_未知 0.0\n",
      "wechat_province_江苏 0.0\n",
      "wechat_province_江西 0.0\n",
      "wechat_province_河北 0.0\n",
      "wechat_province_河南 0.0\n",
      "wechat_province_浙江 0.0\n",
      "wechat_province_海南 0.0\n",
      "wechat_province_湖北 0.0\n",
      "wechat_province_湖南 0.0\n",
      "wechat_province_甘肃 0.0\n",
      "wechat_province_福建 0.0\n",
      "wechat_province_西藏 0.0\n",
      "wechat_province_贵州 0.0\n",
      "wechat_province_辽宁 0.0\n",
      "wechat_province_重庆 0.0\n",
      "wechat_province_陕西 0.0\n",
      "wechat_province_青海 0.0\n",
      "wechat_province_黑龙江 0.0\n",
      "wechat_country_中国 0.0\n",
      "wechat_country_国外 0.0\n",
      "wechat_country_未知 0.0\n",
      "get_com_regioncode_350000.0 0.0\n",
      "get_com_regioncode_440000.0 0.0\n",
      "get_com_regioncode_500000.0 0.0\n",
      "get_com_managetype_2.0 0.0\n",
      "age_from_song_year_cut_2.0 0.0\n",
      "age_from_song_year_cut_3.0 0.0\n",
      "age_from_song_year_cut_4.0 0.0\n",
      "age_from_song_year_cut_5.0 0.0\n",
      "age_from_song_year_cut_not_known 0.0\n",
      "age_from_song_language_1.0 0.0\n",
      "age_from_song_language_3.0 0.0\n",
      "shop_com_regioncode_310000.0 0.0\n",
      "shop_com_regioncode_350000.0 0.0\n",
      "shop_com_regioncode_440000.0 0.0\n",
      "shop_com_regioncode_500000.0 0.0\n",
      "shop_com_regioncode_not_known 0.0\n",
      "shop_com_managetype_1.0 0.0\n",
      "shop_com_managetype_2.0 0.0\n",
      "shop_com_managetype_not_known 0.0\n"
     ]
    }
   ],
   "source": [
    "for r in important_features:\n",
    "    print r[0], r[1]"
   ]
  },
  {
   "cell_type": "markdown",
   "metadata": {},
   "source": [
    "## 使用1e-5选特征结果"
   ]
  },
  {
   "cell_type": "code",
   "execution_count": 15,
   "metadata": {
    "collapsed": true
   },
   "outputs": [],
   "source": [
    "THRESHOLD = 1e-5\n",
    "importance_features = pd.DataFrame(important_features, columns=['feature', 'score'])\n",
    "filtered_features = importance_features.loc[importance_features['score']>THRESHOLD, 'feature'].values"
   ]
  },
  {
   "cell_type": "code",
   "execution_count": 16,
   "metadata": {
    "collapsed": false
   },
   "outputs": [
    {
     "data": {
      "text/plain": [
       "array(['lastconsume_diff_now', 'consumetotal', 'integralbalance',\n",
       "       'consumetimes', 'accountbalance', 'lastconsume_diff_create_hour',\n",
       "       'accountcash', 'gender', 'lastconsume_diff_create_day',\n",
       "       'song_play_cnt', 'age_from_song_language_not_known',\n",
       "       'age_from_song_language_2.0', 'des_guestnumber_max',\n",
       "       'des_companyid', 'des_charge_max', 'use_time_sum',\n",
       "       'des_charge_mean', 'des_realcharge_mean', 'des_realcharge_max',\n",
       "       'des_afternoon_cnt', 'des_use_night_cnt', 'des_guestnumber_min',\n",
       "       'des_procharge_sum'], dtype=object)"
      ]
     },
     "execution_count": 16,
     "metadata": {},
     "output_type": "execute_result"
    }
   ],
   "source": [
    "filtered_features"
   ]
  },
  {
   "cell_type": "code",
   "execution_count": 17,
   "metadata": {
    "collapsed": false
   },
   "outputs": [
    {
     "data": {
      "text/plain": [
       "23"
      ]
     },
     "execution_count": 17,
     "metadata": {},
     "output_type": "execute_result"
    }
   ],
   "source": [
    "len(filtered_features)"
   ]
  },
  {
   "cell_type": "markdown",
   "metadata": {},
   "source": [
    "## 使用1e-6特征选出特征"
   ]
  },
  {
   "cell_type": "code",
   "execution_count": 18,
   "metadata": {
    "collapsed": false
   },
   "outputs": [],
   "source": [
    "THRESHOLD = 1e-6\n",
    "importance_features = pd.DataFrame(important_features, columns=['feature', 'score'])\n",
    "filtered_features = importance_features.loc[importance_features['score']>THRESHOLD, 'feature'].values"
   ]
  },
  {
   "cell_type": "code",
   "execution_count": 19,
   "metadata": {
    "collapsed": false,
    "scrolled": true
   },
   "outputs": [
    {
     "data": {
      "text/plain": [
       "array(['lastconsume_diff_now', 'consumetotal', 'integralbalance',\n",
       "       'consumetimes', 'accountbalance', 'lastconsume_diff_create_hour',\n",
       "       'accountcash', 'gender', 'lastconsume_diff_create_day',\n",
       "       'song_play_cnt', 'age_from_song_language_not_known',\n",
       "       'age_from_song_language_2.0', 'des_guestnumber_max',\n",
       "       'des_companyid', 'des_charge_max', 'use_time_sum',\n",
       "       'des_charge_mean', 'des_realcharge_mean', 'des_realcharge_max',\n",
       "       'des_afternoon_cnt', 'des_use_night_cnt', 'des_guestnumber_min',\n",
       "       'des_procharge_sum', 'des_workday_cnt', 'des_charge_sum',\n",
       "       'des_company_cnt', 'des_work_realchargesum', 'des_charge_min',\n",
       "       'des_realcharge_min', 'des_use_afternoon_cnt', 'use_company_id',\n",
       "       'shop_real_sum_max', 'des_cnt', 'get_coupon_type_cnt',\n",
       "       'source_company_id', 'des_use_night_realchargesum',\n",
       "       'des_guestnumber_mean', 'get_com_regioncode_310000.0',\n",
       "       'coupon_get_sum', 'get_coupon_crosscom',\n",
       "       'des_use_afternoon_realchargesum', 'des_use_reg', 'shop_night_sum',\n",
       "       'shop_companyid', 'get_com_regioncode_not_known',\n",
       "       'get_com_managetype_1.0', 'shop_weekday_sum', 'use_company_cnt',\n",
       "       'des_realcharge_sum', 'shop_real_sum_min', 'use_coupon_type_cnt',\n",
       "       'coupon_get_cnt', 'source_company_cnt', 'shop_original_sum_avg',\n",
       "       'use_coupon_order_sum', 'des_morning_cnt', 'get_com_roomnum',\n",
       "       'shop_original_sum_max', 'use_coupon_sum', 'shop_weekday_cnt',\n",
       "       'shop_night_cnt', 'des_night_cnt', 'shop_original_sum',\n",
       "       'shop_afternoon_sum', 'shop_afternoon_cnt', 'shop_real_sum',\n",
       "       'shop_real_sum_avg', 'shop_cnt', 'shop_original_sum_min',\n",
       "       'shop_order_cnt', 'get_com_managetype_not_known', 'shop_com_cnt'], dtype=object)"
      ]
     },
     "execution_count": 19,
     "metadata": {},
     "output_type": "execute_result"
    }
   ],
   "source": [
    "filtered_features"
   ]
  },
  {
   "cell_type": "code",
   "execution_count": 20,
   "metadata": {
    "collapsed": false
   },
   "outputs": [
    {
     "data": {
      "text/plain": [
       "72"
      ]
     },
     "execution_count": 20,
     "metadata": {},
     "output_type": "execute_result"
    }
   ],
   "source": [
    "len(filtered_features)"
   ]
  },
  {
   "cell_type": "markdown",
   "metadata": {},
   "source": [
    "## 按选择到的特征分别处理训练集和测试集"
   ]
  },
  {
   "cell_type": "code",
   "execution_count": 21,
   "metadata": {
    "collapsed": false
   },
   "outputs": [],
   "source": [
    "X_test = X_test[filtered_features]"
   ]
  },
  {
   "cell_type": "code",
   "execution_count": 22,
   "metadata": {
    "collapsed": true
   },
   "outputs": [],
   "source": [
    "X_train = X_train[filtered_features]"
   ]
  },
  {
   "cell_type": "code",
   "execution_count": 23,
   "metadata": {
    "collapsed": false
   },
   "outputs": [
    {
     "data": {
      "text/html": [
       "<div>\n",
       "<table border=\"1\" class=\"dataframe\">\n",
       "  <thead>\n",
       "    <tr style=\"text-align: right;\">\n",
       "      <th></th>\n",
       "      <th>lastconsume_diff_now</th>\n",
       "      <th>consumetotal</th>\n",
       "      <th>integralbalance</th>\n",
       "      <th>consumetimes</th>\n",
       "      <th>accountbalance</th>\n",
       "      <th>lastconsume_diff_create_hour</th>\n",
       "      <th>accountcash</th>\n",
       "      <th>gender</th>\n",
       "      <th>lastconsume_diff_create_day</th>\n",
       "      <th>song_play_cnt</th>\n",
       "      <th>...</th>\n",
       "      <th>shop_original_sum</th>\n",
       "      <th>shop_afternoon_sum</th>\n",
       "      <th>shop_afternoon_cnt</th>\n",
       "      <th>shop_real_sum</th>\n",
       "      <th>shop_real_sum_avg</th>\n",
       "      <th>shop_cnt</th>\n",
       "      <th>shop_original_sum_min</th>\n",
       "      <th>shop_order_cnt</th>\n",
       "      <th>get_com_managetype_not_known</th>\n",
       "      <th>shop_com_cnt</th>\n",
       "    </tr>\n",
       "  </thead>\n",
       "  <tbody>\n",
       "    <tr>\n",
       "      <th>270032</th>\n",
       "      <td>380</td>\n",
       "      <td>597</td>\n",
       "      <td>547</td>\n",
       "      <td>2</td>\n",
       "      <td>53</td>\n",
       "      <td>0</td>\n",
       "      <td>53</td>\n",
       "      <td>0</td>\n",
       "      <td>0</td>\n",
       "      <td>0</td>\n",
       "      <td>...</td>\n",
       "      <td>0</td>\n",
       "      <td>0</td>\n",
       "      <td>0</td>\n",
       "      <td>0</td>\n",
       "      <td>0</td>\n",
       "      <td>0</td>\n",
       "      <td>0</td>\n",
       "      <td>0</td>\n",
       "      <td>1</td>\n",
       "      <td>0</td>\n",
       "    </tr>\n",
       "    <tr>\n",
       "      <th>272418</th>\n",
       "      <td>369</td>\n",
       "      <td>1256</td>\n",
       "      <td>124</td>\n",
       "      <td>3</td>\n",
       "      <td>0</td>\n",
       "      <td>23</td>\n",
       "      <td>0</td>\n",
       "      <td>0</td>\n",
       "      <td>4</td>\n",
       "      <td>0</td>\n",
       "      <td>...</td>\n",
       "      <td>0</td>\n",
       "      <td>0</td>\n",
       "      <td>0</td>\n",
       "      <td>0</td>\n",
       "      <td>0</td>\n",
       "      <td>0</td>\n",
       "      <td>0</td>\n",
       "      <td>0</td>\n",
       "      <td>1</td>\n",
       "      <td>0</td>\n",
       "    </tr>\n",
       "    <tr>\n",
       "      <th>277465</th>\n",
       "      <td>359</td>\n",
       "      <td>544</td>\n",
       "      <td>0</td>\n",
       "      <td>2</td>\n",
       "      <td>56</td>\n",
       "      <td>22</td>\n",
       "      <td>56</td>\n",
       "      <td>0</td>\n",
       "      <td>1</td>\n",
       "      <td>0</td>\n",
       "      <td>...</td>\n",
       "      <td>0</td>\n",
       "      <td>0</td>\n",
       "      <td>0</td>\n",
       "      <td>0</td>\n",
       "      <td>0</td>\n",
       "      <td>0</td>\n",
       "      <td>0</td>\n",
       "      <td>0</td>\n",
       "      <td>1</td>\n",
       "      <td>0</td>\n",
       "    </tr>\n",
       "    <tr>\n",
       "      <th>272332</th>\n",
       "      <td>374</td>\n",
       "      <td>0</td>\n",
       "      <td>0</td>\n",
       "      <td>0</td>\n",
       "      <td>0</td>\n",
       "      <td>0</td>\n",
       "      <td>0</td>\n",
       "      <td>1</td>\n",
       "      <td>0</td>\n",
       "      <td>0</td>\n",
       "      <td>...</td>\n",
       "      <td>0</td>\n",
       "      <td>0</td>\n",
       "      <td>0</td>\n",
       "      <td>0</td>\n",
       "      <td>0</td>\n",
       "      <td>0</td>\n",
       "      <td>0</td>\n",
       "      <td>0</td>\n",
       "      <td>1</td>\n",
       "      <td>0</td>\n",
       "    </tr>\n",
       "    <tr>\n",
       "      <th>279727</th>\n",
       "      <td>356</td>\n",
       "      <td>420</td>\n",
       "      <td>420</td>\n",
       "      <td>1</td>\n",
       "      <td>0</td>\n",
       "      <td>3</td>\n",
       "      <td>0</td>\n",
       "      <td>0</td>\n",
       "      <td>0</td>\n",
       "      <td>0</td>\n",
       "      <td>...</td>\n",
       "      <td>0</td>\n",
       "      <td>0</td>\n",
       "      <td>0</td>\n",
       "      <td>0</td>\n",
       "      <td>0</td>\n",
       "      <td>0</td>\n",
       "      <td>0</td>\n",
       "      <td>0</td>\n",
       "      <td>1</td>\n",
       "      <td>0</td>\n",
       "    </tr>\n",
       "  </tbody>\n",
       "</table>\n",
       "<p>5 rows × 72 columns</p>\n",
       "</div>"
      ],
      "text/plain": [
       "        lastconsume_diff_now  consumetotal  integralbalance  consumetimes  \\\n",
       "270032                   380           597              547             2   \n",
       "272418                   369          1256              124             3   \n",
       "277465                   359           544                0             2   \n",
       "272332                   374             0                0             0   \n",
       "279727                   356           420              420             1   \n",
       "\n",
       "        accountbalance  lastconsume_diff_create_hour  accountcash  gender  \\\n",
       "270032              53                             0           53       0   \n",
       "272418               0                            23            0       0   \n",
       "277465              56                            22           56       0   \n",
       "272332               0                             0            0       1   \n",
       "279727               0                             3            0       0   \n",
       "\n",
       "        lastconsume_diff_create_day  song_play_cnt      ...       \\\n",
       "270032                            0              0      ...        \n",
       "272418                            4              0      ...        \n",
       "277465                            1              0      ...        \n",
       "272332                            0              0      ...        \n",
       "279727                            0              0      ...        \n",
       "\n",
       "        shop_original_sum  shop_afternoon_sum  shop_afternoon_cnt  \\\n",
       "270032                  0                   0                   0   \n",
       "272418                  0                   0                   0   \n",
       "277465                  0                   0                   0   \n",
       "272332                  0                   0                   0   \n",
       "279727                  0                   0                   0   \n",
       "\n",
       "        shop_real_sum  shop_real_sum_avg  shop_cnt  shop_original_sum_min  \\\n",
       "270032              0                  0         0                      0   \n",
       "272418              0                  0         0                      0   \n",
       "277465              0                  0         0                      0   \n",
       "272332              0                  0         0                      0   \n",
       "279727              0                  0         0                      0   \n",
       "\n",
       "        shop_order_cnt  get_com_managetype_not_known  shop_com_cnt  \n",
       "270032               0                             1             0  \n",
       "272418               0                             1             0  \n",
       "277465               0                             1             0  \n",
       "272332               0                             1             0  \n",
       "279727               0                             1             0  \n",
       "\n",
       "[5 rows x 72 columns]"
      ]
     },
     "execution_count": 23,
     "metadata": {},
     "output_type": "execute_result"
    }
   ],
   "source": [
    "X_train.head()"
   ]
  },
  {
   "cell_type": "code",
   "execution_count": 24,
   "metadata": {
    "collapsed": true
   },
   "outputs": [],
   "source": [
    "test = test[filtered_features]"
   ]
  },
  {
   "cell_type": "markdown",
   "metadata": {},
   "source": [
    "# 3. Xgboost模型训练"
   ]
  },
  {
   "cell_type": "code",
   "execution_count": 25,
   "metadata": {
    "collapsed": true
   },
   "outputs": [],
   "source": [
    "params={\n",
    "'booster':'gbtree',\n",
    "'objective': 'reg:linear', # 这里用户年龄是连续的，因此采用了默认的线性分类器\n",
    "'gamma':0.05,  # 在树的叶子节点下一个分区的最小损失，越大算法模型越保守 [0:]\n",
    "'max_depth':12, # 构建树的深度 [1:]\n",
    "#'lambda':450,  # L2 正则项权重\n",
    "'subsample':0.4, # 采样训练数据，设置为0.5，随机选择一般的数据实例 (0:1]\n",
    "'colsample_bytree':0.7, # 构建树树时的采样比率 (0:1]\n",
    "#'min_child_weight':12, # 节点的最少特征数\n",
    "'silent':1 ,\n",
    "'eta': 0.01, # 如同学习率\n",
    "'seed':710,\n",
    "'nthread':4,# cpu 线程数,根据自己U的个数适当调整\n",
    "}"
   ]
  },
  {
   "cell_type": "code",
   "execution_count": 26,
   "metadata": {
    "collapsed": true
   },
   "outputs": [],
   "source": [
    "plst = list(params.items())"
   ]
  },
  {
   "cell_type": "code",
   "execution_count": 27,
   "metadata": {
    "collapsed": true
   },
   "outputs": [],
   "source": [
    "num_rounds = 600 # 迭代次数\n",
    "xgtest = xgb.DMatrix(test)\n",
    "xgtrain = xgb.DMatrix(X_train, label=y_train)\n",
    "xgval = xgb.DMatrix(X_test, label=y_test)"
   ]
  },
  {
   "cell_type": "markdown",
   "metadata": {},
   "source": [
    "### return训练和验证的标准误差"
   ]
  },
  {
   "cell_type": "code",
   "execution_count": 28,
   "metadata": {
    "collapsed": true
   },
   "outputs": [],
   "source": [
    "watchlist = [(xgtrain, 'train'),(xgval, 'val')]"
   ]
  },
  {
   "cell_type": "markdown",
   "metadata": {},
   "source": [
    "### 训练模型"
   ]
  },
  {
   "cell_type": "markdown",
   "metadata": {},
   "source": [
    "#### 使用回归树特征选择后训练结果"
   ]
  },
  {
   "cell_type": "code",
   "execution_count": null,
   "metadata": {
    "collapsed": true
   },
   "outputs": [],
   "source": []
  },
  {
   "cell_type": "code",
   "execution_count": null,
   "metadata": {
    "collapsed": true
   },
   "outputs": [],
   "source": []
  },
  {
   "cell_type": "code",
   "execution_count": null,
   "metadata": {
    "collapsed": true
   },
   "outputs": [],
   "source": []
  },
  {
   "cell_type": "markdown",
   "metadata": {},
   "source": [
    "#### 使用分类树特征选择后的训练结果"
   ]
  },
  {
   "cell_type": "code",
   "execution_count": 29,
   "metadata": {
    "collapsed": false
   },
   "outputs": [
    {
     "name": "stderr",
     "output_type": "stream",
     "text": [
      "Will train until val error hasn't decreased in 50 rounds.\n",
      "[0]\ttrain-rmse:26.754517\tval-rmse:27.076355\n",
      "[1]\ttrain-rmse:26.507433\tval-rmse:26.829119\n",
      "[2]\ttrain-rmse:26.263714\tval-rmse:26.585361\n",
      "[3]\ttrain-rmse:26.023752\tval-rmse:26.345247\n",
      "[4]\ttrain-rmse:25.785013\tval-rmse:26.106462\n",
      "[5]\ttrain-rmse:25.549324\tval-rmse:25.870890\n",
      "[6]\ttrain-rmse:25.315861\tval-rmse:25.637770\n",
      "[7]\ttrain-rmse:25.084364\tval-rmse:25.406252\n",
      "[8]\ttrain-rmse:24.855721\tval-rmse:25.177628\n",
      "[9]\ttrain-rmse:24.629303\tval-rmse:24.951685\n",
      "[10]\ttrain-rmse:24.405464\tval-rmse:24.727772\n",
      "[11]\ttrain-rmse:24.184996\tval-rmse:24.507671\n",
      "[12]\ttrain-rmse:23.966570\tval-rmse:24.289457\n",
      "[13]\ttrain-rmse:23.749325\tval-rmse:24.072374\n",
      "[14]\ttrain-rmse:23.535444\tval-rmse:23.858900\n",
      "[15]\ttrain-rmse:23.325338\tval-rmse:23.648846\n",
      "[16]\ttrain-rmse:23.116831\tval-rmse:23.440639\n",
      "[17]\ttrain-rmse:22.910149\tval-rmse:23.233952\n",
      "[18]\ttrain-rmse:22.706268\tval-rmse:23.030333\n",
      "[19]\ttrain-rmse:22.503792\tval-rmse:22.828291\n",
      "[20]\ttrain-rmse:22.304035\tval-rmse:22.628567\n",
      "[21]\ttrain-rmse:22.105782\tval-rmse:22.430738\n",
      "[22]\ttrain-rmse:21.909853\tval-rmse:22.234776\n",
      "[23]\ttrain-rmse:21.717482\tval-rmse:22.042587\n",
      "[24]\ttrain-rmse:21.526625\tval-rmse:21.851810\n",
      "[25]\ttrain-rmse:21.336817\tval-rmse:21.661972\n",
      "[26]\ttrain-rmse:21.148792\tval-rmse:21.474287\n",
      "[27]\ttrain-rmse:20.963697\tval-rmse:21.289984\n",
      "[28]\ttrain-rmse:20.781473\tval-rmse:21.108086\n",
      "[29]\ttrain-rmse:20.599150\tval-rmse:20.925753\n",
      "[30]\ttrain-rmse:20.420732\tval-rmse:20.747700\n",
      "[31]\ttrain-rmse:20.243994\tval-rmse:20.571762\n",
      "[32]\ttrain-rmse:20.068966\tval-rmse:20.397482\n",
      "[33]\ttrain-rmse:19.895281\tval-rmse:20.223959\n",
      "[34]\ttrain-rmse:19.724070\tval-rmse:20.053392\n",
      "[35]\ttrain-rmse:19.554710\tval-rmse:19.884445\n",
      "[36]\ttrain-rmse:19.389154\tval-rmse:19.719969\n",
      "[37]\ttrain-rmse:19.224014\tval-rmse:19.554989\n",
      "[38]\ttrain-rmse:19.059612\tval-rmse:19.391401\n",
      "[39]\ttrain-rmse:18.896776\tval-rmse:19.229034\n",
      "[40]\ttrain-rmse:18.737562\tval-rmse:19.070255\n",
      "[41]\ttrain-rmse:18.578093\tval-rmse:18.911642\n",
      "[42]\ttrain-rmse:18.420635\tval-rmse:18.754148\n",
      "[43]\ttrain-rmse:18.266811\tval-rmse:18.600901\n",
      "[44]\ttrain-rmse:18.115074\tval-rmse:18.449461\n",
      "[45]\ttrain-rmse:17.964172\tval-rmse:18.299112\n",
      "[46]\ttrain-rmse:17.817169\tval-rmse:18.153418\n",
      "[47]\ttrain-rmse:17.669508\tval-rmse:18.006739\n",
      "[48]\ttrain-rmse:17.523598\tval-rmse:17.861223\n",
      "[49]\ttrain-rmse:17.378839\tval-rmse:17.717033\n",
      "[50]\ttrain-rmse:17.236227\tval-rmse:17.574970\n",
      "[51]\ttrain-rmse:17.096184\tval-rmse:17.435509\n",
      "[52]\ttrain-rmse:16.957056\tval-rmse:17.297049\n",
      "[53]\ttrain-rmse:16.819384\tval-rmse:17.159893\n",
      "[54]\ttrain-rmse:16.683598\tval-rmse:17.024868\n",
      "[55]\ttrain-rmse:16.550688\tval-rmse:16.892250\n",
      "[56]\ttrain-rmse:16.418858\tval-rmse:16.762217\n",
      "[57]\ttrain-rmse:16.288984\tval-rmse:16.633543\n",
      "[58]\ttrain-rmse:16.160166\tval-rmse:16.505373\n",
      "[59]\ttrain-rmse:16.032829\tval-rmse:16.379744\n",
      "[60]\ttrain-rmse:15.907095\tval-rmse:16.254812\n",
      "[61]\ttrain-rmse:15.781857\tval-rmse:16.130386\n",
      "[62]\ttrain-rmse:15.658649\tval-rmse:16.008669\n",
      "[63]\ttrain-rmse:15.536686\tval-rmse:15.887788\n",
      "[64]\ttrain-rmse:15.416321\tval-rmse:15.769145\n",
      "[65]\ttrain-rmse:15.299744\tval-rmse:15.654185\n",
      "[66]\ttrain-rmse:15.183703\tval-rmse:15.538943\n",
      "[67]\ttrain-rmse:15.067878\tval-rmse:15.424595\n",
      "[68]\ttrain-rmse:14.953876\tval-rmse:15.312764\n",
      "[69]\ttrain-rmse:14.840509\tval-rmse:15.201347\n",
      "[70]\ttrain-rmse:14.728450\tval-rmse:15.090563\n",
      "[71]\ttrain-rmse:14.619270\tval-rmse:14.982771\n",
      "[72]\ttrain-rmse:14.510481\tval-rmse:14.875924\n",
      "[73]\ttrain-rmse:14.403333\tval-rmse:14.770662\n",
      "[74]\ttrain-rmse:14.296039\tval-rmse:14.665594\n",
      "[75]\ttrain-rmse:14.192003\tval-rmse:14.562837\n",
      "[76]\ttrain-rmse:14.087852\tval-rmse:14.461472\n",
      "[77]\ttrain-rmse:13.985780\tval-rmse:14.362569\n",
      "[78]\ttrain-rmse:13.885526\tval-rmse:14.263556\n",
      "[79]\ttrain-rmse:13.784376\tval-rmse:14.166965\n",
      "[80]\ttrain-rmse:13.685200\tval-rmse:14.070132\n",
      "[81]\ttrain-rmse:13.587353\tval-rmse:13.974874\n",
      "[82]\ttrain-rmse:13.490390\tval-rmse:13.880383\n",
      "[83]\ttrain-rmse:13.394705\tval-rmse:13.787832\n",
      "[84]\ttrain-rmse:13.300595\tval-rmse:13.695246\n",
      "[85]\ttrain-rmse:13.207703\tval-rmse:13.603858\n",
      "[86]\ttrain-rmse:13.114985\tval-rmse:13.513988\n",
      "[87]\ttrain-rmse:13.025612\tval-rmse:13.427739\n",
      "[88]\ttrain-rmse:12.935864\tval-rmse:13.339716\n",
      "[89]\ttrain-rmse:12.847490\tval-rmse:13.253197\n",
      "[90]\ttrain-rmse:12.761425\tval-rmse:13.171449\n",
      "[91]\ttrain-rmse:12.674014\tval-rmse:13.087117\n",
      "[92]\ttrain-rmse:12.589045\tval-rmse:13.005530\n",
      "[93]\ttrain-rmse:12.504452\tval-rmse:12.923104\n",
      "[94]\ttrain-rmse:12.421179\tval-rmse:12.841964\n",
      "[95]\ttrain-rmse:12.339761\tval-rmse:12.763452\n",
      "[96]\ttrain-rmse:12.258759\tval-rmse:12.685231\n",
      "[97]\ttrain-rmse:12.179628\tval-rmse:12.609237\n",
      "[98]\ttrain-rmse:12.100956\tval-rmse:12.533563\n",
      "[99]\ttrain-rmse:12.021967\tval-rmse:12.457285\n",
      "[100]\ttrain-rmse:11.945538\tval-rmse:12.383411\n",
      "[101]\ttrain-rmse:11.870718\tval-rmse:12.310276\n",
      "[102]\ttrain-rmse:11.795752\tval-rmse:12.238239\n",
      "[103]\ttrain-rmse:11.722133\tval-rmse:12.167795\n",
      "[104]\ttrain-rmse:11.649655\tval-rmse:12.097888\n",
      "[105]\ttrain-rmse:11.576957\tval-rmse:12.029396\n",
      "[106]\ttrain-rmse:11.506177\tval-rmse:11.961063\n",
      "[107]\ttrain-rmse:11.436793\tval-rmse:11.894819\n",
      "[108]\ttrain-rmse:11.367997\tval-rmse:11.829253\n",
      "[109]\ttrain-rmse:11.300750\tval-rmse:11.764395\n",
      "[110]\ttrain-rmse:11.233664\tval-rmse:11.699817\n",
      "[111]\ttrain-rmse:11.165896\tval-rmse:11.635721\n",
      "[112]\ttrain-rmse:11.099999\tval-rmse:11.570715\n",
      "[113]\ttrain-rmse:11.034769\tval-rmse:11.507421\n",
      "[114]\ttrain-rmse:10.971113\tval-rmse:11.446042\n",
      "[115]\ttrain-rmse:10.907200\tval-rmse:11.385798\n",
      "[116]\ttrain-rmse:10.844743\tval-rmse:11.325733\n",
      "[117]\ttrain-rmse:10.783837\tval-rmse:11.266996\n",
      "[118]\ttrain-rmse:10.723577\tval-rmse:11.209785\n",
      "[119]\ttrain-rmse:10.663811\tval-rmse:11.152855\n",
      "[120]\ttrain-rmse:10.605900\tval-rmse:11.098427\n",
      "[121]\ttrain-rmse:10.546808\tval-rmse:11.041771\n",
      "[122]\ttrain-rmse:10.487018\tval-rmse:10.986541\n",
      "[123]\ttrain-rmse:10.428803\tval-rmse:10.931395\n",
      "[124]\ttrain-rmse:10.373269\tval-rmse:10.881682\n",
      "[125]\ttrain-rmse:10.318532\tval-rmse:10.830772\n",
      "[126]\ttrain-rmse:10.264091\tval-rmse:10.778889\n",
      "[127]\ttrain-rmse:10.210087\tval-rmse:10.726844\n",
      "[128]\ttrain-rmse:10.155555\tval-rmse:10.676862\n",
      "[129]\ttrain-rmse:10.103253\tval-rmse:10.627454\n",
      "[130]\ttrain-rmse:10.050900\tval-rmse:10.578287\n",
      "[131]\ttrain-rmse:9.998793\tval-rmse:10.529483\n",
      "[132]\ttrain-rmse:9.948634\tval-rmse:10.483923\n",
      "[133]\ttrain-rmse:9.897655\tval-rmse:10.437078\n",
      "[134]\ttrain-rmse:9.849339\tval-rmse:10.392978\n",
      "[135]\ttrain-rmse:9.801600\tval-rmse:10.347425\n",
      "[136]\ttrain-rmse:9.753985\tval-rmse:10.302526\n",
      "[137]\ttrain-rmse:9.707383\tval-rmse:10.258823\n",
      "[138]\ttrain-rmse:9.662159\tval-rmse:10.216199\n",
      "[139]\ttrain-rmse:9.616483\tval-rmse:10.172335\n",
      "[140]\ttrain-rmse:9.571493\tval-rmse:10.130002\n",
      "[141]\ttrain-rmse:9.526545\tval-rmse:10.089427\n",
      "[142]\ttrain-rmse:9.482496\tval-rmse:10.049165\n",
      "[143]\ttrain-rmse:9.440125\tval-rmse:10.011234\n",
      "[144]\ttrain-rmse:9.396485\tval-rmse:9.970606\n",
      "[145]\ttrain-rmse:9.354448\tval-rmse:9.931564\n",
      "[146]\ttrain-rmse:9.312608\tval-rmse:9.894670\n",
      "[147]\ttrain-rmse:9.272141\tval-rmse:9.857941\n",
      "[148]\ttrain-rmse:9.231502\tval-rmse:9.821358\n",
      "[149]\ttrain-rmse:9.191241\tval-rmse:9.784729\n",
      "[150]\ttrain-rmse:9.151626\tval-rmse:9.748383\n",
      "[151]\ttrain-rmse:9.111081\tval-rmse:9.712687\n",
      "[152]\ttrain-rmse:9.072883\tval-rmse:9.678613\n",
      "[153]\ttrain-rmse:9.033393\tval-rmse:9.644471\n",
      "[154]\ttrain-rmse:8.997194\tval-rmse:9.610792\n",
      "[155]\ttrain-rmse:8.959385\tval-rmse:9.576794\n",
      "[156]\ttrain-rmse:8.922144\tval-rmse:9.542065\n",
      "[157]\ttrain-rmse:8.885415\tval-rmse:9.510191\n",
      "[158]\ttrain-rmse:8.850403\tval-rmse:9.478546\n",
      "[159]\ttrain-rmse:8.815933\tval-rmse:9.446867\n",
      "[160]\ttrain-rmse:8.781954\tval-rmse:9.415337\n",
      "[161]\ttrain-rmse:8.748360\tval-rmse:9.385940\n",
      "[162]\ttrain-rmse:8.716172\tval-rmse:9.357419\n",
      "[163]\ttrain-rmse:8.683904\tval-rmse:9.329210\n",
      "[164]\ttrain-rmse:8.650512\tval-rmse:9.301518\n",
      "[165]\ttrain-rmse:8.619283\tval-rmse:9.272261\n",
      "[166]\ttrain-rmse:8.586726\tval-rmse:9.244856\n",
      "[167]\ttrain-rmse:8.555329\tval-rmse:9.218408\n",
      "[168]\ttrain-rmse:8.526032\tval-rmse:9.191291\n",
      "[169]\ttrain-rmse:8.494657\tval-rmse:9.166450\n",
      "[170]\ttrain-rmse:8.465248\tval-rmse:9.141372\n",
      "[171]\ttrain-rmse:8.435707\tval-rmse:9.115808\n",
      "[172]\ttrain-rmse:8.407222\tval-rmse:9.088950\n",
      "[173]\ttrain-rmse:8.378033\tval-rmse:9.065398\n",
      "[174]\ttrain-rmse:8.348770\tval-rmse:9.040519\n",
      "[175]\ttrain-rmse:8.322098\tval-rmse:9.017107\n",
      "[176]\ttrain-rmse:8.293721\tval-rmse:8.993824\n",
      "[177]\ttrain-rmse:8.265469\tval-rmse:8.967726\n",
      "[178]\ttrain-rmse:8.238903\tval-rmse:8.944211\n",
      "[179]\ttrain-rmse:8.213452\tval-rmse:8.921279\n",
      "[180]\ttrain-rmse:8.186993\tval-rmse:8.899477\n",
      "[181]\ttrain-rmse:8.161554\tval-rmse:8.878139\n",
      "[182]\ttrain-rmse:8.136211\tval-rmse:8.855161\n",
      "[183]\ttrain-rmse:8.111154\tval-rmse:8.833673\n",
      "[184]\ttrain-rmse:8.087595\tval-rmse:8.812566\n",
      "[185]\ttrain-rmse:8.064178\tval-rmse:8.792974\n",
      "[186]\ttrain-rmse:8.039527\tval-rmse:8.772729\n",
      "[187]\ttrain-rmse:8.016118\tval-rmse:8.752257\n",
      "[188]\ttrain-rmse:7.991714\tval-rmse:8.732323\n",
      "[189]\ttrain-rmse:7.969374\tval-rmse:8.713449\n",
      "[190]\ttrain-rmse:7.945961\tval-rmse:8.694419\n",
      "[191]\ttrain-rmse:7.923794\tval-rmse:8.676203\n",
      "[192]\ttrain-rmse:7.902484\tval-rmse:8.658908\n",
      "[193]\ttrain-rmse:7.880432\tval-rmse:8.640302\n",
      "[194]\ttrain-rmse:7.859088\tval-rmse:8.623413\n",
      "[195]\ttrain-rmse:7.836722\tval-rmse:8.605803\n",
      "[196]\ttrain-rmse:7.815373\tval-rmse:8.588069\n",
      "[197]\ttrain-rmse:7.793352\tval-rmse:8.570317\n",
      "[198]\ttrain-rmse:7.771485\tval-rmse:8.554398\n",
      "[199]\ttrain-rmse:7.751498\tval-rmse:8.537084\n",
      "[200]\ttrain-rmse:7.731834\tval-rmse:8.521548\n",
      "[201]\ttrain-rmse:7.711489\tval-rmse:8.505065\n",
      "[202]\ttrain-rmse:7.692156\tval-rmse:8.489899\n",
      "[203]\ttrain-rmse:7.671146\tval-rmse:8.475794\n",
      "[204]\ttrain-rmse:7.651947\tval-rmse:8.459162\n",
      "[205]\ttrain-rmse:7.634216\tval-rmse:8.445013\n",
      "[206]\ttrain-rmse:7.616720\tval-rmse:8.430686\n",
      "[207]\ttrain-rmse:7.598408\tval-rmse:8.416650\n",
      "[208]\ttrain-rmse:7.580616\tval-rmse:8.402877\n",
      "[209]\ttrain-rmse:7.563070\tval-rmse:8.388391\n",
      "[210]\ttrain-rmse:7.546018\tval-rmse:8.374120\n",
      "[211]\ttrain-rmse:7.529032\tval-rmse:8.360725\n",
      "[212]\ttrain-rmse:7.511414\tval-rmse:8.348321\n",
      "[213]\ttrain-rmse:7.494490\tval-rmse:8.335495\n",
      "[214]\ttrain-rmse:7.477481\tval-rmse:8.323498\n",
      "[215]\ttrain-rmse:7.462544\tval-rmse:8.310147\n",
      "[216]\ttrain-rmse:7.447735\tval-rmse:8.297496\n",
      "[217]\ttrain-rmse:7.431613\tval-rmse:8.286411\n",
      "[218]\ttrain-rmse:7.416923\tval-rmse:8.273827\n",
      "[219]\ttrain-rmse:7.402312\tval-rmse:8.261891\n",
      "[220]\ttrain-rmse:7.388177\tval-rmse:8.250492\n",
      "[221]\ttrain-rmse:7.373943\tval-rmse:8.239816\n",
      "[222]\ttrain-rmse:7.358238\tval-rmse:8.228524\n",
      "[223]\ttrain-rmse:7.344423\tval-rmse:8.217443\n",
      "[224]\ttrain-rmse:7.330724\tval-rmse:8.206819\n",
      "[225]\ttrain-rmse:7.315975\tval-rmse:8.196341\n",
      "[226]\ttrain-rmse:7.302858\tval-rmse:8.186385\n",
      "[227]\ttrain-rmse:7.288527\tval-rmse:8.176803\n",
      "[228]\ttrain-rmse:7.274697\tval-rmse:8.166077\n",
      "[229]\ttrain-rmse:7.262939\tval-rmse:8.156090\n",
      "[230]\ttrain-rmse:7.249193\tval-rmse:8.146410\n",
      "[231]\ttrain-rmse:7.237022\tval-rmse:8.137366\n",
      "[232]\ttrain-rmse:7.223640\tval-rmse:8.128076\n",
      "[233]\ttrain-rmse:7.212904\tval-rmse:8.118745\n",
      "[234]\ttrain-rmse:7.200387\tval-rmse:8.110108\n",
      "[235]\ttrain-rmse:7.187527\tval-rmse:8.102347\n",
      "[236]\ttrain-rmse:7.175797\tval-rmse:8.094501\n",
      "[237]\ttrain-rmse:7.162641\tval-rmse:8.085840\n",
      "[238]\ttrain-rmse:7.152096\tval-rmse:8.077729\n",
      "[239]\ttrain-rmse:7.141701\tval-rmse:8.069233\n",
      "[240]\ttrain-rmse:7.130806\tval-rmse:8.061458\n",
      "[241]\ttrain-rmse:7.120578\tval-rmse:8.054683\n",
      "[242]\ttrain-rmse:7.109258\tval-rmse:8.046665\n",
      "[243]\ttrain-rmse:7.097897\tval-rmse:8.038770\n",
      "[244]\ttrain-rmse:7.086338\tval-rmse:8.031832\n",
      "[245]\ttrain-rmse:7.074813\tval-rmse:8.024025\n",
      "[246]\ttrain-rmse:7.062017\tval-rmse:8.015899\n",
      "[247]\ttrain-rmse:7.050619\tval-rmse:8.008374\n",
      "[248]\ttrain-rmse:7.038921\tval-rmse:8.001086\n",
      "[249]\ttrain-rmse:7.028006\tval-rmse:7.994473\n",
      "[250]\ttrain-rmse:7.018202\tval-rmse:7.988512\n",
      "[251]\ttrain-rmse:7.007950\tval-rmse:7.982119\n",
      "[252]\ttrain-rmse:6.998019\tval-rmse:7.975846\n",
      "[253]\ttrain-rmse:6.988497\tval-rmse:7.968807\n",
      "[254]\ttrain-rmse:6.978071\tval-rmse:7.962739\n",
      "[255]\ttrain-rmse:6.969841\tval-rmse:7.956369\n",
      "[256]\ttrain-rmse:6.960612\tval-rmse:7.951128\n",
      "[257]\ttrain-rmse:6.951296\tval-rmse:7.944453\n",
      "[258]\ttrain-rmse:6.940344\tval-rmse:7.938830\n",
      "[259]\ttrain-rmse:6.931556\tval-rmse:7.932856\n",
      "[260]\ttrain-rmse:6.922523\tval-rmse:7.927022\n",
      "[261]\ttrain-rmse:6.913396\tval-rmse:7.922110\n",
      "[262]\ttrain-rmse:6.903677\tval-rmse:7.916218\n",
      "[263]\ttrain-rmse:6.895413\tval-rmse:7.911266\n",
      "[264]\ttrain-rmse:6.886829\tval-rmse:7.905912\n",
      "[265]\ttrain-rmse:6.877932\tval-rmse:7.901719\n",
      "[266]\ttrain-rmse:6.870358\tval-rmse:7.897290\n",
      "[267]\ttrain-rmse:6.863363\tval-rmse:7.891203\n",
      "[268]\ttrain-rmse:6.854692\tval-rmse:7.885761\n",
      "[269]\ttrain-rmse:6.846596\tval-rmse:7.881182\n",
      "[270]\ttrain-rmse:6.840022\tval-rmse:7.876259\n",
      "[271]\ttrain-rmse:6.831969\tval-rmse:7.871562\n",
      "[272]\ttrain-rmse:6.823790\tval-rmse:7.866696\n",
      "[273]\ttrain-rmse:6.815658\tval-rmse:7.862302\n",
      "[274]\ttrain-rmse:6.808873\tval-rmse:7.857516\n",
      "[275]\ttrain-rmse:6.801281\tval-rmse:7.851945\n",
      "[276]\ttrain-rmse:6.793675\tval-rmse:7.847427\n",
      "[277]\ttrain-rmse:6.787533\tval-rmse:7.843446\n",
      "[278]\ttrain-rmse:6.779864\tval-rmse:7.839587\n",
      "[279]\ttrain-rmse:6.773389\tval-rmse:7.835985\n",
      "[280]\ttrain-rmse:6.766028\tval-rmse:7.831503\n",
      "[281]\ttrain-rmse:6.756996\tval-rmse:7.827389\n",
      "[282]\ttrain-rmse:6.748660\tval-rmse:7.823690\n",
      "[283]\ttrain-rmse:6.740815\tval-rmse:7.818951\n",
      "[284]\ttrain-rmse:6.734593\tval-rmse:7.814779\n",
      "[285]\ttrain-rmse:6.727648\tval-rmse:7.810328\n",
      "[286]\ttrain-rmse:6.721339\tval-rmse:7.807313\n",
      "[287]\ttrain-rmse:6.713842\tval-rmse:7.803637\n",
      "[288]\ttrain-rmse:6.708054\tval-rmse:7.800713\n",
      "[289]\ttrain-rmse:6.701434\tval-rmse:7.797483\n",
      "[290]\ttrain-rmse:6.693586\tval-rmse:7.793957\n",
      "[291]\ttrain-rmse:6.688121\tval-rmse:7.790431\n",
      "[292]\ttrain-rmse:6.682255\tval-rmse:7.787229\n",
      "[293]\ttrain-rmse:6.677225\tval-rmse:7.784103\n",
      "[294]\ttrain-rmse:6.669846\tval-rmse:7.780677\n",
      "[295]\ttrain-rmse:6.663802\tval-rmse:7.777853\n",
      "[296]\ttrain-rmse:6.656909\tval-rmse:7.774925\n",
      "[297]\ttrain-rmse:6.650824\tval-rmse:7.772049\n",
      "[298]\ttrain-rmse:6.646146\tval-rmse:7.769069\n",
      "[299]\ttrain-rmse:6.639652\tval-rmse:7.765992\n",
      "[300]\ttrain-rmse:6.634085\tval-rmse:7.763364\n",
      "[301]\ttrain-rmse:6.629093\tval-rmse:7.761023\n",
      "[302]\ttrain-rmse:6.624372\tval-rmse:7.758463\n",
      "[303]\ttrain-rmse:6.620076\tval-rmse:7.755918\n",
      "[304]\ttrain-rmse:6.614581\tval-rmse:7.753548\n",
      "[305]\ttrain-rmse:6.609612\tval-rmse:7.751543\n",
      "[306]\ttrain-rmse:6.604292\tval-rmse:7.749222\n",
      "[307]\ttrain-rmse:6.597733\tval-rmse:7.746283\n",
      "[308]\ttrain-rmse:6.590702\tval-rmse:7.743481\n",
      "[309]\ttrain-rmse:6.585669\tval-rmse:7.740456\n",
      "[310]\ttrain-rmse:6.580571\tval-rmse:7.738098\n",
      "[311]\ttrain-rmse:6.574794\tval-rmse:7.735569\n",
      "[312]\ttrain-rmse:6.569063\tval-rmse:7.733604\n",
      "[313]\ttrain-rmse:6.563513\tval-rmse:7.731367\n",
      "[314]\ttrain-rmse:6.557218\tval-rmse:7.728687\n",
      "[315]\ttrain-rmse:6.551775\tval-rmse:7.726864\n",
      "[316]\ttrain-rmse:6.545925\tval-rmse:7.724380\n",
      "[317]\ttrain-rmse:6.539451\tval-rmse:7.723082\n",
      "[318]\ttrain-rmse:6.533477\tval-rmse:7.721534\n",
      "[319]\ttrain-rmse:6.527970\tval-rmse:7.718956\n",
      "[320]\ttrain-rmse:6.522432\tval-rmse:7.717246\n",
      "[321]\ttrain-rmse:6.518768\tval-rmse:7.715145\n",
      "[322]\ttrain-rmse:6.514453\tval-rmse:7.713441\n",
      "[323]\ttrain-rmse:6.509092\tval-rmse:7.712161\n",
      "[324]\ttrain-rmse:6.504726\tval-rmse:7.711063\n",
      "[325]\ttrain-rmse:6.499881\tval-rmse:7.710054\n",
      "[326]\ttrain-rmse:6.494612\tval-rmse:7.707251\n",
      "[327]\ttrain-rmse:6.490413\tval-rmse:7.705980\n",
      "[328]\ttrain-rmse:6.485560\tval-rmse:7.705245\n",
      "[329]\ttrain-rmse:6.479877\tval-rmse:7.703224\n",
      "[330]\ttrain-rmse:6.475160\tval-rmse:7.701059\n",
      "[331]\ttrain-rmse:6.470613\tval-rmse:7.699224\n",
      "[332]\ttrain-rmse:6.465441\tval-rmse:7.697657\n",
      "[333]\ttrain-rmse:6.460154\tval-rmse:7.695340\n",
      "[334]\ttrain-rmse:6.455379\tval-rmse:7.694301\n",
      "[335]\ttrain-rmse:6.449649\tval-rmse:7.693536\n",
      "[336]\ttrain-rmse:6.443931\tval-rmse:7.691834\n",
      "[337]\ttrain-rmse:6.439258\tval-rmse:7.690806\n",
      "[338]\ttrain-rmse:6.435991\tval-rmse:7.689206\n",
      "[339]\ttrain-rmse:6.430976\tval-rmse:7.687831\n",
      "[340]\ttrain-rmse:6.426703\tval-rmse:7.686674\n",
      "[341]\ttrain-rmse:6.422392\tval-rmse:7.686137\n",
      "[342]\ttrain-rmse:6.417709\tval-rmse:7.685452\n",
      "[343]\ttrain-rmse:6.415372\tval-rmse:7.684537\n",
      "[344]\ttrain-rmse:6.412351\tval-rmse:7.683221\n",
      "[345]\ttrain-rmse:6.407592\tval-rmse:7.681970\n",
      "[346]\ttrain-rmse:6.403461\tval-rmse:7.680814\n",
      "[347]\ttrain-rmse:6.399191\tval-rmse:7.679676\n",
      "[348]\ttrain-rmse:6.395523\tval-rmse:7.678647\n",
      "[349]\ttrain-rmse:6.392232\tval-rmse:7.677109\n",
      "[350]\ttrain-rmse:6.388381\tval-rmse:7.675891\n",
      "[351]\ttrain-rmse:6.383526\tval-rmse:7.674487\n",
      "[352]\ttrain-rmse:6.380000\tval-rmse:7.674453\n",
      "[353]\ttrain-rmse:6.376412\tval-rmse:7.672480\n",
      "[354]\ttrain-rmse:6.372653\tval-rmse:7.670564\n",
      "[355]\ttrain-rmse:6.369854\tval-rmse:7.669296\n",
      "[356]\ttrain-rmse:6.366726\tval-rmse:7.668288\n",
      "[357]\ttrain-rmse:6.363524\tval-rmse:7.668352\n",
      "[358]\ttrain-rmse:6.359811\tval-rmse:7.666897\n",
      "[359]\ttrain-rmse:6.357158\tval-rmse:7.665802\n",
      "[360]\ttrain-rmse:6.352762\tval-rmse:7.664851\n",
      "[361]\ttrain-rmse:6.350532\tval-rmse:7.664217\n",
      "[362]\ttrain-rmse:6.346516\tval-rmse:7.663039\n",
      "[363]\ttrain-rmse:6.343467\tval-rmse:7.661536\n",
      "[364]\ttrain-rmse:6.339327\tval-rmse:7.660998\n",
      "[365]\ttrain-rmse:6.335330\tval-rmse:7.659952\n",
      "[366]\ttrain-rmse:6.330898\tval-rmse:7.658538\n",
      "[367]\ttrain-rmse:6.328661\tval-rmse:7.657458\n",
      "[368]\ttrain-rmse:6.325718\tval-rmse:7.657117\n",
      "[369]\ttrain-rmse:6.323329\tval-rmse:7.655409\n",
      "[370]\ttrain-rmse:6.319062\tval-rmse:7.654639\n",
      "[371]\ttrain-rmse:6.315577\tval-rmse:7.654327\n",
      "[372]\ttrain-rmse:6.312141\tval-rmse:7.653420\n",
      "[373]\ttrain-rmse:6.308315\tval-rmse:7.652600\n",
      "[374]\ttrain-rmse:6.303496\tval-rmse:7.651751\n",
      "[375]\ttrain-rmse:6.301206\tval-rmse:7.651044\n",
      "[376]\ttrain-rmse:6.298975\tval-rmse:7.650124\n",
      "[377]\ttrain-rmse:6.296029\tval-rmse:7.649903\n",
      "[378]\ttrain-rmse:6.292703\tval-rmse:7.649464\n",
      "[379]\ttrain-rmse:6.290403\tval-rmse:7.648487\n",
      "[380]\ttrain-rmse:6.286476\tval-rmse:7.648242\n",
      "[381]\ttrain-rmse:6.283814\tval-rmse:7.647408\n",
      "[382]\ttrain-rmse:6.280132\tval-rmse:7.646772\n",
      "[383]\ttrain-rmse:6.276078\tval-rmse:7.645273\n",
      "[384]\ttrain-rmse:6.272812\tval-rmse:7.644522\n",
      "[385]\ttrain-rmse:6.270988\tval-rmse:7.644794\n",
      "[386]\ttrain-rmse:6.268409\tval-rmse:7.644547\n",
      "[387]\ttrain-rmse:6.265091\tval-rmse:7.644144\n",
      "[388]\ttrain-rmse:6.262221\tval-rmse:7.643612\n",
      "[389]\ttrain-rmse:6.259251\tval-rmse:7.643298\n",
      "[390]\ttrain-rmse:6.254931\tval-rmse:7.642853\n",
      "[391]\ttrain-rmse:6.252386\tval-rmse:7.641795\n",
      "[392]\ttrain-rmse:6.249578\tval-rmse:7.641690\n",
      "[393]\ttrain-rmse:6.246621\tval-rmse:7.641075\n",
      "[394]\ttrain-rmse:6.244430\tval-rmse:7.640306\n",
      "[395]\ttrain-rmse:6.241878\tval-rmse:7.640090\n",
      "[396]\ttrain-rmse:6.238023\tval-rmse:7.639491\n",
      "[397]\ttrain-rmse:6.235131\tval-rmse:7.638524\n",
      "[398]\ttrain-rmse:6.230215\tval-rmse:7.637910\n",
      "[399]\ttrain-rmse:6.226884\tval-rmse:7.637853\n",
      "[400]\ttrain-rmse:6.223812\tval-rmse:7.637611\n",
      "[401]\ttrain-rmse:6.221516\tval-rmse:7.637290\n",
      "[402]\ttrain-rmse:6.219573\tval-rmse:7.636875\n",
      "[403]\ttrain-rmse:6.217172\tval-rmse:7.635872\n",
      "[404]\ttrain-rmse:6.213273\tval-rmse:7.635524\n",
      "[405]\ttrain-rmse:6.210184\tval-rmse:7.634529\n",
      "[406]\ttrain-rmse:6.207025\tval-rmse:7.633285\n",
      "[407]\ttrain-rmse:6.204703\tval-rmse:7.633156\n",
      "[408]\ttrain-rmse:6.202163\tval-rmse:7.632732\n",
      "[409]\ttrain-rmse:6.199542\tval-rmse:7.633002\n",
      "[410]\ttrain-rmse:6.197228\tval-rmse:7.632779\n",
      "[411]\ttrain-rmse:6.194758\tval-rmse:7.632889\n",
      "[412]\ttrain-rmse:6.190371\tval-rmse:7.632445\n",
      "[413]\ttrain-rmse:6.187539\tval-rmse:7.632269\n",
      "[414]\ttrain-rmse:6.183914\tval-rmse:7.632261\n",
      "[415]\ttrain-rmse:6.179895\tval-rmse:7.631419\n",
      "[416]\ttrain-rmse:6.176843\tval-rmse:7.630898\n",
      "[417]\ttrain-rmse:6.172927\tval-rmse:7.630805\n",
      "[418]\ttrain-rmse:6.169510\tval-rmse:7.630432\n",
      "[419]\ttrain-rmse:6.167077\tval-rmse:7.630112\n",
      "[420]\ttrain-rmse:6.164211\tval-rmse:7.629739\n",
      "[421]\ttrain-rmse:6.162111\tval-rmse:7.628695\n",
      "[422]\ttrain-rmse:6.159544\tval-rmse:7.627673\n",
      "[423]\ttrain-rmse:6.158315\tval-rmse:7.627187\n",
      "[424]\ttrain-rmse:6.155371\tval-rmse:7.627141\n",
      "[425]\ttrain-rmse:6.153551\tval-rmse:7.627303\n",
      "[426]\ttrain-rmse:6.150715\tval-rmse:7.627314\n",
      "[427]\ttrain-rmse:6.148081\tval-rmse:7.627544\n",
      "[428]\ttrain-rmse:6.142977\tval-rmse:7.627462\n",
      "[429]\ttrain-rmse:6.141095\tval-rmse:7.626998\n",
      "[430]\ttrain-rmse:6.138694\tval-rmse:7.626862\n",
      "[431]\ttrain-rmse:6.134654\tval-rmse:7.627127\n",
      "[432]\ttrain-rmse:6.131629\tval-rmse:7.626531\n",
      "[433]\ttrain-rmse:6.129633\tval-rmse:7.625832\n",
      "[434]\ttrain-rmse:6.125937\tval-rmse:7.624941\n",
      "[435]\ttrain-rmse:6.121915\tval-rmse:7.623853\n",
      "[436]\ttrain-rmse:6.119171\tval-rmse:7.623759\n",
      "[437]\ttrain-rmse:6.117316\tval-rmse:7.623470\n",
      "[438]\ttrain-rmse:6.115149\tval-rmse:7.623317\n",
      "[439]\ttrain-rmse:6.112001\tval-rmse:7.623184\n",
      "[440]\ttrain-rmse:6.109698\tval-rmse:7.623127\n",
      "[441]\ttrain-rmse:6.108113\tval-rmse:7.623103\n",
      "[442]\ttrain-rmse:6.105220\tval-rmse:7.622720\n",
      "[443]\ttrain-rmse:6.104131\tval-rmse:7.622490\n",
      "[444]\ttrain-rmse:6.100431\tval-rmse:7.623242\n",
      "[445]\ttrain-rmse:6.097509\tval-rmse:7.622828\n",
      "[446]\ttrain-rmse:6.095929\tval-rmse:7.622296\n",
      "[447]\ttrain-rmse:6.093519\tval-rmse:7.622730\n",
      "[448]\ttrain-rmse:6.090825\tval-rmse:7.622983\n",
      "[449]\ttrain-rmse:6.087907\tval-rmse:7.623419\n",
      "[450]\ttrain-rmse:6.085468\tval-rmse:7.623218\n",
      "[451]\ttrain-rmse:6.082432\tval-rmse:7.623725\n",
      "[452]\ttrain-rmse:6.079813\tval-rmse:7.624495\n",
      "[453]\ttrain-rmse:6.077841\tval-rmse:7.624546\n",
      "[454]\ttrain-rmse:6.075428\tval-rmse:7.623757\n",
      "[455]\ttrain-rmse:6.074057\tval-rmse:7.623392\n",
      "[456]\ttrain-rmse:6.071415\tval-rmse:7.622814\n",
      "[457]\ttrain-rmse:6.067989\tval-rmse:7.622330\n",
      "[458]\ttrain-rmse:6.066055\tval-rmse:7.622548\n",
      "[459]\ttrain-rmse:6.063488\tval-rmse:7.622032\n",
      "[460]\ttrain-rmse:6.061654\tval-rmse:7.621720\n",
      "[461]\ttrain-rmse:6.057536\tval-rmse:7.621891\n",
      "[462]\ttrain-rmse:6.055007\tval-rmse:7.622086\n",
      "[463]\ttrain-rmse:6.051508\tval-rmse:7.621914\n",
      "[464]\ttrain-rmse:6.048048\tval-rmse:7.621622\n",
      "[465]\ttrain-rmse:6.044293\tval-rmse:7.621583\n",
      "[466]\ttrain-rmse:6.042763\tval-rmse:7.621593\n",
      "[467]\ttrain-rmse:6.040356\tval-rmse:7.621178\n",
      "[468]\ttrain-rmse:6.037717\tval-rmse:7.621044\n",
      "[469]\ttrain-rmse:6.035972\tval-rmse:7.620456\n",
      "[470]\ttrain-rmse:6.034505\tval-rmse:7.620201\n",
      "[471]\ttrain-rmse:6.032777\tval-rmse:7.620433\n",
      "[472]\ttrain-rmse:6.031023\tval-rmse:7.620127\n",
      "[473]\ttrain-rmse:6.028525\tval-rmse:7.620403\n",
      "[474]\ttrain-rmse:6.026886\tval-rmse:7.620738\n",
      "[475]\ttrain-rmse:6.024720\tval-rmse:7.620865\n",
      "[476]\ttrain-rmse:6.021183\tval-rmse:7.620468\n",
      "[477]\ttrain-rmse:6.019785\tval-rmse:7.620512\n",
      "[478]\ttrain-rmse:6.015848\tval-rmse:7.621540\n",
      "[479]\ttrain-rmse:6.014045\tval-rmse:7.621766\n",
      "[480]\ttrain-rmse:6.012113\tval-rmse:7.621813\n",
      "[481]\ttrain-rmse:6.010171\tval-rmse:7.621875\n",
      "[482]\ttrain-rmse:6.007269\tval-rmse:7.622250\n",
      "[483]\ttrain-rmse:6.005016\tval-rmse:7.622347\n",
      "[484]\ttrain-rmse:6.001297\tval-rmse:7.621918\n",
      "[485]\ttrain-rmse:5.996377\tval-rmse:7.622315\n",
      "[486]\ttrain-rmse:5.993869\tval-rmse:7.622063\n",
      "[487]\ttrain-rmse:5.991714\tval-rmse:7.621904\n",
      "[488]\ttrain-rmse:5.989148\tval-rmse:7.621626\n",
      "[489]\ttrain-rmse:5.986108\tval-rmse:7.621891\n",
      "[490]\ttrain-rmse:5.983818\tval-rmse:7.622196\n",
      "[491]\ttrain-rmse:5.981628\tval-rmse:7.622352\n",
      "[492]\ttrain-rmse:5.979175\tval-rmse:7.622761\n",
      "[493]\ttrain-rmse:5.976720\tval-rmse:7.621866\n",
      "[494]\ttrain-rmse:5.974573\tval-rmse:7.621496\n",
      "[495]\ttrain-rmse:5.972929\tval-rmse:7.621332\n",
      "[496]\ttrain-rmse:5.969961\tval-rmse:7.621521\n",
      "[497]\ttrain-rmse:5.968080\tval-rmse:7.621535\n",
      "[498]\ttrain-rmse:5.964406\tval-rmse:7.621405\n",
      "[499]\ttrain-rmse:5.961917\tval-rmse:7.621510\n",
      "[500]\ttrain-rmse:5.958820\tval-rmse:7.621297\n",
      "[501]\ttrain-rmse:5.957313\tval-rmse:7.621217\n",
      "[502]\ttrain-rmse:5.955518\tval-rmse:7.621454\n",
      "[503]\ttrain-rmse:5.952709\tval-rmse:7.621473\n",
      "[504]\ttrain-rmse:5.949526\tval-rmse:7.622052\n",
      "[505]\ttrain-rmse:5.946935\tval-rmse:7.621858\n",
      "[506]\ttrain-rmse:5.946082\tval-rmse:7.621697\n",
      "[507]\ttrain-rmse:5.943974\tval-rmse:7.621187\n",
      "[508]\ttrain-rmse:5.941657\tval-rmse:7.620706\n",
      "[509]\ttrain-rmse:5.939345\tval-rmse:7.621419\n",
      "[510]\ttrain-rmse:5.936041\tval-rmse:7.621322\n",
      "[511]\ttrain-rmse:5.933980\tval-rmse:7.621180\n",
      "[512]\ttrain-rmse:5.931540\tval-rmse:7.621632\n",
      "[513]\ttrain-rmse:5.928877\tval-rmse:7.622409\n",
      "[514]\ttrain-rmse:5.926065\tval-rmse:7.623578\n",
      "[515]\ttrain-rmse:5.923361\tval-rmse:7.624141\n",
      "[516]\ttrain-rmse:5.921484\tval-rmse:7.624986\n",
      "[517]\ttrain-rmse:5.918809\tval-rmse:7.624930\n",
      "[518]\ttrain-rmse:5.916688\tval-rmse:7.624478\n",
      "[519]\ttrain-rmse:5.913799\tval-rmse:7.624250\n",
      "[520]\ttrain-rmse:5.910196\tval-rmse:7.625318\n",
      "[521]\ttrain-rmse:5.908411\tval-rmse:7.625074\n",
      "[522]\ttrain-rmse:5.906363\tval-rmse:7.624813\n",
      "Stopping. Best iteration:\n",
      "[472]\ttrain-rmse:6.031023\tval-rmse:7.620127\n",
      "\n"
     ]
    }
   ],
   "source": [
    "model = xgb.train(plst, xgtrain, num_rounds, watchlist, early_stopping_rounds=50)"
   ]
  },
  {
   "cell_type": "code",
   "execution_count": 30,
   "metadata": {
    "collapsed": true
   },
   "outputs": [],
   "source": [
    "model.save_model('E:/age.model')"
   ]
  },
  {
   "cell_type": "code",
   "execution_count": 31,
   "metadata": {
    "collapsed": true
   },
   "outputs": [],
   "source": [
    "preds = model.predict(xgtest,ntree_limit=model.best_iteration)"
   ]
  },
  {
   "cell_type": "code",
   "execution_count": 32,
   "metadata": {
    "collapsed": false
   },
   "outputs": [
    {
     "data": {
      "text/plain": [
       "array([ 25.03846741,  25.03846741,  25.03846741, ...,  25.03846741,\n",
       "        25.03846741,  25.03846741], dtype=float32)"
      ]
     },
     "execution_count": 32,
     "metadata": {},
     "output_type": "execute_result"
    }
   ],
   "source": [
    "preds"
   ]
  },
  {
   "cell_type": "markdown",
   "metadata": {},
   "source": [
    "# 4. 对预测结果进行处理和保存"
   ]
  },
  {
   "cell_type": "code",
   "execution_count": 107,
   "metadata": {
    "collapsed": false
   },
   "outputs": [],
   "source": [
    "# np.savetxt('E:/age.csv',np.c_[range(1,len(test)+1),preds],\n",
    "#                 delimiter=',',header='id,Label',comments='',fmt='%d')"
   ]
  },
  {
   "cell_type": "code",
   "execution_count": 33,
   "metadata": {
    "collapsed": true
   },
   "outputs": [],
   "source": [
    "df = pd.DataFrame(preds)"
   ]
  },
  {
   "cell_type": "code",
   "execution_count": 34,
   "metadata": {
    "collapsed": true
   },
   "outputs": [],
   "source": [
    "df.columns = ['member_age']"
   ]
  },
  {
   "cell_type": "code",
   "execution_count": 35,
   "metadata": {
    "collapsed": true
   },
   "outputs": [],
   "source": [
    "df['member_age'] = map(int,df['member_age'])"
   ]
  },
  {
   "cell_type": "code",
   "execution_count": 36,
   "metadata": {
    "collapsed": false
   },
   "outputs": [
    {
     "data": {
      "text/plain": [
       "25    479161\n",
       "23      6730\n",
       "26      2412\n",
       "Name: member_age, dtype: int64"
      ]
     },
     "execution_count": 36,
     "metadata": {},
     "output_type": "execute_result"
    }
   ],
   "source": [
    "pd.value_counts(df['member_age'])"
   ]
  },
  {
   "cell_type": "code",
   "execution_count": 43,
   "metadata": {
    "collapsed": false
   },
   "outputs": [
    {
     "data": {
      "text/plain": [
       "pandas.core.series.Series"
      ]
     },
     "execution_count": 43,
     "metadata": {},
     "output_type": "execute_result"
    }
   ],
   "source": [
    "type(test_id)"
   ]
  },
  {
   "cell_type": "code",
   "execution_count": 37,
   "metadata": {
    "collapsed": true
   },
   "outputs": [],
   "source": [
    "df_y = pd.DataFrame(test_id)"
   ]
  },
  {
   "cell_type": "code",
   "execution_count": 38,
   "metadata": {
    "collapsed": false
   },
   "outputs": [
    {
     "data": {
      "text/plain": [
       "(488303, 1)"
      ]
     },
     "execution_count": 38,
     "metadata": {},
     "output_type": "execute_result"
    }
   ],
   "source": [
    "df_y.shape"
   ]
  },
  {
   "cell_type": "code",
   "execution_count": 39,
   "metadata": {
    "collapsed": true
   },
   "outputs": [],
   "source": [
    "id_index = range(0,488303)"
   ]
  },
  {
   "cell_type": "code",
   "execution_count": 40,
   "metadata": {
    "collapsed": true
   },
   "outputs": [],
   "source": [
    "df_y = df_y.reindex(index=id_index)"
   ]
  },
  {
   "cell_type": "code",
   "execution_count": 41,
   "metadata": {
    "collapsed": false
   },
   "outputs": [],
   "source": [
    "age_predicted = pd.concat([df_y,df],axis=1)"
   ]
  },
  {
   "cell_type": "markdown",
   "metadata": {},
   "source": [
    "## 最终预测了488303项"
   ]
  },
  {
   "cell_type": "code",
   "execution_count": 42,
   "metadata": {
    "collapsed": false
   },
   "outputs": [
    {
     "data": {
      "text/plain": [
       "(488303, 2)"
      ]
     },
     "execution_count": 42,
     "metadata": {},
     "output_type": "execute_result"
    }
   ],
   "source": [
    "age_predicted.shape"
   ]
  },
  {
   "cell_type": "code",
   "execution_count": 43,
   "metadata": {
    "collapsed": false
   },
   "outputs": [
    {
     "data": {
      "text/html": [
       "<div>\n",
       "<table border=\"1\" class=\"dataframe\">\n",
       "  <thead>\n",
       "    <tr style=\"text-align: right;\">\n",
       "      <th></th>\n",
       "      <th>customerid</th>\n",
       "      <th>member_age</th>\n",
       "    </tr>\n",
       "  </thead>\n",
       "  <tbody>\n",
       "    <tr>\n",
       "      <th>0</th>\n",
       "      <td>5792237</td>\n",
       "      <td>25</td>\n",
       "    </tr>\n",
       "    <tr>\n",
       "      <th>1</th>\n",
       "      <td>5792238</td>\n",
       "      <td>25</td>\n",
       "    </tr>\n",
       "    <tr>\n",
       "      <th>2</th>\n",
       "      <td>5792239</td>\n",
       "      <td>25</td>\n",
       "    </tr>\n",
       "    <tr>\n",
       "      <th>3</th>\n",
       "      <td>5792241</td>\n",
       "      <td>25</td>\n",
       "    </tr>\n",
       "    <tr>\n",
       "      <th>4</th>\n",
       "      <td>5792242</td>\n",
       "      <td>25</td>\n",
       "    </tr>\n",
       "  </tbody>\n",
       "</table>\n",
       "</div>"
      ],
      "text/plain": [
       "  customerid  member_age\n",
       "0    5792237          25\n",
       "1    5792238          25\n",
       "2    5792239          25\n",
       "3    5792241          25\n",
       "4    5792242          25"
      ]
     },
     "execution_count": 43,
     "metadata": {},
     "output_type": "execute_result"
    }
   ],
   "source": [
    "age_predicted.head()"
   ]
  },
  {
   "cell_type": "markdown",
   "metadata": {},
   "source": [
    "## 保存预测结果到csv"
   ]
  },
  {
   "cell_type": "code",
   "execution_count": 44,
   "metadata": {
    "collapsed": true
   },
   "outputs": [],
   "source": [
    "age_predicted.to_csv('E:/age_predicted.csv',index=False)"
   ]
  },
  {
   "cell_type": "code",
   "execution_count": null,
   "metadata": {
    "collapsed": true
   },
   "outputs": [],
   "source": []
  }
 ],
 "metadata": {
  "kernelspec": {
   "display_name": "Python 2",
   "language": "python",
   "name": "python2"
  },
  "language_info": {
   "codemirror_mode": {
    "name": "ipython",
    "version": 2
   },
   "file_extension": ".py",
   "mimetype": "text/x-python",
   "name": "python",
   "nbconvert_exporter": "python",
   "pygments_lexer": "ipython2",
   "version": "2.7.13"
  }
 },
 "nbformat": 4,
 "nbformat_minor": 0
}
