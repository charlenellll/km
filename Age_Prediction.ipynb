{
 "cells": [
  {
   "cell_type": "markdown",
   "metadata": {},
   "source": [
    "# 年龄预测"
   ]
  },
  {
   "cell_type": "code",
   "execution_count": 1,
   "metadata": {
    "collapsed": false
   },
   "outputs": [],
   "source": [
    "# coding=utf-8\n",
    "\"\"\"\n",
    "Credit by Liao Jialing\n",
    "\n",
    "\"\"\"\n",
    "import xgboost as xgb\n",
    "import pandas as pd\n",
    "import numpy as np\n",
    "from sklearn.cross_validation import train_test_split\n",
    "from sklearn.ensemble import RandomForestClassifier\n",
    "from sklearn.feature_selection import SelectFromModel"
   ]
  },
  {
   "cell_type": "markdown",
   "metadata": {},
   "source": [
    "# 1. 读入清洗整理后的用户基本信息宽表"
   ]
  },
  {
   "cell_type": "code",
   "execution_count": 2,
   "metadata": {
    "collapsed": false,
    "scrolled": false
   },
   "outputs": [
    {
     "name": "stderr",
     "output_type": "stream",
     "text": [
      "D:\\Users\\Jialing Liao\\AppData\\Local\\Continuum\\Anaconda2\\lib\\site-packages\\IPython\\core\\interactiveshell.py:2902: DtypeWarning: Columns (0) have mixed types. Specify dtype option on import or set low_memory=False.\n",
      "  interactivity=interactivity, compiler=compiler, result=result)\n"
     ]
    }
   ],
   "source": [
    "dataset = pd.read_csv('E:/user_all_cleared.csv')"
   ]
  },
  {
   "cell_type": "markdown",
   "metadata": {},
   "source": [
    "## 将target放在第一列"
   ]
  },
  {
   "cell_type": "code",
   "execution_count": 3,
   "metadata": {
    "collapsed": true
   },
   "outputs": [],
   "source": [
    "age_label = dataset.pop('member_age')"
   ]
  },
  {
   "cell_type": "code",
   "execution_count": 4,
   "metadata": {
    "collapsed": true
   },
   "outputs": [],
   "source": [
    "dataset.insert(0,'member_age',age_label)"
   ]
  },
  {
   "cell_type": "code",
   "execution_count": 5,
   "metadata": {
    "collapsed": false
   },
   "outputs": [
    {
     "data": {
      "text/plain": [
       "(503862, 152)"
      ]
     },
     "execution_count": 5,
     "metadata": {},
     "output_type": "execute_result"
    }
   ],
   "source": [
    "dataset.shape"
   ]
  },
  {
   "cell_type": "code",
   "execution_count": 6,
   "metadata": {
    "collapsed": false,
    "scrolled": true
   },
   "outputs": [
    {
     "data": {
      "text/html": [
       "<div>\n",
       "<table border=\"1\" class=\"dataframe\">\n",
       "  <thead>\n",
       "    <tr style=\"text-align: right;\">\n",
       "      <th></th>\n",
       "      <th>member_age</th>\n",
       "      <th>customerid</th>\n",
       "      <th>accountcash</th>\n",
       "      <th>accountbalance</th>\n",
       "      <th>integralbalance</th>\n",
       "      <th>consumetotal</th>\n",
       "      <th>consumetimes</th>\n",
       "      <th>lastconsume_diff_create_day</th>\n",
       "      <th>lastconsume_diff_create_hour</th>\n",
       "      <th>lastconsume_diff_now</th>\n",
       "      <th>...</th>\n",
       "      <th>age_from_song_language_3.0</th>\n",
       "      <th>age_from_song_language_not_known</th>\n",
       "      <th>shop_com_regioncode_310000.0</th>\n",
       "      <th>shop_com_regioncode_350000.0</th>\n",
       "      <th>shop_com_regioncode_440000.0</th>\n",
       "      <th>shop_com_regioncode_500000.0</th>\n",
       "      <th>shop_com_regioncode_not_known</th>\n",
       "      <th>shop_com_managetype_1.0</th>\n",
       "      <th>shop_com_managetype_2.0</th>\n",
       "      <th>shop_com_managetype_not_known</th>\n",
       "    </tr>\n",
       "  </thead>\n",
       "  <tbody>\n",
       "    <tr>\n",
       "      <th>0</th>\n",
       "      <td>0</td>\n",
       "      <td>5792237</td>\n",
       "      <td>0</td>\n",
       "      <td>0</td>\n",
       "      <td>0</td>\n",
       "      <td>0</td>\n",
       "      <td>0</td>\n",
       "      <td>0</td>\n",
       "      <td>0</td>\n",
       "      <td>0</td>\n",
       "      <td>...</td>\n",
       "      <td>0</td>\n",
       "      <td>1</td>\n",
       "      <td>0</td>\n",
       "      <td>0</td>\n",
       "      <td>0</td>\n",
       "      <td>0</td>\n",
       "      <td>1</td>\n",
       "      <td>0</td>\n",
       "      <td>0</td>\n",
       "      <td>1</td>\n",
       "    </tr>\n",
       "    <tr>\n",
       "      <th>1</th>\n",
       "      <td>0</td>\n",
       "      <td>5792238</td>\n",
       "      <td>0</td>\n",
       "      <td>0</td>\n",
       "      <td>0</td>\n",
       "      <td>0</td>\n",
       "      <td>0</td>\n",
       "      <td>0</td>\n",
       "      <td>0</td>\n",
       "      <td>0</td>\n",
       "      <td>...</td>\n",
       "      <td>0</td>\n",
       "      <td>1</td>\n",
       "      <td>0</td>\n",
       "      <td>0</td>\n",
       "      <td>0</td>\n",
       "      <td>0</td>\n",
       "      <td>1</td>\n",
       "      <td>0</td>\n",
       "      <td>0</td>\n",
       "      <td>1</td>\n",
       "    </tr>\n",
       "    <tr>\n",
       "      <th>2</th>\n",
       "      <td>0</td>\n",
       "      <td>5792239</td>\n",
       "      <td>0</td>\n",
       "      <td>0</td>\n",
       "      <td>0</td>\n",
       "      <td>0</td>\n",
       "      <td>0</td>\n",
       "      <td>0</td>\n",
       "      <td>0</td>\n",
       "      <td>0</td>\n",
       "      <td>...</td>\n",
       "      <td>0</td>\n",
       "      <td>1</td>\n",
       "      <td>0</td>\n",
       "      <td>0</td>\n",
       "      <td>0</td>\n",
       "      <td>0</td>\n",
       "      <td>1</td>\n",
       "      <td>0</td>\n",
       "      <td>0</td>\n",
       "      <td>1</td>\n",
       "    </tr>\n",
       "    <tr>\n",
       "      <th>3</th>\n",
       "      <td>0</td>\n",
       "      <td>5792241</td>\n",
       "      <td>0</td>\n",
       "      <td>0</td>\n",
       "      <td>0</td>\n",
       "      <td>0</td>\n",
       "      <td>0</td>\n",
       "      <td>0</td>\n",
       "      <td>0</td>\n",
       "      <td>0</td>\n",
       "      <td>...</td>\n",
       "      <td>0</td>\n",
       "      <td>1</td>\n",
       "      <td>0</td>\n",
       "      <td>0</td>\n",
       "      <td>0</td>\n",
       "      <td>0</td>\n",
       "      <td>1</td>\n",
       "      <td>0</td>\n",
       "      <td>0</td>\n",
       "      <td>1</td>\n",
       "    </tr>\n",
       "    <tr>\n",
       "      <th>4</th>\n",
       "      <td>0</td>\n",
       "      <td>5792242</td>\n",
       "      <td>0</td>\n",
       "      <td>0</td>\n",
       "      <td>0</td>\n",
       "      <td>0</td>\n",
       "      <td>0</td>\n",
       "      <td>0</td>\n",
       "      <td>0</td>\n",
       "      <td>0</td>\n",
       "      <td>...</td>\n",
       "      <td>0</td>\n",
       "      <td>1</td>\n",
       "      <td>0</td>\n",
       "      <td>0</td>\n",
       "      <td>0</td>\n",
       "      <td>0</td>\n",
       "      <td>1</td>\n",
       "      <td>0</td>\n",
       "      <td>0</td>\n",
       "      <td>1</td>\n",
       "    </tr>\n",
       "  </tbody>\n",
       "</table>\n",
       "<p>5 rows × 152 columns</p>\n",
       "</div>"
      ],
      "text/plain": [
       "   member_age customerid  accountcash  accountbalance  integralbalance  \\\n",
       "0           0    5792237            0               0                0   \n",
       "1           0    5792238            0               0                0   \n",
       "2           0    5792239            0               0                0   \n",
       "3           0    5792241            0               0                0   \n",
       "4           0    5792242            0               0                0   \n",
       "\n",
       "   consumetotal  consumetimes  lastconsume_diff_create_day  \\\n",
       "0             0             0                            0   \n",
       "1             0             0                            0   \n",
       "2             0             0                            0   \n",
       "3             0             0                            0   \n",
       "4             0             0                            0   \n",
       "\n",
       "   lastconsume_diff_create_hour  lastconsume_diff_now  \\\n",
       "0                             0                     0   \n",
       "1                             0                     0   \n",
       "2                             0                     0   \n",
       "3                             0                     0   \n",
       "4                             0                     0   \n",
       "\n",
       "               ...                age_from_song_language_3.0  \\\n",
       "0              ...                                         0   \n",
       "1              ...                                         0   \n",
       "2              ...                                         0   \n",
       "3              ...                                         0   \n",
       "4              ...                                         0   \n",
       "\n",
       "   age_from_song_language_not_known  shop_com_regioncode_310000.0  \\\n",
       "0                                 1                             0   \n",
       "1                                 1                             0   \n",
       "2                                 1                             0   \n",
       "3                                 1                             0   \n",
       "4                                 1                             0   \n",
       "\n",
       "   shop_com_regioncode_350000.0  shop_com_regioncode_440000.0  \\\n",
       "0                             0                             0   \n",
       "1                             0                             0   \n",
       "2                             0                             0   \n",
       "3                             0                             0   \n",
       "4                             0                             0   \n",
       "\n",
       "   shop_com_regioncode_500000.0  shop_com_regioncode_not_known  \\\n",
       "0                             0                              1   \n",
       "1                             0                              1   \n",
       "2                             0                              1   \n",
       "3                             0                              1   \n",
       "4                             0                              1   \n",
       "\n",
       "   shop_com_managetype_1.0  shop_com_managetype_2.0  \\\n",
       "0                        0                        0   \n",
       "1                        0                        0   \n",
       "2                        0                        0   \n",
       "3                        0                        0   \n",
       "4                        0                        0   \n",
       "\n",
       "   shop_com_managetype_not_known  \n",
       "0                              1  \n",
       "1                              1  \n",
       "2                              1  \n",
       "3                              1  \n",
       "4                              1  \n",
       "\n",
       "[5 rows x 152 columns]"
      ]
     },
     "execution_count": 6,
     "metadata": {},
     "output_type": "execute_result"
    }
   ],
   "source": [
    "dataset.head()"
   ]
  },
  {
   "cell_type": "markdown",
   "metadata": {},
   "source": [
    "# 2. 分出测试集和训练集"
   ]
  },
  {
   "cell_type": "code",
   "execution_count": 7,
   "metadata": {
    "collapsed": true
   },
   "outputs": [],
   "source": [
    "train = dataset[dataset['member_age']!=0]\n",
    "test = dataset[dataset['member_age']==0]\n",
    "test_id = test.customerid\n",
    "test = test.drop('customerid',axis=1)\n",
    "X = train.drop(['member_age','customerid'],axis=1)\n",
    "y = train.member_age.values\n",
    "X_train,X_test,y_train,y_test = train_test_split(X,y,test_size=0.2,random_state=1026)"
   ]
  },
  {
   "cell_type": "code",
   "execution_count": 8,
   "metadata": {
    "collapsed": false
   },
   "outputs": [
    {
     "data": {
      "text/plain": [
       "(15559, 152)"
      ]
     },
     "execution_count": 8,
     "metadata": {},
     "output_type": "execute_result"
    }
   ],
   "source": [
    "train.shape"
   ]
  },
  {
   "cell_type": "code",
   "execution_count": 9,
   "metadata": {
    "collapsed": false
   },
   "outputs": [
    {
     "data": {
      "text/plain": [
       "(488303, 151)"
      ]
     },
     "execution_count": 9,
     "metadata": {},
     "output_type": "execute_result"
    }
   ],
   "source": [
    "test.shape"
   ]
  },
  {
   "cell_type": "code",
   "execution_count": 10,
   "metadata": {
    "collapsed": false
   },
   "outputs": [
    {
     "name": "stdout",
     "output_type": "stream",
     "text": [
      "((12447, 150), (3112, 150), (488303, 151))\n"
     ]
    }
   ],
   "source": [
    "print(X_train.shape,X_test.shape,test.shape)"
   ]
  },
  {
   "cell_type": "markdown",
   "metadata": {},
   "source": [
    "# 3. 进行特征选择"
   ]
  },
  {
   "cell_type": "code",
   "execution_count": 17,
   "metadata": {
    "collapsed": false
   },
   "outputs": [
    {
     "data": {
      "text/plain": [
       "RandomForestClassifier(bootstrap=True, class_weight=None, criterion='gini',\n",
       "            max_depth=None, max_features='auto', max_leaf_nodes=None,\n",
       "            min_samples_leaf=1, min_samples_split=2,\n",
       "            min_weight_fraction_leaf=0.0, n_estimators=300, n_jobs=1,\n",
       "            oob_score=False, random_state=None, verbose=0,\n",
       "            warm_start=False)"
      ]
     },
     "execution_count": 17,
     "metadata": {},
     "output_type": "execute_result"
    }
   ],
   "source": [
    "model = RandomForestClassifier(n_estimators=300)\n",
    "model.fit(X_train, y_train)"
   ]
  },
  {
   "cell_type": "markdown",
   "metadata": {},
   "source": [
    "## 特征选择"
   ]
  },
  {
   "cell_type": "code",
   "execution_count": 18,
   "metadata": {
    "collapsed": false
   },
   "outputs": [],
   "source": [
    "important_features = zip(X_train.columns.values, model.feature_importances_)\n",
    "important_features = sorted(important_features, key=lambda x: x[1], reverse=True)"
   ]
  },
  {
   "cell_type": "code",
   "execution_count": 19,
   "metadata": {
    "collapsed": false,
    "scrolled": true
   },
   "outputs": [
    {
     "name": "stdout",
     "output_type": "stream",
     "text": [
      "lastconsume_diff_now 0.27097548258\n",
      "consumetotal 0.184207005144\n",
      "integralbalance 0.156050399767\n",
      "consumetimes 0.0711753648662\n",
      "accountbalance 0.0707379256897\n",
      "lastconsume_diff_create_hour 0.070507736056\n",
      "accountcash 0.0690803300494\n",
      "gender 0.0539815873258\n",
      "lastconsume_diff_create_day 0.0527581429113\n",
      "age_from_song_language_2.0 3.977564225e-05\n",
      "song_play_cnt 3.93727355378e-05\n",
      "age_from_song_language_not_known 3.54553656357e-05\n",
      "des_charge_max 1.48446033596e-05\n",
      "des_realcharge_max 1.42146856091e-05\n",
      "des_charge_mean 1.36467571823e-05\n",
      "des_guestnumber_mean 1.33658883391e-05\n",
      "des_use_reg 1.33208750728e-05\n",
      "des_work_realchargesum 1.28190283622e-05\n",
      "des_workday_cnt 1.1994643713e-05\n",
      "des_companyid 1.13784169595e-05\n",
      "des_realcharge_sum 1.06065891706e-05\n",
      "des_guestnumber_min 1.04717697387e-05\n",
      "use_time_sum 1.01672815783e-05\n",
      "des_use_night_realchargesum 8.98097085629e-06\n",
      "des_realcharge_mean 8.86206849297e-06\n",
      "des_guestnumber_max 8.79922022662e-06\n",
      "des_charge_sum 8.61148350985e-06\n",
      "get_com_roomnum 8.57910503077e-06\n",
      "des_morning_cnt 8.5127652494e-06\n",
      "des_use_night_cnt 8.49761823915e-06\n",
      "get_coupon_crosscom 7.99873477013e-06\n",
      "des_realcharge_min 7.85308439908e-06\n",
      "use_company_id 7.73187718644e-06\n",
      "des_charge_min 7.31561315252e-06\n",
      "get_coupon_type_cnt 6.9847920406e-06\n",
      "des_company_cnt 6.95126123963e-06\n",
      "des_procharge_sum 6.89419142958e-06\n",
      "use_coupon_type_cnt 6.51802968895e-06\n",
      "shop_cnt 6.50808294274e-06\n",
      "des_afternoon_cnt 6.48988721784e-06\n",
      "use_coupon_sum 6.42792841748e-06\n",
      "des_night_cnt 6.42680707073e-06\n",
      "des_cnt 6.41839378174e-06\n",
      "shop_real_sum_min 5.89745015205e-06\n",
      "get_com_managetype_not_known 5.89162083649e-06\n",
      "source_company_cnt 5.69174555065e-06\n",
      "des_use_afternoon_realchargesum 5.56125178356e-06\n",
      "shop_original_sum_min 5.45767734677e-06\n",
      "get_com_regioncode_not_known 5.39855813636e-06\n",
      "use_company_cnt 5.37476151996e-06\n",
      "get_com_regioncode_310000.0 5.36730488637e-06\n",
      "shop_com_cnt 5.19416762558e-06\n",
      "shop_companyid 4.89881321047e-06\n",
      "shop_original_sum 4.72171105703e-06\n",
      "shop_order_cnt 4.70569202368e-06\n",
      "source_company_id 4.55738218935e-06\n",
      "coupon_get_cnt 4.42786385714e-06\n",
      "coupon_get_sum 4.29323368855e-06\n",
      "shop_original_sum_avg 4.1977232742e-06\n",
      "use_coupon_order_sum 4.04313035747e-06\n",
      "shop_real_sum_max 3.90294860475e-06\n",
      "shop_night_sum 3.81452954281e-06\n",
      "shop_weekday_cnt 3.78694889606e-06\n",
      "shop_real_sum 3.72872111516e-06\n",
      "shop_afternoon_sum 3.5380749393e-06\n",
      "get_com_managetype_1.0 3.24844576008e-06\n",
      "shop_weekday_sum 3.2239474645e-06\n",
      "shop_afternoon_cnt 3.183054713e-06\n",
      "shop_original_sum_max 2.42293172748e-06\n",
      "des_use_afternoon_cnt 2.39939155739e-06\n",
      "shop_real_sum_avg 2.35334622939e-06\n",
      "shop_night_cnt 1.94698525346e-06\n",
      "des_reduce_sum 0.0\n",
      "des_weekend_cnt 0.0\n",
      "des_weekend_realchargesum 0.0\n",
      "des_beforedawn_cnt 0.0\n",
      "des_use_beforedawn_cnt 0.0\n",
      "des_use_morning_cnt 0.0\n",
      "des_use_beforedawn_realchargesum 0.0\n",
      "des_use_morning_realchargesum 0.0\n",
      "des_com_roomnum 0.0\n",
      "des_large_cnt 0.0\n",
      "des_medium_cnt 0.0\n",
      "des_small_cnt 0.0\n",
      "des_reduce_cnt 0.0\n",
      "shop_wine_cnt 0.0\n",
      "shop_cigarette_cnt 0.0\n",
      "shop_before_dawn_cnt 0.0\n",
      "shop_morning_cnt 0.0\n",
      "shop_weekend_cnt 0.0\n",
      "shop_before_dawn_sum 0.0\n",
      "shop_morning_sum 0.0\n",
      "shop_weekend_sum 0.0\n",
      "shop_cross_com 0.0\n",
      "shop_com_roomnum 0.0\n",
      "song_age 0.0\n",
      "wechat_province_上海 0.0\n",
      "wechat_province_云南 0.0\n",
      "wechat_province_内蒙古 0.0\n",
      "wechat_province_北京 0.0\n",
      "wechat_province_台湾 0.0\n",
      "wechat_province_四川 0.0\n",
      "wechat_province_国外 0.0\n",
      "wechat_province_天津 0.0\n",
      "wechat_province_安徽 0.0\n",
      "wechat_province_山东 0.0\n",
      "wechat_province_山西 0.0\n",
      "wechat_province_广东 0.0\n",
      "wechat_province_广西 0.0\n",
      "wechat_province_新疆 0.0\n",
      "wechat_province_未知 0.0\n",
      "wechat_province_江苏 0.0\n",
      "wechat_province_江西 0.0\n",
      "wechat_province_河北 0.0\n",
      "wechat_province_河南 0.0\n",
      "wechat_province_浙江 0.0\n",
      "wechat_province_海南 0.0\n",
      "wechat_province_湖北 0.0\n",
      "wechat_province_湖南 0.0\n",
      "wechat_province_甘肃 0.0\n",
      "wechat_province_福建 0.0\n",
      "wechat_province_西藏 0.0\n",
      "wechat_province_贵州 0.0\n",
      "wechat_province_辽宁 0.0\n",
      "wechat_province_重庆 0.0\n",
      "wechat_province_陕西 0.0\n",
      "wechat_province_青海 0.0\n",
      "wechat_province_黑龙江 0.0\n",
      "wechat_country_中国 0.0\n",
      "wechat_country_国外 0.0\n",
      "wechat_country_未知 0.0\n",
      "get_com_regioncode_350000.0 0.0\n",
      "get_com_regioncode_440000.0 0.0\n",
      "get_com_regioncode_500000.0 0.0\n",
      "get_com_managetype_2.0 0.0\n",
      "age_from_song_year_cut_2.0 0.0\n",
      "age_from_song_year_cut_3.0 0.0\n",
      "age_from_song_year_cut_4.0 0.0\n",
      "age_from_song_year_cut_5.0 0.0\n",
      "age_from_song_year_cut_not_known 0.0\n",
      "age_from_song_language_1.0 0.0\n",
      "age_from_song_language_3.0 0.0\n",
      "shop_com_regioncode_310000.0 0.0\n",
      "shop_com_regioncode_350000.0 0.0\n",
      "shop_com_regioncode_440000.0 0.0\n",
      "shop_com_regioncode_500000.0 0.0\n",
      "shop_com_regioncode_not_known 0.0\n",
      "shop_com_managetype_1.0 0.0\n",
      "shop_com_managetype_2.0 0.0\n",
      "shop_com_managetype_not_known 0.0\n"
     ]
    }
   ],
   "source": [
    "for r in important_features:\n",
    "    print r[0], r[1]"
   ]
  },
  {
   "cell_type": "markdown",
   "metadata": {},
   "source": [
    "## 使用1e-6特征选出特征"
   ]
  },
  {
   "cell_type": "code",
   "execution_count": 20,
   "metadata": {
    "collapsed": false
   },
   "outputs": [],
   "source": [
    "THRESHOLD = 1e-6\n",
    "importance_features = pd.DataFrame(important_features, columns=['feature', 'score'])\n",
    "filtered_features = importance_features.loc[importance_features['score']>THRESHOLD, 'feature'].values"
   ]
  },
  {
   "cell_type": "code",
   "execution_count": 21,
   "metadata": {
    "collapsed": false,
    "scrolled": true
   },
   "outputs": [
    {
     "data": {
      "text/plain": [
       "array(['lastconsume_diff_now', 'consumetotal', 'integralbalance',\n",
       "       'consumetimes', 'accountbalance', 'lastconsume_diff_create_hour',\n",
       "       'accountcash', 'gender', 'lastconsume_diff_create_day',\n",
       "       'age_from_song_language_2.0', 'song_play_cnt',\n",
       "       'age_from_song_language_not_known', 'des_charge_max',\n",
       "       'des_realcharge_max', 'des_charge_mean', 'des_guestnumber_mean',\n",
       "       'des_use_reg', 'des_work_realchargesum', 'des_workday_cnt',\n",
       "       'des_companyid', 'des_realcharge_sum', 'des_guestnumber_min',\n",
       "       'use_time_sum', 'des_use_night_realchargesum',\n",
       "       'des_realcharge_mean', 'des_guestnumber_max', 'des_charge_sum',\n",
       "       'get_com_roomnum', 'des_morning_cnt', 'des_use_night_cnt',\n",
       "       'get_coupon_crosscom', 'des_realcharge_min', 'use_company_id',\n",
       "       'des_charge_min', 'get_coupon_type_cnt', 'des_company_cnt',\n",
       "       'des_procharge_sum', 'use_coupon_type_cnt', 'shop_cnt',\n",
       "       'des_afternoon_cnt', 'use_coupon_sum', 'des_night_cnt', 'des_cnt',\n",
       "       'shop_real_sum_min', 'get_com_managetype_not_known',\n",
       "       'source_company_cnt', 'des_use_afternoon_realchargesum',\n",
       "       'shop_original_sum_min', 'get_com_regioncode_not_known',\n",
       "       'use_company_cnt', 'get_com_regioncode_310000.0', 'shop_com_cnt',\n",
       "       'shop_companyid', 'shop_original_sum', 'shop_order_cnt',\n",
       "       'source_company_id', 'coupon_get_cnt', 'coupon_get_sum',\n",
       "       'shop_original_sum_avg', 'use_coupon_order_sum',\n",
       "       'shop_real_sum_max', 'shop_night_sum', 'shop_weekday_cnt',\n",
       "       'shop_real_sum', 'shop_afternoon_sum', 'get_com_managetype_1.0',\n",
       "       'shop_weekday_sum', 'shop_afternoon_cnt', 'shop_original_sum_max',\n",
       "       'des_use_afternoon_cnt', 'shop_real_sum_avg', 'shop_night_cnt'], dtype=object)"
      ]
     },
     "execution_count": 21,
     "metadata": {},
     "output_type": "execute_result"
    }
   ],
   "source": [
    "filtered_features"
   ]
  },
  {
   "cell_type": "code",
   "execution_count": 22,
   "metadata": {
    "collapsed": false
   },
   "outputs": [
    {
     "data": {
      "text/plain": [
       "72"
      ]
     },
     "execution_count": 22,
     "metadata": {},
     "output_type": "execute_result"
    }
   ],
   "source": [
    "len(filtered_features)"
   ]
  },
  {
   "cell_type": "markdown",
   "metadata": {},
   "source": [
    "## 按选择到的特征分别处理训练集和测试集"
   ]
  },
  {
   "cell_type": "code",
   "execution_count": 27,
   "metadata": {
    "collapsed": false
   },
   "outputs": [],
   "source": [
    "X_test = X_test[filtered_features]"
   ]
  },
  {
   "cell_type": "code",
   "execution_count": 28,
   "metadata": {
    "collapsed": true
   },
   "outputs": [],
   "source": [
    "X_train = X_train[filtered_features]"
   ]
  },
  {
   "cell_type": "code",
   "execution_count": 29,
   "metadata": {
    "collapsed": false
   },
   "outputs": [
    {
     "data": {
      "text/html": [
       "<div>\n",
       "<table border=\"1\" class=\"dataframe\">\n",
       "  <thead>\n",
       "    <tr style=\"text-align: right;\">\n",
       "      <th></th>\n",
       "      <th>lastconsume_diff_now</th>\n",
       "      <th>consumetotal</th>\n",
       "      <th>integralbalance</th>\n",
       "      <th>consumetimes</th>\n",
       "      <th>accountbalance</th>\n",
       "      <th>lastconsume_diff_create_hour</th>\n",
       "      <th>accountcash</th>\n",
       "      <th>gender</th>\n",
       "      <th>lastconsume_diff_create_day</th>\n",
       "      <th>age_from_song_language_2.0</th>\n",
       "      <th>...</th>\n",
       "      <th>shop_weekday_cnt</th>\n",
       "      <th>shop_real_sum</th>\n",
       "      <th>shop_afternoon_sum</th>\n",
       "      <th>get_com_managetype_1.0</th>\n",
       "      <th>shop_weekday_sum</th>\n",
       "      <th>shop_afternoon_cnt</th>\n",
       "      <th>shop_original_sum_max</th>\n",
       "      <th>des_use_afternoon_cnt</th>\n",
       "      <th>shop_real_sum_avg</th>\n",
       "      <th>shop_night_cnt</th>\n",
       "    </tr>\n",
       "  </thead>\n",
       "  <tbody>\n",
       "    <tr>\n",
       "      <th>270032</th>\n",
       "      <td>380</td>\n",
       "      <td>597</td>\n",
       "      <td>547</td>\n",
       "      <td>2</td>\n",
       "      <td>53</td>\n",
       "      <td>0</td>\n",
       "      <td>53</td>\n",
       "      <td>1</td>\n",
       "      <td>0</td>\n",
       "      <td>0</td>\n",
       "      <td>...</td>\n",
       "      <td>0</td>\n",
       "      <td>0</td>\n",
       "      <td>0</td>\n",
       "      <td>0</td>\n",
       "      <td>0</td>\n",
       "      <td>0</td>\n",
       "      <td>0</td>\n",
       "      <td>0</td>\n",
       "      <td>0</td>\n",
       "      <td>0</td>\n",
       "    </tr>\n",
       "    <tr>\n",
       "      <th>272418</th>\n",
       "      <td>369</td>\n",
       "      <td>1256</td>\n",
       "      <td>124</td>\n",
       "      <td>3</td>\n",
       "      <td>0</td>\n",
       "      <td>23</td>\n",
       "      <td>0</td>\n",
       "      <td>1</td>\n",
       "      <td>4</td>\n",
       "      <td>0</td>\n",
       "      <td>...</td>\n",
       "      <td>0</td>\n",
       "      <td>0</td>\n",
       "      <td>0</td>\n",
       "      <td>0</td>\n",
       "      <td>0</td>\n",
       "      <td>0</td>\n",
       "      <td>0</td>\n",
       "      <td>0</td>\n",
       "      <td>0</td>\n",
       "      <td>0</td>\n",
       "    </tr>\n",
       "    <tr>\n",
       "      <th>277465</th>\n",
       "      <td>359</td>\n",
       "      <td>544</td>\n",
       "      <td>0</td>\n",
       "      <td>2</td>\n",
       "      <td>56</td>\n",
       "      <td>22</td>\n",
       "      <td>56</td>\n",
       "      <td>1</td>\n",
       "      <td>1</td>\n",
       "      <td>0</td>\n",
       "      <td>...</td>\n",
       "      <td>0</td>\n",
       "      <td>0</td>\n",
       "      <td>0</td>\n",
       "      <td>0</td>\n",
       "      <td>0</td>\n",
       "      <td>0</td>\n",
       "      <td>0</td>\n",
       "      <td>0</td>\n",
       "      <td>0</td>\n",
       "      <td>0</td>\n",
       "    </tr>\n",
       "    <tr>\n",
       "      <th>272332</th>\n",
       "      <td>374</td>\n",
       "      <td>0</td>\n",
       "      <td>0</td>\n",
       "      <td>0</td>\n",
       "      <td>0</td>\n",
       "      <td>0</td>\n",
       "      <td>0</td>\n",
       "      <td>2</td>\n",
       "      <td>0</td>\n",
       "      <td>0</td>\n",
       "      <td>...</td>\n",
       "      <td>0</td>\n",
       "      <td>0</td>\n",
       "      <td>0</td>\n",
       "      <td>0</td>\n",
       "      <td>0</td>\n",
       "      <td>0</td>\n",
       "      <td>0</td>\n",
       "      <td>0</td>\n",
       "      <td>0</td>\n",
       "      <td>0</td>\n",
       "    </tr>\n",
       "    <tr>\n",
       "      <th>279727</th>\n",
       "      <td>356</td>\n",
       "      <td>420</td>\n",
       "      <td>420</td>\n",
       "      <td>1</td>\n",
       "      <td>0</td>\n",
       "      <td>3</td>\n",
       "      <td>0</td>\n",
       "      <td>1</td>\n",
       "      <td>0</td>\n",
       "      <td>0</td>\n",
       "      <td>...</td>\n",
       "      <td>0</td>\n",
       "      <td>0</td>\n",
       "      <td>0</td>\n",
       "      <td>0</td>\n",
       "      <td>0</td>\n",
       "      <td>0</td>\n",
       "      <td>0</td>\n",
       "      <td>0</td>\n",
       "      <td>0</td>\n",
       "      <td>0</td>\n",
       "    </tr>\n",
       "  </tbody>\n",
       "</table>\n",
       "<p>5 rows × 72 columns</p>\n",
       "</div>"
      ],
      "text/plain": [
       "        lastconsume_diff_now  consumetotal  integralbalance  consumetimes  \\\n",
       "270032                   380           597              547             2   \n",
       "272418                   369          1256              124             3   \n",
       "277465                   359           544                0             2   \n",
       "272332                   374             0                0             0   \n",
       "279727                   356           420              420             1   \n",
       "\n",
       "        accountbalance  lastconsume_diff_create_hour  accountcash  gender  \\\n",
       "270032              53                             0           53       1   \n",
       "272418               0                            23            0       1   \n",
       "277465              56                            22           56       1   \n",
       "272332               0                             0            0       2   \n",
       "279727               0                             3            0       1   \n",
       "\n",
       "        lastconsume_diff_create_day  age_from_song_language_2.0  \\\n",
       "270032                            0                           0   \n",
       "272418                            4                           0   \n",
       "277465                            1                           0   \n",
       "272332                            0                           0   \n",
       "279727                            0                           0   \n",
       "\n",
       "             ...        shop_weekday_cnt  shop_real_sum  shop_afternoon_sum  \\\n",
       "270032       ...                       0              0                   0   \n",
       "272418       ...                       0              0                   0   \n",
       "277465       ...                       0              0                   0   \n",
       "272332       ...                       0              0                   0   \n",
       "279727       ...                       0              0                   0   \n",
       "\n",
       "        get_com_managetype_1.0  shop_weekday_sum  shop_afternoon_cnt  \\\n",
       "270032                       0                 0                   0   \n",
       "272418                       0                 0                   0   \n",
       "277465                       0                 0                   0   \n",
       "272332                       0                 0                   0   \n",
       "279727                       0                 0                   0   \n",
       "\n",
       "        shop_original_sum_max  des_use_afternoon_cnt  shop_real_sum_avg  \\\n",
       "270032                      0                      0                  0   \n",
       "272418                      0                      0                  0   \n",
       "277465                      0                      0                  0   \n",
       "272332                      0                      0                  0   \n",
       "279727                      0                      0                  0   \n",
       "\n",
       "        shop_night_cnt  \n",
       "270032               0  \n",
       "272418               0  \n",
       "277465               0  \n",
       "272332               0  \n",
       "279727               0  \n",
       "\n",
       "[5 rows x 72 columns]"
      ]
     },
     "execution_count": 29,
     "metadata": {},
     "output_type": "execute_result"
    }
   ],
   "source": [
    "X_train.head()"
   ]
  },
  {
   "cell_type": "code",
   "execution_count": 30,
   "metadata": {
    "collapsed": true
   },
   "outputs": [],
   "source": [
    "test = test[filtered_features]"
   ]
  },
  {
   "cell_type": "markdown",
   "metadata": {},
   "source": [
    "# 3. Xgboost模型训练"
   ]
  },
  {
   "cell_type": "code",
   "execution_count": 50,
   "metadata": {
    "collapsed": true
   },
   "outputs": [],
   "source": [
    "params={\n",
    "'booster':'gbtree',\n",
    "'objective': 'reg:linear', # 这里用户年龄是连续的，因此采用了默认的线性分类器\n",
    "'gamma':0.05,  # 在树的叶子节点下一个分区的最小损失，越大算法模型越保守 [0:]\n",
    "'max_depth':12, # 构建树的深度 [1:]\n",
    "#'lambda':450,  # L2 正则项权重\n",
    "'subsample':0.4, # 采样训练数据，设置为0.5，随机选择一般的数据实例 (0:1]\n",
    "'colsample_bytree':0.7, # 构建树树时的采样比率 (0:1]\n",
    "#'min_child_weight':12, # 节点的最少特征数\n",
    "'silent':1 ,\n",
    "'eta': 0.01, # 如同学习率\n",
    "'seed':710,\n",
    "'nthread':4,# cpu 线程数,根据自己U的个数适当调整\n",
    "}"
   ]
  },
  {
   "cell_type": "code",
   "execution_count": 51,
   "metadata": {
    "collapsed": true
   },
   "outputs": [],
   "source": [
    "plst = list(params.items())"
   ]
  },
  {
   "cell_type": "code",
   "execution_count": 33,
   "metadata": {
    "collapsed": true
   },
   "outputs": [],
   "source": [
    "num_rounds = 600 # 迭代次数\n",
    "xgtest = xgb.DMatrix(test)\n",
    "xgtrain = xgb.DMatrix(X_train, label=y_train)\n",
    "xgval = xgb.DMatrix(X_test, label=y_test)"
   ]
  },
  {
   "cell_type": "markdown",
   "metadata": {},
   "source": [
    "### return训练和验证的标准误差"
   ]
  },
  {
   "cell_type": "code",
   "execution_count": 34,
   "metadata": {
    "collapsed": true
   },
   "outputs": [],
   "source": [
    "watchlist = [(xgtrain, 'train'),(xgval, 'val')]"
   ]
  },
  {
   "cell_type": "markdown",
   "metadata": {},
   "source": [
    "### 训练模型"
   ]
  },
  {
   "cell_type": "code",
   "execution_count": 35,
   "metadata": {
    "collapsed": false
   },
   "outputs": [
    {
     "name": "stderr",
     "output_type": "stream",
     "text": [
      "Will train until val error hasn't decreased in 50 rounds.\n",
      "[0]\ttrain-rmse:26.754517\tval-rmse:27.076355\n",
      "[1]\ttrain-rmse:26.507433\tval-rmse:26.829119\n",
      "[2]\ttrain-rmse:26.263714\tval-rmse:26.585361\n",
      "[3]\ttrain-rmse:26.023752\tval-rmse:26.345247\n",
      "[4]\ttrain-rmse:25.785013\tval-rmse:26.106462\n",
      "[5]\ttrain-rmse:25.549324\tval-rmse:25.870890\n",
      "[6]\ttrain-rmse:25.315861\tval-rmse:25.637770\n",
      "[7]\ttrain-rmse:25.084364\tval-rmse:25.406252\n",
      "[8]\ttrain-rmse:24.855721\tval-rmse:25.177628\n",
      "[9]\ttrain-rmse:24.629303\tval-rmse:24.951685\n",
      "[10]\ttrain-rmse:24.405464\tval-rmse:24.727772\n",
      "[11]\ttrain-rmse:24.184996\tval-rmse:24.507671\n",
      "[12]\ttrain-rmse:23.966570\tval-rmse:24.289457\n",
      "[13]\ttrain-rmse:23.749325\tval-rmse:24.072374\n",
      "[14]\ttrain-rmse:23.535444\tval-rmse:23.858900\n",
      "[15]\ttrain-rmse:23.325338\tval-rmse:23.648846\n",
      "[16]\ttrain-rmse:23.116831\tval-rmse:23.440639\n",
      "[17]\ttrain-rmse:22.910149\tval-rmse:23.233952\n",
      "[18]\ttrain-rmse:22.706268\tval-rmse:23.030333\n",
      "[19]\ttrain-rmse:22.503792\tval-rmse:22.828291\n",
      "[20]\ttrain-rmse:22.304035\tval-rmse:22.628567\n",
      "[21]\ttrain-rmse:22.105782\tval-rmse:22.430738\n",
      "[22]\ttrain-rmse:21.909853\tval-rmse:22.234776\n",
      "[23]\ttrain-rmse:21.717482\tval-rmse:22.042587\n",
      "[24]\ttrain-rmse:21.526625\tval-rmse:21.851810\n",
      "[25]\ttrain-rmse:21.336817\tval-rmse:21.661972\n",
      "[26]\ttrain-rmse:21.148792\tval-rmse:21.474287\n",
      "[27]\ttrain-rmse:20.963697\tval-rmse:21.289984\n",
      "[28]\ttrain-rmse:20.781473\tval-rmse:21.108086\n",
      "[29]\ttrain-rmse:20.599150\tval-rmse:20.925753\n",
      "[30]\ttrain-rmse:20.420732\tval-rmse:20.747700\n",
      "[31]\ttrain-rmse:20.243994\tval-rmse:20.571762\n",
      "[32]\ttrain-rmse:20.068966\tval-rmse:20.397482\n",
      "[33]\ttrain-rmse:19.895281\tval-rmse:20.223959\n",
      "[34]\ttrain-rmse:19.724070\tval-rmse:20.053392\n",
      "[35]\ttrain-rmse:19.554710\tval-rmse:19.884445\n",
      "[36]\ttrain-rmse:19.389154\tval-rmse:19.719969\n",
      "[37]\ttrain-rmse:19.224014\tval-rmse:19.554989\n",
      "[38]\ttrain-rmse:19.059612\tval-rmse:19.391401\n",
      "[39]\ttrain-rmse:18.896776\tval-rmse:19.229034\n",
      "[40]\ttrain-rmse:18.737562\tval-rmse:19.070255\n",
      "[41]\ttrain-rmse:18.578093\tval-rmse:18.911642\n",
      "[42]\ttrain-rmse:18.420635\tval-rmse:18.754148\n",
      "[43]\ttrain-rmse:18.266811\tval-rmse:18.600901\n",
      "[44]\ttrain-rmse:18.115074\tval-rmse:18.449461\n",
      "[45]\ttrain-rmse:17.964172\tval-rmse:18.299112\n",
      "[46]\ttrain-rmse:17.817169\tval-rmse:18.153418\n",
      "[47]\ttrain-rmse:17.669508\tval-rmse:18.006739\n",
      "[48]\ttrain-rmse:17.523598\tval-rmse:17.861223\n",
      "[49]\ttrain-rmse:17.378839\tval-rmse:17.717033\n",
      "[50]\ttrain-rmse:17.236227\tval-rmse:17.574970\n",
      "[51]\ttrain-rmse:17.096184\tval-rmse:17.435509\n",
      "[52]\ttrain-rmse:16.957056\tval-rmse:17.297049\n",
      "[53]\ttrain-rmse:16.819384\tval-rmse:17.159893\n",
      "[54]\ttrain-rmse:16.683598\tval-rmse:17.024868\n",
      "[55]\ttrain-rmse:16.550688\tval-rmse:16.892250\n",
      "[56]\ttrain-rmse:16.418858\tval-rmse:16.762217\n",
      "[57]\ttrain-rmse:16.288984\tval-rmse:16.633543\n",
      "[58]\ttrain-rmse:16.160166\tval-rmse:16.505373\n",
      "[59]\ttrain-rmse:16.032829\tval-rmse:16.379744\n",
      "[60]\ttrain-rmse:15.907095\tval-rmse:16.254812\n",
      "[61]\ttrain-rmse:15.781857\tval-rmse:16.130386\n",
      "[62]\ttrain-rmse:15.658649\tval-rmse:16.008669\n",
      "[63]\ttrain-rmse:15.536686\tval-rmse:15.887788\n",
      "[64]\ttrain-rmse:15.416321\tval-rmse:15.769145\n",
      "[65]\ttrain-rmse:15.299744\tval-rmse:15.654185\n",
      "[66]\ttrain-rmse:15.183703\tval-rmse:15.538943\n",
      "[67]\ttrain-rmse:15.067878\tval-rmse:15.424595\n",
      "[68]\ttrain-rmse:14.953876\tval-rmse:15.312764\n",
      "[69]\ttrain-rmse:14.840509\tval-rmse:15.201347\n",
      "[70]\ttrain-rmse:14.728450\tval-rmse:15.090563\n",
      "[71]\ttrain-rmse:14.619270\tval-rmse:14.982771\n",
      "[72]\ttrain-rmse:14.510481\tval-rmse:14.875924\n",
      "[73]\ttrain-rmse:14.403333\tval-rmse:14.770662\n",
      "[74]\ttrain-rmse:14.296039\tval-rmse:14.665594\n",
      "[75]\ttrain-rmse:14.192003\tval-rmse:14.562837\n",
      "[76]\ttrain-rmse:14.087852\tval-rmse:14.461472\n",
      "[77]\ttrain-rmse:13.985780\tval-rmse:14.362569\n",
      "[78]\ttrain-rmse:13.885526\tval-rmse:14.263556\n",
      "[79]\ttrain-rmse:13.784376\tval-rmse:14.166965\n",
      "[80]\ttrain-rmse:13.685200\tval-rmse:14.070132\n",
      "[81]\ttrain-rmse:13.587353\tval-rmse:13.974874\n",
      "[82]\ttrain-rmse:13.490390\tval-rmse:13.880383\n",
      "[83]\ttrain-rmse:13.394705\tval-rmse:13.787832\n",
      "[84]\ttrain-rmse:13.300595\tval-rmse:13.695246\n",
      "[85]\ttrain-rmse:13.207703\tval-rmse:13.603858\n",
      "[86]\ttrain-rmse:13.114985\tval-rmse:13.513988\n",
      "[87]\ttrain-rmse:13.025612\tval-rmse:13.427739\n",
      "[88]\ttrain-rmse:12.935864\tval-rmse:13.339716\n",
      "[89]\ttrain-rmse:12.847490\tval-rmse:13.253197\n",
      "[90]\ttrain-rmse:12.761425\tval-rmse:13.171449\n",
      "[91]\ttrain-rmse:12.674014\tval-rmse:13.087117\n",
      "[92]\ttrain-rmse:12.589045\tval-rmse:13.005530\n",
      "[93]\ttrain-rmse:12.504452\tval-rmse:12.923104\n",
      "[94]\ttrain-rmse:12.421179\tval-rmse:12.841964\n",
      "[95]\ttrain-rmse:12.339761\tval-rmse:12.763452\n",
      "[96]\ttrain-rmse:12.258759\tval-rmse:12.685231\n",
      "[97]\ttrain-rmse:12.179628\tval-rmse:12.609237\n",
      "[98]\ttrain-rmse:12.100956\tval-rmse:12.533563\n",
      "[99]\ttrain-rmse:12.021967\tval-rmse:12.457285\n",
      "[100]\ttrain-rmse:11.945538\tval-rmse:12.383411\n",
      "[101]\ttrain-rmse:11.870718\tval-rmse:12.310276\n",
      "[102]\ttrain-rmse:11.795752\tval-rmse:12.238239\n",
      "[103]\ttrain-rmse:11.722133\tval-rmse:12.167795\n",
      "[104]\ttrain-rmse:11.649655\tval-rmse:12.097888\n",
      "[105]\ttrain-rmse:11.576957\tval-rmse:12.029396\n",
      "[106]\ttrain-rmse:11.506177\tval-rmse:11.961063\n",
      "[107]\ttrain-rmse:11.436793\tval-rmse:11.894819\n",
      "[108]\ttrain-rmse:11.367997\tval-rmse:11.829253\n",
      "[109]\ttrain-rmse:11.300750\tval-rmse:11.764395\n",
      "[110]\ttrain-rmse:11.233664\tval-rmse:11.699817\n",
      "[111]\ttrain-rmse:11.165896\tval-rmse:11.635721\n",
      "[112]\ttrain-rmse:11.099999\tval-rmse:11.570715\n",
      "[113]\ttrain-rmse:11.034769\tval-rmse:11.507421\n",
      "[114]\ttrain-rmse:10.971113\tval-rmse:11.446042\n",
      "[115]\ttrain-rmse:10.907200\tval-rmse:11.385798\n",
      "[116]\ttrain-rmse:10.844743\tval-rmse:11.325733\n",
      "[117]\ttrain-rmse:10.783837\tval-rmse:11.266996\n",
      "[118]\ttrain-rmse:10.723577\tval-rmse:11.209785\n",
      "[119]\ttrain-rmse:10.663811\tval-rmse:11.152855\n",
      "[120]\ttrain-rmse:10.605900\tval-rmse:11.098427\n",
      "[121]\ttrain-rmse:10.546808\tval-rmse:11.041771\n",
      "[122]\ttrain-rmse:10.487018\tval-rmse:10.986541\n",
      "[123]\ttrain-rmse:10.428803\tval-rmse:10.931395\n",
      "[124]\ttrain-rmse:10.373269\tval-rmse:10.881682\n",
      "[125]\ttrain-rmse:10.318532\tval-rmse:10.830772\n",
      "[126]\ttrain-rmse:10.264091\tval-rmse:10.778889\n",
      "[127]\ttrain-rmse:10.210087\tval-rmse:10.726844\n",
      "[128]\ttrain-rmse:10.155555\tval-rmse:10.676862\n",
      "[129]\ttrain-rmse:10.103253\tval-rmse:10.627454\n",
      "[130]\ttrain-rmse:10.050900\tval-rmse:10.578287\n",
      "[131]\ttrain-rmse:9.998793\tval-rmse:10.529483\n",
      "[132]\ttrain-rmse:9.948634\tval-rmse:10.483923\n",
      "[133]\ttrain-rmse:9.897655\tval-rmse:10.437078\n",
      "[134]\ttrain-rmse:9.849339\tval-rmse:10.392978\n",
      "[135]\ttrain-rmse:9.801600\tval-rmse:10.347425\n",
      "[136]\ttrain-rmse:9.753985\tval-rmse:10.302526\n",
      "[137]\ttrain-rmse:9.707383\tval-rmse:10.258823\n",
      "[138]\ttrain-rmse:9.662159\tval-rmse:10.216199\n",
      "[139]\ttrain-rmse:9.616492\tval-rmse:10.172348\n",
      "[140]\ttrain-rmse:9.571503\tval-rmse:10.130015\n",
      "[141]\ttrain-rmse:9.526554\tval-rmse:10.089439\n",
      "[142]\ttrain-rmse:9.482506\tval-rmse:10.049177\n",
      "[143]\ttrain-rmse:9.440134\tval-rmse:10.011247\n",
      "[144]\ttrain-rmse:9.396498\tval-rmse:9.970623\n",
      "[145]\ttrain-rmse:9.354460\tval-rmse:9.931581\n",
      "[146]\ttrain-rmse:9.312618\tval-rmse:9.894687\n",
      "[147]\ttrain-rmse:9.272153\tval-rmse:9.857957\n",
      "[148]\ttrain-rmse:9.231513\tval-rmse:9.821374\n",
      "[149]\ttrain-rmse:9.191253\tval-rmse:9.784745\n",
      "[150]\ttrain-rmse:9.151635\tval-rmse:9.748399\n",
      "[151]\ttrain-rmse:9.111093\tval-rmse:9.712703\n",
      "[152]\ttrain-rmse:9.072894\tval-rmse:9.678629\n",
      "[153]\ttrain-rmse:9.033403\tval-rmse:9.644485\n",
      "[154]\ttrain-rmse:8.997205\tval-rmse:9.610807\n",
      "[155]\ttrain-rmse:8.959395\tval-rmse:9.576808\n",
      "[156]\ttrain-rmse:8.922155\tval-rmse:9.542078\n",
      "[157]\ttrain-rmse:8.885426\tval-rmse:9.510205\n",
      "[158]\ttrain-rmse:8.850413\tval-rmse:9.478560\n",
      "[159]\ttrain-rmse:8.815930\tval-rmse:9.446877\n",
      "[160]\ttrain-rmse:8.781952\tval-rmse:9.415346\n",
      "[161]\ttrain-rmse:8.748358\tval-rmse:9.385949\n",
      "[162]\ttrain-rmse:8.716170\tval-rmse:9.357429\n",
      "[163]\ttrain-rmse:8.683902\tval-rmse:9.329220\n",
      "[164]\ttrain-rmse:8.650510\tval-rmse:9.301529\n",
      "[165]\ttrain-rmse:8.619281\tval-rmse:9.272271\n",
      "[166]\ttrain-rmse:8.586724\tval-rmse:9.244865\n",
      "[167]\ttrain-rmse:8.555327\tval-rmse:9.218418\n",
      "[168]\ttrain-rmse:8.526031\tval-rmse:9.191302\n",
      "[169]\ttrain-rmse:8.494654\tval-rmse:9.166461\n",
      "[170]\ttrain-rmse:8.465136\tval-rmse:9.141263\n",
      "[171]\ttrain-rmse:8.435614\tval-rmse:9.115730\n",
      "[172]\ttrain-rmse:8.407119\tval-rmse:9.088869\n",
      "[173]\ttrain-rmse:8.377919\tval-rmse:9.065304\n",
      "[174]\ttrain-rmse:8.348730\tval-rmse:9.040485\n",
      "[175]\ttrain-rmse:8.322054\tval-rmse:9.017073\n",
      "[176]\ttrain-rmse:8.293674\tval-rmse:8.993798\n",
      "[177]\ttrain-rmse:8.265434\tval-rmse:8.967730\n",
      "[178]\ttrain-rmse:8.238867\tval-rmse:8.944219\n",
      "[179]\ttrain-rmse:8.213425\tval-rmse:8.921295\n",
      "[180]\ttrain-rmse:8.186967\tval-rmse:8.899492\n",
      "[181]\ttrain-rmse:8.161526\tval-rmse:8.878172\n",
      "[182]\ttrain-rmse:8.136179\tval-rmse:8.855230\n",
      "[183]\ttrain-rmse:8.111119\tval-rmse:8.833741\n",
      "[184]\ttrain-rmse:8.087560\tval-rmse:8.812630\n",
      "[185]\ttrain-rmse:8.064111\tval-rmse:8.793037\n",
      "[186]\ttrain-rmse:8.039478\tval-rmse:8.772757\n",
      "[187]\ttrain-rmse:8.016082\tval-rmse:8.752308\n",
      "[188]\ttrain-rmse:7.991686\tval-rmse:8.732345\n",
      "[189]\ttrain-rmse:7.969330\tval-rmse:8.713498\n",
      "[190]\ttrain-rmse:7.945876\tval-rmse:8.694351\n",
      "[191]\ttrain-rmse:7.923717\tval-rmse:8.676140\n",
      "[192]\ttrain-rmse:7.902412\tval-rmse:8.658901\n",
      "[193]\ttrain-rmse:7.880349\tval-rmse:8.640336\n",
      "[194]\ttrain-rmse:7.858987\tval-rmse:8.623451\n",
      "[195]\ttrain-rmse:7.836649\tval-rmse:8.605872\n",
      "[196]\ttrain-rmse:7.815313\tval-rmse:8.588137\n",
      "[197]\ttrain-rmse:7.793297\tval-rmse:8.570383\n",
      "[198]\ttrain-rmse:7.771436\tval-rmse:8.554519\n",
      "[199]\ttrain-rmse:7.751395\tval-rmse:8.537268\n",
      "[200]\ttrain-rmse:7.731669\tval-rmse:8.521854\n",
      "[201]\ttrain-rmse:7.711197\tval-rmse:8.505130\n",
      "[202]\ttrain-rmse:7.691883\tval-rmse:8.490035\n",
      "[203]\ttrain-rmse:7.671005\tval-rmse:8.475816\n",
      "[204]\ttrain-rmse:7.651740\tval-rmse:8.459105\n",
      "[205]\ttrain-rmse:7.634013\tval-rmse:8.444961\n",
      "[206]\ttrain-rmse:7.616514\tval-rmse:8.430605\n",
      "[207]\ttrain-rmse:7.598223\tval-rmse:8.416579\n",
      "[208]\ttrain-rmse:7.580433\tval-rmse:8.402627\n",
      "[209]\ttrain-rmse:7.562879\tval-rmse:8.388007\n",
      "[210]\ttrain-rmse:7.545706\tval-rmse:8.373421\n",
      "[211]\ttrain-rmse:7.528785\tval-rmse:8.359985\n",
      "[212]\ttrain-rmse:7.511156\tval-rmse:8.347564\n",
      "[213]\ttrain-rmse:7.494249\tval-rmse:8.334725\n",
      "[214]\ttrain-rmse:7.477236\tval-rmse:8.322673\n",
      "[215]\ttrain-rmse:7.462294\tval-rmse:8.309252\n",
      "[216]\ttrain-rmse:7.447491\tval-rmse:8.296601\n",
      "[217]\ttrain-rmse:7.431214\tval-rmse:8.285400\n",
      "[218]\ttrain-rmse:7.416484\tval-rmse:8.272746\n",
      "[219]\ttrain-rmse:7.401848\tval-rmse:8.260821\n",
      "[220]\ttrain-rmse:7.387718\tval-rmse:8.249429\n",
      "[221]\ttrain-rmse:7.373582\tval-rmse:8.238727\n",
      "[222]\ttrain-rmse:7.357963\tval-rmse:8.227191\n",
      "[223]\ttrain-rmse:7.344136\tval-rmse:8.216083\n",
      "[224]\ttrain-rmse:7.330429\tval-rmse:8.205445\n",
      "[225]\ttrain-rmse:7.315660\tval-rmse:8.194940\n",
      "[226]\ttrain-rmse:7.302501\tval-rmse:8.184588\n",
      "[227]\ttrain-rmse:7.287981\tval-rmse:8.175551\n",
      "[228]\ttrain-rmse:7.274052\tval-rmse:8.165036\n",
      "[229]\ttrain-rmse:7.262197\tval-rmse:8.155033\n",
      "[230]\ttrain-rmse:7.248135\tval-rmse:8.145060\n",
      "[231]\ttrain-rmse:7.235852\tval-rmse:8.136118\n",
      "[232]\ttrain-rmse:7.222504\tval-rmse:8.126746\n",
      "[233]\ttrain-rmse:7.211316\tval-rmse:8.117174\n",
      "[234]\ttrain-rmse:7.198768\tval-rmse:8.108644\n",
      "[235]\ttrain-rmse:7.185965\tval-rmse:8.100917\n",
      "[236]\ttrain-rmse:7.174225\tval-rmse:8.093000\n",
      "[237]\ttrain-rmse:7.160925\tval-rmse:8.083737\n",
      "[238]\ttrain-rmse:7.150401\tval-rmse:8.075594\n",
      "[239]\ttrain-rmse:7.140093\tval-rmse:8.067111\n",
      "[240]\ttrain-rmse:7.128876\tval-rmse:8.059648\n",
      "[241]\ttrain-rmse:7.118464\tval-rmse:8.052660\n",
      "[242]\ttrain-rmse:7.107171\tval-rmse:8.044677\n",
      "[243]\ttrain-rmse:7.095787\tval-rmse:8.036709\n",
      "[244]\ttrain-rmse:7.084152\tval-rmse:8.029805\n",
      "[245]\ttrain-rmse:7.072409\tval-rmse:8.022022\n",
      "[246]\ttrain-rmse:7.059624\tval-rmse:8.013901\n",
      "[247]\ttrain-rmse:7.048292\tval-rmse:8.005972\n",
      "[248]\ttrain-rmse:7.036700\tval-rmse:7.998701\n",
      "[249]\ttrain-rmse:7.025924\tval-rmse:7.991396\n",
      "[250]\ttrain-rmse:7.016031\tval-rmse:7.985649\n",
      "[251]\ttrain-rmse:7.005815\tval-rmse:7.979579\n",
      "[252]\ttrain-rmse:6.995990\tval-rmse:7.973102\n",
      "[253]\ttrain-rmse:6.986868\tval-rmse:7.965915\n",
      "[254]\ttrain-rmse:6.976436\tval-rmse:7.960534\n",
      "[255]\ttrain-rmse:6.968215\tval-rmse:7.954189\n",
      "[256]\ttrain-rmse:6.958976\tval-rmse:7.949257\n",
      "[257]\ttrain-rmse:6.949638\tval-rmse:7.942607\n",
      "[258]\ttrain-rmse:6.938760\tval-rmse:7.936892\n",
      "[259]\ttrain-rmse:6.930012\tval-rmse:7.931000\n",
      "[260]\ttrain-rmse:6.920732\tval-rmse:7.925301\n",
      "[261]\ttrain-rmse:6.911591\tval-rmse:7.920666\n",
      "[262]\ttrain-rmse:6.901869\tval-rmse:7.914728\n",
      "[263]\ttrain-rmse:6.893726\tval-rmse:7.909768\n",
      "[264]\ttrain-rmse:6.885093\tval-rmse:7.904752\n",
      "[265]\ttrain-rmse:6.876453\tval-rmse:7.901001\n",
      "[266]\ttrain-rmse:6.868892\tval-rmse:7.896665\n",
      "[267]\ttrain-rmse:6.861974\tval-rmse:7.890832\n",
      "[268]\ttrain-rmse:6.853211\tval-rmse:7.885602\n",
      "[269]\ttrain-rmse:6.845205\tval-rmse:7.881763\n",
      "[270]\ttrain-rmse:6.838698\tval-rmse:7.876998\n",
      "[271]\ttrain-rmse:6.830893\tval-rmse:7.872192\n",
      "[272]\ttrain-rmse:6.822764\tval-rmse:7.867504\n",
      "[273]\ttrain-rmse:6.814561\tval-rmse:7.862802\n",
      "[274]\ttrain-rmse:6.807693\tval-rmse:7.858073\n",
      "[275]\ttrain-rmse:6.800110\tval-rmse:7.852530\n",
      "[276]\ttrain-rmse:6.792753\tval-rmse:7.847370\n",
      "[277]\ttrain-rmse:6.786638\tval-rmse:7.843504\n",
      "[278]\ttrain-rmse:6.778856\tval-rmse:7.839368\n",
      "[279]\ttrain-rmse:6.772393\tval-rmse:7.835686\n",
      "[280]\ttrain-rmse:6.764996\tval-rmse:7.831301\n",
      "[281]\ttrain-rmse:6.756004\tval-rmse:7.827236\n",
      "[282]\ttrain-rmse:6.747477\tval-rmse:7.823221\n",
      "[283]\ttrain-rmse:6.739101\tval-rmse:7.819242\n",
      "[284]\ttrain-rmse:6.732860\tval-rmse:7.815041\n",
      "[285]\ttrain-rmse:6.726067\tval-rmse:7.810481\n",
      "[286]\ttrain-rmse:6.720140\tval-rmse:7.806664\n",
      "[287]\ttrain-rmse:6.712499\tval-rmse:7.802692\n",
      "[288]\ttrain-rmse:6.706893\tval-rmse:7.799958\n",
      "[289]\ttrain-rmse:6.700148\tval-rmse:7.796603\n",
      "[290]\ttrain-rmse:6.692349\tval-rmse:7.792997\n",
      "[291]\ttrain-rmse:6.686882\tval-rmse:7.789409\n",
      "[292]\ttrain-rmse:6.680970\tval-rmse:7.786393\n",
      "[293]\ttrain-rmse:6.675892\tval-rmse:7.783286\n",
      "[294]\ttrain-rmse:6.668499\tval-rmse:7.779541\n",
      "[295]\ttrain-rmse:6.662136\tval-rmse:7.776681\n",
      "[296]\ttrain-rmse:6.654728\tval-rmse:7.773715\n",
      "[297]\ttrain-rmse:6.648862\tval-rmse:7.770589\n",
      "[298]\ttrain-rmse:6.643988\tval-rmse:7.767730\n",
      "[299]\ttrain-rmse:6.638177\tval-rmse:7.764898\n",
      "[300]\ttrain-rmse:6.632648\tval-rmse:7.762294\n",
      "[301]\ttrain-rmse:6.627704\tval-rmse:7.759961\n",
      "[302]\ttrain-rmse:6.622670\tval-rmse:7.757077\n",
      "[303]\ttrain-rmse:6.618511\tval-rmse:7.754297\n",
      "[304]\ttrain-rmse:6.612954\tval-rmse:7.751859\n",
      "[305]\ttrain-rmse:6.607710\tval-rmse:7.749874\n",
      "[306]\ttrain-rmse:6.602326\tval-rmse:7.747881\n",
      "[307]\ttrain-rmse:6.595924\tval-rmse:7.745327\n",
      "[308]\ttrain-rmse:6.588830\tval-rmse:7.742748\n",
      "[309]\ttrain-rmse:6.583687\tval-rmse:7.739185\n",
      "[310]\ttrain-rmse:6.578585\tval-rmse:7.736729\n",
      "[311]\ttrain-rmse:6.572912\tval-rmse:7.734717\n",
      "[312]\ttrain-rmse:6.567242\tval-rmse:7.732274\n",
      "[313]\ttrain-rmse:6.562287\tval-rmse:7.730479\n",
      "[314]\ttrain-rmse:6.556108\tval-rmse:7.727924\n",
      "[315]\ttrain-rmse:6.550570\tval-rmse:7.725758\n",
      "[316]\ttrain-rmse:6.545154\tval-rmse:7.723303\n",
      "[317]\ttrain-rmse:6.538370\tval-rmse:7.722132\n",
      "[318]\ttrain-rmse:6.532322\tval-rmse:7.720119\n",
      "[319]\ttrain-rmse:6.526937\tval-rmse:7.717117\n",
      "[320]\ttrain-rmse:6.521389\tval-rmse:7.715321\n",
      "[321]\ttrain-rmse:6.517850\tval-rmse:7.713440\n",
      "[322]\ttrain-rmse:6.513783\tval-rmse:7.711606\n",
      "[323]\ttrain-rmse:6.508181\tval-rmse:7.709870\n",
      "[324]\ttrain-rmse:6.503898\tval-rmse:7.707851\n",
      "[325]\ttrain-rmse:6.499105\tval-rmse:7.706656\n",
      "[326]\ttrain-rmse:6.493841\tval-rmse:7.703780\n",
      "[327]\ttrain-rmse:6.489663\tval-rmse:7.702471\n",
      "[328]\ttrain-rmse:6.484835\tval-rmse:7.701246\n",
      "[329]\ttrain-rmse:6.479013\tval-rmse:7.699762\n",
      "[330]\ttrain-rmse:6.474331\tval-rmse:7.697442\n",
      "[331]\ttrain-rmse:6.469864\tval-rmse:7.695880\n",
      "[332]\ttrain-rmse:6.464885\tval-rmse:7.694393\n",
      "[333]\ttrain-rmse:6.459545\tval-rmse:7.692192\n",
      "[334]\ttrain-rmse:6.455115\tval-rmse:7.691190\n",
      "[335]\ttrain-rmse:6.449234\tval-rmse:7.690490\n",
      "[336]\ttrain-rmse:6.443377\tval-rmse:7.689079\n",
      "[337]\ttrain-rmse:6.437204\tval-rmse:7.688321\n",
      "[338]\ttrain-rmse:6.433946\tval-rmse:7.686690\n",
      "[339]\ttrain-rmse:6.428629\tval-rmse:7.685245\n",
      "[340]\ttrain-rmse:6.424885\tval-rmse:7.683694\n",
      "[341]\ttrain-rmse:6.420341\tval-rmse:7.682350\n",
      "[342]\ttrain-rmse:6.415379\tval-rmse:7.681848\n",
      "[343]\ttrain-rmse:6.413139\tval-rmse:7.680825\n",
      "[344]\ttrain-rmse:6.410125\tval-rmse:7.679375\n",
      "[345]\ttrain-rmse:6.405407\tval-rmse:7.677789\n",
      "[346]\ttrain-rmse:6.401294\tval-rmse:7.676580\n",
      "[347]\ttrain-rmse:6.397095\tval-rmse:7.675345\n",
      "[348]\ttrain-rmse:6.393234\tval-rmse:7.674030\n",
      "[349]\ttrain-rmse:6.389907\tval-rmse:7.672448\n",
      "[350]\ttrain-rmse:6.385683\tval-rmse:7.671397\n",
      "[351]\ttrain-rmse:6.380582\tval-rmse:7.670492\n",
      "[352]\ttrain-rmse:6.377148\tval-rmse:7.669759\n",
      "[353]\ttrain-rmse:6.373638\tval-rmse:7.667645\n",
      "[354]\ttrain-rmse:6.369934\tval-rmse:7.665846\n",
      "[355]\ttrain-rmse:6.367136\tval-rmse:7.664556\n",
      "[356]\ttrain-rmse:6.364020\tval-rmse:7.663478\n",
      "[357]\ttrain-rmse:6.360574\tval-rmse:7.663469\n",
      "[358]\ttrain-rmse:6.356777\tval-rmse:7.661736\n",
      "[359]\ttrain-rmse:6.353374\tval-rmse:7.660707\n",
      "[360]\ttrain-rmse:6.348935\tval-rmse:7.659357\n",
      "[361]\ttrain-rmse:6.346701\tval-rmse:7.658672\n",
      "[362]\ttrain-rmse:6.342565\tval-rmse:7.657679\n",
      "[363]\ttrain-rmse:6.339643\tval-rmse:7.656425\n",
      "[364]\ttrain-rmse:6.335520\tval-rmse:7.656032\n",
      "[365]\ttrain-rmse:6.331338\tval-rmse:7.655043\n",
      "[366]\ttrain-rmse:6.326895\tval-rmse:7.653506\n",
      "[367]\ttrain-rmse:6.324437\tval-rmse:7.652841\n",
      "[368]\ttrain-rmse:6.321657\tval-rmse:7.652708\n",
      "[369]\ttrain-rmse:6.319283\tval-rmse:7.651394\n",
      "[370]\ttrain-rmse:6.315123\tval-rmse:7.650723\n",
      "[371]\ttrain-rmse:6.312211\tval-rmse:7.650547\n",
      "[372]\ttrain-rmse:6.307839\tval-rmse:7.650613\n",
      "[373]\ttrain-rmse:6.303956\tval-rmse:7.649930\n",
      "[374]\ttrain-rmse:6.299721\tval-rmse:7.649058\n",
      "[375]\ttrain-rmse:6.297377\tval-rmse:7.648627\n",
      "[376]\ttrain-rmse:6.295154\tval-rmse:7.647388\n",
      "[377]\ttrain-rmse:6.292442\tval-rmse:7.647222\n",
      "[378]\ttrain-rmse:6.289091\tval-rmse:7.646461\n",
      "[379]\ttrain-rmse:6.286736\tval-rmse:7.645473\n",
      "[380]\ttrain-rmse:6.282681\tval-rmse:7.645674\n",
      "[381]\ttrain-rmse:6.280901\tval-rmse:7.645398\n",
      "[382]\ttrain-rmse:6.277216\tval-rmse:7.645105\n",
      "[383]\ttrain-rmse:6.272698\tval-rmse:7.644349\n",
      "[384]\ttrain-rmse:6.269388\tval-rmse:7.643698\n",
      "[385]\ttrain-rmse:6.267501\tval-rmse:7.643864\n",
      "[386]\ttrain-rmse:6.265056\tval-rmse:7.643787\n",
      "[387]\ttrain-rmse:6.261882\tval-rmse:7.642935\n",
      "[388]\ttrain-rmse:6.258910\tval-rmse:7.642548\n",
      "[389]\ttrain-rmse:6.255968\tval-rmse:7.642235\n",
      "[390]\ttrain-rmse:6.252049\tval-rmse:7.641160\n",
      "[391]\ttrain-rmse:6.249553\tval-rmse:7.640113\n",
      "[392]\ttrain-rmse:6.247008\tval-rmse:7.640378\n",
      "[393]\ttrain-rmse:6.244081\tval-rmse:7.639561\n",
      "[394]\ttrain-rmse:6.241885\tval-rmse:7.638593\n",
      "[395]\ttrain-rmse:6.239349\tval-rmse:7.638446\n",
      "[396]\ttrain-rmse:6.235143\tval-rmse:7.638316\n",
      "[397]\ttrain-rmse:6.232148\tval-rmse:7.637562\n",
      "[398]\ttrain-rmse:6.227432\tval-rmse:7.637077\n",
      "[399]\ttrain-rmse:6.224073\tval-rmse:7.636858\n",
      "[400]\ttrain-rmse:6.221091\tval-rmse:7.636658\n",
      "[401]\ttrain-rmse:6.218709\tval-rmse:7.636158\n",
      "[402]\ttrain-rmse:6.216558\tval-rmse:7.635931\n",
      "[403]\ttrain-rmse:6.214571\tval-rmse:7.635479\n",
      "[404]\ttrain-rmse:6.210571\tval-rmse:7.635402\n",
      "[405]\ttrain-rmse:6.207419\tval-rmse:7.634459\n",
      "[406]\ttrain-rmse:6.204220\tval-rmse:7.633962\n",
      "[407]\ttrain-rmse:6.201944\tval-rmse:7.633953\n",
      "[408]\ttrain-rmse:6.199449\tval-rmse:7.633103\n",
      "[409]\ttrain-rmse:6.196909\tval-rmse:7.633524\n",
      "[410]\ttrain-rmse:6.194665\tval-rmse:7.633253\n",
      "[411]\ttrain-rmse:6.192176\tval-rmse:7.633307\n",
      "[412]\ttrain-rmse:6.187685\tval-rmse:7.632837\n",
      "[413]\ttrain-rmse:6.184183\tval-rmse:7.631788\n",
      "[414]\ttrain-rmse:6.181051\tval-rmse:7.631887\n",
      "[415]\ttrain-rmse:6.176943\tval-rmse:7.631021\n",
      "[416]\ttrain-rmse:6.174069\tval-rmse:7.630548\n",
      "[417]\ttrain-rmse:6.170363\tval-rmse:7.630436\n",
      "[418]\ttrain-rmse:6.166495\tval-rmse:7.630102\n",
      "[419]\ttrain-rmse:6.162838\tval-rmse:7.629061\n",
      "[420]\ttrain-rmse:6.160098\tval-rmse:7.628612\n",
      "[421]\ttrain-rmse:6.157925\tval-rmse:7.627901\n",
      "[422]\ttrain-rmse:6.155376\tval-rmse:7.626675\n",
      "[423]\ttrain-rmse:6.154110\tval-rmse:7.626070\n",
      "[424]\ttrain-rmse:6.151248\tval-rmse:7.625353\n",
      "[425]\ttrain-rmse:6.149393\tval-rmse:7.625493\n",
      "[426]\ttrain-rmse:6.146300\tval-rmse:7.625150\n",
      "[427]\ttrain-rmse:6.143583\tval-rmse:7.625472\n",
      "[428]\ttrain-rmse:6.138715\tval-rmse:7.625452\n",
      "[429]\ttrain-rmse:6.136730\tval-rmse:7.625447\n",
      "[430]\ttrain-rmse:6.134409\tval-rmse:7.625612\n",
      "[431]\ttrain-rmse:6.130349\tval-rmse:7.626336\n",
      "[432]\ttrain-rmse:6.127551\tval-rmse:7.625938\n",
      "[433]\ttrain-rmse:6.125521\tval-rmse:7.625568\n",
      "[434]\ttrain-rmse:6.121871\tval-rmse:7.624565\n",
      "[435]\ttrain-rmse:6.117782\tval-rmse:7.623428\n",
      "[436]\ttrain-rmse:6.115039\tval-rmse:7.623612\n",
      "[437]\ttrain-rmse:6.112812\tval-rmse:7.623736\n",
      "[438]\ttrain-rmse:6.110778\tval-rmse:7.624237\n",
      "[439]\ttrain-rmse:6.107781\tval-rmse:7.624135\n",
      "[440]\ttrain-rmse:6.105052\tval-rmse:7.623445\n",
      "[441]\ttrain-rmse:6.103492\tval-rmse:7.623177\n",
      "[442]\ttrain-rmse:6.100430\tval-rmse:7.623189\n",
      "[443]\ttrain-rmse:6.099454\tval-rmse:7.622812\n",
      "[444]\ttrain-rmse:6.095851\tval-rmse:7.623619\n",
      "[445]\ttrain-rmse:6.092828\tval-rmse:7.623258\n",
      "[446]\ttrain-rmse:6.091274\tval-rmse:7.623314\n",
      "[447]\ttrain-rmse:6.088575\tval-rmse:7.623193\n",
      "[448]\ttrain-rmse:6.085767\tval-rmse:7.623117\n",
      "[449]\ttrain-rmse:6.083138\tval-rmse:7.623217\n",
      "[450]\ttrain-rmse:6.080729\tval-rmse:7.623899\n",
      "[451]\ttrain-rmse:6.078086\tval-rmse:7.624068\n",
      "[452]\ttrain-rmse:6.075189\tval-rmse:7.623981\n",
      "[453]\ttrain-rmse:6.072464\tval-rmse:7.623734\n",
      "[454]\ttrain-rmse:6.070441\tval-rmse:7.623472\n",
      "[455]\ttrain-rmse:6.068896\tval-rmse:7.623399\n",
      "[456]\ttrain-rmse:6.066015\tval-rmse:7.623136\n",
      "[457]\ttrain-rmse:6.062579\tval-rmse:7.623165\n",
      "[458]\ttrain-rmse:6.060935\tval-rmse:7.623049\n",
      "[459]\ttrain-rmse:6.058224\tval-rmse:7.622679\n",
      "[460]\ttrain-rmse:6.056177\tval-rmse:7.623128\n",
      "[461]\ttrain-rmse:6.052094\tval-rmse:7.623425\n",
      "[462]\ttrain-rmse:6.049555\tval-rmse:7.623604\n",
      "[463]\ttrain-rmse:6.045904\tval-rmse:7.622782\n",
      "[464]\ttrain-rmse:6.042659\tval-rmse:7.622011\n",
      "[465]\ttrain-rmse:6.038850\tval-rmse:7.621934\n",
      "[466]\ttrain-rmse:6.037233\tval-rmse:7.621681\n",
      "[467]\ttrain-rmse:6.034642\tval-rmse:7.621581\n",
      "[468]\ttrain-rmse:6.031996\tval-rmse:7.621516\n",
      "[469]\ttrain-rmse:6.029877\tval-rmse:7.620944\n",
      "[470]\ttrain-rmse:6.028332\tval-rmse:7.620839\n",
      "[471]\ttrain-rmse:6.026722\tval-rmse:7.621031\n",
      "[472]\ttrain-rmse:6.025038\tval-rmse:7.620623\n",
      "[473]\ttrain-rmse:6.022723\tval-rmse:7.620610\n",
      "[474]\ttrain-rmse:6.021012\tval-rmse:7.620849\n",
      "[475]\ttrain-rmse:6.018744\tval-rmse:7.620573\n",
      "[476]\ttrain-rmse:6.015336\tval-rmse:7.619485\n",
      "[477]\ttrain-rmse:6.013852\tval-rmse:7.619584\n",
      "[478]\ttrain-rmse:6.009868\tval-rmse:7.620023\n",
      "[479]\ttrain-rmse:6.008141\tval-rmse:7.620327\n",
      "[480]\ttrain-rmse:6.006197\tval-rmse:7.620781\n",
      "[481]\ttrain-rmse:6.004335\tval-rmse:7.620426\n",
      "[482]\ttrain-rmse:6.001417\tval-rmse:7.620510\n",
      "[483]\ttrain-rmse:5.998770\tval-rmse:7.620732\n",
      "[484]\ttrain-rmse:5.995742\tval-rmse:7.620350\n",
      "[485]\ttrain-rmse:5.992281\tval-rmse:7.620780\n",
      "[486]\ttrain-rmse:5.989839\tval-rmse:7.620152\n",
      "[487]\ttrain-rmse:5.987661\tval-rmse:7.619977\n",
      "[488]\ttrain-rmse:5.985207\tval-rmse:7.619601\n",
      "[489]\ttrain-rmse:5.982616\tval-rmse:7.619963\n",
      "[490]\ttrain-rmse:5.979568\tval-rmse:7.620333\n",
      "[491]\ttrain-rmse:5.977458\tval-rmse:7.620327\n",
      "[492]\ttrain-rmse:5.974811\tval-rmse:7.620346\n",
      "[493]\ttrain-rmse:5.972069\tval-rmse:7.619211\n",
      "[494]\ttrain-rmse:5.969911\tval-rmse:7.618989\n",
      "[495]\ttrain-rmse:5.968211\tval-rmse:7.618603\n",
      "[496]\ttrain-rmse:5.964578\tval-rmse:7.618437\n",
      "[497]\ttrain-rmse:5.962744\tval-rmse:7.618323\n",
      "[498]\ttrain-rmse:5.959301\tval-rmse:7.618696\n",
      "[499]\ttrain-rmse:5.956641\tval-rmse:7.618503\n",
      "[500]\ttrain-rmse:5.953529\tval-rmse:7.618395\n",
      "[501]\ttrain-rmse:5.952019\tval-rmse:7.618199\n",
      "[502]\ttrain-rmse:5.950239\tval-rmse:7.618236\n",
      "[503]\ttrain-rmse:5.947185\tval-rmse:7.618341\n",
      "[504]\ttrain-rmse:5.944136\tval-rmse:7.618997\n",
      "[505]\ttrain-rmse:5.941547\tval-rmse:7.618880\n",
      "[506]\ttrain-rmse:5.940704\tval-rmse:7.618797\n",
      "[507]\ttrain-rmse:5.938140\tval-rmse:7.619500\n",
      "[508]\ttrain-rmse:5.935826\tval-rmse:7.619177\n",
      "[509]\ttrain-rmse:5.933202\tval-rmse:7.619959\n",
      "[510]\ttrain-rmse:5.929807\tval-rmse:7.619775\n",
      "[511]\ttrain-rmse:5.927635\tval-rmse:7.619384\n",
      "[512]\ttrain-rmse:5.925211\tval-rmse:7.619603\n",
      "[513]\ttrain-rmse:5.921902\tval-rmse:7.619901\n",
      "[514]\ttrain-rmse:5.919386\tval-rmse:7.620467\n",
      "[515]\ttrain-rmse:5.916772\tval-rmse:7.620921\n",
      "[516]\ttrain-rmse:5.914804\tval-rmse:7.621797\n",
      "[517]\ttrain-rmse:5.912145\tval-rmse:7.622207\n",
      "[518]\ttrain-rmse:5.909977\tval-rmse:7.621660\n",
      "[519]\ttrain-rmse:5.907305\tval-rmse:7.621549\n",
      "[520]\ttrain-rmse:5.904091\tval-rmse:7.622010\n",
      "[521]\ttrain-rmse:5.902323\tval-rmse:7.621885\n",
      "[522]\ttrain-rmse:5.900453\tval-rmse:7.621601\n",
      "[523]\ttrain-rmse:5.898887\tval-rmse:7.621109\n",
      "[524]\ttrain-rmse:5.896355\tval-rmse:7.621049\n",
      "[525]\ttrain-rmse:5.894222\tval-rmse:7.620932\n",
      "[526]\ttrain-rmse:5.892640\tval-rmse:7.621486\n",
      "[527]\ttrain-rmse:5.889612\tval-rmse:7.621323\n",
      "[528]\ttrain-rmse:5.887449\tval-rmse:7.621981\n",
      "[529]\ttrain-rmse:5.885380\tval-rmse:7.621862\n",
      "[530]\ttrain-rmse:5.881378\tval-rmse:7.622396\n",
      "[531]\ttrain-rmse:5.880194\tval-rmse:7.622013\n",
      "[532]\ttrain-rmse:5.877260\tval-rmse:7.622684\n",
      "[533]\ttrain-rmse:5.875479\tval-rmse:7.622757\n",
      "[534]\ttrain-rmse:5.872269\tval-rmse:7.623230\n",
      "[535]\ttrain-rmse:5.869383\tval-rmse:7.623890\n",
      "[536]\ttrain-rmse:5.867898\tval-rmse:7.624314\n",
      "[537]\ttrain-rmse:5.865307\tval-rmse:7.624576\n",
      "[538]\ttrain-rmse:5.861992\tval-rmse:7.624803\n",
      "[539]\ttrain-rmse:5.859747\tval-rmse:7.625176\n",
      "[540]\ttrain-rmse:5.857390\tval-rmse:7.624409\n",
      "[541]\ttrain-rmse:5.854167\tval-rmse:7.624545\n",
      "[542]\ttrain-rmse:5.851276\tval-rmse:7.624799\n",
      "[543]\ttrain-rmse:5.849733\tval-rmse:7.625349\n",
      "[544]\ttrain-rmse:5.846864\tval-rmse:7.625637\n",
      "[545]\ttrain-rmse:5.843899\tval-rmse:7.625770\n",
      "[546]\ttrain-rmse:5.842347\tval-rmse:7.626162\n",
      "[547]\ttrain-rmse:5.841310\tval-rmse:7.626694\n",
      "[548]\ttrain-rmse:5.838875\tval-rmse:7.626401\n",
      "[549]\ttrain-rmse:5.837048\tval-rmse:7.626716\n",
      "[550]\ttrain-rmse:5.835084\tval-rmse:7.626960\n",
      "[551]\ttrain-rmse:5.833903\tval-rmse:7.627216\n",
      "Stopping. Best iteration:\n",
      "[501]\ttrain-rmse:5.952019\tval-rmse:7.618199\n",
      "\n"
     ]
    }
   ],
   "source": [
    "model = xgb.train(plst, xgtrain, num_rounds, watchlist, early_stopping_rounds=50)"
   ]
  },
  {
   "cell_type": "code",
   "execution_count": 36,
   "metadata": {
    "collapsed": true
   },
   "outputs": [],
   "source": [
    "model.save_model('E:/age.model')"
   ]
  },
  {
   "cell_type": "code",
   "execution_count": 37,
   "metadata": {
    "collapsed": true
   },
   "outputs": [],
   "source": [
    "preds = model.predict(xgtest,ntree_limit=model.best_iteration)"
   ]
  },
  {
   "cell_type": "code",
   "execution_count": 38,
   "metadata": {
    "collapsed": false
   },
   "outputs": [
    {
     "data": {
      "text/plain": [
       "array([ 25.05296516,  25.05296516,  25.05296516, ...,  25.05296516,\n",
       "        25.05296516,  25.05296516], dtype=float32)"
      ]
     },
     "execution_count": 38,
     "metadata": {},
     "output_type": "execute_result"
    }
   ],
   "source": [
    "preds"
   ]
  },
  {
   "cell_type": "markdown",
   "metadata": {},
   "source": [
    "# 4. 对预测结果进行处理和保存"
   ]
  },
  {
   "cell_type": "code",
   "execution_count": 107,
   "metadata": {
    "collapsed": false
   },
   "outputs": [],
   "source": [
    "# np.savetxt('E:/age.csv',np.c_[range(1,len(test)+1),preds],\n",
    "#                 delimiter=',',header='id,Label',comments='',fmt='%d')"
   ]
  },
  {
   "cell_type": "code",
   "execution_count": 39,
   "metadata": {
    "collapsed": true
   },
   "outputs": [],
   "source": [
    "df = pd.DataFrame(preds)"
   ]
  },
  {
   "cell_type": "code",
   "execution_count": 40,
   "metadata": {
    "collapsed": true
   },
   "outputs": [],
   "source": [
    "df.columns = ['member_age']"
   ]
  },
  {
   "cell_type": "code",
   "execution_count": 41,
   "metadata": {
    "collapsed": true
   },
   "outputs": [],
   "source": [
    "df['member_age'] = map(int,df['member_age'])"
   ]
  },
  {
   "cell_type": "code",
   "execution_count": 42,
   "metadata": {
    "collapsed": false
   },
   "outputs": [
    {
     "data": {
      "text/plain": [
       "25    479161\n",
       "23      5671\n",
       "26      2412\n",
       "24      1059\n",
       "Name: member_age, dtype: int64"
      ]
     },
     "execution_count": 42,
     "metadata": {},
     "output_type": "execute_result"
    }
   ],
   "source": [
    "pd.value_counts(df['member_age'])"
   ]
  },
  {
   "cell_type": "code",
   "execution_count": 43,
   "metadata": {
    "collapsed": false
   },
   "outputs": [
    {
     "data": {
      "text/plain": [
       "pandas.core.series.Series"
      ]
     },
     "execution_count": 43,
     "metadata": {},
     "output_type": "execute_result"
    }
   ],
   "source": [
    "type(test_id)"
   ]
  },
  {
   "cell_type": "code",
   "execution_count": 44,
   "metadata": {
    "collapsed": true
   },
   "outputs": [],
   "source": [
    "df_y = pd.DataFrame(test_id)"
   ]
  },
  {
   "cell_type": "code",
   "execution_count": 45,
   "metadata": {
    "collapsed": false
   },
   "outputs": [],
   "source": [
    "age_predicted = pd.concat([df_y,df],axis=1)"
   ]
  },
  {
   "cell_type": "code",
   "execution_count": 46,
   "metadata": {
    "collapsed": true
   },
   "outputs": [],
   "source": [
    "age_predicted = age_predicted[age_predicted['member_age'].notnull()]"
   ]
  },
  {
   "cell_type": "markdown",
   "metadata": {},
   "source": [
    "## 最终预测了488303项"
   ]
  },
  {
   "cell_type": "code",
   "execution_count": 47,
   "metadata": {
    "collapsed": false
   },
   "outputs": [
    {
     "data": {
      "text/plain": [
       "(488303, 2)"
      ]
     },
     "execution_count": 47,
     "metadata": {},
     "output_type": "execute_result"
    }
   ],
   "source": [
    "age_predicted.shape"
   ]
  },
  {
   "cell_type": "code",
   "execution_count": 48,
   "metadata": {
    "collapsed": false
   },
   "outputs": [
    {
     "data": {
      "text/html": [
       "<div>\n",
       "<table border=\"1\" class=\"dataframe\">\n",
       "  <thead>\n",
       "    <tr style=\"text-align: right;\">\n",
       "      <th></th>\n",
       "      <th>customerid</th>\n",
       "      <th>member_age</th>\n",
       "    </tr>\n",
       "  </thead>\n",
       "  <tbody>\n",
       "    <tr>\n",
       "      <th>0</th>\n",
       "      <td>5792237</td>\n",
       "      <td>25</td>\n",
       "    </tr>\n",
       "    <tr>\n",
       "      <th>1</th>\n",
       "      <td>5792238</td>\n",
       "      <td>25</td>\n",
       "    </tr>\n",
       "    <tr>\n",
       "      <th>2</th>\n",
       "      <td>5792239</td>\n",
       "      <td>25</td>\n",
       "    </tr>\n",
       "    <tr>\n",
       "      <th>3</th>\n",
       "      <td>5792241</td>\n",
       "      <td>25</td>\n",
       "    </tr>\n",
       "    <tr>\n",
       "      <th>4</th>\n",
       "      <td>5792242</td>\n",
       "      <td>25</td>\n",
       "    </tr>\n",
       "  </tbody>\n",
       "</table>\n",
       "</div>"
      ],
      "text/plain": [
       "  customerid  member_age\n",
       "0    5792237          25\n",
       "1    5792238          25\n",
       "2    5792239          25\n",
       "3    5792241          25\n",
       "4    5792242          25"
      ]
     },
     "execution_count": 48,
     "metadata": {},
     "output_type": "execute_result"
    }
   ],
   "source": [
    "age_predicted.head()"
   ]
  },
  {
   "cell_type": "markdown",
   "metadata": {},
   "source": [
    "## 保存预测结果到csv"
   ]
  },
  {
   "cell_type": "code",
   "execution_count": 49,
   "metadata": {
    "collapsed": true
   },
   "outputs": [],
   "source": [
    "age_predicted.to_csv('E:/age_predicted.csv',index=False)"
   ]
  },
  {
   "cell_type": "code",
   "execution_count": null,
   "metadata": {
    "collapsed": true
   },
   "outputs": [],
   "source": []
  }
 ],
 "metadata": {
  "kernelspec": {
   "display_name": "Python 2",
   "language": "python",
   "name": "python2"
  },
  "language_info": {
   "codemirror_mode": {
    "name": "ipython",
    "version": 2
   },
   "file_extension": ".py",
   "mimetype": "text/x-python",
   "name": "python",
   "nbconvert_exporter": "python",
   "pygments_lexer": "ipython2",
   "version": "2.7.13"
  }
 },
 "nbformat": 4,
 "nbformat_minor": 0
}
