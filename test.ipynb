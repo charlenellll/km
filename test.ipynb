{
 "cells": [
  {
   "cell_type": "code",
   "execution_count": 2,
   "metadata": {
    "collapsed": false,
    "scrolled": true
   },
   "outputs": [],
   "source": [
    "import re\n",
    "import pandas as pd\n",
    "import numpy as np\n",
    "from impala.dbapi import connect\n",
    "from impala.util import as_pandas\n",
    "import pymysql.cursors\n",
    "from datetime import datetime\n",
    "\n",
    "# Global variables\n",
    "mysql_host = '172.21.1.151'\n",
    "mysql_port = 3306\n",
    "mysql_user = 'xli'\n",
    "mysql_password = '123456'\n",
    "mysql_db = 'kdwtemp2'\n",
    "mysql_charset = 'utf8mb4'\n",
    "\n",
    "def main():\n",
    "    #确保端口设置为HS2服务，而不是Beeswax服务。在Cloudera的管理集群中，HS2的默认端口是21050\n",
    "    conn = connect(host='172.21.1.120', port=21050, user='udms', database='kmi_month') \n",
    "    cur = conn.cursor()\n",
    "    #cur.execute('SHOW TABLES')\n",
    "    # print cur.fetchall()\n",
    "    cur.close()\n",
    "    conn.close()\n",
    "def easy_print(tname, records=10):\n",
    "    conn = connect(host='172.21.1.120', port=21050, user='udms', database='kmi_month') \n",
    "    cur = conn.cursor()     \n",
    "    \n",
    "    sql = 'SELECT * FROM ' + tname + ' LIMIT 10' \n",
    "    cur.execute(sql)\n",
    "    read_in = as_pandas(cur)    \n",
    "    cur.close()\n",
    "    conn.close()\n",
    "    \n",
    "    #print in a format\n",
    "    columns = read_in.columns.values\n",
    "    values = read_in.values\n",
    "    records = []\n",
    "    for v in values:\n",
    "        records.append(zip(columns, v))\n",
    "    \n",
    "    for ix,r in enumerate(records):\n",
    "        print('----------第%s条记录--------' % (ix+1))\n",
    "        for k, v in r:\n",
    "            print('%s: %s' % (k, v))\n",
    "\n",
    "def connect_Mysql(sql_columns_select,tname): #连接Mysql数据库\n",
    "    mysqlConnection = pymysql.connect(host=mysql_host,\n",
    "                                      port=mysql_port,\n",
    "                                      user=mysql_user,\n",
    "                                      password=mysql_password,\n",
    "                                      db=mysql_db,\n",
    "                                      charset=mysql_charset)\n",
    "                                      #cursorclass=pymysql.cursors.DictCursor)\n",
    "    try:\n",
    "        sql = 'SELECT '+ sql_columns_select + ' FROM '+ tname #+ ' LIMIT 100'\n",
    "        df = pd.read_sql(sql,mysqlConnection)\n",
    "        return df\n",
    "    except:\n",
    "        mysqlConnection.close()            \n",
    "\n",
    "def song_release_time(): #抽取出songid对应的歌曲发行时间\n",
    "    conn = connect(host='172.21.1.120', port=21050, user='udms', database='kmi_month') \n",
    "    cur = conn.cursor()\n",
    "    sql = \"\"\"\n",
    "    SELECT songid,releasetime FROM kdw_tbl_song_info\"\"\"\n",
    "    cur.execute(sql)\n",
    "    df = as_pandas(cur)\n",
    "    \"\"\"# 清洗掉不符合时间格式的数据行\n",
    "    pattern1 = re.compile(r'\\d\\d\\d\\d-\\d\\d-\\d\\d)\n",
    "    df = df[map(lambda x: re.match(pattern1,x)!=None,df['releasetime'])]\n",
    "    #提取出年份\n",
    "    df['releasetime']=pd.to_datetime(df['releasetime'], format='%Y-%m-%d')\n",
    "    df['year'] = [i.year for i in df['releasetime']]  \n",
    "    #df.to_csv(\"E:/raw_data.csv\")\"\"\"    \n",
    "    cur.close()\n",
    "    conn.close()  \n",
    "    return df\n",
    "\n",
    "def year_stage(data): #给年份分段\n",
    "    if data >= 2000:\n",
    "        return 5\n",
    "    elif data >= 1990 and data < 2000:\n",
    "        return 4\n",
    "    elif data >= 1980 and data < 1990:\n",
    "        return 3\n",
    "    elif data >= 1970 and data < 1980:\n",
    "        return 2\n",
    "    else:\n",
    "        return 1\n",
    "\n",
    "def age_srt(df): #通过歌曲release time判断发行时间年龄段\n",
    "    df['age_year'] = [year_stage(i) for i in df['year']]\n",
    "    return df   \n",
    "\n",
    "def read_play_cnt(): #抽取出用户点歌记录??并累加点歌次数\n",
    "    conn = connect(host='172.21.1.120', port=21050, user='udms', database='kmi_month') \n",
    "    cur = conn.cursor()\n",
    "    sql = \"\"\"\n",
    "    SELECT customerid,songid,playcount as song_play_cnt FROM kdw_tbl_song_menu_event_statics\"\"\"\n",
    "    cur.execute(sql)\n",
    "    df = as_pandas(cur)\n",
    "    #在思考要不要这里groupby\n",
    "    #后续需要与用户表做表连\n",
    "    cur.close()\n",
    "    conn.close()    \n",
    "    return df    \n",
    "\n",
    "def age_play_record(df1,df2):\n",
    "    # ？？如何从歌曲发行信息查到songid对应的年龄tag是一个问题\n",
    "    df = pd.merge(df1,df2,on='songid')\n",
    "    return df\n",
    "\n",
    "    \n",
    "def age_song_language():\n",
    "    df = connect_Mysql('SongID,LanguageType','kdw_tbl_song')\n",
    "    # 待思考如何从语言给权重 \n",
    "\n",
    "if __name__ == '__main__':\n",
    "    df_age_year = song_release_time()"
   ]
  },
  {
   "cell_type": "code",
   "execution_count": 6,
   "metadata": {
    "collapsed": false
   },
   "outputs": [
    {
     "data": {
      "text/plain": [
       "19815"
      ]
     },
     "execution_count": 6,
     "metadata": {},
     "output_type": "execute_result"
    }
   ],
   "source": [
    "list(df_age_year['releasetime']).index('1999-01-28;')"
   ]
  },
  {
   "cell_type": "code",
   "execution_count": null,
   "metadata": {
    "collapsed": true
   },
   "outputs": [],
   "source": []
  }
 ],
 "metadata": {
  "kernelspec": {
   "display_name": "Python 2",
   "language": "python",
   "name": "python2"
  },
  "language_info": {
   "codemirror_mode": {
    "name": "ipython",
    "version": 2
   },
   "file_extension": ".py",
   "mimetype": "text/x-python",
   "name": "python",
   "nbconvert_exporter": "python",
   "pygments_lexer": "ipython2",
   "version": "2.7.13"
  }
 },
 "nbformat": 4,
 "nbformat_minor": 0
}
